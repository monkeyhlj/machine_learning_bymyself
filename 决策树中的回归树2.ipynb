{
 "cells": [
  {
   "cell_type": "markdown",
   "id": "treated-retro",
   "metadata": {},
   "source": [
    "# 回归树（DecisionTreeRegressor）（波士顿房价数据）"
   ]
  },
  {
   "cell_type": "markdown",
   "id": "incorrect-subcommittee",
   "metadata": {},
   "source": [
    "## criterion"
   ]
  },
  {
   "cell_type": "markdown",
   "id": "partial-triple",
   "metadata": {},
   "source": [
    "回归树衡量分枝质量的指标，支持标准有三种："
   ]
  },
  {
   "cell_type": "markdown",
   "id": "latest-leone",
   "metadata": {},
   "source": [
    "1）“mse”，均方误差"
   ]
  },
  {
   "cell_type": "markdown",
   "id": "partial-wales",
   "metadata": {},
   "source": [
    "2）“friedman_mse”，费尔德曼均方误差"
   ]
  },
  {
   "cell_type": "markdown",
   "id": "respected-depression",
   "metadata": {},
   "source": [
    "3）“mae”，绝对平均误差"
   ]
  },
  {
   "cell_type": "markdown",
   "id": "relevant-colony",
   "metadata": {},
   "source": [
    "**在回归树中，MSE不只是我们的分枝质量衡量指标，也是我们最常用的衡量回归树质量的指标。**<br>\n",
    "**回归树的接口score返回的是R平方（决定系数=回归平方和/总平方和）（概率论中的回归平方和：回归平方和=总的平方和-残差平方和），并不是MSE。**<br>\n",
    "**注：** 虽然均方误差永远为正，但是sklearn中使用均方误差作为评判标准的时候，却是计算“负均方误差”。"
   ]
  },
  {
   "cell_type": "markdown",
   "id": "considerable-associate",
   "metadata": {},
   "source": [
    "## 交叉验证"
   ]
  },
  {
   "cell_type": "markdown",
   "id": "infinite-mills",
   "metadata": {},
   "source": [
    "交叉验证是用来观察模型稳定性的一种方法，我们将数据划分为n份，依次使用其中一份作为测试集，其他n-1份作为训练集，多次计算模型的精确性来评估模型的平均准确程度。训练集和测试集的划分会干扰模型的结果，因此用交叉验证n次的结果求出的平均值，是对模型效果的一个更好的度量。"
   ]
  },
  {
   "cell_type": "markdown",
   "id": "hidden-broadcasting",
   "metadata": {},
   "source": [
    "例如：k折交叉验证"
   ]
  },
  {
   "cell_type": "markdown",
   "id": "grateful-surfing",
   "metadata": {},
   "source": [
    "**简单看一看回归树是怎样工作的：**"
   ]
  },
  {
   "cell_type": "code",
   "execution_count": 2,
   "id": "revised-dynamics",
   "metadata": {},
   "outputs": [],
   "source": [
    "#交叉验证cross_val_score的用法\n",
    "from sklearn.datasets import load_boston #波士顿房价数据\n",
    "from sklearn.model_selection import cross_val_score\n",
    "from sklearn.tree import DecisionTreeRegressor"
   ]
  },
  {
   "cell_type": "code",
   "execution_count": 3,
   "id": "approximate-kentucky",
   "metadata": {},
   "outputs": [
    {
     "data": {
      "text/plain": [
       "array([[6.3200e-03, 1.8000e+01, 2.3100e+00, ..., 1.5300e+01, 3.9690e+02,\n",
       "        4.9800e+00],\n",
       "       [2.7310e-02, 0.0000e+00, 7.0700e+00, ..., 1.7800e+01, 3.9690e+02,\n",
       "        9.1400e+00],\n",
       "       [2.7290e-02, 0.0000e+00, 7.0700e+00, ..., 1.7800e+01, 3.9283e+02,\n",
       "        4.0300e+00],\n",
       "       ...,\n",
       "       [6.0760e-02, 0.0000e+00, 1.1930e+01, ..., 2.1000e+01, 3.9690e+02,\n",
       "        5.6400e+00],\n",
       "       [1.0959e-01, 0.0000e+00, 1.1930e+01, ..., 2.1000e+01, 3.9345e+02,\n",
       "        6.4800e+00],\n",
       "       [4.7410e-02, 0.0000e+00, 1.1930e+01, ..., 2.1000e+01, 3.9690e+02,\n",
       "        7.8800e+00]])"
      ]
     },
     "execution_count": 3,
     "metadata": {},
     "output_type": "execute_result"
    }
   ],
   "source": [
    "boston = load_boston()\n",
    "boston.data"
   ]
  },
  {
   "cell_type": "code",
   "execution_count": 6,
   "id": "satisfactory-destination",
   "metadata": {
    "collapsed": true
   },
   "outputs": [
    {
     "data": {
      "text/plain": [
       "array([24. , 21.6, 34.7, 33.4, 36.2, 28.7, 22.9, 27.1, 16.5, 18.9, 15. ,\n",
       "       18.9, 21.7, 20.4, 18.2, 19.9, 23.1, 17.5, 20.2, 18.2, 13.6, 19.6,\n",
       "       15.2, 14.5, 15.6, 13.9, 16.6, 14.8, 18.4, 21. , 12.7, 14.5, 13.2,\n",
       "       13.1, 13.5, 18.9, 20. , 21. , 24.7, 30.8, 34.9, 26.6, 25.3, 24.7,\n",
       "       21.2, 19.3, 20. , 16.6, 14.4, 19.4, 19.7, 20.5, 25. , 23.4, 18.9,\n",
       "       35.4, 24.7, 31.6, 23.3, 19.6, 18.7, 16. , 22.2, 25. , 33. , 23.5,\n",
       "       19.4, 22. , 17.4, 20.9, 24.2, 21.7, 22.8, 23.4, 24.1, 21.4, 20. ,\n",
       "       20.8, 21.2, 20.3, 28. , 23.9, 24.8, 22.9, 23.9, 26.6, 22.5, 22.2,\n",
       "       23.6, 28.7, 22.6, 22. , 22.9, 25. , 20.6, 28.4, 21.4, 38.7, 43.8,\n",
       "       33.2, 27.5, 26.5, 18.6, 19.3, 20.1, 19.5, 19.5, 20.4, 19.8, 19.4,\n",
       "       21.7, 22.8, 18.8, 18.7, 18.5, 18.3, 21.2, 19.2, 20.4, 19.3, 22. ,\n",
       "       20.3, 20.5, 17.3, 18.8, 21.4, 15.7, 16.2, 18. , 14.3, 19.2, 19.6,\n",
       "       23. , 18.4, 15.6, 18.1, 17.4, 17.1, 13.3, 17.8, 14. , 14.4, 13.4,\n",
       "       15.6, 11.8, 13.8, 15.6, 14.6, 17.8, 15.4, 21.5, 19.6, 15.3, 19.4,\n",
       "       17. , 15.6, 13.1, 41.3, 24.3, 23.3, 27. , 50. , 50. , 50. , 22.7,\n",
       "       25. , 50. , 23.8, 23.8, 22.3, 17.4, 19.1, 23.1, 23.6, 22.6, 29.4,\n",
       "       23.2, 24.6, 29.9, 37.2, 39.8, 36.2, 37.9, 32.5, 26.4, 29.6, 50. ,\n",
       "       32. , 29.8, 34.9, 37. , 30.5, 36.4, 31.1, 29.1, 50. , 33.3, 30.3,\n",
       "       34.6, 34.9, 32.9, 24.1, 42.3, 48.5, 50. , 22.6, 24.4, 22.5, 24.4,\n",
       "       20. , 21.7, 19.3, 22.4, 28.1, 23.7, 25. , 23.3, 28.7, 21.5, 23. ,\n",
       "       26.7, 21.7, 27.5, 30.1, 44.8, 50. , 37.6, 31.6, 46.7, 31.5, 24.3,\n",
       "       31.7, 41.7, 48.3, 29. , 24. , 25.1, 31.5, 23.7, 23.3, 22. , 20.1,\n",
       "       22.2, 23.7, 17.6, 18.5, 24.3, 20.5, 24.5, 26.2, 24.4, 24.8, 29.6,\n",
       "       42.8, 21.9, 20.9, 44. , 50. , 36. , 30.1, 33.8, 43.1, 48.8, 31. ,\n",
       "       36.5, 22.8, 30.7, 50. , 43.5, 20.7, 21.1, 25.2, 24.4, 35.2, 32.4,\n",
       "       32. , 33.2, 33.1, 29.1, 35.1, 45.4, 35.4, 46. , 50. , 32.2, 22. ,\n",
       "       20.1, 23.2, 22.3, 24.8, 28.5, 37.3, 27.9, 23.9, 21.7, 28.6, 27.1,\n",
       "       20.3, 22.5, 29. , 24.8, 22. , 26.4, 33.1, 36.1, 28.4, 33.4, 28.2,\n",
       "       22.8, 20.3, 16.1, 22.1, 19.4, 21.6, 23.8, 16.2, 17.8, 19.8, 23.1,\n",
       "       21. , 23.8, 23.1, 20.4, 18.5, 25. , 24.6, 23. , 22.2, 19.3, 22.6,\n",
       "       19.8, 17.1, 19.4, 22.2, 20.7, 21.1, 19.5, 18.5, 20.6, 19. , 18.7,\n",
       "       32.7, 16.5, 23.9, 31.2, 17.5, 17.2, 23.1, 24.5, 26.6, 22.9, 24.1,\n",
       "       18.6, 30.1, 18.2, 20.6, 17.8, 21.7, 22.7, 22.6, 25. , 19.9, 20.8,\n",
       "       16.8, 21.9, 27.5, 21.9, 23.1, 50. , 50. , 50. , 50. , 50. , 13.8,\n",
       "       13.8, 15. , 13.9, 13.3, 13.1, 10.2, 10.4, 10.9, 11.3, 12.3,  8.8,\n",
       "        7.2, 10.5,  7.4, 10.2, 11.5, 15.1, 23.2,  9.7, 13.8, 12.7, 13.1,\n",
       "       12.5,  8.5,  5. ,  6.3,  5.6,  7.2, 12.1,  8.3,  8.5,  5. , 11.9,\n",
       "       27.9, 17.2, 27.5, 15. , 17.2, 17.9, 16.3,  7. ,  7.2,  7.5, 10.4,\n",
       "        8.8,  8.4, 16.7, 14.2, 20.8, 13.4, 11.7,  8.3, 10.2, 10.9, 11. ,\n",
       "        9.5, 14.5, 14.1, 16.1, 14.3, 11.7, 13.4,  9.6,  8.7,  8.4, 12.8,\n",
       "       10.5, 17.1, 18.4, 15.4, 10.8, 11.8, 14.9, 12.6, 14.1, 13. , 13.4,\n",
       "       15.2, 16.1, 17.8, 14.9, 14.1, 12.7, 13.5, 14.9, 20. , 16.4, 17.7,\n",
       "       19.5, 20.2, 21.4, 19.9, 19. , 19.1, 19.1, 20.1, 19.9, 19.6, 23.2,\n",
       "       29.8, 13.8, 13.3, 16.7, 12. , 14.6, 21.4, 23. , 23.7, 25. , 21.8,\n",
       "       20.6, 21.2, 19.1, 20.6, 15.2,  7. ,  8.1, 13.6, 20.1, 21.8, 24.5,\n",
       "       23.1, 19.7, 18.3, 21.2, 17.5, 16.8, 22.4, 20.6, 23.9, 22. , 11.9])"
      ]
     },
     "execution_count": 6,
     "metadata": {},
     "output_type": "execute_result"
    }
   ],
   "source": [
    "boston.target"
   ]
  },
  {
   "cell_type": "code",
   "execution_count": 4,
   "id": "creative-plenty",
   "metadata": {},
   "outputs": [
    {
     "data": {
      "text/plain": [
       "array([-18.08941176, -10.61843137, -16.31843137, -44.97803922,\n",
       "       -17.12509804, -49.71509804, -12.9986    , -88.4514    ,\n",
       "       -55.7914    , -25.0816    ])"
      ]
     },
     "execution_count": 4,
     "metadata": {},
     "output_type": "execute_result"
    }
   ],
   "source": [
    "regressor = DecisionTreeRegressor(random_state=0) #实例化\n",
    "#交叉验证\n",
    "#五个参数（第一个参数：任何一个算法模型，第二个参数：完整的数据集（特征矩阵），\n",
    "#第三个参数：完整的标签，第四个参数：做10次或者说分为10份，\n",
    "#第五个参数：用scoring后面的值这个模型来衡量我的交叉验证法的结果、评估这个模型）\n",
    "cross_val_score(regressor,boston.data,boston.target,cv=10\n",
    "               ,scoring = \"neg_mean_squared_error\"\n",
    "               )"
   ]
  },
  {
   "cell_type": "markdown",
   "id": "banner-bottle",
   "metadata": {},
   "source": [
    "# 案例：一维回归的图像绘制"
   ]
  },
  {
   "cell_type": "markdown",
   "id": "photographic-coordinate",
   "metadata": {},
   "source": [
    "接下来在二维平面上来观察决策树是怎么拟合一条曲线的。我们用回归树来拟合正弦曲线，并且添加一些噪声来观察回归树的表现。"
   ]
  },
  {
   "cell_type": "markdown",
   "id": "sound-hypothesis",
   "metadata": {},
   "source": [
    "**1、导入需要的库**"
   ]
  },
  {
   "cell_type": "code",
   "execution_count": 5,
   "id": "regulation-wisconsin",
   "metadata": {},
   "outputs": [],
   "source": [
    "import numpy as np\n",
    "from sklearn.tree import DecisionTreeRegressor\n",
    "import matplotlib.pyplot as plt"
   ]
  },
  {
   "cell_type": "markdown",
   "id": "funny-luxembourg",
   "metadata": {},
   "source": [
    "**2、创建一条含有噪声的正弦曲线**"
   ]
  },
  {
   "cell_type": "markdown",
   "id": "gorgeous-bacon",
   "metadata": {},
   "source": [
    "在这一步，基本思路是：先创建一组随机的，分布在0-5上的横坐标的取值（x），然后将这一组值放到sin函数中去生成纵坐标的值（y），接着再到y上去添加噪声。全程会使用numpy库来生成这个正弦曲线。"
   ]
  },
  {
   "cell_type": "code",
   "execution_count": 6,
   "id": "manual-mention",
   "metadata": {},
   "outputs": [],
   "source": [
    "#用numpy来生成一个随机数种子，跟分类树中的random_state差不多\n",
    "rng = np.random.RandomState(1)\n",
    "#rng.rand(10)，生成0-1之间的10个数；rng.rand(2,3),生成2*3矩阵\n",
    "#为什么要生成80*1的二维矩阵，因为训练集和测试集在训练时不能传入一维数组\n",
    "#5*，，变成0-5之间的80个数\n",
    "#np.sort排序，axis=0，y轴列\n",
    "X = np.sort(5 * rng.rand(80,1),axis=0)"
   ]
  },
  {
   "cell_type": "code",
   "execution_count": 7,
   "id": "consolidated-baking",
   "metadata": {},
   "outputs": [],
   "source": [
    "#用numpy中的正弦函数,此时y也是（80,1）\n",
    "#ravel()降维，降维后(80,)\n",
    "y = np.sin(X).ravel()"
   ]
  },
  {
   "cell_type": "code",
   "execution_count": 8,
   "id": "every-personality",
   "metadata": {},
   "outputs": [
    {
     "data": {
      "text/plain": [
       "<matplotlib.collections.PathCollection at 0x22434e92ca0>"
      ]
     },
     "execution_count": 8,
     "metadata": {},
     "output_type": "execute_result"
    },
    {
     "data": {
      "image/png": "[encoded data removed]",
      "text/plain": [
       "<Figure size 432x288 with 1 Axes>"
      ]
     },
     "metadata": {
      "needs_background": "light"
     },
     "output_type": "display_data"
    }
   ],
   "source": [
    "#先看一下图像\n",
    "plt.figure()\n",
    "plt.scatter(X,y,s=20,edgecolor=\"black\",c=\"darkorange\",label=\"data\")"
   ]
  },
  {
   "cell_type": "code",
   "execution_count": 9,
   "id": "hybrid-advocacy",
   "metadata": {},
   "outputs": [
    {
     "data": {
      "text/plain": [
       "array([ 5.71874056e-04,  2.47178482e-01,  4.89635918e-01,  6.45696215e-01,\n",
       "        8.02397078e-01,  9.85824622e-01,  9.99977003e-01,  8.77830014e-01,\n",
       "        8.60400242e-01,  4.45838347e-01,  1.93830272e-01, -2.86826010e-01,\n",
       "       -4.43974821e-01, -7.20694771e-01, -9.48667092e-01, -9.97200340e-01])"
      ]
     },
     "execution_count": 9,
     "metadata": {},
     "output_type": "execute_result"
    }
   ],
   "source": [
    "y[::5]  #取出16个数  80/5=16"
   ]
  },
  {
   "cell_type": "code",
   "execution_count": 10,
   "id": "textile-weapon",
   "metadata": {},
   "outputs": [],
   "source": [
    "#加上噪声\n",
    "#y[行:列:步长]  y[::5]所有行所有列每5个取一个数，给这16个数随机的加上一个数\n",
    "#rng.rand(16)：0-1之间  0.5-rng.rand(16)：-0.5-0.5之间  3*：扩大一点噪声：-1.5-1.5之间\n",
    "y[::5] += 3 * (0.5 - rng.rand(16))"
   ]
  },
  {
   "cell_type": "code",
   "execution_count": 11,
   "id": "happy-brass",
   "metadata": {},
   "outputs": [
    {
     "data": {
      "text/plain": [
       "<matplotlib.collections.PathCollection at 0x22435f5d070>"
      ]
     },
     "execution_count": 11,
     "metadata": {},
     "output_type": "execute_result"
    },
    {
     "data": {
      "image/png": "[encoded data removed]",
      "text/plain": [
       "<Figure size 432x288 with 1 Axes>"
      ]
     },
     "metadata": {
      "needs_background": "light"
     },
     "output_type": "display_data"
    }
   ],
   "source": [
    "#再看一下加了噪声后的图像\n",
    "plt.figure()\n",
    "plt.scatter(X,y,s=20,edgecolor=\"black\",c=\"darkorange\",label=\"data\")"
   ]
  },
  {
   "cell_type": "code",
   "execution_count": 12,
   "id": "efficient-aging",
   "metadata": {},
   "outputs": [
    {
     "data": {
      "text/plain": [
       "(2,)"
      ]
     },
     "execution_count": 12,
     "metadata": {},
     "output_type": "execute_result"
    }
   ],
   "source": [
    "#np.random.rand(数组结构)，生成随机数组的函数\n",
    "#了解将为函数ravel()的用法（例子）\n",
    "np.random.random((2,1))\n",
    "np.random.random((2,1)).ravel()\n",
    "np.random.random((2,1)).ravel().shape"
   ]
  },
  {
   "cell_type": "markdown",
   "id": "spiritual-intermediate",
   "metadata": {},
   "source": [
    "**3、实例化&训练模型**"
   ]
  },
  {
   "cell_type": "code",
   "execution_count": 13,
   "id": "arbitrary-environment",
   "metadata": {},
   "outputs": [
    {
     "data": {
      "text/plain": [
       "DecisionTreeRegressor(max_depth=5)"
      ]
     },
     "execution_count": 13,
     "metadata": {},
     "output_type": "execute_result"
    }
   ],
   "source": [
    "#两个回归：测试在不同的拟合效果下回归树是怎样表现的\n",
    "regr_1 = DecisionTreeRegressor(max_depth=2)\n",
    "regr_2 = DecisionTreeRegressor(max_depth=5)\n",
    "regr_1.fit(X,y)\n",
    "regr_2.fit(X,y)"
   ]
  },
  {
   "cell_type": "markdown",
   "id": "grave-trick",
   "metadata": {},
   "source": [
    "**4、测试集导入模型，预测结果**"
   ]
  },
  {
   "cell_type": "code",
   "execution_count": 11,
   "id": "novel-monitor",
   "metadata": {
    "collapsed": true
   },
   "outputs": [
    {
     "data": {
      "text/plain": [
       "array([0.  , 0.01, 0.02, 0.03, 0.04, 0.05, 0.06, 0.07, 0.08, 0.09, 0.1 ,\n",
       "       0.11, 0.12, 0.13, 0.14, 0.15, 0.16, 0.17, 0.18, 0.19, 0.2 , 0.21,\n",
       "       0.22, 0.23, 0.24, 0.25, 0.26, 0.27, 0.28, 0.29, 0.3 , 0.31, 0.32,\n",
       "       0.33, 0.34, 0.35, 0.36, 0.37, 0.38, 0.39, 0.4 , 0.41, 0.42, 0.43,\n",
       "       0.44, 0.45, 0.46, 0.47, 0.48, 0.49, 0.5 , 0.51, 0.52, 0.53, 0.54,\n",
       "       0.55, 0.56, 0.57, 0.58, 0.59, 0.6 , 0.61, 0.62, 0.63, 0.64, 0.65,\n",
       "       0.66, 0.67, 0.68, 0.69, 0.7 , 0.71, 0.72, 0.73, 0.74, 0.75, 0.76,\n",
       "       0.77, 0.78, 0.79, 0.8 , 0.81, 0.82, 0.83, 0.84, 0.85, 0.86, 0.87,\n",
       "       0.88, 0.89, 0.9 , 0.91, 0.92, 0.93, 0.94, 0.95, 0.96, 0.97, 0.98,\n",
       "       0.99, 1.  , 1.01, 1.02, 1.03, 1.04, 1.05, 1.06, 1.07, 1.08, 1.09,\n",
       "       1.1 , 1.11, 1.12, 1.13, 1.14, 1.15, 1.16, 1.17, 1.18, 1.19, 1.2 ,\n",
       "       1.21, 1.22, 1.23, 1.24, 1.25, 1.26, 1.27, 1.28, 1.29, 1.3 , 1.31,\n",
       "       1.32, 1.33, 1.34, 1.35, 1.36, 1.37, 1.38, 1.39, 1.4 , 1.41, 1.42,\n",
       "       1.43, 1.44, 1.45, 1.46, 1.47, 1.48, 1.49, 1.5 , 1.51, 1.52, 1.53,\n",
       "       1.54, 1.55, 1.56, 1.57, 1.58, 1.59, 1.6 , 1.61, 1.62, 1.63, 1.64,\n",
       "       1.65, 1.66, 1.67, 1.68, 1.69, 1.7 , 1.71, 1.72, 1.73, 1.74, 1.75,\n",
       "       1.76, 1.77, 1.78, 1.79, 1.8 , 1.81, 1.82, 1.83, 1.84, 1.85, 1.86,\n",
       "       1.87, 1.88, 1.89, 1.9 , 1.91, 1.92, 1.93, 1.94, 1.95, 1.96, 1.97,\n",
       "       1.98, 1.99, 2.  , 2.01, 2.02, 2.03, 2.04, 2.05, 2.06, 2.07, 2.08,\n",
       "       2.09, 2.1 , 2.11, 2.12, 2.13, 2.14, 2.15, 2.16, 2.17, 2.18, 2.19,\n",
       "       2.2 , 2.21, 2.22, 2.23, 2.24, 2.25, 2.26, 2.27, 2.28, 2.29, 2.3 ,\n",
       "       2.31, 2.32, 2.33, 2.34, 2.35, 2.36, 2.37, 2.38, 2.39, 2.4 , 2.41,\n",
       "       2.42, 2.43, 2.44, 2.45, 2.46, 2.47, 2.48, 2.49, 2.5 , 2.51, 2.52,\n",
       "       2.53, 2.54, 2.55, 2.56, 2.57, 2.58, 2.59, 2.6 , 2.61, 2.62, 2.63,\n",
       "       2.64, 2.65, 2.66, 2.67, 2.68, 2.69, 2.7 , 2.71, 2.72, 2.73, 2.74,\n",
       "       2.75, 2.76, 2.77, 2.78, 2.79, 2.8 , 2.81, 2.82, 2.83, 2.84, 2.85,\n",
       "       2.86, 2.87, 2.88, 2.89, 2.9 , 2.91, 2.92, 2.93, 2.94, 2.95, 2.96,\n",
       "       2.97, 2.98, 2.99, 3.  , 3.01, 3.02, 3.03, 3.04, 3.05, 3.06, 3.07,\n",
       "       3.08, 3.09, 3.1 , 3.11, 3.12, 3.13, 3.14, 3.15, 3.16, 3.17, 3.18,\n",
       "       3.19, 3.2 , 3.21, 3.22, 3.23, 3.24, 3.25, 3.26, 3.27, 3.28, 3.29,\n",
       "       3.3 , 3.31, 3.32, 3.33, 3.34, 3.35, 3.36, 3.37, 3.38, 3.39, 3.4 ,\n",
       "       3.41, 3.42, 3.43, 3.44, 3.45, 3.46, 3.47, 3.48, 3.49, 3.5 , 3.51,\n",
       "       3.52, 3.53, 3.54, 3.55, 3.56, 3.57, 3.58, 3.59, 3.6 , 3.61, 3.62,\n",
       "       3.63, 3.64, 3.65, 3.66, 3.67, 3.68, 3.69, 3.7 , 3.71, 3.72, 3.73,\n",
       "       3.74, 3.75, 3.76, 3.77, 3.78, 3.79, 3.8 , 3.81, 3.82, 3.83, 3.84,\n",
       "       3.85, 3.86, 3.87, 3.88, 3.89, 3.9 , 3.91, 3.92, 3.93, 3.94, 3.95,\n",
       "       3.96, 3.97, 3.98, 3.99, 4.  , 4.01, 4.02, 4.03, 4.04, 4.05, 4.06,\n",
       "       4.07, 4.08, 4.09, 4.1 , 4.11, 4.12, 4.13, 4.14, 4.15, 4.16, 4.17,\n",
       "       4.18, 4.19, 4.2 , 4.21, 4.22, 4.23, 4.24, 4.25, 4.26, 4.27, 4.28,\n",
       "       4.29, 4.3 , 4.31, 4.32, 4.33, 4.34, 4.35, 4.36, 4.37, 4.38, 4.39,\n",
       "       4.4 , 4.41, 4.42, 4.43, 4.44, 4.45, 4.46, 4.47, 4.48, 4.49, 4.5 ,\n",
       "       4.51, 4.52, 4.53, 4.54, 4.55, 4.56, 4.57, 4.58, 4.59, 4.6 , 4.61,\n",
       "       4.62, 4.63, 4.64, 4.65, 4.66, 4.67, 4.68, 4.69, 4.7 , 4.71, 4.72,\n",
       "       4.73, 4.74, 4.75, 4.76, 4.77, 4.78, 4.79, 4.8 , 4.81, 4.82, 4.83,\n",
       "       4.84, 4.85, 4.86, 4.87, 4.88, 4.89, 4.9 , 4.91, 4.92, 4.93, 4.94,\n",
       "       4.95, 4.96, 4.97, 4.98, 4.99])"
      ]
     },
     "execution_count": 11,
     "metadata": {},
     "output_type": "execute_result"
    }
   ],
   "source": [
    "np.arange(0.0,5.0,0.01)"
   ]
  },
  {
   "cell_type": "code",
   "execution_count": 12,
   "id": "substantial-concern",
   "metadata": {},
   "outputs": [
    {
     "data": {
      "text/plain": [
       "array([1, 2, 3, 4])"
      ]
     },
     "execution_count": 12,
     "metadata": {},
     "output_type": "execute_result"
    }
   ],
   "source": [
    "#增维的例子：\n",
    "l = np.array([1,2,3,4])\n",
    "l"
   ]
  },
  {
   "cell_type": "code",
   "execution_count": 13,
   "id": "productive-exercise",
   "metadata": {},
   "outputs": [
    {
     "data": {
      "text/plain": [
       "(4,)"
      ]
     },
     "execution_count": 13,
     "metadata": {},
     "output_type": "execute_result"
    }
   ],
   "source": [
    "l.shape"
   ]
  },
  {
   "cell_type": "code",
   "execution_count": 14,
   "id": "fuzzy-company",
   "metadata": {},
   "outputs": [
    {
     "data": {
      "text/plain": [
       "array([[1],\n",
       "       [2],\n",
       "       [3],\n",
       "       [4]])"
      ]
     },
     "execution_count": 14,
     "metadata": {},
     "output_type": "execute_result"
    }
   ],
   "source": [
    "l[:,np.newaxis] #判断一维二维：数方括号"
   ]
  },
  {
   "cell_type": "code",
   "execution_count": 18,
   "id": "overall-taxation",
   "metadata": {},
   "outputs": [
    {
     "data": {
      "text/plain": [
       "(4, 1)"
      ]
     },
     "execution_count": 18,
     "metadata": {},
     "output_type": "execute_result"
    }
   ],
   "source": [
    "l[:,np.newaxis].shape"
   ]
  },
  {
   "cell_type": "code",
   "execution_count": 19,
   "id": "connected-monster",
   "metadata": {},
   "outputs": [
    {
     "data": {
      "text/plain": [
       "array([[1, 2, 3, 4]])"
      ]
     },
     "execution_count": 19,
     "metadata": {},
     "output_type": "execute_result"
    }
   ],
   "source": [
    "l[np.newaxis,:]"
   ]
  },
  {
   "cell_type": "code",
   "execution_count": 17,
   "id": "contained-roman",
   "metadata": {},
   "outputs": [
    {
     "data": {
      "text/plain": [
       "(1, 4)"
      ]
     },
     "execution_count": 17,
     "metadata": {},
     "output_type": "execute_result"
    }
   ],
   "source": [
    "l[np.newaxis,:].shape"
   ]
  },
  {
   "cell_type": "code",
   "execution_count": 14,
   "id": "rising-democrat",
   "metadata": {
    "collapsed": true
   },
   "outputs": [
    {
     "data": {
      "text/plain": [
       "array([[0.  ],\n",
       "       [0.01],\n",
       "       [0.02],\n",
       "       [0.03],\n",
       "       [0.04],\n",
       "       [0.05],\n",
       "       [0.06],\n",
       "       [0.07],\n",
       "       [0.08],\n",
       "       [0.09],\n",
       "       [0.1 ],\n",
       "       [0.11],\n",
       "       [0.12],\n",
       "       [0.13],\n",
       "       [0.14],\n",
       "       [0.15],\n",
       "       [0.16],\n",
       "       [0.17],\n",
       "       [0.18],\n",
       "       [0.19],\n",
       "       [0.2 ],\n",
       "       [0.21],\n",
       "       [0.22],\n",
       "       [0.23],\n",
       "       [0.24],\n",
       "       [0.25],\n",
       "       [0.26],\n",
       "       [0.27],\n",
       "       [0.28],\n",
       "       [0.29],\n",
       "       [0.3 ],\n",
       "       [0.31],\n",
       "       [0.32],\n",
       "       [0.33],\n",
       "       [0.34],\n",
       "       [0.35],\n",
       "       [0.36],\n",
       "       [0.37],\n",
       "       [0.38],\n",
       "       [0.39],\n",
       "       [0.4 ],\n",
       "       [0.41],\n",
       "       [0.42],\n",
       "       [0.43],\n",
       "       [0.44],\n",
       "       [0.45],\n",
       "       [0.46],\n",
       "       [0.47],\n",
       "       [0.48],\n",
       "       [0.49],\n",
       "       [0.5 ],\n",
       "       [0.51],\n",
       "       [0.52],\n",
       "       [0.53],\n",
       "       [0.54],\n",
       "       [0.55],\n",
       "       [0.56],\n",
       "       [0.57],\n",
       "       [0.58],\n",
       "       [0.59],\n",
       "       [0.6 ],\n",
       "       [0.61],\n",
       "       [0.62],\n",
       "       [0.63],\n",
       "       [0.64],\n",
       "       [0.65],\n",
       "       [0.66],\n",
       "       [0.67],\n",
       "       [0.68],\n",
       "       [0.69],\n",
       "       [0.7 ],\n",
       "       [0.71],\n",
       "       [0.72],\n",
       "       [0.73],\n",
       "       [0.74],\n",
       "       [0.75],\n",
       "       [0.76],\n",
       "       [0.77],\n",
       "       [0.78],\n",
       "       [0.79],\n",
       "       [0.8 ],\n",
       "       [0.81],\n",
       "       [0.82],\n",
       "       [0.83],\n",
       "       [0.84],\n",
       "       [0.85],\n",
       "       [0.86],\n",
       "       [0.87],\n",
       "       [0.88],\n",
       "       [0.89],\n",
       "       [0.9 ],\n",
       "       [0.91],\n",
       "       [0.92],\n",
       "       [0.93],\n",
       "       [0.94],\n",
       "       [0.95],\n",
       "       [0.96],\n",
       "       [0.97],\n",
       "       [0.98],\n",
       "       [0.99],\n",
       "       [1.  ],\n",
       "       [1.01],\n",
       "       [1.02],\n",
       "       [1.03],\n",
       "       [1.04],\n",
       "       [1.05],\n",
       "       [1.06],\n",
       "       [1.07],\n",
       "       [1.08],\n",
       "       [1.09],\n",
       "       [1.1 ],\n",
       "       [1.11],\n",
       "       [1.12],\n",
       "       [1.13],\n",
       "       [1.14],\n",
       "       [1.15],\n",
       "       [1.16],\n",
       "       [1.17],\n",
       "       [1.18],\n",
       "       [1.19],\n",
       "       [1.2 ],\n",
       "       [1.21],\n",
       "       [1.22],\n",
       "       [1.23],\n",
       "       [1.24],\n",
       "       [1.25],\n",
       "       [1.26],\n",
       "       [1.27],\n",
       "       [1.28],\n",
       "       [1.29],\n",
       "       [1.3 ],\n",
       "       [1.31],\n",
       "       [1.32],\n",
       "       [1.33],\n",
       "       [1.34],\n",
       "       [1.35],\n",
       "       [1.36],\n",
       "       [1.37],\n",
       "       [1.38],\n",
       "       [1.39],\n",
       "       [1.4 ],\n",
       "       [1.41],\n",
       "       [1.42],\n",
       "       [1.43],\n",
       "       [1.44],\n",
       "       [1.45],\n",
       "       [1.46],\n",
       "       [1.47],\n",
       "       [1.48],\n",
       "       [1.49],\n",
       "       [1.5 ],\n",
       "       [1.51],\n",
       "       [1.52],\n",
       "       [1.53],\n",
       "       [1.54],\n",
       "       [1.55],\n",
       "       [1.56],\n",
       "       [1.57],\n",
       "       [1.58],\n",
       "       [1.59],\n",
       "       [1.6 ],\n",
       "       [1.61],\n",
       "       [1.62],\n",
       "       [1.63],\n",
       "       [1.64],\n",
       "       [1.65],\n",
       "       [1.66],\n",
       "       [1.67],\n",
       "       [1.68],\n",
       "       [1.69],\n",
       "       [1.7 ],\n",
       "       [1.71],\n",
       "       [1.72],\n",
       "       [1.73],\n",
       "       [1.74],\n",
       "       [1.75],\n",
       "       [1.76],\n",
       "       [1.77],\n",
       "       [1.78],\n",
       "       [1.79],\n",
       "       [1.8 ],\n",
       "       [1.81],\n",
       "       [1.82],\n",
       "       [1.83],\n",
       "       [1.84],\n",
       "       [1.85],\n",
       "       [1.86],\n",
       "       [1.87],\n",
       "       [1.88],\n",
       "       [1.89],\n",
       "       [1.9 ],\n",
       "       [1.91],\n",
       "       [1.92],\n",
       "       [1.93],\n",
       "       [1.94],\n",
       "       [1.95],\n",
       "       [1.96],\n",
       "       [1.97],\n",
       "       [1.98],\n",
       "       [1.99],\n",
       "       [2.  ],\n",
       "       [2.01],\n",
       "       [2.02],\n",
       "       [2.03],\n",
       "       [2.04],\n",
       "       [2.05],\n",
       "       [2.06],\n",
       "       [2.07],\n",
       "       [2.08],\n",
       "       [2.09],\n",
       "       [2.1 ],\n",
       "       [2.11],\n",
       "       [2.12],\n",
       "       [2.13],\n",
       "       [2.14],\n",
       "       [2.15],\n",
       "       [2.16],\n",
       "       [2.17],\n",
       "       [2.18],\n",
       "       [2.19],\n",
       "       [2.2 ],\n",
       "       [2.21],\n",
       "       [2.22],\n",
       "       [2.23],\n",
       "       [2.24],\n",
       "       [2.25],\n",
       "       [2.26],\n",
       "       [2.27],\n",
       "       [2.28],\n",
       "       [2.29],\n",
       "       [2.3 ],\n",
       "       [2.31],\n",
       "       [2.32],\n",
       "       [2.33],\n",
       "       [2.34],\n",
       "       [2.35],\n",
       "       [2.36],\n",
       "       [2.37],\n",
       "       [2.38],\n",
       "       [2.39],\n",
       "       [2.4 ],\n",
       "       [2.41],\n",
       "       [2.42],\n",
       "       [2.43],\n",
       "       [2.44],\n",
       "       [2.45],\n",
       "       [2.46],\n",
       "       [2.47],\n",
       "       [2.48],\n",
       "       [2.49],\n",
       "       [2.5 ],\n",
       "       [2.51],\n",
       "       [2.52],\n",
       "       [2.53],\n",
       "       [2.54],\n",
       "       [2.55],\n",
       "       [2.56],\n",
       "       [2.57],\n",
       "       [2.58],\n",
       "       [2.59],\n",
       "       [2.6 ],\n",
       "       [2.61],\n",
       "       [2.62],\n",
       "       [2.63],\n",
       "       [2.64],\n",
       "       [2.65],\n",
       "       [2.66],\n",
       "       [2.67],\n",
       "       [2.68],\n",
       "       [2.69],\n",
       "       [2.7 ],\n",
       "       [2.71],\n",
       "       [2.72],\n",
       "       [2.73],\n",
       "       [2.74],\n",
       "       [2.75],\n",
       "       [2.76],\n",
       "       [2.77],\n",
       "       [2.78],\n",
       "       [2.79],\n",
       "       [2.8 ],\n",
       "       [2.81],\n",
       "       [2.82],\n",
       "       [2.83],\n",
       "       [2.84],\n",
       "       [2.85],\n",
       "       [2.86],\n",
       "       [2.87],\n",
       "       [2.88],\n",
       "       [2.89],\n",
       "       [2.9 ],\n",
       "       [2.91],\n",
       "       [2.92],\n",
       "       [2.93],\n",
       "       [2.94],\n",
       "       [2.95],\n",
       "       [2.96],\n",
       "       [2.97],\n",
       "       [2.98],\n",
       "       [2.99],\n",
       "       [3.  ],\n",
       "       [3.01],\n",
       "       [3.02],\n",
       "       [3.03],\n",
       "       [3.04],\n",
       "       [3.05],\n",
       "       [3.06],\n",
       "       [3.07],\n",
       "       [3.08],\n",
       "       [3.09],\n",
       "       [3.1 ],\n",
       "       [3.11],\n",
       "       [3.12],\n",
       "       [3.13],\n",
       "       [3.14],\n",
       "       [3.15],\n",
       "       [3.16],\n",
       "       [3.17],\n",
       "       [3.18],\n",
       "       [3.19],\n",
       "       [3.2 ],\n",
       "       [3.21],\n",
       "       [3.22],\n",
       "       [3.23],\n",
       "       [3.24],\n",
       "       [3.25],\n",
       "       [3.26],\n",
       "       [3.27],\n",
       "       [3.28],\n",
       "       [3.29],\n",
       "       [3.3 ],\n",
       "       [3.31],\n",
       "       [3.32],\n",
       "       [3.33],\n",
       "       [3.34],\n",
       "       [3.35],\n",
       "       [3.36],\n",
       "       [3.37],\n",
       "       [3.38],\n",
       "       [3.39],\n",
       "       [3.4 ],\n",
       "       [3.41],\n",
       "       [3.42],\n",
       "       [3.43],\n",
       "       [3.44],\n",
       "       [3.45],\n",
       "       [3.46],\n",
       "       [3.47],\n",
       "       [3.48],\n",
       "       [3.49],\n",
       "       [3.5 ],\n",
       "       [3.51],\n",
       "       [3.52],\n",
       "       [3.53],\n",
       "       [3.54],\n",
       "       [3.55],\n",
       "       [3.56],\n",
       "       [3.57],\n",
       "       [3.58],\n",
       "       [3.59],\n",
       "       [3.6 ],\n",
       "       [3.61],\n",
       "       [3.62],\n",
       "       [3.63],\n",
       "       [3.64],\n",
       "       [3.65],\n",
       "       [3.66],\n",
       "       [3.67],\n",
       "       [3.68],\n",
       "       [3.69],\n",
       "       [3.7 ],\n",
       "       [3.71],\n",
       "       [3.72],\n",
       "       [3.73],\n",
       "       [3.74],\n",
       "       [3.75],\n",
       "       [3.76],\n",
       "       [3.77],\n",
       "       [3.78],\n",
       "       [3.79],\n",
       "       [3.8 ],\n",
       "       [3.81],\n",
       "       [3.82],\n",
       "       [3.83],\n",
       "       [3.84],\n",
       "       [3.85],\n",
       "       [3.86],\n",
       "       [3.87],\n",
       "       [3.88],\n",
       "       [3.89],\n",
       "       [3.9 ],\n",
       "       [3.91],\n",
       "       [3.92],\n",
       "       [3.93],\n",
       "       [3.94],\n",
       "       [3.95],\n",
       "       [3.96],\n",
       "       [3.97],\n",
       "       [3.98],\n",
       "       [3.99],\n",
       "       [4.  ],\n",
       "       [4.01],\n",
       "       [4.02],\n",
       "       [4.03],\n",
       "       [4.04],\n",
       "       [4.05],\n",
       "       [4.06],\n",
       "       [4.07],\n",
       "       [4.08],\n",
       "       [4.09],\n",
       "       [4.1 ],\n",
       "       [4.11],\n",
       "       [4.12],\n",
       "       [4.13],\n",
       "       [4.14],\n",
       "       [4.15],\n",
       "       [4.16],\n",
       "       [4.17],\n",
       "       [4.18],\n",
       "       [4.19],\n",
       "       [4.2 ],\n",
       "       [4.21],\n",
       "       [4.22],\n",
       "       [4.23],\n",
       "       [4.24],\n",
       "       [4.25],\n",
       "       [4.26],\n",
       "       [4.27],\n",
       "       [4.28],\n",
       "       [4.29],\n",
       "       [4.3 ],\n",
       "       [4.31],\n",
       "       [4.32],\n",
       "       [4.33],\n",
       "       [4.34],\n",
       "       [4.35],\n",
       "       [4.36],\n",
       "       [4.37],\n",
       "       [4.38],\n",
       "       [4.39],\n",
       "       [4.4 ],\n",
       "       [4.41],\n",
       "       [4.42],\n",
       "       [4.43],\n",
       "       [4.44],\n",
       "       [4.45],\n",
       "       [4.46],\n",
       "       [4.47],\n",
       "       [4.48],\n",
       "       [4.49],\n",
       "       [4.5 ],\n",
       "       [4.51],\n",
       "       [4.52],\n",
       "       [4.53],\n",
       "       [4.54],\n",
       "       [4.55],\n",
       "       [4.56],\n",
       "       [4.57],\n",
       "       [4.58],\n",
       "       [4.59],\n",
       "       [4.6 ],\n",
       "       [4.61],\n",
       "       [4.62],\n",
       "       [4.63],\n",
       "       [4.64],\n",
       "       [4.65],\n",
       "       [4.66],\n",
       "       [4.67],\n",
       "       [4.68],\n",
       "       [4.69],\n",
       "       [4.7 ],\n",
       "       [4.71],\n",
       "       [4.72],\n",
       "       [4.73],\n",
       "       [4.74],\n",
       "       [4.75],\n",
       "       [4.76],\n",
       "       [4.77],\n",
       "       [4.78],\n",
       "       [4.79],\n",
       "       [4.8 ],\n",
       "       [4.81],\n",
       "       [4.82],\n",
       "       [4.83],\n",
       "       [4.84],\n",
       "       [4.85],\n",
       "       [4.86],\n",
       "       [4.87],\n",
       "       [4.88],\n",
       "       [4.89],\n",
       "       [4.9 ],\n",
       "       [4.91],\n",
       "       [4.92],\n",
       "       [4.93],\n",
       "       [4.94],\n",
       "       [4.95],\n",
       "       [4.96],\n",
       "       [4.97],\n",
       "       [4.98],\n",
       "       [4.99]])"
      ]
     },
     "execution_count": 14,
     "metadata": {},
     "output_type": "execute_result"
    }
   ],
   "source": [
    "#np.arange(开始点，结束点，步长) []后面是一种增维的用法（见上例子）\n",
    "X_test = np.arange(0.0,5.0,0.01)[:,np.newaxis]\n",
    "X_test"
   ]
  },
  {
   "cell_type": "code",
   "execution_count": 15,
   "id": "african-trout",
   "metadata": {},
   "outputs": [],
   "source": [
    "#predict返回预测结果\n",
    "y_1=regr_1.predict(X_test)\n",
    "y_2=regr_2.predict(X_test)"
   ]
  },
  {
   "cell_type": "code",
   "execution_count": 18,
   "id": "after-engineering",
   "metadata": {},
   "outputs": [
    {
     "data": {
      "text/plain": [
       "0.8236028966126029"
      ]
     },
     "execution_count": 18,
     "metadata": {},
     "output_type": "execute_result"
    }
   ],
   "source": [
    "regr_1.score(X_test,y_2)"
   ]
  },
  {
   "cell_type": "code",
   "execution_count": 24,
   "id": "express-yesterday",
   "metadata": {
    "collapsed": true
   },
   "outputs": [
    {
     "data": {
      "text/plain": [
       "array([ 0.05236068,  0.05236068,  0.05236068,  0.05236068,  0.05236068,\n",
       "        0.05236068,  0.05236068,  0.05236068,  0.05236068,  0.05236068,\n",
       "        0.05236068,  0.05236068,  0.05236068,  0.05236068,  0.05236068,\n",
       "        0.05236068,  0.05236068,  0.05236068,  0.05236068,  0.05236068,\n",
       "        0.05236068,  0.05236068,  0.05236068,  0.05236068,  0.05236068,\n",
       "        0.05236068,  0.05236068,  0.05236068,  0.05236068,  0.05236068,\n",
       "        0.05236068,  0.05236068,  0.05236068,  0.05236068,  0.05236068,\n",
       "        0.05236068,  0.05236068,  0.05236068,  0.05236068,  0.05236068,\n",
       "        0.05236068,  0.05236068,  0.05236068,  0.05236068,  0.05236068,\n",
       "        0.05236068,  0.05236068,  0.05236068,  0.05236068,  0.05236068,\n",
       "        0.05236068,  0.05236068,  0.71382568,  0.71382568,  0.71382568,\n",
       "        0.71382568,  0.71382568,  0.71382568,  0.71382568,  0.71382568,\n",
       "        0.71382568,  0.71382568,  0.71382568,  0.71382568,  0.71382568,\n",
       "        0.71382568,  0.71382568,  0.71382568,  0.71382568,  0.71382568,\n",
       "        0.71382568,  0.71382568,  0.71382568,  0.71382568,  0.71382568,\n",
       "        0.71382568,  0.71382568,  0.71382568,  0.71382568,  0.71382568,\n",
       "        0.71382568,  0.71382568,  0.71382568,  0.71382568,  0.71382568,\n",
       "        0.71382568,  0.71382568,  0.71382568,  0.71382568,  0.71382568,\n",
       "        0.71382568,  0.71382568,  0.71382568,  0.71382568,  0.71382568,\n",
       "        0.71382568,  0.71382568,  0.71382568,  0.71382568,  0.71382568,\n",
       "        0.71382568,  0.71382568,  0.71382568,  0.71382568,  0.71382568,\n",
       "        0.71382568,  0.71382568,  0.71382568,  0.71382568,  0.71382568,\n",
       "        0.71382568,  0.71382568,  0.71382568,  0.71382568,  0.71382568,\n",
       "        0.71382568,  0.71382568,  0.71382568,  0.71382568,  0.71382568,\n",
       "        0.71382568,  0.71382568,  0.71382568,  0.71382568,  0.71382568,\n",
       "        0.71382568,  0.71382568,  0.71382568,  0.71382568,  0.71382568,\n",
       "        0.71382568,  0.71382568,  0.71382568,  0.71382568,  0.71382568,\n",
       "        0.71382568,  0.71382568,  0.71382568,  0.71382568,  0.71382568,\n",
       "        0.71382568,  0.71382568,  0.71382568,  0.71382568,  0.71382568,\n",
       "        0.71382568,  0.71382568,  0.71382568,  0.71382568,  0.71382568,\n",
       "        0.71382568,  0.71382568,  0.71382568,  0.71382568,  0.71382568,\n",
       "        0.71382568,  0.71382568,  0.71382568,  0.71382568,  0.71382568,\n",
       "        0.71382568,  0.71382568,  0.71382568,  0.71382568,  0.71382568,\n",
       "        0.71382568,  0.71382568,  0.71382568,  0.71382568,  0.71382568,\n",
       "        0.71382568,  0.71382568,  0.71382568,  0.71382568,  0.71382568,\n",
       "        0.71382568,  0.71382568,  0.71382568,  0.71382568,  0.71382568,\n",
       "        0.71382568,  0.71382568,  0.71382568,  0.71382568,  0.71382568,\n",
       "        0.71382568,  0.71382568,  0.71382568,  0.71382568,  0.71382568,\n",
       "        0.71382568,  0.71382568,  0.71382568,  0.71382568,  0.71382568,\n",
       "        0.71382568,  0.71382568,  0.71382568,  0.71382568,  0.71382568,\n",
       "        0.71382568,  0.71382568,  0.71382568,  0.71382568,  0.71382568,\n",
       "        0.71382568,  0.71382568,  0.71382568,  0.71382568,  0.71382568,\n",
       "        0.71382568,  0.71382568,  0.71382568,  0.71382568,  0.71382568,\n",
       "        0.71382568,  0.71382568,  0.71382568,  0.71382568,  0.71382568,\n",
       "        0.71382568,  0.71382568,  0.71382568,  0.71382568,  0.71382568,\n",
       "        0.71382568,  0.71382568,  0.71382568,  0.71382568,  0.71382568,\n",
       "        0.71382568,  0.71382568,  0.71382568,  0.71382568,  0.71382568,\n",
       "        0.71382568,  0.71382568,  0.71382568,  0.71382568,  0.71382568,\n",
       "        0.71382568,  0.71382568,  0.71382568,  0.71382568,  0.71382568,\n",
       "        0.71382568,  0.71382568,  0.71382568,  0.71382568,  0.71382568,\n",
       "        0.71382568,  0.71382568,  0.71382568,  0.71382568,  0.71382568,\n",
       "        0.71382568,  0.71382568,  0.71382568,  0.71382568,  0.71382568,\n",
       "        0.71382568,  0.71382568,  0.71382568,  0.71382568,  0.71382568,\n",
       "        0.71382568,  0.71382568,  0.71382568,  0.71382568,  0.71382568,\n",
       "        0.71382568,  0.71382568,  0.71382568,  0.71382568,  0.71382568,\n",
       "        0.71382568,  0.71382568,  0.71382568,  0.71382568,  0.71382568,\n",
       "        0.71382568,  0.71382568,  0.71382568,  0.71382568,  0.71382568,\n",
       "        0.71382568,  0.71382568,  0.71382568,  0.71382568,  0.71382568,\n",
       "        0.71382568,  0.71382568,  0.71382568,  0.71382568,  0.71382568,\n",
       "        0.71382568,  0.71382568,  0.71382568,  0.71382568,  0.71382568,\n",
       "        0.71382568,  0.71382568,  0.71382568,  0.71382568,  0.71382568,\n",
       "        0.71382568,  0.71382568,  0.71382568,  0.71382568,  0.71382568,\n",
       "        0.71382568,  0.71382568,  0.71382568,  0.71382568, -0.45190264,\n",
       "       -0.45190264, -0.45190264, -0.45190264, -0.45190264, -0.45190264,\n",
       "       -0.45190264, -0.45190264, -0.45190264, -0.45190264, -0.45190264,\n",
       "       -0.45190264, -0.45190264, -0.45190264, -0.45190264, -0.45190264,\n",
       "       -0.45190264, -0.45190264, -0.45190264, -0.45190264, -0.45190264,\n",
       "       -0.45190264, -0.45190264, -0.45190264, -0.45190264, -0.45190264,\n",
       "       -0.45190264, -0.45190264, -0.45190264, -0.45190264, -0.45190264,\n",
       "       -0.45190264, -0.45190264, -0.45190264, -0.45190264, -0.45190264,\n",
       "       -0.45190264, -0.45190264, -0.45190264, -0.45190264, -0.45190264,\n",
       "       -0.45190264, -0.45190264, -0.45190264, -0.45190264, -0.45190264,\n",
       "       -0.45190264, -0.45190264, -0.45190264, -0.45190264, -0.45190264,\n",
       "       -0.45190264, -0.45190264, -0.45190264, -0.45190264, -0.45190264,\n",
       "       -0.45190264, -0.45190264, -0.45190264, -0.45190264, -0.45190264,\n",
       "       -0.45190264, -0.45190264, -0.45190264, -0.45190264, -0.45190264,\n",
       "       -0.45190264, -0.45190264, -0.45190264, -0.45190264, -0.45190264,\n",
       "       -0.45190264, -0.86864256, -0.86864256, -0.86864256, -0.86864256,\n",
       "       -0.86864256, -0.86864256, -0.86864256, -0.86864256, -0.86864256,\n",
       "       -0.86864256, -0.86864256, -0.86864256, -0.86864256, -0.86864256,\n",
       "       -0.86864256, -0.86864256, -0.86864256, -0.86864256, -0.86864256,\n",
       "       -0.86864256, -0.86864256, -0.86864256, -0.86864256, -0.86864256,\n",
       "       -0.86864256, -0.86864256, -0.86864256, -0.86864256, -0.86864256,\n",
       "       -0.86864256, -0.86864256, -0.86864256, -0.86864256, -0.86864256,\n",
       "       -0.86864256, -0.86864256, -0.86864256, -0.86864256, -0.86864256,\n",
       "       -0.86864256, -0.86864256, -0.86864256, -0.86864256, -0.86864256,\n",
       "       -0.86864256, -0.86864256, -0.86864256, -0.86864256, -0.86864256,\n",
       "       -0.86864256, -0.86864256, -0.86864256, -0.86864256, -0.86864256,\n",
       "       -0.86864256, -0.86864256, -0.86864256, -0.86864256, -0.86864256,\n",
       "       -0.86864256, -0.86864256, -0.86864256, -0.86864256, -0.86864256,\n",
       "       -0.86864256, -0.86864256, -0.86864256, -0.86864256, -0.86864256,\n",
       "       -0.86864256, -0.86864256, -0.86864256, -0.86864256, -0.86864256,\n",
       "       -0.86864256, -0.86864256, -0.86864256, -0.86864256, -0.86864256,\n",
       "       -0.86864256, -0.86864256, -0.86864256, -0.86864256, -0.86864256,\n",
       "       -0.86864256, -0.86864256, -0.86864256, -0.86864256, -0.86864256,\n",
       "       -0.86864256, -0.86864256, -0.86864256, -0.86864256, -0.86864256,\n",
       "       -0.86864256, -0.86864256, -0.86864256, -0.86864256, -0.86864256,\n",
       "       -0.86864256, -0.86864256, -0.86864256, -0.86864256, -0.86864256,\n",
       "       -0.86864256, -0.86864256, -0.86864256, -0.86864256, -0.86864256,\n",
       "       -0.86864256, -0.86864256, -0.86864256, -0.86864256, -0.86864256])"
      ]
     },
     "execution_count": 24,
     "metadata": {},
     "output_type": "execute_result"
    }
   ],
   "source": [
    "y_1"
   ]
  },
  {
   "cell_type": "code",
   "execution_count": 19,
   "id": "hybrid-mistake",
   "metadata": {},
   "outputs": [
    {
     "data": {
      "image/png": "[encoded data removed]",
      "text/plain": [
       "<Figure size 432x288 with 1 Axes>"
      ]
     },
     "metadata": {
      "needs_background": "light"
     },
     "output_type": "display_data"
    }
   ],
   "source": [
    "#绘制图像\n",
    "plt.figure()\n",
    "plt.scatter(X,y,s=20,edgecolor=\"black\",c=\"darkorange\",label=\"data\")\n",
    "plt.plot(X_test,y_1,color=\"cornflowerblue\",label=\"max_depth=2\",linewidth=2)\n",
    "plt.plot(X_test,y_2,color=\"yellowgreen\",label=\"max_depth=5\",linewidth=2)\n",
    "plt.xlabel(\"data\")\n",
    "plt.ylabel(\"target\")\n",
    "plt.title(\"Decision Tree Regression\")\n",
    "plt.legend()\n",
    "plt.show()"
   ]
  },
  {
   "cell_type": "markdown",
   "id": "hungarian-feelings",
   "metadata": {},
   "source": [
    "可以看出绿色的线，最大深度为5，有一些过拟合了，蓝色的线基本上是跟着正弦曲线走的。"
   ]
  },
  {
   "cell_type": "code",
   "execution_count": null,
   "id": "improving-black",
   "metadata": {},
   "outputs": [],
   "source": []
  }
 ],
 "metadata": {
  "kernelspec": {
   "display_name": "Python 3",
   "language": "python",
   "name": "python3"
  },
  "language_info": {
   "codemirror_mode": {
    "name": "ipython",
    "version": 3
   },
   "file_extension": ".py",
   "mimetype": "text/x-python",
   "name": "python",
   "nbconvert_exporter": "python",
   "pygments_lexer": "ipython3",
   "version": "3.9.1"
  },
  "toc": {
   "base_numbering": 1,
   "nav_menu": {},
   "number_sections": true,
   "sideBar": true,
   "skip_h1_title": false,
   "title_cell": "Table of Contents",
   "title_sidebar": "Contents",
   "toc_cell": false,
   "toc_position": {},
   "toc_section_display": true,
   "toc_window_display": false
  }
 },
 "nbformat": 4,
 "nbformat_minor": 5
}
