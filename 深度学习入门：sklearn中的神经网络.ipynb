{
 "cells": [
  {
   "cell_type": "markdown",
   "id": "exposed-communication",
   "metadata": {},
   "source": [
    "# 深度学习入门：sklearn中的神经网络"
   ]
  },
  {
   "cell_type": "markdown",
   "id": "pleasant-national",
   "metadata": {},
   "source": [
    "![image.png](./images/125.png)"
   ]
  },
  {
   "cell_type": "markdown",
   "id": "wanted-effectiveness",
   "metadata": {},
   "source": [
    "![image.png](./images/126.png)"
   ]
  },
  {
   "cell_type": "markdown",
   "id": "afraid-locking",
   "metadata": {},
   "source": [
    "![image.png](./images/127.png)"
   ]
  },
  {
   "cell_type": "markdown",
   "id": "extraordinary-calibration",
   "metadata": {},
   "source": [
    "![image.png](./images/128.png)"
   ]
  },
  {
   "cell_type": "markdown",
   "id": "amber-longer",
   "metadata": {},
   "source": [
    "![image.png](./images/129.png)"
   ]
  },
  {
   "cell_type": "markdown",
   "id": "retired-password",
   "metadata": {},
   "source": [
    "![image.png](./images/130.png)"
   ]
  },
  {
   "cell_type": "markdown",
   "id": "successful-tattoo",
   "metadata": {},
   "source": [
    "![image.png](./images/131.png)"
   ]
  },
  {
   "cell_type": "markdown",
   "id": "surprised-medication",
   "metadata": {},
   "source": [
    "![image.png](./images/132.png)"
   ]
  },
  {
   "cell_type": "markdown",
   "id": "balanced-norman",
   "metadata": {},
   "source": [
    "![image.png](./images/133.png)"
   ]
  },
  {
   "cell_type": "markdown",
   "id": "earlier-christianity",
   "metadata": {},
   "source": [
    "![image.png](./images/134.png)"
   ]
  },
  {
   "cell_type": "markdown",
   "id": "unnecessary-emphasis",
   "metadata": {},
   "source": [
    "![image.png](./images/135.png)"
   ]
  },
  {
   "cell_type": "markdown",
   "id": "sorted-olympus",
   "metadata": {},
   "source": [
    "![image.png](./images/136.png)"
   ]
  },
  {
   "cell_type": "markdown",
   "id": "bored-survey",
   "metadata": {},
   "source": [
    "![image.png](./images/137.png)"
   ]
  },
  {
   "cell_type": "markdown",
   "id": "representative-cradle",
   "metadata": {},
   "source": [
    "![image.png](./images/138.png)"
   ]
  },
  {
   "cell_type": "markdown",
   "id": "accredited-minority",
   "metadata": {},
   "source": [
    "![image.png](./images/139.png)"
   ]
  },
  {
   "cell_type": "code",
   "execution_count": 8,
   "id": "undefined-mobility",
   "metadata": {},
   "outputs": [],
   "source": [
    "#首先使用numpy来创建数据\n",
    "import numpy as np\n",
    "\n",
    "X = np.array([[0,0],[1,0],[0,1],[1,1]])\n",
    "z_reg = np.array([-0.2,-0.05,-0.05,0.1])"
   ]
  },
  {
   "cell_type": "code",
   "execution_count": 9,
   "id": "immediate-bullet",
   "metadata": {},
   "outputs": [
    {
     "data": {
      "text/plain": [
       "array([[0, 0],\n",
       "       [1, 0],\n",
       "       [0, 1],\n",
       "       [1, 1]])"
      ]
     },
     "execution_count": 9,
     "metadata": {},
     "output_type": "execute_result"
    }
   ],
   "source": [
    "X"
   ]
  },
  {
   "cell_type": "code",
   "execution_count": 10,
   "id": "anticipated-cycle",
   "metadata": {},
   "outputs": [
    {
     "data": {
      "text/plain": [
       "(4, 2)"
      ]
     },
     "execution_count": 10,
     "metadata": {},
     "output_type": "execute_result"
    }
   ],
   "source": [
    "X.shape"
   ]
  },
  {
   "cell_type": "code",
   "execution_count": 11,
   "id": "rubber-format",
   "metadata": {},
   "outputs": [
    {
     "data": {
      "text/plain": [
       "array([-0.2 , -0.05, -0.05,  0.1 ])"
      ]
     },
     "execution_count": 11,
     "metadata": {},
     "output_type": "execute_result"
    }
   ],
   "source": [
    "z_reg"
   ]
  },
  {
   "cell_type": "code",
   "execution_count": 12,
   "id": "valued-checkout",
   "metadata": {},
   "outputs": [],
   "source": [
    "#定义实现简单线性回归的函数\n",
    "def LinearR(x1,x2):\n",
    "    w1,w2,b = 0.15,0.15,-0.2 #给定一组系数\n",
    "    z = x1*w1 + x2*w2 + b\n",
    "    return z"
   ]
  },
  {
   "cell_type": "code",
   "execution_count": 13,
   "id": "expensive-dragon",
   "metadata": {},
   "outputs": [
    {
     "data": {
      "text/plain": [
       "array([-0.2 , -0.05, -0.05,  0.1 ])"
      ]
     },
     "execution_count": 13,
     "metadata": {},
     "output_type": "execute_result"
    }
   ],
   "source": [
    "LinearR(X[:,0],X[:,1])"
   ]
  },
  {
   "cell_type": "markdown",
   "id": "consistent-neighborhood",
   "metadata": {},
   "source": [
    "![image.png](./images/140.png)"
   ]
  },
  {
   "cell_type": "markdown",
   "id": "liked-maintenance",
   "metadata": {},
   "source": [
    "![image.png](./images/141.png)"
   ]
  },
  {
   "cell_type": "markdown",
   "id": "secure-rugby",
   "metadata": {},
   "source": [
    "![image.png](./images/142.png)"
   ]
  },
  {
   "cell_type": "markdown",
   "id": "square-trace",
   "metadata": {},
   "source": [
    "![image.png](./images/143.png)"
   ]
  },
  {
   "cell_type": "markdown",
   "id": "comfortable-accordance",
   "metadata": {},
   "source": [
    "![image.png](./images/144.png)"
   ]
  },
  {
   "cell_type": "code",
   "execution_count": 16,
   "id": "checked-appeal",
   "metadata": {},
   "outputs": [],
   "source": [
    "#重新定义数据中的标签\n",
    "y_and = [0,0,0,1]\n",
    "\n",
    "#根据sigmoid公式定义sigmoid函数\n",
    "def sigmoid(z):\n",
    "    return 1/(1+np.exp(-z))\n",
    "\n",
    "def AND_sigmoid(x1,x2): #带有sigmoid的与门\n",
    "    w1,w2,b = 0.15,0.15,-0.2 #给定一组系数\n",
    "    z = x1*w1 + x2*w2 + b\n",
    "    o = sigmoid(z) #使用sigmoid函数将回归结果转换到（0,1）之间\n",
    "    y = [int(x) for x in o >= 0.5] #根据阈值0.5，将（0,1）之间的概率转变为分类0和1\n",
    "    return o,y"
   ]
  },
  {
   "cell_type": "code",
   "execution_count": 20,
   "id": "finished-triumph",
   "metadata": {},
   "outputs": [
    {
     "data": {
      "text/plain": [
       "array([[0, 0],\n",
       "       [1, 0],\n",
       "       [0, 1],\n",
       "       [1, 1]])"
      ]
     },
     "execution_count": 20,
     "metadata": {},
     "output_type": "execute_result"
    }
   ],
   "source": [
    "X"
   ]
  },
  {
   "cell_type": "code",
   "execution_count": 17,
   "id": "intended-pennsylvania",
   "metadata": {},
   "outputs": [],
   "source": [
    "#o:sigmoid函数返回的概率结果\n",
    "#y:对概率结果按阈值进行划分后，形成的0和1，也就是分类标签\n",
    "o,y_sigm = AND_sigmoid(X[:,0],X[:,1])"
   ]
  },
  {
   "cell_type": "code",
   "execution_count": 18,
   "id": "corporate-hunger",
   "metadata": {},
   "outputs": [
    {
     "data": {
      "text/plain": [
       "array([0.450166  , 0.4875026 , 0.4875026 , 0.52497919])"
      ]
     },
     "execution_count": 18,
     "metadata": {},
     "output_type": "execute_result"
    }
   ],
   "source": [
    "o"
   ]
  },
  {
   "cell_type": "code",
   "execution_count": 19,
   "id": "higher-fundamentals",
   "metadata": {},
   "outputs": [
    {
     "data": {
      "text/plain": [
       "[0, 0, 0, 1]"
      ]
     },
     "execution_count": 19,
     "metadata": {},
     "output_type": "execute_result"
    }
   ],
   "source": [
    "y_sigm"
   ]
  },
  {
   "cell_type": "code",
   "execution_count": 21,
   "id": "thermal-warrant",
   "metadata": {},
   "outputs": [
    {
     "data": {
      "text/plain": [
       "True"
      ]
     },
     "execution_count": 21,
     "metadata": {},
     "output_type": "execute_result"
    }
   ],
   "source": [
    "y_sigm == y_and"
   ]
  },
  {
   "cell_type": "markdown",
   "id": "south-rwanda",
   "metadata": {},
   "source": [
    "![image.png](./images/145.png)"
   ]
  },
  {
   "cell_type": "markdown",
   "id": "relevant-newport",
   "metadata": {},
   "source": [
    "![image.png](./images/146.png)"
   ]
  },
  {
   "cell_type": "markdown",
   "id": "about-bibliography",
   "metadata": {},
   "source": [
    "![image.png](./images/147.png)"
   ]
  },
  {
   "cell_type": "markdown",
   "id": "dedicated-bidder",
   "metadata": {},
   "source": [
    "![image.png](./images/148.png)"
   ]
  },
  {
   "cell_type": "markdown",
   "id": "handed-steal",
   "metadata": {},
   "source": [
    "![image.png](./images/149.png)"
   ]
  },
  {
   "cell_type": "markdown",
   "id": "dietary-vancouver",
   "metadata": {},
   "source": [
    "![image.png](./images/150.png)"
   ]
  },
  {
   "cell_type": "code",
   "execution_count": 24,
   "id": "olive-complement",
   "metadata": {},
   "outputs": [
    {
     "data": {
      "text/plain": [
       "array([[0, 0],\n",
       "       [1, 0],\n",
       "       [0, 1],\n",
       "       [1, 1]])"
      ]
     },
     "execution_count": 24,
     "metadata": {},
     "output_type": "execute_result"
    }
   ],
   "source": [
    "X"
   ]
  },
  {
   "cell_type": "code",
   "execution_count": 25,
   "id": "royal-clearance",
   "metadata": {},
   "outputs": [],
   "source": [
    "def AND(x1,x2): #与门函数\n",
    "    w1,w2,b = 0.15,0.15,-0.23 #给定一组系数,和sigmoid相似\n",
    "    z = x1*w1 + x2*w2 + b\n",
    "    y = [int(x) for x in z >= 0]\n",
    "    return y"
   ]
  },
  {
   "cell_type": "code",
   "execution_count": 26,
   "id": "confused-patent",
   "metadata": {},
   "outputs": [
    {
     "data": {
      "text/plain": [
       "[0, 0, 0, 1]"
      ]
     },
     "execution_count": 26,
     "metadata": {},
     "output_type": "execute_result"
    }
   ],
   "source": [
    "AND(X[:,0],X[:,1])"
   ]
  },
  {
   "cell_type": "markdown",
   "id": "complicated-diesel",
   "metadata": {},
   "source": [
    "![image.png](./images/151.png)"
   ]
  },
  {
   "cell_type": "markdown",
   "id": "modern-mechanics",
   "metadata": {},
   "source": [
    "![image.png](./images/152.png)"
   ]
  },
  {
   "cell_type": "markdown",
   "id": "mobile-float",
   "metadata": {},
   "source": [
    "![image.png](./images/153.png)"
   ]
  },
  {
   "cell_type": "markdown",
   "id": "empirical-surge",
   "metadata": {},
   "source": [
    "![image.png](./images/154.png)"
   ]
  },
  {
   "cell_type": "markdown",
   "id": "departmental-encyclopedia",
   "metadata": {},
   "source": [
    "![image.png](./images/155.png)"
   ]
  },
  {
   "cell_type": "markdown",
   "id": "satisfactory-johnston",
   "metadata": {},
   "source": [
    "![image.png](./images/156.png)"
   ]
  },
  {
   "cell_type": "markdown",
   "id": "supreme-institution",
   "metadata": {},
   "source": [
    "![image.png](./images/157.png)"
   ]
  },
  {
   "cell_type": "markdown",
   "id": "immune-belly",
   "metadata": {},
   "source": [
    "![image.png](./images/158.png)"
   ]
  },
  {
   "cell_type": "markdown",
   "id": "supreme-level",
   "metadata": {},
   "source": [
    "所以多分类时，还是按照以下来编号："
   ]
  },
  {
   "cell_type": "markdown",
   "id": "aggregate-wales",
   "metadata": {},
   "source": [
    "![image.png](./images/159.png)"
   ]
  },
  {
   "cell_type": "markdown",
   "id": "pleased-consistency",
   "metadata": {},
   "source": [
    "![image.png](./images/160.png)"
   ]
  },
  {
   "cell_type": "markdown",
   "id": "german-default",
   "metadata": {},
   "source": [
    "![image.png](./images/161.png)"
   ]
  },
  {
   "cell_type": "markdown",
   "id": "systematic-coffee",
   "metadata": {},
   "source": [
    "![image.png](./images/162.png)"
   ]
  },
  {
   "cell_type": "markdown",
   "id": "activated-malpractice",
   "metadata": {},
   "source": [
    "![image.png](./images/163.png)"
   ]
  },
  {
   "cell_type": "markdown",
   "id": "unique-tribune",
   "metadata": {},
   "source": [
    "会报错！！！"
   ]
  },
  {
   "cell_type": "markdown",
   "id": "identical-ending",
   "metadata": {},
   "source": [
    "![image.png](./images/164.png)"
   ]
  },
  {
   "cell_type": "markdown",
   "id": "fourth-resident",
   "metadata": {},
   "source": [
    "![image.png](./images/165.png)"
   ]
  },
  {
   "cell_type": "markdown",
   "id": "enhanced-black",
   "metadata": {},
   "source": [
    "![image.png](./images/166.png)"
   ]
  },
  {
   "cell_type": "markdown",
   "id": "legislative-actor",
   "metadata": {},
   "source": [
    "![image.png](./images/167.png)"
   ]
  },
  {
   "cell_type": "code",
   "execution_count": 27,
   "id": "polyphonic-belfast",
   "metadata": {},
   "outputs": [],
   "source": [
    "z = np.array([1010,1000,990])"
   ]
  },
  {
   "cell_type": "code",
   "execution_count": 28,
   "id": "domestic-crystal",
   "metadata": {},
   "outputs": [
    {
     "data": {
      "text/plain": [
       "1010"
      ]
     },
     "execution_count": 28,
     "metadata": {},
     "output_type": "execute_result"
    }
   ],
   "source": [
    "c = np.max(z)\n",
    "c"
   ]
  },
  {
   "cell_type": "code",
   "execution_count": 29,
   "id": "southern-mongolia",
   "metadata": {},
   "outputs": [],
   "source": [
    "#定义softmax函数\n",
    "def softmax(z):\n",
    "    c = np.max(z)\n",
    "    exp_z = np.exp(z - c) #溢出对策\n",
    "    sum_exp_z = np.sum(exp_z)\n",
    "    o = exp_z / sum_exp_z\n",
    "    return o"
   ]
  },
  {
   "cell_type": "code",
   "execution_count": 30,
   "id": "professional-committee",
   "metadata": {},
   "outputs": [
    {
     "data": {
      "text/plain": [
       "array([9.99954600e-01, 4.53978686e-05, 2.06106005e-09])"
      ]
     },
     "execution_count": 30,
     "metadata": {},
     "output_type": "execute_result"
    }
   ],
   "source": [
    "softmax(z)"
   ]
  },
  {
   "cell_type": "code",
   "execution_count": 31,
   "id": "exact-chuck",
   "metadata": {},
   "outputs": [
    {
     "data": {
      "text/plain": [
       "1.0"
      ]
     },
     "execution_count": 31,
     "metadata": {},
     "output_type": "execute_result"
    }
   ],
   "source": [
    "sum(softmax(z))"
   ]
  },
  {
   "cell_type": "markdown",
   "id": "characteristic-socket",
   "metadata": {},
   "source": [
    "![image.png](./images/168.png)"
   ]
  },
  {
   "cell_type": "markdown",
   "id": "revised-trail",
   "metadata": {},
   "source": [
    "![image.png](./images/169.png)"
   ]
  },
  {
   "cell_type": "markdown",
   "id": "professional-plaintiff",
   "metadata": {},
   "source": [
    "![image.png](./images/170.png)"
   ]
  },
  {
   "cell_type": "markdown",
   "id": "recovered-frank",
   "metadata": {},
   "source": [
    "![image.png](./images/171.png)"
   ]
  },
  {
   "cell_type": "markdown",
   "id": "alternate-discretion",
   "metadata": {},
   "source": [
    "![image.png](./images/172.png)"
   ]
  },
  {
   "cell_type": "markdown",
   "id": "union-russia",
   "metadata": {},
   "source": [
    "![image.png](./images/173.png)"
   ]
  },
  {
   "cell_type": "markdown",
   "id": "optical-apollo",
   "metadata": {},
   "source": [
    "![image.png](./images/174.png)"
   ]
  },
  {
   "cell_type": "code",
   "execution_count": null,
   "id": "stupid-edition",
   "metadata": {},
   "outputs": [],
   "source": []
  },
  {
   "cell_type": "code",
   "execution_count": null,
   "id": "tired-douglas",
   "metadata": {},
   "outputs": [],
   "source": []
  },
  {
   "cell_type": "code",
   "execution_count": null,
   "id": "efficient-stomach",
   "metadata": {},
   "outputs": [],
   "source": []
  }
 ],
 "metadata": {
  "kernelspec": {
   "display_name": "Python 3",
   "language": "python",
   "name": "python3"
  },
  "language_info": {
   "codemirror_mode": {
    "name": "ipython",
    "version": 3
   },
   "file_extension": ".py",
   "mimetype": "text/x-python",
   "name": "python",
   "nbconvert_exporter": "python",
   "pygments_lexer": "ipython3",
   "version": "3.9.1"
  },
  "toc": {
   "base_numbering": 1,
   "nav_menu": {},
   "number_sections": true,
   "sideBar": true,
   "skip_h1_title": false,
   "title_cell": "Table of Contents",
   "title_sidebar": "Contents",
   "toc_cell": false,
   "toc_position": {},
   "toc_section_display": true,
   "toc_window_display": false
  }
 },
 "nbformat": 4,
 "nbformat_minor": 5
}
