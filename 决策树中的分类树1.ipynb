{
 "cells": [
  {
   "cell_type": "markdown",
   "id": "earlier-string",
   "metadata": {},
   "source": [
    "# 决策树实战1（红酒数据集）"
   ]
  },
  {
   "cell_type": "code",
   "execution_count": 1,
   "id": "recognized-notification",
   "metadata": {},
   "outputs": [],
   "source": [
    "from sklearn import tree\n",
    "from sklearn.datasets import load_wine\n",
    "from sklearn.model_selection import train_test_split"
   ]
  },
  {
   "cell_type": "code",
   "execution_count": 2,
   "id": "fixed-exception",
   "metadata": {},
   "outputs": [],
   "source": [
    "wine = load_wine() #加载数据集"
   ]
  },
  {
   "cell_type": "code",
   "execution_count": 3,
   "id": "burning-chicago",
   "metadata": {},
   "outputs": [
    {
     "data": {
      "text/plain": [
       "array([[1.423e+01, 1.710e+00, 2.430e+00, ..., 1.040e+00, 3.920e+00,\n",
       "        1.065e+03],\n",
       "       [1.320e+01, 1.780e+00, 2.140e+00, ..., 1.050e+00, 3.400e+00,\n",
       "        1.050e+03],\n",
       "       [1.316e+01, 2.360e+00, 2.670e+00, ..., 1.030e+00, 3.170e+00,\n",
       "        1.185e+03],\n",
       "       ...,\n",
       "       [1.327e+01, 4.280e+00, 2.260e+00, ..., 5.900e-01, 1.560e+00,\n",
       "        8.350e+02],\n",
       "       [1.317e+01, 2.590e+00, 2.370e+00, ..., 6.000e-01, 1.620e+00,\n",
       "        8.400e+02],\n",
       "       [1.413e+01, 4.100e+00, 2.740e+00, ..., 6.100e-01, 1.600e+00,\n",
       "        5.600e+02]])"
      ]
     },
     "execution_count": 3,
     "metadata": {},
     "output_type": "execute_result"
    }
   ],
   "source": [
    "wine.data #查看里面的数据"
   ]
  },
  {
   "cell_type": "code",
   "execution_count": 4,
   "id": "electric-evans",
   "metadata": {},
   "outputs": [
    {
     "data": {
      "text/plain": [
       "(178, 13)"
      ]
     },
     "execution_count": 4,
     "metadata": {},
     "output_type": "execute_result"
    }
   ],
   "source": [
    "wine.data.shape #查看数据的形状"
   ]
  },
  {
   "cell_type": "code",
   "execution_count": 5,
   "id": "complex-level",
   "metadata": {},
   "outputs": [
    {
     "data": {
      "text/plain": [
       "array([0, 0, 0, 0, 0, 0, 0, 0, 0, 0, 0, 0, 0, 0, 0, 0, 0, 0, 0, 0, 0, 0,\n",
       "       0, 0, 0, 0, 0, 0, 0, 0, 0, 0, 0, 0, 0, 0, 0, 0, 0, 0, 0, 0, 0, 0,\n",
       "       0, 0, 0, 0, 0, 0, 0, 0, 0, 0, 0, 0, 0, 0, 0, 1, 1, 1, 1, 1, 1, 1,\n",
       "       1, 1, 1, 1, 1, 1, 1, 1, 1, 1, 1, 1, 1, 1, 1, 1, 1, 1, 1, 1, 1, 1,\n",
       "       1, 1, 1, 1, 1, 1, 1, 1, 1, 1, 1, 1, 1, 1, 1, 1, 1, 1, 1, 1, 1, 1,\n",
       "       1, 1, 1, 1, 1, 1, 1, 1, 1, 1, 1, 1, 1, 1, 1, 1, 1, 1, 1, 1, 2, 2,\n",
       "       2, 2, 2, 2, 2, 2, 2, 2, 2, 2, 2, 2, 2, 2, 2, 2, 2, 2, 2, 2, 2, 2,\n",
       "       2, 2, 2, 2, 2, 2, 2, 2, 2, 2, 2, 2, 2, 2, 2, 2, 2, 2, 2, 2, 2, 2,\n",
       "       2, 2])"
      ]
     },
     "execution_count": 5,
     "metadata": {},
     "output_type": "execute_result"
    }
   ],
   "source": [
    "wine.target #分的类别"
   ]
  },
  {
   "cell_type": "code",
   "execution_count": 6,
   "id": "impressive-rider",
   "metadata": {},
   "outputs": [
    {
     "data": {
      "text/html": [
       "<div>\n",
       "<style scoped>\n",
       "    .dataframe tbody tr th:only-of-type {\n",
       "        vertical-align: middle;\n",
       "    }\n",
       "\n",
       "    .dataframe tbody tr th {\n",
       "        vertical-align: top;\n",
       "    }\n",
       "\n",
       "    .dataframe thead th {\n",
       "        text-align: right;\n",
       "    }\n",
       "</style>\n",
       "<table border=\"1\" class=\"dataframe\">\n",
       "  <thead>\n",
       "    <tr style=\"text-align: right;\">\n",
       "      <th></th>\n",
       "      <th>0</th>\n",
       "      <th>1</th>\n",
       "      <th>2</th>\n",
       "      <th>3</th>\n",
       "      <th>4</th>\n",
       "      <th>5</th>\n",
       "      <th>6</th>\n",
       "      <th>7</th>\n",
       "      <th>8</th>\n",
       "      <th>9</th>\n",
       "      <th>10</th>\n",
       "      <th>11</th>\n",
       "      <th>12</th>\n",
       "      <th>0</th>\n",
       "    </tr>\n",
       "  </thead>\n",
       "  <tbody>\n",
       "    <tr>\n",
       "      <th>0</th>\n",
       "      <td>14.23</td>\n",
       "      <td>1.71</td>\n",
       "      <td>2.43</td>\n",
       "      <td>15.6</td>\n",
       "      <td>127.0</td>\n",
       "      <td>2.80</td>\n",
       "      <td>3.06</td>\n",
       "      <td>0.28</td>\n",
       "      <td>2.29</td>\n",
       "      <td>5.64</td>\n",
       "      <td>1.04</td>\n",
       "      <td>3.92</td>\n",
       "      <td>1065.0</td>\n",
       "      <td>0</td>\n",
       "    </tr>\n",
       "    <tr>\n",
       "      <th>1</th>\n",
       "      <td>13.20</td>\n",
       "      <td>1.78</td>\n",
       "      <td>2.14</td>\n",
       "      <td>11.2</td>\n",
       "      <td>100.0</td>\n",
       "      <td>2.65</td>\n",
       "      <td>2.76</td>\n",
       "      <td>0.26</td>\n",
       "      <td>1.28</td>\n",
       "      <td>4.38</td>\n",
       "      <td>1.05</td>\n",
       "      <td>3.40</td>\n",
       "      <td>1050.0</td>\n",
       "      <td>0</td>\n",
       "    </tr>\n",
       "    <tr>\n",
       "      <th>2</th>\n",
       "      <td>13.16</td>\n",
       "      <td>2.36</td>\n",
       "      <td>2.67</td>\n",
       "      <td>18.6</td>\n",
       "      <td>101.0</td>\n",
       "      <td>2.80</td>\n",
       "      <td>3.24</td>\n",
       "      <td>0.30</td>\n",
       "      <td>2.81</td>\n",
       "      <td>5.68</td>\n",
       "      <td>1.03</td>\n",
       "      <td>3.17</td>\n",
       "      <td>1185.0</td>\n",
       "      <td>0</td>\n",
       "    </tr>\n",
       "    <tr>\n",
       "      <th>3</th>\n",
       "      <td>14.37</td>\n",
       "      <td>1.95</td>\n",
       "      <td>2.50</td>\n",
       "      <td>16.8</td>\n",
       "      <td>113.0</td>\n",
       "      <td>3.85</td>\n",
       "      <td>3.49</td>\n",
       "      <td>0.24</td>\n",
       "      <td>2.18</td>\n",
       "      <td>7.80</td>\n",
       "      <td>0.86</td>\n",
       "      <td>3.45</td>\n",
       "      <td>1480.0</td>\n",
       "      <td>0</td>\n",
       "    </tr>\n",
       "    <tr>\n",
       "      <th>4</th>\n",
       "      <td>13.24</td>\n",
       "      <td>2.59</td>\n",
       "      <td>2.87</td>\n",
       "      <td>21.0</td>\n",
       "      <td>118.0</td>\n",
       "      <td>2.80</td>\n",
       "      <td>2.69</td>\n",
       "      <td>0.39</td>\n",
       "      <td>1.82</td>\n",
       "      <td>4.32</td>\n",
       "      <td>1.04</td>\n",
       "      <td>2.93</td>\n",
       "      <td>735.0</td>\n",
       "      <td>0</td>\n",
       "    </tr>\n",
       "    <tr>\n",
       "      <th>...</th>\n",
       "      <td>...</td>\n",
       "      <td>...</td>\n",
       "      <td>...</td>\n",
       "      <td>...</td>\n",
       "      <td>...</td>\n",
       "      <td>...</td>\n",
       "      <td>...</td>\n",
       "      <td>...</td>\n",
       "      <td>...</td>\n",
       "      <td>...</td>\n",
       "      <td>...</td>\n",
       "      <td>...</td>\n",
       "      <td>...</td>\n",
       "      <td>...</td>\n",
       "    </tr>\n",
       "    <tr>\n",
       "      <th>173</th>\n",
       "      <td>13.71</td>\n",
       "      <td>5.65</td>\n",
       "      <td>2.45</td>\n",
       "      <td>20.5</td>\n",
       "      <td>95.0</td>\n",
       "      <td>1.68</td>\n",
       "      <td>0.61</td>\n",
       "      <td>0.52</td>\n",
       "      <td>1.06</td>\n",
       "      <td>7.70</td>\n",
       "      <td>0.64</td>\n",
       "      <td>1.74</td>\n",
       "      <td>740.0</td>\n",
       "      <td>2</td>\n",
       "    </tr>\n",
       "    <tr>\n",
       "      <th>174</th>\n",
       "      <td>13.40</td>\n",
       "      <td>3.91</td>\n",
       "      <td>2.48</td>\n",
       "      <td>23.0</td>\n",
       "      <td>102.0</td>\n",
       "      <td>1.80</td>\n",
       "      <td>0.75</td>\n",
       "      <td>0.43</td>\n",
       "      <td>1.41</td>\n",
       "      <td>7.30</td>\n",
       "      <td>0.70</td>\n",
       "      <td>1.56</td>\n",
       "      <td>750.0</td>\n",
       "      <td>2</td>\n",
       "    </tr>\n",
       "    <tr>\n",
       "      <th>175</th>\n",
       "      <td>13.27</td>\n",
       "      <td>4.28</td>\n",
       "      <td>2.26</td>\n",
       "      <td>20.0</td>\n",
       "      <td>120.0</td>\n",
       "      <td>1.59</td>\n",
       "      <td>0.69</td>\n",
       "      <td>0.43</td>\n",
       "      <td>1.35</td>\n",
       "      <td>10.20</td>\n",
       "      <td>0.59</td>\n",
       "      <td>1.56</td>\n",
       "      <td>835.0</td>\n",
       "      <td>2</td>\n",
       "    </tr>\n",
       "    <tr>\n",
       "      <th>176</th>\n",
       "      <td>13.17</td>\n",
       "      <td>2.59</td>\n",
       "      <td>2.37</td>\n",
       "      <td>20.0</td>\n",
       "      <td>120.0</td>\n",
       "      <td>1.65</td>\n",
       "      <td>0.68</td>\n",
       "      <td>0.53</td>\n",
       "      <td>1.46</td>\n",
       "      <td>9.30</td>\n",
       "      <td>0.60</td>\n",
       "      <td>1.62</td>\n",
       "      <td>840.0</td>\n",
       "      <td>2</td>\n",
       "    </tr>\n",
       "    <tr>\n",
       "      <th>177</th>\n",
       "      <td>14.13</td>\n",
       "      <td>4.10</td>\n",
       "      <td>2.74</td>\n",
       "      <td>24.5</td>\n",
       "      <td>96.0</td>\n",
       "      <td>2.05</td>\n",
       "      <td>0.76</td>\n",
       "      <td>0.56</td>\n",
       "      <td>1.35</td>\n",
       "      <td>9.20</td>\n",
       "      <td>0.61</td>\n",
       "      <td>1.60</td>\n",
       "      <td>560.0</td>\n",
       "      <td>2</td>\n",
       "    </tr>\n",
       "  </tbody>\n",
       "</table>\n",
       "<p>178 rows × 14 columns</p>\n",
       "</div>"
      ],
      "text/plain": [
       "        0     1     2     3      4     5     6     7     8      9     10  \\\n",
       "0    14.23  1.71  2.43  15.6  127.0  2.80  3.06  0.28  2.29   5.64  1.04   \n",
       "1    13.20  1.78  2.14  11.2  100.0  2.65  2.76  0.26  1.28   4.38  1.05   \n",
       "2    13.16  2.36  2.67  18.6  101.0  2.80  3.24  0.30  2.81   5.68  1.03   \n",
       "3    14.37  1.95  2.50  16.8  113.0  3.85  3.49  0.24  2.18   7.80  0.86   \n",
       "4    13.24  2.59  2.87  21.0  118.0  2.80  2.69  0.39  1.82   4.32  1.04   \n",
       "..     ...   ...   ...   ...    ...   ...   ...   ...   ...    ...   ...   \n",
       "173  13.71  5.65  2.45  20.5   95.0  1.68  0.61  0.52  1.06   7.70  0.64   \n",
       "174  13.40  3.91  2.48  23.0  102.0  1.80  0.75  0.43  1.41   7.30  0.70   \n",
       "175  13.27  4.28  2.26  20.0  120.0  1.59  0.69  0.43  1.35  10.20  0.59   \n",
       "176  13.17  2.59  2.37  20.0  120.0  1.65  0.68  0.53  1.46   9.30  0.60   \n",
       "177  14.13  4.10  2.74  24.5   96.0  2.05  0.76  0.56  1.35   9.20  0.61   \n",
       "\n",
       "       11      12  0   \n",
       "0    3.92  1065.0   0  \n",
       "1    3.40  1050.0   0  \n",
       "2    3.17  1185.0   0  \n",
       "3    3.45  1480.0   0  \n",
       "4    2.93   735.0   0  \n",
       "..    ...     ...  ..  \n",
       "173  1.74   740.0   2  \n",
       "174  1.56   750.0   2  \n",
       "175  1.56   835.0   2  \n",
       "176  1.62   840.0   2  \n",
       "177  1.60   560.0   2  \n",
       "\n",
       "[178 rows x 14 columns]"
      ]
     },
     "execution_count": 6,
     "metadata": {},
     "output_type": "execute_result"
    }
   ],
   "source": [
    "import pandas as pd\n",
    "pd.concat([pd.DataFrame(wine.data),pd.DataFrame(wine.target)],axis=1) #用表格展示"
   ]
  },
  {
   "cell_type": "code",
   "execution_count": 7,
   "id": "computational-cream",
   "metadata": {},
   "outputs": [
    {
     "data": {
      "text/plain": [
       "['alcohol',\n",
       " 'malic_acid',\n",
       " 'ash',\n",
       " 'alcalinity_of_ash',\n",
       " 'magnesium',\n",
       " 'total_phenols',\n",
       " 'flavanoids',\n",
       " 'nonflavanoid_phenols',\n",
       " 'proanthocyanins',\n",
       " 'color_intensity',\n",
       " 'hue',\n",
       " 'od280/od315_of_diluted_wines',\n",
       " 'proline']"
      ]
     },
     "execution_count": 7,
     "metadata": {},
     "output_type": "execute_result"
    }
   ],
   "source": [
    "wine.feature_names #各个特征的名称"
   ]
  },
  {
   "cell_type": "code",
   "execution_count": 8,
   "id": "digital-police",
   "metadata": {},
   "outputs": [
    {
     "data": {
      "text/plain": [
       "array(['class_0', 'class_1', 'class_2'], dtype='<U7')"
      ]
     },
     "execution_count": 8,
     "metadata": {},
     "output_type": "execute_result"
    }
   ],
   "source": [
    "wine.target_names #类别名称"
   ]
  },
  {
   "cell_type": "code",
   "execution_count": 3,
   "id": "individual-store",
   "metadata": {},
   "outputs": [],
   "source": [
    "Xtrain,Xtest,Ytrain,Ytest = train_test_split(wine.data,wine.target,test_size=0.3)  #分为训练集与测试集，测试集占30%"
   ]
  },
  {
   "cell_type": "code",
   "execution_count": 10,
   "id": "endangered-calendar",
   "metadata": {},
   "outputs": [
    {
     "data": {
      "text/plain": [
       "(124, 13)"
      ]
     },
     "execution_count": 10,
     "metadata": {},
     "output_type": "execute_result"
    }
   ],
   "source": [
    "Xtrain.shape"
   ]
  },
  {
   "cell_type": "code",
   "execution_count": 11,
   "id": "internal-louisiana",
   "metadata": {},
   "outputs": [
    {
     "data": {
      "text/plain": [
       "(54, 13)"
      ]
     },
     "execution_count": 11,
     "metadata": {},
     "output_type": "execute_result"
    }
   ],
   "source": [
    "Xtest.shape"
   ]
  },
  {
   "cell_type": "code",
   "execution_count": 12,
   "id": "phantom-arthur",
   "metadata": {},
   "outputs": [
    {
     "data": {
      "text/plain": [
       "array([2, 1, 1, 1, 2, 1, 1, 0, 2, 0, 1, 2, 1, 1, 1, 0, 1, 1, 2, 0, 2, 1,\n",
       "       0, 0, 1, 0, 0, 0, 1, 2, 1, 2, 0, 1, 1, 2, 1, 2, 1, 0, 1, 0, 2, 0,\n",
       "       1, 1, 1, 0, 2, 1, 1, 2, 2, 1, 0, 1, 0, 0, 2, 2, 2, 2, 1, 1, 0, 1,\n",
       "       2, 1, 1, 0, 2, 2, 1, 2, 2, 1, 0, 0, 1, 0, 2, 2, 1, 2, 0, 0, 0, 0,\n",
       "       1, 2, 1, 0, 1, 0, 1, 0, 2, 2, 0, 1, 1, 1, 2, 2, 2, 0, 2, 2, 1, 0,\n",
       "       1, 0, 0, 2, 0, 2, 1, 2, 0, 0, 1, 0, 2, 1])"
      ]
     },
     "execution_count": 12,
     "metadata": {},
     "output_type": "execute_result"
    }
   ],
   "source": [
    "Ytrain"
   ]
  },
  {
   "cell_type": "code",
   "execution_count": 13,
   "id": "advanced-sherman",
   "metadata": {},
   "outputs": [
    {
     "data": {
      "text/plain": [
       "(124,)"
      ]
     },
     "execution_count": 13,
     "metadata": {},
     "output_type": "execute_result"
    }
   ],
   "source": [
    "Ytrain.shape"
   ]
  },
  {
   "cell_type": "markdown",
   "id": "social-mexico",
   "metadata": {},
   "source": [
    "## 参数criterion"
   ]
  },
  {
   "cell_type": "markdown",
   "id": "structural-frost",
   "metadata": {},
   "source": [
    "criterion默认是gini系数，当然可以将其修改为信息熵entropy"
   ]
  },
  {
   "cell_type": "code",
   "execution_count": 4,
   "id": "fiscal-saskatchewan",
   "metadata": {},
   "outputs": [
    {
     "data": {
      "text/plain": [
       "0.9629629629629629"
      ]
     },
     "execution_count": 4,
     "metadata": {},
     "output_type": "execute_result"
    }
   ],
   "source": [
    "clf = tree.DecisionTreeClassifier(criterion = \"entropy\")   #第一步：实例化   注：criterion默认是gini系数，当然可以将其修改为信息熵entropy\n",
    "clf = clf.fit(Xtrain,Ytrain) #第二步：训练\n",
    "score = clf.score(Xtest,Ytest)  #第三步：返回预测的准确度accuracy\n",
    "\n",
    "score"
   ]
  },
  {
   "cell_type": "markdown",
   "id": "continental-agenda",
   "metadata": {},
   "source": [
    "每次运行的结果都不一样，但是在上面划分测试集与训练集的时候代码只运行了一次，也就是每次传入的训练集与测试集都是一样的数据，但为什么每次运行的结果也就是精度会不一样呢？<br>\n",
    "可以这样子来理解，比如说我是一个果农，我会从一大堆种子里面选出一颗最好的种子然后对它悉心浇灌，但是它也不一定就能长成最好的果树，也就是不能保证最优，所以我还是要种很多颗树，然后从中选出最好的<br>\n",
    "sklearn也是利用了这个思想，它先从这些特征中随机选择几种特征，计算各自的不纯度，因此每次选择的结果都可能不同<br>"
   ]
  },
  {
   "cell_type": "code",
   "execution_count": 5,
   "id": "extraordinary-bargain",
   "metadata": {},
   "outputs": [
    {
     "data": {
      "image/svg+xml": [
       "<?xml version=\"1.0\" encoding=\"UTF-8\" standalone=\"no\"?>\r\n",
       "<!DOCTYPE svg PUBLIC \"-//W3C//DTD SVG 1.1//EN\"\r\n",
       " \"http://www.w3.org/Graphics/SVG/1.1/DTD/svg11.dtd\">\r\n",
       "<!-- Generated by graphviz version 2.47.0 (20210316.0004)\r\n",
       " -->\r\n",
       "<!-- Title: Tree Pages: 1 -->\r\n",
       "<svg width=\"632pt\" height=\"433pt\"\r\n",
       " viewBox=\"0.00 0.00 632.00 433.00\" xmlns=\"http://www.w3.org/2000/svg\" xmlns:xlink=\"http://www.w3.org/1999/xlink\">\r\n",
       "<g id=\"graph0\" class=\"graph\" transform=\"scale(1 1) rotate(0) translate(4 429)\">\r\n",
       "<title>Tree</title>\r\n",
       "<polygon fill=\"white\" stroke=\"transparent\" points=\"-4,4 -4,-429 628,-429 628,4 -4,4\"/>\r\n",
       "<!-- 0 -->\r\n",
       "<g id=\"node1\" class=\"node\">\r\n",
       "<title>0</title>\r\n",
       "<path fill=\"#f3fdf7\" stroke=\"black\" d=\"M343.5,-425C343.5,-425 227.5,-425 227.5,-425 221.5,-425 215.5,-419 215.5,-413 215.5,-413 215.5,-354 215.5,-354 215.5,-348 221.5,-342 227.5,-342 227.5,-342 343.5,-342 343.5,-342 349.5,-342 355.5,-348 355.5,-354 355.5,-354 355.5,-413 355.5,-413 355.5,-419 349.5,-425 343.5,-425\"/>\r\n",
       "<text text-anchor=\"middle\" x=\"285.5\" y=\"-409.8\" font-family=\"Helvetica,sans-Serif\" font-size=\"14.00\">颜色强度 &lt;= 3.945</text>\r\n",
       "<text text-anchor=\"middle\" x=\"285.5\" y=\"-394.8\" font-family=\"Helvetica,sans-Serif\" font-size=\"14.00\">entropy = 1.56</text>\r\n",
       "<text text-anchor=\"middle\" x=\"285.5\" y=\"-379.8\" font-family=\"Helvetica,sans-Serif\" font-size=\"14.00\">samples = 124</text>\r\n",
       "<text text-anchor=\"middle\" x=\"285.5\" y=\"-364.8\" font-family=\"Helvetica,sans-Serif\" font-size=\"14.00\">value = [44, 49, 31]</text>\r\n",
       "<text text-anchor=\"middle\" x=\"285.5\" y=\"-349.8\" font-family=\"Helvetica,sans-Serif\" font-size=\"14.00\">class = 雪莉</text>\r\n",
       "</g>\r\n",
       "<!-- 1 -->\r\n",
       "<g id=\"node2\" class=\"node\">\r\n",
       "<title>1</title>\r\n",
       "<path fill=\"#46e78a\" stroke=\"black\" d=\"M260,-306C260,-306 159,-306 159,-306 153,-306 147,-300 147,-294 147,-294 147,-235 147,-235 147,-229 153,-223 159,-223 159,-223 260,-223 260,-223 266,-223 272,-229 272,-235 272,-235 272,-294 272,-294 272,-300 266,-306 260,-306\"/>\r\n",
       "<text text-anchor=\"middle\" x=\"209.5\" y=\"-290.8\" font-family=\"Helvetica,sans-Serif\" font-size=\"14.00\">脯氨酸 &lt;= 790.0</text>\r\n",
       "<text text-anchor=\"middle\" x=\"209.5\" y=\"-275.8\" font-family=\"Helvetica,sans-Serif\" font-size=\"14.00\">entropy = 0.342</text>\r\n",
       "<text text-anchor=\"middle\" x=\"209.5\" y=\"-260.8\" font-family=\"Helvetica,sans-Serif\" font-size=\"14.00\">samples = 47</text>\r\n",
       "<text text-anchor=\"middle\" x=\"209.5\" y=\"-245.8\" font-family=\"Helvetica,sans-Serif\" font-size=\"14.00\">value = [3, 44, 0]</text>\r\n",
       "<text text-anchor=\"middle\" x=\"209.5\" y=\"-230.8\" font-family=\"Helvetica,sans-Serif\" font-size=\"14.00\">class = 雪莉</text>\r\n",
       "</g>\r\n",
       "<!-- 0&#45;&gt;1 -->\r\n",
       "<g id=\"edge1\" class=\"edge\">\r\n",
       "<title>0&#45;&gt;1</title>\r\n",
       "<path fill=\"none\" stroke=\"black\" d=\"M259.13,-341.91C253.41,-333.1 247.31,-323.7 241.4,-314.61\"/>\r\n",
       "<polygon fill=\"black\" stroke=\"black\" points=\"244.2,-312.5 235.82,-306.02 238.33,-316.31 244.2,-312.5\"/>\r\n",
       "<text text-anchor=\"middle\" x=\"230.63\" y=\"-326.78\" font-family=\"Helvetica,sans-Serif\" font-size=\"14.00\">True</text>\r\n",
       "</g>\r\n",
       "<!-- 6 -->\r\n",
       "<g id=\"node7\" class=\"node\">\r\n",
       "<title>6</title>\r\n",
       "<path fill=\"#f9e4d4\" stroke=\"black\" d=\"M414,-306C414,-306 309,-306 309,-306 303,-306 297,-300 297,-294 297,-294 297,-235 297,-235 297,-229 303,-223 309,-223 309,-223 414,-223 414,-223 420,-223 426,-229 426,-235 426,-235 426,-294 426,-294 426,-300 420,-306 414,-306\"/>\r\n",
       "<text text-anchor=\"middle\" x=\"361.5\" y=\"-290.8\" font-family=\"Helvetica,sans-Serif\" font-size=\"14.00\">类黄酮 &lt;= 1.58</text>\r\n",
       "<text text-anchor=\"middle\" x=\"361.5\" y=\"-275.8\" font-family=\"Helvetica,sans-Serif\" font-size=\"14.00\">entropy = 1.269</text>\r\n",
       "<text text-anchor=\"middle\" x=\"361.5\" y=\"-260.8\" font-family=\"Helvetica,sans-Serif\" font-size=\"14.00\">samples = 77</text>\r\n",
       "<text text-anchor=\"middle\" x=\"361.5\" y=\"-245.8\" font-family=\"Helvetica,sans-Serif\" font-size=\"14.00\">value = [41, 5, 31]</text>\r\n",
       "<text text-anchor=\"middle\" x=\"361.5\" y=\"-230.8\" font-family=\"Helvetica,sans-Serif\" font-size=\"14.00\">class = 琴酒</text>\r\n",
       "</g>\r\n",
       "<!-- 0&#45;&gt;6 -->\r\n",
       "<g id=\"edge6\" class=\"edge\">\r\n",
       "<title>0&#45;&gt;6</title>\r\n",
       "<path fill=\"none\" stroke=\"black\" d=\"M311.87,-341.91C317.59,-333.1 323.69,-323.7 329.6,-314.61\"/>\r\n",
       "<polygon fill=\"black\" stroke=\"black\" points=\"332.67,-316.31 335.18,-306.02 326.8,-312.5 332.67,-316.31\"/>\r\n",
       "<text text-anchor=\"middle\" x=\"340.37\" y=\"-326.78\" font-family=\"Helvetica,sans-Serif\" font-size=\"14.00\">False</text>\r\n",
       "</g>\r\n",
       "<!-- 2 -->\r\n",
       "<g id=\"node3\" class=\"node\">\r\n",
       "<title>2</title>\r\n",
       "<path fill=\"#39e581\" stroke=\"black\" d=\"M109,-179.5C109,-179.5 12,-179.5 12,-179.5 6,-179.5 0,-173.5 0,-167.5 0,-167.5 0,-123.5 0,-123.5 0,-117.5 6,-111.5 12,-111.5 12,-111.5 109,-111.5 109,-111.5 115,-111.5 121,-117.5 121,-123.5 121,-123.5 121,-167.5 121,-167.5 121,-173.5 115,-179.5 109,-179.5\"/>\r\n",
       "<text text-anchor=\"middle\" x=\"60.5\" y=\"-164.3\" font-family=\"Helvetica,sans-Serif\" font-size=\"14.00\">entropy = 0.0</text>\r\n",
       "<text text-anchor=\"middle\" x=\"60.5\" y=\"-149.3\" font-family=\"Helvetica,sans-Serif\" font-size=\"14.00\">samples = 40</text>\r\n",
       "<text text-anchor=\"middle\" x=\"60.5\" y=\"-134.3\" font-family=\"Helvetica,sans-Serif\" font-size=\"14.00\">value = [0, 40, 0]</text>\r\n",
       "<text text-anchor=\"middle\" x=\"60.5\" y=\"-119.3\" font-family=\"Helvetica,sans-Serif\" font-size=\"14.00\">class = 雪莉</text>\r\n",
       "</g>\r\n",
       "<!-- 1&#45;&gt;2 -->\r\n",
       "<g id=\"edge2\" class=\"edge\">\r\n",
       "<title>1&#45;&gt;2</title>\r\n",
       "<path fill=\"none\" stroke=\"black\" d=\"M157.81,-222.91C142.63,-210.99 126.05,-197.98 110.96,-186.12\"/>\r\n",
       "<polygon fill=\"black\" stroke=\"black\" points=\"112.76,-183.09 102.74,-179.67 108.44,-188.6 112.76,-183.09\"/>\r\n",
       "</g>\r\n",
       "<!-- 3 -->\r\n",
       "<g id=\"node4\" class=\"node\">\r\n",
       "<title>3</title>\r\n",
       "<path fill=\"#cef8e0\" stroke=\"black\" d=\"M267.5,-187C267.5,-187 151.5,-187 151.5,-187 145.5,-187 139.5,-181 139.5,-175 139.5,-175 139.5,-116 139.5,-116 139.5,-110 145.5,-104 151.5,-104 151.5,-104 267.5,-104 267.5,-104 273.5,-104 279.5,-110 279.5,-116 279.5,-116 279.5,-175 279.5,-175 279.5,-181 273.5,-187 267.5,-187\"/>\r\n",
       "<text text-anchor=\"middle\" x=\"209.5\" y=\"-171.8\" font-family=\"Helvetica,sans-Serif\" font-size=\"14.00\">颜色强度 &lt;= 3.465</text>\r\n",
       "<text text-anchor=\"middle\" x=\"209.5\" y=\"-156.8\" font-family=\"Helvetica,sans-Serif\" font-size=\"14.00\">entropy = 0.985</text>\r\n",
       "<text text-anchor=\"middle\" x=\"209.5\" y=\"-141.8\" font-family=\"Helvetica,sans-Serif\" font-size=\"14.00\">samples = 7</text>\r\n",
       "<text text-anchor=\"middle\" x=\"209.5\" y=\"-126.8\" font-family=\"Helvetica,sans-Serif\" font-size=\"14.00\">value = [3, 4, 0]</text>\r\n",
       "<text text-anchor=\"middle\" x=\"209.5\" y=\"-111.8\" font-family=\"Helvetica,sans-Serif\" font-size=\"14.00\">class = 雪莉</text>\r\n",
       "</g>\r\n",
       "<!-- 1&#45;&gt;3 -->\r\n",
       "<g id=\"edge3\" class=\"edge\">\r\n",
       "<title>1&#45;&gt;3</title>\r\n",
       "<path fill=\"none\" stroke=\"black\" d=\"M209.5,-222.91C209.5,-214.65 209.5,-205.86 209.5,-197.3\"/>\r\n",
       "<polygon fill=\"black\" stroke=\"black\" points=\"213,-197.02 209.5,-187.02 206,-197.02 213,-197.02\"/>\r\n",
       "</g>\r\n",
       "<!-- 4 -->\r\n",
       "<g id=\"node5\" class=\"node\">\r\n",
       "<title>4</title>\r\n",
       "<path fill=\"#39e581\" stroke=\"black\" d=\"M196,-68C196,-68 107,-68 107,-68 101,-68 95,-62 95,-56 95,-56 95,-12 95,-12 95,-6 101,0 107,0 107,0 196,0 196,0 202,0 208,-6 208,-12 208,-12 208,-56 208,-56 208,-62 202,-68 196,-68\"/>\r\n",
       "<text text-anchor=\"middle\" x=\"151.5\" y=\"-52.8\" font-family=\"Helvetica,sans-Serif\" font-size=\"14.00\">entropy = 0.0</text>\r\n",
       "<text text-anchor=\"middle\" x=\"151.5\" y=\"-37.8\" font-family=\"Helvetica,sans-Serif\" font-size=\"14.00\">samples = 4</text>\r\n",
       "<text text-anchor=\"middle\" x=\"151.5\" y=\"-22.8\" font-family=\"Helvetica,sans-Serif\" font-size=\"14.00\">value = [0, 4, 0]</text>\r\n",
       "<text text-anchor=\"middle\" x=\"151.5\" y=\"-7.8\" font-family=\"Helvetica,sans-Serif\" font-size=\"14.00\">class = 雪莉</text>\r\n",
       "</g>\r\n",
       "<!-- 3&#45;&gt;4 -->\r\n",
       "<g id=\"edge4\" class=\"edge\">\r\n",
       "<title>3&#45;&gt;4</title>\r\n",
       "<path fill=\"none\" stroke=\"black\" d=\"M187.9,-103.73C183.31,-95.06 178.46,-85.9 173.84,-77.18\"/>\r\n",
       "<polygon fill=\"black\" stroke=\"black\" points=\"176.91,-75.5 169.14,-68.3 170.73,-78.77 176.91,-75.5\"/>\r\n",
       "</g>\r\n",
       "<!-- 5 -->\r\n",
       "<g id=\"node6\" class=\"node\">\r\n",
       "<title>5</title>\r\n",
       "<path fill=\"#e58139\" stroke=\"black\" d=\"M327,-68C327,-68 238,-68 238,-68 232,-68 226,-62 226,-56 226,-56 226,-12 226,-12 226,-6 232,0 238,0 238,0 327,0 327,0 333,0 339,-6 339,-12 339,-12 339,-56 339,-56 339,-62 333,-68 327,-68\"/>\r\n",
       "<text text-anchor=\"middle\" x=\"282.5\" y=\"-52.8\" font-family=\"Helvetica,sans-Serif\" font-size=\"14.00\">entropy = 0.0</text>\r\n",
       "<text text-anchor=\"middle\" x=\"282.5\" y=\"-37.8\" font-family=\"Helvetica,sans-Serif\" font-size=\"14.00\">samples = 3</text>\r\n",
       "<text text-anchor=\"middle\" x=\"282.5\" y=\"-22.8\" font-family=\"Helvetica,sans-Serif\" font-size=\"14.00\">value = [3, 0, 0]</text>\r\n",
       "<text text-anchor=\"middle\" x=\"282.5\" y=\"-7.8\" font-family=\"Helvetica,sans-Serif\" font-size=\"14.00\">class = 琴酒</text>\r\n",
       "</g>\r\n",
       "<!-- 3&#45;&gt;5 -->\r\n",
       "<g id=\"edge5\" class=\"edge\">\r\n",
       "<title>3&#45;&gt;5</title>\r\n",
       "<path fill=\"none\" stroke=\"black\" d=\"M236.68,-103.73C242.58,-94.88 248.83,-85.51 254.75,-76.63\"/>\r\n",
       "<polygon fill=\"black\" stroke=\"black\" points=\"257.67,-78.56 260.3,-68.3 251.84,-74.68 257.67,-78.56\"/>\r\n",
       "</g>\r\n",
       "<!-- 7 -->\r\n",
       "<g id=\"node8\" class=\"node\">\r\n",
       "<title>7</title>\r\n",
       "<path fill=\"#8139e5\" stroke=\"black\" d=\"M413.5,-179.5C413.5,-179.5 309.5,-179.5 309.5,-179.5 303.5,-179.5 297.5,-173.5 297.5,-167.5 297.5,-167.5 297.5,-123.5 297.5,-123.5 297.5,-117.5 303.5,-111.5 309.5,-111.5 309.5,-111.5 413.5,-111.5 413.5,-111.5 419.5,-111.5 425.5,-117.5 425.5,-123.5 425.5,-123.5 425.5,-167.5 425.5,-167.5 425.5,-173.5 419.5,-179.5 413.5,-179.5\"/>\r\n",
       "<text text-anchor=\"middle\" x=\"361.5\" y=\"-164.3\" font-family=\"Helvetica,sans-Serif\" font-size=\"14.00\">entropy = 0.0</text>\r\n",
       "<text text-anchor=\"middle\" x=\"361.5\" y=\"-149.3\" font-family=\"Helvetica,sans-Serif\" font-size=\"14.00\">samples = 31</text>\r\n",
       "<text text-anchor=\"middle\" x=\"361.5\" y=\"-134.3\" font-family=\"Helvetica,sans-Serif\" font-size=\"14.00\">value = [0, 0, 31]</text>\r\n",
       "<text text-anchor=\"middle\" x=\"361.5\" y=\"-119.3\" font-family=\"Helvetica,sans-Serif\" font-size=\"14.00\">class = 贝尔摩德</text>\r\n",
       "</g>\r\n",
       "<!-- 6&#45;&gt;7 -->\r\n",
       "<g id=\"edge7\" class=\"edge\">\r\n",
       "<title>6&#45;&gt;7</title>\r\n",
       "<path fill=\"none\" stroke=\"black\" d=\"M361.5,-222.91C361.5,-212.2 361.5,-200.62 361.5,-189.78\"/>\r\n",
       "<polygon fill=\"black\" stroke=\"black\" points=\"365,-189.67 361.5,-179.67 358,-189.67 365,-189.67\"/>\r\n",
       "</g>\r\n",
       "<!-- 8 -->\r\n",
       "<g id=\"node9\" class=\"node\">\r\n",
       "<title>8</title>\r\n",
       "<path fill=\"#e89051\" stroke=\"black\" d=\"M557,-187C557,-187 456,-187 456,-187 450,-187 444,-181 444,-175 444,-175 444,-116 444,-116 444,-110 450,-104 456,-104 456,-104 557,-104 557,-104 563,-104 569,-110 569,-116 569,-116 569,-175 569,-175 569,-181 563,-187 557,-187\"/>\r\n",
       "<text text-anchor=\"middle\" x=\"506.5\" y=\"-171.8\" font-family=\"Helvetica,sans-Serif\" font-size=\"14.00\">脯氨酸 &lt;= 679.0</text>\r\n",
       "<text text-anchor=\"middle\" x=\"506.5\" y=\"-156.8\" font-family=\"Helvetica,sans-Serif\" font-size=\"14.00\">entropy = 0.496</text>\r\n",
       "<text text-anchor=\"middle\" x=\"506.5\" y=\"-141.8\" font-family=\"Helvetica,sans-Serif\" font-size=\"14.00\">samples = 46</text>\r\n",
       "<text text-anchor=\"middle\" x=\"506.5\" y=\"-126.8\" font-family=\"Helvetica,sans-Serif\" font-size=\"14.00\">value = [41, 5, 0]</text>\r\n",
       "<text text-anchor=\"middle\" x=\"506.5\" y=\"-111.8\" font-family=\"Helvetica,sans-Serif\" font-size=\"14.00\">class = 琴酒</text>\r\n",
       "</g>\r\n",
       "<!-- 6&#45;&gt;8 -->\r\n",
       "<g id=\"edge8\" class=\"edge\">\r\n",
       "<title>6&#45;&gt;8</title>\r\n",
       "<path fill=\"none\" stroke=\"black\" d=\"M411.81,-222.91C423.62,-213.38 436.29,-203.15 448.41,-193.37\"/>\r\n",
       "<polygon fill=\"black\" stroke=\"black\" points=\"450.7,-196.02 456.28,-187.02 446.3,-190.58 450.7,-196.02\"/>\r\n",
       "</g>\r\n",
       "<!-- 9 -->\r\n",
       "<g id=\"node10\" class=\"node\">\r\n",
       "<title>9</title>\r\n",
       "<path fill=\"#39e581\" stroke=\"black\" d=\"M473,-68C473,-68 384,-68 384,-68 378,-68 372,-62 372,-56 372,-56 372,-12 372,-12 372,-6 378,0 384,0 384,0 473,0 473,0 479,0 485,-6 485,-12 485,-12 485,-56 485,-56 485,-62 479,-68 473,-68\"/>\r\n",
       "<text text-anchor=\"middle\" x=\"428.5\" y=\"-52.8\" font-family=\"Helvetica,sans-Serif\" font-size=\"14.00\">entropy = 0.0</text>\r\n",
       "<text text-anchor=\"middle\" x=\"428.5\" y=\"-37.8\" font-family=\"Helvetica,sans-Serif\" font-size=\"14.00\">samples = 5</text>\r\n",
       "<text text-anchor=\"middle\" x=\"428.5\" y=\"-22.8\" font-family=\"Helvetica,sans-Serif\" font-size=\"14.00\">value = [0, 5, 0]</text>\r\n",
       "<text text-anchor=\"middle\" x=\"428.5\" y=\"-7.8\" font-family=\"Helvetica,sans-Serif\" font-size=\"14.00\">class = 雪莉</text>\r\n",
       "</g>\r\n",
       "<!-- 8&#45;&gt;9 -->\r\n",
       "<g id=\"edge9\" class=\"edge\">\r\n",
       "<title>8&#45;&gt;9</title>\r\n",
       "<path fill=\"none\" stroke=\"black\" d=\"M477.46,-103.73C471.15,-94.88 464.48,-85.51 458.15,-76.63\"/>\r\n",
       "<polygon fill=\"black\" stroke=\"black\" points=\"460.87,-74.41 452.22,-68.3 455.17,-78.48 460.87,-74.41\"/>\r\n",
       "</g>\r\n",
       "<!-- 10 -->\r\n",
       "<g id=\"node11\" class=\"node\">\r\n",
       "<title>10</title>\r\n",
       "<path fill=\"#e58139\" stroke=\"black\" d=\"M612,-68C612,-68 515,-68 515,-68 509,-68 503,-62 503,-56 503,-56 503,-12 503,-12 503,-6 509,0 515,0 515,0 612,0 612,0 618,0 624,-6 624,-12 624,-12 624,-56 624,-56 624,-62 618,-68 612,-68\"/>\r\n",
       "<text text-anchor=\"middle\" x=\"563.5\" y=\"-52.8\" font-family=\"Helvetica,sans-Serif\" font-size=\"14.00\">entropy = 0.0</text>\r\n",
       "<text text-anchor=\"middle\" x=\"563.5\" y=\"-37.8\" font-family=\"Helvetica,sans-Serif\" font-size=\"14.00\">samples = 41</text>\r\n",
       "<text text-anchor=\"middle\" x=\"563.5\" y=\"-22.8\" font-family=\"Helvetica,sans-Serif\" font-size=\"14.00\">value = [41, 0, 0]</text>\r\n",
       "<text text-anchor=\"middle\" x=\"563.5\" y=\"-7.8\" font-family=\"Helvetica,sans-Serif\" font-size=\"14.00\">class = 琴酒</text>\r\n",
       "</g>\r\n",
       "<!-- 8&#45;&gt;10 -->\r\n",
       "<g id=\"edge10\" class=\"edge\">\r\n",
       "<title>8&#45;&gt;10</title>\r\n",
       "<path fill=\"none\" stroke=\"black\" d=\"M527.72,-103.73C532.24,-95.06 537.01,-85.9 541.54,-77.18\"/>\r\n",
       "<polygon fill=\"black\" stroke=\"black\" points=\"544.65,-78.79 546.17,-68.3 538.44,-75.55 544.65,-78.79\"/>\r\n",
       "</g>\r\n",
       "</g>\r\n",
       "</svg>\r\n"
      ],
      "text/plain": [
       "<graphviz.files.Source at 0x21bcbf59208>"
      ]
     },
     "execution_count": 5,
     "metadata": {},
     "output_type": "execute_result"
    }
   ],
   "source": [
    "feature_name = ['酒精','苹果酸','灰','灰的碱性','镁','总酚','类黄酮','非黄烷类酚类','花青素','颜色强度','色调','od280/od315稀释葡萄酒','脯氨酸']     \n",
    "\n",
    "import graphviz #可视化组件，需自己安装，配置环境变量等\n",
    "dot_data = tree.export_graphviz(clf\n",
    "                                ,feature_names = feature_name\n",
    "                                ,class_names = [\"琴酒\",\"雪莉\",\"贝尔摩德\"]\n",
    "                                ,filled=True\n",
    "                                ,rounded=True\n",
    "                                )\n",
    "graph = graphviz.Source(dot_data)\n",
    "graph"
   ]
  },
  {
   "cell_type": "code",
   "execution_count": 16,
   "id": "broke-tractor",
   "metadata": {},
   "outputs": [
    {
     "data": {
      "text/plain": [
       "array([0.        , 0.        , 0.        , 0.        , 0.01409873,\n",
       "       0.        , 0.42969359, 0.        , 0.        , 0.20526723,\n",
       "       0.03433702, 0.        , 0.31660343])"
      ]
     },
     "execution_count": 16,
     "metadata": {},
     "output_type": "execute_result"
    }
   ],
   "source": [
    "clf.feature_importances_ #查看各个属性的重要程度"
   ]
  },
  {
   "cell_type": "code",
   "execution_count": 17,
   "id": "severe-botswana",
   "metadata": {},
   "outputs": [
    {
     "data": {
      "text/plain": [
       "[('酒精', 0.0),\n",
       " ('苹果酸', 0.0),\n",
       " ('灰', 0.0),\n",
       " ('灰的碱性', 0.0),\n",
       " ('镁', 0.014098732940305139),\n",
       " ('总酚', 0.0),\n",
       " ('类黄酮', 0.42969359075919755),\n",
       " ('非黄烷类酚类', 0.0),\n",
       " ('花青素', 0.0),\n",
       " ('颜色强度', 0.20526722675092324),\n",
       " ('色调', 0.03433701634375003),\n",
       " ('od280/od315稀释葡萄酒', 0.0),\n",
       " ('脯氨酸', 0.31660343320582407)]"
      ]
     },
     "execution_count": 17,
     "metadata": {},
     "output_type": "execute_result"
    }
   ],
   "source": [
    "[*zip(feature_name,clf.feature_importances_)]  #连成元组"
   ]
  },
  {
   "cell_type": "markdown",
   "id": "latin-reverse",
   "metadata": {},
   "source": [
    "## random_state与splitter"
   ]
  },
  {
   "cell_type": "markdown",
   "id": "experienced-arbor",
   "metadata": {},
   "source": [
    "random_state用来设置分支中的随机参数，默认None，在高维度时随机性会表现更加明显，低维度的数据（比如鸢尾花数据集），随机性几乎不会显现。输入任意整数，会一直长出同一棵树，让模型稳定下来。"
   ]
  },
  {
   "cell_type": "markdown",
   "id": "separated-preliminary",
   "metadata": {},
   "source": [
    "splitter也是用来控制决策树中的随机选项的，有两种输入值，输入“best”，决策树在分枝时虽然随机，但是还是会优先选择更重要的特征进行分枝（重要性通过属性feature_importances_查看），输入“random”，决策树在分枝时会更加随机，树会更深，对训练集的拟合将会降低。这也是放置过拟合的一种方式。当你预测你的模型会过拟合，用这两个参数来帮助你降低过拟合的可能性。"
   ]
  },
  {
   "cell_type": "code",
   "execution_count": 18,
   "id": "distributed-building",
   "metadata": {},
   "outputs": [
    {
     "data": {
      "text/plain": [
       "0.9259259259259259"
      ]
     },
     "execution_count": 18,
     "metadata": {},
     "output_type": "execute_result"
    }
   ],
   "source": [
    "#用random_state这个参数来设立随机数种子（随机模式20）因为之前它是随机选取一组特征来进行不纯度的计算\n",
    "clf = tree.DecisionTreeClassifier(criterion = \"entropy\",random_state=20)   #第一步：实例化  \n",
    "clf = clf.fit(Xtrain,Ytrain) #第二步：训练\n",
    "score = clf.score(Xtest,Ytest)  #第三步：返回预测的准确度accuracy\n",
    "\n",
    "score"
   ]
  },
  {
   "cell_type": "code",
   "execution_count": 20,
   "id": "specified-touch",
   "metadata": {},
   "outputs": [
    {
     "data": {
      "text/plain": [
       "0.9629629629629629"
      ]
     },
     "execution_count": 20,
     "metadata": {},
     "output_type": "execute_result"
    }
   ],
   "source": [
    "clf = tree.DecisionTreeClassifier(criterion = \"entropy\"\n",
    "                                  ,random_state=20\n",
    "                                  ,splitter=\"random\"\n",
    "                                 )   #第一步：实例化  \n",
    "clf = clf.fit(Xtrain,Ytrain) #第二步：训练\n",
    "score = clf.score(Xtest,Ytest)  #第三步：返回预测的准确度accuracy\n",
    "\n",
    "score"
   ]
  },
  {
   "cell_type": "code",
   "execution_count": 21,
   "id": "exciting-enzyme",
   "metadata": {},
   "outputs": [
    {
     "data": {
      "image/svg+xml": [
       "<?xml version=\"1.0\" encoding=\"UTF-8\" standalone=\"no\"?>\r\n",
       "<!DOCTYPE svg PUBLIC \"-//W3C//DTD SVG 1.1//EN\"\r\n",
       " \"http://www.w3.org/Graphics/SVG/1.1/DTD/svg11.dtd\">\r\n",
       "<!-- Generated by graphviz version 2.47.0 (20210316.0004)\r\n",
       " -->\r\n",
       "<!-- Title: Tree Pages: 1 -->\r\n",
       "<svg width=\"978pt\" height=\"790pt\"\r\n",
       " viewBox=\"0.00 0.00 977.50 790.00\" xmlns=\"http://www.w3.org/2000/svg\" xmlns:xlink=\"http://www.w3.org/1999/xlink\">\r\n",
       "<g id=\"graph0\" class=\"graph\" transform=\"scale(1 1) rotate(0) translate(4 786)\">\r\n",
       "<title>Tree</title>\r\n",
       "<polygon fill=\"white\" stroke=\"transparent\" points=\"-4,4 -4,-786 973.5,-786 973.5,4 -4,4\"/>\r\n",
       "<!-- 0 -->\r\n",
       "<g id=\"node1\" class=\"node\">\r\n",
       "<title>0</title>\r\n",
       "<path fill=\"#e8fcf0\" stroke=\"black\" d=\"M531.5,-782C531.5,-782 414.5,-782 414.5,-782 408.5,-782 402.5,-776 402.5,-770 402.5,-770 402.5,-711 402.5,-711 402.5,-705 408.5,-699 414.5,-699 414.5,-699 531.5,-699 531.5,-699 537.5,-699 543.5,-705 543.5,-711 543.5,-711 543.5,-770 543.5,-770 543.5,-776 537.5,-782 531.5,-782\"/>\r\n",
       "<text text-anchor=\"middle\" x=\"473\" y=\"-766.8\" font-family=\"Helvetica,sans-Serif\" font-size=\"14.00\">脯氨酸 &lt;= 772.707</text>\r\n",
       "<text text-anchor=\"middle\" x=\"473\" y=\"-751.8\" font-family=\"Helvetica,sans-Serif\" font-size=\"14.00\">entropy = 1.576</text>\r\n",
       "<text text-anchor=\"middle\" x=\"473\" y=\"-736.8\" font-family=\"Helvetica,sans-Serif\" font-size=\"14.00\">samples = 124</text>\r\n",
       "<text text-anchor=\"middle\" x=\"473\" y=\"-721.8\" font-family=\"Helvetica,sans-Serif\" font-size=\"14.00\">value = [38, 48, 38]</text>\r\n",
       "<text text-anchor=\"middle\" x=\"473\" y=\"-706.8\" font-family=\"Helvetica,sans-Serif\" font-size=\"14.00\">class = 雪莉</text>\r\n",
       "</g>\r\n",
       "<!-- 1 -->\r\n",
       "<g id=\"node2\" class=\"node\">\r\n",
       "<title>1</title>\r\n",
       "<path fill=\"#cdf8e0\" stroke=\"black\" d=\"M472,-663C472,-663 254,-663 254,-663 248,-663 242,-657 242,-651 242,-651 242,-592 242,-592 242,-586 248,-580 254,-580 254,-580 472,-580 472,-580 478,-580 484,-586 484,-592 484,-592 484,-651 484,-651 484,-657 478,-663 472,-663\"/>\r\n",
       "<text text-anchor=\"middle\" x=\"363\" y=\"-647.8\" font-family=\"Helvetica,sans-Serif\" font-size=\"14.00\">od280/od315稀释葡萄酒 &lt;= 1.964</text>\r\n",
       "<text text-anchor=\"middle\" x=\"363\" y=\"-632.8\" font-family=\"Helvetica,sans-Serif\" font-size=\"14.00\">entropy = 1.175</text>\r\n",
       "<text text-anchor=\"middle\" x=\"363\" y=\"-617.8\" font-family=\"Helvetica,sans-Serif\" font-size=\"14.00\">samples = 81</text>\r\n",
       "<text text-anchor=\"middle\" x=\"363\" y=\"-602.8\" font-family=\"Helvetica,sans-Serif\" font-size=\"14.00\">value = [3, 45, 33]</text>\r\n",
       "<text text-anchor=\"middle\" x=\"363\" y=\"-587.8\" font-family=\"Helvetica,sans-Serif\" font-size=\"14.00\">class = 雪莉</text>\r\n",
       "</g>\r\n",
       "<!-- 0&#45;&gt;1 -->\r\n",
       "<g id=\"edge1\" class=\"edge\">\r\n",
       "<title>0&#45;&gt;1</title>\r\n",
       "<path fill=\"none\" stroke=\"black\" d=\"M434.84,-698.91C426.22,-689.74 416.99,-679.93 408.12,-670.49\"/>\r\n",
       "<polygon fill=\"black\" stroke=\"black\" points=\"410.5,-667.91 401.1,-663.02 405.4,-672.7 410.5,-667.91\"/>\r\n",
       "<text text-anchor=\"middle\" x=\"400.33\" y=\"-684.31\" font-family=\"Helvetica,sans-Serif\" font-size=\"14.00\">True</text>\r\n",
       "</g>\r\n",
       "<!-- 16 -->\r\n",
       "<g id=\"node17\" class=\"node\">\r\n",
       "<title>16</title>\r\n",
       "<path fill=\"#ea9c63\" stroke=\"black\" d=\"M620.5,-663C620.5,-663 519.5,-663 519.5,-663 513.5,-663 507.5,-657 507.5,-651 507.5,-651 507.5,-592 507.5,-592 507.5,-586 513.5,-580 519.5,-580 519.5,-580 620.5,-580 620.5,-580 626.5,-580 632.5,-586 632.5,-592 632.5,-592 632.5,-651 632.5,-651 632.5,-657 626.5,-663 620.5,-663\"/>\r\n",
       "<text text-anchor=\"middle\" x=\"570\" y=\"-647.8\" font-family=\"Helvetica,sans-Serif\" font-size=\"14.00\">类黄酮 &lt;= 0.975</text>\r\n",
       "<text text-anchor=\"middle\" x=\"570\" y=\"-632.8\" font-family=\"Helvetica,sans-Serif\" font-size=\"14.00\">entropy = 0.871</text>\r\n",
       "<text text-anchor=\"middle\" x=\"570\" y=\"-617.8\" font-family=\"Helvetica,sans-Serif\" font-size=\"14.00\">samples = 43</text>\r\n",
       "<text text-anchor=\"middle\" x=\"570\" y=\"-602.8\" font-family=\"Helvetica,sans-Serif\" font-size=\"14.00\">value = [35, 3, 5]</text>\r\n",
       "<text text-anchor=\"middle\" x=\"570\" y=\"-587.8\" font-family=\"Helvetica,sans-Serif\" font-size=\"14.00\">class = 琴酒</text>\r\n",
       "</g>\r\n",
       "<!-- 0&#45;&gt;16 -->\r\n",
       "<g id=\"edge16\" class=\"edge\">\r\n",
       "<title>0&#45;&gt;16</title>\r\n",
       "<path fill=\"none\" stroke=\"black\" d=\"M506.65,-698.91C514.18,-689.83 522.23,-680.12 529.98,-670.77\"/>\r\n",
       "<polygon fill=\"black\" stroke=\"black\" points=\"532.72,-672.95 536.41,-663.02 527.33,-668.49 532.72,-672.95\"/>\r\n",
       "<text text-anchor=\"middle\" x=\"538.73\" y=\"-684.21\" font-family=\"Helvetica,sans-Serif\" font-size=\"14.00\">False</text>\r\n",
       "</g>\r\n",
       "<!-- 2 -->\r\n",
       "<g id=\"node3\" class=\"node\">\r\n",
       "<title>2</title>\r\n",
       "<path fill=\"#9254e9\" stroke=\"black\" d=\"M261,-544C261,-544 157,-544 157,-544 151,-544 145,-538 145,-532 145,-532 145,-473 145,-473 145,-467 151,-461 157,-461 157,-461 261,-461 261,-461 267,-461 273,-467 273,-473 273,-473 273,-532 273,-532 273,-538 267,-544 261,-544\"/>\r\n",
       "<text text-anchor=\"middle\" x=\"209\" y=\"-528.8\" font-family=\"Helvetica,sans-Serif\" font-size=\"14.00\">色调 &lt;= 0.906</text>\r\n",
       "<text text-anchor=\"middle\" x=\"209\" y=\"-513.8\" font-family=\"Helvetica,sans-Serif\" font-size=\"14.00\">entropy = 0.533</text>\r\n",
       "<text text-anchor=\"middle\" x=\"209\" y=\"-498.8\" font-family=\"Helvetica,sans-Serif\" font-size=\"14.00\">samples = 33</text>\r\n",
       "<text text-anchor=\"middle\" x=\"209\" y=\"-483.8\" font-family=\"Helvetica,sans-Serif\" font-size=\"14.00\">value = [0, 4, 29]</text>\r\n",
       "<text text-anchor=\"middle\" x=\"209\" y=\"-468.8\" font-family=\"Helvetica,sans-Serif\" font-size=\"14.00\">class = 贝尔摩德</text>\r\n",
       "</g>\r\n",
       "<!-- 1&#45;&gt;2 -->\r\n",
       "<g id=\"edge2\" class=\"edge\">\r\n",
       "<title>1&#45;&gt;2</title>\r\n",
       "<path fill=\"none\" stroke=\"black\" d=\"M309.57,-579.91C296.91,-570.29 283.31,-559.95 270.32,-550.09\"/>\r\n",
       "<polygon fill=\"black\" stroke=\"black\" points=\"272.42,-547.28 262.34,-544.02 268.18,-552.86 272.42,-547.28\"/>\r\n",
       "</g>\r\n",
       "<!-- 7 -->\r\n",
       "<g id=\"node8\" class=\"node\">\r\n",
       "<title>7</title>\r\n",
       "<path fill=\"#59e995\" stroke=\"black\" d=\"M413.5,-544C413.5,-544 312.5,-544 312.5,-544 306.5,-544 300.5,-538 300.5,-532 300.5,-532 300.5,-473 300.5,-473 300.5,-467 306.5,-461 312.5,-461 312.5,-461 413.5,-461 413.5,-461 419.5,-461 425.5,-467 425.5,-473 425.5,-473 425.5,-532 425.5,-532 425.5,-538 419.5,-544 413.5,-544\"/>\r\n",
       "<text text-anchor=\"middle\" x=\"363\" y=\"-528.8\" font-family=\"Helvetica,sans-Serif\" font-size=\"14.00\">类黄酮 &lt;= 0.918</text>\r\n",
       "<text text-anchor=\"middle\" x=\"363\" y=\"-513.8\" font-family=\"Helvetica,sans-Serif\" font-size=\"14.00\">entropy = 0.743</text>\r\n",
       "<text text-anchor=\"middle\" x=\"363\" y=\"-498.8\" font-family=\"Helvetica,sans-Serif\" font-size=\"14.00\">samples = 48</text>\r\n",
       "<text text-anchor=\"middle\" x=\"363\" y=\"-483.8\" font-family=\"Helvetica,sans-Serif\" font-size=\"14.00\">value = [3, 41, 4]</text>\r\n",
       "<text text-anchor=\"middle\" x=\"363\" y=\"-468.8\" font-family=\"Helvetica,sans-Serif\" font-size=\"14.00\">class = 雪莉</text>\r\n",
       "</g>\r\n",
       "<!-- 1&#45;&gt;7 -->\r\n",
       "<g id=\"edge7\" class=\"edge\">\r\n",
       "<title>1&#45;&gt;7</title>\r\n",
       "<path fill=\"none\" stroke=\"black\" d=\"M363,-579.91C363,-571.65 363,-562.86 363,-554.3\"/>\r\n",
       "<polygon fill=\"black\" stroke=\"black\" points=\"366.5,-554.02 363,-544.02 359.5,-554.02 366.5,-554.02\"/>\r\n",
       "</g>\r\n",
       "<!-- 3 -->\r\n",
       "<g id=\"node4\" class=\"node\">\r\n",
       "<title>3</title>\r\n",
       "<path fill=\"#8139e5\" stroke=\"black\" d=\"M116,-417.5C116,-417.5 12,-417.5 12,-417.5 6,-417.5 0,-411.5 0,-405.5 0,-405.5 0,-361.5 0,-361.5 0,-355.5 6,-349.5 12,-349.5 12,-349.5 116,-349.5 116,-349.5 122,-349.5 128,-355.5 128,-361.5 128,-361.5 128,-405.5 128,-405.5 128,-411.5 122,-417.5 116,-417.5\"/>\r\n",
       "<text text-anchor=\"middle\" x=\"64\" y=\"-402.3\" font-family=\"Helvetica,sans-Serif\" font-size=\"14.00\">entropy = 0.0</text>\r\n",
       "<text text-anchor=\"middle\" x=\"64\" y=\"-387.3\" font-family=\"Helvetica,sans-Serif\" font-size=\"14.00\">samples = 28</text>\r\n",
       "<text text-anchor=\"middle\" x=\"64\" y=\"-372.3\" font-family=\"Helvetica,sans-Serif\" font-size=\"14.00\">value = [0, 0, 28]</text>\r\n",
       "<text text-anchor=\"middle\" x=\"64\" y=\"-357.3\" font-family=\"Helvetica,sans-Serif\" font-size=\"14.00\">class = 贝尔摩德</text>\r\n",
       "</g>\r\n",
       "<!-- 2&#45;&gt;3 -->\r\n",
       "<g id=\"edge3\" class=\"edge\">\r\n",
       "<title>2&#45;&gt;3</title>\r\n",
       "<path fill=\"none\" stroke=\"black\" d=\"M158.69,-460.91C143.92,-448.99 127.79,-435.98 113.1,-424.12\"/>\r\n",
       "<polygon fill=\"black\" stroke=\"black\" points=\"115.08,-421.22 105.1,-417.67 110.69,-426.67 115.08,-421.22\"/>\r\n",
       "</g>\r\n",
       "<!-- 4 -->\r\n",
       "<g id=\"node5\" class=\"node\">\r\n",
       "<title>4</title>\r\n",
       "<path fill=\"#6aeca0\" stroke=\"black\" d=\"M259.5,-425C259.5,-425 158.5,-425 158.5,-425 152.5,-425 146.5,-419 146.5,-413 146.5,-413 146.5,-354 146.5,-354 146.5,-348 152.5,-342 158.5,-342 158.5,-342 259.5,-342 259.5,-342 265.5,-342 271.5,-348 271.5,-354 271.5,-354 271.5,-413 271.5,-413 271.5,-419 265.5,-425 259.5,-425\"/>\r\n",
       "<text text-anchor=\"middle\" x=\"209\" y=\"-409.8\" font-family=\"Helvetica,sans-Serif\" font-size=\"14.00\">苹果酸 &lt;= 2.871</text>\r\n",
       "<text text-anchor=\"middle\" x=\"209\" y=\"-394.8\" font-family=\"Helvetica,sans-Serif\" font-size=\"14.00\">entropy = 0.722</text>\r\n",
       "<text text-anchor=\"middle\" x=\"209\" y=\"-379.8\" font-family=\"Helvetica,sans-Serif\" font-size=\"14.00\">samples = 5</text>\r\n",
       "<text text-anchor=\"middle\" x=\"209\" y=\"-364.8\" font-family=\"Helvetica,sans-Serif\" font-size=\"14.00\">value = [0, 4, 1]</text>\r\n",
       "<text text-anchor=\"middle\" x=\"209\" y=\"-349.8\" font-family=\"Helvetica,sans-Serif\" font-size=\"14.00\">class = 雪莉</text>\r\n",
       "</g>\r\n",
       "<!-- 2&#45;&gt;4 -->\r\n",
       "<g id=\"edge4\" class=\"edge\">\r\n",
       "<title>2&#45;&gt;4</title>\r\n",
       "<path fill=\"none\" stroke=\"black\" d=\"M209,-460.91C209,-452.65 209,-443.86 209,-435.3\"/>\r\n",
       "<polygon fill=\"black\" stroke=\"black\" points=\"212.5,-435.02 209,-425.02 205.5,-435.02 212.5,-435.02\"/>\r\n",
       "</g>\r\n",
       "<!-- 5 -->\r\n",
       "<g id=\"node6\" class=\"node\">\r\n",
       "<title>5</title>\r\n",
       "<path fill=\"#39e581\" stroke=\"black\" d=\"M123.5,-298.5C123.5,-298.5 34.5,-298.5 34.5,-298.5 28.5,-298.5 22.5,-292.5 22.5,-286.5 22.5,-286.5 22.5,-242.5 22.5,-242.5 22.5,-236.5 28.5,-230.5 34.5,-230.5 34.5,-230.5 123.5,-230.5 123.5,-230.5 129.5,-230.5 135.5,-236.5 135.5,-242.5 135.5,-242.5 135.5,-286.5 135.5,-286.5 135.5,-292.5 129.5,-298.5 123.5,-298.5\"/>\r\n",
       "<text text-anchor=\"middle\" x=\"79\" y=\"-283.3\" font-family=\"Helvetica,sans-Serif\" font-size=\"14.00\">entropy = 0.0</text>\r\n",
       "<text text-anchor=\"middle\" x=\"79\" y=\"-268.3\" font-family=\"Helvetica,sans-Serif\" font-size=\"14.00\">samples = 4</text>\r\n",
       "<text text-anchor=\"middle\" x=\"79\" y=\"-253.3\" font-family=\"Helvetica,sans-Serif\" font-size=\"14.00\">value = [0, 4, 0]</text>\r\n",
       "<text text-anchor=\"middle\" x=\"79\" y=\"-238.3\" font-family=\"Helvetica,sans-Serif\" font-size=\"14.00\">class = 雪莉</text>\r\n",
       "</g>\r\n",
       "<!-- 4&#45;&gt;5 -->\r\n",
       "<g id=\"edge5\" class=\"edge\">\r\n",
       "<title>4&#45;&gt;5</title>\r\n",
       "<path fill=\"none\" stroke=\"black\" d=\"M163.9,-341.91C150.78,-330.1 136.46,-317.22 123.39,-305.45\"/>\r\n",
       "<polygon fill=\"black\" stroke=\"black\" points=\"125.63,-302.76 115.85,-298.67 120.94,-307.96 125.63,-302.76\"/>\r\n",
       "</g>\r\n",
       "<!-- 6 -->\r\n",
       "<g id=\"node7\" class=\"node\">\r\n",
       "<title>6</title>\r\n",
       "<path fill=\"#8139e5\" stroke=\"black\" d=\"M270,-298.5C270,-298.5 166,-298.5 166,-298.5 160,-298.5 154,-292.5 154,-286.5 154,-286.5 154,-242.5 154,-242.5 154,-236.5 160,-230.5 166,-230.5 166,-230.5 270,-230.5 270,-230.5 276,-230.5 282,-236.5 282,-242.5 282,-242.5 282,-286.5 282,-286.5 282,-292.5 276,-298.5 270,-298.5\"/>\r\n",
       "<text text-anchor=\"middle\" x=\"218\" y=\"-283.3\" font-family=\"Helvetica,sans-Serif\" font-size=\"14.00\">entropy = 0.0</text>\r\n",
       "<text text-anchor=\"middle\" x=\"218\" y=\"-268.3\" font-family=\"Helvetica,sans-Serif\" font-size=\"14.00\">samples = 1</text>\r\n",
       "<text text-anchor=\"middle\" x=\"218\" y=\"-253.3\" font-family=\"Helvetica,sans-Serif\" font-size=\"14.00\">value = [0, 0, 1]</text>\r\n",
       "<text text-anchor=\"middle\" x=\"218\" y=\"-238.3\" font-family=\"Helvetica,sans-Serif\" font-size=\"14.00\">class = 贝尔摩德</text>\r\n",
       "</g>\r\n",
       "<!-- 4&#45;&gt;6 -->\r\n",
       "<g id=\"edge6\" class=\"edge\">\r\n",
       "<title>4&#45;&gt;6</title>\r\n",
       "<path fill=\"none\" stroke=\"black\" d=\"M212.12,-341.91C212.95,-331.2 213.84,-319.62 214.67,-308.78\"/>\r\n",
       "<polygon fill=\"black\" stroke=\"black\" points=\"218.17,-308.91 215.45,-298.67 211.19,-308.37 218.17,-308.91\"/>\r\n",
       "</g>\r\n",
       "<!-- 8 -->\r\n",
       "<g id=\"node9\" class=\"node\">\r\n",
       "<title>8</title>\r\n",
       "<path fill=\"#8139e5\" stroke=\"black\" d=\"M406,-417.5C406,-417.5 302,-417.5 302,-417.5 296,-417.5 290,-411.5 290,-405.5 290,-405.5 290,-361.5 290,-361.5 290,-355.5 296,-349.5 302,-349.5 302,-349.5 406,-349.5 406,-349.5 412,-349.5 418,-355.5 418,-361.5 418,-361.5 418,-405.5 418,-405.5 418,-411.5 412,-417.5 406,-417.5\"/>\r\n",
       "<text text-anchor=\"middle\" x=\"354\" y=\"-402.3\" font-family=\"Helvetica,sans-Serif\" font-size=\"14.00\">entropy = 0.0</text>\r\n",
       "<text text-anchor=\"middle\" x=\"354\" y=\"-387.3\" font-family=\"Helvetica,sans-Serif\" font-size=\"14.00\">samples = 4</text>\r\n",
       "<text text-anchor=\"middle\" x=\"354\" y=\"-372.3\" font-family=\"Helvetica,sans-Serif\" font-size=\"14.00\">value = [0, 0, 4]</text>\r\n",
       "<text text-anchor=\"middle\" x=\"354\" y=\"-357.3\" font-family=\"Helvetica,sans-Serif\" font-size=\"14.00\">class = 贝尔摩德</text>\r\n",
       "</g>\r\n",
       "<!-- 7&#45;&gt;8 -->\r\n",
       "<g id=\"edge8\" class=\"edge\">\r\n",
       "<title>7&#45;&gt;8</title>\r\n",
       "<path fill=\"none\" stroke=\"black\" d=\"M359.88,-460.91C359.05,-450.2 358.16,-438.62 357.33,-427.78\"/>\r\n",
       "<polygon fill=\"black\" stroke=\"black\" points=\"360.81,-427.37 356.55,-417.67 353.83,-427.91 360.81,-427.37\"/>\r\n",
       "</g>\r\n",
       "<!-- 9 -->\r\n",
       "<g id=\"node10\" class=\"node\">\r\n",
       "<title>9</title>\r\n",
       "<path fill=\"#47e78a\" stroke=\"black\" d=\"M565.5,-425C565.5,-425 448.5,-425 448.5,-425 442.5,-425 436.5,-419 436.5,-413 436.5,-413 436.5,-354 436.5,-354 436.5,-348 442.5,-342 448.5,-342 448.5,-342 565.5,-342 565.5,-342 571.5,-342 577.5,-348 577.5,-354 577.5,-354 577.5,-413 577.5,-413 577.5,-419 571.5,-425 565.5,-425\"/>\r\n",
       "<text text-anchor=\"middle\" x=\"507\" y=\"-409.8\" font-family=\"Helvetica,sans-Serif\" font-size=\"14.00\">脯氨酸 &lt;= 670.638</text>\r\n",
       "<text text-anchor=\"middle\" x=\"507\" y=\"-394.8\" font-family=\"Helvetica,sans-Serif\" font-size=\"14.00\">entropy = 0.359</text>\r\n",
       "<text text-anchor=\"middle\" x=\"507\" y=\"-379.8\" font-family=\"Helvetica,sans-Serif\" font-size=\"14.00\">samples = 44</text>\r\n",
       "<text text-anchor=\"middle\" x=\"507\" y=\"-364.8\" font-family=\"Helvetica,sans-Serif\" font-size=\"14.00\">value = [3, 41, 0]</text>\r\n",
       "<text text-anchor=\"middle\" x=\"507\" y=\"-349.8\" font-family=\"Helvetica,sans-Serif\" font-size=\"14.00\">class = 雪莉</text>\r\n",
       "</g>\r\n",
       "<!-- 7&#45;&gt;9 -->\r\n",
       "<g id=\"edge9\" class=\"edge\">\r\n",
       "<title>7&#45;&gt;9</title>\r\n",
       "<path fill=\"none\" stroke=\"black\" d=\"M412.96,-460.91C424.69,-451.38 437.28,-441.15 449.31,-431.37\"/>\r\n",
       "<polygon fill=\"black\" stroke=\"black\" points=\"451.57,-434.04 457.13,-425.02 447.16,-428.61 451.57,-434.04\"/>\r\n",
       "</g>\r\n",
       "<!-- 10 -->\r\n",
       "<g id=\"node11\" class=\"node\">\r\n",
       "<title>10</title>\r\n",
       "<path fill=\"#39e581\" stroke=\"black\" d=\"M444.5,-298.5C444.5,-298.5 347.5,-298.5 347.5,-298.5 341.5,-298.5 335.5,-292.5 335.5,-286.5 335.5,-286.5 335.5,-242.5 335.5,-242.5 335.5,-236.5 341.5,-230.5 347.5,-230.5 347.5,-230.5 444.5,-230.5 444.5,-230.5 450.5,-230.5 456.5,-236.5 456.5,-242.5 456.5,-242.5 456.5,-286.5 456.5,-286.5 456.5,-292.5 450.5,-298.5 444.5,-298.5\"/>\r\n",
       "<text text-anchor=\"middle\" x=\"396\" y=\"-283.3\" font-family=\"Helvetica,sans-Serif\" font-size=\"14.00\">entropy = 0.0</text>\r\n",
       "<text text-anchor=\"middle\" x=\"396\" y=\"-268.3\" font-family=\"Helvetica,sans-Serif\" font-size=\"14.00\">samples = 36</text>\r\n",
       "<text text-anchor=\"middle\" x=\"396\" y=\"-253.3\" font-family=\"Helvetica,sans-Serif\" font-size=\"14.00\">value = [0, 36, 0]</text>\r\n",
       "<text text-anchor=\"middle\" x=\"396\" y=\"-238.3\" font-family=\"Helvetica,sans-Serif\" font-size=\"14.00\">class = 雪莉</text>\r\n",
       "</g>\r\n",
       "<!-- 9&#45;&gt;10 -->\r\n",
       "<g id=\"edge10\" class=\"edge\">\r\n",
       "<title>9&#45;&gt;10</title>\r\n",
       "<path fill=\"none\" stroke=\"black\" d=\"M468.49,-341.91C457.5,-330.32 445.52,-317.7 434.53,-306.11\"/>\r\n",
       "<polygon fill=\"black\" stroke=\"black\" points=\"436.89,-303.51 427.47,-298.67 431.81,-308.33 436.89,-303.51\"/>\r\n",
       "</g>\r\n",
       "<!-- 11 -->\r\n",
       "<g id=\"node12\" class=\"node\">\r\n",
       "<title>11</title>\r\n",
       "<path fill=\"#b0f5cd\" stroke=\"black\" d=\"M603,-306C603,-306 487,-306 487,-306 481,-306 475,-300 475,-294 475,-294 475,-235 475,-235 475,-229 481,-223 487,-223 487,-223 603,-223 603,-223 609,-223 615,-229 615,-235 615,-235 615,-294 615,-294 615,-300 609,-306 603,-306\"/>\r\n",
       "<text text-anchor=\"middle\" x=\"545\" y=\"-290.8\" font-family=\"Helvetica,sans-Serif\" font-size=\"14.00\">颜色强度 &lt;= 3.756</text>\r\n",
       "<text text-anchor=\"middle\" x=\"545\" y=\"-275.8\" font-family=\"Helvetica,sans-Serif\" font-size=\"14.00\">entropy = 0.954</text>\r\n",
       "<text text-anchor=\"middle\" x=\"545\" y=\"-260.8\" font-family=\"Helvetica,sans-Serif\" font-size=\"14.00\">samples = 8</text>\r\n",
       "<text text-anchor=\"middle\" x=\"545\" y=\"-245.8\" font-family=\"Helvetica,sans-Serif\" font-size=\"14.00\">value = [3, 5, 0]</text>\r\n",
       "<text text-anchor=\"middle\" x=\"545\" y=\"-230.8\" font-family=\"Helvetica,sans-Serif\" font-size=\"14.00\">class = 雪莉</text>\r\n",
       "</g>\r\n",
       "<!-- 9&#45;&gt;11 -->\r\n",
       "<g id=\"edge11\" class=\"edge\">\r\n",
       "<title>9&#45;&gt;11</title>\r\n",
       "<path fill=\"none\" stroke=\"black\" d=\"M520.18,-341.91C522.93,-333.47 525.84,-324.48 528.68,-315.74\"/>\r\n",
       "<polygon fill=\"black\" stroke=\"black\" points=\"532.08,-316.61 531.84,-306.02 525.42,-314.45 532.08,-316.61\"/>\r\n",
       "</g>\r\n",
       "<!-- 12 -->\r\n",
       "<g id=\"node13\" class=\"node\">\r\n",
       "<title>12</title>\r\n",
       "<path fill=\"#39e581\" stroke=\"black\" d=\"M463.5,-179.5C463.5,-179.5 374.5,-179.5 374.5,-179.5 368.5,-179.5 362.5,-173.5 362.5,-167.5 362.5,-167.5 362.5,-123.5 362.5,-123.5 362.5,-117.5 368.5,-111.5 374.5,-111.5 374.5,-111.5 463.5,-111.5 463.5,-111.5 469.5,-111.5 475.5,-117.5 475.5,-123.5 475.5,-123.5 475.5,-167.5 475.5,-167.5 475.5,-173.5 469.5,-179.5 463.5,-179.5\"/>\r\n",
       "<text text-anchor=\"middle\" x=\"419\" y=\"-164.3\" font-family=\"Helvetica,sans-Serif\" font-size=\"14.00\">entropy = 0.0</text>\r\n",
       "<text text-anchor=\"middle\" x=\"419\" y=\"-149.3\" font-family=\"Helvetica,sans-Serif\" font-size=\"14.00\">samples = 4</text>\r\n",
       "<text text-anchor=\"middle\" x=\"419\" y=\"-134.3\" font-family=\"Helvetica,sans-Serif\" font-size=\"14.00\">value = [0, 4, 0]</text>\r\n",
       "<text text-anchor=\"middle\" x=\"419\" y=\"-119.3\" font-family=\"Helvetica,sans-Serif\" font-size=\"14.00\">class = 雪莉</text>\r\n",
       "</g>\r\n",
       "<!-- 11&#45;&gt;12 -->\r\n",
       "<g id=\"edge12\" class=\"edge\">\r\n",
       "<title>11&#45;&gt;12</title>\r\n",
       "<path fill=\"none\" stroke=\"black\" d=\"M501.28,-222.91C488.69,-211.21 474.95,-198.46 462.38,-186.78\"/>\r\n",
       "<polygon fill=\"black\" stroke=\"black\" points=\"464.43,-183.91 454.72,-179.67 459.66,-189.04 464.43,-183.91\"/>\r\n",
       "</g>\r\n",
       "<!-- 13 -->\r\n",
       "<g id=\"node14\" class=\"node\">\r\n",
       "<title>13</title>\r\n",
       "<path fill=\"#eeab7b\" stroke=\"black\" d=\"M606.5,-187C606.5,-187 505.5,-187 505.5,-187 499.5,-187 493.5,-181 493.5,-175 493.5,-175 493.5,-116 493.5,-116 493.5,-110 499.5,-104 505.5,-104 505.5,-104 606.5,-104 606.5,-104 612.5,-104 618.5,-110 618.5,-116 618.5,-116 618.5,-175 618.5,-175 618.5,-181 612.5,-187 606.5,-187\"/>\r\n",
       "<text text-anchor=\"middle\" x=\"556\" y=\"-171.8\" font-family=\"Helvetica,sans-Serif\" font-size=\"14.00\">苹果酸 &lt;= 1.288</text>\r\n",
       "<text text-anchor=\"middle\" x=\"556\" y=\"-156.8\" font-family=\"Helvetica,sans-Serif\" font-size=\"14.00\">entropy = 0.811</text>\r\n",
       "<text text-anchor=\"middle\" x=\"556\" y=\"-141.8\" font-family=\"Helvetica,sans-Serif\" font-size=\"14.00\">samples = 4</text>\r\n",
       "<text text-anchor=\"middle\" x=\"556\" y=\"-126.8\" font-family=\"Helvetica,sans-Serif\" font-size=\"14.00\">value = [3, 1, 0]</text>\r\n",
       "<text text-anchor=\"middle\" x=\"556\" y=\"-111.8\" font-family=\"Helvetica,sans-Serif\" font-size=\"14.00\">class = 琴酒</text>\r\n",
       "</g>\r\n",
       "<!-- 11&#45;&gt;13 -->\r\n",
       "<g id=\"edge13\" class=\"edge\">\r\n",
       "<title>11&#45;&gt;13</title>\r\n",
       "<path fill=\"none\" stroke=\"black\" d=\"M548.82,-222.91C549.6,-214.56 550.44,-205.67 551.25,-197.02\"/>\r\n",
       "<polygon fill=\"black\" stroke=\"black\" points=\"554.74,-197.3 552.19,-187.02 547.77,-196.65 554.74,-197.3\"/>\r\n",
       "</g>\r\n",
       "<!-- 14 -->\r\n",
       "<g id=\"node15\" class=\"node\">\r\n",
       "<title>14</title>\r\n",
       "<path fill=\"#39e581\" stroke=\"black\" d=\"M534.5,-68C534.5,-68 445.5,-68 445.5,-68 439.5,-68 433.5,-62 433.5,-56 433.5,-56 433.5,-12 433.5,-12 433.5,-6 439.5,0 445.5,0 445.5,0 534.5,0 534.5,0 540.5,0 546.5,-6 546.5,-12 546.5,-12 546.5,-56 546.5,-56 546.5,-62 540.5,-68 534.5,-68\"/>\r\n",
       "<text text-anchor=\"middle\" x=\"490\" y=\"-52.8\" font-family=\"Helvetica,sans-Serif\" font-size=\"14.00\">entropy = 0.0</text>\r\n",
       "<text text-anchor=\"middle\" x=\"490\" y=\"-37.8\" font-family=\"Helvetica,sans-Serif\" font-size=\"14.00\">samples = 1</text>\r\n",
       "<text text-anchor=\"middle\" x=\"490\" y=\"-22.8\" font-family=\"Helvetica,sans-Serif\" font-size=\"14.00\">value = [0, 1, 0]</text>\r\n",
       "<text text-anchor=\"middle\" x=\"490\" y=\"-7.8\" font-family=\"Helvetica,sans-Serif\" font-size=\"14.00\">class = 雪莉</text>\r\n",
       "</g>\r\n",
       "<!-- 13&#45;&gt;14 -->\r\n",
       "<g id=\"edge14\" class=\"edge\">\r\n",
       "<title>13&#45;&gt;14</title>\r\n",
       "<path fill=\"none\" stroke=\"black\" d=\"M531.42,-103.73C526.15,-94.97 520.56,-85.7 515.26,-76.91\"/>\r\n",
       "<polygon fill=\"black\" stroke=\"black\" points=\"518.23,-75.06 510.07,-68.3 512.24,-78.67 518.23,-75.06\"/>\r\n",
       "</g>\r\n",
       "<!-- 15 -->\r\n",
       "<g id=\"node16\" class=\"node\">\r\n",
       "<title>15</title>\r\n",
       "<path fill=\"#e58139\" stroke=\"black\" d=\"M665.5,-68C665.5,-68 576.5,-68 576.5,-68 570.5,-68 564.5,-62 564.5,-56 564.5,-56 564.5,-12 564.5,-12 564.5,-6 570.5,0 576.5,0 576.5,0 665.5,0 665.5,0 671.5,0 677.5,-6 677.5,-12 677.5,-12 677.5,-56 677.5,-56 677.5,-62 671.5,-68 665.5,-68\"/>\r\n",
       "<text text-anchor=\"middle\" x=\"621\" y=\"-52.8\" font-family=\"Helvetica,sans-Serif\" font-size=\"14.00\">entropy = 0.0</text>\r\n",
       "<text text-anchor=\"middle\" x=\"621\" y=\"-37.8\" font-family=\"Helvetica,sans-Serif\" font-size=\"14.00\">samples = 3</text>\r\n",
       "<text text-anchor=\"middle\" x=\"621\" y=\"-22.8\" font-family=\"Helvetica,sans-Serif\" font-size=\"14.00\">value = [3, 0, 0]</text>\r\n",
       "<text text-anchor=\"middle\" x=\"621\" y=\"-7.8\" font-family=\"Helvetica,sans-Serif\" font-size=\"14.00\">class = 琴酒</text>\r\n",
       "</g>\r\n",
       "<!-- 13&#45;&gt;15 -->\r\n",
       "<g id=\"edge15\" class=\"edge\">\r\n",
       "<title>13&#45;&gt;15</title>\r\n",
       "<path fill=\"none\" stroke=\"black\" d=\"M580.2,-103.73C585.4,-94.97 590.9,-85.7 596.12,-76.91\"/>\r\n",
       "<polygon fill=\"black\" stroke=\"black\" points=\"599.14,-78.69 601.23,-68.3 593.12,-75.11 599.14,-78.69\"/>\r\n",
       "</g>\r\n",
       "<!-- 17 -->\r\n",
       "<g id=\"node18\" class=\"node\">\r\n",
       "<title>17</title>\r\n",
       "<path fill=\"#8139e5\" stroke=\"black\" d=\"M622,-536.5C622,-536.5 518,-536.5 518,-536.5 512,-536.5 506,-530.5 506,-524.5 506,-524.5 506,-480.5 506,-480.5 506,-474.5 512,-468.5 518,-468.5 518,-468.5 622,-468.5 622,-468.5 628,-468.5 634,-474.5 634,-480.5 634,-480.5 634,-524.5 634,-524.5 634,-530.5 628,-536.5 622,-536.5\"/>\r\n",
       "<text text-anchor=\"middle\" x=\"570\" y=\"-521.3\" font-family=\"Helvetica,sans-Serif\" font-size=\"14.00\">entropy = 0.0</text>\r\n",
       "<text text-anchor=\"middle\" x=\"570\" y=\"-506.3\" font-family=\"Helvetica,sans-Serif\" font-size=\"14.00\">samples = 5</text>\r\n",
       "<text text-anchor=\"middle\" x=\"570\" y=\"-491.3\" font-family=\"Helvetica,sans-Serif\" font-size=\"14.00\">value = [0, 0, 5]</text>\r\n",
       "<text text-anchor=\"middle\" x=\"570\" y=\"-476.3\" font-family=\"Helvetica,sans-Serif\" font-size=\"14.00\">class = 贝尔摩德</text>\r\n",
       "</g>\r\n",
       "<!-- 16&#45;&gt;17 -->\r\n",
       "<g id=\"edge17\" class=\"edge\">\r\n",
       "<title>16&#45;&gt;17</title>\r\n",
       "<path fill=\"none\" stroke=\"black\" d=\"M570,-579.91C570,-569.2 570,-557.62 570,-546.78\"/>\r\n",
       "<polygon fill=\"black\" stroke=\"black\" points=\"573.5,-546.67 570,-536.67 566.5,-546.67 573.5,-546.67\"/>\r\n",
       "</g>\r\n",
       "<!-- 18 -->\r\n",
       "<g id=\"node19\" class=\"node\">\r\n",
       "<title>18</title>\r\n",
       "<path fill=\"#e78c4a\" stroke=\"black\" d=\"M765.5,-544C765.5,-544 668.5,-544 668.5,-544 662.5,-544 656.5,-538 656.5,-532 656.5,-532 656.5,-473 656.5,-473 656.5,-467 662.5,-461 668.5,-461 668.5,-461 765.5,-461 765.5,-461 771.5,-461 777.5,-467 777.5,-473 777.5,-473 777.5,-532 777.5,-532 777.5,-538 771.5,-544 765.5,-544\"/>\r\n",
       "<text text-anchor=\"middle\" x=\"717\" y=\"-528.8\" font-family=\"Helvetica,sans-Serif\" font-size=\"14.00\">镁 &lt;= 135.084</text>\r\n",
       "<text text-anchor=\"middle\" x=\"717\" y=\"-513.8\" font-family=\"Helvetica,sans-Serif\" font-size=\"14.00\">entropy = 0.398</text>\r\n",
       "<text text-anchor=\"middle\" x=\"717\" y=\"-498.8\" font-family=\"Helvetica,sans-Serif\" font-size=\"14.00\">samples = 38</text>\r\n",
       "<text text-anchor=\"middle\" x=\"717\" y=\"-483.8\" font-family=\"Helvetica,sans-Serif\" font-size=\"14.00\">value = [35, 3, 0]</text>\r\n",
       "<text text-anchor=\"middle\" x=\"717\" y=\"-468.8\" font-family=\"Helvetica,sans-Serif\" font-size=\"14.00\">class = 琴酒</text>\r\n",
       "</g>\r\n",
       "<!-- 16&#45;&gt;18 -->\r\n",
       "<g id=\"edge18\" class=\"edge\">\r\n",
       "<title>16&#45;&gt;18</title>\r\n",
       "<path fill=\"none\" stroke=\"black\" d=\"M621,-579.91C632.97,-570.38 645.83,-560.15 658.11,-550.37\"/>\r\n",
       "<polygon fill=\"black\" stroke=\"black\" points=\"660.44,-552.99 666.09,-544.02 656.09,-547.51 660.44,-552.99\"/>\r\n",
       "</g>\r\n",
       "<!-- 19 -->\r\n",
       "<g id=\"node20\" class=\"node\">\r\n",
       "<title>19</title>\r\n",
       "<path fill=\"#e6853f\" stroke=\"black\" d=\"M826,-425C826,-425 608,-425 608,-425 602,-425 596,-419 596,-413 596,-413 596,-354 596,-354 596,-348 602,-342 608,-342 608,-342 826,-342 826,-342 832,-342 838,-348 838,-354 838,-354 838,-413 838,-413 838,-419 832,-425 826,-425\"/>\r\n",
       "<text text-anchor=\"middle\" x=\"717\" y=\"-409.8\" font-family=\"Helvetica,sans-Serif\" font-size=\"14.00\">od280/od315稀释葡萄酒 &lt;= 2.755</text>\r\n",
       "<text text-anchor=\"middle\" x=\"717\" y=\"-394.8\" font-family=\"Helvetica,sans-Serif\" font-size=\"14.00\">entropy = 0.183</text>\r\n",
       "<text text-anchor=\"middle\" x=\"717\" y=\"-379.8\" font-family=\"Helvetica,sans-Serif\" font-size=\"14.00\">samples = 36</text>\r\n",
       "<text text-anchor=\"middle\" x=\"717\" y=\"-364.8\" font-family=\"Helvetica,sans-Serif\" font-size=\"14.00\">value = [35, 1, 0]</text>\r\n",
       "<text text-anchor=\"middle\" x=\"717\" y=\"-349.8\" font-family=\"Helvetica,sans-Serif\" font-size=\"14.00\">class = 琴酒</text>\r\n",
       "</g>\r\n",
       "<!-- 18&#45;&gt;19 -->\r\n",
       "<g id=\"edge19\" class=\"edge\">\r\n",
       "<title>18&#45;&gt;19</title>\r\n",
       "<path fill=\"none\" stroke=\"black\" d=\"M717,-460.91C717,-452.65 717,-443.86 717,-435.3\"/>\r\n",
       "<polygon fill=\"black\" stroke=\"black\" points=\"720.5,-435.02 717,-425.02 713.5,-435.02 720.5,-435.02\"/>\r\n",
       "</g>\r\n",
       "<!-- 24 -->\r\n",
       "<g id=\"node25\" class=\"node\">\r\n",
       "<title>24</title>\r\n",
       "<path fill=\"#39e581\" stroke=\"black\" d=\"M957.5,-417.5C957.5,-417.5 868.5,-417.5 868.5,-417.5 862.5,-417.5 856.5,-411.5 856.5,-405.5 856.5,-405.5 856.5,-361.5 856.5,-361.5 856.5,-355.5 862.5,-349.5 868.5,-349.5 868.5,-349.5 957.5,-349.5 957.5,-349.5 963.5,-349.5 969.5,-355.5 969.5,-361.5 969.5,-361.5 969.5,-405.5 969.5,-405.5 969.5,-411.5 963.5,-417.5 957.5,-417.5\"/>\r\n",
       "<text text-anchor=\"middle\" x=\"913\" y=\"-402.3\" font-family=\"Helvetica,sans-Serif\" font-size=\"14.00\">entropy = 0.0</text>\r\n",
       "<text text-anchor=\"middle\" x=\"913\" y=\"-387.3\" font-family=\"Helvetica,sans-Serif\" font-size=\"14.00\">samples = 2</text>\r\n",
       "<text text-anchor=\"middle\" x=\"913\" y=\"-372.3\" font-family=\"Helvetica,sans-Serif\" font-size=\"14.00\">value = [0, 2, 0]</text>\r\n",
       "<text text-anchor=\"middle\" x=\"913\" y=\"-357.3\" font-family=\"Helvetica,sans-Serif\" font-size=\"14.00\">class = 雪莉</text>\r\n",
       "</g>\r\n",
       "<!-- 18&#45;&gt;24 -->\r\n",
       "<g id=\"edge24\" class=\"edge\">\r\n",
       "<title>18&#45;&gt;24</title>\r\n",
       "<path fill=\"none\" stroke=\"black\" d=\"M777.66,-466.12C799.56,-453.26 824.44,-438.56 847,-425 848.26,-424.24 849.53,-423.48 850.82,-422.7\"/>\r\n",
       "<polygon fill=\"black\" stroke=\"black\" points=\"852.64,-425.69 859.38,-417.52 849.01,-419.7 852.64,-425.69\"/>\r\n",
       "</g>\r\n",
       "<!-- 20 -->\r\n",
       "<g id=\"node21\" class=\"node\">\r\n",
       "<title>20</title>\r\n",
       "<path fill=\"#eeab7b\" stroke=\"black\" d=\"M754,-306C754,-306 662,-306 662,-306 656,-306 650,-300 650,-294 650,-294 650,-235 650,-235 650,-229 656,-223 662,-223 662,-223 754,-223 754,-223 760,-223 766,-229 766,-235 766,-235 766,-294 766,-294 766,-300 760,-306 754,-306\"/>\r\n",
       "<text text-anchor=\"middle\" x=\"708\" y=\"-290.8\" font-family=\"Helvetica,sans-Serif\" font-size=\"14.00\">类黄酮 &lt;= 1.98</text>\r\n",
       "<text text-anchor=\"middle\" x=\"708\" y=\"-275.8\" font-family=\"Helvetica,sans-Serif\" font-size=\"14.00\">entropy = 0.811</text>\r\n",
       "<text text-anchor=\"middle\" x=\"708\" y=\"-260.8\" font-family=\"Helvetica,sans-Serif\" font-size=\"14.00\">samples = 4</text>\r\n",
       "<text text-anchor=\"middle\" x=\"708\" y=\"-245.8\" font-family=\"Helvetica,sans-Serif\" font-size=\"14.00\">value = [3, 1, 0]</text>\r\n",
       "<text text-anchor=\"middle\" x=\"708\" y=\"-230.8\" font-family=\"Helvetica,sans-Serif\" font-size=\"14.00\">class = 琴酒</text>\r\n",
       "</g>\r\n",
       "<!-- 19&#45;&gt;20 -->\r\n",
       "<g id=\"edge20\" class=\"edge\">\r\n",
       "<title>19&#45;&gt;20</title>\r\n",
       "<path fill=\"none\" stroke=\"black\" d=\"M713.88,-341.91C713.24,-333.56 712.55,-324.67 711.89,-316.02\"/>\r\n",
       "<polygon fill=\"black\" stroke=\"black\" points=\"715.37,-315.72 711.12,-306.02 708.39,-316.26 715.37,-315.72\"/>\r\n",
       "</g>\r\n",
       "<!-- 23 -->\r\n",
       "<g id=\"node24\" class=\"node\">\r\n",
       "<title>23</title>\r\n",
       "<path fill=\"#e58139\" stroke=\"black\" d=\"M893.5,-298.5C893.5,-298.5 796.5,-298.5 796.5,-298.5 790.5,-298.5 784.5,-292.5 784.5,-286.5 784.5,-286.5 784.5,-242.5 784.5,-242.5 784.5,-236.5 790.5,-230.5 796.5,-230.5 796.5,-230.5 893.5,-230.5 893.5,-230.5 899.5,-230.5 905.5,-236.5 905.5,-242.5 905.5,-242.5 905.5,-286.5 905.5,-286.5 905.5,-292.5 899.5,-298.5 893.5,-298.5\"/>\r\n",
       "<text text-anchor=\"middle\" x=\"845\" y=\"-283.3\" font-family=\"Helvetica,sans-Serif\" font-size=\"14.00\">entropy = 0.0</text>\r\n",
       "<text text-anchor=\"middle\" x=\"845\" y=\"-268.3\" font-family=\"Helvetica,sans-Serif\" font-size=\"14.00\">samples = 32</text>\r\n",
       "<text text-anchor=\"middle\" x=\"845\" y=\"-253.3\" font-family=\"Helvetica,sans-Serif\" font-size=\"14.00\">value = [32, 0, 0]</text>\r\n",
       "<text text-anchor=\"middle\" x=\"845\" y=\"-238.3\" font-family=\"Helvetica,sans-Serif\" font-size=\"14.00\">class = 琴酒</text>\r\n",
       "</g>\r\n",
       "<!-- 19&#45;&gt;23 -->\r\n",
       "<g id=\"edge23\" class=\"edge\">\r\n",
       "<title>19&#45;&gt;23</title>\r\n",
       "<path fill=\"none\" stroke=\"black\" d=\"M761.41,-341.91C774.33,-330.1 788.42,-317.22 801.29,-305.45\"/>\r\n",
       "<polygon fill=\"black\" stroke=\"black\" points=\"803.7,-308 808.71,-298.67 798.97,-302.83 803.7,-308\"/>\r\n",
       "</g>\r\n",
       "<!-- 21 -->\r\n",
       "<g id=\"node22\" class=\"node\">\r\n",
       "<title>21</title>\r\n",
       "<path fill=\"#39e581\" stroke=\"black\" d=\"M741.5,-179.5C741.5,-179.5 652.5,-179.5 652.5,-179.5 646.5,-179.5 640.5,-173.5 640.5,-167.5 640.5,-167.5 640.5,-123.5 640.5,-123.5 640.5,-117.5 646.5,-111.5 652.5,-111.5 652.5,-111.5 741.5,-111.5 741.5,-111.5 747.5,-111.5 753.5,-117.5 753.5,-123.5 753.5,-123.5 753.5,-167.5 753.5,-167.5 753.5,-173.5 747.5,-179.5 741.5,-179.5\"/>\r\n",
       "<text text-anchor=\"middle\" x=\"697\" y=\"-164.3\" font-family=\"Helvetica,sans-Serif\" font-size=\"14.00\">entropy = 0.0</text>\r\n",
       "<text text-anchor=\"middle\" x=\"697\" y=\"-149.3\" font-family=\"Helvetica,sans-Serif\" font-size=\"14.00\">samples = 1</text>\r\n",
       "<text text-anchor=\"middle\" x=\"697\" y=\"-134.3\" font-family=\"Helvetica,sans-Serif\" font-size=\"14.00\">value = [0, 1, 0]</text>\r\n",
       "<text text-anchor=\"middle\" x=\"697\" y=\"-119.3\" font-family=\"Helvetica,sans-Serif\" font-size=\"14.00\">class = 雪莉</text>\r\n",
       "</g>\r\n",
       "<!-- 20&#45;&gt;21 -->\r\n",
       "<g id=\"edge21\" class=\"edge\">\r\n",
       "<title>20&#45;&gt;21</title>\r\n",
       "<path fill=\"none\" stroke=\"black\" d=\"M704.18,-222.91C703.18,-212.2 702.09,-200.62 701.07,-189.78\"/>\r\n",
       "<polygon fill=\"black\" stroke=\"black\" points=\"704.54,-189.3 700.12,-179.67 697.57,-189.95 704.54,-189.3\"/>\r\n",
       "</g>\r\n",
       "<!-- 22 -->\r\n",
       "<g id=\"node23\" class=\"node\">\r\n",
       "<title>22</title>\r\n",
       "<path fill=\"#e58139\" stroke=\"black\" d=\"M872.5,-179.5C872.5,-179.5 783.5,-179.5 783.5,-179.5 777.5,-179.5 771.5,-173.5 771.5,-167.5 771.5,-167.5 771.5,-123.5 771.5,-123.5 771.5,-117.5 777.5,-111.5 783.5,-111.5 783.5,-111.5 872.5,-111.5 872.5,-111.5 878.5,-111.5 884.5,-117.5 884.5,-123.5 884.5,-123.5 884.5,-167.5 884.5,-167.5 884.5,-173.5 878.5,-179.5 872.5,-179.5\"/>\r\n",
       "<text text-anchor=\"middle\" x=\"828\" y=\"-164.3\" font-family=\"Helvetica,sans-Serif\" font-size=\"14.00\">entropy = 0.0</text>\r\n",
       "<text text-anchor=\"middle\" x=\"828\" y=\"-149.3\" font-family=\"Helvetica,sans-Serif\" font-size=\"14.00\">samples = 3</text>\r\n",
       "<text text-anchor=\"middle\" x=\"828\" y=\"-134.3\" font-family=\"Helvetica,sans-Serif\" font-size=\"14.00\">value = [3, 0, 0]</text>\r\n",
       "<text text-anchor=\"middle\" x=\"828\" y=\"-119.3\" font-family=\"Helvetica,sans-Serif\" font-size=\"14.00\">class = 琴酒</text>\r\n",
       "</g>\r\n",
       "<!-- 20&#45;&gt;22 -->\r\n",
       "<g id=\"edge22\" class=\"edge\">\r\n",
       "<title>20&#45;&gt;22</title>\r\n",
       "<path fill=\"none\" stroke=\"black\" d=\"M749.63,-222.91C761.63,-211.21 774.71,-198.46 786.69,-186.78\"/>\r\n",
       "<polygon fill=\"black\" stroke=\"black\" points=\"789.27,-189.15 793.98,-179.67 784.38,-184.14 789.27,-189.15\"/>\r\n",
       "</g>\r\n",
       "</g>\r\n",
       "</svg>\r\n"
      ],
      "text/plain": [
       "<graphviz.files.Source at 0x170f0262358>"
      ]
     },
     "execution_count": 21,
     "metadata": {},
     "output_type": "execute_result"
    }
   ],
   "source": [
    "import graphviz #可视化组件，需自己安装，配置环境变量等\n",
    "dot_data = tree.export_graphviz(clf\n",
    "                                ,feature_names = feature_name\n",
    "                                ,class_names = [\"琴酒\",\"雪莉\",\"贝尔摩德\"]\n",
    "                                ,filled=True\n",
    "                                ,rounded=True\n",
    "                                )\n",
    "graph = graphviz.Source(dot_data)\n",
    "graph"
   ]
  },
  {
   "cell_type": "markdown",
   "id": "initial-checkout",
   "metadata": {},
   "source": [
    "## 剪枝参数"
   ]
  },
  {
   "cell_type": "markdown",
   "id": "considered-print",
   "metadata": {},
   "source": [
    "在不加限制的情况下，一颗决策树会生长到衡量不纯度的指标最优，或者没有更多的特征可用为止。这样的决策树往往会过拟合，这就是说他会在**训练集上表现很好，在测试集上却表现糟糕。** 我们收集的样本数据不可能和整体的状况完全一致，因此当一颗决策树队训练数据有了过于优秀的解释性，它找出的规则必然包含了训练样本中的噪声，并使它对未知数据的拟合程度不足。"
   ]
  },
  {
   "cell_type": "markdown",
   "id": "coral-obligation",
   "metadata": {},
   "source": [
    "为了让决策树有更好的泛化性，我们要对决策树进行剪枝。**剪枝策略对决策树的影响巨大，正确的剪枝策略是优化决策树算法的核心。** sklearn为我们提供了不同的剪枝策略："
   ]
  },
  {
   "cell_type": "code",
   "execution_count": 22,
   "id": "known-emperor",
   "metadata": {},
   "outputs": [
    {
     "data": {
      "text/plain": [
       "1.0"
      ]
     },
     "execution_count": 22,
     "metadata": {},
     "output_type": "execute_result"
    }
   ],
   "source": [
    "#我们对树的训练集的拟合程度如何？\n",
    "score_train = clf.score(Xtrain,Ytrain)\n",
    "score_train"
   ]
  },
  {
   "cell_type": "markdown",
   "id": "practical-frame",
   "metadata": {},
   "source": [
    "#### 注：这个时候也还不能说它过拟合了，因为我们在测试集上的准确率也是96%，只能说它轻微过拟合。"
   ]
  },
  {
   "cell_type": "markdown",
   "id": "transparent-filling",
   "metadata": {},
   "source": [
    "## 1、max_depth\n",
    "## 2、min_samples_leaf & min_sample_split"
   ]
  },
  {
   "cell_type": "markdown",
   "id": "latest-shopper",
   "metadata": {},
   "source": [
    "**max_depth**限制树的最大深度，超过设定的深度就剪掉。<br>\n",
    "**min_samples_leaf**限定一个节点在分枝后的每个子节点都必须包含至少min_samples_leaf个训练样本，否则分枝就不会发生，或者，分枝会朝着满足每个子节点都包含min_samples_leaf个样本的方向去发生。<br>\n",
    "一般搭配max_depth使用，在回归树中有神奇的效果，可以让模型变得更加平滑。这个参数如果设得太小就会引起过拟合，设得太大就会阻止模型学习数据。一般来说，建议从=5开始使用。如果叶节点中含有的样本量变化很大的话，建议输入浮点数作为样本的百分比来使用。同时，这个参数可以保证每个叶子的最小尺寸，可以在回归问题中避免低方差，过拟合的叶子节点出现。对于类别不多的分类问题，=1通常就是最佳选择。<br>\n",
    "**min_samples_split**限定一个节点必须要包含至少min_sample_split个训练样本，这个节点才允许被分枝，否则分枝就不会发生。"
   ]
  },
  {
   "cell_type": "code",
   "execution_count": 24,
   "id": "beginning-relations",
   "metadata": {},
   "outputs": [
    {
     "data": {
      "text/plain": [
       "0.9259259259259259"
      ]
     },
     "execution_count": 24,
     "metadata": {},
     "output_type": "execute_result"
    }
   ],
   "source": [
    "clf = tree.DecisionTreeClassifier(criterion = \"entropy\"\n",
    "                                  ,random_state=30\n",
    "                                  ,splitter=\"random\"\n",
    "                                  ,max_depth=4\n",
    "#                                   ,min_samples_leaf=10\n",
    "#                                   ,min_samples_split=10\n",
    "                                 )   #第一步：实例化  \n",
    "clf = clf.fit(Xtrain,Ytrain) #第二步：训练\n",
    "score = clf.score(Xtest,Ytest)  #第三步：返回预测的准确度accuracy\n",
    "\n",
    "score"
   ]
  },
  {
   "cell_type": "code",
   "execution_count": 25,
   "id": "cordless-armor",
   "metadata": {},
   "outputs": [
    {
     "data": {
      "image/svg+xml": [
       "<?xml version=\"1.0\" encoding=\"UTF-8\" standalone=\"no\"?>\r\n",
       "<!DOCTYPE svg PUBLIC \"-//W3C//DTD SVG 1.1//EN\"\r\n",
       " \"http://www.w3.org/Graphics/SVG/1.1/DTD/svg11.dtd\">\r\n",
       "<!-- Generated by graphviz version 2.47.0 (20210316.0004)\r\n",
       " -->\r\n",
       "<!-- Title: Tree Pages: 1 -->\r\n",
       "<svg width=\"1078pt\" height=\"552pt\"\r\n",
       " viewBox=\"0.00 0.00 1077.50 552.00\" xmlns=\"http://www.w3.org/2000/svg\" xmlns:xlink=\"http://www.w3.org/1999/xlink\">\r\n",
       "<g id=\"graph0\" class=\"graph\" transform=\"scale(1 1) rotate(0) translate(4 548)\">\r\n",
       "<title>Tree</title>\r\n",
       "<polygon fill=\"white\" stroke=\"transparent\" points=\"-4,4 -4,-548 1073.5,-548 1073.5,4 -4,4\"/>\r\n",
       "<!-- 0 -->\r\n",
       "<g id=\"node1\" class=\"node\">\r\n",
       "<title>0</title>\r\n",
       "<path fill=\"#e8fcf0\" stroke=\"black\" d=\"M640.5,-544C640.5,-544 527.5,-544 527.5,-544 521.5,-544 515.5,-538 515.5,-532 515.5,-532 515.5,-473 515.5,-473 515.5,-467 521.5,-461 527.5,-461 527.5,-461 640.5,-461 640.5,-461 646.5,-461 652.5,-467 652.5,-473 652.5,-473 652.5,-532 652.5,-532 652.5,-538 646.5,-544 640.5,-544\"/>\r\n",
       "<text text-anchor=\"middle\" x=\"584\" y=\"-528.8\" font-family=\"Helvetica,sans-Serif\" font-size=\"14.00\">类黄酮 &lt;= 2.154</text>\r\n",
       "<text text-anchor=\"middle\" x=\"584\" y=\"-513.8\" font-family=\"Helvetica,sans-Serif\" font-size=\"14.00\">entropy = 1.576</text>\r\n",
       "<text text-anchor=\"middle\" x=\"584\" y=\"-498.8\" font-family=\"Helvetica,sans-Serif\" font-size=\"14.00\">samples = 124</text>\r\n",
       "<text text-anchor=\"middle\" x=\"584\" y=\"-483.8\" font-family=\"Helvetica,sans-Serif\" font-size=\"14.00\">value = [38, 48, 38]</text>\r\n",
       "<text text-anchor=\"middle\" x=\"584\" y=\"-468.8\" font-family=\"Helvetica,sans-Serif\" font-size=\"14.00\">class = 雪莉</text>\r\n",
       "</g>\r\n",
       "<!-- 1 -->\r\n",
       "<g id=\"node2\" class=\"node\">\r\n",
       "<title>1</title>\r\n",
       "<path fill=\"#e1d0f9\" stroke=\"black\" d=\"M589,-425C589,-425 379,-425 379,-425 373,-425 367,-419 367,-413 367,-413 367,-354 367,-354 367,-348 373,-342 379,-342 379,-342 589,-342 589,-342 595,-342 601,-348 601,-354 601,-354 601,-413 601,-413 601,-419 595,-425 589,-425\"/>\r\n",
       "<text text-anchor=\"middle\" x=\"484\" y=\"-409.8\" font-family=\"Helvetica,sans-Serif\" font-size=\"14.00\">od280/od315稀释葡萄酒 &lt;= 2.21</text>\r\n",
       "<text text-anchor=\"middle\" x=\"484\" y=\"-394.8\" font-family=\"Helvetica,sans-Serif\" font-size=\"14.00\">entropy = 0.987</text>\r\n",
       "<text text-anchor=\"middle\" x=\"484\" y=\"-379.8\" font-family=\"Helvetica,sans-Serif\" font-size=\"14.00\">samples = 67</text>\r\n",
       "<text text-anchor=\"middle\" x=\"484\" y=\"-364.8\" font-family=\"Helvetica,sans-Serif\" font-size=\"14.00\">value = [0, 29, 38]</text>\r\n",
       "<text text-anchor=\"middle\" x=\"484\" y=\"-349.8\" font-family=\"Helvetica,sans-Serif\" font-size=\"14.00\">class = 贝尔摩德</text>\r\n",
       "</g>\r\n",
       "<!-- 0&#45;&gt;1 -->\r\n",
       "<g id=\"edge1\" class=\"edge\">\r\n",
       "<title>0&#45;&gt;1</title>\r\n",
       "<path fill=\"none\" stroke=\"black\" d=\"M549.31,-460.91C541.55,-451.83 533.25,-442.12 525.26,-432.77\"/>\r\n",
       "<polygon fill=\"black\" stroke=\"black\" points=\"527.79,-430.35 518.63,-425.02 522.47,-434.9 527.79,-430.35\"/>\r\n",
       "<text text-anchor=\"middle\" x=\"516.68\" y=\"-446.24\" font-family=\"Helvetica,sans-Serif\" font-size=\"14.00\">True</text>\r\n",
       "</g>\r\n",
       "<!-- 12 -->\r\n",
       "<g id=\"node13\" class=\"node\">\r\n",
       "<title>12</title>\r\n",
       "<path fill=\"#f2c09c\" stroke=\"black\" d=\"M736.5,-425C736.5,-425 631.5,-425 631.5,-425 625.5,-425 619.5,-419 619.5,-413 619.5,-413 619.5,-354 619.5,-354 619.5,-348 625.5,-342 631.5,-342 631.5,-342 736.5,-342 736.5,-342 742.5,-342 748.5,-348 748.5,-354 748.5,-354 748.5,-413 748.5,-413 748.5,-419 742.5,-425 736.5,-425\"/>\r\n",
       "<text text-anchor=\"middle\" x=\"684\" y=\"-409.8\" font-family=\"Helvetica,sans-Serif\" font-size=\"14.00\">酒精 &lt;= 12.784</text>\r\n",
       "<text text-anchor=\"middle\" x=\"684\" y=\"-394.8\" font-family=\"Helvetica,sans-Serif\" font-size=\"14.00\">entropy = 0.918</text>\r\n",
       "<text text-anchor=\"middle\" x=\"684\" y=\"-379.8\" font-family=\"Helvetica,sans-Serif\" font-size=\"14.00\">samples = 57</text>\r\n",
       "<text text-anchor=\"middle\" x=\"684\" y=\"-364.8\" font-family=\"Helvetica,sans-Serif\" font-size=\"14.00\">value = [38, 19, 0]</text>\r\n",
       "<text text-anchor=\"middle\" x=\"684\" y=\"-349.8\" font-family=\"Helvetica,sans-Serif\" font-size=\"14.00\">class = 琴酒</text>\r\n",
       "</g>\r\n",
       "<!-- 0&#45;&gt;12 -->\r\n",
       "<g id=\"edge12\" class=\"edge\">\r\n",
       "<title>0&#45;&gt;12</title>\r\n",
       "<path fill=\"none\" stroke=\"black\" d=\"M618.69,-460.91C626.45,-451.83 634.75,-442.12 642.74,-432.77\"/>\r\n",
       "<polygon fill=\"black\" stroke=\"black\" points=\"645.53,-434.9 649.37,-425.02 640.21,-430.35 645.53,-434.9\"/>\r\n",
       "<text text-anchor=\"middle\" x=\"651.32\" y=\"-446.24\" font-family=\"Helvetica,sans-Serif\" font-size=\"14.00\">False</text>\r\n",
       "</g>\r\n",
       "<!-- 2 -->\r\n",
       "<g id=\"node3\" class=\"node\">\r\n",
       "<title>2</title>\r\n",
       "<path fill=\"#9254e9\" stroke=\"black\" d=\"M406,-306C406,-306 302,-306 302,-306 296,-306 290,-300 290,-294 290,-294 290,-235 290,-235 290,-229 296,-223 302,-223 302,-223 406,-223 406,-223 412,-223 418,-229 418,-235 418,-235 418,-294 418,-294 418,-300 412,-306 406,-306\"/>\r\n",
       "<text text-anchor=\"middle\" x=\"354\" y=\"-290.8\" font-family=\"Helvetica,sans-Serif\" font-size=\"14.00\">色调 &lt;= 0.95</text>\r\n",
       "<text text-anchor=\"middle\" x=\"354\" y=\"-275.8\" font-family=\"Helvetica,sans-Serif\" font-size=\"14.00\">entropy = 0.535</text>\r\n",
       "<text text-anchor=\"middle\" x=\"354\" y=\"-260.8\" font-family=\"Helvetica,sans-Serif\" font-size=\"14.00\">samples = 41</text>\r\n",
       "<text text-anchor=\"middle\" x=\"354\" y=\"-245.8\" font-family=\"Helvetica,sans-Serif\" font-size=\"14.00\">value = [0, 5, 36]</text>\r\n",
       "<text text-anchor=\"middle\" x=\"354\" y=\"-230.8\" font-family=\"Helvetica,sans-Serif\" font-size=\"14.00\">class = 贝尔摩德</text>\r\n",
       "</g>\r\n",
       "<!-- 1&#45;&gt;2 -->\r\n",
       "<g id=\"edge2\" class=\"edge\">\r\n",
       "<title>1&#45;&gt;2</title>\r\n",
       "<path fill=\"none\" stroke=\"black\" d=\"M438.9,-341.91C428.51,-332.56 417.38,-322.54 406.7,-312.93\"/>\r\n",
       "<polygon fill=\"black\" stroke=\"black\" points=\"408.8,-310.11 399.02,-306.02 404.11,-315.31 408.8,-310.11\"/>\r\n",
       "</g>\r\n",
       "<!-- 9 -->\r\n",
       "<g id=\"node10\" class=\"node\">\r\n",
       "<title>9</title>\r\n",
       "<path fill=\"#49e78c\" stroke=\"black\" d=\"M549.5,-306C549.5,-306 448.5,-306 448.5,-306 442.5,-306 436.5,-300 436.5,-294 436.5,-294 436.5,-235 436.5,-235 436.5,-229 442.5,-223 448.5,-223 448.5,-223 549.5,-223 549.5,-223 555.5,-223 561.5,-229 561.5,-235 561.5,-235 561.5,-294 561.5,-294 561.5,-300 555.5,-306 549.5,-306\"/>\r\n",
       "<text text-anchor=\"middle\" x=\"499\" y=\"-290.8\" font-family=\"Helvetica,sans-Serif\" font-size=\"14.00\">类黄酮 &lt;= 0.825</text>\r\n",
       "<text text-anchor=\"middle\" x=\"499\" y=\"-275.8\" font-family=\"Helvetica,sans-Serif\" font-size=\"14.00\">entropy = 0.391</text>\r\n",
       "<text text-anchor=\"middle\" x=\"499\" y=\"-260.8\" font-family=\"Helvetica,sans-Serif\" font-size=\"14.00\">samples = 26</text>\r\n",
       "<text text-anchor=\"middle\" x=\"499\" y=\"-245.8\" font-family=\"Helvetica,sans-Serif\" font-size=\"14.00\">value = [0, 24, 2]</text>\r\n",
       "<text text-anchor=\"middle\" x=\"499\" y=\"-230.8\" font-family=\"Helvetica,sans-Serif\" font-size=\"14.00\">class = 雪莉</text>\r\n",
       "</g>\r\n",
       "<!-- 1&#45;&gt;9 -->\r\n",
       "<g id=\"edge9\" class=\"edge\">\r\n",
       "<title>1&#45;&gt;9</title>\r\n",
       "<path fill=\"none\" stroke=\"black\" d=\"M489.2,-341.91C490.27,-333.56 491.41,-324.67 492.52,-316.02\"/>\r\n",
       "<polygon fill=\"black\" stroke=\"black\" points=\"496,-316.38 493.81,-306.02 489.06,-315.49 496,-316.38\"/>\r\n",
       "</g>\r\n",
       "<!-- 3 -->\r\n",
       "<g id=\"node4\" class=\"node\">\r\n",
       "<title>3</title>\r\n",
       "<path fill=\"#853fe6\" stroke=\"black\" d=\"M262,-187C262,-187 158,-187 158,-187 152,-187 146,-181 146,-175 146,-175 146,-116 146,-116 146,-110 152,-104 158,-104 158,-104 262,-104 262,-104 268,-104 274,-110 274,-116 274,-116 274,-175 274,-175 274,-181 268,-187 262,-187\"/>\r\n",
       "<text text-anchor=\"middle\" x=\"210\" y=\"-171.8\" font-family=\"Helvetica,sans-Serif\" font-size=\"14.00\">色调 &lt;= 0.716</text>\r\n",
       "<text text-anchor=\"middle\" x=\"210\" y=\"-156.8\" font-family=\"Helvetica,sans-Serif\" font-size=\"14.00\">entropy = 0.183</text>\r\n",
       "<text text-anchor=\"middle\" x=\"210\" y=\"-141.8\" font-family=\"Helvetica,sans-Serif\" font-size=\"14.00\">samples = 36</text>\r\n",
       "<text text-anchor=\"middle\" x=\"210\" y=\"-126.8\" font-family=\"Helvetica,sans-Serif\" font-size=\"14.00\">value = [0, 1, 35]</text>\r\n",
       "<text text-anchor=\"middle\" x=\"210\" y=\"-111.8\" font-family=\"Helvetica,sans-Serif\" font-size=\"14.00\">class = 贝尔摩德</text>\r\n",
       "</g>\r\n",
       "<!-- 2&#45;&gt;3 -->\r\n",
       "<g id=\"edge3\" class=\"edge\">\r\n",
       "<title>2&#45;&gt;3</title>\r\n",
       "<path fill=\"none\" stroke=\"black\" d=\"M304.04,-222.91C292.31,-213.38 279.72,-203.15 267.69,-193.37\"/>\r\n",
       "<polygon fill=\"black\" stroke=\"black\" points=\"269.84,-190.61 259.87,-187.02 265.43,-196.04 269.84,-190.61\"/>\r\n",
       "</g>\r\n",
       "<!-- 6 -->\r\n",
       "<g id=\"node7\" class=\"node\">\r\n",
       "<title>6</title>\r\n",
       "<path fill=\"#6aeca0\" stroke=\"black\" d=\"M402,-187C402,-187 310,-187 310,-187 304,-187 298,-181 298,-175 298,-175 298,-116 298,-116 298,-110 304,-104 310,-104 310,-104 402,-104 402,-104 408,-104 414,-110 414,-116 414,-116 414,-175 414,-175 414,-181 408,-187 402,-187\"/>\r\n",
       "<text text-anchor=\"middle\" x=\"356\" y=\"-171.8\" font-family=\"Helvetica,sans-Serif\" font-size=\"14.00\">总酚 &lt;= 1.915</text>\r\n",
       "<text text-anchor=\"middle\" x=\"356\" y=\"-156.8\" font-family=\"Helvetica,sans-Serif\" font-size=\"14.00\">entropy = 0.722</text>\r\n",
       "<text text-anchor=\"middle\" x=\"356\" y=\"-141.8\" font-family=\"Helvetica,sans-Serif\" font-size=\"14.00\">samples = 5</text>\r\n",
       "<text text-anchor=\"middle\" x=\"356\" y=\"-126.8\" font-family=\"Helvetica,sans-Serif\" font-size=\"14.00\">value = [0, 4, 1]</text>\r\n",
       "<text text-anchor=\"middle\" x=\"356\" y=\"-111.8\" font-family=\"Helvetica,sans-Serif\" font-size=\"14.00\">class = 雪莉</text>\r\n",
       "</g>\r\n",
       "<!-- 2&#45;&gt;6 -->\r\n",
       "<g id=\"edge6\" class=\"edge\">\r\n",
       "<title>2&#45;&gt;6</title>\r\n",
       "<path fill=\"none\" stroke=\"black\" d=\"M354.69,-222.91C354.84,-214.56 354.99,-205.67 355.14,-197.02\"/>\r\n",
       "<polygon fill=\"black\" stroke=\"black\" points=\"358.64,-197.08 355.31,-187.02 351.64,-196.96 358.64,-197.08\"/>\r\n",
       "</g>\r\n",
       "<!-- 4 -->\r\n",
       "<g id=\"node5\" class=\"node\">\r\n",
       "<title>4</title>\r\n",
       "<path fill=\"#8139e5\" stroke=\"black\" d=\"M116,-68C116,-68 12,-68 12,-68 6,-68 0,-62 0,-56 0,-56 0,-12 0,-12 0,-6 6,0 12,0 12,0 116,0 116,0 122,0 128,-6 128,-12 128,-12 128,-56 128,-56 128,-62 122,-68 116,-68\"/>\r\n",
       "<text text-anchor=\"middle\" x=\"64\" y=\"-52.8\" font-family=\"Helvetica,sans-Serif\" font-size=\"14.00\">entropy = 0.0</text>\r\n",
       "<text text-anchor=\"middle\" x=\"64\" y=\"-37.8\" font-family=\"Helvetica,sans-Serif\" font-size=\"14.00\">samples = 22</text>\r\n",
       "<text text-anchor=\"middle\" x=\"64\" y=\"-22.8\" font-family=\"Helvetica,sans-Serif\" font-size=\"14.00\">value = [0, 0, 22]</text>\r\n",
       "<text text-anchor=\"middle\" x=\"64\" y=\"-7.8\" font-family=\"Helvetica,sans-Serif\" font-size=\"14.00\">class = 贝尔摩德</text>\r\n",
       "</g>\r\n",
       "<!-- 3&#45;&gt;4 -->\r\n",
       "<g id=\"edge4\" class=\"edge\">\r\n",
       "<title>3&#45;&gt;4</title>\r\n",
       "<path fill=\"none\" stroke=\"black\" d=\"M155.63,-103.73C142.87,-94.15 129.28,-83.96 116.59,-74.44\"/>\r\n",
       "<polygon fill=\"black\" stroke=\"black\" points=\"118.5,-71.5 108.4,-68.3 114.3,-77.1 118.5,-71.5\"/>\r\n",
       "</g>\r\n",
       "<!-- 5 -->\r\n",
       "<g id=\"node6\" class=\"node\">\r\n",
       "<title>5</title>\r\n",
       "<path fill=\"#8b48e7\" stroke=\"black\" d=\"M262,-68C262,-68 158,-68 158,-68 152,-68 146,-62 146,-56 146,-56 146,-12 146,-12 146,-6 152,0 158,0 158,0 262,0 262,0 268,0 274,-6 274,-12 274,-12 274,-56 274,-56 274,-62 268,-68 262,-68\"/>\r\n",
       "<text text-anchor=\"middle\" x=\"210\" y=\"-52.8\" font-family=\"Helvetica,sans-Serif\" font-size=\"14.00\">entropy = 0.371</text>\r\n",
       "<text text-anchor=\"middle\" x=\"210\" y=\"-37.8\" font-family=\"Helvetica,sans-Serif\" font-size=\"14.00\">samples = 14</text>\r\n",
       "<text text-anchor=\"middle\" x=\"210\" y=\"-22.8\" font-family=\"Helvetica,sans-Serif\" font-size=\"14.00\">value = [0, 1, 13]</text>\r\n",
       "<text text-anchor=\"middle\" x=\"210\" y=\"-7.8\" font-family=\"Helvetica,sans-Serif\" font-size=\"14.00\">class = 贝尔摩德</text>\r\n",
       "</g>\r\n",
       "<!-- 3&#45;&gt;5 -->\r\n",
       "<g id=\"edge5\" class=\"edge\">\r\n",
       "<title>3&#45;&gt;5</title>\r\n",
       "<path fill=\"none\" stroke=\"black\" d=\"M210,-103.73C210,-95.52 210,-86.86 210,-78.56\"/>\r\n",
       "<polygon fill=\"black\" stroke=\"black\" points=\"213.5,-78.3 210,-68.3 206.5,-78.3 213.5,-78.3\"/>\r\n",
       "</g>\r\n",
       "<!-- 7 -->\r\n",
       "<g id=\"node8\" class=\"node\">\r\n",
       "<title>7</title>\r\n",
       "<path fill=\"#8139e5\" stroke=\"black\" d=\"M408,-68C408,-68 304,-68 304,-68 298,-68 292,-62 292,-56 292,-56 292,-12 292,-12 292,-6 298,0 304,0 304,0 408,0 408,0 414,0 420,-6 420,-12 420,-12 420,-56 420,-56 420,-62 414,-68 408,-68\"/>\r\n",
       "<text text-anchor=\"middle\" x=\"356\" y=\"-52.8\" font-family=\"Helvetica,sans-Serif\" font-size=\"14.00\">entropy = 0.0</text>\r\n",
       "<text text-anchor=\"middle\" x=\"356\" y=\"-37.8\" font-family=\"Helvetica,sans-Serif\" font-size=\"14.00\">samples = 1</text>\r\n",
       "<text text-anchor=\"middle\" x=\"356\" y=\"-22.8\" font-family=\"Helvetica,sans-Serif\" font-size=\"14.00\">value = [0, 0, 1]</text>\r\n",
       "<text text-anchor=\"middle\" x=\"356\" y=\"-7.8\" font-family=\"Helvetica,sans-Serif\" font-size=\"14.00\">class = 贝尔摩德</text>\r\n",
       "</g>\r\n",
       "<!-- 6&#45;&gt;7 -->\r\n",
       "<g id=\"edge7\" class=\"edge\">\r\n",
       "<title>6&#45;&gt;7</title>\r\n",
       "<path fill=\"none\" stroke=\"black\" d=\"M356,-103.73C356,-95.52 356,-86.86 356,-78.56\"/>\r\n",
       "<polygon fill=\"black\" stroke=\"black\" points=\"359.5,-78.3 356,-68.3 352.5,-78.3 359.5,-78.3\"/>\r\n",
       "</g>\r\n",
       "<!-- 8 -->\r\n",
       "<g id=\"node9\" class=\"node\">\r\n",
       "<title>8</title>\r\n",
       "<path fill=\"#39e581\" stroke=\"black\" d=\"M539.5,-68C539.5,-68 450.5,-68 450.5,-68 444.5,-68 438.5,-62 438.5,-56 438.5,-56 438.5,-12 438.5,-12 438.5,-6 444.5,0 450.5,0 450.5,0 539.5,0 539.5,0 545.5,0 551.5,-6 551.5,-12 551.5,-12 551.5,-56 551.5,-56 551.5,-62 545.5,-68 539.5,-68\"/>\r\n",
       "<text text-anchor=\"middle\" x=\"495\" y=\"-52.8\" font-family=\"Helvetica,sans-Serif\" font-size=\"14.00\">entropy = 0.0</text>\r\n",
       "<text text-anchor=\"middle\" x=\"495\" y=\"-37.8\" font-family=\"Helvetica,sans-Serif\" font-size=\"14.00\">samples = 4</text>\r\n",
       "<text text-anchor=\"middle\" x=\"495\" y=\"-22.8\" font-family=\"Helvetica,sans-Serif\" font-size=\"14.00\">value = [0, 4, 0]</text>\r\n",
       "<text text-anchor=\"middle\" x=\"495\" y=\"-7.8\" font-family=\"Helvetica,sans-Serif\" font-size=\"14.00\">class = 雪莉</text>\r\n",
       "</g>\r\n",
       "<!-- 6&#45;&gt;8 -->\r\n",
       "<g id=\"edge8\" class=\"edge\">\r\n",
       "<title>6&#45;&gt;8</title>\r\n",
       "<path fill=\"none\" stroke=\"black\" d=\"M407.76,-103.73C419.8,-94.24 432.6,-84.16 444.58,-74.72\"/>\r\n",
       "<polygon fill=\"black\" stroke=\"black\" points=\"447.04,-77.24 452.73,-68.3 442.71,-71.74 447.04,-77.24\"/>\r\n",
       "</g>\r\n",
       "<!-- 10 -->\r\n",
       "<g id=\"node11\" class=\"node\">\r\n",
       "<title>10</title>\r\n",
       "<path fill=\"#8139e5\" stroke=\"black\" d=\"M550,-179.5C550,-179.5 446,-179.5 446,-179.5 440,-179.5 434,-173.5 434,-167.5 434,-167.5 434,-123.5 434,-123.5 434,-117.5 440,-111.5 446,-111.5 446,-111.5 550,-111.5 550,-111.5 556,-111.5 562,-117.5 562,-123.5 562,-123.5 562,-167.5 562,-167.5 562,-173.5 556,-179.5 550,-179.5\"/>\r\n",
       "<text text-anchor=\"middle\" x=\"498\" y=\"-164.3\" font-family=\"Helvetica,sans-Serif\" font-size=\"14.00\">entropy = 0.0</text>\r\n",
       "<text text-anchor=\"middle\" x=\"498\" y=\"-149.3\" font-family=\"Helvetica,sans-Serif\" font-size=\"14.00\">samples = 2</text>\r\n",
       "<text text-anchor=\"middle\" x=\"498\" y=\"-134.3\" font-family=\"Helvetica,sans-Serif\" font-size=\"14.00\">value = [0, 0, 2]</text>\r\n",
       "<text text-anchor=\"middle\" x=\"498\" y=\"-119.3\" font-family=\"Helvetica,sans-Serif\" font-size=\"14.00\">class = 贝尔摩德</text>\r\n",
       "</g>\r\n",
       "<!-- 9&#45;&gt;10 -->\r\n",
       "<g id=\"edge10\" class=\"edge\">\r\n",
       "<title>9&#45;&gt;10</title>\r\n",
       "<path fill=\"none\" stroke=\"black\" d=\"M498.65,-222.91C498.56,-212.2 498.46,-200.62 498.37,-189.78\"/>\r\n",
       "<polygon fill=\"black\" stroke=\"black\" points=\"501.87,-189.64 498.28,-179.67 494.87,-189.7 501.87,-189.64\"/>\r\n",
       "</g>\r\n",
       "<!-- 11 -->\r\n",
       "<g id=\"node12\" class=\"node\">\r\n",
       "<title>11</title>\r\n",
       "<path fill=\"#39e581\" stroke=\"black\" d=\"M689.5,-179.5C689.5,-179.5 592.5,-179.5 592.5,-179.5 586.5,-179.5 580.5,-173.5 580.5,-167.5 580.5,-167.5 580.5,-123.5 580.5,-123.5 580.5,-117.5 586.5,-111.5 592.5,-111.5 592.5,-111.5 689.5,-111.5 689.5,-111.5 695.5,-111.5 701.5,-117.5 701.5,-123.5 701.5,-123.5 701.5,-167.5 701.5,-167.5 701.5,-173.5 695.5,-179.5 689.5,-179.5\"/>\r\n",
       "<text text-anchor=\"middle\" x=\"641\" y=\"-164.3\" font-family=\"Helvetica,sans-Serif\" font-size=\"14.00\">entropy = 0.0</text>\r\n",
       "<text text-anchor=\"middle\" x=\"641\" y=\"-149.3\" font-family=\"Helvetica,sans-Serif\" font-size=\"14.00\">samples = 24</text>\r\n",
       "<text text-anchor=\"middle\" x=\"641\" y=\"-134.3\" font-family=\"Helvetica,sans-Serif\" font-size=\"14.00\">value = [0, 24, 0]</text>\r\n",
       "<text text-anchor=\"middle\" x=\"641\" y=\"-119.3\" font-family=\"Helvetica,sans-Serif\" font-size=\"14.00\">class = 雪莉</text>\r\n",
       "</g>\r\n",
       "<!-- 9&#45;&gt;11 -->\r\n",
       "<g id=\"edge11\" class=\"edge\">\r\n",
       "<title>9&#45;&gt;11</title>\r\n",
       "<path fill=\"none\" stroke=\"black\" d=\"M548.27,-222.91C562.73,-210.99 578.53,-197.98 592.91,-186.12\"/>\r\n",
       "<polygon fill=\"black\" stroke=\"black\" points=\"595.25,-188.73 600.75,-179.67 590.8,-183.32 595.25,-188.73\"/>\r\n",
       "</g>\r\n",
       "<!-- 13 -->\r\n",
       "<g id=\"node14\" class=\"node\">\r\n",
       "<title>13</title>\r\n",
       "<path fill=\"#39e581\" stroke=\"black\" d=\"M717.5,-298.5C717.5,-298.5 620.5,-298.5 620.5,-298.5 614.5,-298.5 608.5,-292.5 608.5,-286.5 608.5,-286.5 608.5,-242.5 608.5,-242.5 608.5,-236.5 614.5,-230.5 620.5,-230.5 620.5,-230.5 717.5,-230.5 717.5,-230.5 723.5,-230.5 729.5,-236.5 729.5,-242.5 729.5,-242.5 729.5,-286.5 729.5,-286.5 729.5,-292.5 723.5,-298.5 717.5,-298.5\"/>\r\n",
       "<text text-anchor=\"middle\" x=\"669\" y=\"-283.3\" font-family=\"Helvetica,sans-Serif\" font-size=\"14.00\">entropy = 0.0</text>\r\n",
       "<text text-anchor=\"middle\" x=\"669\" y=\"-268.3\" font-family=\"Helvetica,sans-Serif\" font-size=\"14.00\">samples = 17</text>\r\n",
       "<text text-anchor=\"middle\" x=\"669\" y=\"-253.3\" font-family=\"Helvetica,sans-Serif\" font-size=\"14.00\">value = [0, 17, 0]</text>\r\n",
       "<text text-anchor=\"middle\" x=\"669\" y=\"-238.3\" font-family=\"Helvetica,sans-Serif\" font-size=\"14.00\">class = 雪莉</text>\r\n",
       "</g>\r\n",
       "<!-- 12&#45;&gt;13 -->\r\n",
       "<g id=\"edge13\" class=\"edge\">\r\n",
       "<title>12&#45;&gt;13</title>\r\n",
       "<path fill=\"none\" stroke=\"black\" d=\"M678.8,-341.91C677.42,-331.2 675.94,-319.62 674.55,-308.78\"/>\r\n",
       "<polygon fill=\"black\" stroke=\"black\" points=\"678,-308.14 673.25,-298.67 671.05,-309.03 678,-308.14\"/>\r\n",
       "</g>\r\n",
       "<!-- 14 -->\r\n",
       "<g id=\"node15\" class=\"node\">\r\n",
       "<title>14</title>\r\n",
       "<path fill=\"#e68843\" stroke=\"black\" d=\"M876.5,-306C876.5,-306 759.5,-306 759.5,-306 753.5,-306 747.5,-300 747.5,-294 747.5,-294 747.5,-235 747.5,-235 747.5,-229 753.5,-223 759.5,-223 759.5,-223 876.5,-223 876.5,-223 882.5,-223 888.5,-229 888.5,-235 888.5,-235 888.5,-294 888.5,-294 888.5,-300 882.5,-306 876.5,-306\"/>\r\n",
       "<text text-anchor=\"middle\" x=\"818\" y=\"-290.8\" font-family=\"Helvetica,sans-Serif\" font-size=\"14.00\">脯氨酸 &lt;= 595.179</text>\r\n",
       "<text text-anchor=\"middle\" x=\"818\" y=\"-275.8\" font-family=\"Helvetica,sans-Serif\" font-size=\"14.00\">entropy = 0.286</text>\r\n",
       "<text text-anchor=\"middle\" x=\"818\" y=\"-260.8\" font-family=\"Helvetica,sans-Serif\" font-size=\"14.00\">samples = 40</text>\r\n",
       "<text text-anchor=\"middle\" x=\"818\" y=\"-245.8\" font-family=\"Helvetica,sans-Serif\" font-size=\"14.00\">value = [38, 2, 0]</text>\r\n",
       "<text text-anchor=\"middle\" x=\"818\" y=\"-230.8\" font-family=\"Helvetica,sans-Serif\" font-size=\"14.00\">class = 琴酒</text>\r\n",
       "</g>\r\n",
       "<!-- 12&#45;&gt;14 -->\r\n",
       "<g id=\"edge14\" class=\"edge\">\r\n",
       "<title>12&#45;&gt;14</title>\r\n",
       "<path fill=\"none\" stroke=\"black\" d=\"M730.49,-341.91C741.3,-332.47 752.9,-322.34 764,-312.65\"/>\r\n",
       "<polygon fill=\"black\" stroke=\"black\" points=\"766.36,-315.23 771.59,-306.02 761.76,-309.96 766.36,-315.23\"/>\r\n",
       "</g>\r\n",
       "<!-- 15 -->\r\n",
       "<g id=\"node16\" class=\"node\">\r\n",
       "<title>15</title>\r\n",
       "<path fill=\"#39e581\" stroke=\"black\" d=\"M841.5,-179.5C841.5,-179.5 752.5,-179.5 752.5,-179.5 746.5,-179.5 740.5,-173.5 740.5,-167.5 740.5,-167.5 740.5,-123.5 740.5,-123.5 740.5,-117.5 746.5,-111.5 752.5,-111.5 752.5,-111.5 841.5,-111.5 841.5,-111.5 847.5,-111.5 853.5,-117.5 853.5,-123.5 853.5,-123.5 853.5,-167.5 853.5,-167.5 853.5,-173.5 847.5,-179.5 841.5,-179.5\"/>\r\n",
       "<text text-anchor=\"middle\" x=\"797\" y=\"-164.3\" font-family=\"Helvetica,sans-Serif\" font-size=\"14.00\">entropy = 0.0</text>\r\n",
       "<text text-anchor=\"middle\" x=\"797\" y=\"-149.3\" font-family=\"Helvetica,sans-Serif\" font-size=\"14.00\">samples = 1</text>\r\n",
       "<text text-anchor=\"middle\" x=\"797\" y=\"-134.3\" font-family=\"Helvetica,sans-Serif\" font-size=\"14.00\">value = [0, 1, 0]</text>\r\n",
       "<text text-anchor=\"middle\" x=\"797\" y=\"-119.3\" font-family=\"Helvetica,sans-Serif\" font-size=\"14.00\">class = 雪莉</text>\r\n",
       "</g>\r\n",
       "<!-- 14&#45;&gt;15 -->\r\n",
       "<g id=\"edge15\" class=\"edge\">\r\n",
       "<title>14&#45;&gt;15</title>\r\n",
       "<path fill=\"none\" stroke=\"black\" d=\"M810.71,-222.91C808.79,-212.2 806.71,-200.62 804.77,-189.78\"/>\r\n",
       "<polygon fill=\"black\" stroke=\"black\" points=\"808.16,-188.89 802.95,-179.67 801.27,-190.13 808.16,-188.89\"/>\r\n",
       "</g>\r\n",
       "<!-- 16 -->\r\n",
       "<g id=\"node17\" class=\"node\">\r\n",
       "<title>16</title>\r\n",
       "<path fill=\"#e6843e\" stroke=\"black\" d=\"M1008.5,-187C1008.5,-187 883.5,-187 883.5,-187 877.5,-187 871.5,-181 871.5,-175 871.5,-175 871.5,-116 871.5,-116 871.5,-110 877.5,-104 883.5,-104 883.5,-104 1008.5,-104 1008.5,-104 1014.5,-104 1020.5,-110 1020.5,-116 1020.5,-116 1020.5,-175 1020.5,-175 1020.5,-181 1014.5,-187 1008.5,-187\"/>\r\n",
       "<text text-anchor=\"middle\" x=\"946\" y=\"-171.8\" font-family=\"Helvetica,sans-Serif\" font-size=\"14.00\">灰的碱性 &lt;= 27.348</text>\r\n",
       "<text text-anchor=\"middle\" x=\"946\" y=\"-156.8\" font-family=\"Helvetica,sans-Serif\" font-size=\"14.00\">entropy = 0.172</text>\r\n",
       "<text text-anchor=\"middle\" x=\"946\" y=\"-141.8\" font-family=\"Helvetica,sans-Serif\" font-size=\"14.00\">samples = 39</text>\r\n",
       "<text text-anchor=\"middle\" x=\"946\" y=\"-126.8\" font-family=\"Helvetica,sans-Serif\" font-size=\"14.00\">value = [38, 1, 0]</text>\r\n",
       "<text text-anchor=\"middle\" x=\"946\" y=\"-111.8\" font-family=\"Helvetica,sans-Serif\" font-size=\"14.00\">class = 琴酒</text>\r\n",
       "</g>\r\n",
       "<!-- 14&#45;&gt;16 -->\r\n",
       "<g id=\"edge16\" class=\"edge\">\r\n",
       "<title>14&#45;&gt;16</title>\r\n",
       "<path fill=\"none\" stroke=\"black\" d=\"M862.41,-222.91C872.64,-213.56 883.6,-203.54 894.11,-193.93\"/>\r\n",
       "<polygon fill=\"black\" stroke=\"black\" points=\"896.65,-196.35 901.67,-187.02 891.93,-191.18 896.65,-196.35\"/>\r\n",
       "</g>\r\n",
       "<!-- 17 -->\r\n",
       "<g id=\"node18\" class=\"node\">\r\n",
       "<title>17</title>\r\n",
       "<path fill=\"#e58139\" stroke=\"black\" d=\"M926.5,-68C926.5,-68 829.5,-68 829.5,-68 823.5,-68 817.5,-62 817.5,-56 817.5,-56 817.5,-12 817.5,-12 817.5,-6 823.5,0 829.5,0 829.5,0 926.5,0 926.5,0 932.5,0 938.5,-6 938.5,-12 938.5,-12 938.5,-56 938.5,-56 938.5,-62 932.5,-68 926.5,-68\"/>\r\n",
       "<text text-anchor=\"middle\" x=\"878\" y=\"-52.8\" font-family=\"Helvetica,sans-Serif\" font-size=\"14.00\">entropy = 0.0</text>\r\n",
       "<text text-anchor=\"middle\" x=\"878\" y=\"-37.8\" font-family=\"Helvetica,sans-Serif\" font-size=\"14.00\">samples = 38</text>\r\n",
       "<text text-anchor=\"middle\" x=\"878\" y=\"-22.8\" font-family=\"Helvetica,sans-Serif\" font-size=\"14.00\">value = [38, 0, 0]</text>\r\n",
       "<text text-anchor=\"middle\" x=\"878\" y=\"-7.8\" font-family=\"Helvetica,sans-Serif\" font-size=\"14.00\">class = 琴酒</text>\r\n",
       "</g>\r\n",
       "<!-- 16&#45;&gt;17 -->\r\n",
       "<g id=\"edge17\" class=\"edge\">\r\n",
       "<title>16&#45;&gt;17</title>\r\n",
       "<path fill=\"none\" stroke=\"black\" d=\"M920.68,-103.73C915.24,-94.97 909.49,-85.7 904.02,-76.91\"/>\r\n",
       "<polygon fill=\"black\" stroke=\"black\" points=\"906.93,-74.95 898.68,-68.3 900.98,-78.64 906.93,-74.95\"/>\r\n",
       "</g>\r\n",
       "<!-- 18 -->\r\n",
       "<g id=\"node19\" class=\"node\">\r\n",
       "<title>18</title>\r\n",
       "<path fill=\"#39e581\" stroke=\"black\" d=\"M1057.5,-68C1057.5,-68 968.5,-68 968.5,-68 962.5,-68 956.5,-62 956.5,-56 956.5,-56 956.5,-12 956.5,-12 956.5,-6 962.5,0 968.5,0 968.5,0 1057.5,0 1057.5,0 1063.5,0 1069.5,-6 1069.5,-12 1069.5,-12 1069.5,-56 1069.5,-56 1069.5,-62 1063.5,-68 1057.5,-68\"/>\r\n",
       "<text text-anchor=\"middle\" x=\"1013\" y=\"-52.8\" font-family=\"Helvetica,sans-Serif\" font-size=\"14.00\">entropy = 0.0</text>\r\n",
       "<text text-anchor=\"middle\" x=\"1013\" y=\"-37.8\" font-family=\"Helvetica,sans-Serif\" font-size=\"14.00\">samples = 1</text>\r\n",
       "<text text-anchor=\"middle\" x=\"1013\" y=\"-22.8\" font-family=\"Helvetica,sans-Serif\" font-size=\"14.00\">value = [0, 1, 0]</text>\r\n",
       "<text text-anchor=\"middle\" x=\"1013\" y=\"-7.8\" font-family=\"Helvetica,sans-Serif\" font-size=\"14.00\">class = 雪莉</text>\r\n",
       "</g>\r\n",
       "<!-- 16&#45;&gt;18 -->\r\n",
       "<g id=\"edge18\" class=\"edge\">\r\n",
       "<title>16&#45;&gt;18</title>\r\n",
       "<path fill=\"none\" stroke=\"black\" d=\"M970.95,-103.73C976.31,-94.97 981.98,-85.7 987.36,-76.91\"/>\r\n",
       "<polygon fill=\"black\" stroke=\"black\" points=\"990.39,-78.66 992.62,-68.3 984.42,-75 990.39,-78.66\"/>\r\n",
       "</g>\r\n",
       "</g>\r\n",
       "</svg>\r\n"
      ],
      "text/plain": [
       "<graphviz.files.Source at 0x170f029f978>"
      ]
     },
     "execution_count": 25,
     "metadata": {},
     "output_type": "execute_result"
    }
   ],
   "source": [
    "import graphviz #可视化组件，需自己安装，配置环境变量等\n",
    "dot_data = tree.export_graphviz(clf\n",
    "                                ,feature_names = feature_name\n",
    "                                ,class_names = [\"琴酒\",\"雪莉\",\"贝尔摩德\"]\n",
    "                                ,filled=True\n",
    "                                ,rounded=True\n",
    "                                )\n",
    "graph = graphviz.Source(dot_data)\n",
    "graph"
   ]
  },
  {
   "cell_type": "code",
   "execution_count": 26,
   "id": "proper-falls",
   "metadata": {},
   "outputs": [
    {
     "data": {
      "text/plain": [
       "0.9919354838709677"
      ]
     },
     "execution_count": 26,
     "metadata": {},
     "output_type": "execute_result"
    }
   ],
   "source": [
    "score_train = clf.score(Xtrain,Ytrain)\n",
    "score_train"
   ]
  },
  {
   "cell_type": "markdown",
   "id": "complex-washer",
   "metadata": {},
   "source": [
    "## 3、max_features & min_impurity_decrease"
   ]
  },
  {
   "cell_type": "markdown",
   "id": "cathedral-wedding",
   "metadata": {},
   "source": [
    "**max_features** 用来限制分枝时考虑的特征个数，超过限制个数的特征都会被舍弃。\n",
    "**min_impurity_decrease** 限制信息增益的大小，信息增益小于设定数值的分枝不会发生。"
   ]
  },
  {
   "cell_type": "markdown",
   "id": "unsigned-monthly",
   "metadata": {},
   "source": [
    "- **确认最优的剪枝参数**<br>\n",
    "那具体怎么来确定每个参数填写什么值呢？这时候，我们就要用确定超参数的曲线来进行判断了，继续使用我们已经训练好的决策树模型clf。超参数的学习曲线，是一条以超参数的取值为横坐标，模型的度量指标为纵坐标的曲线，它是用来衡量不同超参数取值下模型的表现的线。在我们建好的决策树里，我们的模型度量指标就是score。"
   ]
  },
  {
   "cell_type": "code",
   "execution_count": 27,
   "id": "continental-shadow",
   "metadata": {
    "scrolled": true
   },
   "outputs": [
    {
     "data": {
      "image/png": "[encoded data removed]",
      "text/plain": [
       "<Figure size 432x288 with 1 Axes>"
      ]
     },
     "metadata": {
      "needs_background": "light"
     },
     "output_type": "display_data"
    }
   ],
   "source": [
    "import matplotlib.pyplot as plt\n",
    "\n",
    "test = []\n",
    "for i in range(10):\n",
    "    clf = tree.DecisionTreeClassifier(max_depth=i+1\n",
    "                                      ,criterion=\"entropy\"\n",
    "                                      ,random_state=30\n",
    "                                      ,splitter=\"random\"\n",
    "                                     )\n",
    "    clf = clf.fit(Xtrain,Ytrain)\n",
    "    score = clf.score(Xtest,Ytest)\n",
    "    test.append(score)\n",
    "\n",
    "plt.plot(range(1,11),test,color=\"red\",label=\"max_depth\")   \n",
    "plt.legend()\n",
    "plt.show()"
   ]
  },
  {
   "cell_type": "code",
   "execution_count": 28,
   "id": "extended-pontiac",
   "metadata": {},
   "outputs": [
    {
     "data": {
      "text/plain": [
       "array([25, 20, 25, 26, 26, 25, 15,  7, 15,  4, 25, 26, 22, 26,  4, 15,  4,\n",
       "       26,  9,  4, 26, 20, 26, 26, 25, 26, 20,  7, 15,  7,  4, 15, 25, 26,\n",
       "       15, 18,  7, 26, 25, 20, 26, 15,  4, 20, 26,  4,  9, 15, 26, 26, 22,\n",
       "        4, 15, 26], dtype=int64)"
      ]
     },
     "execution_count": 28,
     "metadata": {},
     "output_type": "execute_result"
    }
   ],
   "source": [
    "#apply返回每个测试样本所在的叶子节点的索引\n",
    "clf.apply(Xtest)"
   ]
  },
  {
   "cell_type": "code",
   "execution_count": 29,
   "id": "weighted-paintball",
   "metadata": {},
   "outputs": [
    {
     "data": {
      "text/plain": [
       "array([0, 1, 0, 0, 0, 0, 1, 2, 1, 2, 0, 0, 1, 0, 2, 1, 2, 0, 2, 2, 0, 1,\n",
       "       0, 0, 0, 0, 1, 2, 1, 2, 2, 1, 0, 0, 1, 1, 2, 0, 0, 1, 0, 1, 2, 1,\n",
       "       0, 2, 2, 1, 0, 0, 1, 2, 1, 0])"
      ]
     },
     "execution_count": 29,
     "metadata": {},
     "output_type": "execute_result"
    }
   ],
   "source": [
    "#predict返回每个测试样本的分类/回归结果\n",
    "clf.predict(Xtest)"
   ]
  },
  {
   "cell_type": "markdown",
   "id": "empty-brass",
   "metadata": {},
   "source": [
    "**八个参数**：criterion，两个随机性相关的参数（random_state,splitter），五个剪枝参数（max_depth,min_samples_split,min_samples_leaf,max_feature,min_impurity_decrease）<br>\n",
    "**一个属性**：feature_importances_<br>\n",
    "**四个接口**：fit,score,apply,predict<br>"
   ]
  },
  {
   "cell_type": "markdown",
   "id": "ignored-jersey",
   "metadata": {},
   "source": [
    "注：推荐看B站菜菜的机器学习实战视频，太赞了,这里是菜菜老师的课程文件链接：https://www.zhihu.com/column/c_1242508311053963264"
   ]
  },
  {
   "cell_type": "code",
   "execution_count": null,
   "id": "prompt-procurement",
   "metadata": {},
   "outputs": [],
   "source": []
  },
  {
   "cell_type": "code",
   "execution_count": null,
   "id": "balanced-turtle",
   "metadata": {},
   "outputs": [],
   "source": []
  },
  {
   "cell_type": "code",
   "execution_count": null,
   "id": "critical-financing",
   "metadata": {},
   "outputs": [],
   "source": []
  },
  {
   "cell_type": "code",
   "execution_count": 30,
   "id": "western-injection",
   "metadata": {},
   "outputs": [],
   "source": [
    "import numpy as np\n",
    "import matplotlib.pyplot as plt\n",
    "from matplotlib.colors import ListedColormap\n",
    "from sklearn.model_selection import train_test_split\n",
    "from sklearn.preprocessing import StandardScaler\n",
    "from sklearn.datasets import make_moons, make_circles, make_classification\n",
    "from sklearn.tree import DecisionTreeClassifier"
   ]
  },
  {
   "cell_type": "code",
   "execution_count": 37,
   "id": "pediatric-amsterdam",
   "metadata": {},
   "outputs": [
    {
     "data": {
      "text/plain": [
       "<matplotlib.collections.PathCollection at 0x170f20fd710>"
      ]
     },
     "execution_count": 37,
     "metadata": {},
     "output_type": "execute_result"
    },
    {
     "data": {
      "image/png": "[encoded data removed]",
      "text/plain": [
       "<Figure size 432x288 with 1 Axes>"
      ]
     },
     "metadata": {
      "needs_background": "light"
     },
     "output_type": "display_data"
    }
   ],
   "source": [
    "#make_classification库生成随机的二分型数据\n",
    "X, y = make_classification(n_samples=100, #生成100个样本\n",
    "                           n_features=2,  #包含2个特征，即生成二维数据\n",
    "                           n_redundant=0, #添加冗余特征0个\n",
    "                           n_informative=2, #包含信息的特征是2个\n",
    "                           random_state=1,  #随机模式1\n",
    "                           n_clusters_per_class=1 #每个簇内包含的标签类别有1个\n",
    "                          )\n",
    "\n",
    "#在这里可以查看一下X和y，其中X是100行带有两个2特征的数据，y是二分类标签\n",
    "#也可以画出散点图来观察一下X中特征的分布\n",
    "plt.scatter(X[:,0],X[:,1])"
   ]
  },
  {
   "cell_type": "code",
   "execution_count": 38,
   "id": "satisfactory-leonard",
   "metadata": {},
   "outputs": [
    {
     "data": {
      "text/plain": [
       "<matplotlib.collections.PathCollection at 0x170f21726a0>"
      ]
     },
     "execution_count": 38,
     "metadata": {},
     "output_type": "execute_result"
    },
    {
     "data": {
      "image/png": "[encoded data removed]",
      "text/plain": [
       "<Figure size 432x288 with 1 Axes>"
      ]
     },
     "metadata": {
      "needs_background": "light"
     },
     "output_type": "display_data"
    }
   ],
   "source": [
    "#从图上可以看出，生成的二分型数据的两个簇离彼此很远，这样不利于我们测试分类器的效果，因此我们使用np生成随机数组，通过让已经生成的二分型数据点加减0~1之间的随机数，使数据分布变得更散更稀疏\n",
    "#注意，这个过程只能够运行一次，因为多次运行之后X会变得非常稀疏，两个簇的数据会混合在一起，分类器的效应会继续下降\n",
    "rng = np.random.RandomState(2) #生成一种随机模式\n",
    "X += 2 * rng.uniform(size=X.shape) #加减0~1之间的随机数\n",
    "linearly_separable = (X, y) #生成了新的X，依然可以画散点图来观察一下特征的分布\n",
    "plt.scatter(X[:,0],X[:,1])"
   ]
  },
  {
   "cell_type": "code",
   "execution_count": 39,
   "id": "compatible-plain",
   "metadata": {},
   "outputs": [],
   "source": [
    "#用make_moons创建月亮型数据，make_circles创建环形数据，并将三组数据打包起来放在列表datasets中\n",
    "datasets = [make_moons(noise=0.3, random_state=0),\n",
    "            make_circles(noise=0.2, factor=0.5, random_state=1),\n",
    "            linearly_separable]"
   ]
  },
  {
   "cell_type": "code",
   "execution_count": 32,
   "id": "breathing-gateway",
   "metadata": {},
   "outputs": [
    {
     "data": {
      "image/png": "[encoded data removed]",
      "text/plain": [
       "<Figure size 432x648 with 6 Axes>"
      ]
     },
     "metadata": {},
     "output_type": "display_data"
    }
   ],
   "source": [
    "#创建画布，宽高比为6*9\n",
    "figure = plt.figure(figsize=(6, 9))\n",
    "#设置用来安排图像显示位置的全局变量i\n",
    "i = 1\n",
    "\n",
    "#开始迭代数据，对datasets中的数据进行for循环\n",
    "\n",
    "for ds_index, ds in enumerate(datasets):\n",
    "    \n",
    "    #对X中的数据进行标准化处理，然后分训练集和测试集\n",
    "    X, y = ds\n",
    "    X = StandardScaler().fit_transform(X) \n",
    "    X_train, X_test, y_train, y_test = train_test_split(X, y, test_size=.4, random_state=42)\n",
    "    \n",
    "    #找出数据集中两个特征的最大值和最小值，让最大值+0.5，最小值-0.5，创造一个比两个特征的区间本身更大一点的区间\n",
    "    x1_min, x1_max = X[:, 0].min() - .5, X[:, 0].max() + .5\n",
    "    x2_min, x2_max = X[:, 1].min() - .5, X[:, 1].max() + .5\n",
    "    \n",
    "    #用特征向量生成网格数据，网格数据，其实就相当于坐标轴上无数个点\n",
    "    #函数np.arange在给定的两个数之间返回均匀间隔的值，0.2为步长\n",
    "    #函数meshgrid用以生成网格数据，能够将两个一维数组生成两个二维矩阵。\n",
    "    #如果第一个数组是narray，维度是n，第二个参数是marray，维度是m。那么生成的第一个二维数组是以narray为行，m行的矩阵，而第二个二维数组是以marray的转置为列，n列的矩阵\n",
    "    #生成的网格数据，是用来绘制决策边界的，因为绘制决策边界的函数contourf要求输入的两个特征都必须是二维的\n",
    "    array1,array2 = np.meshgrid(np.arange(x1_min, x1_max, 0.2),\n",
    "                         np.arange(x2_min, x2_max, 0.2))\n",
    "\n",
    "    #接下来生成彩色画布\n",
    "    #用ListedColormap为画布创建颜色，#FF0000正红，#0000FF正蓝\n",
    "    cm = plt.cm.RdBu\n",
    "    cm_bright = ListedColormap(['#FF0000', '#0000FF'])\n",
    "    \n",
    "    #在画布上加上一个子图，数据为len(datasets)行，2列，放在位置i上\n",
    "    ax = plt.subplot(len(datasets), 2, i)\n",
    "    \n",
    "    #到这里为止，已经生成了0~1之间的坐标系3个了，接下来为我们的坐标系放上标题\n",
    "    #我们有三个坐标系，但我们只需要在第一个坐标系上有标题，因此设定if ds_index==0这个条件\n",
    "    if ds_index == 0:\n",
    "        ax.set_title(\"Input data\")\n",
    "    \n",
    "    #将数据集的分布放到我们的坐标系上\n",
    "    #先放训练集\n",
    "    ax.scatter(X_train[:, 0], X_train[:, 1], c=y_train, \n",
    "               cmap=cm_bright,edgecolors='k')\n",
    "    #放测试集\n",
    "    ax.scatter(X_test[:, 0], X_test[:, 1], c=y_test, \n",
    "               cmap=cm_bright, alpha=0.6,edgecolors='k')\n",
    "    \n",
    "     #为图设置坐标轴的最大值和最小值，并设定没有坐标轴\n",
    "    ax.set_xlim(array1.min(), array1.max())\n",
    "    ax.set_ylim(array2.min(), array2.max())\n",
    "    ax.set_xticks(())\n",
    "    ax.set_yticks(())\n",
    "    \n",
    "    #每次循环之后，改变i的取值让图每次位列不同的位置\n",
    "    i += 1\n",
    "    \n",
    "    #至此为止，数据集本身的图像已经布置完毕，运行以上的代码，可以看见三个已经处理好的数据集\n",
    "    \n",
    "    #############################从这里开始是决策树模型######################################################################################\n",
    "    \n",
    "    #迭代决策树，首先用subplot增加子图，subplot(行，列，索引)这样的结构，并使用索引i定义图的位置\n",
    "    #在这里，len(datasets)其实就是3，2是两列\n",
    "    #在函数最开始，我们定义了i=1，并且在上边建立数据集的图像的时候，已经让i+1,所以i在每次循环中的取值是2，4，6\n",
    "    ax = plt.subplot(len(datasets),2,i)\n",
    "    \n",
    "    #决策树的建模过程：实例化 → fit训练 → score接口得到预测的准确率\n",
    "    clf = DecisionTreeClassifier(max_depth=5)\n",
    "    clf.fit(X_train, y_train)\n",
    "    score = clf.score(X_test, y_test)\n",
    "    \n",
    "    #绘制决策边界，为此，我们将为网格中的每个点指定一种颜色[x1_min，x1_max] x [x2_min，x2_max]\n",
    "    #分类树的接口，predict_proba，返回每一个输入的数据点所对应的标签类概率\n",
    "    #类概率是数据点所在的叶节点中相同类的样本数量/叶节点中的样本总数量\n",
    "    #由于决策树在训练的时候导入的训练集X_train里面包含两个特征，所以我们在计算类概率的时候，也必须导入结构相同的数组，即是说，必须有两个特征\n",
    "    #ravel()能够将一个多维数组转换成一维数组\n",
    "    #np.c_是能够将两个数组组合起来的函数\n",
    "    #在这里，我们先将两个网格数据降维降维成一维数组，再将两个数组链接变成含有两个特征的数据，再带入决策树模型，生成的Z包含数据的索引和每个样本点对应的类概率，再切片，且出类概率\n",
    "    Z = clf.predict_proba(np.c_[array1.ravel(),array2.ravel()])[:, 1]\n",
    "    \n",
    "    #np.c_[np.array([1,2,3]), np.array([4,5,6])]\n",
    "    \n",
    "    #将返回的类概率作为数据，放到contourf里面绘制去绘制轮廓\n",
    "    Z = Z.reshape(array1.shape)\n",
    "    ax.contourf(array1, array2, Z, cmap=cm, alpha=.8)\n",
    "    \n",
    "    #将数据集的分布放到我们的坐标系上\n",
    "    # 将训练集放到图中去\n",
    "    ax.scatter(X_train[:, 0], X_train[:, 1], c=y_train, cmap=cm_bright,\n",
    "               edgecolors='k')\n",
    "    # 将测试集放到图中去\n",
    "    ax.scatter(X_test[:, 0], X_test[:, 1], c=y_test, cmap=cm_bright,\n",
    "               edgecolors='k', alpha=0.6)\n",
    "    \n",
    "    #为图设置坐标轴的最大值和最小值\n",
    "    ax.set_xlim(array1.min(), array1.max())\n",
    "    ax.set_ylim(array2.min(), array2.max())\n",
    "    #设定坐标轴不显示标尺也不显示数字\n",
    "    ax.set_xticks(())\n",
    "    ax.set_yticks(())\n",
    "    \n",
    "    #我们有三个坐标系，但我们只需要在第一个坐标系上有标题，因此设定if ds_index==0这个条件\n",
    "    if ds_index == 0:\n",
    "        ax.set_title(\"Decision Tree\")\n",
    "    \n",
    "    #写在右下角的数字    \n",
    "    ax.text(array1.max() - .3, array2.min() + .3, ('{:.1f}%'.format(score*100)),\n",
    "            size=15, horizontalalignment='right')\n",
    "    \n",
    "    #让i继续加一\n",
    "    i += 1\n",
    "\n",
    "plt.tight_layout()\n",
    "plt.show()"
   ]
  },
  {
   "cell_type": "code",
   "execution_count": null,
   "id": "contemporary-pixel",
   "metadata": {},
   "outputs": [],
   "source": []
  }
 ],
 "metadata": {
  "kernelspec": {
   "display_name": "Python 36",
   "language": "python",
   "name": "py3.6"
  },
  "language_info": {
   "codemirror_mode": {
    "name": "ipython",
    "version": 3
   },
   "file_extension": ".py",
   "mimetype": "text/x-python",
   "name": "python",
   "nbconvert_exporter": "python",
   "pygments_lexer": "ipython3",
   "version": "3.6.8"
  },
  "toc": {
   "base_numbering": 1,
   "nav_menu": {},
   "number_sections": true,
   "sideBar": true,
   "skip_h1_title": false,
   "title_cell": "Table of Contents",
   "title_sidebar": "Contents",
   "toc_cell": false,
   "toc_position": {},
   "toc_section_display": true,
   "toc_window_display": false
  }
 },
 "nbformat": 4,
 "nbformat_minor": 5
}
