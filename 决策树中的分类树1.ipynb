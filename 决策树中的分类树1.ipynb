{
 "cells": [
  {
   "cell_type": "markdown",
   "id": "earlier-string",
   "metadata": {},
   "source": [
    "# 决策树实战1（红酒数据集）"
   ]
  },
  {
   "cell_type": "code",
   "execution_count": 1,
   "id": "recognized-notification",
   "metadata": {},
   "outputs": [],
   "source": [
    "from sklearn import tree\n",
    "from sklearn.datasets import load_wine\n",
    "from sklearn.model_selection import train_test_split"
   ]
  },
  {
   "cell_type": "code",
   "execution_count": 2,
   "id": "fixed-exception",
   "metadata": {},
   "outputs": [],
   "source": [
    "wine = load_wine() #加载数据集"
   ]
  },
  {
   "cell_type": "code",
   "execution_count": 3,
   "id": "burning-chicago",
   "metadata": {},
   "outputs": [
    {
     "data": {
      "text/plain": [
       "array([[1.423e+01, 1.710e+00, 2.430e+00, ..., 1.040e+00, 3.920e+00,\n",
       "        1.065e+03],\n",
       "       [1.320e+01, 1.780e+00, 2.140e+00, ..., 1.050e+00, 3.400e+00,\n",
       "        1.050e+03],\n",
       "       [1.316e+01, 2.360e+00, 2.670e+00, ..., 1.030e+00, 3.170e+00,\n",
       "        1.185e+03],\n",
       "       ...,\n",
       "       [1.327e+01, 4.280e+00, 2.260e+00, ..., 5.900e-01, 1.560e+00,\n",
       "        8.350e+02],\n",
       "       [1.317e+01, 2.590e+00, 2.370e+00, ..., 6.000e-01, 1.620e+00,\n",
       "        8.400e+02],\n",
       "       [1.413e+01, 4.100e+00, 2.740e+00, ..., 6.100e-01, 1.600e+00,\n",
       "        5.600e+02]])"
      ]
     },
     "execution_count": 3,
     "metadata": {},
     "output_type": "execute_result"
    }
   ],
   "source": [
    "wine.data #查看里面的数据"
   ]
  },
  {
   "cell_type": "code",
   "execution_count": 4,
   "id": "electric-evans",
   "metadata": {},
   "outputs": [
    {
     "data": {
      "text/plain": [
       "(178, 13)"
      ]
     },
     "execution_count": 4,
     "metadata": {},
     "output_type": "execute_result"
    }
   ],
   "source": [
    "wine.data.shape #查看数据的形状"
   ]
  },
  {
   "cell_type": "code",
   "execution_count": 5,
   "id": "complex-level",
   "metadata": {},
   "outputs": [
    {
     "data": {
      "text/plain": [
       "array([0, 0, 0, 0, 0, 0, 0, 0, 0, 0, 0, 0, 0, 0, 0, 0, 0, 0, 0, 0, 0, 0,\n",
       "       0, 0, 0, 0, 0, 0, 0, 0, 0, 0, 0, 0, 0, 0, 0, 0, 0, 0, 0, 0, 0, 0,\n",
       "       0, 0, 0, 0, 0, 0, 0, 0, 0, 0, 0, 0, 0, 0, 0, 1, 1, 1, 1, 1, 1, 1,\n",
       "       1, 1, 1, 1, 1, 1, 1, 1, 1, 1, 1, 1, 1, 1, 1, 1, 1, 1, 1, 1, 1, 1,\n",
       "       1, 1, 1, 1, 1, 1, 1, 1, 1, 1, 1, 1, 1, 1, 1, 1, 1, 1, 1, 1, 1, 1,\n",
       "       1, 1, 1, 1, 1, 1, 1, 1, 1, 1, 1, 1, 1, 1, 1, 1, 1, 1, 1, 1, 2, 2,\n",
       "       2, 2, 2, 2, 2, 2, 2, 2, 2, 2, 2, 2, 2, 2, 2, 2, 2, 2, 2, 2, 2, 2,\n",
       "       2, 2, 2, 2, 2, 2, 2, 2, 2, 2, 2, 2, 2, 2, 2, 2, 2, 2, 2, 2, 2, 2,\n",
       "       2, 2])"
      ]
     },
     "execution_count": 5,
     "metadata": {},
     "output_type": "execute_result"
    }
   ],
   "source": [
    "wine.target #分的类别"
   ]
  },
  {
   "cell_type": "code",
   "execution_count": 6,
   "id": "impressive-rider",
   "metadata": {},
   "outputs": [
    {
     "data": {
      "text/html": [
       "<div>\n",
       "<style scoped>\n",
       "    .dataframe tbody tr th:only-of-type {\n",
       "        vertical-align: middle;\n",
       "    }\n",
       "\n",
       "    .dataframe tbody tr th {\n",
       "        vertical-align: top;\n",
       "    }\n",
       "\n",
       "    .dataframe thead th {\n",
       "        text-align: right;\n",
       "    }\n",
       "</style>\n",
       "<table border=\"1\" class=\"dataframe\">\n",
       "  <thead>\n",
       "    <tr style=\"text-align: right;\">\n",
       "      <th></th>\n",
       "      <th>0</th>\n",
       "      <th>1</th>\n",
       "      <th>2</th>\n",
       "      <th>3</th>\n",
       "      <th>4</th>\n",
       "      <th>5</th>\n",
       "      <th>6</th>\n",
       "      <th>7</th>\n",
       "      <th>8</th>\n",
       "      <th>9</th>\n",
       "      <th>10</th>\n",
       "      <th>11</th>\n",
       "      <th>12</th>\n",
       "      <th>0</th>\n",
       "    </tr>\n",
       "  </thead>\n",
       "  <tbody>\n",
       "    <tr>\n",
       "      <th>0</th>\n",
       "      <td>14.23</td>\n",
       "      <td>1.71</td>\n",
       "      <td>2.43</td>\n",
       "      <td>15.6</td>\n",
       "      <td>127.0</td>\n",
       "      <td>2.80</td>\n",
       "      <td>3.06</td>\n",
       "      <td>0.28</td>\n",
       "      <td>2.29</td>\n",
       "      <td>5.64</td>\n",
       "      <td>1.04</td>\n",
       "      <td>3.92</td>\n",
       "      <td>1065.0</td>\n",
       "      <td>0</td>\n",
       "    </tr>\n",
       "    <tr>\n",
       "      <th>1</th>\n",
       "      <td>13.20</td>\n",
       "      <td>1.78</td>\n",
       "      <td>2.14</td>\n",
       "      <td>11.2</td>\n",
       "      <td>100.0</td>\n",
       "      <td>2.65</td>\n",
       "      <td>2.76</td>\n",
       "      <td>0.26</td>\n",
       "      <td>1.28</td>\n",
       "      <td>4.38</td>\n",
       "      <td>1.05</td>\n",
       "      <td>3.40</td>\n",
       "      <td>1050.0</td>\n",
       "      <td>0</td>\n",
       "    </tr>\n",
       "    <tr>\n",
       "      <th>2</th>\n",
       "      <td>13.16</td>\n",
       "      <td>2.36</td>\n",
       "      <td>2.67</td>\n",
       "      <td>18.6</td>\n",
       "      <td>101.0</td>\n",
       "      <td>2.80</td>\n",
       "      <td>3.24</td>\n",
       "      <td>0.30</td>\n",
       "      <td>2.81</td>\n",
       "      <td>5.68</td>\n",
       "      <td>1.03</td>\n",
       "      <td>3.17</td>\n",
       "      <td>1185.0</td>\n",
       "      <td>0</td>\n",
       "    </tr>\n",
       "    <tr>\n",
       "      <th>3</th>\n",
       "      <td>14.37</td>\n",
       "      <td>1.95</td>\n",
       "      <td>2.50</td>\n",
       "      <td>16.8</td>\n",
       "      <td>113.0</td>\n",
       "      <td>3.85</td>\n",
       "      <td>3.49</td>\n",
       "      <td>0.24</td>\n",
       "      <td>2.18</td>\n",
       "      <td>7.80</td>\n",
       "      <td>0.86</td>\n",
       "      <td>3.45</td>\n",
       "      <td>1480.0</td>\n",
       "      <td>0</td>\n",
       "    </tr>\n",
       "    <tr>\n",
       "      <th>4</th>\n",
       "      <td>13.24</td>\n",
       "      <td>2.59</td>\n",
       "      <td>2.87</td>\n",
       "      <td>21.0</td>\n",
       "      <td>118.0</td>\n",
       "      <td>2.80</td>\n",
       "      <td>2.69</td>\n",
       "      <td>0.39</td>\n",
       "      <td>1.82</td>\n",
       "      <td>4.32</td>\n",
       "      <td>1.04</td>\n",
       "      <td>2.93</td>\n",
       "      <td>735.0</td>\n",
       "      <td>0</td>\n",
       "    </tr>\n",
       "    <tr>\n",
       "      <th>...</th>\n",
       "      <td>...</td>\n",
       "      <td>...</td>\n",
       "      <td>...</td>\n",
       "      <td>...</td>\n",
       "      <td>...</td>\n",
       "      <td>...</td>\n",
       "      <td>...</td>\n",
       "      <td>...</td>\n",
       "      <td>...</td>\n",
       "      <td>...</td>\n",
       "      <td>...</td>\n",
       "      <td>...</td>\n",
       "      <td>...</td>\n",
       "      <td>...</td>\n",
       "    </tr>\n",
       "    <tr>\n",
       "      <th>173</th>\n",
       "      <td>13.71</td>\n",
       "      <td>5.65</td>\n",
       "      <td>2.45</td>\n",
       "      <td>20.5</td>\n",
       "      <td>95.0</td>\n",
       "      <td>1.68</td>\n",
       "      <td>0.61</td>\n",
       "      <td>0.52</td>\n",
       "      <td>1.06</td>\n",
       "      <td>7.70</td>\n",
       "      <td>0.64</td>\n",
       "      <td>1.74</td>\n",
       "      <td>740.0</td>\n",
       "      <td>2</td>\n",
       "    </tr>\n",
       "    <tr>\n",
       "      <th>174</th>\n",
       "      <td>13.40</td>\n",
       "      <td>3.91</td>\n",
       "      <td>2.48</td>\n",
       "      <td>23.0</td>\n",
       "      <td>102.0</td>\n",
       "      <td>1.80</td>\n",
       "      <td>0.75</td>\n",
       "      <td>0.43</td>\n",
       "      <td>1.41</td>\n",
       "      <td>7.30</td>\n",
       "      <td>0.70</td>\n",
       "      <td>1.56</td>\n",
       "      <td>750.0</td>\n",
       "      <td>2</td>\n",
       "    </tr>\n",
       "    <tr>\n",
       "      <th>175</th>\n",
       "      <td>13.27</td>\n",
       "      <td>4.28</td>\n",
       "      <td>2.26</td>\n",
       "      <td>20.0</td>\n",
       "      <td>120.0</td>\n",
       "      <td>1.59</td>\n",
       "      <td>0.69</td>\n",
       "      <td>0.43</td>\n",
       "      <td>1.35</td>\n",
       "      <td>10.20</td>\n",
       "      <td>0.59</td>\n",
       "      <td>1.56</td>\n",
       "      <td>835.0</td>\n",
       "      <td>2</td>\n",
       "    </tr>\n",
       "    <tr>\n",
       "      <th>176</th>\n",
       "      <td>13.17</td>\n",
       "      <td>2.59</td>\n",
       "      <td>2.37</td>\n",
       "      <td>20.0</td>\n",
       "      <td>120.0</td>\n",
       "      <td>1.65</td>\n",
       "      <td>0.68</td>\n",
       "      <td>0.53</td>\n",
       "      <td>1.46</td>\n",
       "      <td>9.30</td>\n",
       "      <td>0.60</td>\n",
       "      <td>1.62</td>\n",
       "      <td>840.0</td>\n",
       "      <td>2</td>\n",
       "    </tr>\n",
       "    <tr>\n",
       "      <th>177</th>\n",
       "      <td>14.13</td>\n",
       "      <td>4.10</td>\n",
       "      <td>2.74</td>\n",
       "      <td>24.5</td>\n",
       "      <td>96.0</td>\n",
       "      <td>2.05</td>\n",
       "      <td>0.76</td>\n",
       "      <td>0.56</td>\n",
       "      <td>1.35</td>\n",
       "      <td>9.20</td>\n",
       "      <td>0.61</td>\n",
       "      <td>1.60</td>\n",
       "      <td>560.0</td>\n",
       "      <td>2</td>\n",
       "    </tr>\n",
       "  </tbody>\n",
       "</table>\n",
       "<p>178 rows × 14 columns</p>\n",
       "</div>"
      ],
      "text/plain": [
       "        0     1     2     3      4     5     6     7     8      9     10  \\\n",
       "0    14.23  1.71  2.43  15.6  127.0  2.80  3.06  0.28  2.29   5.64  1.04   \n",
       "1    13.20  1.78  2.14  11.2  100.0  2.65  2.76  0.26  1.28   4.38  1.05   \n",
       "2    13.16  2.36  2.67  18.6  101.0  2.80  3.24  0.30  2.81   5.68  1.03   \n",
       "3    14.37  1.95  2.50  16.8  113.0  3.85  3.49  0.24  2.18   7.80  0.86   \n",
       "4    13.24  2.59  2.87  21.0  118.0  2.80  2.69  0.39  1.82   4.32  1.04   \n",
       "..     ...   ...   ...   ...    ...   ...   ...   ...   ...    ...   ...   \n",
       "173  13.71  5.65  2.45  20.5   95.0  1.68  0.61  0.52  1.06   7.70  0.64   \n",
       "174  13.40  3.91  2.48  23.0  102.0  1.80  0.75  0.43  1.41   7.30  0.70   \n",
       "175  13.27  4.28  2.26  20.0  120.0  1.59  0.69  0.43  1.35  10.20  0.59   \n",
       "176  13.17  2.59  2.37  20.0  120.0  1.65  0.68  0.53  1.46   9.30  0.60   \n",
       "177  14.13  4.10  2.74  24.5   96.0  2.05  0.76  0.56  1.35   9.20  0.61   \n",
       "\n",
       "       11      12  0   \n",
       "0    3.92  1065.0   0  \n",
       "1    3.40  1050.0   0  \n",
       "2    3.17  1185.0   0  \n",
       "3    3.45  1480.0   0  \n",
       "4    2.93   735.0   0  \n",
       "..    ...     ...  ..  \n",
       "173  1.74   740.0   2  \n",
       "174  1.56   750.0   2  \n",
       "175  1.56   835.0   2  \n",
       "176  1.62   840.0   2  \n",
       "177  1.60   560.0   2  \n",
       "\n",
       "[178 rows x 14 columns]"
      ]
     },
     "execution_count": 6,
     "metadata": {},
     "output_type": "execute_result"
    }
   ],
   "source": [
    "import pandas as pd\n",
    "pd.concat([pd.DataFrame(wine.data),pd.DataFrame(wine.target)],axis=1) #用表格展示"
   ]
  },
  {
   "cell_type": "code",
   "execution_count": 7,
   "id": "computational-cream",
   "metadata": {},
   "outputs": [
    {
     "data": {
      "text/plain": [
       "['alcohol',\n",
       " 'malic_acid',\n",
       " 'ash',\n",
       " 'alcalinity_of_ash',\n",
       " 'magnesium',\n",
       " 'total_phenols',\n",
       " 'flavanoids',\n",
       " 'nonflavanoid_phenols',\n",
       " 'proanthocyanins',\n",
       " 'color_intensity',\n",
       " 'hue',\n",
       " 'od280/od315_of_diluted_wines',\n",
       " 'proline']"
      ]
     },
     "execution_count": 7,
     "metadata": {},
     "output_type": "execute_result"
    }
   ],
   "source": [
    "wine.feature_names #各个特征的名称"
   ]
  },
  {
   "cell_type": "code",
   "execution_count": 8,
   "id": "digital-police",
   "metadata": {},
   "outputs": [
    {
     "data": {
      "text/plain": [
       "array(['class_0', 'class_1', 'class_2'], dtype='<U7')"
      ]
     },
     "execution_count": 8,
     "metadata": {},
     "output_type": "execute_result"
    }
   ],
   "source": [
    "wine.target_names #类别名称"
   ]
  },
  {
   "cell_type": "code",
   "execution_count": 9,
   "id": "individual-store",
   "metadata": {},
   "outputs": [],
   "source": [
    "Xtrain,Xtest,Ytrain,Ytest = train_test_split(wine.data,wine.target,test_size=0.3)  #分为训练集与测试集，测试集占30%"
   ]
  },
  {
   "cell_type": "code",
   "execution_count": 10,
   "id": "endangered-calendar",
   "metadata": {},
   "outputs": [
    {
     "data": {
      "text/plain": [
       "(124, 13)"
      ]
     },
     "execution_count": 10,
     "metadata": {},
     "output_type": "execute_result"
    }
   ],
   "source": [
    "Xtrain.shape"
   ]
  },
  {
   "cell_type": "code",
   "execution_count": 11,
   "id": "internal-louisiana",
   "metadata": {},
   "outputs": [
    {
     "data": {
      "text/plain": [
       "(54, 13)"
      ]
     },
     "execution_count": 11,
     "metadata": {},
     "output_type": "execute_result"
    }
   ],
   "source": [
    "Xtest.shape"
   ]
  },
  {
   "cell_type": "code",
   "execution_count": 12,
   "id": "phantom-arthur",
   "metadata": {},
   "outputs": [
    {
     "data": {
      "text/plain": [
       "array([1, 2, 1, 1, 0, 2, 2, 0, 1, 1, 0, 2, 1, 1, 1, 0, 0, 1, 1, 0, 2, 0,\n",
       "       0, 1, 0, 2, 1, 0, 0, 1, 0, 2, 1, 1, 1, 0, 2, 2, 0, 2, 0, 2, 1, 1,\n",
       "       1, 0, 0, 0, 2, 0, 1, 2, 0, 1, 1, 1, 0, 0, 2, 2, 0, 1, 0, 1, 1, 0,\n",
       "       1, 1, 0, 1, 0, 2, 1, 0, 1, 0, 0, 1, 0, 0, 0, 1, 0, 2, 1, 0, 2, 1,\n",
       "       2, 0, 2, 2, 1, 2, 1, 1, 1, 0, 1, 0, 1, 2, 0, 1, 1, 2, 2, 1, 1, 0,\n",
       "       1, 2, 2, 2, 2, 2, 2, 0, 0, 1, 2, 2, 1, 0])"
      ]
     },
     "execution_count": 12,
     "metadata": {},
     "output_type": "execute_result"
    }
   ],
   "source": [
    "Ytrain"
   ]
  },
  {
   "cell_type": "code",
   "execution_count": 13,
   "id": "advanced-sherman",
   "metadata": {},
   "outputs": [
    {
     "data": {
      "text/plain": [
       "(124,)"
      ]
     },
     "execution_count": 13,
     "metadata": {},
     "output_type": "execute_result"
    }
   ],
   "source": [
    "Ytrain.shape"
   ]
  },
  {
   "cell_type": "markdown",
   "id": "social-mexico",
   "metadata": {},
   "source": [
    "## 参数criterion"
   ]
  },
  {
   "cell_type": "markdown",
   "id": "structural-frost",
   "metadata": {},
   "source": [
    "criterion默认是gini系数，当然可以将其修改为信息熵entropy"
   ]
  },
  {
   "cell_type": "code",
   "execution_count": 19,
   "id": "fiscal-saskatchewan",
   "metadata": {},
   "outputs": [
    {
     "data": {
      "text/plain": [
       "0.7777777777777778"
      ]
     },
     "execution_count": 19,
     "metadata": {},
     "output_type": "execute_result"
    }
   ],
   "source": [
    "clf = tree.DecisionTreeClassifier(criterion = \"entropy\")   #第一步：实例化   注：criterion默认是gini系数，当然可以将其修改为信息熵entropy\n",
    "clf = clf.fit(Xtrain,Ytrain) #第二步：训练\n",
    "score = clf.score(Xtest,Ytest)  #第三步：返回预测的准确度accuracy\n",
    "\n",
    "score"
   ]
  },
  {
   "cell_type": "markdown",
   "id": "continental-agenda",
   "metadata": {},
   "source": [
    "每次运行的结果都不一样，但是在上面划分测试集与训练集的时候代码只运行了一次，也就是每次传入的训练集与测试集都是一样的数据，但为什么每次运行的结果也就是精度会不一样呢？<br>\n",
    "可以这样子来理解，比如说我是一个果农，我会从一大堆种子里面选出一颗最好的种子然后对它悉心浇灌，但是它也不一定就能长成最好的果树，也就是不能保证最优，所以我还是要种很多颗树，然后从中选出最好的<br>\n",
    "sklearn也是利用了这个思想，它先从这些特征中随机选择几种特征，计算各自的不纯度，因此每次选择的结果都可能不同<br>"
   ]
  },
  {
   "cell_type": "code",
   "execution_count": 20,
   "id": "aware-translator",
   "metadata": {},
   "outputs": [
    {
     "data": {
      "image/svg+xml": [
       "<?xml version=\"1.0\" encoding=\"UTF-8\" standalone=\"no\"?>\r\n",
       "<!DOCTYPE svg PUBLIC \"-//W3C//DTD SVG 1.1//EN\"\r\n",
       " \"http://www.w3.org/Graphics/SVG/1.1/DTD/svg11.dtd\">\r\n",
       "<!-- Generated by graphviz version 2.46.0 (20210118.1747)\r\n",
       " -->\r\n",
       "<!-- Title: Tree Pages: 1 -->\r\n",
       "<svg width=\"849pt\" height=\"671pt\"\r\n",
       " viewBox=\"0.00 0.00 849.00 671.00\" xmlns=\"http://www.w3.org/2000/svg\" xmlns:xlink=\"http://www.w3.org/1999/xlink\">\r\n",
       "<g id=\"graph0\" class=\"graph\" transform=\"scale(1 1) rotate(0) translate(4 667)\">\r\n",
       "<title>Tree</title>\r\n",
       "<polygon fill=\"white\" stroke=\"transparent\" points=\"-4,4 -4,-667 845,-667 845,4 -4,4\"/>\r\n",
       "<!-- 0 -->\r\n",
       "<g id=\"node1\" class=\"node\">\r\n",
       "<title>0</title>\r\n",
       "<path fill=\"#f3fdf7\" stroke=\"black\" d=\"M612,-663C612,-663 499,-663 499,-663 493,-663 487,-657 487,-651 487,-651 487,-592 487,-592 487,-586 493,-580 499,-580 499,-580 612,-580 612,-580 618,-580 624,-586 624,-592 624,-592 624,-651 624,-651 624,-657 618,-663 612,-663\"/>\r\n",
       "<text text-anchor=\"middle\" x=\"555.5\" y=\"-647.8\" font-family=\"Helvetica,sans-Serif\" font-size=\"14.00\">脯氨酸 &lt;= 787.5</text>\r\n",
       "<text text-anchor=\"middle\" x=\"555.5\" y=\"-632.8\" font-family=\"Helvetica,sans-Serif\" font-size=\"14.00\">entropy = 1.568</text>\r\n",
       "<text text-anchor=\"middle\" x=\"555.5\" y=\"-617.8\" font-family=\"Helvetica,sans-Serif\" font-size=\"14.00\">samples = 124</text>\r\n",
       "<text text-anchor=\"middle\" x=\"555.5\" y=\"-602.8\" font-family=\"Helvetica,sans-Serif\" font-size=\"14.00\">value = [43, 48, 33]</text>\r\n",
       "<text text-anchor=\"middle\" x=\"555.5\" y=\"-587.8\" font-family=\"Helvetica,sans-Serif\" font-size=\"14.00\">class = 雪莉</text>\r\n",
       "</g>\r\n",
       "<!-- 1 -->\r\n",
       "<g id=\"node2\" class=\"node\">\r\n",
       "<title>1</title>\r\n",
       "<path fill=\"#bef7d6\" stroke=\"black\" d=\"M474.5,-544C474.5,-544 366.5,-544 366.5,-544 360.5,-544 354.5,-538 354.5,-532 354.5,-532 354.5,-473 354.5,-473 354.5,-467 360.5,-461 366.5,-461 366.5,-461 474.5,-461 474.5,-461 480.5,-461 486.5,-467 486.5,-473 486.5,-473 486.5,-532 486.5,-532 486.5,-538 480.5,-544 474.5,-544\"/>\r\n",
       "<text text-anchor=\"middle\" x=\"420.5\" y=\"-528.8\" font-family=\"Helvetica,sans-Serif\" font-size=\"14.00\">颜色强度 &lt;= 4.86</text>\r\n",
       "<text text-anchor=\"middle\" x=\"420.5\" y=\"-513.8\" font-family=\"Helvetica,sans-Serif\" font-size=\"14.00\">entropy = 1.114</text>\r\n",
       "<text text-anchor=\"middle\" x=\"420.5\" y=\"-498.8\" font-family=\"Helvetica,sans-Serif\" font-size=\"14.00\">samples = 80</text>\r\n",
       "<text text-anchor=\"middle\" x=\"420.5\" y=\"-483.8\" font-family=\"Helvetica,sans-Serif\" font-size=\"14.00\">value = [2, 47, 31]</text>\r\n",
       "<text text-anchor=\"middle\" x=\"420.5\" y=\"-468.8\" font-family=\"Helvetica,sans-Serif\" font-size=\"14.00\">class = 雪莉</text>\r\n",
       "</g>\r\n",
       "<!-- 0&#45;&gt;1 -->\r\n",
       "<g id=\"edge1\" class=\"edge\">\r\n",
       "<title>0&#45;&gt;1</title>\r\n",
       "<path fill=\"none\" stroke=\"black\" d=\"M508.66,-579.91C497.77,-570.47 486.09,-560.34 474.9,-550.65\"/>\r\n",
       "<polygon fill=\"black\" stroke=\"black\" points=\"477.1,-547.93 467.25,-544.02 472.52,-553.22 477.1,-547.93\"/>\r\n",
       "<text text-anchor=\"middle\" x=\"469.04\" y=\"-565.26\" font-family=\"Helvetica,sans-Serif\" font-size=\"14.00\">True</text>\r\n",
       "</g>\r\n",
       "<!-- 12 -->\r\n",
       "<g id=\"node13\" class=\"node\">\r\n",
       "<title>12</title>\r\n",
       "<path fill=\"#e78a47\" stroke=\"black\" d=\"M682,-544C682,-544 581,-544 581,-544 575,-544 569,-538 569,-532 569,-532 569,-473 569,-473 569,-467 575,-461 581,-461 581,-461 682,-461 682,-461 688,-461 694,-467 694,-473 694,-473 694,-532 694,-532 694,-538 688,-544 682,-544\"/>\r\n",
       "<text text-anchor=\"middle\" x=\"631.5\" y=\"-528.8\" font-family=\"Helvetica,sans-Serif\" font-size=\"14.00\">类黄酮 &lt;= 2.165</text>\r\n",
       "<text text-anchor=\"middle\" x=\"631.5\" y=\"-513.8\" font-family=\"Helvetica,sans-Serif\" font-size=\"14.00\">entropy = 0.422</text>\r\n",
       "<text text-anchor=\"middle\" x=\"631.5\" y=\"-498.8\" font-family=\"Helvetica,sans-Serif\" font-size=\"14.00\">samples = 44</text>\r\n",
       "<text text-anchor=\"middle\" x=\"631.5\" y=\"-483.8\" font-family=\"Helvetica,sans-Serif\" font-size=\"14.00\">value = [41, 1, 2]</text>\r\n",
       "<text text-anchor=\"middle\" x=\"631.5\" y=\"-468.8\" font-family=\"Helvetica,sans-Serif\" font-size=\"14.00\">class = 琴酒</text>\r\n",
       "</g>\r\n",
       "<!-- 0&#45;&gt;12 -->\r\n",
       "<g id=\"edge12\" class=\"edge\">\r\n",
       "<title>0&#45;&gt;12</title>\r\n",
       "<path fill=\"none\" stroke=\"black\" d=\"M581.87,-579.91C587.59,-571.1 593.69,-561.7 599.6,-552.61\"/>\r\n",
       "<polygon fill=\"black\" stroke=\"black\" points=\"602.67,-554.31 605.18,-544.02 596.8,-550.5 602.67,-554.31\"/>\r\n",
       "<text text-anchor=\"middle\" x=\"610.37\" y=\"-564.78\" font-family=\"Helvetica,sans-Serif\" font-size=\"14.00\">False</text>\r\n",
       "</g>\r\n",
       "<!-- 2 -->\r\n",
       "<g id=\"node3\" class=\"node\">\r\n",
       "<title>2</title>\r\n",
       "<path fill=\"#46e789\" stroke=\"black\" d=\"M258,-425C258,-425 161,-425 161,-425 155,-425 149,-419 149,-413 149,-413 149,-354 149,-354 149,-348 155,-342 161,-342 161,-342 258,-342 258,-342 264,-342 270,-348 270,-354 270,-354 270,-413 270,-413 270,-419 264,-425 258,-425\"/>\r\n",
       "<text text-anchor=\"middle\" x=\"209.5\" y=\"-409.8\" font-family=\"Helvetica,sans-Serif\" font-size=\"14.00\">酒精 &lt;= 13.145</text>\r\n",
       "<text text-anchor=\"middle\" x=\"209.5\" y=\"-394.8\" font-family=\"Helvetica,sans-Serif\" font-size=\"14.00\">entropy = 0.395</text>\r\n",
       "<text text-anchor=\"middle\" x=\"209.5\" y=\"-379.8\" font-family=\"Helvetica,sans-Serif\" font-size=\"14.00\">samples = 48</text>\r\n",
       "<text text-anchor=\"middle\" x=\"209.5\" y=\"-364.8\" font-family=\"Helvetica,sans-Serif\" font-size=\"14.00\">value = [2, 45, 1]</text>\r\n",
       "<text text-anchor=\"middle\" x=\"209.5\" y=\"-349.8\" font-family=\"Helvetica,sans-Serif\" font-size=\"14.00\">class = 雪莉</text>\r\n",
       "</g>\r\n",
       "<!-- 1&#45;&gt;2 -->\r\n",
       "<g id=\"edge2\" class=\"edge\">\r\n",
       "<title>1&#45;&gt;2</title>\r\n",
       "<path fill=\"none\" stroke=\"black\" d=\"M354.32,-464.8C330.31,-451.49 303.14,-436.42 278.87,-422.97\"/>\r\n",
       "<polygon fill=\"black\" stroke=\"black\" points=\"280.51,-419.88 270.07,-418.09 277.12,-426 280.51,-419.88\"/>\r\n",
       "</g>\r\n",
       "<!-- 9 -->\r\n",
       "<g id=\"node10\" class=\"node\">\r\n",
       "<title>9</title>\r\n",
       "<path fill=\"#8946e7\" stroke=\"black\" d=\"M472.5,-425C472.5,-425 368.5,-425 368.5,-425 362.5,-425 356.5,-419 356.5,-413 356.5,-413 356.5,-354 356.5,-354 356.5,-348 362.5,-342 368.5,-342 368.5,-342 472.5,-342 472.5,-342 478.5,-342 484.5,-348 484.5,-354 484.5,-354 484.5,-413 484.5,-413 484.5,-419 478.5,-425 472.5,-425\"/>\r\n",
       "<text text-anchor=\"middle\" x=\"420.5\" y=\"-409.8\" font-family=\"Helvetica,sans-Serif\" font-size=\"14.00\">色调 &lt;= 0.91</text>\r\n",
       "<text text-anchor=\"middle\" x=\"420.5\" y=\"-394.8\" font-family=\"Helvetica,sans-Serif\" font-size=\"14.00\">entropy = 0.337</text>\r\n",
       "<text text-anchor=\"middle\" x=\"420.5\" y=\"-379.8\" font-family=\"Helvetica,sans-Serif\" font-size=\"14.00\">samples = 32</text>\r\n",
       "<text text-anchor=\"middle\" x=\"420.5\" y=\"-364.8\" font-family=\"Helvetica,sans-Serif\" font-size=\"14.00\">value = [0, 2, 30]</text>\r\n",
       "<text text-anchor=\"middle\" x=\"420.5\" y=\"-349.8\" font-family=\"Helvetica,sans-Serif\" font-size=\"14.00\">class = 贝尔摩德</text>\r\n",
       "</g>\r\n",
       "<!-- 1&#45;&gt;9 -->\r\n",
       "<g id=\"edge9\" class=\"edge\">\r\n",
       "<title>1&#45;&gt;9</title>\r\n",
       "<path fill=\"none\" stroke=\"black\" d=\"M420.5,-460.91C420.5,-452.65 420.5,-443.86 420.5,-435.3\"/>\r\n",
       "<polygon fill=\"black\" stroke=\"black\" points=\"424,-435.02 420.5,-425.02 417,-435.02 424,-435.02\"/>\r\n",
       "</g>\r\n",
       "<!-- 3 -->\r\n",
       "<g id=\"node4\" class=\"node\">\r\n",
       "<title>3</title>\r\n",
       "<path fill=\"#39e581\" stroke=\"black\" d=\"M109,-298.5C109,-298.5 12,-298.5 12,-298.5 6,-298.5 0,-292.5 0,-286.5 0,-286.5 0,-242.5 0,-242.5 0,-236.5 6,-230.5 12,-230.5 12,-230.5 109,-230.5 109,-230.5 115,-230.5 121,-236.5 121,-242.5 121,-242.5 121,-286.5 121,-286.5 121,-292.5 115,-298.5 109,-298.5\"/>\r\n",
       "<text text-anchor=\"middle\" x=\"60.5\" y=\"-283.3\" font-family=\"Helvetica,sans-Serif\" font-size=\"14.00\">entropy = 0.0</text>\r\n",
       "<text text-anchor=\"middle\" x=\"60.5\" y=\"-268.3\" font-family=\"Helvetica,sans-Serif\" font-size=\"14.00\">samples = 44</text>\r\n",
       "<text text-anchor=\"middle\" x=\"60.5\" y=\"-253.3\" font-family=\"Helvetica,sans-Serif\" font-size=\"14.00\">value = [0, 44, 0]</text>\r\n",
       "<text text-anchor=\"middle\" x=\"60.5\" y=\"-238.3\" font-family=\"Helvetica,sans-Serif\" font-size=\"14.00\">class = 雪莉</text>\r\n",
       "</g>\r\n",
       "<!-- 2&#45;&gt;3 -->\r\n",
       "<g id=\"edge3\" class=\"edge\">\r\n",
       "<title>2&#45;&gt;3</title>\r\n",
       "<path fill=\"none\" stroke=\"black\" d=\"M157.81,-341.91C142.63,-329.99 126.05,-316.98 110.96,-305.12\"/>\r\n",
       "<polygon fill=\"black\" stroke=\"black\" points=\"112.76,-302.09 102.74,-298.67 108.44,-307.6 112.76,-302.09\"/>\r\n",
       "</g>\r\n",
       "<!-- 4 -->\r\n",
       "<g id=\"node5\" class=\"node\">\r\n",
       "<title>4</title>\r\n",
       "<path fill=\"#f6d5bd\" stroke=\"black\" d=\"M267.5,-306C267.5,-306 151.5,-306 151.5,-306 145.5,-306 139.5,-300 139.5,-294 139.5,-294 139.5,-235 139.5,-235 139.5,-229 145.5,-223 151.5,-223 151.5,-223 267.5,-223 267.5,-223 273.5,-223 279.5,-229 279.5,-235 279.5,-235 279.5,-294 279.5,-294 279.5,-300 273.5,-306 267.5,-306\"/>\r\n",
       "<text text-anchor=\"middle\" x=\"209.5\" y=\"-290.8\" font-family=\"Helvetica,sans-Serif\" font-size=\"14.00\">灰的碱性 &lt;= 22.25</text>\r\n",
       "<text text-anchor=\"middle\" x=\"209.5\" y=\"-275.8\" font-family=\"Helvetica,sans-Serif\" font-size=\"14.00\">entropy = 1.5</text>\r\n",
       "<text text-anchor=\"middle\" x=\"209.5\" y=\"-260.8\" font-family=\"Helvetica,sans-Serif\" font-size=\"14.00\">samples = 4</text>\r\n",
       "<text text-anchor=\"middle\" x=\"209.5\" y=\"-245.8\" font-family=\"Helvetica,sans-Serif\" font-size=\"14.00\">value = [2, 1, 1]</text>\r\n",
       "<text text-anchor=\"middle\" x=\"209.5\" y=\"-230.8\" font-family=\"Helvetica,sans-Serif\" font-size=\"14.00\">class = 琴酒</text>\r\n",
       "</g>\r\n",
       "<!-- 2&#45;&gt;4 -->\r\n",
       "<g id=\"edge4\" class=\"edge\">\r\n",
       "<title>2&#45;&gt;4</title>\r\n",
       "<path fill=\"none\" stroke=\"black\" d=\"M209.5,-341.91C209.5,-333.65 209.5,-324.86 209.5,-316.3\"/>\r\n",
       "<polygon fill=\"black\" stroke=\"black\" points=\"213,-316.02 209.5,-306.02 206,-316.02 213,-316.02\"/>\r\n",
       "</g>\r\n",
       "<!-- 5 -->\r\n",
       "<g id=\"node6\" class=\"node\">\r\n",
       "<title>5</title>\r\n",
       "<path fill=\"#e58139\" stroke=\"black\" d=\"M188,-179.5C188,-179.5 99,-179.5 99,-179.5 93,-179.5 87,-173.5 87,-167.5 87,-167.5 87,-123.5 87,-123.5 87,-117.5 93,-111.5 99,-111.5 99,-111.5 188,-111.5 188,-111.5 194,-111.5 200,-117.5 200,-123.5 200,-123.5 200,-167.5 200,-167.5 200,-173.5 194,-179.5 188,-179.5\"/>\r\n",
       "<text text-anchor=\"middle\" x=\"143.5\" y=\"-164.3\" font-family=\"Helvetica,sans-Serif\" font-size=\"14.00\">entropy = 0.0</text>\r\n",
       "<text text-anchor=\"middle\" x=\"143.5\" y=\"-149.3\" font-family=\"Helvetica,sans-Serif\" font-size=\"14.00\">samples = 2</text>\r\n",
       "<text text-anchor=\"middle\" x=\"143.5\" y=\"-134.3\" font-family=\"Helvetica,sans-Serif\" font-size=\"14.00\">value = [2, 0, 0]</text>\r\n",
       "<text text-anchor=\"middle\" x=\"143.5\" y=\"-119.3\" font-family=\"Helvetica,sans-Serif\" font-size=\"14.00\">class = 琴酒</text>\r\n",
       "</g>\r\n",
       "<!-- 4&#45;&gt;5 -->\r\n",
       "<g id=\"edge5\" class=\"edge\">\r\n",
       "<title>4&#45;&gt;5</title>\r\n",
       "<path fill=\"none\" stroke=\"black\" d=\"M186.6,-222.91C180.31,-211.76 173.49,-199.66 167.16,-188.44\"/>\r\n",
       "<polygon fill=\"black\" stroke=\"black\" points=\"170.17,-186.66 162.21,-179.67 164.07,-190.1 170.17,-186.66\"/>\r\n",
       "</g>\r\n",
       "<!-- 6 -->\r\n",
       "<g id=\"node7\" class=\"node\">\r\n",
       "<title>6</title>\r\n",
       "<path fill=\"#ffffff\" stroke=\"black\" d=\"M322.5,-187C322.5,-187 230.5,-187 230.5,-187 224.5,-187 218.5,-181 218.5,-175 218.5,-175 218.5,-116 218.5,-116 218.5,-110 224.5,-104 230.5,-104 230.5,-104 322.5,-104 322.5,-104 328.5,-104 334.5,-110 334.5,-116 334.5,-116 334.5,-175 334.5,-175 334.5,-181 328.5,-187 322.5,-187\"/>\r\n",
       "<text text-anchor=\"middle\" x=\"276.5\" y=\"-171.8\" font-family=\"Helvetica,sans-Serif\" font-size=\"14.00\">苹果酸 &lt;= 2.34</text>\r\n",
       "<text text-anchor=\"middle\" x=\"276.5\" y=\"-156.8\" font-family=\"Helvetica,sans-Serif\" font-size=\"14.00\">entropy = 1.0</text>\r\n",
       "<text text-anchor=\"middle\" x=\"276.5\" y=\"-141.8\" font-family=\"Helvetica,sans-Serif\" font-size=\"14.00\">samples = 2</text>\r\n",
       "<text text-anchor=\"middle\" x=\"276.5\" y=\"-126.8\" font-family=\"Helvetica,sans-Serif\" font-size=\"14.00\">value = [0, 1, 1]</text>\r\n",
       "<text text-anchor=\"middle\" x=\"276.5\" y=\"-111.8\" font-family=\"Helvetica,sans-Serif\" font-size=\"14.00\">class = 雪莉</text>\r\n",
       "</g>\r\n",
       "<!-- 4&#45;&gt;6 -->\r\n",
       "<g id=\"edge6\" class=\"edge\">\r\n",
       "<title>4&#45;&gt;6</title>\r\n",
       "<path fill=\"none\" stroke=\"black\" d=\"M232.75,-222.91C237.73,-214.2 243.06,-204.9 248.21,-195.89\"/>\r\n",
       "<polygon fill=\"black\" stroke=\"black\" points=\"251.36,-197.44 253.3,-187.02 245.29,-193.96 251.36,-197.44\"/>\r\n",
       "</g>\r\n",
       "<!-- 7 -->\r\n",
       "<g id=\"node8\" class=\"node\">\r\n",
       "<title>7</title>\r\n",
       "<path fill=\"#39e581\" stroke=\"black\" d=\"M252,-68C252,-68 163,-68 163,-68 157,-68 151,-62 151,-56 151,-56 151,-12 151,-12 151,-6 157,0 163,0 163,0 252,0 252,0 258,0 264,-6 264,-12 264,-12 264,-56 264,-56 264,-62 258,-68 252,-68\"/>\r\n",
       "<text text-anchor=\"middle\" x=\"207.5\" y=\"-52.8\" font-family=\"Helvetica,sans-Serif\" font-size=\"14.00\">entropy = 0.0</text>\r\n",
       "<text text-anchor=\"middle\" x=\"207.5\" y=\"-37.8\" font-family=\"Helvetica,sans-Serif\" font-size=\"14.00\">samples = 1</text>\r\n",
       "<text text-anchor=\"middle\" x=\"207.5\" y=\"-22.8\" font-family=\"Helvetica,sans-Serif\" font-size=\"14.00\">value = [0, 1, 0]</text>\r\n",
       "<text text-anchor=\"middle\" x=\"207.5\" y=\"-7.8\" font-family=\"Helvetica,sans-Serif\" font-size=\"14.00\">class = 雪莉</text>\r\n",
       "</g>\r\n",
       "<!-- 6&#45;&gt;7 -->\r\n",
       "<g id=\"edge7\" class=\"edge\">\r\n",
       "<title>6&#45;&gt;7</title>\r\n",
       "<path fill=\"none\" stroke=\"black\" d=\"M250.81,-103.73C245.29,-94.97 239.45,-85.7 233.91,-76.91\"/>\r\n",
       "<polygon fill=\"black\" stroke=\"black\" points=\"236.78,-74.89 228.48,-68.3 230.85,-78.63 236.78,-74.89\"/>\r\n",
       "</g>\r\n",
       "<!-- 8 -->\r\n",
       "<g id=\"node9\" class=\"node\">\r\n",
       "<title>8</title>\r\n",
       "<path fill=\"#8139e5\" stroke=\"black\" d=\"M398.5,-68C398.5,-68 294.5,-68 294.5,-68 288.5,-68 282.5,-62 282.5,-56 282.5,-56 282.5,-12 282.5,-12 282.5,-6 288.5,0 294.5,0 294.5,0 398.5,0 398.5,0 404.5,0 410.5,-6 410.5,-12 410.5,-12 410.5,-56 410.5,-56 410.5,-62 404.5,-68 398.5,-68\"/>\r\n",
       "<text text-anchor=\"middle\" x=\"346.5\" y=\"-52.8\" font-family=\"Helvetica,sans-Serif\" font-size=\"14.00\">entropy = 0.0</text>\r\n",
       "<text text-anchor=\"middle\" x=\"346.5\" y=\"-37.8\" font-family=\"Helvetica,sans-Serif\" font-size=\"14.00\">samples = 1</text>\r\n",
       "<text text-anchor=\"middle\" x=\"346.5\" y=\"-22.8\" font-family=\"Helvetica,sans-Serif\" font-size=\"14.00\">value = [0, 0, 1]</text>\r\n",
       "<text text-anchor=\"middle\" x=\"346.5\" y=\"-7.8\" font-family=\"Helvetica,sans-Serif\" font-size=\"14.00\">class = 贝尔摩德</text>\r\n",
       "</g>\r\n",
       "<!-- 6&#45;&gt;8 -->\r\n",
       "<g id=\"edge8\" class=\"edge\">\r\n",
       "<title>6&#45;&gt;8</title>\r\n",
       "<path fill=\"none\" stroke=\"black\" d=\"M302.57,-103.73C308.16,-94.97 314.09,-85.7 319.71,-76.91\"/>\r\n",
       "<polygon fill=\"black\" stroke=\"black\" points=\"322.78,-78.61 325.21,-68.3 316.88,-74.84 322.78,-78.61\"/>\r\n",
       "</g>\r\n",
       "<!-- 10 -->\r\n",
       "<g id=\"node11\" class=\"node\">\r\n",
       "<title>10</title>\r\n",
       "<path fill=\"#8139e5\" stroke=\"black\" d=\"M413.5,-298.5C413.5,-298.5 309.5,-298.5 309.5,-298.5 303.5,-298.5 297.5,-292.5 297.5,-286.5 297.5,-286.5 297.5,-242.5 297.5,-242.5 297.5,-236.5 303.5,-230.5 309.5,-230.5 309.5,-230.5 413.5,-230.5 413.5,-230.5 419.5,-230.5 425.5,-236.5 425.5,-242.5 425.5,-242.5 425.5,-286.5 425.5,-286.5 425.5,-292.5 419.5,-298.5 413.5,-298.5\"/>\r\n",
       "<text text-anchor=\"middle\" x=\"361.5\" y=\"-283.3\" font-family=\"Helvetica,sans-Serif\" font-size=\"14.00\">entropy = 0.0</text>\r\n",
       "<text text-anchor=\"middle\" x=\"361.5\" y=\"-268.3\" font-family=\"Helvetica,sans-Serif\" font-size=\"14.00\">samples = 30</text>\r\n",
       "<text text-anchor=\"middle\" x=\"361.5\" y=\"-253.3\" font-family=\"Helvetica,sans-Serif\" font-size=\"14.00\">value = [0, 0, 30]</text>\r\n",
       "<text text-anchor=\"middle\" x=\"361.5\" y=\"-238.3\" font-family=\"Helvetica,sans-Serif\" font-size=\"14.00\">class = 贝尔摩德</text>\r\n",
       "</g>\r\n",
       "<!-- 9&#45;&gt;10 -->\r\n",
       "<g id=\"edge10\" class=\"edge\">\r\n",
       "<title>9&#45;&gt;10</title>\r\n",
       "<path fill=\"none\" stroke=\"black\" d=\"M400.03,-341.91C394.47,-330.87 388.43,-318.9 382.82,-307.77\"/>\r\n",
       "<polygon fill=\"black\" stroke=\"black\" points=\"385.85,-306.02 378.23,-298.67 379.6,-309.17 385.85,-306.02\"/>\r\n",
       "</g>\r\n",
       "<!-- 11 -->\r\n",
       "<g id=\"node12\" class=\"node\">\r\n",
       "<title>11</title>\r\n",
       "<path fill=\"#39e581\" stroke=\"black\" d=\"M545,-298.5C545,-298.5 456,-298.5 456,-298.5 450,-298.5 444,-292.5 444,-286.5 444,-286.5 444,-242.5 444,-242.5 444,-236.5 450,-230.5 456,-230.5 456,-230.5 545,-230.5 545,-230.5 551,-230.5 557,-236.5 557,-242.5 557,-242.5 557,-286.5 557,-286.5 557,-292.5 551,-298.5 545,-298.5\"/>\r\n",
       "<text text-anchor=\"middle\" x=\"500.5\" y=\"-283.3\" font-family=\"Helvetica,sans-Serif\" font-size=\"14.00\">entropy = 0.0</text>\r\n",
       "<text text-anchor=\"middle\" x=\"500.5\" y=\"-268.3\" font-family=\"Helvetica,sans-Serif\" font-size=\"14.00\">samples = 2</text>\r\n",
       "<text text-anchor=\"middle\" x=\"500.5\" y=\"-253.3\" font-family=\"Helvetica,sans-Serif\" font-size=\"14.00\">value = [0, 2, 0]</text>\r\n",
       "<text text-anchor=\"middle\" x=\"500.5\" y=\"-238.3\" font-family=\"Helvetica,sans-Serif\" font-size=\"14.00\">class = 雪莉</text>\r\n",
       "</g>\r\n",
       "<!-- 9&#45;&gt;11 -->\r\n",
       "<g id=\"edge11\" class=\"edge\">\r\n",
       "<title>9&#45;&gt;11</title>\r\n",
       "<path fill=\"none\" stroke=\"black\" d=\"M448.26,-341.91C455.95,-330.65 464.32,-318.42 472.05,-307.11\"/>\r\n",
       "<polygon fill=\"black\" stroke=\"black\" points=\"475.07,-308.9 477.82,-298.67 469.29,-304.95 475.07,-308.9\"/>\r\n",
       "</g>\r\n",
       "<!-- 13 -->\r\n",
       "<g id=\"node14\" class=\"node\">\r\n",
       "<title>13</title>\r\n",
       "<path fill=\"#c09cf2\" stroke=\"black\" d=\"M689.5,-425C689.5,-425 573.5,-425 573.5,-425 567.5,-425 561.5,-419 561.5,-413 561.5,-413 561.5,-354 561.5,-354 561.5,-348 567.5,-342 573.5,-342 573.5,-342 689.5,-342 689.5,-342 695.5,-342 701.5,-348 701.5,-354 701.5,-354 701.5,-413 701.5,-413 701.5,-419 695.5,-425 689.5,-425\"/>\r\n",
       "<text text-anchor=\"middle\" x=\"631.5\" y=\"-409.8\" font-family=\"Helvetica,sans-Serif\" font-size=\"14.00\">颜色强度 &lt;= 3.605</text>\r\n",
       "<text text-anchor=\"middle\" x=\"631.5\" y=\"-394.8\" font-family=\"Helvetica,sans-Serif\" font-size=\"14.00\">entropy = 0.918</text>\r\n",
       "<text text-anchor=\"middle\" x=\"631.5\" y=\"-379.8\" font-family=\"Helvetica,sans-Serif\" font-size=\"14.00\">samples = 3</text>\r\n",
       "<text text-anchor=\"middle\" x=\"631.5\" y=\"-364.8\" font-family=\"Helvetica,sans-Serif\" font-size=\"14.00\">value = [0, 1, 2]</text>\r\n",
       "<text text-anchor=\"middle\" x=\"631.5\" y=\"-349.8\" font-family=\"Helvetica,sans-Serif\" font-size=\"14.00\">class = 贝尔摩德</text>\r\n",
       "</g>\r\n",
       "<!-- 12&#45;&gt;13 -->\r\n",
       "<g id=\"edge13\" class=\"edge\">\r\n",
       "<title>12&#45;&gt;13</title>\r\n",
       "<path fill=\"none\" stroke=\"black\" d=\"M631.5,-460.91C631.5,-452.65 631.5,-443.86 631.5,-435.3\"/>\r\n",
       "<polygon fill=\"black\" stroke=\"black\" points=\"635,-435.02 631.5,-425.02 628,-435.02 635,-435.02\"/>\r\n",
       "</g>\r\n",
       "<!-- 16 -->\r\n",
       "<g id=\"node17\" class=\"node\">\r\n",
       "<title>16</title>\r\n",
       "<path fill=\"#e58139\" stroke=\"black\" d=\"M829,-417.5C829,-417.5 732,-417.5 732,-417.5 726,-417.5 720,-411.5 720,-405.5 720,-405.5 720,-361.5 720,-361.5 720,-355.5 726,-349.5 732,-349.5 732,-349.5 829,-349.5 829,-349.5 835,-349.5 841,-355.5 841,-361.5 841,-361.5 841,-405.5 841,-405.5 841,-411.5 835,-417.5 829,-417.5\"/>\r\n",
       "<text text-anchor=\"middle\" x=\"780.5\" y=\"-402.3\" font-family=\"Helvetica,sans-Serif\" font-size=\"14.00\">entropy = 0.0</text>\r\n",
       "<text text-anchor=\"middle\" x=\"780.5\" y=\"-387.3\" font-family=\"Helvetica,sans-Serif\" font-size=\"14.00\">samples = 41</text>\r\n",
       "<text text-anchor=\"middle\" x=\"780.5\" y=\"-372.3\" font-family=\"Helvetica,sans-Serif\" font-size=\"14.00\">value = [41, 0, 0]</text>\r\n",
       "<text text-anchor=\"middle\" x=\"780.5\" y=\"-357.3\" font-family=\"Helvetica,sans-Serif\" font-size=\"14.00\">class = 琴酒</text>\r\n",
       "</g>\r\n",
       "<!-- 12&#45;&gt;16 -->\r\n",
       "<g id=\"edge16\" class=\"edge\">\r\n",
       "<title>12&#45;&gt;16</title>\r\n",
       "<path fill=\"none\" stroke=\"black\" d=\"M683.19,-460.91C698.37,-448.99 714.95,-435.98 730.04,-424.12\"/>\r\n",
       "<polygon fill=\"black\" stroke=\"black\" points=\"732.56,-426.6 738.26,-417.67 728.24,-421.09 732.56,-426.6\"/>\r\n",
       "</g>\r\n",
       "<!-- 14 -->\r\n",
       "<g id=\"node15\" class=\"node\">\r\n",
       "<title>14</title>\r\n",
       "<path fill=\"#39e581\" stroke=\"black\" d=\"M676,-298.5C676,-298.5 587,-298.5 587,-298.5 581,-298.5 575,-292.5 575,-286.5 575,-286.5 575,-242.5 575,-242.5 575,-236.5 581,-230.5 587,-230.5 587,-230.5 676,-230.5 676,-230.5 682,-230.5 688,-236.5 688,-242.5 688,-242.5 688,-286.5 688,-286.5 688,-292.5 682,-298.5 676,-298.5\"/>\r\n",
       "<text text-anchor=\"middle\" x=\"631.5\" y=\"-283.3\" font-family=\"Helvetica,sans-Serif\" font-size=\"14.00\">entropy = 0.0</text>\r\n",
       "<text text-anchor=\"middle\" x=\"631.5\" y=\"-268.3\" font-family=\"Helvetica,sans-Serif\" font-size=\"14.00\">samples = 1</text>\r\n",
       "<text text-anchor=\"middle\" x=\"631.5\" y=\"-253.3\" font-family=\"Helvetica,sans-Serif\" font-size=\"14.00\">value = [0, 1, 0]</text>\r\n",
       "<text text-anchor=\"middle\" x=\"631.5\" y=\"-238.3\" font-family=\"Helvetica,sans-Serif\" font-size=\"14.00\">class = 雪莉</text>\r\n",
       "</g>\r\n",
       "<!-- 13&#45;&gt;14 -->\r\n",
       "<g id=\"edge14\" class=\"edge\">\r\n",
       "<title>13&#45;&gt;14</title>\r\n",
       "<path fill=\"none\" stroke=\"black\" d=\"M631.5,-341.91C631.5,-331.2 631.5,-319.62 631.5,-308.78\"/>\r\n",
       "<polygon fill=\"black\" stroke=\"black\" points=\"635,-308.67 631.5,-298.67 628,-308.67 635,-308.67\"/>\r\n",
       "</g>\r\n",
       "<!-- 15 -->\r\n",
       "<g id=\"node16\" class=\"node\">\r\n",
       "<title>15</title>\r\n",
       "<path fill=\"#8139e5\" stroke=\"black\" d=\"M822.5,-298.5C822.5,-298.5 718.5,-298.5 718.5,-298.5 712.5,-298.5 706.5,-292.5 706.5,-286.5 706.5,-286.5 706.5,-242.5 706.5,-242.5 706.5,-236.5 712.5,-230.5 718.5,-230.5 718.5,-230.5 822.5,-230.5 822.5,-230.5 828.5,-230.5 834.5,-236.5 834.5,-242.5 834.5,-242.5 834.5,-286.5 834.5,-286.5 834.5,-292.5 828.5,-298.5 822.5,-298.5\"/>\r\n",
       "<text text-anchor=\"middle\" x=\"770.5\" y=\"-283.3\" font-family=\"Helvetica,sans-Serif\" font-size=\"14.00\">entropy = 0.0</text>\r\n",
       "<text text-anchor=\"middle\" x=\"770.5\" y=\"-268.3\" font-family=\"Helvetica,sans-Serif\" font-size=\"14.00\">samples = 2</text>\r\n",
       "<text text-anchor=\"middle\" x=\"770.5\" y=\"-253.3\" font-family=\"Helvetica,sans-Serif\" font-size=\"14.00\">value = [0, 0, 2]</text>\r\n",
       "<text text-anchor=\"middle\" x=\"770.5\" y=\"-238.3\" font-family=\"Helvetica,sans-Serif\" font-size=\"14.00\">class = 贝尔摩德</text>\r\n",
       "</g>\r\n",
       "<!-- 13&#45;&gt;15 -->\r\n",
       "<g id=\"edge15\" class=\"edge\">\r\n",
       "<title>13&#45;&gt;15</title>\r\n",
       "<path fill=\"none\" stroke=\"black\" d=\"M679.73,-341.91C693.88,-329.99 709.35,-316.98 723.43,-305.12\"/>\r\n",
       "<polygon fill=\"black\" stroke=\"black\" points=\"725.7,-307.78 731.1,-298.67 721.19,-302.43 725.7,-307.78\"/>\r\n",
       "</g>\r\n",
       "</g>\r\n",
       "</svg>\r\n"
      ],
      "text/plain": [
       "<graphviz.files.Source at 0x171a02e8>"
      ]
     },
     "execution_count": 20,
     "metadata": {},
     "output_type": "execute_result"
    }
   ],
   "source": [
    "feature_name = ['酒精','苹果酸','灰','灰的碱性','镁','总酚','类黄酮','非黄烷类酚类','花青素','颜色强度','色调','od280/od315稀释葡萄酒','脯氨酸']     \n",
    "\n",
    "import graphviz #可视化组件，需自己安装，配置环境变量等\n",
    "dot_data = tree.export_graphviz(clf\n",
    "                                ,feature_names = feature_name\n",
    "                                ,class_names = [\"琴酒\",\"雪莉\",\"贝尔摩德\"]\n",
    "                                ,filled=True\n",
    "                                ,rounded=True\n",
    "                                )\n",
    "graph = graphviz.Source(dot_data)\n",
    "graph"
   ]
  },
  {
   "cell_type": "code",
   "execution_count": 21,
   "id": "broke-tractor",
   "metadata": {},
   "outputs": [
    {
     "data": {
      "text/plain": [
       "array([0.06657218, 0.01028554, 0.        , 0.02057108, 0.        ,\n",
       "       0.        , 0.08125819, 0.        , 0.        , 0.31949601,\n",
       "       0.05550736, 0.        , 0.44630964])"
      ]
     },
     "execution_count": 21,
     "metadata": {},
     "output_type": "execute_result"
    }
   ],
   "source": [
    "clf.feature_importances_ #查看各个属性的重要程度"
   ]
  },
  {
   "cell_type": "code",
   "execution_count": 22,
   "id": "severe-botswana",
   "metadata": {},
   "outputs": [
    {
     "data": {
      "text/plain": [
       "[('酒精', 0.06657217973715719),\n",
       " ('苹果酸', 0.010285539322454195),\n",
       " ('灰', 0.0),\n",
       " ('灰的碱性', 0.02057107864490839),\n",
       " ('镁', 0.0),\n",
       " ('总酚', 0.0),\n",
       " ('类黄酮', 0.08125818561003843),\n",
       " ('非黄烷类酚类', 0.0),\n",
       " ('花青素', 0.0),\n",
       " ('颜色强度', 0.3194960083203693),\n",
       " ('色调', 0.05550736389219987),\n",
       " ('od280/od315稀释葡萄酒', 0.0),\n",
       " ('脯氨酸', 0.4463096444728726)]"
      ]
     },
     "execution_count": 22,
     "metadata": {},
     "output_type": "execute_result"
    }
   ],
   "source": [
    "[*zip(feature_name,clf.feature_importances_)]  #连成元组"
   ]
  },
  {
   "cell_type": "markdown",
   "id": "latin-reverse",
   "metadata": {},
   "source": [
    "## random_state与splitter"
   ]
  },
  {
   "cell_type": "markdown",
   "id": "experienced-arbor",
   "metadata": {},
   "source": [
    "random_state用来设置分支中的随机参数，默认None，在高维度时随机性会表现更加明显，低维度的数据（比如鸢尾花数据集），随机性几乎不会显现。输入任意整数，会一直长出同一棵树，让模型稳定下来。"
   ]
  },
  {
   "cell_type": "markdown",
   "id": "separated-preliminary",
   "metadata": {},
   "source": [
    "splitter也是用来控制决策树中的随机选项的，有两种输入值，输入“best”，决策树在分枝时虽然随机，但是还是会优先选择更重要的特征进行分枝（重要性通过属性feature_importances_查看），输入“random”，决策树在分枝时会更加随机，树会更深，对训练集的拟合将会降低。这也是放置过拟合的一种方式。当你预测你的模型会过拟合，用这两个参数来帮助你降低过拟合的可能性。"
   ]
  },
  {
   "cell_type": "code",
   "execution_count": 24,
   "id": "distributed-building",
   "metadata": {},
   "outputs": [
    {
     "data": {
      "text/plain": [
       "0.7962962962962963"
      ]
     },
     "execution_count": 24,
     "metadata": {},
     "output_type": "execute_result"
    }
   ],
   "source": [
    "#用random_state这个参数来设立随机数种子\n",
    "clf = tree.DecisionTreeClassifier(criterion = \"entropy\",random_state=20)   #第一步：实例化  \n",
    "clf = clf.fit(Xtrain,Ytrain) #第二步：训练\n",
    "score = clf.score(Xtest,Ytest)  #第三步：返回预测的准确度accuracy\n",
    "\n",
    "score"
   ]
  },
  {
   "cell_type": "code",
   "execution_count": 33,
   "id": "specified-touch",
   "metadata": {},
   "outputs": [
    {
     "data": {
      "text/plain": [
       "0.9444444444444444"
      ]
     },
     "execution_count": 33,
     "metadata": {},
     "output_type": "execute_result"
    }
   ],
   "source": [
    "clf = tree.DecisionTreeClassifier(criterion = \"entropy\"\n",
    "                                  ,random_state=30\n",
    "                                  ,splitter=\"random\"\n",
    "                                 )   #第一步：实例化  \n",
    "clf = clf.fit(Xtrain,Ytrain) #第二步：训练\n",
    "score = clf.score(Xtest,Ytest)  #第三步：返回预测的准确度accuracy\n",
    "\n",
    "score"
   ]
  },
  {
   "cell_type": "code",
   "execution_count": 26,
   "id": "exciting-enzyme",
   "metadata": {},
   "outputs": [
    {
     "data": {
      "image/svg+xml": [
       "<?xml version=\"1.0\" encoding=\"UTF-8\" standalone=\"no\"?>\r\n",
       "<!DOCTYPE svg PUBLIC \"-//W3C//DTD SVG 1.1//EN\"\r\n",
       " \"http://www.w3.org/Graphics/SVG/1.1/DTD/svg11.dtd\">\r\n",
       "<!-- Generated by graphviz version 2.46.0 (20210118.1747)\r\n",
       " -->\r\n",
       "<!-- Title: Tree Pages: 1 -->\r\n",
       "<svg width=\"1020pt\" height=\"790pt\"\r\n",
       " viewBox=\"0.00 0.00 1019.50 790.00\" xmlns=\"http://www.w3.org/2000/svg\" xmlns:xlink=\"http://www.w3.org/1999/xlink\">\r\n",
       "<g id=\"graph0\" class=\"graph\" transform=\"scale(1 1) rotate(0) translate(4 786)\">\r\n",
       "<title>Tree</title>\r\n",
       "<polygon fill=\"white\" stroke=\"transparent\" points=\"-4,4 -4,-786 1015.5,-786 1015.5,4 -4,4\"/>\r\n",
       "<!-- 0 -->\r\n",
       "<g id=\"node1\" class=\"node\">\r\n",
       "<title>0</title>\r\n",
       "<path fill=\"#f3fdf7\" stroke=\"black\" d=\"M596.5,-782C596.5,-782 479.5,-782 479.5,-782 473.5,-782 467.5,-776 467.5,-770 467.5,-770 467.5,-711 467.5,-711 467.5,-705 473.5,-699 479.5,-699 479.5,-699 596.5,-699 596.5,-699 602.5,-699 608.5,-705 608.5,-711 608.5,-711 608.5,-770 608.5,-770 608.5,-776 602.5,-782 596.5,-782\"/>\r\n",
       "<text text-anchor=\"middle\" x=\"538\" y=\"-766.8\" font-family=\"Helvetica,sans-Serif\" font-size=\"14.00\">脯氨酸 &lt;= 824.556</text>\r\n",
       "<text text-anchor=\"middle\" x=\"538\" y=\"-751.8\" font-family=\"Helvetica,sans-Serif\" font-size=\"14.00\">entropy = 1.568</text>\r\n",
       "<text text-anchor=\"middle\" x=\"538\" y=\"-736.8\" font-family=\"Helvetica,sans-Serif\" font-size=\"14.00\">samples = 124</text>\r\n",
       "<text text-anchor=\"middle\" x=\"538\" y=\"-721.8\" font-family=\"Helvetica,sans-Serif\" font-size=\"14.00\">value = [43, 48, 33]</text>\r\n",
       "<text text-anchor=\"middle\" x=\"538\" y=\"-706.8\" font-family=\"Helvetica,sans-Serif\" font-size=\"14.00\">class = 雪莉</text>\r\n",
       "</g>\r\n",
       "<!-- 1 -->\r\n",
       "<g id=\"node2\" class=\"node\">\r\n",
       "<title>1</title>\r\n",
       "<path fill=\"#c0f7d7\" stroke=\"black\" d=\"M505,-663C505,-663 287,-663 287,-663 281,-663 275,-657 275,-651 275,-651 275,-592 275,-592 275,-586 281,-580 287,-580 287,-580 505,-580 505,-580 511,-580 517,-586 517,-592 517,-592 517,-651 517,-651 517,-657 511,-663 505,-663\"/>\r\n",
       "<text text-anchor=\"middle\" x=\"396\" y=\"-647.8\" font-family=\"Helvetica,sans-Serif\" font-size=\"14.00\">od280/od315稀释葡萄酒 &lt;= 1.978</text>\r\n",
       "<text text-anchor=\"middle\" x=\"396\" y=\"-632.8\" font-family=\"Helvetica,sans-Serif\" font-size=\"14.00\">entropy = 1.162</text>\r\n",
       "<text text-anchor=\"middle\" x=\"396\" y=\"-617.8\" font-family=\"Helvetica,sans-Serif\" font-size=\"14.00\">samples = 81</text>\r\n",
       "<text text-anchor=\"middle\" x=\"396\" y=\"-602.8\" font-family=\"Helvetica,sans-Serif\" font-size=\"14.00\">value = [3, 47, 31]</text>\r\n",
       "<text text-anchor=\"middle\" x=\"396\" y=\"-587.8\" font-family=\"Helvetica,sans-Serif\" font-size=\"14.00\">class = 雪莉</text>\r\n",
       "</g>\r\n",
       "<!-- 0&#45;&gt;1 -->\r\n",
       "<g id=\"edge1\" class=\"edge\">\r\n",
       "<title>0&#45;&gt;1</title>\r\n",
       "<path fill=\"none\" stroke=\"black\" d=\"M488.73,-698.91C477.28,-689.47 464.99,-679.34 453.22,-669.65\"/>\r\n",
       "<polygon fill=\"black\" stroke=\"black\" points=\"455.12,-666.68 445.18,-663.02 450.67,-672.08 455.12,-666.68\"/>\r\n",
       "<text text-anchor=\"middle\" x=\"447.58\" y=\"-684.21\" font-family=\"Helvetica,sans-Serif\" font-size=\"14.00\">True</text>\r\n",
       "</g>\r\n",
       "<!-- 18 -->\r\n",
       "<g id=\"node19\" class=\"node\">\r\n",
       "<title>18</title>\r\n",
       "<path fill=\"#e78a47\" stroke=\"black\" d=\"M664.5,-663C664.5,-663 563.5,-663 563.5,-663 557.5,-663 551.5,-657 551.5,-651 551.5,-651 551.5,-592 551.5,-592 551.5,-586 557.5,-580 563.5,-580 563.5,-580 664.5,-580 664.5,-580 670.5,-580 676.5,-586 676.5,-592 676.5,-592 676.5,-651 676.5,-651 676.5,-657 670.5,-663 664.5,-663\"/>\r\n",
       "<text text-anchor=\"middle\" x=\"614\" y=\"-647.8\" font-family=\"Helvetica,sans-Serif\" font-size=\"14.00\">类黄酮 &lt;= 1.066</text>\r\n",
       "<text text-anchor=\"middle\" x=\"614\" y=\"-632.8\" font-family=\"Helvetica,sans-Serif\" font-size=\"14.00\">entropy = 0.429</text>\r\n",
       "<text text-anchor=\"middle\" x=\"614\" y=\"-617.8\" font-family=\"Helvetica,sans-Serif\" font-size=\"14.00\">samples = 43</text>\r\n",
       "<text text-anchor=\"middle\" x=\"614\" y=\"-602.8\" font-family=\"Helvetica,sans-Serif\" font-size=\"14.00\">value = [40, 1, 2]</text>\r\n",
       "<text text-anchor=\"middle\" x=\"614\" y=\"-587.8\" font-family=\"Helvetica,sans-Serif\" font-size=\"14.00\">class = 琴酒</text>\r\n",
       "</g>\r\n",
       "<!-- 0&#45;&gt;18 -->\r\n",
       "<g id=\"edge18\" class=\"edge\">\r\n",
       "<title>0&#45;&gt;18</title>\r\n",
       "<path fill=\"none\" stroke=\"black\" d=\"M564.37,-698.91C570.09,-690.1 576.19,-680.7 582.1,-671.61\"/>\r\n",
       "<polygon fill=\"black\" stroke=\"black\" points=\"585.17,-673.31 587.68,-663.02 579.3,-669.5 585.17,-673.31\"/>\r\n",
       "<text text-anchor=\"middle\" x=\"592.87\" y=\"-683.78\" font-family=\"Helvetica,sans-Serif\" font-size=\"14.00\">False</text>\r\n",
       "</g>\r\n",
       "<!-- 2 -->\r\n",
       "<g id=\"node3\" class=\"node\">\r\n",
       "<title>2</title>\r\n",
       "<path fill=\"#8a48e7\" stroke=\"black\" d=\"M255,-544C255,-544 151,-544 151,-544 145,-544 139,-538 139,-532 139,-532 139,-473 139,-473 139,-467 145,-461 151,-461 151,-461 255,-461 255,-461 261,-461 267,-467 267,-473 267,-473 267,-532 267,-532 267,-538 261,-544 255,-544\"/>\r\n",
       "<text text-anchor=\"middle\" x=\"203\" y=\"-528.8\" font-family=\"Helvetica,sans-Serif\" font-size=\"14.00\">色调 &lt;= 0.906</text>\r\n",
       "<text text-anchor=\"middle\" x=\"203\" y=\"-513.8\" font-family=\"Helvetica,sans-Serif\" font-size=\"14.00\">entropy = 0.362</text>\r\n",
       "<text text-anchor=\"middle\" x=\"203\" y=\"-498.8\" font-family=\"Helvetica,sans-Serif\" font-size=\"14.00\">samples = 29</text>\r\n",
       "<text text-anchor=\"middle\" x=\"203\" y=\"-483.8\" font-family=\"Helvetica,sans-Serif\" font-size=\"14.00\">value = [0, 2, 27]</text>\r\n",
       "<text text-anchor=\"middle\" x=\"203\" y=\"-468.8\" font-family=\"Helvetica,sans-Serif\" font-size=\"14.00\">class = 贝尔摩德</text>\r\n",
       "</g>\r\n",
       "<!-- 1&#45;&gt;2 -->\r\n",
       "<g id=\"edge2\" class=\"edge\">\r\n",
       "<title>1&#45;&gt;2</title>\r\n",
       "<path fill=\"none\" stroke=\"black\" d=\"M329.04,-579.91C311.98,-569.57 293.56,-558.4 276.21,-547.88\"/>\r\n",
       "<polygon fill=\"black\" stroke=\"black\" points=\"277.61,-544.64 267.24,-542.44 273.98,-550.62 277.61,-544.64\"/>\r\n",
       "</g>\r\n",
       "<!-- 5 -->\r\n",
       "<g id=\"node6\" class=\"node\">\r\n",
       "<title>5</title>\r\n",
       "<path fill=\"#56e993\" stroke=\"black\" d=\"M454,-544C454,-544 338,-544 338,-544 332,-544 326,-538 326,-532 326,-532 326,-473 326,-473 326,-467 332,-461 338,-461 338,-461 454,-461 454,-461 460,-461 466,-467 466,-473 466,-473 466,-532 466,-532 466,-538 460,-544 454,-544\"/>\r\n",
       "<text text-anchor=\"middle\" x=\"396\" y=\"-528.8\" font-family=\"Helvetica,sans-Serif\" font-size=\"14.00\">颜色强度 &lt;= 4.973</text>\r\n",
       "<text text-anchor=\"middle\" x=\"396\" y=\"-513.8\" font-family=\"Helvetica,sans-Serif\" font-size=\"14.00\">entropy = 0.703</text>\r\n",
       "<text text-anchor=\"middle\" x=\"396\" y=\"-498.8\" font-family=\"Helvetica,sans-Serif\" font-size=\"14.00\">samples = 52</text>\r\n",
       "<text text-anchor=\"middle\" x=\"396\" y=\"-483.8\" font-family=\"Helvetica,sans-Serif\" font-size=\"14.00\">value = [3, 45, 4]</text>\r\n",
       "<text text-anchor=\"middle\" x=\"396\" y=\"-468.8\" font-family=\"Helvetica,sans-Serif\" font-size=\"14.00\">class = 雪莉</text>\r\n",
       "</g>\r\n",
       "<!-- 1&#45;&gt;5 -->\r\n",
       "<g id=\"edge5\" class=\"edge\">\r\n",
       "<title>1&#45;&gt;5</title>\r\n",
       "<path fill=\"none\" stroke=\"black\" d=\"M396,-579.91C396,-571.65 396,-562.86 396,-554.3\"/>\r\n",
       "<polygon fill=\"black\" stroke=\"black\" points=\"399.5,-554.02 396,-544.02 392.5,-554.02 399.5,-554.02\"/>\r\n",
       "</g>\r\n",
       "<!-- 3 -->\r\n",
       "<g id=\"node4\" class=\"node\">\r\n",
       "<title>3</title>\r\n",
       "<path fill=\"#8139e5\" stroke=\"black\" d=\"M116,-417.5C116,-417.5 12,-417.5 12,-417.5 6,-417.5 0,-411.5 0,-405.5 0,-405.5 0,-361.5 0,-361.5 0,-355.5 6,-349.5 12,-349.5 12,-349.5 116,-349.5 116,-349.5 122,-349.5 128,-355.5 128,-361.5 128,-361.5 128,-405.5 128,-405.5 128,-411.5 122,-417.5 116,-417.5\"/>\r\n",
       "<text text-anchor=\"middle\" x=\"64\" y=\"-402.3\" font-family=\"Helvetica,sans-Serif\" font-size=\"14.00\">entropy = 0.0</text>\r\n",
       "<text text-anchor=\"middle\" x=\"64\" y=\"-387.3\" font-family=\"Helvetica,sans-Serif\" font-size=\"14.00\">samples = 27</text>\r\n",
       "<text text-anchor=\"middle\" x=\"64\" y=\"-372.3\" font-family=\"Helvetica,sans-Serif\" font-size=\"14.00\">value = [0, 0, 27]</text>\r\n",
       "<text text-anchor=\"middle\" x=\"64\" y=\"-357.3\" font-family=\"Helvetica,sans-Serif\" font-size=\"14.00\">class = 贝尔摩德</text>\r\n",
       "</g>\r\n",
       "<!-- 2&#45;&gt;3 -->\r\n",
       "<g id=\"edge3\" class=\"edge\">\r\n",
       "<title>2&#45;&gt;3</title>\r\n",
       "<path fill=\"none\" stroke=\"black\" d=\"M154.77,-460.91C140.62,-448.99 125.15,-435.98 111.07,-424.12\"/>\r\n",
       "<polygon fill=\"black\" stroke=\"black\" points=\"113.31,-421.43 103.4,-417.67 108.8,-426.78 113.31,-421.43\"/>\r\n",
       "</g>\r\n",
       "<!-- 4 -->\r\n",
       "<g id=\"node5\" class=\"node\">\r\n",
       "<title>4</title>\r\n",
       "<path fill=\"#39e581\" stroke=\"black\" d=\"M247.5,-417.5C247.5,-417.5 158.5,-417.5 158.5,-417.5 152.5,-417.5 146.5,-411.5 146.5,-405.5 146.5,-405.5 146.5,-361.5 146.5,-361.5 146.5,-355.5 152.5,-349.5 158.5,-349.5 158.5,-349.5 247.5,-349.5 247.5,-349.5 253.5,-349.5 259.5,-355.5 259.5,-361.5 259.5,-361.5 259.5,-405.5 259.5,-405.5 259.5,-411.5 253.5,-417.5 247.5,-417.5\"/>\r\n",
       "<text text-anchor=\"middle\" x=\"203\" y=\"-402.3\" font-family=\"Helvetica,sans-Serif\" font-size=\"14.00\">entropy = 0.0</text>\r\n",
       "<text text-anchor=\"middle\" x=\"203\" y=\"-387.3\" font-family=\"Helvetica,sans-Serif\" font-size=\"14.00\">samples = 2</text>\r\n",
       "<text text-anchor=\"middle\" x=\"203\" y=\"-372.3\" font-family=\"Helvetica,sans-Serif\" font-size=\"14.00\">value = [0, 2, 0]</text>\r\n",
       "<text text-anchor=\"middle\" x=\"203\" y=\"-357.3\" font-family=\"Helvetica,sans-Serif\" font-size=\"14.00\">class = 雪莉</text>\r\n",
       "</g>\r\n",
       "<!-- 2&#45;&gt;4 -->\r\n",
       "<g id=\"edge4\" class=\"edge\">\r\n",
       "<title>2&#45;&gt;4</title>\r\n",
       "<path fill=\"none\" stroke=\"black\" d=\"M203,-460.91C203,-450.2 203,-438.62 203,-427.78\"/>\r\n",
       "<polygon fill=\"black\" stroke=\"black\" points=\"206.5,-427.67 203,-417.67 199.5,-427.67 206.5,-427.67\"/>\r\n",
       "</g>\r\n",
       "<!-- 6 -->\r\n",
       "<g id=\"node7\" class=\"node\">\r\n",
       "<title>6</title>\r\n",
       "<path fill=\"#4be78c\" stroke=\"black\" d=\"M390.5,-425C390.5,-425 289.5,-425 289.5,-425 283.5,-425 277.5,-419 277.5,-413 277.5,-413 277.5,-354 277.5,-354 277.5,-348 283.5,-342 289.5,-342 289.5,-342 390.5,-342 390.5,-342 396.5,-342 402.5,-348 402.5,-354 402.5,-354 402.5,-413 402.5,-413 402.5,-419 396.5,-425 390.5,-425\"/>\r\n",
       "<text text-anchor=\"middle\" x=\"340\" y=\"-409.8\" font-family=\"Helvetica,sans-Serif\" font-size=\"14.00\">类黄酮 &lt;= 0.815</text>\r\n",
       "<text text-anchor=\"middle\" x=\"340\" y=\"-394.8\" font-family=\"Helvetica,sans-Serif\" font-size=\"14.00\">entropy = 0.505</text>\r\n",
       "<text text-anchor=\"middle\" x=\"340\" y=\"-379.8\" font-family=\"Helvetica,sans-Serif\" font-size=\"14.00\">samples = 47</text>\r\n",
       "<text text-anchor=\"middle\" x=\"340\" y=\"-364.8\" font-family=\"Helvetica,sans-Serif\" font-size=\"14.00\">value = [2, 43, 2]</text>\r\n",
       "<text text-anchor=\"middle\" x=\"340\" y=\"-349.8\" font-family=\"Helvetica,sans-Serif\" font-size=\"14.00\">class = 雪莉</text>\r\n",
       "</g>\r\n",
       "<!-- 5&#45;&gt;6 -->\r\n",
       "<g id=\"edge6\" class=\"edge\">\r\n",
       "<title>5&#45;&gt;6</title>\r\n",
       "<path fill=\"none\" stroke=\"black\" d=\"M376.57,-460.91C372.44,-452.29 368.04,-443.09 363.78,-434.17\"/>\r\n",
       "<polygon fill=\"black\" stroke=\"black\" points=\"366.87,-432.53 359.39,-425.02 360.55,-435.55 366.87,-432.53\"/>\r\n",
       "</g>\r\n",
       "<!-- 13 -->\r\n",
       "<g id=\"node14\" class=\"node\">\r\n",
       "<title>13</title>\r\n",
       "<path fill=\"#ffffff\" stroke=\"black\" d=\"M538.5,-425C538.5,-425 437.5,-425 437.5,-425 431.5,-425 425.5,-419 425.5,-413 425.5,-413 425.5,-354 425.5,-354 425.5,-348 431.5,-342 437.5,-342 437.5,-342 538.5,-342 538.5,-342 544.5,-342 550.5,-348 550.5,-354 550.5,-354 550.5,-413 550.5,-413 550.5,-419 544.5,-425 538.5,-425\"/>\r\n",
       "<text text-anchor=\"middle\" x=\"488\" y=\"-409.8\" font-family=\"Helvetica,sans-Serif\" font-size=\"14.00\">类黄酮 &lt;= 1.033</text>\r\n",
       "<text text-anchor=\"middle\" x=\"488\" y=\"-394.8\" font-family=\"Helvetica,sans-Serif\" font-size=\"14.00\">entropy = 1.522</text>\r\n",
       "<text text-anchor=\"middle\" x=\"488\" y=\"-379.8\" font-family=\"Helvetica,sans-Serif\" font-size=\"14.00\">samples = 5</text>\r\n",
       "<text text-anchor=\"middle\" x=\"488\" y=\"-364.8\" font-family=\"Helvetica,sans-Serif\" font-size=\"14.00\">value = [1, 2, 2]</text>\r\n",
       "<text text-anchor=\"middle\" x=\"488\" y=\"-349.8\" font-family=\"Helvetica,sans-Serif\" font-size=\"14.00\">class = 雪莉</text>\r\n",
       "</g>\r\n",
       "<!-- 5&#45;&gt;13 -->\r\n",
       "<g id=\"edge13\" class=\"edge\">\r\n",
       "<title>5&#45;&gt;13</title>\r\n",
       "<path fill=\"none\" stroke=\"black\" d=\"M427.92,-460.91C434.98,-451.92 442.54,-442.32 449.82,-433.05\"/>\r\n",
       "<polygon fill=\"black\" stroke=\"black\" points=\"452.71,-435.05 456.14,-425.02 447.2,-430.72 452.71,-435.05\"/>\r\n",
       "</g>\r\n",
       "<!-- 7 -->\r\n",
       "<g id=\"node8\" class=\"node\">\r\n",
       "<title>7</title>\r\n",
       "<path fill=\"#8139e5\" stroke=\"black\" d=\"M234,-298.5C234,-298.5 130,-298.5 130,-298.5 124,-298.5 118,-292.5 118,-286.5 118,-286.5 118,-242.5 118,-242.5 118,-236.5 124,-230.5 130,-230.5 130,-230.5 234,-230.5 234,-230.5 240,-230.5 246,-236.5 246,-242.5 246,-242.5 246,-286.5 246,-286.5 246,-292.5 240,-298.5 234,-298.5\"/>\r\n",
       "<text text-anchor=\"middle\" x=\"182\" y=\"-283.3\" font-family=\"Helvetica,sans-Serif\" font-size=\"14.00\">entropy = 0.0</text>\r\n",
       "<text text-anchor=\"middle\" x=\"182\" y=\"-268.3\" font-family=\"Helvetica,sans-Serif\" font-size=\"14.00\">samples = 2</text>\r\n",
       "<text text-anchor=\"middle\" x=\"182\" y=\"-253.3\" font-family=\"Helvetica,sans-Serif\" font-size=\"14.00\">value = [0, 0, 2]</text>\r\n",
       "<text text-anchor=\"middle\" x=\"182\" y=\"-238.3\" font-family=\"Helvetica,sans-Serif\" font-size=\"14.00\">class = 贝尔摩德</text>\r\n",
       "</g>\r\n",
       "<!-- 6&#45;&gt;7 -->\r\n",
       "<g id=\"edge7\" class=\"edge\">\r\n",
       "<title>6&#45;&gt;7</title>\r\n",
       "<path fill=\"none\" stroke=\"black\" d=\"M285.18,-341.91C268.94,-329.88 251.19,-316.73 235.06,-304.79\"/>\r\n",
       "<polygon fill=\"black\" stroke=\"black\" points=\"236.91,-301.81 226.79,-298.67 232.74,-307.43 236.91,-301.81\"/>\r\n",
       "</g>\r\n",
       "<!-- 8 -->\r\n",
       "<g id=\"node9\" class=\"node\">\r\n",
       "<title>8</title>\r\n",
       "<path fill=\"#42e687\" stroke=\"black\" d=\"M393.5,-306C393.5,-306 276.5,-306 276.5,-306 270.5,-306 264.5,-300 264.5,-294 264.5,-294 264.5,-235 264.5,-235 264.5,-229 270.5,-223 276.5,-223 276.5,-223 393.5,-223 393.5,-223 399.5,-223 405.5,-229 405.5,-235 405.5,-235 405.5,-294 405.5,-294 405.5,-300 399.5,-306 393.5,-306\"/>\r\n",
       "<text text-anchor=\"middle\" x=\"335\" y=\"-290.8\" font-family=\"Helvetica,sans-Serif\" font-size=\"14.00\">脯氨酸 &lt;= 662.492</text>\r\n",
       "<text text-anchor=\"middle\" x=\"335\" y=\"-275.8\" font-family=\"Helvetica,sans-Serif\" font-size=\"14.00\">entropy = 0.262</text>\r\n",
       "<text text-anchor=\"middle\" x=\"335\" y=\"-260.8\" font-family=\"Helvetica,sans-Serif\" font-size=\"14.00\">samples = 45</text>\r\n",
       "<text text-anchor=\"middle\" x=\"335\" y=\"-245.8\" font-family=\"Helvetica,sans-Serif\" font-size=\"14.00\">value = [2, 43, 0]</text>\r\n",
       "<text text-anchor=\"middle\" x=\"335\" y=\"-230.8\" font-family=\"Helvetica,sans-Serif\" font-size=\"14.00\">class = 雪莉</text>\r\n",
       "</g>\r\n",
       "<!-- 6&#45;&gt;8 -->\r\n",
       "<g id=\"edge8\" class=\"edge\">\r\n",
       "<title>6&#45;&gt;8</title>\r\n",
       "<path fill=\"none\" stroke=\"black\" d=\"M338.27,-341.91C337.91,-333.56 337.53,-324.67 337.16,-316.02\"/>\r\n",
       "<polygon fill=\"black\" stroke=\"black\" points=\"340.66,-315.86 336.73,-306.02 333.66,-316.16 340.66,-315.86\"/>\r\n",
       "</g>\r\n",
       "<!-- 9 -->\r\n",
       "<g id=\"node10\" class=\"node\">\r\n",
       "<title>9</title>\r\n",
       "<path fill=\"#39e581\" stroke=\"black\" d=\"M267.5,-179.5C267.5,-179.5 170.5,-179.5 170.5,-179.5 164.5,-179.5 158.5,-173.5 158.5,-167.5 158.5,-167.5 158.5,-123.5 158.5,-123.5 158.5,-117.5 164.5,-111.5 170.5,-111.5 170.5,-111.5 267.5,-111.5 267.5,-111.5 273.5,-111.5 279.5,-117.5 279.5,-123.5 279.5,-123.5 279.5,-167.5 279.5,-167.5 279.5,-173.5 273.5,-179.5 267.5,-179.5\"/>\r\n",
       "<text text-anchor=\"middle\" x=\"219\" y=\"-164.3\" font-family=\"Helvetica,sans-Serif\" font-size=\"14.00\">entropy = 0.0</text>\r\n",
       "<text text-anchor=\"middle\" x=\"219\" y=\"-149.3\" font-family=\"Helvetica,sans-Serif\" font-size=\"14.00\">samples = 36</text>\r\n",
       "<text text-anchor=\"middle\" x=\"219\" y=\"-134.3\" font-family=\"Helvetica,sans-Serif\" font-size=\"14.00\">value = [0, 36, 0]</text>\r\n",
       "<text text-anchor=\"middle\" x=\"219\" y=\"-119.3\" font-family=\"Helvetica,sans-Serif\" font-size=\"14.00\">class = 雪莉</text>\r\n",
       "</g>\r\n",
       "<!-- 8&#45;&gt;9 -->\r\n",
       "<g id=\"edge9\" class=\"edge\">\r\n",
       "<title>8&#45;&gt;9</title>\r\n",
       "<path fill=\"none\" stroke=\"black\" d=\"M294.75,-222.91C283.16,-211.21 270.51,-198.46 258.94,-186.78\"/>\r\n",
       "<polygon fill=\"black\" stroke=\"black\" points=\"261.41,-184.3 251.88,-179.67 256.44,-189.23 261.41,-184.3\"/>\r\n",
       "</g>\r\n",
       "<!-- 10 -->\r\n",
       "<g id=\"node11\" class=\"node\">\r\n",
       "<title>10</title>\r\n",
       "<path fill=\"#72eca5\" stroke=\"black\" d=\"M402.5,-187C402.5,-187 309.5,-187 309.5,-187 303.5,-187 297.5,-181 297.5,-175 297.5,-175 297.5,-116 297.5,-116 297.5,-110 303.5,-104 309.5,-104 309.5,-104 402.5,-104 402.5,-104 408.5,-104 414.5,-110 414.5,-116 414.5,-116 414.5,-175 414.5,-175 414.5,-181 408.5,-187 402.5,-187\"/>\r\n",
       "<text text-anchor=\"middle\" x=\"356\" y=\"-171.8\" font-family=\"Helvetica,sans-Serif\" font-size=\"14.00\">酒精 &lt;= 13.214</text>\r\n",
       "<text text-anchor=\"middle\" x=\"356\" y=\"-156.8\" font-family=\"Helvetica,sans-Serif\" font-size=\"14.00\">entropy = 0.764</text>\r\n",
       "<text text-anchor=\"middle\" x=\"356\" y=\"-141.8\" font-family=\"Helvetica,sans-Serif\" font-size=\"14.00\">samples = 9</text>\r\n",
       "<text text-anchor=\"middle\" x=\"356\" y=\"-126.8\" font-family=\"Helvetica,sans-Serif\" font-size=\"14.00\">value = [2, 7, 0]</text>\r\n",
       "<text text-anchor=\"middle\" x=\"356\" y=\"-111.8\" font-family=\"Helvetica,sans-Serif\" font-size=\"14.00\">class = 雪莉</text>\r\n",
       "</g>\r\n",
       "<!-- 8&#45;&gt;10 -->\r\n",
       "<g id=\"edge10\" class=\"edge\">\r\n",
       "<title>8&#45;&gt;10</title>\r\n",
       "<path fill=\"none\" stroke=\"black\" d=\"M342.29,-222.91C343.78,-214.56 345.38,-205.67 346.93,-197.02\"/>\r\n",
       "<polygon fill=\"black\" stroke=\"black\" points=\"350.41,-197.48 348.73,-187.02 343.52,-196.25 350.41,-197.48\"/>\r\n",
       "</g>\r\n",
       "<!-- 11 -->\r\n",
       "<g id=\"node12\" class=\"node\">\r\n",
       "<title>11</title>\r\n",
       "<path fill=\"#39e581\" stroke=\"black\" d=\"M335.5,-68C335.5,-68 246.5,-68 246.5,-68 240.5,-68 234.5,-62 234.5,-56 234.5,-56 234.5,-12 234.5,-12 234.5,-6 240.5,0 246.5,0 246.5,0 335.5,0 335.5,0 341.5,0 347.5,-6 347.5,-12 347.5,-12 347.5,-56 347.5,-56 347.5,-62 341.5,-68 335.5,-68\"/>\r\n",
       "<text text-anchor=\"middle\" x=\"291\" y=\"-52.8\" font-family=\"Helvetica,sans-Serif\" font-size=\"14.00\">entropy = 0.0</text>\r\n",
       "<text text-anchor=\"middle\" x=\"291\" y=\"-37.8\" font-family=\"Helvetica,sans-Serif\" font-size=\"14.00\">samples = 7</text>\r\n",
       "<text text-anchor=\"middle\" x=\"291\" y=\"-22.8\" font-family=\"Helvetica,sans-Serif\" font-size=\"14.00\">value = [0, 7, 0]</text>\r\n",
       "<text text-anchor=\"middle\" x=\"291\" y=\"-7.8\" font-family=\"Helvetica,sans-Serif\" font-size=\"14.00\">class = 雪莉</text>\r\n",
       "</g>\r\n",
       "<!-- 10&#45;&gt;11 -->\r\n",
       "<g id=\"edge11\" class=\"edge\">\r\n",
       "<title>10&#45;&gt;11</title>\r\n",
       "<path fill=\"none\" stroke=\"black\" d=\"M331.8,-103.73C326.6,-94.97 321.1,-85.7 315.88,-76.91\"/>\r\n",
       "<polygon fill=\"black\" stroke=\"black\" points=\"318.88,-75.11 310.77,-68.3 312.86,-78.69 318.88,-75.11\"/>\r\n",
       "</g>\r\n",
       "<!-- 12 -->\r\n",
       "<g id=\"node13\" class=\"node\">\r\n",
       "<title>12</title>\r\n",
       "<path fill=\"#e58139\" stroke=\"black\" d=\"M466.5,-68C466.5,-68 377.5,-68 377.5,-68 371.5,-68 365.5,-62 365.5,-56 365.5,-56 365.5,-12 365.5,-12 365.5,-6 371.5,0 377.5,0 377.5,0 466.5,0 466.5,0 472.5,0 478.5,-6 478.5,-12 478.5,-12 478.5,-56 478.5,-56 478.5,-62 472.5,-68 466.5,-68\"/>\r\n",
       "<text text-anchor=\"middle\" x=\"422\" y=\"-52.8\" font-family=\"Helvetica,sans-Serif\" font-size=\"14.00\">entropy = 0.0</text>\r\n",
       "<text text-anchor=\"middle\" x=\"422\" y=\"-37.8\" font-family=\"Helvetica,sans-Serif\" font-size=\"14.00\">samples = 2</text>\r\n",
       "<text text-anchor=\"middle\" x=\"422\" y=\"-22.8\" font-family=\"Helvetica,sans-Serif\" font-size=\"14.00\">value = [2, 0, 0]</text>\r\n",
       "<text text-anchor=\"middle\" x=\"422\" y=\"-7.8\" font-family=\"Helvetica,sans-Serif\" font-size=\"14.00\">class = 琴酒</text>\r\n",
       "</g>\r\n",
       "<!-- 10&#45;&gt;12 -->\r\n",
       "<g id=\"edge12\" class=\"edge\">\r\n",
       "<title>10&#45;&gt;12</title>\r\n",
       "<path fill=\"none\" stroke=\"black\" d=\"M380.58,-103.73C385.85,-94.97 391.44,-85.7 396.74,-76.91\"/>\r\n",
       "<polygon fill=\"black\" stroke=\"black\" points=\"399.76,-78.67 401.93,-68.3 393.77,-75.06 399.76,-78.67\"/>\r\n",
       "</g>\r\n",
       "<!-- 14 -->\r\n",
       "<g id=\"node15\" class=\"node\">\r\n",
       "<title>14</title>\r\n",
       "<path fill=\"#8139e5\" stroke=\"black\" d=\"M540,-298.5C540,-298.5 436,-298.5 436,-298.5 430,-298.5 424,-292.5 424,-286.5 424,-286.5 424,-242.5 424,-242.5 424,-236.5 430,-230.5 436,-230.5 436,-230.5 540,-230.5 540,-230.5 546,-230.5 552,-236.5 552,-242.5 552,-242.5 552,-286.5 552,-286.5 552,-292.5 546,-298.5 540,-298.5\"/>\r\n",
       "<text text-anchor=\"middle\" x=\"488\" y=\"-283.3\" font-family=\"Helvetica,sans-Serif\" font-size=\"14.00\">entropy = 0.0</text>\r\n",
       "<text text-anchor=\"middle\" x=\"488\" y=\"-268.3\" font-family=\"Helvetica,sans-Serif\" font-size=\"14.00\">samples = 2</text>\r\n",
       "<text text-anchor=\"middle\" x=\"488\" y=\"-253.3\" font-family=\"Helvetica,sans-Serif\" font-size=\"14.00\">value = [0, 0, 2]</text>\r\n",
       "<text text-anchor=\"middle\" x=\"488\" y=\"-238.3\" font-family=\"Helvetica,sans-Serif\" font-size=\"14.00\">class = 贝尔摩德</text>\r\n",
       "</g>\r\n",
       "<!-- 13&#45;&gt;14 -->\r\n",
       "<g id=\"edge14\" class=\"edge\">\r\n",
       "<title>13&#45;&gt;14</title>\r\n",
       "<path fill=\"none\" stroke=\"black\" d=\"M488,-341.91C488,-331.2 488,-319.62 488,-308.78\"/>\r\n",
       "<polygon fill=\"black\" stroke=\"black\" points=\"491.5,-308.67 488,-298.67 484.5,-308.67 491.5,-308.67\"/>\r\n",
       "</g>\r\n",
       "<!-- 15 -->\r\n",
       "<g id=\"node16\" class=\"node\">\r\n",
       "<title>15</title>\r\n",
       "<path fill=\"#9cf2c0\" stroke=\"black\" d=\"M699.5,-306C699.5,-306 582.5,-306 582.5,-306 576.5,-306 570.5,-300 570.5,-294 570.5,-294 570.5,-235 570.5,-235 570.5,-229 576.5,-223 582.5,-223 582.5,-223 699.5,-223 699.5,-223 705.5,-223 711.5,-229 711.5,-235 711.5,-235 711.5,-294 711.5,-294 711.5,-300 705.5,-306 699.5,-306\"/>\r\n",
       "<text text-anchor=\"middle\" x=\"641\" y=\"-290.8\" font-family=\"Helvetica,sans-Serif\" font-size=\"14.00\">脯氨酸 &lt;= 642.635</text>\r\n",
       "<text text-anchor=\"middle\" x=\"641\" y=\"-275.8\" font-family=\"Helvetica,sans-Serif\" font-size=\"14.00\">entropy = 0.918</text>\r\n",
       "<text text-anchor=\"middle\" x=\"641\" y=\"-260.8\" font-family=\"Helvetica,sans-Serif\" font-size=\"14.00\">samples = 3</text>\r\n",
       "<text text-anchor=\"middle\" x=\"641\" y=\"-245.8\" font-family=\"Helvetica,sans-Serif\" font-size=\"14.00\">value = [1, 2, 0]</text>\r\n",
       "<text text-anchor=\"middle\" x=\"641\" y=\"-230.8\" font-family=\"Helvetica,sans-Serif\" font-size=\"14.00\">class = 雪莉</text>\r\n",
       "</g>\r\n",
       "<!-- 13&#45;&gt;15 -->\r\n",
       "<g id=\"edge15\" class=\"edge\">\r\n",
       "<title>13&#45;&gt;15</title>\r\n",
       "<path fill=\"none\" stroke=\"black\" d=\"M541.08,-341.91C553.54,-332.38 566.92,-322.15 579.71,-312.37\"/>\r\n",
       "<polygon fill=\"black\" stroke=\"black\" points=\"582.19,-314.88 588.01,-306.02 577.94,-309.32 582.19,-314.88\"/>\r\n",
       "</g>\r\n",
       "<!-- 16 -->\r\n",
       "<g id=\"node17\" class=\"node\">\r\n",
       "<title>16</title>\r\n",
       "<path fill=\"#39e581\" stroke=\"black\" d=\"M619.5,-179.5C619.5,-179.5 530.5,-179.5 530.5,-179.5 524.5,-179.5 518.5,-173.5 518.5,-167.5 518.5,-167.5 518.5,-123.5 518.5,-123.5 518.5,-117.5 524.5,-111.5 530.5,-111.5 530.5,-111.5 619.5,-111.5 619.5,-111.5 625.5,-111.5 631.5,-117.5 631.5,-123.5 631.5,-123.5 631.5,-167.5 631.5,-167.5 631.5,-173.5 625.5,-179.5 619.5,-179.5\"/>\r\n",
       "<text text-anchor=\"middle\" x=\"575\" y=\"-164.3\" font-family=\"Helvetica,sans-Serif\" font-size=\"14.00\">entropy = 0.0</text>\r\n",
       "<text text-anchor=\"middle\" x=\"575\" y=\"-149.3\" font-family=\"Helvetica,sans-Serif\" font-size=\"14.00\">samples = 2</text>\r\n",
       "<text text-anchor=\"middle\" x=\"575\" y=\"-134.3\" font-family=\"Helvetica,sans-Serif\" font-size=\"14.00\">value = [0, 2, 0]</text>\r\n",
       "<text text-anchor=\"middle\" x=\"575\" y=\"-119.3\" font-family=\"Helvetica,sans-Serif\" font-size=\"14.00\">class = 雪莉</text>\r\n",
       "</g>\r\n",
       "<!-- 15&#45;&gt;16 -->\r\n",
       "<g id=\"edge16\" class=\"edge\">\r\n",
       "<title>15&#45;&gt;16</title>\r\n",
       "<path fill=\"none\" stroke=\"black\" d=\"M618.1,-222.91C611.81,-211.76 604.99,-199.66 598.66,-188.44\"/>\r\n",
       "<polygon fill=\"black\" stroke=\"black\" points=\"601.67,-186.66 593.71,-179.67 595.57,-190.1 601.67,-186.66\"/>\r\n",
       "</g>\r\n",
       "<!-- 17 -->\r\n",
       "<g id=\"node18\" class=\"node\">\r\n",
       "<title>17</title>\r\n",
       "<path fill=\"#e58139\" stroke=\"black\" d=\"M750.5,-179.5C750.5,-179.5 661.5,-179.5 661.5,-179.5 655.5,-179.5 649.5,-173.5 649.5,-167.5 649.5,-167.5 649.5,-123.5 649.5,-123.5 649.5,-117.5 655.5,-111.5 661.5,-111.5 661.5,-111.5 750.5,-111.5 750.5,-111.5 756.5,-111.5 762.5,-117.5 762.5,-123.5 762.5,-123.5 762.5,-167.5 762.5,-167.5 762.5,-173.5 756.5,-179.5 750.5,-179.5\"/>\r\n",
       "<text text-anchor=\"middle\" x=\"706\" y=\"-164.3\" font-family=\"Helvetica,sans-Serif\" font-size=\"14.00\">entropy = 0.0</text>\r\n",
       "<text text-anchor=\"middle\" x=\"706\" y=\"-149.3\" font-family=\"Helvetica,sans-Serif\" font-size=\"14.00\">samples = 1</text>\r\n",
       "<text text-anchor=\"middle\" x=\"706\" y=\"-134.3\" font-family=\"Helvetica,sans-Serif\" font-size=\"14.00\">value = [1, 0, 0]</text>\r\n",
       "<text text-anchor=\"middle\" x=\"706\" y=\"-119.3\" font-family=\"Helvetica,sans-Serif\" font-size=\"14.00\">class = 琴酒</text>\r\n",
       "</g>\r\n",
       "<!-- 15&#45;&gt;17 -->\r\n",
       "<g id=\"edge17\" class=\"edge\">\r\n",
       "<title>15&#45;&gt;17</title>\r\n",
       "<path fill=\"none\" stroke=\"black\" d=\"M663.55,-222.91C669.74,-211.76 676.47,-199.66 682.7,-188.44\"/>\r\n",
       "<polygon fill=\"black\" stroke=\"black\" points=\"685.78,-190.11 687.57,-179.67 679.66,-186.71 685.78,-190.11\"/>\r\n",
       "</g>\r\n",
       "<!-- 19 -->\r\n",
       "<g id=\"node20\" class=\"node\">\r\n",
       "<title>19</title>\r\n",
       "<path fill=\"#8139e5\" stroke=\"black\" d=\"M666,-536.5C666,-536.5 562,-536.5 562,-536.5 556,-536.5 550,-530.5 550,-524.5 550,-524.5 550,-480.5 550,-480.5 550,-474.5 556,-468.5 562,-468.5 562,-468.5 666,-468.5 666,-468.5 672,-468.5 678,-474.5 678,-480.5 678,-480.5 678,-524.5 678,-524.5 678,-530.5 672,-536.5 666,-536.5\"/>\r\n",
       "<text text-anchor=\"middle\" x=\"614\" y=\"-521.3\" font-family=\"Helvetica,sans-Serif\" font-size=\"14.00\">entropy = 0.0</text>\r\n",
       "<text text-anchor=\"middle\" x=\"614\" y=\"-506.3\" font-family=\"Helvetica,sans-Serif\" font-size=\"14.00\">samples = 2</text>\r\n",
       "<text text-anchor=\"middle\" x=\"614\" y=\"-491.3\" font-family=\"Helvetica,sans-Serif\" font-size=\"14.00\">value = [0, 0, 2]</text>\r\n",
       "<text text-anchor=\"middle\" x=\"614\" y=\"-476.3\" font-family=\"Helvetica,sans-Serif\" font-size=\"14.00\">class = 贝尔摩德</text>\r\n",
       "</g>\r\n",
       "<!-- 18&#45;&gt;19 -->\r\n",
       "<g id=\"edge19\" class=\"edge\">\r\n",
       "<title>18&#45;&gt;19</title>\r\n",
       "<path fill=\"none\" stroke=\"black\" d=\"M614,-579.91C614,-569.2 614,-557.62 614,-546.78\"/>\r\n",
       "<polygon fill=\"black\" stroke=\"black\" points=\"617.5,-546.67 614,-536.67 610.5,-546.67 617.5,-546.67\"/>\r\n",
       "</g>\r\n",
       "<!-- 20 -->\r\n",
       "<g id=\"node21\" class=\"node\">\r\n",
       "<title>20</title>\r\n",
       "<path fill=\"#e6843e\" stroke=\"black\" d=\"M844,-544C844,-544 728,-544 728,-544 722,-544 716,-538 716,-532 716,-532 716,-473 716,-473 716,-467 722,-461 728,-461 728,-461 844,-461 844,-461 850,-461 856,-467 856,-473 856,-473 856,-532 856,-532 856,-538 850,-544 844,-544\"/>\r\n",
       "<text text-anchor=\"middle\" x=\"786\" y=\"-528.8\" font-family=\"Helvetica,sans-Serif\" font-size=\"14.00\">颜色强度 &lt;= 5.044</text>\r\n",
       "<text text-anchor=\"middle\" x=\"786\" y=\"-513.8\" font-family=\"Helvetica,sans-Serif\" font-size=\"14.00\">entropy = 0.165</text>\r\n",
       "<text text-anchor=\"middle\" x=\"786\" y=\"-498.8\" font-family=\"Helvetica,sans-Serif\" font-size=\"14.00\">samples = 41</text>\r\n",
       "<text text-anchor=\"middle\" x=\"786\" y=\"-483.8\" font-family=\"Helvetica,sans-Serif\" font-size=\"14.00\">value = [40, 1, 0]</text>\r\n",
       "<text text-anchor=\"middle\" x=\"786\" y=\"-468.8\" font-family=\"Helvetica,sans-Serif\" font-size=\"14.00\">class = 琴酒</text>\r\n",
       "</g>\r\n",
       "<!-- 18&#45;&gt;20 -->\r\n",
       "<g id=\"edge20\" class=\"edge\">\r\n",
       "<title>18&#45;&gt;20</title>\r\n",
       "<path fill=\"none\" stroke=\"black\" d=\"M673.67,-579.91C687.95,-570.2 703.3,-559.76 717.92,-549.81\"/>\r\n",
       "<polygon fill=\"black\" stroke=\"black\" points=\"720.13,-552.54 726.43,-544.02 716.19,-546.75 720.13,-552.54\"/>\r\n",
       "</g>\r\n",
       "<!-- 21 -->\r\n",
       "<g id=\"node22\" class=\"node\">\r\n",
       "<title>21</title>\r\n",
       "<path fill=\"#e78a47\" stroke=\"black\" d=\"M860,-425C860,-425 712,-425 712,-425 706,-425 700,-419 700,-413 700,-413 700,-354 700,-354 700,-348 706,-342 712,-342 712,-342 860,-342 860,-342 866,-342 872,-348 872,-354 872,-354 872,-413 872,-413 872,-419 866,-425 860,-425\"/>\r\n",
       "<text text-anchor=\"middle\" x=\"786\" y=\"-409.8\" font-family=\"Helvetica,sans-Serif\" font-size=\"14.00\">非黄烷类酚类 &lt;= 0.188</text>\r\n",
       "<text text-anchor=\"middle\" x=\"786\" y=\"-394.8\" font-family=\"Helvetica,sans-Serif\" font-size=\"14.00\">entropy = 0.353</text>\r\n",
       "<text text-anchor=\"middle\" x=\"786\" y=\"-379.8\" font-family=\"Helvetica,sans-Serif\" font-size=\"14.00\">samples = 15</text>\r\n",
       "<text text-anchor=\"middle\" x=\"786\" y=\"-364.8\" font-family=\"Helvetica,sans-Serif\" font-size=\"14.00\">value = [14, 1, 0]</text>\r\n",
       "<text text-anchor=\"middle\" x=\"786\" y=\"-349.8\" font-family=\"Helvetica,sans-Serif\" font-size=\"14.00\">class = 琴酒</text>\r\n",
       "</g>\r\n",
       "<!-- 20&#45;&gt;21 -->\r\n",
       "<g id=\"edge21\" class=\"edge\">\r\n",
       "<title>20&#45;&gt;21</title>\r\n",
       "<path fill=\"none\" stroke=\"black\" d=\"M786,-460.91C786,-452.65 786,-443.86 786,-435.3\"/>\r\n",
       "<polygon fill=\"black\" stroke=\"black\" points=\"789.5,-435.02 786,-425.02 782.5,-435.02 789.5,-435.02\"/>\r\n",
       "</g>\r\n",
       "<!-- 24 -->\r\n",
       "<g id=\"node25\" class=\"node\">\r\n",
       "<title>24</title>\r\n",
       "<path fill=\"#e58139\" stroke=\"black\" d=\"M999.5,-417.5C999.5,-417.5 902.5,-417.5 902.5,-417.5 896.5,-417.5 890.5,-411.5 890.5,-405.5 890.5,-405.5 890.5,-361.5 890.5,-361.5 890.5,-355.5 896.5,-349.5 902.5,-349.5 902.5,-349.5 999.5,-349.5 999.5,-349.5 1005.5,-349.5 1011.5,-355.5 1011.5,-361.5 1011.5,-361.5 1011.5,-405.5 1011.5,-405.5 1011.5,-411.5 1005.5,-417.5 999.5,-417.5\"/>\r\n",
       "<text text-anchor=\"middle\" x=\"951\" y=\"-402.3\" font-family=\"Helvetica,sans-Serif\" font-size=\"14.00\">entropy = 0.0</text>\r\n",
       "<text text-anchor=\"middle\" x=\"951\" y=\"-387.3\" font-family=\"Helvetica,sans-Serif\" font-size=\"14.00\">samples = 26</text>\r\n",
       "<text text-anchor=\"middle\" x=\"951\" y=\"-372.3\" font-family=\"Helvetica,sans-Serif\" font-size=\"14.00\">value = [26, 0, 0]</text>\r\n",
       "<text text-anchor=\"middle\" x=\"951\" y=\"-357.3\" font-family=\"Helvetica,sans-Serif\" font-size=\"14.00\">class = 琴酒</text>\r\n",
       "</g>\r\n",
       "<!-- 20&#45;&gt;24 -->\r\n",
       "<g id=\"edge24\" class=\"edge\">\r\n",
       "<title>20&#45;&gt;24</title>\r\n",
       "<path fill=\"none\" stroke=\"black\" d=\"M843.25,-460.91C860.36,-448.77 879.09,-435.49 896.05,-423.46\"/>\r\n",
       "<polygon fill=\"black\" stroke=\"black\" points=\"898.09,-426.31 904.23,-417.67 894.04,-420.6 898.09,-426.31\"/>\r\n",
       "</g>\r\n",
       "<!-- 22 -->\r\n",
       "<g id=\"node23\" class=\"node\">\r\n",
       "<title>22</title>\r\n",
       "<path fill=\"#39e581\" stroke=\"black\" d=\"M830.5,-298.5C830.5,-298.5 741.5,-298.5 741.5,-298.5 735.5,-298.5 729.5,-292.5 729.5,-286.5 729.5,-286.5 729.5,-242.5 729.5,-242.5 729.5,-236.5 735.5,-230.5 741.5,-230.5 741.5,-230.5 830.5,-230.5 830.5,-230.5 836.5,-230.5 842.5,-236.5 842.5,-242.5 842.5,-242.5 842.5,-286.5 842.5,-286.5 842.5,-292.5 836.5,-298.5 830.5,-298.5\"/>\r\n",
       "<text text-anchor=\"middle\" x=\"786\" y=\"-283.3\" font-family=\"Helvetica,sans-Serif\" font-size=\"14.00\">entropy = 0.0</text>\r\n",
       "<text text-anchor=\"middle\" x=\"786\" y=\"-268.3\" font-family=\"Helvetica,sans-Serif\" font-size=\"14.00\">samples = 1</text>\r\n",
       "<text text-anchor=\"middle\" x=\"786\" y=\"-253.3\" font-family=\"Helvetica,sans-Serif\" font-size=\"14.00\">value = [0, 1, 0]</text>\r\n",
       "<text text-anchor=\"middle\" x=\"786\" y=\"-238.3\" font-family=\"Helvetica,sans-Serif\" font-size=\"14.00\">class = 雪莉</text>\r\n",
       "</g>\r\n",
       "<!-- 21&#45;&gt;22 -->\r\n",
       "<g id=\"edge22\" class=\"edge\">\r\n",
       "<title>21&#45;&gt;22</title>\r\n",
       "<path fill=\"none\" stroke=\"black\" d=\"M786,-341.91C786,-331.2 786,-319.62 786,-308.78\"/>\r\n",
       "<polygon fill=\"black\" stroke=\"black\" points=\"789.5,-308.67 786,-298.67 782.5,-308.67 789.5,-308.67\"/>\r\n",
       "</g>\r\n",
       "<!-- 23 -->\r\n",
       "<g id=\"node24\" class=\"node\">\r\n",
       "<title>23</title>\r\n",
       "<path fill=\"#e58139\" stroke=\"black\" d=\"M969.5,-298.5C969.5,-298.5 872.5,-298.5 872.5,-298.5 866.5,-298.5 860.5,-292.5 860.5,-286.5 860.5,-286.5 860.5,-242.5 860.5,-242.5 860.5,-236.5 866.5,-230.5 872.5,-230.5 872.5,-230.5 969.5,-230.5 969.5,-230.5 975.5,-230.5 981.5,-236.5 981.5,-242.5 981.5,-242.5 981.5,-286.5 981.5,-286.5 981.5,-292.5 975.5,-298.5 969.5,-298.5\"/>\r\n",
       "<text text-anchor=\"middle\" x=\"921\" y=\"-283.3\" font-family=\"Helvetica,sans-Serif\" font-size=\"14.00\">entropy = 0.0</text>\r\n",
       "<text text-anchor=\"middle\" x=\"921\" y=\"-268.3\" font-family=\"Helvetica,sans-Serif\" font-size=\"14.00\">samples = 14</text>\r\n",
       "<text text-anchor=\"middle\" x=\"921\" y=\"-253.3\" font-family=\"Helvetica,sans-Serif\" font-size=\"14.00\">value = [14, 0, 0]</text>\r\n",
       "<text text-anchor=\"middle\" x=\"921\" y=\"-238.3\" font-family=\"Helvetica,sans-Serif\" font-size=\"14.00\">class = 琴酒</text>\r\n",
       "</g>\r\n",
       "<!-- 21&#45;&gt;23 -->\r\n",
       "<g id=\"edge23\" class=\"edge\">\r\n",
       "<title>21&#45;&gt;23</title>\r\n",
       "<path fill=\"none\" stroke=\"black\" d=\"M832.84,-341.91C846.46,-330.1 861.33,-317.22 874.9,-305.45\"/>\r\n",
       "<polygon fill=\"black\" stroke=\"black\" points=\"877.47,-307.86 882.73,-298.67 872.88,-302.57 877.47,-307.86\"/>\r\n",
       "</g>\r\n",
       "</g>\r\n",
       "</svg>\r\n"
      ],
      "text/plain": [
       "<graphviz.files.Source at 0x171bf550>"
      ]
     },
     "execution_count": 26,
     "metadata": {},
     "output_type": "execute_result"
    }
   ],
   "source": [
    "import graphviz #可视化组件，需自己安装，配置环境变量等\n",
    "dot_data = tree.export_graphviz(clf\n",
    "                                ,feature_names = feature_name\n",
    "                                ,class_names = [\"琴酒\",\"雪莉\",\"贝尔摩德\"]\n",
    "                                ,filled=True\n",
    "                                ,rounded=True\n",
    "                                )\n",
    "graph = graphviz.Source(dot_data)\n",
    "graph"
   ]
  },
  {
   "cell_type": "markdown",
   "id": "initial-checkout",
   "metadata": {},
   "source": [
    "## 剪枝参数"
   ]
  },
  {
   "cell_type": "markdown",
   "id": "considered-print",
   "metadata": {},
   "source": [
    "在不加限制的情况下，一颗决策树会生长到衡量不纯度的指标最优，或者没有更多的特征可用为止。这样的决策树往往会过拟合，这就是说他会在**训练集上表现很好，在测试集上却表现糟糕。** 我们收集的样本数据不可能和整体的状况完全一致，因此当一颗决策树队训练数据有了过于优秀的解释性，它找出的规则必然包含了训练样本中的噪声，并使它对未知数据的拟合程度不足。"
   ]
  },
  {
   "cell_type": "markdown",
   "id": "coral-obligation",
   "metadata": {},
   "source": [
    "为了让决策树有更好的泛化性，我们要对决策树进行剪枝。**剪枝策略对决策树的影响巨大，正确的剪枝策略是优化决策树算法的核心。** sklearn为我们提供了不同的剪枝策略："
   ]
  },
  {
   "cell_type": "code",
   "execution_count": 27,
   "id": "known-emperor",
   "metadata": {},
   "outputs": [
    {
     "data": {
      "text/plain": [
       "1.0"
      ]
     },
     "execution_count": 27,
     "metadata": {},
     "output_type": "execute_result"
    }
   ],
   "source": [
    "#我们对树的训练集的拟合程度如何？\n",
    "score_train = clf.score(Xtrain,Ytrain)\n",
    "score_train"
   ]
  },
  {
   "cell_type": "markdown",
   "id": "practical-frame",
   "metadata": {},
   "source": [
    "#### 注：这个时候也还不能说它过拟合了，因为我们在测试集上的准确率也是94%，只能说它轻微过拟合。"
   ]
  },
  {
   "cell_type": "markdown",
   "id": "transparent-filling",
   "metadata": {},
   "source": [
    "## 1、max_depth\n",
    "## 2、min_samples_leaf & min_sample_split"
   ]
  },
  {
   "cell_type": "markdown",
   "id": "latest-shopper",
   "metadata": {},
   "source": [
    "**max_depth**限制树的最大深度，超过设定的深度就剪掉。<br>\n",
    "**min_samples_leaf**限定一个节点在分枝后的每个子节点都必须包含至少min_samples_leaf个训练样本，否则分枝就不会发生，或者，分枝会朝着满足每个子节点都包含min_samples_leaf个样本的方向去发生。<br>\n",
    "一般搭配max_depth使用，在回归树中有神奇的效果，可以让模型变得更加平滑。这个参数如果设得太小就会引起过拟合，设得太大就会阻止模型学习数据。一般来说，建议从=5开始使用。如果叶节点中含有的样本量变化很大的话，建议输入浮点数作为样本的百分比来使用。同时，这个参数可以保证每个叶子的最小尺寸，可以在回归问题中避免低方差，过拟合的叶子节点出现。对于类别不多的分类问题，=1通常就是最佳选择。<br>\n",
    "**min_samples_split**限定一个节点必须要包含至少min_sample_split个训练样本，这个节点才允许被分枝，否则分枝就不会发生。"
   ]
  },
  {
   "cell_type": "code",
   "execution_count": 40,
   "id": "beginning-relations",
   "metadata": {},
   "outputs": [
    {
     "data": {
      "text/plain": [
       "0.9259259259259259"
      ]
     },
     "execution_count": 40,
     "metadata": {},
     "output_type": "execute_result"
    }
   ],
   "source": [
    "clf = tree.DecisionTreeClassifier(criterion = \"entropy\"\n",
    "                                  ,random_state=30\n",
    "                                  ,splitter=\"random\"\n",
    "                                  ,max_depth=3\n",
    "#                                   ,min_samples_leaf=10\n",
    "#                                   ,min_samples_split=10\n",
    "                                 )   #第一步：实例化  \n",
    "clf = clf.fit(Xtrain,Ytrain) #第二步：训练\n",
    "score = clf.score(Xtest,Ytest)  #第三步：返回预测的准确度accuracy\n",
    "\n",
    "score"
   ]
  },
  {
   "cell_type": "code",
   "execution_count": 41,
   "id": "cordless-armor",
   "metadata": {},
   "outputs": [
    {
     "data": {
      "image/svg+xml": [
       "<?xml version=\"1.0\" encoding=\"UTF-8\" standalone=\"no\"?>\r\n",
       "<!DOCTYPE svg PUBLIC \"-//W3C//DTD SVG 1.1//EN\"\r\n",
       " \"http://www.w3.org/Graphics/SVG/1.1/DTD/svg11.dtd\">\r\n",
       "<!-- Generated by graphviz version 2.46.0 (20210118.1747)\r\n",
       " -->\r\n",
       "<!-- Title: Tree Pages: 1 -->\r\n",
       "<svg width=\"852pt\" height=\"433pt\"\r\n",
       " viewBox=\"0.00 0.00 851.50 433.00\" xmlns=\"http://www.w3.org/2000/svg\" xmlns:xlink=\"http://www.w3.org/1999/xlink\">\r\n",
       "<g id=\"graph0\" class=\"graph\" transform=\"scale(1 1) rotate(0) translate(4 429)\">\r\n",
       "<title>Tree</title>\r\n",
       "<polygon fill=\"white\" stroke=\"transparent\" points=\"-4,4 -4,-429 847.5,-429 847.5,4 -4,4\"/>\r\n",
       "<!-- 0 -->\r\n",
       "<g id=\"node1\" class=\"node\">\r\n",
       "<title>0</title>\r\n",
       "<path fill=\"#f3fdf7\" stroke=\"black\" d=\"M495.5,-425C495.5,-425 382.5,-425 382.5,-425 376.5,-425 370.5,-419 370.5,-413 370.5,-413 370.5,-354 370.5,-354 370.5,-348 376.5,-342 382.5,-342 382.5,-342 495.5,-342 495.5,-342 501.5,-342 507.5,-348 507.5,-354 507.5,-354 507.5,-413 507.5,-413 507.5,-419 501.5,-425 495.5,-425\"/>\r\n",
       "<text text-anchor=\"middle\" x=\"439\" y=\"-409.8\" font-family=\"Helvetica,sans-Serif\" font-size=\"14.00\">类黄酮 &lt;= 2.234</text>\r\n",
       "<text text-anchor=\"middle\" x=\"439\" y=\"-394.8\" font-family=\"Helvetica,sans-Serif\" font-size=\"14.00\">entropy = 1.568</text>\r\n",
       "<text text-anchor=\"middle\" x=\"439\" y=\"-379.8\" font-family=\"Helvetica,sans-Serif\" font-size=\"14.00\">samples = 124</text>\r\n",
       "<text text-anchor=\"middle\" x=\"439\" y=\"-364.8\" font-family=\"Helvetica,sans-Serif\" font-size=\"14.00\">value = [43, 48, 33]</text>\r\n",
       "<text text-anchor=\"middle\" x=\"439\" y=\"-349.8\" font-family=\"Helvetica,sans-Serif\" font-size=\"14.00\">class = 雪莉</text>\r\n",
       "</g>\r\n",
       "<!-- 1 -->\r\n",
       "<g id=\"node2\" class=\"node\">\r\n",
       "<title>1</title>\r\n",
       "<path fill=\"#f0e8fc\" stroke=\"black\" d=\"M443,-306C443,-306 225,-306 225,-306 219,-306 213,-300 213,-294 213,-294 213,-235 213,-235 213,-229 219,-223 225,-223 225,-223 443,-223 443,-223 449,-223 455,-229 455,-235 455,-235 455,-294 455,-294 455,-300 449,-306 443,-306\"/>\r\n",
       "<text text-anchor=\"middle\" x=\"334\" y=\"-290.8\" font-family=\"Helvetica,sans-Serif\" font-size=\"14.00\">od280/od315稀释葡萄酒 &lt;= 2.222</text>\r\n",
       "<text text-anchor=\"middle\" x=\"334\" y=\"-275.8\" font-family=\"Helvetica,sans-Serif\" font-size=\"14.00\">entropy = 1.099</text>\r\n",
       "<text text-anchor=\"middle\" x=\"334\" y=\"-260.8\" font-family=\"Helvetica,sans-Serif\" font-size=\"14.00\">samples = 63</text>\r\n",
       "<text text-anchor=\"middle\" x=\"334\" y=\"-245.8\" font-family=\"Helvetica,sans-Serif\" font-size=\"14.00\">value = [1, 29, 33]</text>\r\n",
       "<text text-anchor=\"middle\" x=\"334\" y=\"-230.8\" font-family=\"Helvetica,sans-Serif\" font-size=\"14.00\">class = 贝尔摩德</text>\r\n",
       "</g>\r\n",
       "<!-- 0&#45;&gt;1 -->\r\n",
       "<g id=\"edge1\" class=\"edge\">\r\n",
       "<title>0&#45;&gt;1</title>\r\n",
       "<path fill=\"none\" stroke=\"black\" d=\"M402.57,-341.91C394.35,-332.74 385.54,-322.93 377.07,-313.49\"/>\r\n",
       "<polygon fill=\"black\" stroke=\"black\" points=\"379.65,-311.13 370.36,-306.02 374.44,-315.8 379.65,-311.13\"/>\r\n",
       "<text text-anchor=\"middle\" x=\"369.02\" y=\"-327.28\" font-family=\"Helvetica,sans-Serif\" font-size=\"14.00\">True</text>\r\n",
       "</g>\r\n",
       "<!-- 8 -->\r\n",
       "<g id=\"node9\" class=\"node\">\r\n",
       "<title>8</title>\r\n",
       "<path fill=\"#f1ba93\" stroke=\"black\" d=\"M602.5,-306C602.5,-306 485.5,-306 485.5,-306 479.5,-306 473.5,-300 473.5,-294 473.5,-294 473.5,-235 473.5,-235 473.5,-229 479.5,-223 485.5,-223 485.5,-223 602.5,-223 602.5,-223 608.5,-223 614.5,-229 614.5,-235 614.5,-235 614.5,-294 614.5,-294 614.5,-300 608.5,-306 602.5,-306\"/>\r\n",
       "<text text-anchor=\"middle\" x=\"544\" y=\"-290.8\" font-family=\"Helvetica,sans-Serif\" font-size=\"14.00\">脯氨酸 &lt;= 558.218</text>\r\n",
       "<text text-anchor=\"middle\" x=\"544\" y=\"-275.8\" font-family=\"Helvetica,sans-Serif\" font-size=\"14.00\">entropy = 0.895</text>\r\n",
       "<text text-anchor=\"middle\" x=\"544\" y=\"-260.8\" font-family=\"Helvetica,sans-Serif\" font-size=\"14.00\">samples = 61</text>\r\n",
       "<text text-anchor=\"middle\" x=\"544\" y=\"-245.8\" font-family=\"Helvetica,sans-Serif\" font-size=\"14.00\">value = [42, 19, 0]</text>\r\n",
       "<text text-anchor=\"middle\" x=\"544\" y=\"-230.8\" font-family=\"Helvetica,sans-Serif\" font-size=\"14.00\">class = 琴酒</text>\r\n",
       "</g>\r\n",
       "<!-- 0&#45;&gt;8 -->\r\n",
       "<g id=\"edge8\" class=\"edge\">\r\n",
       "<title>0&#45;&gt;8</title>\r\n",
       "<path fill=\"none\" stroke=\"black\" d=\"M475.43,-341.91C483.65,-332.74 492.46,-322.93 500.93,-313.49\"/>\r\n",
       "<polygon fill=\"black\" stroke=\"black\" points=\"503.56,-315.8 507.64,-306.02 498.35,-311.13 503.56,-315.8\"/>\r\n",
       "<text text-anchor=\"middle\" x=\"508.98\" y=\"-327.28\" font-family=\"Helvetica,sans-Serif\" font-size=\"14.00\">False</text>\r\n",
       "</g>\r\n",
       "<!-- 2 -->\r\n",
       "<g id=\"node3\" class=\"node\">\r\n",
       "<title>2</title>\r\n",
       "<path fill=\"#9558e9\" stroke=\"black\" d=\"M250,-187C250,-187 146,-187 146,-187 140,-187 134,-181 134,-175 134,-175 134,-116 134,-116 134,-110 140,-104 146,-104 146,-104 250,-104 250,-104 256,-104 262,-110 262,-116 262,-116 262,-175 262,-175 262,-181 256,-187 250,-187\"/>\r\n",
       "<text text-anchor=\"middle\" x=\"198\" y=\"-171.8\" font-family=\"Helvetica,sans-Serif\" font-size=\"14.00\">色调 &lt;= 0.95</text>\r\n",
       "<text text-anchor=\"middle\" x=\"198\" y=\"-156.8\" font-family=\"Helvetica,sans-Serif\" font-size=\"14.00\">entropy = 0.571</text>\r\n",
       "<text text-anchor=\"middle\" x=\"198\" y=\"-141.8\" font-family=\"Helvetica,sans-Serif\" font-size=\"14.00\">samples = 37</text>\r\n",
       "<text text-anchor=\"middle\" x=\"198\" y=\"-126.8\" font-family=\"Helvetica,sans-Serif\" font-size=\"14.00\">value = [0, 5, 32]</text>\r\n",
       "<text text-anchor=\"middle\" x=\"198\" y=\"-111.8\" font-family=\"Helvetica,sans-Serif\" font-size=\"14.00\">class = 贝尔摩德</text>\r\n",
       "</g>\r\n",
       "<!-- 1&#45;&gt;2 -->\r\n",
       "<g id=\"edge2\" class=\"edge\">\r\n",
       "<title>1&#45;&gt;2</title>\r\n",
       "<path fill=\"none\" stroke=\"black\" d=\"M286.82,-222.91C275.84,-213.47 264.07,-203.34 252.81,-193.65\"/>\r\n",
       "<polygon fill=\"black\" stroke=\"black\" points=\"254.96,-190.89 245.1,-187.02 250.4,-196.2 254.96,-190.89\"/>\r\n",
       "</g>\r\n",
       "<!-- 5 -->\r\n",
       "<g id=\"node6\" class=\"node\">\r\n",
       "<title>5</title>\r\n",
       "<path fill=\"#49e78b\" stroke=\"black\" d=\"M408,-187C408,-187 292,-187 292,-187 286,-187 280,-181 280,-175 280,-175 280,-116 280,-116 280,-110 286,-104 292,-104 292,-104 408,-104 408,-104 414,-104 420,-110 420,-116 420,-116 420,-175 420,-175 420,-181 414,-187 408,-187\"/>\r\n",
       "<text text-anchor=\"middle\" x=\"350\" y=\"-171.8\" font-family=\"Helvetica,sans-Serif\" font-size=\"14.00\">颜色强度 &lt;= 4.854</text>\r\n",
       "<text text-anchor=\"middle\" x=\"350\" y=\"-156.8\" font-family=\"Helvetica,sans-Serif\" font-size=\"14.00\">entropy = 0.468</text>\r\n",
       "<text text-anchor=\"middle\" x=\"350\" y=\"-141.8\" font-family=\"Helvetica,sans-Serif\" font-size=\"14.00\">samples = 26</text>\r\n",
       "<text text-anchor=\"middle\" x=\"350\" y=\"-126.8\" font-family=\"Helvetica,sans-Serif\" font-size=\"14.00\">value = [1, 24, 1]</text>\r\n",
       "<text text-anchor=\"middle\" x=\"350\" y=\"-111.8\" font-family=\"Helvetica,sans-Serif\" font-size=\"14.00\">class = 雪莉</text>\r\n",
       "</g>\r\n",
       "<!-- 1&#45;&gt;5 -->\r\n",
       "<g id=\"edge5\" class=\"edge\">\r\n",
       "<title>1&#45;&gt;5</title>\r\n",
       "<path fill=\"none\" stroke=\"black\" d=\"M339.55,-222.91C340.69,-214.56 341.91,-205.67 343.09,-197.02\"/>\r\n",
       "<polygon fill=\"black\" stroke=\"black\" points=\"346.57,-197.4 344.46,-187.02 339.64,-196.45 346.57,-197.4\"/>\r\n",
       "</g>\r\n",
       "<!-- 3 -->\r\n",
       "<g id=\"node4\" class=\"node\">\r\n",
       "<title>3</title>\r\n",
       "<path fill=\"#8945e7\" stroke=\"black\" d=\"M116,-68C116,-68 12,-68 12,-68 6,-68 0,-62 0,-56 0,-56 0,-12 0,-12 0,-6 6,0 12,0 12,0 116,0 116,0 122,0 128,-6 128,-12 128,-12 128,-56 128,-56 128,-62 122,-68 116,-68\"/>\r\n",
       "<text text-anchor=\"middle\" x=\"64\" y=\"-52.8\" font-family=\"Helvetica,sans-Serif\" font-size=\"14.00\">entropy = 0.323</text>\r\n",
       "<text text-anchor=\"middle\" x=\"64\" y=\"-37.8\" font-family=\"Helvetica,sans-Serif\" font-size=\"14.00\">samples = 34</text>\r\n",
       "<text text-anchor=\"middle\" x=\"64\" y=\"-22.8\" font-family=\"Helvetica,sans-Serif\" font-size=\"14.00\">value = [0, 2, 32]</text>\r\n",
       "<text text-anchor=\"middle\" x=\"64\" y=\"-7.8\" font-family=\"Helvetica,sans-Serif\" font-size=\"14.00\">class = 贝尔摩德</text>\r\n",
       "</g>\r\n",
       "<!-- 2&#45;&gt;3 -->\r\n",
       "<g id=\"edge3\" class=\"edge\">\r\n",
       "<title>2&#45;&gt;3</title>\r\n",
       "<path fill=\"none\" stroke=\"black\" d=\"M148.1,-103.73C136.5,-94.24 124.15,-84.16 112.6,-74.72\"/>\r\n",
       "<polygon fill=\"black\" stroke=\"black\" points=\"114.71,-71.92 104.75,-68.3 110.28,-77.34 114.71,-71.92\"/>\r\n",
       "</g>\r\n",
       "<!-- 4 -->\r\n",
       "<g id=\"node5\" class=\"node\">\r\n",
       "<title>4</title>\r\n",
       "<path fill=\"#39e581\" stroke=\"black\" d=\"M247.5,-68C247.5,-68 158.5,-68 158.5,-68 152.5,-68 146.5,-62 146.5,-56 146.5,-56 146.5,-12 146.5,-12 146.5,-6 152.5,0 158.5,0 158.5,0 247.5,0 247.5,0 253.5,0 259.5,-6 259.5,-12 259.5,-12 259.5,-56 259.5,-56 259.5,-62 253.5,-68 247.5,-68\"/>\r\n",
       "<text text-anchor=\"middle\" x=\"203\" y=\"-52.8\" font-family=\"Helvetica,sans-Serif\" font-size=\"14.00\">entropy = 0.0</text>\r\n",
       "<text text-anchor=\"middle\" x=\"203\" y=\"-37.8\" font-family=\"Helvetica,sans-Serif\" font-size=\"14.00\">samples = 3</text>\r\n",
       "<text text-anchor=\"middle\" x=\"203\" y=\"-22.8\" font-family=\"Helvetica,sans-Serif\" font-size=\"14.00\">value = [0, 3, 0]</text>\r\n",
       "<text text-anchor=\"middle\" x=\"203\" y=\"-7.8\" font-family=\"Helvetica,sans-Serif\" font-size=\"14.00\">class = 雪莉</text>\r\n",
       "</g>\r\n",
       "<!-- 2&#45;&gt;4 -->\r\n",
       "<g id=\"edge4\" class=\"edge\">\r\n",
       "<title>2&#45;&gt;4</title>\r\n",
       "<path fill=\"none\" stroke=\"black\" d=\"M199.86,-103.73C200.24,-95.52 200.63,-86.86 201.01,-78.56\"/>\r\n",
       "<polygon fill=\"black\" stroke=\"black\" points=\"204.52,-78.45 201.48,-68.3 197.53,-78.13 204.52,-78.45\"/>\r\n",
       "</g>\r\n",
       "<!-- 6 -->\r\n",
       "<g id=\"node7\" class=\"node\">\r\n",
       "<title>6</title>\r\n",
       "<path fill=\"#41e686\" stroke=\"black\" d=\"M394.5,-68C394.5,-68 297.5,-68 297.5,-68 291.5,-68 285.5,-62 285.5,-56 285.5,-56 285.5,-12 285.5,-12 285.5,-6 291.5,0 297.5,0 297.5,0 394.5,0 394.5,0 400.5,0 406.5,-6 406.5,-12 406.5,-12 406.5,-56 406.5,-56 406.5,-62 400.5,-68 394.5,-68\"/>\r\n",
       "<text text-anchor=\"middle\" x=\"346\" y=\"-52.8\" font-family=\"Helvetica,sans-Serif\" font-size=\"14.00\">entropy = 0.242</text>\r\n",
       "<text text-anchor=\"middle\" x=\"346\" y=\"-37.8\" font-family=\"Helvetica,sans-Serif\" font-size=\"14.00\">samples = 25</text>\r\n",
       "<text text-anchor=\"middle\" x=\"346\" y=\"-22.8\" font-family=\"Helvetica,sans-Serif\" font-size=\"14.00\">value = [1, 24, 0]</text>\r\n",
       "<text text-anchor=\"middle\" x=\"346\" y=\"-7.8\" font-family=\"Helvetica,sans-Serif\" font-size=\"14.00\">class = 雪莉</text>\r\n",
       "</g>\r\n",
       "<!-- 5&#45;&gt;6 -->\r\n",
       "<g id=\"edge6\" class=\"edge\">\r\n",
       "<title>5&#45;&gt;6</title>\r\n",
       "<path fill=\"none\" stroke=\"black\" d=\"M348.51,-103.73C348.21,-95.52 347.89,-86.86 347.59,-78.56\"/>\r\n",
       "<polygon fill=\"black\" stroke=\"black\" points=\"351.08,-78.17 347.22,-68.3 344.08,-78.42 351.08,-78.17\"/>\r\n",
       "</g>\r\n",
       "<!-- 7 -->\r\n",
       "<g id=\"node8\" class=\"node\">\r\n",
       "<title>7</title>\r\n",
       "<path fill=\"#8139e5\" stroke=\"black\" d=\"M541,-68C541,-68 437,-68 437,-68 431,-68 425,-62 425,-56 425,-56 425,-12 425,-12 425,-6 431,0 437,0 437,0 541,0 541,0 547,0 553,-6 553,-12 553,-12 553,-56 553,-56 553,-62 547,-68 541,-68\"/>\r\n",
       "<text text-anchor=\"middle\" x=\"489\" y=\"-52.8\" font-family=\"Helvetica,sans-Serif\" font-size=\"14.00\">entropy = 0.0</text>\r\n",
       "<text text-anchor=\"middle\" x=\"489\" y=\"-37.8\" font-family=\"Helvetica,sans-Serif\" font-size=\"14.00\">samples = 1</text>\r\n",
       "<text text-anchor=\"middle\" x=\"489\" y=\"-22.8\" font-family=\"Helvetica,sans-Serif\" font-size=\"14.00\">value = [0, 0, 1]</text>\r\n",
       "<text text-anchor=\"middle\" x=\"489\" y=\"-7.8\" font-family=\"Helvetica,sans-Serif\" font-size=\"14.00\">class = 贝尔摩德</text>\r\n",
       "</g>\r\n",
       "<!-- 5&#45;&gt;7 -->\r\n",
       "<g id=\"edge7\" class=\"edge\">\r\n",
       "<title>5&#45;&gt;7</title>\r\n",
       "<path fill=\"none\" stroke=\"black\" d=\"M401.76,-103.73C413.8,-94.24 426.6,-84.16 438.58,-74.72\"/>\r\n",
       "<polygon fill=\"black\" stroke=\"black\" points=\"441.04,-77.24 446.73,-68.3 436.71,-71.74 441.04,-77.24\"/>\r\n",
       "</g>\r\n",
       "<!-- 9 -->\r\n",
       "<g id=\"node10\" class=\"node\">\r\n",
       "<title>9</title>\r\n",
       "<path fill=\"#39e581\" stroke=\"black\" d=\"M577.5,-179.5C577.5,-179.5 480.5,-179.5 480.5,-179.5 474.5,-179.5 468.5,-173.5 468.5,-167.5 468.5,-167.5 468.5,-123.5 468.5,-123.5 468.5,-117.5 474.5,-111.5 480.5,-111.5 480.5,-111.5 577.5,-111.5 577.5,-111.5 583.5,-111.5 589.5,-117.5 589.5,-123.5 589.5,-123.5 589.5,-167.5 589.5,-167.5 589.5,-173.5 583.5,-179.5 577.5,-179.5\"/>\r\n",
       "<text text-anchor=\"middle\" x=\"529\" y=\"-164.3\" font-family=\"Helvetica,sans-Serif\" font-size=\"14.00\">entropy = 0.0</text>\r\n",
       "<text text-anchor=\"middle\" x=\"529\" y=\"-149.3\" font-family=\"Helvetica,sans-Serif\" font-size=\"14.00\">samples = 14</text>\r\n",
       "<text text-anchor=\"middle\" x=\"529\" y=\"-134.3\" font-family=\"Helvetica,sans-Serif\" font-size=\"14.00\">value = [0, 14, 0]</text>\r\n",
       "<text text-anchor=\"middle\" x=\"529\" y=\"-119.3\" font-family=\"Helvetica,sans-Serif\" font-size=\"14.00\">class = 雪莉</text>\r\n",
       "</g>\r\n",
       "<!-- 8&#45;&gt;9 -->\r\n",
       "<g id=\"edge9\" class=\"edge\">\r\n",
       "<title>8&#45;&gt;9</title>\r\n",
       "<path fill=\"none\" stroke=\"black\" d=\"M538.8,-222.91C537.42,-212.2 535.94,-200.62 534.55,-189.78\"/>\r\n",
       "<polygon fill=\"black\" stroke=\"black\" points=\"538,-189.14 533.25,-179.67 531.05,-190.03 538,-189.14\"/>\r\n",
       "</g>\r\n",
       "<!-- 10 -->\r\n",
       "<g id=\"node11\" class=\"node\">\r\n",
       "<title>10</title>\r\n",
       "<path fill=\"#e89051\" stroke=\"black\" d=\"M716.5,-187C716.5,-187 619.5,-187 619.5,-187 613.5,-187 607.5,-181 607.5,-175 607.5,-175 607.5,-116 607.5,-116 607.5,-110 613.5,-104 619.5,-104 619.5,-104 716.5,-104 716.5,-104 722.5,-104 728.5,-110 728.5,-116 728.5,-116 728.5,-175 728.5,-175 728.5,-181 722.5,-187 716.5,-187\"/>\r\n",
       "<text text-anchor=\"middle\" x=\"668\" y=\"-171.8\" font-family=\"Helvetica,sans-Serif\" font-size=\"14.00\">酒精 &lt;= 12.689</text>\r\n",
       "<text text-anchor=\"middle\" x=\"668\" y=\"-156.8\" font-family=\"Helvetica,sans-Serif\" font-size=\"14.00\">entropy = 0.489</text>\r\n",
       "<text text-anchor=\"middle\" x=\"668\" y=\"-141.8\" font-family=\"Helvetica,sans-Serif\" font-size=\"14.00\">samples = 47</text>\r\n",
       "<text text-anchor=\"middle\" x=\"668\" y=\"-126.8\" font-family=\"Helvetica,sans-Serif\" font-size=\"14.00\">value = [42, 5, 0]</text>\r\n",
       "<text text-anchor=\"middle\" x=\"668\" y=\"-111.8\" font-family=\"Helvetica,sans-Serif\" font-size=\"14.00\">class = 琴酒</text>\r\n",
       "</g>\r\n",
       "<!-- 8&#45;&gt;10 -->\r\n",
       "<g id=\"edge10\" class=\"edge\">\r\n",
       "<title>8&#45;&gt;10</title>\r\n",
       "<path fill=\"none\" stroke=\"black\" d=\"M587.02,-222.91C596.93,-213.56 607.55,-203.54 617.73,-193.93\"/>\r\n",
       "<polygon fill=\"black\" stroke=\"black\" points=\"620.18,-196.43 625.05,-187.02 615.38,-191.34 620.18,-196.43\"/>\r\n",
       "</g>\r\n",
       "<!-- 11 -->\r\n",
       "<g id=\"node12\" class=\"node\">\r\n",
       "<title>11</title>\r\n",
       "<path fill=\"#39e581\" stroke=\"black\" d=\"M692.5,-68C692.5,-68 603.5,-68 603.5,-68 597.5,-68 591.5,-62 591.5,-56 591.5,-56 591.5,-12 591.5,-12 591.5,-6 597.5,0 603.5,0 603.5,0 692.5,0 692.5,0 698.5,0 704.5,-6 704.5,-12 704.5,-12 704.5,-56 704.5,-56 704.5,-62 698.5,-68 692.5,-68\"/>\r\n",
       "<text text-anchor=\"middle\" x=\"648\" y=\"-52.8\" font-family=\"Helvetica,sans-Serif\" font-size=\"14.00\">entropy = 0.0</text>\r\n",
       "<text text-anchor=\"middle\" x=\"648\" y=\"-37.8\" font-family=\"Helvetica,sans-Serif\" font-size=\"14.00\">samples = 4</text>\r\n",
       "<text text-anchor=\"middle\" x=\"648\" y=\"-22.8\" font-family=\"Helvetica,sans-Serif\" font-size=\"14.00\">value = [0, 4, 0]</text>\r\n",
       "<text text-anchor=\"middle\" x=\"648\" y=\"-7.8\" font-family=\"Helvetica,sans-Serif\" font-size=\"14.00\">class = 雪莉</text>\r\n",
       "</g>\r\n",
       "<!-- 10&#45;&gt;11 -->\r\n",
       "<g id=\"edge11\" class=\"edge\">\r\n",
       "<title>10&#45;&gt;11</title>\r\n",
       "<path fill=\"none\" stroke=\"black\" d=\"M660.55,-103.73C659.04,-95.43 657.44,-86.67 655.91,-78.28\"/>\r\n",
       "<polygon fill=\"black\" stroke=\"black\" points=\"659.32,-77.51 654.08,-68.3 652.44,-78.77 659.32,-77.51\"/>\r\n",
       "</g>\r\n",
       "<!-- 12 -->\r\n",
       "<g id=\"node13\" class=\"node\">\r\n",
       "<title>12</title>\r\n",
       "<path fill=\"#e6843e\" stroke=\"black\" d=\"M831.5,-68C831.5,-68 734.5,-68 734.5,-68 728.5,-68 722.5,-62 722.5,-56 722.5,-56 722.5,-12 722.5,-12 722.5,-6 728.5,0 734.5,0 734.5,0 831.5,0 831.5,0 837.5,0 843.5,-6 843.5,-12 843.5,-12 843.5,-56 843.5,-56 843.5,-62 837.5,-68 831.5,-68\"/>\r\n",
       "<text text-anchor=\"middle\" x=\"783\" y=\"-52.8\" font-family=\"Helvetica,sans-Serif\" font-size=\"14.00\">entropy = 0.159</text>\r\n",
       "<text text-anchor=\"middle\" x=\"783\" y=\"-37.8\" font-family=\"Helvetica,sans-Serif\" font-size=\"14.00\">samples = 43</text>\r\n",
       "<text text-anchor=\"middle\" x=\"783\" y=\"-22.8\" font-family=\"Helvetica,sans-Serif\" font-size=\"14.00\">value = [42, 1, 0]</text>\r\n",
       "<text text-anchor=\"middle\" x=\"783\" y=\"-7.8\" font-family=\"Helvetica,sans-Serif\" font-size=\"14.00\">class = 琴酒</text>\r\n",
       "</g>\r\n",
       "<!-- 10&#45;&gt;12 -->\r\n",
       "<g id=\"edge12\" class=\"edge\">\r\n",
       "<title>10&#45;&gt;12</title>\r\n",
       "<path fill=\"none\" stroke=\"black\" d=\"M710.82,-103.73C720.59,-94.42 730.97,-84.54 740.72,-75.26\"/>\r\n",
       "<polygon fill=\"black\" stroke=\"black\" points=\"743.2,-77.73 748.03,-68.3 738.37,-72.66 743.2,-77.73\"/>\r\n",
       "</g>\r\n",
       "</g>\r\n",
       "</svg>\r\n"
      ],
      "text/plain": [
       "<graphviz.files.Source at 0x171c4048>"
      ]
     },
     "execution_count": 41,
     "metadata": {},
     "output_type": "execute_result"
    }
   ],
   "source": [
    "import graphviz #可视化组件，需自己安装，配置环境变量等\n",
    "dot_data = tree.export_graphviz(clf\n",
    "                                ,feature_names = feature_name\n",
    "                                ,class_names = [\"琴酒\",\"雪莉\",\"贝尔摩德\"]\n",
    "                                ,filled=True\n",
    "                                ,rounded=True\n",
    "                                )\n",
    "graph = graphviz.Source(dot_data)\n",
    "graph"
   ]
  },
  {
   "cell_type": "code",
   "execution_count": 42,
   "id": "proper-falls",
   "metadata": {},
   "outputs": [
    {
     "data": {
      "text/plain": [
       "0.967741935483871"
      ]
     },
     "execution_count": 42,
     "metadata": {},
     "output_type": "execute_result"
    }
   ],
   "source": [
    "score_train = clf.score(Xtrain,Ytrain)\n",
    "score_train"
   ]
  },
  {
   "cell_type": "markdown",
   "id": "complex-washer",
   "metadata": {},
   "source": [
    "## 3、max_features & min_impurity_decrease"
   ]
  },
  {
   "cell_type": "markdown",
   "id": "cathedral-wedding",
   "metadata": {},
   "source": [
    "**max_features** 用来限制分枝时考虑的特征个数，超过限制个数的特征都会被舍弃。\n",
    "**min_impurity_decrease** 限制信息增益的大小，信息增益小于设定数值的分枝不会发生。"
   ]
  },
  {
   "cell_type": "markdown",
   "id": "unsigned-monthly",
   "metadata": {},
   "source": [
    "- **确认最优的剪枝参数**<br>\n",
    "那具体怎么来确定每个参数填写什么值呢？这时候，我们就要用确定超参数的曲线来进行判断了，继续使用我们已经训练好的决策树模型clf。超参数的学习曲线，是一条以超参数的取值为横坐标，模型的度量指标为纵坐标的曲线，它是用来衡量不同超参数取值下模型的表现的线。在我们建好的决策树里，我们的模型度量指标就是score。"
   ]
  },
  {
   "cell_type": "code",
   "execution_count": 43,
   "id": "continental-shadow",
   "metadata": {
    "scrolled": true
   },
   "outputs": [
    {
     "data": {
      "image/png": "[encoded data removed]",
      "text/plain": [
       "<Figure size 432x288 with 1 Axes>"
      ]
     },
     "metadata": {
      "needs_background": "light"
     },
     "output_type": "display_data"
    }
   ],
   "source": [
    "import matplotlib.pyplot as plt\n",
    "\n",
    "test = []\n",
    "for i in range(10):\n",
    "    clf = tree.DecisionTreeClassifier(max_depth=i+1\n",
    "                                      ,criterion=\"entropy\"\n",
    "                                      ,random_state=30\n",
    "                                      ,splitter=\"random\"\n",
    "                                     )\n",
    "    clf = clf.fit(Xtrain,Ytrain)\n",
    "    score = clf.score(Xtest,Ytest)\n",
    "    test.append(score)\n",
    "\n",
    "plt.plot(range(1,11),test,color=\"red\",label=\"max_depth\")   \n",
    "plt.legend()\n",
    "plt.show()"
   ]
  },
  {
   "cell_type": "code",
   "execution_count": 44,
   "id": "extended-pontiac",
   "metadata": {},
   "outputs": [
    {
     "data": {
      "text/plain": [
       "array([18, 12, 21, 22, 22, 21, 20,  8,  4,  4, 22, 22, 12,  8, 22,  8,  4,\n",
       "        4,  7, 22, 22,  4, 18, 22, 21, 12, 12, 12,  4, 12,  8,  7, 12, 12,\n",
       "       20,  4, 12, 21, 20, 22, 12, 22, 22,  4, 18,  4, 21,  4,  4, 12,  4,\n",
       "       10, 12, 22], dtype=int64)"
      ]
     },
     "execution_count": 44,
     "metadata": {},
     "output_type": "execute_result"
    }
   ],
   "source": [
    "#apply返回每个测试样本所在的叶子节点的索引\n",
    "clf.apply(Xtest)"
   ]
  },
  {
   "cell_type": "code",
   "execution_count": 45,
   "id": "weighted-paintball",
   "metadata": {},
   "outputs": [
    {
     "data": {
      "text/plain": [
       "array([1, 1, 0, 0, 0, 0, 1, 1, 2, 2, 0, 0, 1, 1, 0, 1, 2, 2, 2, 0, 0, 2,\n",
       "       1, 0, 0, 1, 1, 1, 2, 1, 1, 2, 1, 1, 1, 2, 1, 0, 1, 0, 1, 0, 0, 2,\n",
       "       1, 2, 0, 2, 2, 1, 2, 2, 1, 0])"
      ]
     },
     "execution_count": 45,
     "metadata": {},
     "output_type": "execute_result"
    }
   ],
   "source": [
    "#predict返回每个测试样本的分类/回归结果\n",
    "clf.predict(Xtest)"
   ]
  },
  {
   "cell_type": "markdown",
   "id": "empty-brass",
   "metadata": {},
   "source": [
    "**八个参数**：criterion，两个随机性相关的参数（random_state,splitter），五个剪枝参数（max_depth,min_samples_split,min_samples_leaf,max_feature,min_impurity_decrease）<br>\n",
    "**一个属性**：feature_importances_<br>\n",
    "**四个接口**：fit,score,apply,predict<br>"
   ]
  },
  {
   "cell_type": "markdown",
   "id": "ignored-jersey",
   "metadata": {},
   "source": [
    "注：推荐看B站菜菜的机器学习实战视频，太赞了,这里是菜菜老师的课程文件链接：https://www.zhihu.com/column/c_1242508311053963264"
   ]
  },
  {
   "cell_type": "code",
   "execution_count": null,
   "id": "prompt-procurement",
   "metadata": {},
   "outputs": [],
   "source": []
  }
 ],
 "metadata": {
  "kernelspec": {
   "display_name": "Python 3",
   "language": "python",
   "name": "python3"
  },
  "language_info": {
   "codemirror_mode": {
    "name": "ipython",
    "version": 3
   },
   "file_extension": ".py",
   "mimetype": "text/x-python",
   "name": "python",
   "nbconvert_exporter": "python",
   "pygments_lexer": "ipython3",
   "version": "3.7.2"
  }
 },
 "nbformat": 4,
 "nbformat_minor": 5
}
