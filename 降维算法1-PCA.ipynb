{
 "cells": [
  {
   "cell_type": "markdown",
   "id": "charming-teacher",
   "metadata": {},
   "source": [
    "# 降维算法1-PCA"
   ]
  },
  {
   "cell_type": "markdown",
   "id": "outdoor-geometry",
   "metadata": {},
   "source": [
    "## 1 概述"
   ]
  },
  {
   "cell_type": "markdown",
   "id": "adjusted-fruit",
   "metadata": {},
   "source": [
    "### 1.1从什么叫“维度”说开来"
   ]
  },
  {
   "cell_type": "markdown",
   "id": "unable-monitor",
   "metadata": {},
   "source": [
    "我们已经带大家认识了两个算法和数据预处理过程。期间，我们不断提到一些语言，比如说：随机森林是通过随机抽取特征来建树，以避免高维计算；再比如说，sklearn中导入特征矩阵，必须是至少二维；上周我们讲解特征工程，还特地提到了，特征选择的目的是通过降维来降低算法的计算成本……这些语言都很正常地被我用来使用，直到有一天，一个小伙伴问了我，”维度“到底是什么？"
   ]
  },
  {
   "cell_type": "markdown",
   "id": "cleared-eclipse",
   "metadata": {},
   "source": [
    "对于数组和Series来说，**维度就是功能shape返回的结果，shape中返回了几个数字，就是几维。** 索引以外的数据，不分行列的叫一维（此时shape返回唯一的维度上的数据个数），有行列之分叫二维（shape返回行x列），也称为表。一张表最多二维，复数的表构成了更高的维度。当一个数组中存在2张3行4列的表时，shape返回的是(更高维，行，列)。当数组中存在2组2张3行4列的表时，数据就是4维，shape返回(2,2,3,4)。"
   ]
  },
  {
   "cell_type": "markdown",
   "id": "separate-posting",
   "metadata": {},
   "source": [
    "![image.png](https://pic3.zhimg.com/80/v2-a4eb5d500bb6fc65cfe0e6d7d18a8872_720w.jpg)"
   ]
  },
  {
   "cell_type": "markdown",
   "id": "liable-steps",
   "metadata": {},
   "source": [
    "数组中的每一张表，都可以是一个**特征矩阵** 或一个DataFrame，这些结构永远只有一张表，所以一定有行列，其中行是样本，列是特征。针对每一张表，**维度指的是样本的数量或特征的数量，一般无特别说明，指的都是特征的数量。** 除了索引之外，一个特征是一维，两个特征是二维，n个特征是n维。"
   ]
  },
  {
   "cell_type": "markdown",
   "id": "emotional-healthcare",
   "metadata": {},
   "source": [
    "![image.png](https://pic3.zhimg.com/80/v2-ccfeceb798601a5e88eb2bf30f9bb72e_720w.png)"
   ]
  },
  {
   "cell_type": "markdown",
   "id": "administrative-water",
   "metadata": {},
   "source": [
    "**对图像来说，维度就是图像中特征向量的数量。** 特征向量可以理解为是坐标轴，一个特征向量定义一条直线，是一维，两个相互垂直的特征向量定义一个平面，即一个直角坐标系，就是二维，三个相互垂直的特征向量定义一个空间，即一个立体直角坐标系，就是三维。三个以上的特征向量相互垂直，定义人眼无法看见，也无法想象的高维空间。"
   ]
  },
  {
   "cell_type": "markdown",
   "id": "frank-ambassador",
   "metadata": {},
   "source": [
    "![image.png](https://pic2.zhimg.com/80/v2-77c07877291259decbf322e059b06ba9_720w.jpg)"
   ]
  },
  {
   "cell_type": "markdown",
   "id": "informational-evaluation",
   "metadata": {},
   "source": [
    "**降维算法中的”降维“，指的是降低特征矩阵中特征的数量。** 上周的课中我们说过，降维的目的是为了让**算法运算更快，效果更好**，但其实还有另一种需求：**数据可视化**。从上面的图我们其实可以看得出，图像和特征矩阵的维度是可以相互对应的，即一个特征对应一个特征向量，对应一条坐标轴。所以，三维及以下的特征矩阵，是可以被可视化的，这可以帮助我们很快地理解数据的分布，而三维以上特征矩阵的则不能被可视化，数据的性质也就比较难理解。"
   ]
  },
  {
   "cell_type": "markdown",
   "id": "fitted-humor",
   "metadata": {},
   "source": [
    "### 1.2 sklearn中的降维算法"
   ]
  },
  {
   "cell_type": "markdown",
   "id": "descending-royalty",
   "metadata": {},
   "source": [
    "sklearn中降维算法都被包括在模块decomposition中，这个模块本质是一个矩阵分解模块。在过去的十年中，如果要讨论算法进步的先锋，矩阵分解可以说是独树一帜。矩阵分解可以用在降维，深度学习，聚类分析，数据预处理，低纬度特征学习，推荐系统，大数据分析等领域。在2006年，Netflix曾经举办了一个奖金为100万美元的推荐系统算法比赛，最后的获奖者就使用了矩阵分解中的明星：奇异值分解SVD。(～o￣3￣)～菊安酱会讲SVD在推荐系统中的应用，大家不要错过！"
   ]
  },
  {
   "cell_type": "markdown",
   "id": "appreciated-location",
   "metadata": {},
   "source": [
    "![image.png](https://pic1.zhimg.com/80/v2-a86e97beb55eaefceaa071942830bc64_720w.jpg)"
   ]
  },
  {
   "cell_type": "markdown",
   "id": "honest-latitude",
   "metadata": {},
   "source": [
    "SVD和主成分分析PCA都属于矩阵分解算法中的入门算法，都是通过分解特征矩阵来进行降维，它们也是我们今天要讲解的重点。虽然是入门算法，却不代表PCA和SVD简单：下面两张图是我在一篇SVD的论文中随意截取的两页，可以看到满满的数学公式（基本是线性代数）。要想在短短的一个小时内，给大家讲明白这些公式，我讲完不吐血大家听完也吐血了。所以今天，我会用最简单的方式为大家呈现降维算法的原理，但这注定意味着大家无法看到这个算法的全貌，**在机器学习中逃避数学是邪道**，所以更多原理大家自己去阅读。"
   ]
  },
  {
   "cell_type": "markdown",
   "id": "selective-jungle",
   "metadata": {},
   "source": [
    "## 2 PCA与SVD"
   ]
  },
  {
   "cell_type": "markdown",
   "id": "basic-lambda",
   "metadata": {},
   "source": [
    "在降维过程中，我们会减少特征的数量，这意味着删除数据，数据量变少则表示模型可以获取的信息会变少，模型的表现可能会因此受影响。同时，在高维数据中，必然有一些特征是不带有有效的信息的（比如噪音），或者有一些特征带有的信息和其他一些特征是重复的（比如一些特征可能会线性相关）。我们希望能够找出一种办法来帮助我们衡量特征上所带的信息量，让我们在降维的过程中，能够**即减少特征的数量，又保留大部分有效信息**——将那些带有重复信息的特征合并，并删除那些带无效信息的特征等等——逐渐创造出能够代表原特征矩阵大部分信息的，特征更少的，新特征矩阵。<br>\n",
    "<br>\n",
    "上周的特征工程课中，我们提到过一种重要的特征选择方法：方差过滤。如果一个特征的方差很小，则意味着这个特征上很可能有大量取值都相同（比如90%都是1，只有10%是0，甚至100%是1），那这一个特征的取值对样本而言就没有区分度，这种特征就不带有有效信息。从方差的这种应用就可以推断出，如果一个特征的方差很大，则说明这个特征上带有大量的信息。因此，**在降维中，PCA使用的信息量衡量指标，就是样本方差，又称可解释性方差，方差越大，特征所带的信息量越多。**"
   ]
  },
  {
   "cell_type": "markdown",
   "id": "partial-custom",
   "metadata": {},
   "source": [
    "![image.png](https://www.zhihu.com/equation?tex=Var+%3D+%5Cfrac%7B1%7D%7Bn-1%7D%5Csum_%7Bi%3D1%7D%5E%7Bn%7D%28x_i+-+%5Chat%7Bx%7D%29%5E2%5C%5C)"
   ]
  },
  {
   "cell_type": "markdown",
   "id": "personal-desire",
   "metadata": {},
   "source": [
    "Var代表一个特征的方差，n代表样本量，![image.png](https://www.zhihu.com/equation?tex=x_i)代表一个特征中的每个样本取值，![image-2.png](https://www.zhihu.com/equation?tex=%5Chat+x)代表这一列样本的均值。"
   ]
  },
  {
   "cell_type": "markdown",
   "id": "inappropriate-annotation",
   "metadata": {},
   "source": [
    "面试高危问题：<br>\n",
    "方差计算公式中为什么除数是n-1?<br>\n",
    "这是为了得到样本方差的无偏估计，更多大家可以自己去探索~"
   ]
  },
  {
   "cell_type": "markdown",
   "id": "related-jacket",
   "metadata": {},
   "source": [
    "### 2.1 降维究竟是怎样实现？"
   ]
  },
  {
   "cell_type": "markdown",
   "id": "traditional-implement",
   "metadata": {},
   "source": [
    "class sklearn.decomposition.PCA(n_components=None, copy=True, whiten=False, svd_solver=’auto’, tol=0.0, iterated_power=’auto’, random_state=None)"
   ]
  },
  {
   "cell_type": "markdown",
   "id": "loving-paradise",
   "metadata": {},
   "source": [
    "PCA作为矩阵分解算法的核心算法，其实没有太多参数，但不幸的是每个参数的意义和运用都很难，因为几乎每个参数都涉及到高深的数学原理。为了参数的运用和意义变得明朗，我们来看一组简单的二维数据的降维。"
   ]
  },
  {
   "cell_type": "markdown",
   "id": "international-rainbow",
   "metadata": {},
   "source": [
    "![image.png](https://pic1.zhimg.com/80/v2-ccd755ce0fedb51bf8200846c832276c_720w.jpg)"
   ]
  },
  {
   "cell_type": "markdown",
   "id": "chinese-donna",
   "metadata": {},
   "source": [
    "我们现在有一组简单的数据，有特征x1和x2，三个样本数据的坐标点分别为(1,1)，(2,2)，(3,3)。我们可以让x1和x2分别作为两个特征向量，很轻松地用一个二维平面来描述这组数据。这组数据现在每个特征的均值都为2，方差则等于："
   ]
  },
  {
   "cell_type": "markdown",
   "id": "killing-completion",
   "metadata": {},
   "source": [
    "![image.png](https://www.zhihu.com/equation?tex=x1%5C_var+%3D+x2%5C_var+%3D+%5Cfrac%7B%281-2%29%5E2+%2B+%282-2%29%5E2+%2B+%283-2%29%5E2%7D%7B2%7D+%3D+1%5C%5C)"
   ]
  },
  {
   "cell_type": "markdown",
   "id": "infrared-seller",
   "metadata": {},
   "source": [
    "每个特征的数据一模一样，因此方差也都为1，数据的方差总和是2。<br>\n",
    "<br>\n",
    "现在我们的目标是：只用一个特征向量来描述这组数据，即将二维数据降为一维数据，并且尽可能地保留信息量，即让数据的总方差尽量靠近2。于是，我们将原本的直角坐标系逆时针旋转45°，形成了新的特征向量x1\\*和x2\\*组成的新平面，在这个新平面中，三个样本数据的坐标点可以表示为，，。可以注意到，x2\\*上的数值此时都变成了0，因此x2\\*明显不带有任何有效信息了（此时x2\\*的方差也为0了）。此时，x1\\*特征上的数据均值是，而方差则可表示成："
   ]
  },
  {
   "cell_type": "markdown",
   "id": "heated-bibliography",
   "metadata": {},
   "source": [
    "![image.png](https://www.zhihu.com/equation?tex=x2%5E%2A%5C_var+%3D+%5Cfrac%7B%28%5Csqrt%7B2%7D+-+2%5Csqrt%7B2%7D%29%5E2%2B%282%5Csqrt%7B2%7D+-+2%5Csqrt%7B2%7D%29%5E2%2B%283%5Csqrt%7B2%7D+-+2%5Csqrt%7B2%7D%29%5E2%7D%7B2%7D+%3D+2%5C%5C)"
   ]
  },
  {
   "cell_type": "markdown",
   "id": "starting-miami",
   "metadata": {},
   "source": [
    "x1\\*上的数据均值为0，方差也为0。<br>\n",
    "<br>\n",
    "此时，我们根据信息含量的排序，取信息含量最大的一个特征，因为我们想要的是一维数据。所以我们可以将x2\\*删除，同时也删除图中的x2\\*特征向量，剩下的x1\\*就代表了曾经需要两个特征来代表的三个样本点。通过旋转原有特征向量组成的坐标轴来找到新特征向量和新坐标平面，我们将三个样本点的信息压缩到了一条直线上，实现了二维变一维，并且尽量保留原始数据的信息。一个成功的降维，就实现了。"
   ]
  },
  {
   "cell_type": "markdown",
   "id": "effective-marine",
   "metadata": {},
   "source": [
    "![image.png](https://pic1.zhimg.com/80/v2-ccd755ce0fedb51bf8200846c832276c_720w.jpg)"
   ]
  },
  {
   "cell_type": "markdown",
   "id": "educated-canadian",
   "metadata": {},
   "source": [
    "不难注意到，在这个降维过程中，有几个重要的步骤："
   ]
  },
  {
   "cell_type": "markdown",
   "id": "specialized-welsh",
   "metadata": {},
   "source": [
    "![image.png](https://pic3.zhimg.com/80/v2-c2d9495001dce9f721160d3577e293c6_720w.jpg)"
   ]
  },
  {
   "cell_type": "markdown",
   "id": "loose-switch",
   "metadata": {},
   "source": [
    "在步骤3当中，我们用来**找出n个新特征向量，让数据能够被压缩到少数特征上并且总信息量不损失太多的技术就是矩阵分解。** PCA和SVD是两种不同的降维算法，但他们都遵从上面的过程来实现降维，只是两种算法中矩阵分解的方法不同，信息量的衡量指标不同罢了。PCA使用方差作为信息量的衡量指标，并且特征值分解来找出空间V。降维时，它会通过一系列数学的神秘操作（比如说，产生协方差矩阵）将特征矩阵X分解为以下三个矩阵，其中和是辅助的矩阵，Σ是一个对角矩阵（即除了对角线上有值，其他位置都是0的矩阵），其对角线上的元素就是方差。降维完成之后，PCA找到的每个新特征向量就叫做“主成分”，而被丢弃的特征向量被认为信息量很少，这些信息很可能就是噪音。"
   ]
  },
  {
   "cell_type": "markdown",
   "id": "owned-macro",
   "metadata": {},
   "source": [
    "![image.png](https://www.zhihu.com/equation?tex=X+%E2%86%92%E6%95%B0%E5%AD%A6%E7%A5%9E%E7%A7%98%E7%9A%84%E5%AE%87%E5%AE%99%E2%86%92+Q%5CSigma+Q%5E%7B-1%7D%5C%5C)"
   ]
  },
  {
   "cell_type": "markdown",
   "id": "single-identification",
   "metadata": {},
   "source": [
    "而SVD使用奇异值分解来找出空间V，其中Σ也是一个对角矩阵，不过它对角线上的元素是奇异值，这也是SVD中用来衡量特征上的信息量的指标。U和V^{T}分别是左奇异矩阵和右奇异矩阵，也都是辅助矩阵。"
   ]
  },
  {
   "cell_type": "markdown",
   "id": "affecting-cartoon",
   "metadata": {},
   "source": [
    "![image.png](https://www.zhihu.com/equation?tex=X+%E2%86%92%E5%8F%A6%E4%B8%80%E4%B8%AA%E6%95%B0%E5%AD%A6%E7%A5%9E%E7%A7%98%E7%9A%84%E5%AE%87%E5%AE%99%E2%86%92+U%5CSigma+V%5E%7BT%7D%5C%5C)"
   ]
  },
  {
   "cell_type": "markdown",
   "id": "legal-albany",
   "metadata": {},
   "source": [
    "在数学原理中，无论是PCA和SVD都需要遍历所有的特征和样本来计算信息量指标。并且在矩阵分解的过程之中，会产生比原来的特征矩阵更大的矩阵，比如原数据的结构是(m,n)，在矩阵分解中为了找出最佳新特征空间V，可能需要产生(n,n)，(m,m)大小的矩阵，还需要产生协方差矩阵去计算更多的信息。而现在无论是Python还是R，或者其他的任何语言，在大型矩阵运算上都不是特别擅长，无论代码如何简化，我们不可避免地要等待计算机去完成这个非常庞大的数学计算过程。因此，降维算法的计算量很大，运行比较缓慢，但无论如何，它们的功能无可替代，它们依然是机器学习领域的宠儿。"
   ]
  },
  {
   "cell_type": "markdown",
   "id": "harmful-insider",
   "metadata": {},
   "source": [
    "**思考：PCA和特征选择技术都是特征工程的一部分，它们有什么不同？**<br>\n",
    "<br>\n",
    "特征工程中有三种方式：特征提取，特征创造和特征选择。仔细观察上面的降维例子和上周我们讲解过的特征选择，你发现有什么不同了吗?<br>\n",
    "特征选择是从已存在的特征中选取携带信息最多的，选完之后的特征依然具有可解释性，我们依然知道这个特征在原数据的哪个位置，代表着原数据上的什么含义。<br>\n",
    "而PCA，是将已存在的特征进行压缩，降维完毕后的特征不是原本的特征矩阵中的任何一个特征，而是通过某些方式组合起来的新特征。通常来说，**在新的特征矩阵生成之前，我们无法知晓PCA都建立了怎样的新特征向量，新特征矩阵生成之后也不具有可读性，** 我们无法判断新特征矩阵的特征是从原数据中的什么特征组合而来，新特征虽然带有原始数据的信息，却已经不是原数据上代表着的含义了。以PCA为代表的降维算法因此是特征创造（feature creation，或feature construction）的一种。<br>\n",
    "可以想见，PCA一般不适用于探索特征和标签之间的关系的模型（如线性回归），因为无法解释的新特征和标签之间的关系不具有意义。在线性回归模型中，我们使用特征选择。"
   ]
  },
  {
   "cell_type": "markdown",
   "id": "polished-twins",
   "metadata": {},
   "source": [
    "### 2.2 重要参数n_components"
   ]
  },
  {
   "cell_type": "markdown",
   "id": "color-amsterdam",
   "metadata": {},
   "source": [
    "n_components是我们降维后需要的维度，即降维后需要保留的特征数量，降维流程中第二步里需要确认的k值，一般输入[0, min(X.shape)]范围中的整数。一说到K，大家可能都会想到，类似于KNN中的K和随机森林中的n_estimators，这是一个需要我们人为去确认的超参数，并且我们设定的数字会影响到模型的表现。如果留下的特征太多，就达不到降维的效果，如果留下的特征太少，那新特征向量可能无法容纳原始数据集中的大部分信息，因此，n_components既不能太大也不能太小。那怎么办呢？<br>\n",
    "<br>\n",
    "可以先从我们的降维目标说起：如果我们希望可视化一组数据来观察数据分布，我们往往将数据降到三维以下，很多时候是二维，即n_components的取值为2。"
   ]
  },
  {
   "cell_type": "markdown",
   "id": "arabic-calgary",
   "metadata": {},
   "source": [
    "#### 2.2.1 迷你案例：高维数据的可视化"
   ]
  },
  {
   "cell_type": "markdown",
   "id": "balanced-scheme",
   "metadata": {},
   "source": [
    "**1 调用库和模块**"
   ]
  },
  {
   "cell_type": "code",
   "execution_count": 2,
   "id": "institutional-criminal",
   "metadata": {},
   "outputs": [],
   "source": [
    "import matplotlib.pyplot as plt\n",
    "from sklearn.datasets import load_iris\n",
    "from sklearn.decomposition import PCA"
   ]
  },
  {
   "cell_type": "markdown",
   "id": "numeric-coral",
   "metadata": {},
   "source": [
    "**2 提取数据集**"
   ]
  },
  {
   "cell_type": "code",
   "execution_count": 3,
   "id": "manufactured-guard",
   "metadata": {},
   "outputs": [],
   "source": [
    "iris = load_iris()"
   ]
  },
  {
   "cell_type": "code",
   "execution_count": 4,
   "id": "about-stevens",
   "metadata": {},
   "outputs": [],
   "source": [
    "X = iris.data"
   ]
  },
  {
   "cell_type": "code",
   "execution_count": 7,
   "id": "eastern-coffee",
   "metadata": {},
   "outputs": [
    {
     "data": {
      "text/plain": [
       "(150, 4)"
      ]
     },
     "execution_count": 7,
     "metadata": {},
     "output_type": "execute_result"
    }
   ],
   "source": [
    "#作为数组，X是几维？\n",
    "X.shape"
   ]
  },
  {
   "cell_type": "code",
   "execution_count": 5,
   "id": "israeli-brazilian",
   "metadata": {},
   "outputs": [
    {
     "data": {
      "text/html": [
       "<div>\n",
       "<style scoped>\n",
       "    .dataframe tbody tr th:only-of-type {\n",
       "        vertical-align: middle;\n",
       "    }\n",
       "\n",
       "    .dataframe tbody tr th {\n",
       "        vertical-align: top;\n",
       "    }\n",
       "\n",
       "    .dataframe thead th {\n",
       "        text-align: right;\n",
       "    }\n",
       "</style>\n",
       "<table border=\"1\" class=\"dataframe\">\n",
       "  <thead>\n",
       "    <tr style=\"text-align: right;\">\n",
       "      <th></th>\n",
       "      <th>0</th>\n",
       "      <th>1</th>\n",
       "      <th>2</th>\n",
       "      <th>3</th>\n",
       "    </tr>\n",
       "  </thead>\n",
       "  <tbody>\n",
       "    <tr>\n",
       "      <th>0</th>\n",
       "      <td>5.1</td>\n",
       "      <td>3.5</td>\n",
       "      <td>1.4</td>\n",
       "      <td>0.2</td>\n",
       "    </tr>\n",
       "    <tr>\n",
       "      <th>1</th>\n",
       "      <td>4.9</td>\n",
       "      <td>3.0</td>\n",
       "      <td>1.4</td>\n",
       "      <td>0.2</td>\n",
       "    </tr>\n",
       "    <tr>\n",
       "      <th>2</th>\n",
       "      <td>4.7</td>\n",
       "      <td>3.2</td>\n",
       "      <td>1.3</td>\n",
       "      <td>0.2</td>\n",
       "    </tr>\n",
       "    <tr>\n",
       "      <th>3</th>\n",
       "      <td>4.6</td>\n",
       "      <td>3.1</td>\n",
       "      <td>1.5</td>\n",
       "      <td>0.2</td>\n",
       "    </tr>\n",
       "    <tr>\n",
       "      <th>4</th>\n",
       "      <td>5.0</td>\n",
       "      <td>3.6</td>\n",
       "      <td>1.4</td>\n",
       "      <td>0.2</td>\n",
       "    </tr>\n",
       "    <tr>\n",
       "      <th>...</th>\n",
       "      <td>...</td>\n",
       "      <td>...</td>\n",
       "      <td>...</td>\n",
       "      <td>...</td>\n",
       "    </tr>\n",
       "    <tr>\n",
       "      <th>145</th>\n",
       "      <td>6.7</td>\n",
       "      <td>3.0</td>\n",
       "      <td>5.2</td>\n",
       "      <td>2.3</td>\n",
       "    </tr>\n",
       "    <tr>\n",
       "      <th>146</th>\n",
       "      <td>6.3</td>\n",
       "      <td>2.5</td>\n",
       "      <td>5.0</td>\n",
       "      <td>1.9</td>\n",
       "    </tr>\n",
       "    <tr>\n",
       "      <th>147</th>\n",
       "      <td>6.5</td>\n",
       "      <td>3.0</td>\n",
       "      <td>5.2</td>\n",
       "      <td>2.0</td>\n",
       "    </tr>\n",
       "    <tr>\n",
       "      <th>148</th>\n",
       "      <td>6.2</td>\n",
       "      <td>3.4</td>\n",
       "      <td>5.4</td>\n",
       "      <td>2.3</td>\n",
       "    </tr>\n",
       "    <tr>\n",
       "      <th>149</th>\n",
       "      <td>5.9</td>\n",
       "      <td>3.0</td>\n",
       "      <td>5.1</td>\n",
       "      <td>1.8</td>\n",
       "    </tr>\n",
       "  </tbody>\n",
       "</table>\n",
       "<p>150 rows × 4 columns</p>\n",
       "</div>"
      ],
      "text/plain": [
       "       0    1    2    3\n",
       "0    5.1  3.5  1.4  0.2\n",
       "1    4.9  3.0  1.4  0.2\n",
       "2    4.7  3.2  1.3  0.2\n",
       "3    4.6  3.1  1.5  0.2\n",
       "4    5.0  3.6  1.4  0.2\n",
       "..   ...  ...  ...  ...\n",
       "145  6.7  3.0  5.2  2.3\n",
       "146  6.3  2.5  5.0  1.9\n",
       "147  6.5  3.0  5.2  2.0\n",
       "148  6.2  3.4  5.4  2.3\n",
       "149  5.9  3.0  5.1  1.8\n",
       "\n",
       "[150 rows x 4 columns]"
      ]
     },
     "execution_count": 5,
     "metadata": {},
     "output_type": "execute_result"
    }
   ],
   "source": [
    "#作为数据表或特征矩阵，X是几维？\n",
    "import pandas as pd\n",
    "pd.DataFrame(X)"
   ]
  },
  {
   "cell_type": "code",
   "execution_count": 6,
   "id": "harmful-specific",
   "metadata": {},
   "outputs": [],
   "source": [
    "y = iris.target"
   ]
  },
  {
   "cell_type": "code",
   "execution_count": 6,
   "id": "handmade-center",
   "metadata": {},
   "outputs": [
    {
     "data": {
      "text/plain": [
       "array([0, 0, 0, 0, 0, 0, 0, 0, 0, 0, 0, 0, 0, 0, 0, 0, 0, 0, 0, 0, 0, 0,\n",
       "       0, 0, 0, 0, 0, 0, 0, 0, 0, 0, 0, 0, 0, 0, 0, 0, 0, 0, 0, 0, 0, 0,\n",
       "       0, 0, 0, 0, 0, 0, 1, 1, 1, 1, 1, 1, 1, 1, 1, 1, 1, 1, 1, 1, 1, 1,\n",
       "       1, 1, 1, 1, 1, 1, 1, 1, 1, 1, 1, 1, 1, 1, 1, 1, 1, 1, 1, 1, 1, 1,\n",
       "       1, 1, 1, 1, 1, 1, 1, 1, 1, 1, 1, 1, 2, 2, 2, 2, 2, 2, 2, 2, 2, 2,\n",
       "       2, 2, 2, 2, 2, 2, 2, 2, 2, 2, 2, 2, 2, 2, 2, 2, 2, 2, 2, 2, 2, 2,\n",
       "       2, 2, 2, 2, 2, 2, 2, 2, 2, 2, 2, 2, 2, 2, 2, 2, 2, 2])"
      ]
     },
     "execution_count": 6,
     "metadata": {},
     "output_type": "execute_result"
    }
   ],
   "source": [
    "y"
   ]
  },
  {
   "cell_type": "markdown",
   "id": "affiliated-gauge",
   "metadata": {},
   "source": [
    "**3 建模**"
   ]
  },
  {
   "cell_type": "code",
   "execution_count": 7,
   "id": "packed-brother",
   "metadata": {},
   "outputs": [],
   "source": [
    "#调用PCA\n",
    "pca = PCA(n_components=2)           #实例化   降到2维\n",
    "pca = pca.fit(X)                    #拟合模型\n",
    "X_dr = pca.transform(X)             #获取新矩阵\n",
    "\n",
    "#也可以fit_transform一步到位\n",
    "#X_dr = PCA(2).fit_transform(X)"
   ]
  },
  {
   "cell_type": "code",
   "execution_count": 8,
   "id": "statistical-metabolism",
   "metadata": {},
   "outputs": [
    {
     "data": {
      "text/plain": [
       "(150, 2)"
      ]
     },
     "execution_count": 8,
     "metadata": {},
     "output_type": "execute_result"
    }
   ],
   "source": [
    "X_dr.shape"
   ]
  },
  {
   "cell_type": "markdown",
   "id": "expanded-pathology",
   "metadata": {},
   "source": [
    "**4 可视化**"
   ]
  },
  {
   "cell_type": "code",
   "execution_count": 9,
   "id": "professional-oracle",
   "metadata": {},
   "outputs": [
    {
     "data": {
      "text/plain": [
       "array([-2.68412563, -2.71414169, -2.88899057, -2.74534286, -2.72871654,\n",
       "       -2.28085963, -2.82053775, -2.62614497, -2.88638273, -2.6727558 ,\n",
       "       -2.50694709, -2.61275523, -2.78610927, -3.22380374, -2.64475039,\n",
       "       -2.38603903, -2.62352788, -2.64829671, -2.19982032, -2.5879864 ,\n",
       "       -2.31025622, -2.54370523, -3.21593942, -2.30273318, -2.35575405,\n",
       "       -2.50666891, -2.46882007, -2.56231991, -2.63953472, -2.63198939,\n",
       "       -2.58739848, -2.4099325 , -2.64886233, -2.59873675, -2.63692688,\n",
       "       -2.86624165, -2.62523805, -2.80068412, -2.98050204, -2.59000631,\n",
       "       -2.77010243, -2.84936871, -2.99740655, -2.40561449, -2.20948924,\n",
       "       -2.71445143, -2.53814826, -2.83946217, -2.54308575, -2.70335978])"
      ]
     },
     "execution_count": 9,
     "metadata": {},
     "output_type": "execute_result"
    }
   ],
   "source": [
    "#要将三种鸢尾花的数据分布显示在二维平面坐标系中，\n",
    "#对应的两个坐标（两个特征向量）应该是三种鸢尾花降维后的x1和x2，\n",
    "#怎样才能取出三种鸢尾花下不同的x1和x2呢？\n",
    "\n",
    "X_dr[y == 0, 0] #这里是布尔索引，看出来了么？\n",
    "\n",
    "#要展示三中分类的分布，需要对三种鸢尾花分别绘图\n",
    "#可以写成三行代码，也可以写成for循环"
   ]
  },
  {
   "cell_type": "code",
   "execution_count": 14,
   "id": "premium-patent",
   "metadata": {},
   "outputs": [
    {
     "data": {
      "image/png": "[encoded data removed]",
      "text/plain": [
       "<Figure size 432x288 with 1 Axes>"
      ]
     },
     "metadata": {
      "needs_background": "light"
     },
     "output_type": "display_data"
    }
   ],
   "source": [
    "\"\"\"\n",
    "plt.figure()\n",
    "plt.scatter(X_dr[y==0, 0], X_dr[y==0, 1], c=\"red\", label=iris.target_names[0])\n",
    "plt.scatter(X_dr[y==1, 0], X_dr[y==1, 1], c=\"black\", label=iris.target_names[1])\n",
    "plt.scatter(X_dr[y==2, 0], X_dr[y==2, 1], c=\"orange\", label=iris.target_names[2])\n",
    "plt.legend()\n",
    "plt.title('PCA of IRIS dataset')\n",
    "plt.show()\n",
    "\"\"\"\n",
    "colors = ['red', 'black', 'orange']\n",
    "iris.target_names\n",
    "\n",
    "plt.figure()\n",
    "for i in [0, 1, 2]:\n",
    "    plt.scatter(X_dr[y == i, 0]\n",
    "                ,X_dr[y == i, 1]\n",
    "                ,alpha=.7\n",
    "                ,c=colors[i]\n",
    "                ,label=iris.target_names[i]\n",
    "               )\n",
    "plt.legend()\n",
    "plt.title('PCA of IRIS dataset')\n",
    "plt.show()"
   ]
  },
  {
   "cell_type": "markdown",
   "id": "liked-worse",
   "metadata": {},
   "source": [
    "鸢尾花的分布被展现在我们眼前了，明显这是一个分簇的分布，并且每个簇之间的分布相对比较明显，也许versicolor和virginia这两种花之间会有一些分类错误，但setosa肯定不会被分错。这样的数据很容易分类，可以遇见，KNN，随机森林，神经网络，朴素贝叶斯，Adaboost这些分类器在鸢尾花数据集上，未调整的时候都可以有95%上下的准确率。"
   ]
  },
  {
   "cell_type": "markdown",
   "id": "young-wrestling",
   "metadata": {},
   "source": [
    "**5 探索降维后的数据**"
   ]
  },
  {
   "cell_type": "code",
   "execution_count": 10,
   "id": "strategic-northwest",
   "metadata": {},
   "outputs": [
    {
     "data": {
      "text/plain": [
       "array([4.22824171, 0.24267075])"
      ]
     },
     "execution_count": 10,
     "metadata": {},
     "output_type": "execute_result"
    }
   ],
   "source": [
    "#属性explained_variance_，查看降维后每个新特征向量上所带的信息量大小（可解释性方差的大小）\n",
    "pca.explained_variance_"
   ]
  },
  {
   "cell_type": "code",
   "execution_count": 11,
   "id": "frank-authorization",
   "metadata": {},
   "outputs": [
    {
     "data": {
      "text/plain": [
       "array([0.92461872, 0.05306648])"
      ]
     },
     "execution_count": 11,
     "metadata": {},
     "output_type": "execute_result"
    }
   ],
   "source": [
    "#属性explained_variance_ratio，查看降维后每个新特征向量所占的信息量占原始数据总信息量的百分比\n",
    "#又叫做可解释方差贡献率\n",
    "pca.explained_variance_ratio_\n",
    "#大部分信息都被有效地集中在了第一个特征上"
   ]
  },
  {
   "cell_type": "code",
   "execution_count": 12,
   "id": "likely-hampton",
   "metadata": {},
   "outputs": [
    {
     "data": {
      "text/plain": [
       "0.977685206318795"
      ]
     },
     "execution_count": 12,
     "metadata": {},
     "output_type": "execute_result"
    }
   ],
   "source": [
    "pca.explained_variance_ratio_.sum()"
   ]
  },
  {
   "cell_type": "markdown",
   "id": "confirmed-occurrence",
   "metadata": {},
   "source": [
    "**6 选择最好的n_components：累积可解释方差贡献率曲线**"
   ]
  },
  {
   "cell_type": "markdown",
   "id": "rough-paragraph",
   "metadata": {},
   "source": [
    "当参数n_components中不填写任何值，则默认返回min(X.shape)个特征，一般来说，样本量都会大于特征数目，所以什么都不填就相当于转换了新特征空间，但没有减少特征的个数。一般来说，不会使用这种输入方式。但我们却可以使用这种输入方式来画出累计可解释方差贡献率曲线，以此选择最好的n_components的整数取值。<br>\n",
    "<br>\n",
    "累积可解释方差贡献率曲线是一条以降维后保留的特征个数为横坐标，降维后新特征矩阵捕捉到的可解释方差贡献率为纵坐标的曲线，能够帮助我们决定n_components最好的取值。"
   ]
  },
  {
   "cell_type": "code",
   "execution_count": 13,
   "id": "pressing-quantum",
   "metadata": {},
   "outputs": [],
   "source": [
    "pca_line = PCA().fit(X)"
   ]
  },
  {
   "cell_type": "code",
   "execution_count": 14,
   "id": "paperback-subcommittee",
   "metadata": {},
   "outputs": [
    {
     "data": {
      "text/plain": [
       "array([0.92461872, 0.05306648, 0.01710261, 0.00521218])"
      ]
     },
     "execution_count": 14,
     "metadata": {},
     "output_type": "execute_result"
    }
   ],
   "source": [
    "pca_line.explained_variance_ratio_"
   ]
  },
  {
   "cell_type": "code",
   "execution_count": 16,
   "id": "exact-morocco",
   "metadata": {},
   "outputs": [
    {
     "data": {
      "text/plain": [
       "array([0.92461872, 0.97768521, 0.99478782, 1.        ])"
      ]
     },
     "execution_count": 16,
     "metadata": {},
     "output_type": "execute_result"
    }
   ],
   "source": [
    "import numpy as np\n",
    "np.cumsum(pca_line.explained_variance_ratio_)"
   ]
  },
  {
   "cell_type": "code",
   "execution_count": 17,
   "id": "express-guidance",
   "metadata": {},
   "outputs": [
    {
     "data": {
      "image/png": "[encoded data removed]",
      "text/plain": [
       "<Figure size 432x288 with 1 Axes>"
      ]
     },
     "metadata": {
      "needs_background": "light"
     },
     "output_type": "display_data"
    }
   ],
   "source": [
    "import numpy as np\n",
    "pca_line = PCA().fit(X)\n",
    "plt.plot([1,2,3,4],np.cumsum(pca_line.explained_variance_ratio_))\n",
    "plt.xticks([1,2,3,4]) #这是为了限制坐标轴显示为整数\n",
    "plt.xlabel(\"number of components after dimension reduction\")\n",
    "plt.ylabel(\"cumulative explained variance ratio\")\n",
    "plt.show()"
   ]
  },
  {
   "cell_type": "markdown",
   "id": "legislative-neighborhood",
   "metadata": {},
   "source": [
    "#### 2.2.2 最大似然估计自选超参数"
   ]
  },
  {
   "cell_type": "markdown",
   "id": "double-carbon",
   "metadata": {},
   "source": [
    "除了输入整数，n_components还有哪些选择呢？之前我们提到过，矩阵分解的理论发展在业界独树一帜，勤奋智慧的数学大神Minka, T.P.在麻省理工学院媒体实验室做研究时找出了让PCA用最大似然估计(maximum likelihood estimation)自选超参数的方法，输入“mle”作为n_components的参数输入，就可以调用这种方法。"
   ]
  },
  {
   "cell_type": "code",
   "execution_count": 18,
   "id": "funny-helicopter",
   "metadata": {},
   "outputs": [],
   "source": [
    "pca_mle = PCA(n_components=\"mle\") #当特征较多时不建议用\n",
    "pca_mle = pca_mle.fit(X)\n",
    "X_mle = pca_mle.transform(X)"
   ]
  },
  {
   "cell_type": "code",
   "execution_count": 19,
   "id": "ordinary-command",
   "metadata": {},
   "outputs": [
    {
     "data": {
      "text/plain": [
       "array([[-2.68412563,  0.31939725, -0.02791483],\n",
       "       [-2.71414169, -0.17700123, -0.21046427],\n",
       "       [-2.88899057, -0.14494943,  0.01790026],\n",
       "       [-2.74534286, -0.31829898,  0.03155937],\n",
       "       [-2.72871654,  0.32675451,  0.09007924],\n",
       "       [-2.28085963,  0.74133045,  0.16867766],\n",
       "       [-2.82053775, -0.08946138,  0.25789216],\n",
       "       [-2.62614497,  0.16338496, -0.02187932],\n",
       "       [-2.88638273, -0.57831175,  0.02075957],\n",
       "       [-2.6727558 , -0.11377425, -0.19763272],\n",
       "       [-2.50694709,  0.6450689 , -0.07531801],\n",
       "       [-2.61275523,  0.01472994,  0.10215026],\n",
       "       [-2.78610927, -0.235112  , -0.20684443],\n",
       "       [-3.22380374, -0.51139459,  0.06129967],\n",
       "       [-2.64475039,  1.17876464, -0.15162752],\n",
       "       [-2.38603903,  1.33806233,  0.2777769 ],\n",
       "       [-2.62352788,  0.81067951,  0.13818323],\n",
       "       [-2.64829671,  0.31184914,  0.02666832],\n",
       "       [-2.19982032,  0.87283904, -0.12030552],\n",
       "       [-2.5879864 ,  0.51356031,  0.21366517],\n",
       "       [-2.31025622,  0.39134594, -0.23944404],\n",
       "       [-2.54370523,  0.43299606,  0.20845723],\n",
       "       [-3.21593942,  0.13346807,  0.29239675],\n",
       "       [-2.30273318,  0.09870885,  0.03912326],\n",
       "       [-2.35575405, -0.03728186,  0.12502108],\n",
       "       [-2.50666891, -0.14601688, -0.25342004],\n",
       "       [-2.46882007,  0.13095149,  0.09491058],\n",
       "       [-2.56231991,  0.36771886, -0.07849421],\n",
       "       [-2.63953472,  0.31203998, -0.1459089 ],\n",
       "       [-2.63198939, -0.19696122,  0.04077108],\n",
       "       [-2.58739848, -0.20431849, -0.07722299],\n",
       "       [-2.4099325 ,  0.41092426, -0.14552497],\n",
       "       [-2.64886233,  0.81336382,  0.22566915],\n",
       "       [-2.59873675,  1.09314576,  0.15781081],\n",
       "       [-2.63692688, -0.12132235, -0.14304958],\n",
       "       [-2.86624165,  0.06936447, -0.16433231],\n",
       "       [-2.62523805,  0.59937002, -0.26835038],\n",
       "       [-2.80068412,  0.26864374,  0.09369908],\n",
       "       [-2.98050204, -0.48795834,  0.07292705],\n",
       "       [-2.59000631,  0.22904384, -0.0800823 ],\n",
       "       [-2.77010243,  0.26352753,  0.07724769],\n",
       "       [-2.84936871, -0.94096057, -0.34923038],\n",
       "       [-2.99740655, -0.34192606,  0.19250921],\n",
       "       [-2.40561449,  0.18887143,  0.26386795],\n",
       "       [-2.20948924,  0.43666314,  0.29874275],\n",
       "       [-2.71445143, -0.2502082 , -0.09767814],\n",
       "       [-2.53814826,  0.50377114,  0.16670564],\n",
       "       [-2.83946217, -0.22794557,  0.08372685],\n",
       "       [-2.54308575,  0.57941002, -0.01711502],\n",
       "       [-2.70335978,  0.10770608, -0.08929401],\n",
       "       [ 1.28482569,  0.68516047, -0.40656803],\n",
       "       [ 0.93248853,  0.31833364, -0.01801419],\n",
       "       [ 1.46430232,  0.50426282, -0.33832576],\n",
       "       [ 0.18331772, -0.82795901, -0.17959139],\n",
       "       [ 1.08810326,  0.07459068, -0.3077579 ],\n",
       "       [ 0.64166908, -0.41824687,  0.04107609],\n",
       "       [ 1.09506066,  0.28346827,  0.16981024],\n",
       "       [-0.74912267, -1.00489096,  0.01230292],\n",
       "       [ 1.04413183,  0.2283619 , -0.41533608],\n",
       "       [-0.0087454 , -0.72308191,  0.28114143],\n",
       "       [-0.50784088, -1.26597119, -0.26981718],\n",
       "       [ 0.51169856, -0.10398124,  0.13054775],\n",
       "       [ 0.26497651, -0.55003646, -0.69414683],\n",
       "       [ 0.98493451, -0.12481785, -0.06211441],\n",
       "       [-0.17392537, -0.25485421,  0.09045769],\n",
       "       [ 0.92786078,  0.46717949, -0.31462098],\n",
       "       [ 0.66028376, -0.35296967,  0.32802753],\n",
       "       [ 0.23610499, -0.33361077, -0.27116184],\n",
       "       [ 0.94473373, -0.54314555, -0.49951905],\n",
       "       [ 0.04522698, -0.58383438, -0.2350021 ],\n",
       "       [ 1.11628318, -0.08461685,  0.45962099],\n",
       "       [ 0.35788842, -0.06892503, -0.22985389],\n",
       "       [ 1.29818388, -0.32778731, -0.34785435],\n",
       "       [ 0.92172892, -0.18273779, -0.23107178],\n",
       "       [ 0.71485333,  0.14905594, -0.32180094],\n",
       "       [ 0.90017437,  0.32850447, -0.31620907],\n",
       "       [ 1.33202444,  0.24444088, -0.52170278],\n",
       "       [ 1.55780216,  0.26749545, -0.16492098],\n",
       "       [ 0.81329065, -0.1633503 ,  0.0354245 ],\n",
       "       [-0.30558378, -0.36826219, -0.31849158],\n",
       "       [-0.06812649, -0.70517213, -0.24421381],\n",
       "       [-0.18962247, -0.68028676, -0.30642056],\n",
       "       [ 0.13642871, -0.31403244, -0.17724277],\n",
       "       [ 1.38002644, -0.42095429,  0.01616713],\n",
       "       [ 0.58800644, -0.48428742,  0.4444335 ],\n",
       "       [ 0.80685831,  0.19418231,  0.38896306],\n",
       "       [ 1.22069088,  0.40761959, -0.23716701],\n",
       "       [ 0.81509524, -0.37203706, -0.61472084],\n",
       "       [ 0.24595768, -0.2685244 ,  0.18836681],\n",
       "       [ 0.16641322, -0.68192672, -0.06000923],\n",
       "       [ 0.46480029, -0.67071154, -0.02430686],\n",
       "       [ 0.8908152 , -0.03446444, -0.00994693],\n",
       "       [ 0.23054802, -0.40438585, -0.22941024],\n",
       "       [-0.70453176, -1.01224823, -0.10569115],\n",
       "       [ 0.35698149, -0.50491009,  0.01661717],\n",
       "       [ 0.33193448, -0.21265468,  0.08320429],\n",
       "       [ 0.37621565, -0.29321893,  0.07799635],\n",
       "       [ 0.64257601,  0.01773819, -0.20539497],\n",
       "       [-0.90646986, -0.75609337, -0.01259965],\n",
       "       [ 0.29900084, -0.34889781,  0.01058166],\n",
       "       [ 2.53119273, -0.00984911,  0.76016543],\n",
       "       [ 1.41523588, -0.57491635,  0.29632253],\n",
       "       [ 2.61667602,  0.34390315, -0.11078788],\n",
       "       [ 1.97153105, -0.1797279 ,  0.10842466],\n",
       "       [ 2.35000592, -0.04026095,  0.28538956],\n",
       "       [ 3.39703874,  0.55083667, -0.34843756],\n",
       "       [ 0.52123224, -1.19275873,  0.5456593 ],\n",
       "       [ 2.93258707,  0.3555    , -0.42023994],\n",
       "       [ 2.32122882, -0.2438315 , -0.34830439],\n",
       "       [ 2.91675097,  0.78279195,  0.42333542],\n",
       "       [ 1.66177415,  0.24222841,  0.24244019],\n",
       "       [ 1.80340195, -0.21563762, -0.03764817],\n",
       "       [ 2.1655918 ,  0.21627559,  0.03332664],\n",
       "       [ 1.34616358, -0.77681835,  0.28190288],\n",
       "       [ 1.58592822, -0.53964071,  0.62902933],\n",
       "       [ 1.90445637,  0.11925069,  0.47963982],\n",
       "       [ 1.94968906,  0.04194326,  0.04418617],\n",
       "       [ 3.48705536,  1.17573933,  0.13389487],\n",
       "       [ 3.79564542,  0.25732297, -0.51376776],\n",
       "       [ 1.30079171, -0.76114964, -0.34499504],\n",
       "       [ 2.42781791,  0.37819601,  0.21911932],\n",
       "       [ 1.19900111, -0.60609153,  0.51185551],\n",
       "       [ 3.49992004,  0.4606741 , -0.57318224],\n",
       "       [ 1.38876613, -0.20439933, -0.06452276],\n",
       "       [ 2.2754305 ,  0.33499061,  0.28615009],\n",
       "       [ 2.61409047,  0.56090136, -0.20553452],\n",
       "       [ 1.25850816, -0.17970479,  0.0458477 ],\n",
       "       [ 1.29113206, -0.11666865,  0.23125646],\n",
       "       [ 2.12360872, -0.20972948,  0.15418002],\n",
       "       [ 2.38800302,  0.4646398 , -0.44953019],\n",
       "       [ 2.84167278,  0.37526917, -0.49889808],\n",
       "       [ 3.23067366,  1.37416509, -0.11454821],\n",
       "       [ 2.15943764, -0.21727758,  0.20876317],\n",
       "       [ 1.44416124, -0.14341341, -0.15323389],\n",
       "       [ 1.78129481, -0.49990168, -0.17287519],\n",
       "       [ 3.07649993,  0.68808568, -0.33559229],\n",
       "       [ 2.14424331,  0.1400642 ,  0.73487894],\n",
       "       [ 1.90509815,  0.04930053,  0.16218024],\n",
       "       [ 1.16932634, -0.16499026,  0.28183584],\n",
       "       [ 2.10761114,  0.37228787,  0.02729113],\n",
       "       [ 2.31415471,  0.18365128,  0.32269375],\n",
       "       [ 1.9222678 ,  0.40920347,  0.1135866 ],\n",
       "       [ 1.41523588, -0.57491635,  0.29632253],\n",
       "       [ 2.56301338,  0.2778626 ,  0.29256952],\n",
       "       [ 2.41874618,  0.3047982 ,  0.50448266],\n",
       "       [ 1.94410979,  0.1875323 ,  0.17782509],\n",
       "       [ 1.52716661, -0.37531698, -0.12189817],\n",
       "       [ 1.76434572,  0.07885885,  0.13048163],\n",
       "       [ 1.90094161,  0.11662796,  0.72325156],\n",
       "       [ 1.39018886, -0.28266094,  0.36290965]])"
      ]
     },
     "execution_count": 19,
     "metadata": {},
     "output_type": "execute_result"
    }
   ],
   "source": [
    "X_mle\n",
    "#可以发现，mle为我们自动选择了3个特征"
   ]
  },
  {
   "cell_type": "code",
   "execution_count": 20,
   "id": "mature-grant",
   "metadata": {},
   "outputs": [
    {
     "data": {
      "text/plain": [
       "0.9947878161267247"
      ]
     },
     "execution_count": 20,
     "metadata": {},
     "output_type": "execute_result"
    }
   ],
   "source": [
    "pca_mle.explained_variance_ratio_.sum()\n",
    "#得到了比设定2个特征时更高的信息含量，对于鸢尾花这个很小的数据集来说，\n",
    "#3个特征对应这么高的信息含量，并不需要去纠结于只保留2个特征，\n",
    "#毕竟三个特征也可以可视化"
   ]
  },
  {
   "cell_type": "markdown",
   "id": "under-clearing",
   "metadata": {},
   "source": [
    "#### 2.2.3 按信息量占比选超参数"
   ]
  },
  {
   "cell_type": "markdown",
   "id": "floral-disney",
   "metadata": {},
   "source": [
    "输入[0,1]之间的浮点数，并且让参数svd_solver =='full'，表示希望降维后的总解释性方差占比大于n_components指定的百分比，即是说，希望保留百分之多少的信息量。比如说，如果我们希望保留97%的信息量，就可以输入n_components = 0.97，PCA会自动选出能够让保留的信息量超过97%的特征数量。"
   ]
  },
  {
   "cell_type": "code",
   "execution_count": 21,
   "id": "medium-raising",
   "metadata": {},
   "outputs": [
    {
     "data": {
      "text/plain": [
       "array([0.92461872, 0.05306648])"
      ]
     },
     "execution_count": 21,
     "metadata": {},
     "output_type": "execute_result"
    }
   ],
   "source": [
    "pca_f = PCA(n_components=0.97,svd_solver=\"full\")\n",
    "pca_f = pca_f.fit(X)\n",
    "X_f = pca_f.transform(X)\n",
    "\n",
    "pca_f.explained_variance_ratio_"
   ]
  },
  {
   "cell_type": "markdown",
   "id": "naughty-geology",
   "metadata": {},
   "source": [
    "### 2.3 PCA中的SVD"
   ]
  },
  {
   "cell_type": "markdown",
   "id": "generous-reader",
   "metadata": {},
   "source": [
    "#### 2.3.1 PCA中的SVD哪里来？"
   ]
  },
  {
   "cell_type": "markdown",
   "id": "metric-burden",
   "metadata": {},
   "source": [
    "细心的小伙伴可能注意到了，svd_solver是奇异值分解器的意思，为什么PCA算法下面会有有关奇异值分解的参数？不是两种算法么？我们之前曾经提到过，PCA和SVD涉及了大量的矩阵计算，两者都是运算量很大的模型，但其实，SVD有一种惊人的数学性质，即是它可以跳过数学神秘的宇宙，不计算协方差矩阵，直接找出一个新特征向量组成的n维空间，而这个n维空间就是奇异值分解后的右矩阵（所以一开始在讲解降维过程时，我们说”生成新特征向量组成的空间V\"，并非巧合，而是特指奇异值分解中的矩阵）"
   ]
  },
  {
   "attachments": {},
   "cell_type": "markdown",
   "id": "gentle-hearts",
   "metadata": {},
   "source": [
    "![image.png](https://www.zhihu.com/equation?tex=%E4%BC%A0%E7%BB%9F%E5%8D%B0%E8%B1%A1%E4%B8%AD%E7%9A%84SVD%EF%BC%9AX+%E2%86%92%E6%95%B0%E5%AD%A6%E7%A5%9E%E7%A7%98%E7%9A%84%E5%AE%87%E5%AE%99%E2%86%92+U%5CSigma+V%5E%7BT%7D%5C%5C%E5%85%B6%E5%AE%9E%E4%BC%9A%E5%BC%80%E6%8C%82%E7%9A%84SVD%EF%BC%9AX+%E2%86%92+%E4%B8%80%E4%B8%AA%E6%AF%94%E8%B5%B7PCA%E7%AE%80%E5%8C%96%E9%9D%9E%E5%B8%B8%E5%A4%9A%E7%9A%84%E6%95%B0%E5%AD%A6%E8%BF%87%E7%A8%8B+%E2%86%92V%5E%7BT%7D%5C%5C)"
   ]
  },
  {
   "cell_type": "markdown",
   "id": "moving-arctic",
   "metadata": {},
   "source": [
    "右奇异矩阵有着如下性质："
   ]
  },
  {
   "attachments": {},
   "cell_type": "markdown",
   "id": "meaning-favor",
   "metadata": {},
   "source": [
    "![image.png](https://www.zhihu.com/equation?tex=X_%7Bdr%7D+%3D+X+%2A+V%5B%3Ak%5D%5ET%5C%5C)"
   ]
  },
  {
   "attachments": {},
   "cell_type": "markdown",
   "id": "promotional-mainstream",
   "metadata": {},
   "source": [
    "k就是n_components，是我们降维后希望得到的维度。若X为(m,n)的特征矩阵， ![image.png](https://www.zhihu.com/equation?tex=V%5E%7BT%7D)就是结构为(n,n)的矩阵，取这个矩阵的前k行（进行切片），即将V转换为结构为(k,n)的矩阵。而 ![image-2.png](https://www.zhihu.com/equation?tex=V_%7B%28k%2Cn%29%7D%5ET)与原特征矩阵X相乘，即可得到降维后的特征矩阵X_dr。这是说，**奇异值分解可以不计算协方差矩阵等等结构复杂计算冗长的矩阵，就直接求出新特征空间和降维后的特征矩阵。**<br>\n",
    "<br>\n",
    "简而言之，SVD在矩阵分解中的过程比PCA简单快速，虽然两个算法都走一样的分解流程，但SVD可以作弊耍赖直接算出V。但是遗憾的是，SVD的信息量衡量指标比较复杂，要理解”奇异值“远不如理解”方差“来得容易，因此，sklearn将降维流程拆成了两部分：一部分是计算特征空间V，由奇异值分解完成，另一部分是映射数据和求解新特征矩阵，由主成分分析完成，实现了用SVD的性质减少计算量，却让信息量的评估指标是方差，具体流程如下图："
   ]
  },
  {
   "attachments": {},
   "cell_type": "markdown",
   "id": "agricultural-correspondence",
   "metadata": {},
   "source": [
    "![image.png](https://pic1.zhimg.com/80/v2-9ef736f68257abe16e04cf2f378de29c_720w.jpg)"
   ]
  },
  {
   "attachments": {},
   "cell_type": "markdown",
   "id": "charged-jonathan",
   "metadata": {},
   "source": [
    "![image.png](./images/24.png)"
   ]
  },
  {
   "cell_type": "markdown",
   "id": "still-disney",
   "metadata": {},
   "source": [
    "讲到这里，相信大家就能够理解，为什么PCA的类里会包含控制SVD分解器的参数了。"
   ]
  },
  {
   "attachments": {},
   "cell_type": "markdown",
   "id": "musical-gates",
   "metadata": {},
   "source": [
    "![image.png](./images/23.png)"
   ]
  },
  {
   "cell_type": "code",
   "execution_count": 22,
   "id": "prescription-celtic",
   "metadata": {},
   "outputs": [
    {
     "data": {
      "text/plain": [
       "array([[ 0.36138659, -0.08452251,  0.85667061,  0.3582892 ],\n",
       "       [ 0.65658877,  0.73016143, -0.17337266, -0.07548102]])"
      ]
     },
     "execution_count": 22,
     "metadata": {},
     "output_type": "execute_result"
    }
   ],
   "source": [
    "PCA(2).fit(X).components_"
   ]
  },
  {
   "cell_type": "code",
   "execution_count": 23,
   "id": "logical-perception",
   "metadata": {},
   "outputs": [
    {
     "data": {
      "text/plain": [
       "(2, 4)"
      ]
     },
     "execution_count": 23,
     "metadata": {},
     "output_type": "execute_result"
    }
   ],
   "source": [
    "PCA(2).fit(X).components_.shape #V(k,n)"
   ]
  },
  {
   "cell_type": "markdown",
   "id": "novel-layout",
   "metadata": {},
   "source": [
    "#### 2.3.2重要参数svd_solver与random_state"
   ]
  },
  {
   "attachments": {},
   "cell_type": "markdown",
   "id": "curious-gather",
   "metadata": {},
   "source": [
    "![image.png](./images/25.png)"
   ]
  },
  {
   "attachments": {},
   "cell_type": "markdown",
   "id": "written-philip",
   "metadata": {},
   "source": [
    "![image.png](./images/26.png)"
   ]
  },
  {
   "attachments": {},
   "cell_type": "markdown",
   "id": "dependent-apartment",
   "metadata": {},
   "source": [
    "![image.png](./images/27.png)"
   ]
  },
  {
   "attachments": {},
   "cell_type": "markdown",
   "id": "young-branch",
   "metadata": {},
   "source": [
    "![image.png](./images/28.png)"
   ]
  },
  {
   "cell_type": "markdown",
   "id": "unsigned-working",
   "metadata": {},
   "source": [
    "![image.png](./images/29.png)"
   ]
  },
  {
   "cell_type": "markdown",
   "id": "coordinated-wrestling",
   "metadata": {},
   "source": [
    "#### 2.3.3重要属性components_"
   ]
  },
  {
   "attachments": {},
   "cell_type": "markdown",
   "id": "historical-bibliography",
   "metadata": {},
   "source": [
    "![image.png](./images/30.png)"
   ]
  },
  {
   "attachments": {},
   "cell_type": "markdown",
   "id": "hungarian-expression",
   "metadata": {},
   "source": [
    "![image.png](./images/31.png)"
   ]
  },
  {
   "cell_type": "markdown",
   "id": "turned-chess",
   "metadata": {},
   "source": [
    "#### 2.3.4人脸识别中属性components_的运用"
   ]
  },
  {
   "cell_type": "markdown",
   "id": "attended-prince",
   "metadata": {},
   "source": [
    "**1、导入需要的库和模块**"
   ]
  },
  {
   "cell_type": "code",
   "execution_count": 24,
   "id": "psychological-powell",
   "metadata": {},
   "outputs": [],
   "source": [
    "from sklearn.datasets import fetch_lfw_people\n",
    "from sklearn.decomposition import PCA\n",
    "import matplotlib.pyplot as plt\n",
    "import numpy as np"
   ]
  },
  {
   "cell_type": "markdown",
   "id": "threaded-davis",
   "metadata": {},
   "source": [
    "**2、实例化数据集，探索数据**"
   ]
  },
  {
   "cell_type": "code",
   "execution_count": 25,
   "id": "final-shoulder",
   "metadata": {},
   "outputs": [],
   "source": [
    "faces = fetch_lfw_people(min_faces_per_person=60) #实例化"
   ]
  },
  {
   "cell_type": "code",
   "execution_count": 26,
   "id": "considerable-limit",
   "metadata": {},
   "outputs": [
    {
     "data": {
      "text/plain": [
       "(1348, 62, 47)"
      ]
     },
     "execution_count": 26,
     "metadata": {},
     "output_type": "execute_result"
    }
   ],
   "source": [
    "faces.images.shape"
   ]
  },
  {
   "cell_type": "code",
   "execution_count": 27,
   "id": "double-interpretation",
   "metadata": {},
   "outputs": [
    {
     "data": {
      "text/plain": [
       "(1348, 2914)"
      ]
     },
     "execution_count": 27,
     "metadata": {},
     "output_type": "execute_result"
    }
   ],
   "source": [
    "faces.data.shape"
   ]
  },
  {
   "cell_type": "code",
   "execution_count": 28,
   "id": "duplicate-edwards",
   "metadata": {},
   "outputs": [],
   "source": [
    "X = faces.data"
   ]
  },
  {
   "cell_type": "code",
   "execution_count": 49,
   "id": "premier-disabled",
   "metadata": {},
   "outputs": [
    {
     "data": {
      "text/plain": [
       "(1348, 2914)"
      ]
     },
     "execution_count": 49,
     "metadata": {},
     "output_type": "execute_result"
    }
   ],
   "source": [
    "X.shape"
   ]
  },
  {
   "cell_type": "markdown",
   "id": "nonprofit-destiny",
   "metadata": {},
   "source": [
    "**3、看看图像什么样？将原特征矩阵进行可视化**"
   ]
  },
  {
   "cell_type": "code",
   "execution_count": 29,
   "id": "compatible-amount",
   "metadata": {},
   "outputs": [
    {
     "data": {
      "text/plain": [
       "<matplotlib.image.AxesImage at 0x567a588>"
      ]
     },
     "execution_count": 29,
     "metadata": {},
     "output_type": "execute_result"
    },
    {
     "data": {
      "image/png": "[encoded data removed]",
      "text/plain": [
       "<Figure size 576x288 with 20 Axes>"
      ]
     },
     "metadata": {},
     "output_type": "display_data"
    }
   ],
   "source": [
    "#数据本身是图像，和数据本身只是数字，使用可视化方法不同\n",
    "\n",
    "#创建画布和子图对象\n",
    "fig,axes = plt.subplots(4,5\n",
    "                       ,figsize=(8,4)\n",
    "                       ,subplot_kw={\"xticks\":[],\"yticks\":[]} #显示不要坐标轴\n",
    "                       )\n",
    "axes[0][0].imshow(faces.images[0,:,:])"
   ]
  },
  {
   "cell_type": "code",
   "execution_count": 30,
   "id": "plastic-india",
   "metadata": {},
   "outputs": [
    {
     "data": {
      "image/png": "[encoded data removed]",
      "text/plain": [
       "<Figure size 576x288 with 20 Axes>"
      ]
     },
     "execution_count": 30,
     "metadata": {},
     "output_type": "execute_result"
    }
   ],
   "source": [
    "fig"
   ]
  },
  {
   "cell_type": "code",
   "execution_count": 31,
   "id": "first-venture",
   "metadata": {},
   "outputs": [
    {
     "data": {
      "text/plain": [
       "array([[<AxesSubplot:>, <AxesSubplot:>, <AxesSubplot:>, <AxesSubplot:>,\n",
       "        <AxesSubplot:>],\n",
       "       [<AxesSubplot:>, <AxesSubplot:>, <AxesSubplot:>, <AxesSubplot:>,\n",
       "        <AxesSubplot:>],\n",
       "       [<AxesSubplot:>, <AxesSubplot:>, <AxesSubplot:>, <AxesSubplot:>,\n",
       "        <AxesSubplot:>],\n",
       "       [<AxesSubplot:>, <AxesSubplot:>, <AxesSubplot:>, <AxesSubplot:>,\n",
       "        <AxesSubplot:>]], dtype=object)"
      ]
     },
     "execution_count": 31,
     "metadata": {},
     "output_type": "execute_result"
    }
   ],
   "source": [
    "axes\n",
    "#不难发现，axes中的一个对象对应fig中的一个空格\n",
    "#我们希望，在每一个子图对象中填充图像（共24张图），\n",
    "#因此我们需要写一个在子图对象中遍历的循环"
   ]
  },
  {
   "cell_type": "code",
   "execution_count": 32,
   "id": "optical-gabriel",
   "metadata": {},
   "outputs": [
    {
     "data": {
      "text/plain": [
       "(4, 5)"
      ]
     },
     "execution_count": 32,
     "metadata": {},
     "output_type": "execute_result"
    }
   ],
   "source": [
    "axes.shape #(4,5)"
   ]
  },
  {
   "attachments": {},
   "cell_type": "markdown",
   "id": "shaped-plasma",
   "metadata": {},
   "source": [
    "![image.png](./images/32.png)"
   ]
  },
  {
   "cell_type": "code",
   "execution_count": 33,
   "id": "medieval-paper",
   "metadata": {},
   "outputs": [
    {
     "data": {
      "text/plain": [
       "<AxesSubplot:>"
      ]
     },
     "execution_count": 33,
     "metadata": {},
     "output_type": "execute_result"
    }
   ],
   "source": [
    "axes[0][0]"
   ]
  },
  {
   "cell_type": "code",
   "execution_count": null,
   "id": "absent-treasurer",
   "metadata": {},
   "outputs": [],
   "source": [
    "axes[0][0].imshow(faces.images[0,:,:])"
   ]
  },
  {
   "cell_type": "code",
   "execution_count": 34,
   "id": "unauthorized-vertical",
   "metadata": {},
   "outputs": [
    {
     "data": {
      "text/plain": [
       "[<AxesSubplot:>,\n",
       " <AxesSubplot:>,\n",
       " <AxesSubplot:>,\n",
       " <AxesSubplot:>,\n",
       " <AxesSubplot:>,\n",
       " <AxesSubplot:>,\n",
       " <AxesSubplot:>,\n",
       " <AxesSubplot:>,\n",
       " <AxesSubplot:>,\n",
       " <AxesSubplot:>,\n",
       " <AxesSubplot:>,\n",
       " <AxesSubplot:>,\n",
       " <AxesSubplot:>,\n",
       " <AxesSubplot:>,\n",
       " <AxesSubplot:>,\n",
       " <AxesSubplot:>,\n",
       " <AxesSubplot:>,\n",
       " <AxesSubplot:>,\n",
       " <AxesSubplot:>,\n",
       " <AxesSubplot:>]"
      ]
     },
     "execution_count": 34,
     "metadata": {},
     "output_type": "execute_result"
    }
   ],
   "source": [
    "[*axes.flat] #降维"
   ]
  },
  {
   "cell_type": "code",
   "execution_count": 35,
   "id": "organic-thought",
   "metadata": {},
   "outputs": [
    {
     "data": {
      "text/plain": [
       "20"
      ]
     },
     "execution_count": 35,
     "metadata": {},
     "output_type": "execute_result"
    }
   ],
   "source": [
    "len([*axes.flat])  #20"
   ]
  },
  {
   "cell_type": "code",
   "execution_count": 37,
   "id": "pacific-rings",
   "metadata": {},
   "outputs": [
    {
     "data": {
      "text/plain": [
       "[(0, <AxesSubplot:>),\n",
       " (1, <AxesSubplot:>),\n",
       " (2, <AxesSubplot:>),\n",
       " (3, <AxesSubplot:>),\n",
       " (4, <AxesSubplot:>),\n",
       " (5, <AxesSubplot:>),\n",
       " (6, <AxesSubplot:>),\n",
       " (7, <AxesSubplot:>),\n",
       " (8, <AxesSubplot:>),\n",
       " (9, <AxesSubplot:>),\n",
       " (10, <AxesSubplot:>),\n",
       " (11, <AxesSubplot:>),\n",
       " (12, <AxesSubplot:>),\n",
       " (13, <AxesSubplot:>),\n",
       " (14, <AxesSubplot:>),\n",
       " (15, <AxesSubplot:>),\n",
       " (16, <AxesSubplot:>),\n",
       " (17, <AxesSubplot:>),\n",
       " (18, <AxesSubplot:>),\n",
       " (19, <AxesSubplot:>)]"
      ]
     },
     "execution_count": 37,
     "metadata": {},
     "output_type": "execute_result"
    }
   ],
   "source": [
    "[*enumerate(axes.flat)]"
   ]
  },
  {
   "cell_type": "code",
   "execution_count": 40,
   "id": "ambient-quick",
   "metadata": {},
   "outputs": [
    {
     "data": {
      "image/png": "[encoded data removed]",
      "text/plain": [
       "<Figure size 576x288 with 24 Axes>"
      ]
     },
     "metadata": {},
     "output_type": "display_data"
    }
   ],
   "source": [
    "#创建画布和子图对象\n",
    "fig,axes = plt.subplots(3,8\n",
    "                       ,figsize=(8,4)\n",
    "                       ,subplot_kw={\"xticks\":[],\"yticks\":[]} #显示不要坐标轴\n",
    "                       )\n",
    "for i,ax in enumerate(axes.flat):\n",
    "    ax.imshow(faces.images[i,:,:],cmap=\"gray\") #选择色彩模式"
   ]
  },
  {
   "cell_type": "markdown",
   "id": "dynamic-environment",
   "metadata": {},
   "source": [
    "**4、建模降维，提取新特征空间矩阵**"
   ]
  },
  {
   "cell_type": "code",
   "execution_count": 50,
   "id": "superb-cambodia",
   "metadata": {},
   "outputs": [
    {
     "data": {
      "text/plain": [
       "(1348, 2914)"
      ]
     },
     "execution_count": 50,
     "metadata": {},
     "output_type": "execute_result"
    }
   ],
   "source": [
    "X.shape"
   ]
  },
  {
   "cell_type": "code",
   "execution_count": 41,
   "id": "magnetic-patient",
   "metadata": {},
   "outputs": [],
   "source": [
    "pca = PCA(150).fit(X)"
   ]
  },
  {
   "cell_type": "code",
   "execution_count": 47,
   "id": "authentic-kuwait",
   "metadata": {},
   "outputs": [],
   "source": [
    "X_dr = pca.transform(X)"
   ]
  },
  {
   "cell_type": "code",
   "execution_count": 48,
   "id": "disturbed-baker",
   "metadata": {},
   "outputs": [
    {
     "data": {
      "text/plain": [
       "(1348, 150)"
      ]
     },
     "execution_count": 48,
     "metadata": {},
     "output_type": "execute_result"
    }
   ],
   "source": [
    "X_dr.shape"
   ]
  },
  {
   "cell_type": "code",
   "execution_count": 42,
   "id": "bacterial-league",
   "metadata": {},
   "outputs": [],
   "source": [
    "V = pca.components_  #V(k,n)"
   ]
  },
  {
   "cell_type": "code",
   "execution_count": 43,
   "id": "superb-village",
   "metadata": {},
   "outputs": [
    {
     "data": {
      "text/plain": [
       "(150, 2914)"
      ]
     },
     "execution_count": 43,
     "metadata": {},
     "output_type": "execute_result"
    }
   ],
   "source": [
    "V.shape"
   ]
  },
  {
   "cell_type": "markdown",
   "id": "human-coast",
   "metadata": {},
   "source": [
    "**5、将新特征空间可视化**"
   ]
  },
  {
   "cell_type": "code",
   "execution_count": 45,
   "id": "soviet-imagination",
   "metadata": {},
   "outputs": [
    {
     "data": {
      "image/png": "[encoded data removed]",
      "text/plain": [
       "<Figure size 576x288 with 24 Axes>"
      ]
     },
     "metadata": {},
     "output_type": "display_data"
    }
   ],
   "source": [
    "fig,axes = plt.subplots(3,8\n",
    "                       ,figsize=(8,4)\n",
    "                       ,subplot_kw={\"xticks\":[],\"yticks\":[]} #显示不要坐标轴\n",
    "                       )\n",
    "for i,ax in enumerate(axes.flat):\n",
    "    ax.imshow(V[i,:].reshape(62,47),cmap=\"gray\") #选择色彩模式"
   ]
  },
  {
   "attachments": {},
   "cell_type": "markdown",
   "id": "corporate-gender",
   "metadata": {},
   "source": [
    "![image.png](./images/33.png)"
   ]
  },
  {
   "cell_type": "markdown",
   "id": "optimum-blame",
   "metadata": {},
   "source": [
    "### 2.4 重要接口inverse_transform"
   ]
  },
  {
   "cell_type": "markdown",
   "id": "expressed-enemy",
   "metadata": {},
   "source": [
    "在特征工程中，我们学到了神奇的接口inverse_transform,可以将我们归一化、标准化甚至做过哑变量后的数据（特征矩阵）还原回原始数据中的特征矩阵。这几乎在向我们暗示，任何有inverse_transform接口的过程都是可逆的。PCA**应该**也是如此。在sklearn中，我们通过让原特征矩阵X右乘新特征空间矩阵V(k,n)来生成新特征矩阵X_dr，那理论上来说，让新特征矩阵X_dr右乘V(k,n)的逆矩阵，就可以将新特征矩阵X_dr还原为原本的特征矩阵X，那sklearn是否这样做了呢？我们来看看下面的案例。"
   ]
  },
  {
   "cell_type": "markdown",
   "id": "infinite-theology",
   "metadata": {},
   "source": [
    "#### 2.4.1 迷你案例：用人脸识别看PCA降维后的信息保存量"
   ]
  },
  {
   "attachments": {},
   "cell_type": "markdown",
   "id": "italic-stocks",
   "metadata": {},
   "source": [
    "![image.png](./images/34.png)"
   ]
  },
  {
   "cell_type": "markdown",
   "id": "respective-increase",
   "metadata": {},
   "source": [
    "**1、导入需要的库和模块**"
   ]
  },
  {
   "cell_type": "code",
   "execution_count": null,
   "id": "neither-karen",
   "metadata": {},
   "outputs": [],
   "source": [
    "from sklearn.datasets import fetch_lfw_people\n",
    "from sklearn.decomposition import PCA\n",
    "import matplotlib.pyplot as plt\n",
    "import numpy as np"
   ]
  },
  {
   "cell_type": "markdown",
   "id": "fresh-constitution",
   "metadata": {},
   "source": [
    "**2、实例化数据集，探索数据**"
   ]
  },
  {
   "cell_type": "code",
   "execution_count": 51,
   "id": "incoming-queensland",
   "metadata": {},
   "outputs": [],
   "source": [
    "faces = fetch_lfw_people(min_faces_per_person=60) #实例化"
   ]
  },
  {
   "cell_type": "code",
   "execution_count": 55,
   "id": "large-liverpool",
   "metadata": {},
   "outputs": [
    {
     "data": {
      "text/plain": [
       "(1348, 2914)"
      ]
     },
     "execution_count": 55,
     "metadata": {},
     "output_type": "execute_result"
    }
   ],
   "source": [
    "faces.data.shape"
   ]
  },
  {
   "cell_type": "code",
   "execution_count": 52,
   "id": "herbal-leeds",
   "metadata": {},
   "outputs": [],
   "source": [
    "X = faces.data"
   ]
  },
  {
   "cell_type": "markdown",
   "id": "three-fifty",
   "metadata": {},
   "source": [
    "**3、建模降维，获取降维后的特征矩阵X_dr**"
   ]
  },
  {
   "cell_type": "code",
   "execution_count": 54,
   "id": "global-group",
   "metadata": {},
   "outputs": [
    {
     "data": {
      "text/plain": [
       "(1348, 150)"
      ]
     },
     "execution_count": 54,
     "metadata": {},
     "output_type": "execute_result"
    }
   ],
   "source": [
    "pca = PCA(150) #实例化\n",
    "X_dr = pca.fit_transform(X) #拟合+提取结果\n",
    "X_dr.shape"
   ]
  },
  {
   "cell_type": "markdown",
   "id": "polished-conditioning",
   "metadata": {},
   "source": [
    "**4、将降维后用inverse_transform返回原空间**"
   ]
  },
  {
   "cell_type": "code",
   "execution_count": 56,
   "id": "amazing-arbor",
   "metadata": {},
   "outputs": [
    {
     "data": {
      "text/plain": [
       "(1348, 2914)"
      ]
     },
     "execution_count": 56,
     "metadata": {},
     "output_type": "execute_result"
    }
   ],
   "source": [
    "X_inverse = pca.inverse_transform(X_dr)\n",
    "X_inverse.shape #我们希望得到的是跟X一样的，但究竟一不一样呢？"
   ]
  },
  {
   "cell_type": "markdown",
   "id": "reduced-glass",
   "metadata": {},
   "source": [
    "**5、将特征矩阵X和X_inverse可视化**"
   ]
  },
  {
   "cell_type": "code",
   "execution_count": 68,
   "id": "english-advantage",
   "metadata": {},
   "outputs": [
    {
     "data": {
      "image/png": "[encoded data removed]",
      "text/plain": [
       "<Figure size 720x180 with 20 Axes>"
      ]
     },
     "metadata": {},
     "output_type": "display_data"
    }
   ],
   "source": [
    "fig,axes = plt.subplots(2,10\n",
    "                       ,figsize=(10,2.5)\n",
    "                       ,subplot_kw={\"xticks\":[],\"yticks\":[]} #显示不要坐标轴\n",
    "                       )\n",
    "for i in range(10):\n",
    "    axes[0][i].imshow(faces.images[i,:,:],cmap=\"binary_r\") \n",
    "    axes[1][i].imshow(X_inverse[i].reshape(62,47),cmap=\"binary_r\")"
   ]
  },
  {
   "attachments": {},
   "cell_type": "markdown",
   "id": "ordered-enough",
   "metadata": {},
   "source": [
    "![image.png](./images/35.png) "
   ]
  },
  {
   "cell_type": "markdown",
   "id": "surgical-burning",
   "metadata": {},
   "source": [
    "#### 2.4.2 迷你案例：用PCA做噪音过滤"
   ]
  },
  {
   "attachments": {},
   "cell_type": "markdown",
   "id": "portable-channels",
   "metadata": {},
   "source": [
    "![image.png](./images/36.png)"
   ]
  },
  {
   "cell_type": "markdown",
   "id": "eligible-anatomy",
   "metadata": {},
   "source": [
    "**1、导入所需要的库和模块**"
   ]
  },
  {
   "cell_type": "code",
   "execution_count": 69,
   "id": "dangerous-bandwidth",
   "metadata": {},
   "outputs": [],
   "source": [
    "from sklearn.datasets import load_digits\n",
    "from sklearn.decomposition import PCA\n",
    "import matplotlib.pyplot as plt\n",
    "import numpy as np"
   ]
  },
  {
   "cell_type": "markdown",
   "id": "applicable-andorra",
   "metadata": {},
   "source": [
    "**2、导入数据，探索数据**"
   ]
  },
  {
   "cell_type": "code",
   "execution_count": 71,
   "id": "dangerous-anime",
   "metadata": {},
   "outputs": [
    {
     "data": {
      "text/plain": [
       "(1797, 64)"
      ]
     },
     "execution_count": 71,
     "metadata": {},
     "output_type": "execute_result"
    }
   ],
   "source": [
    "digits = load_digits()\n",
    "digits.data.shape"
   ]
  },
  {
   "cell_type": "code",
   "execution_count": 76,
   "id": "mental-crowd",
   "metadata": {},
   "outputs": [
    {
     "data": {
      "text/plain": [
       "(1797, 8, 8)"
      ]
     },
     "execution_count": 76,
     "metadata": {},
     "output_type": "execute_result"
    }
   ],
   "source": [
    "digits.images.shape"
   ]
  },
  {
   "cell_type": "code",
   "execution_count": 73,
   "id": "eastern-transsexual",
   "metadata": {},
   "outputs": [
    {
     "data": {
      "text/plain": [
       "{0, 1, 2, 3, 4, 5, 6, 7, 8, 9}"
      ]
     },
     "execution_count": 73,
     "metadata": {},
     "output_type": "execute_result"
    }
   ],
   "source": [
    "set(digits.target.tolist())"
   ]
  },
  {
   "cell_type": "markdown",
   "id": "fresh-afternoon",
   "metadata": {},
   "source": [
    "**3、定义画图函数**"
   ]
  },
  {
   "cell_type": "code",
   "execution_count": 77,
   "id": "about-fortune",
   "metadata": {},
   "outputs": [],
   "source": [
    "def plot_digits(data):\n",
    "    #data的结构必须是(m,n)，并且n要能够被分成(8,8)这样的结构\n",
    "    fig,axes = plt.subplots(4,10,figsize=(10,4)\n",
    "                           ,subplot_kw={\"xticks\":[],\"yticks\":[]}\n",
    "                           )\n",
    "    for i,ax in enumerate(axes.flat):\n",
    "        ax.imshow(data[i].reshape(8,8),cmap=\"binary\")"
   ]
  },
  {
   "cell_type": "code",
   "execution_count": 78,
   "id": "qualified-perception",
   "metadata": {},
   "outputs": [
    {
     "data": {
      "image/png": "[encoded data removed]",
      "text/plain": [
       "<Figure size 720x288 with 40 Axes>"
      ]
     },
     "metadata": {},
     "output_type": "display_data"
    }
   ],
   "source": [
    "plot_digits(digits.data)"
   ]
  },
  {
   "cell_type": "markdown",
   "id": "breeding-musical",
   "metadata": {},
   "source": [
    "**4、为数据加上噪音**"
   ]
  },
  {
   "cell_type": "code",
   "execution_count": 79,
   "id": "professional-secretary",
   "metadata": {},
   "outputs": [],
   "source": [
    "import numpy as np\n",
    "\n",
    "rng = np.random.RandomState(42)\n",
    "\n",
    "#在指定的数据集中，随机抽取服从正态分布的数据\n",
    "#两个参数，分别是指定的数据集，和抽取出来的正态分布的方差\n",
    "noisy = rng.normal(digits.data,2) #方差越大，抽取出来的数据越凌乱"
   ]
  },
  {
   "cell_type": "code",
   "execution_count": 81,
   "id": "threaded-metabolism",
   "metadata": {},
   "outputs": [
    {
     "data": {
      "text/plain": [
       "(1797, 64)"
      ]
     },
     "execution_count": 81,
     "metadata": {},
     "output_type": "execute_result"
    }
   ],
   "source": [
    "noisy.shape"
   ]
  },
  {
   "cell_type": "code",
   "execution_count": 82,
   "id": "scientific-project",
   "metadata": {},
   "outputs": [
    {
     "data": {
      "image/png": "[encoded data removed]",
      "text/plain": [
       "<Figure size 720x288 with 40 Axes>"
      ]
     },
     "metadata": {},
     "output_type": "display_data"
    }
   ],
   "source": [
    "plot_digits(noisy)"
   ]
  },
  {
   "cell_type": "markdown",
   "id": "contrary-effect",
   "metadata": {},
   "source": [
    "**5、降维**"
   ]
  },
  {
   "cell_type": "code",
   "execution_count": 83,
   "id": "current-logging",
   "metadata": {},
   "outputs": [
    {
     "data": {
      "text/plain": [
       "(1797, 6)"
      ]
     },
     "execution_count": 83,
     "metadata": {},
     "output_type": "execute_result"
    }
   ],
   "source": [
    "pca = PCA(0.5).fit(noisy)\n",
    "X_dr = pca.transform(noisy)\n",
    "X_dr.shape"
   ]
  },
  {
   "cell_type": "markdown",
   "id": "adolescent-education",
   "metadata": {},
   "source": [
    "**6、逆转降维结果，实现降噪**"
   ]
  },
  {
   "cell_type": "code",
   "execution_count": 84,
   "id": "flying-discussion",
   "metadata": {},
   "outputs": [
    {
     "data": {
      "image/png": "[encoded data removed]",
      "text/plain": [
       "<Figure size 720x288 with 40 Axes>"
      ]
     },
     "metadata": {},
     "output_type": "display_data"
    }
   ],
   "source": [
    "without_noise = pca.inverse_transform(X_dr)\n",
    "plot_digits(without_noise)"
   ]
  },
  {
   "cell_type": "code",
   "execution_count": 85,
   "id": "unavailable-grant",
   "metadata": {
    "scrolled": true
   },
   "outputs": [
    {
     "data": {
      "text/plain": [
       "(1797, 64)"
      ]
     },
     "execution_count": 85,
     "metadata": {},
     "output_type": "execute_result"
    }
   ],
   "source": [
    "without_noise.shape"
   ]
  },
  {
   "cell_type": "markdown",
   "id": "christian-washer",
   "metadata": {},
   "source": [
    "### 2.5重要接口，参数和属性总结"
   ]
  },
  {
   "attachments": {},
   "cell_type": "markdown",
   "id": "spanish-fiber",
   "metadata": {},
   "source": [
    "![image.png](./images/37.png)"
   ]
  },
  {
   "attachments": {},
   "cell_type": "markdown",
   "id": "sealed-assignment",
   "metadata": {},
   "source": [
    "![image.png](https://pic1.zhimg.com/80/v2-9ef736f68257abe16e04cf2f378de29c_720w.jpg)"
   ]
  },
  {
   "attachments": {},
   "cell_type": "markdown",
   "id": "democratic-program",
   "metadata": {},
   "source": [
    "![image.png](./images/38.png)"
   ]
  },
  {
   "cell_type": "markdown",
   "id": "convertible-template",
   "metadata": {},
   "source": [
    "注：文档中截图来自B站菜菜的教学视频。"
   ]
  },
  {
   "cell_type": "code",
   "execution_count": null,
   "id": "consecutive-stereo",
   "metadata": {},
   "outputs": [],
   "source": []
  }
 ],
 "metadata": {
  "kernelspec": {
   "display_name": "Python 3",
   "language": "python",
   "name": "python3"
  },
  "language_info": {
   "codemirror_mode": {
    "name": "ipython",
    "version": 3
   },
   "file_extension": ".py",
   "mimetype": "text/x-python",
   "name": "python",
   "nbconvert_exporter": "python",
   "pygments_lexer": "ipython3",
   "version": "3.7.2"
  }
 },
 "nbformat": 4,
 "nbformat_minor": 5
}
