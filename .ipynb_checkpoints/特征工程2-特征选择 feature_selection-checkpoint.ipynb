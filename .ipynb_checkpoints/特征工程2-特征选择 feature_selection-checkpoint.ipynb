{
 "cells": [
  {
   "cell_type": "markdown",
   "id": "understanding-frequency",
   "metadata": {},
   "source": [
    "# 特征工程2-特征选择 feature_selection\n"
   ]
  },
  {
   "cell_type": "markdown",
   "id": "alike-design",
   "metadata": {},
   "source": [
    "当数据预处理完成后，我们就要开始特征工程了。"
   ]
  },
  {
   "cell_type": "markdown",
   "id": "periodic-sociology",
   "metadata": {},
   "source": [
    "|特征提取|特征创造|特征选择|\n",
    "|:---|:---:|---:|\n",
    "|从文字、图像声音等其他非结构化数据中提取新信息作为特征。比如说，从淘宝宝贝的名称中提取出产品类别，产品颜色，是否为网红产品等等。|把现有特征进行组合，或互相计算，得到新的特征。比如说，我们有一列特征是速度，一列特征是距离，我们就可以通过让两列相除，创造新的特征：通过距离所花的时间。|从所有特征中，选择出有意义，对模型有帮助的特征，以避免必须将所有特征都导入模型去训练的情况。|"
   ]
  },
  {
   "cell_type": "markdown",
   "id": "narrow-supervisor",
   "metadata": {},
   "source": [
    "**特征工程的第一步是：理解业务。**"
   ]
  },
  {
   "cell_type": "markdown",
   "id": "employed-composition",
   "metadata": {},
   "source": [
    "四种方法选择特征：过滤法、嵌入法、包装法、降维算法。"
   ]
  },
  {
   "cell_type": "code",
   "execution_count": 1,
   "id": "alternate-dominican",
   "metadata": {},
   "outputs": [],
   "source": [
    "#导入数据，让我们使用digit recognizor数据来一展身手\n",
    "\n",
    "import pandas as pd\n",
    "data = pd.read_csv(r\"./datasets/digit-recognizor-train.csv\")"
   ]
  },
  {
   "cell_type": "code",
   "execution_count": 2,
   "id": "brutal-supervision",
   "metadata": {},
   "outputs": [
    {
     "data": {
      "text/html": [
       "<div>\n",
       "<style scoped>\n",
       "    .dataframe tbody tr th:only-of-type {\n",
       "        vertical-align: middle;\n",
       "    }\n",
       "\n",
       "    .dataframe tbody tr th {\n",
       "        vertical-align: top;\n",
       "    }\n",
       "\n",
       "    .dataframe thead th {\n",
       "        text-align: right;\n",
       "    }\n",
       "</style>\n",
       "<table border=\"1\" class=\"dataframe\">\n",
       "  <thead>\n",
       "    <tr style=\"text-align: right;\">\n",
       "      <th></th>\n",
       "      <th>label</th>\n",
       "      <th>pixel0</th>\n",
       "      <th>pixel1</th>\n",
       "      <th>pixel2</th>\n",
       "      <th>pixel3</th>\n",
       "      <th>pixel4</th>\n",
       "      <th>pixel5</th>\n",
       "      <th>pixel6</th>\n",
       "      <th>pixel7</th>\n",
       "      <th>pixel8</th>\n",
       "      <th>...</th>\n",
       "      <th>pixel774</th>\n",
       "      <th>pixel775</th>\n",
       "      <th>pixel776</th>\n",
       "      <th>pixel777</th>\n",
       "      <th>pixel778</th>\n",
       "      <th>pixel779</th>\n",
       "      <th>pixel780</th>\n",
       "      <th>pixel781</th>\n",
       "      <th>pixel782</th>\n",
       "      <th>pixel783</th>\n",
       "    </tr>\n",
       "  </thead>\n",
       "  <tbody>\n",
       "    <tr>\n",
       "      <th>0</th>\n",
       "      <td>1</td>\n",
       "      <td>0</td>\n",
       "      <td>0</td>\n",
       "      <td>0</td>\n",
       "      <td>0</td>\n",
       "      <td>0</td>\n",
       "      <td>0</td>\n",
       "      <td>0</td>\n",
       "      <td>0</td>\n",
       "      <td>0</td>\n",
       "      <td>...</td>\n",
       "      <td>0</td>\n",
       "      <td>0</td>\n",
       "      <td>0</td>\n",
       "      <td>0</td>\n",
       "      <td>0</td>\n",
       "      <td>0</td>\n",
       "      <td>0</td>\n",
       "      <td>0</td>\n",
       "      <td>0</td>\n",
       "      <td>0</td>\n",
       "    </tr>\n",
       "    <tr>\n",
       "      <th>1</th>\n",
       "      <td>0</td>\n",
       "      <td>0</td>\n",
       "      <td>0</td>\n",
       "      <td>0</td>\n",
       "      <td>0</td>\n",
       "      <td>0</td>\n",
       "      <td>0</td>\n",
       "      <td>0</td>\n",
       "      <td>0</td>\n",
       "      <td>0</td>\n",
       "      <td>...</td>\n",
       "      <td>0</td>\n",
       "      <td>0</td>\n",
       "      <td>0</td>\n",
       "      <td>0</td>\n",
       "      <td>0</td>\n",
       "      <td>0</td>\n",
       "      <td>0</td>\n",
       "      <td>0</td>\n",
       "      <td>0</td>\n",
       "      <td>0</td>\n",
       "    </tr>\n",
       "    <tr>\n",
       "      <th>2</th>\n",
       "      <td>1</td>\n",
       "      <td>0</td>\n",
       "      <td>0</td>\n",
       "      <td>0</td>\n",
       "      <td>0</td>\n",
       "      <td>0</td>\n",
       "      <td>0</td>\n",
       "      <td>0</td>\n",
       "      <td>0</td>\n",
       "      <td>0</td>\n",
       "      <td>...</td>\n",
       "      <td>0</td>\n",
       "      <td>0</td>\n",
       "      <td>0</td>\n",
       "      <td>0</td>\n",
       "      <td>0</td>\n",
       "      <td>0</td>\n",
       "      <td>0</td>\n",
       "      <td>0</td>\n",
       "      <td>0</td>\n",
       "      <td>0</td>\n",
       "    </tr>\n",
       "    <tr>\n",
       "      <th>3</th>\n",
       "      <td>4</td>\n",
       "      <td>0</td>\n",
       "      <td>0</td>\n",
       "      <td>0</td>\n",
       "      <td>0</td>\n",
       "      <td>0</td>\n",
       "      <td>0</td>\n",
       "      <td>0</td>\n",
       "      <td>0</td>\n",
       "      <td>0</td>\n",
       "      <td>...</td>\n",
       "      <td>0</td>\n",
       "      <td>0</td>\n",
       "      <td>0</td>\n",
       "      <td>0</td>\n",
       "      <td>0</td>\n",
       "      <td>0</td>\n",
       "      <td>0</td>\n",
       "      <td>0</td>\n",
       "      <td>0</td>\n",
       "      <td>0</td>\n",
       "    </tr>\n",
       "    <tr>\n",
       "      <th>4</th>\n",
       "      <td>0</td>\n",
       "      <td>0</td>\n",
       "      <td>0</td>\n",
       "      <td>0</td>\n",
       "      <td>0</td>\n",
       "      <td>0</td>\n",
       "      <td>0</td>\n",
       "      <td>0</td>\n",
       "      <td>0</td>\n",
       "      <td>0</td>\n",
       "      <td>...</td>\n",
       "      <td>0</td>\n",
       "      <td>0</td>\n",
       "      <td>0</td>\n",
       "      <td>0</td>\n",
       "      <td>0</td>\n",
       "      <td>0</td>\n",
       "      <td>0</td>\n",
       "      <td>0</td>\n",
       "      <td>0</td>\n",
       "      <td>0</td>\n",
       "    </tr>\n",
       "  </tbody>\n",
       "</table>\n",
       "<p>5 rows × 785 columns</p>\n",
       "</div>"
      ],
      "text/plain": [
       "   label  pixel0  pixel1  pixel2  pixel3  pixel4  pixel5  pixel6  pixel7  \\\n",
       "0      1       0       0       0       0       0       0       0       0   \n",
       "1      0       0       0       0       0       0       0       0       0   \n",
       "2      1       0       0       0       0       0       0       0       0   \n",
       "3      4       0       0       0       0       0       0       0       0   \n",
       "4      0       0       0       0       0       0       0       0       0   \n",
       "\n",
       "   pixel8  ...  pixel774  pixel775  pixel776  pixel777  pixel778  pixel779  \\\n",
       "0       0  ...         0         0         0         0         0         0   \n",
       "1       0  ...         0         0         0         0         0         0   \n",
       "2       0  ...         0         0         0         0         0         0   \n",
       "3       0  ...         0         0         0         0         0         0   \n",
       "4       0  ...         0         0         0         0         0         0   \n",
       "\n",
       "   pixel780  pixel781  pixel782  pixel783  \n",
       "0         0         0         0         0  \n",
       "1         0         0         0         0  \n",
       "2         0         0         0         0  \n",
       "3         0         0         0         0  \n",
       "4         0         0         0         0  \n",
       "\n",
       "[5 rows x 785 columns]"
      ]
     },
     "execution_count": 2,
     "metadata": {},
     "output_type": "execute_result"
    }
   ],
   "source": [
    "data.head()"
   ]
  },
  {
   "cell_type": "code",
   "execution_count": 3,
   "id": "undefined-amsterdam",
   "metadata": {},
   "outputs": [],
   "source": [
    "X = data.iloc[:,1:]\n",
    "y = data.iloc[:,0]"
   ]
  },
  {
   "cell_type": "code",
   "execution_count": 4,
   "id": "sweet-suspect",
   "metadata": {},
   "outputs": [
    {
     "data": {
      "text/plain": [
       "(5000, 784)"
      ]
     },
     "execution_count": 4,
     "metadata": {},
     "output_type": "execute_result"
    }
   ],
   "source": [
    "X.shape"
   ]
  },
  {
   "cell_type": "code",
   "execution_count": 5,
   "id": "bridal-kingdom",
   "metadata": {},
   "outputs": [
    {
     "data": {
      "text/plain": [
       "(5000,)"
      ]
     },
     "execution_count": 5,
     "metadata": {},
     "output_type": "execute_result"
    }
   ],
   "source": [
    "y.shape"
   ]
  },
  {
   "cell_type": "code",
   "execution_count": null,
   "id": "exposed-manufacturer",
   "metadata": {},
   "outputs": [],
   "source": [
    "\"\"\"\n",
    "这个数据量相对夸张，如果使用SVN和神经网络，很可能会直接跑不出来。\n",
    "使用KNN跑一次大概需要半个小时。用这个数据举例，更能够体现特征工程的重要性。\n",
    "\"\"\""
   ]
  },
  {
   "cell_type": "markdown",
   "id": "impaired-female",
   "metadata": {},
   "source": [
    "# 3.1Filter过滤法"
   ]
  },
  {
   "cell_type": "markdown",
   "id": "cooked-system",
   "metadata": {},
   "source": [
    "**全部特征-->最佳特征子集-->算法-->模型评估**"
   ]
  },
  {
   "cell_type": "markdown",
   "id": "electronic-underwear",
   "metadata": {},
   "source": [
    "## 3.1.1方差过滤"
   ]
  },
  {
   "cell_type": "markdown",
   "id": "concerned-position",
   "metadata": {},
   "source": [
    "### 3.1.1.1VarianceThreshold "
   ]
  },
  {
   "cell_type": "markdown",
   "id": "widespread-efficiency",
   "metadata": {},
   "source": [
    "优先删除方差为0的特征，重要参数threshold，阈值，表示舍弃所有方差小于threshold的特征，不填默认为0，即删除所有记录都相同的特征。"
   ]
  },
  {
   "cell_type": "code",
   "execution_count": 6,
   "id": "combined-closing",
   "metadata": {},
   "outputs": [],
   "source": [
    "from sklearn.feature_selection import VarianceThreshold"
   ]
  },
  {
   "cell_type": "code",
   "execution_count": 8,
   "id": "metallic-father",
   "metadata": {},
   "outputs": [],
   "source": [
    "selector = VarianceThreshold() #实例化，不填参数默认方差为0"
   ]
  },
  {
   "cell_type": "code",
   "execution_count": 9,
   "id": "applied-japan",
   "metadata": {},
   "outputs": [],
   "source": [
    "X_var0 = selector.fit_transform(X) #获取删除不合格特征之后的新特征矩阵"
   ]
  },
  {
   "cell_type": "code",
   "execution_count": 10,
   "id": "proof-demonstration",
   "metadata": {},
   "outputs": [
    {
     "data": {
      "text/plain": [
       "(5000, 661)"
      ]
     },
     "execution_count": 10,
     "metadata": {},
     "output_type": "execute_result"
    }
   ],
   "source": [
    "#也可写成X_var0 = VarianceThreshold().fit_transform(X)\n",
    "X_var0.shape"
   ]
  },
  {
   "cell_type": "code",
   "execution_count": 12,
   "id": "electrical-lyric",
   "metadata": {},
   "outputs": [
    {
     "data": {
      "text/html": [
       "<div>\n",
       "<style scoped>\n",
       "    .dataframe tbody tr th:only-of-type {\n",
       "        vertical-align: middle;\n",
       "    }\n",
       "\n",
       "    .dataframe tbody tr th {\n",
       "        vertical-align: top;\n",
       "    }\n",
       "\n",
       "    .dataframe thead th {\n",
       "        text-align: right;\n",
       "    }\n",
       "</style>\n",
       "<table border=\"1\" class=\"dataframe\">\n",
       "  <thead>\n",
       "    <tr style=\"text-align: right;\">\n",
       "      <th></th>\n",
       "      <th>0</th>\n",
       "      <th>1</th>\n",
       "      <th>2</th>\n",
       "      <th>3</th>\n",
       "      <th>4</th>\n",
       "      <th>5</th>\n",
       "      <th>6</th>\n",
       "      <th>7</th>\n",
       "      <th>8</th>\n",
       "      <th>9</th>\n",
       "      <th>...</th>\n",
       "      <th>651</th>\n",
       "      <th>652</th>\n",
       "      <th>653</th>\n",
       "      <th>654</th>\n",
       "      <th>655</th>\n",
       "      <th>656</th>\n",
       "      <th>657</th>\n",
       "      <th>658</th>\n",
       "      <th>659</th>\n",
       "      <th>660</th>\n",
       "    </tr>\n",
       "  </thead>\n",
       "  <tbody>\n",
       "    <tr>\n",
       "      <th>0</th>\n",
       "      <td>0</td>\n",
       "      <td>0</td>\n",
       "      <td>0</td>\n",
       "      <td>0</td>\n",
       "      <td>0</td>\n",
       "      <td>0</td>\n",
       "      <td>0</td>\n",
       "      <td>0</td>\n",
       "      <td>0</td>\n",
       "      <td>0</td>\n",
       "      <td>...</td>\n",
       "      <td>0</td>\n",
       "      <td>0</td>\n",
       "      <td>0</td>\n",
       "      <td>0</td>\n",
       "      <td>0</td>\n",
       "      <td>0</td>\n",
       "      <td>0</td>\n",
       "      <td>0</td>\n",
       "      <td>0</td>\n",
       "      <td>0</td>\n",
       "    </tr>\n",
       "    <tr>\n",
       "      <th>1</th>\n",
       "      <td>0</td>\n",
       "      <td>0</td>\n",
       "      <td>0</td>\n",
       "      <td>0</td>\n",
       "      <td>0</td>\n",
       "      <td>0</td>\n",
       "      <td>0</td>\n",
       "      <td>0</td>\n",
       "      <td>0</td>\n",
       "      <td>0</td>\n",
       "      <td>...</td>\n",
       "      <td>0</td>\n",
       "      <td>0</td>\n",
       "      <td>0</td>\n",
       "      <td>0</td>\n",
       "      <td>0</td>\n",
       "      <td>0</td>\n",
       "      <td>0</td>\n",
       "      <td>0</td>\n",
       "      <td>0</td>\n",
       "      <td>0</td>\n",
       "    </tr>\n",
       "    <tr>\n",
       "      <th>2</th>\n",
       "      <td>0</td>\n",
       "      <td>0</td>\n",
       "      <td>0</td>\n",
       "      <td>0</td>\n",
       "      <td>0</td>\n",
       "      <td>0</td>\n",
       "      <td>0</td>\n",
       "      <td>0</td>\n",
       "      <td>0</td>\n",
       "      <td>0</td>\n",
       "      <td>...</td>\n",
       "      <td>0</td>\n",
       "      <td>0</td>\n",
       "      <td>0</td>\n",
       "      <td>0</td>\n",
       "      <td>0</td>\n",
       "      <td>0</td>\n",
       "      <td>0</td>\n",
       "      <td>0</td>\n",
       "      <td>0</td>\n",
       "      <td>0</td>\n",
       "    </tr>\n",
       "    <tr>\n",
       "      <th>3</th>\n",
       "      <td>0</td>\n",
       "      <td>0</td>\n",
       "      <td>0</td>\n",
       "      <td>0</td>\n",
       "      <td>0</td>\n",
       "      <td>0</td>\n",
       "      <td>0</td>\n",
       "      <td>0</td>\n",
       "      <td>0</td>\n",
       "      <td>0</td>\n",
       "      <td>...</td>\n",
       "      <td>0</td>\n",
       "      <td>0</td>\n",
       "      <td>0</td>\n",
       "      <td>0</td>\n",
       "      <td>0</td>\n",
       "      <td>0</td>\n",
       "      <td>0</td>\n",
       "      <td>0</td>\n",
       "      <td>0</td>\n",
       "      <td>0</td>\n",
       "    </tr>\n",
       "    <tr>\n",
       "      <th>4</th>\n",
       "      <td>0</td>\n",
       "      <td>0</td>\n",
       "      <td>0</td>\n",
       "      <td>0</td>\n",
       "      <td>0</td>\n",
       "      <td>0</td>\n",
       "      <td>0</td>\n",
       "      <td>0</td>\n",
       "      <td>0</td>\n",
       "      <td>0</td>\n",
       "      <td>...</td>\n",
       "      <td>0</td>\n",
       "      <td>0</td>\n",
       "      <td>0</td>\n",
       "      <td>0</td>\n",
       "      <td>0</td>\n",
       "      <td>0</td>\n",
       "      <td>0</td>\n",
       "      <td>0</td>\n",
       "      <td>0</td>\n",
       "      <td>0</td>\n",
       "    </tr>\n",
       "  </tbody>\n",
       "</table>\n",
       "<p>5 rows × 661 columns</p>\n",
       "</div>"
      ],
      "text/plain": [
       "   0    1    2    3    4    5    6    7    8    9    ...  651  652  653  654  \\\n",
       "0    0    0    0    0    0    0    0    0    0    0  ...    0    0    0    0   \n",
       "1    0    0    0    0    0    0    0    0    0    0  ...    0    0    0    0   \n",
       "2    0    0    0    0    0    0    0    0    0    0  ...    0    0    0    0   \n",
       "3    0    0    0    0    0    0    0    0    0    0  ...    0    0    0    0   \n",
       "4    0    0    0    0    0    0    0    0    0    0  ...    0    0    0    0   \n",
       "\n",
       "   655  656  657  658  659  660  \n",
       "0    0    0    0    0    0    0  \n",
       "1    0    0    0    0    0    0  \n",
       "2    0    0    0    0    0    0  \n",
       "3    0    0    0    0    0    0  \n",
       "4    0    0    0    0    0    0  \n",
       "\n",
       "[5 rows x 661 columns]"
      ]
     },
     "execution_count": 12,
     "metadata": {},
     "output_type": "execute_result"
    }
   ],
   "source": [
    "pd.DataFrame(X_var0).head()"
   ]
  },
  {
   "cell_type": "code",
   "execution_count": 17,
   "id": "broad-complexity",
   "metadata": {},
   "outputs": [
    {
     "data": {
      "text/plain": [
       "1340.5963812762552"
      ]
     },
     "execution_count": 17,
     "metadata": {},
     "output_type": "execute_result"
    }
   ],
   "source": [
    "import numpy as np\n",
    "np.median(X.var().values) #所有列方差的中位数"
   ]
  },
  {
   "cell_type": "code",
   "execution_count": 18,
   "id": "dominican-batman",
   "metadata": {},
   "outputs": [],
   "source": [
    "X_fsvar = VarianceThreshold(np.median(X.var().values)).fit_transform(X)"
   ]
  },
  {
   "cell_type": "code",
   "execution_count": 19,
   "id": "exciting-border",
   "metadata": {},
   "outputs": [
    {
     "data": {
      "text/plain": [
       "(5000, 391)"
      ]
     },
     "execution_count": 19,
     "metadata": {},
     "output_type": "execute_result"
    }
   ],
   "source": [
    "X_fsvar.shape"
   ]
  },
  {
   "cell_type": "code",
   "execution_count": 20,
   "id": "known-wilderness",
   "metadata": {},
   "outputs": [],
   "source": [
    "#若特征是伯努利随机变量，假设p=0.8，即二分类特征中某种分类占到80%以上的时候删除特征\n",
    "X_bvar = VarianceThreshold(.8 * (1-.8)).fit_transform(X)"
   ]
  },
  {
   "cell_type": "code",
   "execution_count": 22,
   "id": "hourly-coordinate",
   "metadata": {},
   "outputs": [
    {
     "data": {
      "text/plain": [
       "(5000, 653)"
      ]
     },
     "execution_count": 22,
     "metadata": {},
     "output_type": "execute_result"
    }
   ],
   "source": [
    "X_bvar.shape"
   ]
  },
  {
   "cell_type": "markdown",
   "id": "preliminary-treasure",
   "metadata": {},
   "source": [
    "### 3.1.1.2方差过滤对模型的影响"
   ]
  },
  {
   "cell_type": "markdown",
   "id": "expensive-savage",
   "metadata": {},
   "source": [
    "使用KNN与随机森林分别在方差过滤前何方差过滤后运行的效果和运行时间的对比。<br>\n",
    "KNN是K邻近算法中的分类算法，其原理非常简单，是利用每个样本到其他样本点的距离来判断每个样本点的相似度，然后对样本进行分类。KNN必须遍历每个特征和每个样本，因而特征越多，KNN的计算也就会越缓慢。"
   ]
  },
  {
   "cell_type": "markdown",
   "id": "refined-distributor",
   "metadata": {},
   "source": [
    "**1.导入模块并准备数据**"
   ]
  },
  {
   "cell_type": "code",
   "execution_count": 24,
   "id": "classical-objective",
   "metadata": {},
   "outputs": [],
   "source": [
    "# KNN vs 随机森林在不同方差过滤效果下的对比\n",
    "from sklearn.ensemble import RandomForestClassifier as RFC\n",
    "from sklearn.neighbors import KNeighborsClassifier as KNN\n",
    "from sklearn.model_selection import cross_val_score\n",
    "import numpy as np"
   ]
  },
  {
   "cell_type": "code",
   "execution_count": 25,
   "id": "monthly-humidity",
   "metadata": {},
   "outputs": [],
   "source": [
    "x = data.iloc[:,1:]"
   ]
  },
  {
   "cell_type": "code",
   "execution_count": 28,
   "id": "wound-money",
   "metadata": {},
   "outputs": [
    {
     "data": {
      "text/html": [
       "<div>\n",
       "<style scoped>\n",
       "    .dataframe tbody tr th:only-of-type {\n",
       "        vertical-align: middle;\n",
       "    }\n",
       "\n",
       "    .dataframe tbody tr th {\n",
       "        vertical-align: top;\n",
       "    }\n",
       "\n",
       "    .dataframe thead th {\n",
       "        text-align: right;\n",
       "    }\n",
       "</style>\n",
       "<table border=\"1\" class=\"dataframe\">\n",
       "  <thead>\n",
       "    <tr style=\"text-align: right;\">\n",
       "      <th></th>\n",
       "      <th>pixel0</th>\n",
       "      <th>pixel1</th>\n",
       "      <th>pixel2</th>\n",
       "      <th>pixel3</th>\n",
       "      <th>pixel4</th>\n",
       "      <th>pixel5</th>\n",
       "      <th>pixel6</th>\n",
       "      <th>pixel7</th>\n",
       "      <th>pixel8</th>\n",
       "      <th>pixel9</th>\n",
       "      <th>...</th>\n",
       "      <th>pixel774</th>\n",
       "      <th>pixel775</th>\n",
       "      <th>pixel776</th>\n",
       "      <th>pixel777</th>\n",
       "      <th>pixel778</th>\n",
       "      <th>pixel779</th>\n",
       "      <th>pixel780</th>\n",
       "      <th>pixel781</th>\n",
       "      <th>pixel782</th>\n",
       "      <th>pixel783</th>\n",
       "    </tr>\n",
       "  </thead>\n",
       "  <tbody>\n",
       "    <tr>\n",
       "      <th>0</th>\n",
       "      <td>0</td>\n",
       "      <td>0</td>\n",
       "      <td>0</td>\n",
       "      <td>0</td>\n",
       "      <td>0</td>\n",
       "      <td>0</td>\n",
       "      <td>0</td>\n",
       "      <td>0</td>\n",
       "      <td>0</td>\n",
       "      <td>0</td>\n",
       "      <td>...</td>\n",
       "      <td>0</td>\n",
       "      <td>0</td>\n",
       "      <td>0</td>\n",
       "      <td>0</td>\n",
       "      <td>0</td>\n",
       "      <td>0</td>\n",
       "      <td>0</td>\n",
       "      <td>0</td>\n",
       "      <td>0</td>\n",
       "      <td>0</td>\n",
       "    </tr>\n",
       "    <tr>\n",
       "      <th>1</th>\n",
       "      <td>0</td>\n",
       "      <td>0</td>\n",
       "      <td>0</td>\n",
       "      <td>0</td>\n",
       "      <td>0</td>\n",
       "      <td>0</td>\n",
       "      <td>0</td>\n",
       "      <td>0</td>\n",
       "      <td>0</td>\n",
       "      <td>0</td>\n",
       "      <td>...</td>\n",
       "      <td>0</td>\n",
       "      <td>0</td>\n",
       "      <td>0</td>\n",
       "      <td>0</td>\n",
       "      <td>0</td>\n",
       "      <td>0</td>\n",
       "      <td>0</td>\n",
       "      <td>0</td>\n",
       "      <td>0</td>\n",
       "      <td>0</td>\n",
       "    </tr>\n",
       "    <tr>\n",
       "      <th>2</th>\n",
       "      <td>0</td>\n",
       "      <td>0</td>\n",
       "      <td>0</td>\n",
       "      <td>0</td>\n",
       "      <td>0</td>\n",
       "      <td>0</td>\n",
       "      <td>0</td>\n",
       "      <td>0</td>\n",
       "      <td>0</td>\n",
       "      <td>0</td>\n",
       "      <td>...</td>\n",
       "      <td>0</td>\n",
       "      <td>0</td>\n",
       "      <td>0</td>\n",
       "      <td>0</td>\n",
       "      <td>0</td>\n",
       "      <td>0</td>\n",
       "      <td>0</td>\n",
       "      <td>0</td>\n",
       "      <td>0</td>\n",
       "      <td>0</td>\n",
       "    </tr>\n",
       "    <tr>\n",
       "      <th>3</th>\n",
       "      <td>0</td>\n",
       "      <td>0</td>\n",
       "      <td>0</td>\n",
       "      <td>0</td>\n",
       "      <td>0</td>\n",
       "      <td>0</td>\n",
       "      <td>0</td>\n",
       "      <td>0</td>\n",
       "      <td>0</td>\n",
       "      <td>0</td>\n",
       "      <td>...</td>\n",
       "      <td>0</td>\n",
       "      <td>0</td>\n",
       "      <td>0</td>\n",
       "      <td>0</td>\n",
       "      <td>0</td>\n",
       "      <td>0</td>\n",
       "      <td>0</td>\n",
       "      <td>0</td>\n",
       "      <td>0</td>\n",
       "      <td>0</td>\n",
       "    </tr>\n",
       "    <tr>\n",
       "      <th>4</th>\n",
       "      <td>0</td>\n",
       "      <td>0</td>\n",
       "      <td>0</td>\n",
       "      <td>0</td>\n",
       "      <td>0</td>\n",
       "      <td>0</td>\n",
       "      <td>0</td>\n",
       "      <td>0</td>\n",
       "      <td>0</td>\n",
       "      <td>0</td>\n",
       "      <td>...</td>\n",
       "      <td>0</td>\n",
       "      <td>0</td>\n",
       "      <td>0</td>\n",
       "      <td>0</td>\n",
       "      <td>0</td>\n",
       "      <td>0</td>\n",
       "      <td>0</td>\n",
       "      <td>0</td>\n",
       "      <td>0</td>\n",
       "      <td>0</td>\n",
       "    </tr>\n",
       "    <tr>\n",
       "      <th>...</th>\n",
       "      <td>...</td>\n",
       "      <td>...</td>\n",
       "      <td>...</td>\n",
       "      <td>...</td>\n",
       "      <td>...</td>\n",
       "      <td>...</td>\n",
       "      <td>...</td>\n",
       "      <td>...</td>\n",
       "      <td>...</td>\n",
       "      <td>...</td>\n",
       "      <td>...</td>\n",
       "      <td>...</td>\n",
       "      <td>...</td>\n",
       "      <td>...</td>\n",
       "      <td>...</td>\n",
       "      <td>...</td>\n",
       "      <td>...</td>\n",
       "      <td>...</td>\n",
       "      <td>...</td>\n",
       "      <td>...</td>\n",
       "      <td>...</td>\n",
       "    </tr>\n",
       "    <tr>\n",
       "      <th>4995</th>\n",
       "      <td>0</td>\n",
       "      <td>0</td>\n",
       "      <td>0</td>\n",
       "      <td>0</td>\n",
       "      <td>0</td>\n",
       "      <td>0</td>\n",
       "      <td>0</td>\n",
       "      <td>0</td>\n",
       "      <td>0</td>\n",
       "      <td>0</td>\n",
       "      <td>...</td>\n",
       "      <td>0</td>\n",
       "      <td>0</td>\n",
       "      <td>0</td>\n",
       "      <td>0</td>\n",
       "      <td>0</td>\n",
       "      <td>0</td>\n",
       "      <td>0</td>\n",
       "      <td>0</td>\n",
       "      <td>0</td>\n",
       "      <td>0</td>\n",
       "    </tr>\n",
       "    <tr>\n",
       "      <th>4996</th>\n",
       "      <td>0</td>\n",
       "      <td>0</td>\n",
       "      <td>0</td>\n",
       "      <td>0</td>\n",
       "      <td>0</td>\n",
       "      <td>0</td>\n",
       "      <td>0</td>\n",
       "      <td>0</td>\n",
       "      <td>0</td>\n",
       "      <td>0</td>\n",
       "      <td>...</td>\n",
       "      <td>0</td>\n",
       "      <td>0</td>\n",
       "      <td>0</td>\n",
       "      <td>0</td>\n",
       "      <td>0</td>\n",
       "      <td>0</td>\n",
       "      <td>0</td>\n",
       "      <td>0</td>\n",
       "      <td>0</td>\n",
       "      <td>0</td>\n",
       "    </tr>\n",
       "    <tr>\n",
       "      <th>4997</th>\n",
       "      <td>0</td>\n",
       "      <td>0</td>\n",
       "      <td>0</td>\n",
       "      <td>0</td>\n",
       "      <td>0</td>\n",
       "      <td>0</td>\n",
       "      <td>0</td>\n",
       "      <td>0</td>\n",
       "      <td>0</td>\n",
       "      <td>0</td>\n",
       "      <td>...</td>\n",
       "      <td>0</td>\n",
       "      <td>0</td>\n",
       "      <td>0</td>\n",
       "      <td>0</td>\n",
       "      <td>0</td>\n",
       "      <td>0</td>\n",
       "      <td>0</td>\n",
       "      <td>0</td>\n",
       "      <td>0</td>\n",
       "      <td>0</td>\n",
       "    </tr>\n",
       "    <tr>\n",
       "      <th>4998</th>\n",
       "      <td>0</td>\n",
       "      <td>0</td>\n",
       "      <td>0</td>\n",
       "      <td>0</td>\n",
       "      <td>0</td>\n",
       "      <td>0</td>\n",
       "      <td>0</td>\n",
       "      <td>0</td>\n",
       "      <td>0</td>\n",
       "      <td>0</td>\n",
       "      <td>...</td>\n",
       "      <td>0</td>\n",
       "      <td>0</td>\n",
       "      <td>0</td>\n",
       "      <td>0</td>\n",
       "      <td>0</td>\n",
       "      <td>0</td>\n",
       "      <td>0</td>\n",
       "      <td>0</td>\n",
       "      <td>0</td>\n",
       "      <td>0</td>\n",
       "    </tr>\n",
       "    <tr>\n",
       "      <th>4999</th>\n",
       "      <td>0</td>\n",
       "      <td>0</td>\n",
       "      <td>0</td>\n",
       "      <td>0</td>\n",
       "      <td>0</td>\n",
       "      <td>0</td>\n",
       "      <td>0</td>\n",
       "      <td>0</td>\n",
       "      <td>0</td>\n",
       "      <td>0</td>\n",
       "      <td>...</td>\n",
       "      <td>0</td>\n",
       "      <td>0</td>\n",
       "      <td>0</td>\n",
       "      <td>0</td>\n",
       "      <td>0</td>\n",
       "      <td>0</td>\n",
       "      <td>0</td>\n",
       "      <td>0</td>\n",
       "      <td>0</td>\n",
       "      <td>0</td>\n",
       "    </tr>\n",
       "  </tbody>\n",
       "</table>\n",
       "<p>5000 rows × 784 columns</p>\n",
       "</div>"
      ],
      "text/plain": [
       "      pixel0  pixel1  pixel2  pixel3  pixel4  pixel5  pixel6  pixel7  pixel8  \\\n",
       "0          0       0       0       0       0       0       0       0       0   \n",
       "1          0       0       0       0       0       0       0       0       0   \n",
       "2          0       0       0       0       0       0       0       0       0   \n",
       "3          0       0       0       0       0       0       0       0       0   \n",
       "4          0       0       0       0       0       0       0       0       0   \n",
       "...      ...     ...     ...     ...     ...     ...     ...     ...     ...   \n",
       "4995       0       0       0       0       0       0       0       0       0   \n",
       "4996       0       0       0       0       0       0       0       0       0   \n",
       "4997       0       0       0       0       0       0       0       0       0   \n",
       "4998       0       0       0       0       0       0       0       0       0   \n",
       "4999       0       0       0       0       0       0       0       0       0   \n",
       "\n",
       "      pixel9  ...  pixel774  pixel775  pixel776  pixel777  pixel778  pixel779  \\\n",
       "0          0  ...         0         0         0         0         0         0   \n",
       "1          0  ...         0         0         0         0         0         0   \n",
       "2          0  ...         0         0         0         0         0         0   \n",
       "3          0  ...         0         0         0         0         0         0   \n",
       "4          0  ...         0         0         0         0         0         0   \n",
       "...      ...  ...       ...       ...       ...       ...       ...       ...   \n",
       "4995       0  ...         0         0         0         0         0         0   \n",
       "4996       0  ...         0         0         0         0         0         0   \n",
       "4997       0  ...         0         0         0         0         0         0   \n",
       "4998       0  ...         0         0         0         0         0         0   \n",
       "4999       0  ...         0         0         0         0         0         0   \n",
       "\n",
       "      pixel780  pixel781  pixel782  pixel783  \n",
       "0            0         0         0         0  \n",
       "1            0         0         0         0  \n",
       "2            0         0         0         0  \n",
       "3            0         0         0         0  \n",
       "4            0         0         0         0  \n",
       "...        ...       ...       ...       ...  \n",
       "4995         0         0         0         0  \n",
       "4996         0         0         0         0  \n",
       "4997         0         0         0         0  \n",
       "4998         0         0         0         0  \n",
       "4999         0         0         0         0  \n",
       "\n",
       "[5000 rows x 784 columns]"
      ]
     },
     "execution_count": 28,
     "metadata": {},
     "output_type": "execute_result"
    }
   ],
   "source": [
    "x"
   ]
  },
  {
   "cell_type": "code",
   "execution_count": 26,
   "id": "superb-palmer",
   "metadata": {},
   "outputs": [],
   "source": [
    "y = data.iloc[:,0]  #label"
   ]
  },
  {
   "cell_type": "code",
   "execution_count": 29,
   "id": "injured-disco",
   "metadata": {
    "scrolled": true
   },
   "outputs": [
    {
     "data": {
      "text/plain": [
       "0       1\n",
       "1       0\n",
       "2       1\n",
       "3       4\n",
       "4       0\n",
       "       ..\n",
       "4995    2\n",
       "4996    5\n",
       "4997    8\n",
       "4998    7\n",
       "4999    9\n",
       "Name: label, Length: 5000, dtype: int64"
      ]
     },
     "execution_count": 29,
     "metadata": {},
     "output_type": "execute_result"
    }
   ],
   "source": [
    "y"
   ]
  },
  {
   "cell_type": "code",
   "execution_count": 27,
   "id": "composite-bidder",
   "metadata": {},
   "outputs": [],
   "source": [
    "x_fsvar = VarianceThreshold(np.median(x.var().values)).fit_transform(X)"
   ]
  },
  {
   "cell_type": "code",
   "execution_count": 31,
   "id": "local-equivalent",
   "metadata": {},
   "outputs": [
    {
     "data": {
      "text/plain": [
       "(5000, 391)"
      ]
     },
     "execution_count": 31,
     "metadata": {},
     "output_type": "execute_result"
    }
   ],
   "source": [
    "x_fsvar.shape"
   ]
  },
  {
   "cell_type": "markdown",
   "id": "compliant-invalid",
   "metadata": {},
   "source": [
    "**2.KNN方差过滤前**"
   ]
  },
  {
   "cell_type": "code",
   "execution_count": null,
   "id": "offshore-porcelain",
   "metadata": {},
   "outputs": [],
   "source": [
    "#=====time warning=====\n",
    "cross_val_score(KNN(),x,y,cv=5).mean()  #0.968"
   ]
  },
  {
   "cell_type": "code",
   "execution_count": null,
   "id": "ambient-married",
   "metadata": {},
   "outputs": [],
   "source": [
    "#python中的魔法命令，可以直接使用%%timeit来计算运行这个cell中的代码所需的时间\n",
    "#为了计算所需的时间，需要将这个cell中的代码运行很多次（通常是7次）后求平均值，\n",
    "#因此运行%%timeit的时间会远远超过cell中的代码单独运行的时间"
   ]
  },
  {
   "cell_type": "code",
   "execution_count": null,
   "id": "distributed-bandwidth",
   "metadata": {},
   "outputs": [],
   "source": [
    "%%timeit\n",
    "cross_val_score(KNN(),x,y,cv=5).mean()"
   ]
  },
  {
   "cell_type": "markdown",
   "id": "musical-advice",
   "metadata": {},
   "source": [
    "**3.KNN方差过滤后**"
   ]
  },
  {
   "cell_type": "code",
   "execution_count": null,
   "id": "passive-haven",
   "metadata": {},
   "outputs": [],
   "source": [
    "#=====time warning=====\n",
    "cross_val_score(KNN(),x_fsvar,y,cv=5).mean() #0.969"
   ]
  },
  {
   "cell_type": "markdown",
   "id": "prepared-listening",
   "metadata": {},
   "source": [
    "**4.随机森林方差过滤前**"
   ]
  },
  {
   "cell_type": "code",
   "execution_count": 33,
   "id": "atlantic-treasury",
   "metadata": {},
   "outputs": [
    {
     "data": {
      "text/plain": [
       "0.8799999999999999"
      ]
     },
     "execution_count": 33,
     "metadata": {},
     "output_type": "execute_result"
    }
   ],
   "source": [
    "cross_val_score(RFC(n_estimators=10,random_state=0),x,y,cv=5).mean()"
   ]
  },
  {
   "cell_type": "code",
   "execution_count": 34,
   "id": "increased-frost",
   "metadata": {},
   "outputs": [
    {
     "name": "stdout",
     "output_type": "stream",
     "text": [
      "2.47 s ± 141 ms per loop (mean ± std. dev. of 7 runs, 1 loop each)\n"
     ]
    }
   ],
   "source": [
    "%%timeit\n",
    "cross_val_score(RFC(n_estimators=10,random_state=0),x,y,cv=5).mean()"
   ]
  },
  {
   "cell_type": "markdown",
   "id": "international-bibliography",
   "metadata": {},
   "source": [
    "**5.随机森林方差过滤后**"
   ]
  },
  {
   "cell_type": "code",
   "execution_count": 35,
   "id": "accessible-exemption",
   "metadata": {},
   "outputs": [
    {
     "data": {
      "text/plain": [
       "0.8817999999999999"
      ]
     },
     "execution_count": 35,
     "metadata": {},
     "output_type": "execute_result"
    }
   ],
   "source": [
    "cross_val_score(RFC(n_estimators=10,random_state=0),x_fsvar,y,cv=5).mean()"
   ]
  },
  {
   "cell_type": "code",
   "execution_count": 36,
   "id": "certified-receipt",
   "metadata": {},
   "outputs": [
    {
     "name": "stdout",
     "output_type": "stream",
     "text": [
      "2.35 s ± 127 ms per loop (mean ± std. dev. of 7 runs, 1 loop each)\n"
     ]
    }
   ],
   "source": [
    "%%timeit\n",
    "cross_val_score(RFC(n_estimators=10,random_state=0),x_fsvar,y,cv=5).mean()"
   ]
  },
  {
   "cell_type": "markdown",
   "id": "general-mexican",
   "metadata": {},
   "source": [
    "**思考：过滤法对随机森林无效，却对树模型有效，为什么？**<br>\n",
    "从算法原理上来说，传统决策树需要遍历所有特征，计算不纯度后进行分枝，而随机森林确是随机选择特征进行计算和分枝，因此随机森林的运算更快，过滤法对随机森林无用，对决策树却有用。<br>\n",
    "\n",
    "在sklearn中，决策树和随机森林都是随机选择特征进行分枝，但决策树在建模过程中随机抽取的特征数目却远远超过随机森林当中每棵树随机抽取的特征数目（比如说780的数据，随机森林每棵树只会抽取10-20个特征。而决策树可能会抽取300-400个特征），因此，过滤法对随机森林无用，却对决策树有用。<br>\n",
    "<br>\n",
    "也因此，在sklearn中，随机森林中的每棵树都比单独的一颗决策树简单的多，高维数据下的随机森林的计算比决策树快很多。"
   ]
  },
  {
   "cell_type": "markdown",
   "id": "disabled-letters",
   "metadata": {},
   "source": [
    "对受影响的算法（KNN、单颗决策树、支持向量机SVM，神经网络、回归算法）来说，我们可以将方差过滤的影响总结如下："
   ]
  },
  {
   "cell_type": "markdown",
   "id": "static-adaptation",
   "metadata": {},
   "source": [
    "\n",
    "| |**阈值很小<br>被过滤的特征比较少**|**阈值比较大<br>被过滤掉的特征有很多**|\n",
    "|:---|:---:|---:|\n",
    "|模型表现|不会有太大影响|可能变得更好，代表被过滤掉的特征大部分是噪声<br>也可能变糟糕，代表被滤掉的特征中很多是有效特征|\n",
    "|运行时间|可能降低模型的运行时间<br>基于方差很小的特征有多少<br>当方差很小的特征不多时<br>对模型没有太大影响|一定能够降低模型的运行时间<br>算法在遍历特征时的计算越复杂，运行时间下降得越多|"
   ]
  },
  {
   "cell_type": "markdown",
   "id": "negative-france",
   "metadata": {},
   "source": [
    "**思考：虽然随机森林算得快，但KNN的效果比随机森林更好？**<br>\n",
    "调整一下n_estimators试试看吧，随机森林是个非常强大的模型哦"
   ]
  },
  {
   "cell_type": "markdown",
   "id": "northern-occasions",
   "metadata": {},
   "source": [
    "### 3.1.1.3 选取超参数threshold"
   ]
  },
  {
   "cell_type": "markdown",
   "id": "occasional-invitation",
   "metadata": {},
   "source": [
    "**我们怎样知道，方差过滤掉的到底是噪音还是有效特征呢？过滤后模型到底会变好还是会变坏呢？**<br>\n",
    "一般我们只会使用阈值为0或者阈值很小的方差过滤，来为我们消除一些明显用不到的特征，然后我们会选择更优的特征选择方法继续削减特征数量。"
   ]
  },
  {
   "cell_type": "markdown",
   "id": "regional-specific",
   "metadata": {},
   "source": [
    "## 3.1.2 相关性过滤"
   ]
  },
  {
   "cell_type": "markdown",
   "id": "greek-wealth",
   "metadata": {},
   "source": [
    "sklearn中，3种方法：卡方、F检验、互信息。"
   ]
  },
  {
   "cell_type": "markdown",
   "id": "smoking-danish",
   "metadata": {},
   "source": [
    "### 3.1.2.1 卡方过滤"
   ]
  },
  {
   "cell_type": "markdown",
   "id": "deluxe-baker",
   "metadata": {},
   "source": [
    "卡方过滤是专门针对离散型标签（即分类问题）的相关性过滤。卡方检验类 **feature_selection.chi2** 计算每个非负特征和标签之间的卡方统计量，并依照卡方统计量由高到低为特征排名。再结合 **feature_selection.SelectKBest** 这个可以输入“评分标准”来选出前k个分数最高的特征的类，我们可以借此除去最可能独立于标签，与我们分类目的无关的特征。<br>\n",
    "<br>\n",
    "另外，如果卡方检验检测到某个特征中的所有值都相同，会提示我们使用方差先进行方差过滤。并且，刚才我们已经验证过，当我们使用方差过滤筛选掉一半的特征后，模型的表现时提升的。因此在这里，我们使用threshold=中位数时完成的方差过滤的数据来做卡方检验（如果方差过滤后模型的表现反而降低了，那我们就不会使用方差过滤后的数据，而是使用原数据）："
   ]
  },
  {
   "cell_type": "code",
   "execution_count": 37,
   "id": "automotive-zoning",
   "metadata": {},
   "outputs": [],
   "source": [
    "from sklearn.ensemble import RandomForestClassifier as RFC\n",
    "from sklearn.model_selection import cross_val_score\n",
    "from sklearn.feature_selection import SelectKBest\n",
    "from sklearn.feature_selection import chi2"
   ]
  },
  {
   "cell_type": "code",
   "execution_count": 38,
   "id": "cooperative-blair",
   "metadata": {},
   "outputs": [],
   "source": [
    "#假设在这里我知道我需要300个特征\n",
    "X_fschi = SelectKBest(chi2,k=300).fit_transform(x_fsvar,y)"
   ]
  },
  {
   "cell_type": "code",
   "execution_count": 39,
   "id": "oriented-deficit",
   "metadata": {},
   "outputs": [
    {
     "data": {
      "text/plain": [
       "(5000, 300)"
      ]
     },
     "execution_count": 39,
     "metadata": {},
     "output_type": "execute_result"
    }
   ],
   "source": [
    "X_fschi.shape"
   ]
  },
  {
   "cell_type": "code",
   "execution_count": 40,
   "id": "interesting-catholic",
   "metadata": {},
   "outputs": [
    {
     "data": {
      "text/plain": [
       "0.8718"
      ]
     },
     "execution_count": 40,
     "metadata": {},
     "output_type": "execute_result"
    }
   ],
   "source": [
    "cross_val_score(RFC(n_estimators=10,random_state=0),X_fschi,y,cv=5).mean()"
   ]
  },
  {
   "cell_type": "markdown",
   "id": "sunset-witch",
   "metadata": {},
   "source": [
    "可以看出，模型的效果降低了，这说明我们在设定k=300的时候删除了与模型相关且有效的特征，我们的k值设置得太小，要么我们需要调整k值，要么我们必须放弃相关性过滤。如果模型的表现提升，则说明我们的相关性过滤是有效的，是过滤了模型的噪声的，这时候我们就保留相关性过滤的结果。"
   ]
  },
  {
   "cell_type": "markdown",
   "id": "graduate-first",
   "metadata": {},
   "source": [
    "### 3.1.2.2 选取超参数k（学习曲线）"
   ]
  },
  {
   "cell_type": "code",
   "execution_count": 43,
   "id": "packed-taxation",
   "metadata": {},
   "outputs": [
    {
     "data": {
      "image/png": "[encoded data removed]",
      "text/plain": [
       "<Figure size 432x288 with 1 Axes>"
      ]
     },
     "metadata": {
      "needs_background": "light"
     },
     "output_type": "display_data"
    }
   ],
   "source": [
    "%matplotlib inline\n",
    "import matplotlib.pyplot as plt\n",
    "\n",
    "score = []\n",
    "for i in range(390,200,-10):\n",
    "    x_fschi = SelectKBest(chi2,k=i).fit_transform(x_fsvar,y)\n",
    "    once = cross_val_score(RFC(n_estimators=10,random_state=0),x_fschi,y,cv=5).mean()\n",
    "    score.append(once)\n",
    "plt.plot(range(390,200,-10),score)\n",
    "plt.show()"
   ]
  },
  {
   "cell_type": "code",
   "execution_count": 44,
   "id": "polished-chapel",
   "metadata": {},
   "outputs": [
    {
     "data": {
      "text/plain": [
       "0.8868"
      ]
     },
     "execution_count": 44,
     "metadata": {},
     "output_type": "execute_result"
    }
   ],
   "source": [
    "max(score) #340"
   ]
  },
  {
   "cell_type": "markdown",
   "id": "convinced-western",
   "metadata": {},
   "source": [
    "![image.png](./images/1.png)"
   ]
  },
  {
   "cell_type": "markdown",
   "id": "consolidated-visibility",
   "metadata": {},
   "source": [
    "![image.png](./images/2.png)"
   ]
  },
  {
   "cell_type": "markdown",
   "id": "polar-julian",
   "metadata": {},
   "source": [
    "![image.png](./images/3.png)"
   ]
  },
  {
   "cell_type": "code",
   "execution_count": 45,
   "id": "rental-sponsorship",
   "metadata": {},
   "outputs": [],
   "source": [
    "chivalue,pvalues_chi = chi2(x_fsvar,y)"
   ]
  },
  {
   "cell_type": "code",
   "execution_count": 48,
   "id": "vocal-vietnam",
   "metadata": {
    "scrolled": true
   },
   "outputs": [
    {
     "data": {
      "text/plain": [
       "(391,)"
      ]
     },
     "execution_count": 48,
     "metadata": {},
     "output_type": "execute_result"
    }
   ],
   "source": [
    "chivalue.shape"
   ]
  },
  {
   "cell_type": "code",
   "execution_count": 49,
   "id": "several-worst",
   "metadata": {
    "scrolled": true
   },
   "outputs": [
    {
     "data": {
      "text/plain": [
       "(391,)"
      ]
     },
     "execution_count": 49,
     "metadata": {},
     "output_type": "execute_result"
    }
   ],
   "source": [
    "pvalues_chi.shape"
   ]
  },
  {
   "cell_type": "code",
   "execution_count": 51,
   "id": "australian-listing",
   "metadata": {},
   "outputs": [
    {
     "data": {
      "text/plain": [
       "391"
      ]
     },
     "execution_count": 51,
     "metadata": {},
     "output_type": "execute_result"
    }
   ],
   "source": [
    "#k取多少？我们想要消除所有p值大于设定值，比如0.05或0.01的特征：\n",
    "k = chivalue.shape[0] - (pvalues_chi > 0.05).sum()\n",
    "k"
   ]
  },
  {
   "cell_type": "code",
   "execution_count": null,
   "id": "fleet-priest",
   "metadata": {},
   "outputs": [],
   "source": [
    "#X_fschi = SelectKBest(chi2,k=300).fit_transform(x_fsvar,y)\n",
    "#cross_val_score(RFC(n_estimators=10,random_state=0),x_fschi,y,cv=5).mean()"
   ]
  },
  {
   "cell_type": "markdown",
   "id": "patent-works",
   "metadata": {},
   "source": [
    "![image.png](./images/4.png)"
   ]
  },
  {
   "cell_type": "markdown",
   "id": "presidential-boating",
   "metadata": {},
   "source": [
    "### 3.1.2.3 F检验"
   ]
  },
  {
   "cell_type": "markdown",
   "id": "neutral-balance",
   "metadata": {},
   "source": [
    "F检验，又称ANOVA，方差齐性检验，是用来捕捉每个特征与标签之间的线性关系的过滤方法。它既可以做分类，也可以做回归，因此包含 **feature_selection.f_classif** (F检验分类)和 **feature_selection.f_regression** （F检验回归）两个类。其中F检验分类是离散型变量的数据，而F检验回归用于标签是连续型变量的数据。"
   ]
  },
  {
   "cell_type": "markdown",
   "id": "built-credits",
   "metadata": {},
   "source": [
    "和卡方检验一样，这两个类需要和类 **SelectKBest** 连用，并且我们也可以直接通过输出的统计量来判断到底要设置一个什么样的K。需要注意的是，F检验在数据服从正态分布时效果会非常稳定，因此如果使用F检验过滤的话，我们会先将数据转换成服从正态分布的方式。"
   ]
  },
  {
   "cell_type": "markdown",
   "id": "suspended-resistance",
   "metadata": {},
   "source": [
    "![image.png](./images/5.png)"
   ]
  },
  {
   "cell_type": "code",
   "execution_count": 52,
   "id": "biological-paris",
   "metadata": {},
   "outputs": [],
   "source": [
    "from sklearn.feature_selection import f_classif"
   ]
  },
  {
   "cell_type": "code",
   "execution_count": 53,
   "id": "operating-projector",
   "metadata": {},
   "outputs": [],
   "source": [
    "F,pvalues_f = f_classif(x_fsvar,y)"
   ]
  },
  {
   "cell_type": "code",
   "execution_count": 54,
   "id": "intended-resistance",
   "metadata": {},
   "outputs": [
    {
     "data": {
      "text/plain": [
       "(391,)"
      ]
     },
     "execution_count": 54,
     "metadata": {},
     "output_type": "execute_result"
    }
   ],
   "source": [
    "F.shape"
   ]
  },
  {
   "cell_type": "code",
   "execution_count": 59,
   "id": "universal-handling",
   "metadata": {
    "collapsed": true
   },
   "outputs": [
    {
     "data": {
      "text/plain": [
       "array([False, False, False, False, False, False, False, False, False,\n",
       "       False, False, False, False, False, False, False, False, False,\n",
       "       False, False, False, False, False, False, False, False, False,\n",
       "       False, False, False, False, False, False, False, False, False,\n",
       "       False, False, False, False, False, False, False, False, False,\n",
       "       False, False, False, False, False, False, False, False, False,\n",
       "       False, False, False, False, False, False, False, False, False,\n",
       "       False, False, False, False, False, False, False, False, False,\n",
       "       False, False, False, False, False, False, False, False, False,\n",
       "       False, False, False, False, False, False, False, False, False,\n",
       "       False, False, False, False, False, False, False, False, False,\n",
       "       False, False, False, False, False, False, False, False, False,\n",
       "       False, False, False, False, False, False, False, False, False,\n",
       "       False, False, False, False, False, False, False, False, False,\n",
       "       False, False, False, False, False, False, False, False, False,\n",
       "       False, False, False, False, False, False, False, False, False,\n",
       "       False, False, False, False, False, False, False, False, False,\n",
       "       False, False, False, False, False, False, False, False, False,\n",
       "       False, False, False, False, False, False, False, False, False,\n",
       "       False, False, False, False, False, False, False, False, False,\n",
       "       False, False, False, False, False, False, False, False, False,\n",
       "       False, False, False, False, False, False, False, False, False,\n",
       "       False, False, False, False, False, False, False, False, False,\n",
       "       False, False, False, False, False, False, False, False, False,\n",
       "       False, False, False, False, False, False, False, False, False,\n",
       "       False, False, False, False, False, False, False, False, False,\n",
       "       False, False, False, False, False, False, False, False, False,\n",
       "       False, False, False, False, False, False, False, False, False,\n",
       "       False, False, False, False, False, False, False, False, False,\n",
       "       False, False, False, False, False, False, False, False, False,\n",
       "       False, False, False, False, False, False, False, False, False,\n",
       "       False, False, False, False, False, False, False, False, False,\n",
       "       False, False, False, False, False, False, False, False, False,\n",
       "       False, False, False, False, False, False, False, False, False,\n",
       "       False, False, False, False, False, False, False, False, False,\n",
       "       False, False, False, False, False, False, False, False, False,\n",
       "       False, False, False, False, False, False, False, False, False,\n",
       "       False, False, False, False, False, False, False, False, False,\n",
       "       False, False, False, False, False, False, False, False, False,\n",
       "       False, False, False, False, False, False, False, False, False,\n",
       "       False, False, False, False, False, False, False, False, False,\n",
       "       False, False, False, False, False, False, False, False, False,\n",
       "       False, False, False, False, False, False, False, False, False,\n",
       "       False, False, False, False])"
      ]
     },
     "execution_count": 59,
     "metadata": {},
     "output_type": "execute_result"
    }
   ],
   "source": [
    "pvalues_f > 0.05"
   ]
  },
  {
   "cell_type": "code",
   "execution_count": 57,
   "id": "smaller-insider",
   "metadata": {},
   "outputs": [
    {
     "data": {
      "text/plain": [
       "391"
      ]
     },
     "execution_count": 57,
     "metadata": {},
     "output_type": "execute_result"
    }
   ],
   "source": [
    "k = F.shape[0] - (pvalues_f > 0.05).sum()\n",
    "k"
   ]
  },
  {
   "cell_type": "code",
   "execution_count": null,
   "id": "supported-dream",
   "metadata": {},
   "outputs": [],
   "source": [
    "#X_fsF = SelectKBest(f_classif, k=填写具体的k).fit_transform(X_fsvar, y)\n",
    "#cross_val_score(RFC(n_estimators=10,random_state=0),X_fsF,y,cv=5).mean()"
   ]
  },
  {
   "cell_type": "markdown",
   "id": "mediterranean-agency",
   "metadata": {},
   "source": [
    "### 3.1.2.4 互信息法"
   ]
  },
  {
   "cell_type": "markdown",
   "id": "legislative-colors",
   "metadata": {},
   "source": [
    "![image.png](./images/6.png)"
   ]
  },
  {
   "cell_type": "code",
   "execution_count": 60,
   "id": "absolute-dodge",
   "metadata": {},
   "outputs": [],
   "source": [
    "from sklearn.feature_selection import mutual_info_classif as MIC"
   ]
  },
  {
   "cell_type": "code",
   "execution_count": 61,
   "id": "unique-feature",
   "metadata": {},
   "outputs": [],
   "source": [
    "result = MIC(x_fsvar,y)"
   ]
  },
  {
   "cell_type": "code",
   "execution_count": 62,
   "id": "difficult-century",
   "metadata": {
    "collapsed": true
   },
   "outputs": [
    {
     "data": {
      "text/plain": [
       "array([0.06864502, 0.06511051, 0.09599492, 0.13537778, 0.12622345,\n",
       "       0.11412019, 0.08268534, 0.05805024, 0.04632759, 0.07979735,\n",
       "       0.10880697, 0.10979049, 0.13383115, 0.15319726, 0.18078737,\n",
       "       0.16131213, 0.12540412, 0.08094029, 0.08236877, 0.01964027,\n",
       "       0.03007588, 0.07404721, 0.09837783, 0.11022284, 0.15113101,\n",
       "       0.15032186, 0.21896213, 0.21332853, 0.22581477, 0.20794892,\n",
       "       0.16464956, 0.14689495, 0.10032153, 0.06241822, 0.07035785,\n",
       "       0.05119317, 0.04847038, 0.05154746, 0.05316195, 0.09831704,\n",
       "       0.08044062, 0.1240548 , 0.14512693, 0.14117546, 0.14928138,\n",
       "       0.17166814, 0.17654527, 0.15675197, 0.14163608, 0.13316177,\n",
       "       0.09768143, 0.09012236, 0.10401042, 0.07617105, 0.06846708,\n",
       "       0.05164543, 0.05339722, 0.08664241, 0.09938364, 0.09092961,\n",
       "       0.0961011 , 0.10868955, 0.11081472, 0.12164751, 0.10593782,\n",
       "       0.10259875, 0.10269426, 0.09685767, 0.1056561 , 0.09320025,\n",
       "       0.08916409, 0.07436197, 0.07135871, 0.03881286, 0.04669313,\n",
       "       0.04697045, 0.07400032, 0.0790548 , 0.1182969 , 0.15054464,\n",
       "       0.1433902 , 0.11239583, 0.08749059, 0.08898535, 0.09639428,\n",
       "       0.11120133, 0.13306413, 0.13025938, 0.11415414, 0.08684905,\n",
       "       0.06950613, 0.07250021, 0.05178167, 0.06351392, 0.06654655,\n",
       "       0.09817818, 0.13875448, 0.19613154, 0.18225975, 0.15117903,\n",
       "       0.11262028, 0.07895676, 0.13429897, 0.11114602, 0.12532465,\n",
       "       0.13783516, 0.15801285, 0.13994894, 0.11777859, 0.08309753,\n",
       "       0.0817224 , 0.04970771, 0.05940197, 0.07091484, 0.10649766,\n",
       "       0.19614428, 0.19864639, 0.21392842, 0.11719534, 0.04795444,\n",
       "       0.08957399, 0.13107488, 0.12950777, 0.11605128, 0.14358543,\n",
       "       0.16483495, 0.1388637 , 0.11767878, 0.0948224 , 0.04738381,\n",
       "       0.03743416, 0.04406051, 0.09162358, 0.14675725, 0.20109839,\n",
       "       0.23380916, 0.18743412, 0.13267279, 0.11661998, 0.16782144,\n",
       "       0.18442304, 0.109845  , 0.13948261, 0.18315967, 0.15753336,\n",
       "       0.12129107, 0.12448953, 0.12024695, 0.07912894, 0.01433228,\n",
       "       0.05798883, 0.12841128, 0.16962042, 0.21975699, 0.23036397,\n",
       "       0.20572654, 0.16147567, 0.1936131 , 0.26848288, 0.21670242,\n",
       "       0.14189319, 0.17217271, 0.16570102, 0.13976602, 0.11030847,\n",
       "       0.14654827, 0.11960227, 0.08425695, 0.04175006, 0.07771541,\n",
       "       0.15308997, 0.20192364, 0.21595184, 0.21782867, 0.18954345,\n",
       "       0.20946706, 0.25603255, 0.30108781, 0.22955844, 0.15589142,\n",
       "       0.21258801, 0.19677887, 0.11881763, 0.12001695, 0.14184564,\n",
       "       0.13945474, 0.11136533, 0.06283495, 0.12112954, 0.17104207,\n",
       "       0.22060346, 0.237418  , 0.18196688, 0.17876354, 0.17030387,\n",
       "       0.26384362, 0.27778509, 0.18754418, 0.19762063, 0.24636347,\n",
       "       0.20843002, 0.14037652, 0.14804242, 0.15461126, 0.13703458,\n",
       "       0.08985577, 0.0696488 , 0.13489754, 0.19357626, 0.19931463,\n",
       "       0.21380298, 0.1694195 , 0.15684661, 0.18113563, 0.24093644,\n",
       "       0.25281051, 0.19601687, 0.23247975, 0.23738225, 0.16250978,\n",
       "       0.12029047, 0.17010791, 0.16354317, 0.13022382, 0.0902041 ,\n",
       "       0.07680826, 0.15676236, 0.19029328, 0.20976712, 0.20087775,\n",
       "       0.19953559, 0.18345828, 0.18998882, 0.25995608, 0.22484251,\n",
       "       0.19525738, 0.19934245, 0.17881391, 0.15200744, 0.13708378,\n",
       "       0.17375134, 0.16458656, 0.10893662, 0.06263037, 0.10410638,\n",
       "       0.13079748, 0.20021423, 0.20333939, 0.19919246, 0.19302348,\n",
       "       0.20596923, 0.21774028, 0.25921762, 0.2038444 , 0.15048484,\n",
       "       0.13295896, 0.12157595, 0.11488393, 0.17438658, 0.17349181,\n",
       "       0.14920741, 0.0828727 , 0.04018999, 0.10512016, 0.14861421,\n",
       "       0.20755822, 0.19497737, 0.19317165, 0.22964244, 0.20290957,\n",
       "       0.19623506, 0.21115649, 0.14601982, 0.09396962, 0.09121474,\n",
       "       0.08060444, 0.1405288 , 0.17453016, 0.18704113, 0.13507179,\n",
       "       0.11393598, 0.05768096, 0.0378902 , 0.12521234, 0.16068527,\n",
       "       0.21846427, 0.2134704 , 0.21078618, 0.22925518, 0.203133  ,\n",
       "       0.18487117, 0.1525286 , 0.077246  , 0.05498882, 0.08738885,\n",
       "       0.13224901, 0.175049  , 0.1897643 , 0.15012922, 0.12882463,\n",
       "       0.09566989, 0.05821664, 0.05277873, 0.10659877, 0.16759324,\n",
       "       0.21090604, 0.24003902, 0.21962525, 0.2135636 , 0.18063076,\n",
       "       0.13549202, 0.12812883, 0.06830566, 0.06545303, 0.10536598,\n",
       "       0.1464492 , 0.14813394, 0.14336183, 0.11762573, 0.08775989,\n",
       "       0.06483918, 0.08930091, 0.14081326, 0.19841167, 0.25236329,\n",
       "       0.22960247, 0.18493135, 0.12684065, 0.08049598, 0.05131217,\n",
       "       0.06331392, 0.07160869, 0.10337897, 0.1056369 , 0.09917259,\n",
       "       0.07823113, 0.07289395, 0.07465421, 0.04197909, 0.06205683,\n",
       "       0.09576762, 0.12676693, 0.15145363, 0.18202043, 0.20204508,\n",
       "       0.16851636, 0.11765491, 0.1149351 , 0.10407915, 0.09733726,\n",
       "       0.09337557, 0.08423358, 0.05807655, 0.05044588, 0.03655166,\n",
       "       0.02630153, 0.04877427, 0.08183159, 0.10924605, 0.13930922,\n",
       "       0.13991258, 0.18533921, 0.1821959 , 0.18330281, 0.1631186 ,\n",
       "       0.14748169, 0.07529132, 0.0751671 , 0.04105232, 0.04244463,\n",
       "       0.03621576, 0.0385489 , 0.07513655, 0.08942838, 0.09984495,\n",
       "       0.1184879 , 0.11809798, 0.1078282 , 0.09142766, 0.079165  ,\n",
       "       0.04061073, 0.06429894, 0.04682167, 0.06525401, 0.08967778,\n",
       "       0.11147516, 0.11702458, 0.09854234, 0.08425449, 0.06633951,\n",
       "       0.04166101])"
      ]
     },
     "execution_count": 62,
     "metadata": {},
     "output_type": "execute_result"
    }
   ],
   "source": [
    "result"
   ]
  },
  {
   "cell_type": "code",
   "execution_count": 64,
   "id": "wanted-gazette",
   "metadata": {},
   "outputs": [
    {
     "data": {
      "text/plain": [
       "0"
      ]
     },
     "execution_count": 64,
     "metadata": {},
     "output_type": "execute_result"
    }
   ],
   "source": [
    "k = result.shape[0] - sum(result>0)\n",
    "k"
   ]
  },
  {
   "cell_type": "code",
   "execution_count": 66,
   "id": "foster-bottle",
   "metadata": {},
   "outputs": [
    {
     "data": {
      "text/plain": [
       "391"
      ]
     },
     "execution_count": 66,
     "metadata": {},
     "output_type": "execute_result"
    }
   ],
   "source": [
    "(result > 0).sum()"
   ]
  },
  {
   "cell_type": "code",
   "execution_count": null,
   "id": "paperback-finding",
   "metadata": {},
   "outputs": [],
   "source": [
    "#X_fsmic = SelectKBest(MIC, k=填写具体的k).fit_transform(X_fsvar, y)\n",
    "#cross_val_score(RFC(n_estimators=10,random_state=0),X_fsmic,y,cv=5).mean()"
   ]
  },
  {
   "cell_type": "markdown",
   "id": "distinguished-beaver",
   "metadata": {},
   "source": [
    "三种方法得出的结论一样"
   ]
  },
  {
   "cell_type": "markdown",
   "id": "rotary-continuity",
   "metadata": {},
   "source": [
    "![image.png](./images/7.png)"
   ]
  },
  {
   "cell_type": "markdown",
   "id": "supreme-construction",
   "metadata": {},
   "source": [
    "## 3.1.3 过滤法总结"
   ]
  },
  {
   "cell_type": "markdown",
   "id": "welcome-triumph",
   "metadata": {},
   "source": [
    "![image.png](./images/8.png)"
   ]
  },
  {
   "cell_type": "markdown",
   "id": "devoted-concern",
   "metadata": {},
   "source": [
    "![image.png](./images/9.png)"
   ]
  },
  {
   "cell_type": "markdown",
   "id": "medical-florida",
   "metadata": {},
   "source": [
    "**注：图片截图来自b站菜菜的教学视频。**"
   ]
  },
  {
   "cell_type": "markdown",
   "id": "touched-glucose",
   "metadata": {},
   "source": [
    "# 3.2 Embedded嵌入法"
   ]
  },
  {
   "cell_type": "markdown",
   "id": "emotional-brush",
   "metadata": {},
   "source": [
    "![image.png](./images/10.png)"
   ]
  },
  {
   "cell_type": "markdown",
   "id": "sudden-airport",
   "metadata": {},
   "source": [
    "![image.png](./images/11.png)"
   ]
  },
  {
   "cell_type": "markdown",
   "id": "surrounded-ultimate",
   "metadata": {},
   "source": [
    "- **feature_selection.SelectFromModel**"
   ]
  },
  {
   "cell_type": "markdown",
   "id": "substantial-family",
   "metadata": {},
   "source": [
    "![image.png](./images/12.png)"
   ]
  },
  {
   "cell_type": "markdown",
   "id": "interested-catalog",
   "metadata": {},
   "source": [
    "![image.png](./images/13.png)"
   ]
  },
  {
   "cell_type": "markdown",
   "id": "specific-beauty",
   "metadata": {},
   "source": [
    "![image.png](./images/14.png)"
   ]
  },
  {
   "cell_type": "markdown",
   "id": "novel-celebration",
   "metadata": {},
   "source": [
    "![image.png](./images/15.png)"
   ]
  },
  {
   "cell_type": "code",
   "execution_count": 93,
   "id": "durable-jumping",
   "metadata": {},
   "outputs": [],
   "source": [
    "from sklearn.feature_selection import SelectFromModel\n",
    "from sklearn.ensemble import RandomForestClassifier as RFC"
   ]
  },
  {
   "cell_type": "code",
   "execution_count": 94,
   "id": "structural-hamilton",
   "metadata": {},
   "outputs": [],
   "source": [
    "RFC_ = RFC(n_estimators=10,random_state=0) #随机森林的实例化"
   ]
  },
  {
   "cell_type": "code",
   "execution_count": 71,
   "id": "communist-single",
   "metadata": {},
   "outputs": [],
   "source": [
    "X_embeded = SelectFromModel(RFC_,threshold=0.005).fit_transform(x,y)"
   ]
  },
  {
   "cell_type": "code",
   "execution_count": null,
   "id": "infrared-weapon",
   "metadata": {},
   "outputs": [],
   "source": [
    "#在这里我只想取出来有限的特征\n",
    "#0.005这个阈值队友有780个特征的数据来说，是非常高的阈值，\n",
    "#因为平均每个特征只能够分到大约0.001"
   ]
  },
  {
   "cell_type": "code",
   "execution_count": 74,
   "id": "silent-marker",
   "metadata": {},
   "outputs": [
    {
     "data": {
      "text/plain": [
       "(5000, 47)"
      ]
     },
     "execution_count": 74,
     "metadata": {},
     "output_type": "execute_result"
    }
   ],
   "source": [
    "X_embeded.shape"
   ]
  },
  {
   "cell_type": "code",
   "execution_count": null,
   "id": "bound-berlin",
   "metadata": {},
   "outputs": [],
   "source": [
    "#模型的维度明显被降低了\n",
    "#同样的，我们也可以画学习曲线来找最佳阈值"
   ]
  },
  {
   "cell_type": "code",
   "execution_count": 79,
   "id": "falling-cycle",
   "metadata": {},
   "outputs": [
    {
     "data": {
      "text/plain": [
       "0.01520923559096075"
      ]
     },
     "execution_count": 79,
     "metadata": {},
     "output_type": "execute_result"
    }
   ],
   "source": [
    "(RFC_.fit(x,y).feature_importances_).max()"
   ]
  },
  {
   "cell_type": "code",
   "execution_count": 76,
   "id": "strange-suicide",
   "metadata": {},
   "outputs": [
    {
     "data": {
      "image/png": "[encoded data removed]",
      "text/plain": [
       "<Figure size 432x288 with 1 Axes>"
      ]
     },
     "metadata": {
      "needs_background": "light"
     },
     "output_type": "display_data"
    }
   ],
   "source": [
    "import numpy as np\n",
    "import matplotlib.pyplot as plt\n",
    "\n",
    "threshold = np.linspace(0,(RFC_.fit(x,y).feature_importances_).max(),20)\n",
    "\n",
    "score=[]\n",
    "for i in threshold:\n",
    "    x_embedded = SelectFromModel(RFC_,threshold=i).fit_transform(x,y)\n",
    "    once = cross_val_score(RFC_,x_embedded,y,cv=5).mean()\n",
    "    score.append(once)\n",
    "plt.plot(threshold,score)\n",
    "plt.show()"
   ]
  },
  {
   "cell_type": "code",
   "execution_count": 80,
   "id": "quarterly-petroleum",
   "metadata": {},
   "outputs": [
    {
     "data": {
      "text/plain": [
       "array([0.        , 0.00080049, 0.00160097, 0.00240146, 0.00320194,\n",
       "       0.00400243, 0.00480292, 0.0056034 , 0.00640389, 0.00720437,\n",
       "       0.00800486, 0.00880535, 0.00960583, 0.01040632, 0.01120681,\n",
       "       0.01200729, 0.01280778, 0.01360826, 0.01440875, 0.01520924])"
      ]
     },
     "execution_count": 80,
     "metadata": {},
     "output_type": "execute_result"
    }
   ],
   "source": [
    "threshold"
   ]
  },
  {
   "cell_type": "code",
   "execution_count": 78,
   "id": "operational-boards",
   "metadata": {},
   "outputs": [
    {
     "data": {
      "text/plain": [
       "0.8874000000000001"
      ]
     },
     "execution_count": 78,
     "metadata": {},
     "output_type": "execute_result"
    }
   ],
   "source": [
    "max(score)"
   ]
  },
  {
   "cell_type": "code",
   "execution_count": 87,
   "id": "optical-webmaster",
   "metadata": {},
   "outputs": [
    {
     "data": {
      "text/plain": [
       "(5000, 300)"
      ]
     },
     "execution_count": 87,
     "metadata": {},
     "output_type": "execute_result"
    }
   ],
   "source": [
    "x_embedded2 = SelectFromModel(RFC_,threshold=0.0008).fit_transform(x,y)\n",
    "x_embedded2.shape"
   ]
  },
  {
   "cell_type": "code",
   "execution_count": 88,
   "id": "built-research",
   "metadata": {},
   "outputs": [
    {
     "data": {
      "text/plain": [
       "0.8874000000000001"
      ]
     },
     "execution_count": 88,
     "metadata": {},
     "output_type": "execute_result"
    }
   ],
   "source": [
    "cross_val_score(RFC_,x_embedded2,y,cv=5).mean()"
   ]
  },
  {
   "cell_type": "code",
   "execution_count": 90,
   "id": "wireless-major",
   "metadata": {},
   "outputs": [
    {
     "data": {
      "image/png": "[encoded data removed]",
      "text/plain": [
       "<Figure size 1440x360 with 1 Axes>"
      ]
     },
     "metadata": {
      "needs_background": "light"
     },
     "output_type": "display_data"
    }
   ],
   "source": [
    "score2=[]\n",
    "for i in np.linspace(0,0.002,20):\n",
    "    x_embedded = SelectFromModel(RFC_,threshold=i).fit_transform(x,y)\n",
    "    once = cross_val_score(RFC_,x_embedded,y,cv=5).mean()\n",
    "    score2.append(once)\n",
    "plt.figure(figsize=[20,5])    \n",
    "plt.plot(np.linspace(0,0.002,20),score2)\n",
    "plt.xticks(np.linspace(0,0.002,20))\n",
    "plt.show()"
   ]
  },
  {
   "cell_type": "code",
   "execution_count": 91,
   "id": "worth-syndrome",
   "metadata": {},
   "outputs": [
    {
     "data": {
      "text/plain": [
       "0.8874000000000001"
      ]
     },
     "execution_count": 91,
     "metadata": {},
     "output_type": "execute_result"
    }
   ],
   "source": [
    "max(score2)"
   ]
  },
  {
   "cell_type": "code",
   "execution_count": 96,
   "id": "atmospheric-retirement",
   "metadata": {},
   "outputs": [
    {
     "data": {
      "text/plain": [
       "0.932"
      ]
     },
     "execution_count": 96,
     "metadata": {},
     "output_type": "execute_result"
    }
   ],
   "source": [
    "cross_val_score(RFC(n_estimators=100,random_state=0),x_embedded2,y,cv=5).mean()\n",
    "#厉害了厉害了 n_estimators ！！！"
   ]
  },
  {
   "cell_type": "markdown",
   "id": "documented-lyric",
   "metadata": {},
   "source": [
    "![image.png](./images/16.png)"
   ]
  },
  {
   "cell_type": "markdown",
   "id": "adequate-wireless",
   "metadata": {},
   "source": [
    "# 3.3 包装法"
   ]
  },
  {
   "cell_type": "markdown",
   "id": "controlling-jumping",
   "metadata": {},
   "source": [
    "![image.png](./images/17.png)"
   ]
  },
  {
   "cell_type": "markdown",
   "id": "stock-drinking",
   "metadata": {},
   "source": [
    "![image.png](./images/18.png)"
   ]
  },
  {
   "cell_type": "markdown",
   "id": "professional-maximum",
   "metadata": {},
   "source": [
    "- **feature.selection.RFE**"
   ]
  },
  {
   "cell_type": "markdown",
   "id": "prescribed-ultimate",
   "metadata": {},
   "source": [
    "![image.png](./images/19.png)"
   ]
  },
  {
   "cell_type": "markdown",
   "id": "measured-dealer",
   "metadata": {},
   "source": [
    "![image.png](./images/20.png)"
   ]
  },
  {
   "cell_type": "code",
   "execution_count": 97,
   "id": "unlimited-mount",
   "metadata": {},
   "outputs": [],
   "source": [
    "from sklearn.feature_selection import RFE\n",
    "from sklearn.ensemble import RandomForestClassifier as RFC"
   ]
  },
  {
   "cell_type": "code",
   "execution_count": 98,
   "id": "romantic-recall",
   "metadata": {},
   "outputs": [],
   "source": [
    "RFC_ = RFC(n_estimators=10,random_state=0)"
   ]
  },
  {
   "cell_type": "code",
   "execution_count": 99,
   "id": "missing-interpretation",
   "metadata": {},
   "outputs": [],
   "source": [
    "selector = RFE(RFC_,n_features_to_select=340,step=50).fit(x,y)"
   ]
  },
  {
   "cell_type": "code",
   "execution_count": 101,
   "id": "ambient-friday",
   "metadata": {},
   "outputs": [
    {
     "data": {
      "text/plain": [
       "340"
      ]
     },
     "execution_count": 101,
     "metadata": {},
     "output_type": "execute_result"
    }
   ],
   "source": [
    "(selector.support_).sum()"
   ]
  },
  {
   "cell_type": "code",
   "execution_count": 102,
   "id": "affecting-heritage",
   "metadata": {
    "scrolled": true
   },
   "outputs": [
    {
     "data": {
      "text/plain": [
       "array([10,  9,  8,  7,  6,  5,  4,  4,  4,  4,  4,  4,  4,  4,  4,  4,  4,\n",
       "        4,  4,  4,  4,  3,  3,  3,  3,  4,  5,  4,  4,  4,  4,  3,  3,  4,\n",
       "        4,  4,  4,  4,  4,  4,  4,  4,  4,  4,  4,  4,  4,  4,  4,  4,  4,\n",
       "        5,  4,  5,  5,  5,  5,  5,  5,  5,  5,  5,  5,  5,  5,  5,  5,  5,\n",
       "        2,  5,  2,  5,  5,  3,  4,  3,  6,  6,  6,  6,  6,  6,  6,  6,  6,\n",
       "        6,  6,  6,  6,  6,  6,  5,  5,  3,  7,  2,  3,  2,  1,  1,  1,  1,\n",
       "        1,  1,  7,  2,  3,  7,  6,  7,  7,  7,  7,  7,  7,  7,  7,  5,  7,\n",
       "        5,  2,  3,  1,  1,  1,  1,  1,  1,  1,  1,  1,  2,  3,  3,  6,  4,\n",
       "        7,  6,  8,  8,  8,  8,  8,  8,  8,  6,  8,  3,  3,  1,  1,  1,  1,\n",
       "        1,  1,  1,  1,  1,  1,  1,  1,  1,  1,  2,  4,  8,  8,  9,  9,  9,\n",
       "        9,  7,  9,  3,  1,  1,  1,  1,  1,  1,  1,  1,  1,  1,  1,  1,  1,\n",
       "        1,  1,  1,  1,  1,  3,  7,  8,  8,  9,  9,  9,  9,  9,  3,  1,  1,\n",
       "        1,  1,  1,  1,  1,  1,  1,  1,  1,  1,  1,  1,  1,  1,  1,  1,  1,\n",
       "        7,  8,  9,  9,  9,  8,  8,  5,  3,  6,  1,  1,  1,  1,  1,  1,  1,\n",
       "        1,  1,  1,  1,  1,  1,  1,  1,  1,  1,  2,  5, 10, 10, 10, 10, 10,\n",
       "       10,  8,  3,  2,  1,  1,  1,  1,  1,  1,  1,  1,  1,  1,  1,  1,  1,\n",
       "        1,  1,  1,  3,  2,  8,  8,  8,  8,  7,  7,  7,  4,  4,  2,  1,  1,\n",
       "        1,  1,  1,  1,  1,  1,  1,  1,  1,  1,  1,  1,  1,  2,  1,  3,  4,\n",
       "        7,  7,  7,  8,  6,  8,  8,  3,  1,  1,  1,  1,  1,  1,  1,  1,  1,\n",
       "        1,  1,  1,  1,  1,  1,  1,  1,  1,  2,  8,  8,  8,  9,  8,  9,  9,\n",
       "        4,  2,  1,  1,  1,  1,  1,  1,  1,  1,  1,  1,  1,  1,  1,  1,  1,\n",
       "        1,  1,  9,  3,  9,  8,  9,  9,  9, 10,  8,  9,  3,  2,  1,  1,  1,\n",
       "        1,  1,  1,  1,  1,  1,  1,  1,  1,  1,  1,  3,  2,  1,  9, 10, 10,\n",
       "        8, 10, 10, 10, 10, 10,  2,  1,  1,  1,  1,  1,  1,  1,  1,  1,  1,\n",
       "        1,  1,  1,  1,  1,  1,  1,  1,  7, 10, 10, 10, 10, 10, 10,  9,  3,\n",
       "        2,  1,  1,  1,  1,  1,  1,  1,  1,  1,  1,  1,  1,  1,  1,  1,  1,\n",
       "        1,  4,  6,  9, 10, 10, 10, 10, 10,  8,  9,  3,  1,  1,  1,  1,  1,\n",
       "        1,  1,  1,  1,  1,  1,  1,  1,  1,  1,  1,  1,  1,  3,  8, 10, 10,\n",
       "       10, 10, 10,  9,  3,  3,  1,  1,  1,  1,  1,  1,  1,  1,  1,  1,  1,\n",
       "        1,  1,  1,  1,  1,  1,  2,  8, 10, 10, 10, 10, 10, 10,  7,  3,  1,\n",
       "        1,  1,  1,  1,  1,  1,  1,  1,  1,  1,  1,  1,  1,  1,  1,  1,  1,\n",
       "        2,  7, 10, 10, 10, 10, 10, 10, 10,  2,  1,  1,  1,  1,  1,  1,  1,\n",
       "        1,  1,  1,  1,  1,  1,  1,  1,  1,  1,  1,  1,  3,  9, 10, 10, 10,\n",
       "       10, 10,  8,  7,  2,  1,  1,  1,  1,  1,  1,  1,  1,  1,  1,  1,  1,\n",
       "        1,  1,  1,  2,  1,  3,  3,  9,  9,  9,  9,  9,  9,  6,  5,  1,  1,\n",
       "        1,  1,  1,  1,  1,  1,  1,  1,  1,  1,  1,  1,  2,  1,  1,  2,  9,\n",
       "        9,  9,  9,  9,  9,  9,  9,  7,  2,  3,  1,  1,  1,  1,  1,  1,  1,\n",
       "        1,  1,  1,  1,  1,  1,  1,  2,  1,  3,  3,  8,  8,  9,  9,  9,  9,\n",
       "        9,  9,  4,  6,  3,  1,  1,  1,  1,  1,  1,  1,  1,  1,  1,  2,  1,\n",
       "        2,  2,  8,  3,  7,  8,  8,  8,  8,  8,  8,  8,  8,  8,  8,  2,  3,\n",
       "        1,  1,  2,  1,  1,  1,  1,  1,  1,  1,  2,  3,  3,  8,  7,  7,  7,\n",
       "        7,  7,  7,  7,  7,  7,  7,  7,  5,  6,  6,  3,  2,  2,  3,  2,  2,\n",
       "        2,  2,  2,  1,  2,  7,  6,  7,  7,  6,  6,  7,  6,  6,  6,  6,  6,\n",
       "        5,  6,  5,  5,  5,  4,  5,  5,  5,  3,  3,  2,  3,  2,  4,  5,  3,\n",
       "        5,  5,  5,  5,  5,  5,  5,  5,  5,  6,  6,  6,  6,  7,  7,  7,  7,\n",
       "        7,  6,  6,  6,  6,  5,  6,  6,  6,  5,  6,  6,  5,  6,  7,  8,  9,\n",
       "       10,  5])"
      ]
     },
     "execution_count": 102,
     "metadata": {},
     "output_type": "execute_result"
    }
   ],
   "source": [
    "selector.ranking_"
   ]
  },
  {
   "cell_type": "code",
   "execution_count": 103,
   "id": "basic-triple",
   "metadata": {},
   "outputs": [],
   "source": [
    "X_wrapper = selector.transform(x)"
   ]
  },
  {
   "cell_type": "code",
   "execution_count": 104,
   "id": "champion-witness",
   "metadata": {},
   "outputs": [
    {
     "data": {
      "text/plain": [
       "0.883"
      ]
     },
     "execution_count": 104,
     "metadata": {},
     "output_type": "execute_result"
    }
   ],
   "source": [
    "cross_val_score(RFC_,X_wrapper,y,cv=5).mean()"
   ]
  },
  {
   "cell_type": "code",
   "execution_count": 105,
   "id": "drawn-christopher",
   "metadata": {},
   "outputs": [
    {
     "data": {
      "text/plain": [
       "0.9322000000000001"
      ]
     },
     "execution_count": 105,
     "metadata": {},
     "output_type": "execute_result"
    }
   ],
   "source": [
    "cross_val_score(RFC(n_estimators=100,random_state=0),X_wrapper,y,cv=5).mean()"
   ]
  },
  {
   "cell_type": "code",
   "execution_count": 106,
   "id": "voluntary-christopher",
   "metadata": {},
   "outputs": [
    {
     "data": {
      "image/png": "[encoded data removed]",
      "text/plain": [
       "<Figure size 1296x432 with 1 Axes>"
      ]
     },
     "metadata": {
      "needs_background": "light"
     },
     "output_type": "display_data"
    }
   ],
   "source": [
    "score3=[]\n",
    "for i in range(1,751,50):\n",
    "    x_wrapper = RFE(RFC_,n_features_to_select=i,step=50).fit_transform(x,y)\n",
    "    once = cross_val_score(RFC_,x_wrapper,y,cv=5).mean()\n",
    "    score3.append(once)\n",
    "plt.figure(figsize=[18,6])    \n",
    "plt.plot(range(1,751,50),score3)\n",
    "plt.xticks(range(1,751,50))\n",
    "plt.show()"
   ]
  },
  {
   "cell_type": "markdown",
   "id": "greek-peninsula",
   "metadata": {},
   "source": [
    "![image.png](./images/21.png)"
   ]
  },
  {
   "cell_type": "markdown",
   "id": "comic-longer",
   "metadata": {},
   "source": [
    "# 3.4 特征选择总结"
   ]
  },
  {
   "cell_type": "markdown",
   "id": "closing-devices",
   "metadata": {},
   "source": [
    "![image.png](./images/22.png)"
   ]
  },
  {
   "cell_type": "code",
   "execution_count": null,
   "id": "proprietary-picture",
   "metadata": {},
   "outputs": [],
   "source": []
  }
 ],
 "metadata": {
  "kernelspec": {
   "display_name": "Python 3",
   "language": "python",
   "name": "python3"
  },
  "language_info": {
   "codemirror_mode": {
    "name": "ipython",
    "version": 3
   },
   "file_extension": ".py",
   "mimetype": "text/x-python",
   "name": "python",
   "nbconvert_exporter": "python",
   "pygments_lexer": "ipython3",
   "version": "3.9.1"
  },
  "toc": {
   "base_numbering": 1,
   "nav_menu": {},
   "number_sections": true,
   "sideBar": true,
   "skip_h1_title": false,
   "title_cell": "Table of Contents",
   "title_sidebar": "Contents",
   "toc_cell": false,
   "toc_position": {},
   "toc_section_display": true,
   "toc_window_display": false
  }
 },
 "nbformat": 4,
 "nbformat_minor": 5
}
