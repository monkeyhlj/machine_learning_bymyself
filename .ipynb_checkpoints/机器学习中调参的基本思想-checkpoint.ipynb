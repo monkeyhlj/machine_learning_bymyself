{
 "cells": [
  {
   "cell_type": "markdown",
   "id": "fitted-crossing",
   "metadata": {},
   "source": [
    "# 机器学习中调参的基本思想"
   ]
  },
  {
   "cell_type": "markdown",
   "id": "egyptian-technique",
   "metadata": {},
   "source": [
    "通过画学习曲线，或者是搜索，我们能够探索到调参的边缘（代价可能是训练一次模型要跑三天三夜哈哈哈，有深刻体会），高手调参经验：1）非常正确的调参思路和方法；2）对模型评估指标的理解；3）对数据的感觉和经验；4）用洪荒之力去不断尝试。"
   ]
  },
  {
   "cell_type": "markdown",
   "id": "fuzzy-reproduction",
   "metadata": {},
   "source": [
    "模型调参。第一步是要找准目标：我们要做什么？一般来说，这个目标是提升某个模型评估指标，比如对于随机森林来说，我们想要提升的是模型在未知数据上的准确率（由score或oob_score_来衡量）。找准了这个指标，我们需要思考：模型在未知数据上的准确率受到了什么因素影响？"
   ]
  },
  {
   "cell_type": "markdown",
   "id": "typical-access",
   "metadata": {},
   "source": [
    "在机器学习中，我们用来**衡量模型在未知数据上的准确率**的指标，叫做**泛化误差（Genelization error）**"
   ]
  },
  {
   "cell_type": "markdown",
   "id": "similar-logging",
   "metadata": {},
   "source": [
    "模型太复杂或太简单，泛化误差都会很大（U形曲线）"
   ]
  },
  {
   "cell_type": "markdown",
   "id": "pleasant-series",
   "metadata": {},
   "source": [
    "**1)模型太复杂或者太简单，都会让泛化误差高，我们追求的是位于中间的平衡点**"
   ]
  },
  {
   "cell_type": "markdown",
   "id": "peripheral-generator",
   "metadata": {},
   "source": [
    "**2)模型太复杂就会过拟合，模型太简单就会欠拟合**"
   ]
  },
  {
   "cell_type": "markdown",
   "id": "saving-pilot",
   "metadata": {},
   "source": [
    "**3)对树模型和树的集成模型来说，树的深度越深，枝叶越多，模型越复杂**"
   ]
  },
  {
   "cell_type": "markdown",
   "id": "connected-document",
   "metadata": {},
   "source": [
    "**4)树模型和树的集成模型的目标，都是减少模型复杂度，把模型往图像的左边移动**"
   ]
  },
  {
   "cell_type": "code",
   "execution_count": null,
   "id": "severe-masters",
   "metadata": {},
   "outputs": [],
   "source": []
  }
 ],
 "metadata": {
  "kernelspec": {
   "display_name": "Python 3",
   "language": "python",
   "name": "python3"
  },
  "language_info": {
   "codemirror_mode": {
    "name": "ipython",
    "version": 3
   },
   "file_extension": ".py",
   "mimetype": "text/x-python",
   "name": "python",
   "nbconvert_exporter": "python",
   "pygments_lexer": "ipython3",
   "version": "3.7.2"
  }
 },
 "nbformat": 4,
 "nbformat_minor": 5
}
