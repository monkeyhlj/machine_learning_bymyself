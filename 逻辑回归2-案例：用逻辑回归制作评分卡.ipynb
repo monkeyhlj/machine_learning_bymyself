{
 "cells": [
  {
   "cell_type": "markdown",
   "id": "frequent-validity",
   "metadata": {},
   "source": [
    "# 逻辑回归2-案例：用逻辑回归制作评分卡"
   ]
  },
  {
   "cell_type": "markdown",
   "id": "fatal-viking",
   "metadata": {},
   "source": [
    "![image.png](./images/71.png)"
   ]
  },
  {
   "cell_type": "markdown",
   "id": "arabic-tournament",
   "metadata": {},
   "source": [
    "![image.png](./images/72.png)"
   ]
  },
  {
   "cell_type": "markdown",
   "id": "german-cambridge",
   "metadata": {},
   "source": [
    "![image.png](./images/73.png)"
   ]
  },
  {
   "cell_type": "markdown",
   "id": "activated-tennessee",
   "metadata": {},
   "source": [
    "## 3.1导库，获取数据"
   ]
  },
  {
   "cell_type": "code",
   "execution_count": 39,
   "id": "higher-restriction",
   "metadata": {},
   "outputs": [],
   "source": [
    "%matplotlib inline\n",
    "import numpy as np\n",
    "import pandas as pd\n",
    "from sklearn.linear_model import LogisticRegression as LR"
   ]
  },
  {
   "cell_type": "markdown",
   "id": "plain-procedure",
   "metadata": {},
   "source": [
    "![image.png](./images/74.png)"
   ]
  },
  {
   "cell_type": "code",
   "execution_count": 40,
   "id": "twenty-collapse",
   "metadata": {},
   "outputs": [],
   "source": [
    "data = pd.read_csv(r\"./datasets/rankingcard-training.csv\",index_col=0)"
   ]
  },
  {
   "cell_type": "markdown",
   "id": "convinced-administration",
   "metadata": {},
   "source": [
    "## 3.2 探索数据与数据预处理"
   ]
  },
  {
   "cell_type": "markdown",
   "id": "thrown-colonial",
   "metadata": {},
   "source": [
    "![image.png](./images/75.png)"
   ]
  },
  {
   "cell_type": "code",
   "execution_count": 41,
   "id": "sixth-marks",
   "metadata": {},
   "outputs": [
    {
     "data": {
      "text/html": [
       "<div>\n",
       "<style scoped>\n",
       "    .dataframe tbody tr th:only-of-type {\n",
       "        vertical-align: middle;\n",
       "    }\n",
       "\n",
       "    .dataframe tbody tr th {\n",
       "        vertical-align: top;\n",
       "    }\n",
       "\n",
       "    .dataframe thead th {\n",
       "        text-align: right;\n",
       "    }\n",
       "</style>\n",
       "<table border=\"1\" class=\"dataframe\">\n",
       "  <thead>\n",
       "    <tr style=\"text-align: right;\">\n",
       "      <th></th>\n",
       "      <th>SeriousDlqin2yrs</th>\n",
       "      <th>RevolvingUtilizationOfUnsecuredLines</th>\n",
       "      <th>age</th>\n",
       "      <th>NumberOfTime30-59DaysPastDueNotWorse</th>\n",
       "      <th>DebtRatio</th>\n",
       "      <th>MonthlyIncome</th>\n",
       "      <th>NumberOfOpenCreditLinesAndLoans</th>\n",
       "      <th>NumberOfTimes90DaysLate</th>\n",
       "      <th>NumberRealEstateLoansOrLines</th>\n",
       "      <th>NumberOfTime60-89DaysPastDueNotWorse</th>\n",
       "      <th>NumberOfDependents</th>\n",
       "    </tr>\n",
       "  </thead>\n",
       "  <tbody>\n",
       "    <tr>\n",
       "      <th>1</th>\n",
       "      <td>1</td>\n",
       "      <td>0.766127</td>\n",
       "      <td>45</td>\n",
       "      <td>2</td>\n",
       "      <td>0.802982</td>\n",
       "      <td>9120.0</td>\n",
       "      <td>13</td>\n",
       "      <td>0</td>\n",
       "      <td>6</td>\n",
       "      <td>0</td>\n",
       "      <td>2.0</td>\n",
       "    </tr>\n",
       "    <tr>\n",
       "      <th>2</th>\n",
       "      <td>0</td>\n",
       "      <td>0.957151</td>\n",
       "      <td>40</td>\n",
       "      <td>0</td>\n",
       "      <td>0.121876</td>\n",
       "      <td>2600.0</td>\n",
       "      <td>4</td>\n",
       "      <td>0</td>\n",
       "      <td>0</td>\n",
       "      <td>0</td>\n",
       "      <td>1.0</td>\n",
       "    </tr>\n",
       "    <tr>\n",
       "      <th>3</th>\n",
       "      <td>0</td>\n",
       "      <td>0.658180</td>\n",
       "      <td>38</td>\n",
       "      <td>1</td>\n",
       "      <td>0.085113</td>\n",
       "      <td>3042.0</td>\n",
       "      <td>2</td>\n",
       "      <td>1</td>\n",
       "      <td>0</td>\n",
       "      <td>0</td>\n",
       "      <td>0.0</td>\n",
       "    </tr>\n",
       "    <tr>\n",
       "      <th>4</th>\n",
       "      <td>0</td>\n",
       "      <td>0.233810</td>\n",
       "      <td>30</td>\n",
       "      <td>0</td>\n",
       "      <td>0.036050</td>\n",
       "      <td>3300.0</td>\n",
       "      <td>5</td>\n",
       "      <td>0</td>\n",
       "      <td>0</td>\n",
       "      <td>0</td>\n",
       "      <td>0.0</td>\n",
       "    </tr>\n",
       "    <tr>\n",
       "      <th>5</th>\n",
       "      <td>0</td>\n",
       "      <td>0.907239</td>\n",
       "      <td>49</td>\n",
       "      <td>1</td>\n",
       "      <td>0.024926</td>\n",
       "      <td>63588.0</td>\n",
       "      <td>7</td>\n",
       "      <td>0</td>\n",
       "      <td>1</td>\n",
       "      <td>0</td>\n",
       "      <td>0.0</td>\n",
       "    </tr>\n",
       "  </tbody>\n",
       "</table>\n",
       "</div>"
      ],
      "text/plain": [
       "   SeriousDlqin2yrs  RevolvingUtilizationOfUnsecuredLines  age  \\\n",
       "1                 1                              0.766127   45   \n",
       "2                 0                              0.957151   40   \n",
       "3                 0                              0.658180   38   \n",
       "4                 0                              0.233810   30   \n",
       "5                 0                              0.907239   49   \n",
       "\n",
       "   NumberOfTime30-59DaysPastDueNotWorse  DebtRatio  MonthlyIncome  \\\n",
       "1                                     2   0.802982         9120.0   \n",
       "2                                     0   0.121876         2600.0   \n",
       "3                                     1   0.085113         3042.0   \n",
       "4                                     0   0.036050         3300.0   \n",
       "5                                     1   0.024926        63588.0   \n",
       "\n",
       "   NumberOfOpenCreditLinesAndLoans  NumberOfTimes90DaysLate  \\\n",
       "1                               13                        0   \n",
       "2                                4                        0   \n",
       "3                                2                        1   \n",
       "4                                5                        0   \n",
       "5                                7                        0   \n",
       "\n",
       "   NumberRealEstateLoansOrLines  NumberOfTime60-89DaysPastDueNotWorse  \\\n",
       "1                             6                                     0   \n",
       "2                             0                                     0   \n",
       "3                             0                                     0   \n",
       "4                             0                                     0   \n",
       "5                             1                                     0   \n",
       "\n",
       "   NumberOfDependents  \n",
       "1                 2.0  \n",
       "2                 1.0  \n",
       "3                 0.0  \n",
       "4                 0.0  \n",
       "5                 0.0  "
      ]
     },
     "execution_count": 41,
     "metadata": {},
     "output_type": "execute_result"
    }
   ],
   "source": [
    "#观察数据类型\n",
    "data.head()"
   ]
  },
  {
   "cell_type": "code",
   "execution_count": 42,
   "id": "marked-silence",
   "metadata": {},
   "outputs": [
    {
     "data": {
      "text/plain": [
       "(150000, 11)"
      ]
     },
     "execution_count": 42,
     "metadata": {},
     "output_type": "execute_result"
    }
   ],
   "source": [
    "#观察数据结构\n",
    "data.shape"
   ]
  },
  {
   "cell_type": "code",
   "execution_count": 43,
   "id": "electronic-password",
   "metadata": {},
   "outputs": [
    {
     "name": "stdout",
     "output_type": "stream",
     "text": [
      "<class 'pandas.core.frame.DataFrame'>\n",
      "Int64Index: 150000 entries, 1 to 150000\n",
      "Data columns (total 11 columns):\n",
      " #   Column                                Non-Null Count   Dtype  \n",
      "---  ------                                --------------   -----  \n",
      " 0   SeriousDlqin2yrs                      150000 non-null  int64  \n",
      " 1   RevolvingUtilizationOfUnsecuredLines  150000 non-null  float64\n",
      " 2   age                                   150000 non-null  int64  \n",
      " 3   NumberOfTime30-59DaysPastDueNotWorse  150000 non-null  int64  \n",
      " 4   DebtRatio                             150000 non-null  float64\n",
      " 5   MonthlyIncome                         120269 non-null  float64\n",
      " 6   NumberOfOpenCreditLinesAndLoans       150000 non-null  int64  \n",
      " 7   NumberOfTimes90DaysLate               150000 non-null  int64  \n",
      " 8   NumberRealEstateLoansOrLines          150000 non-null  int64  \n",
      " 9   NumberOfTime60-89DaysPastDueNotWorse  150000 non-null  int64  \n",
      " 10  NumberOfDependents                    146076 non-null  float64\n",
      "dtypes: float64(4), int64(7)\n",
      "memory usage: 13.7 MB\n"
     ]
    }
   ],
   "source": [
    "data.info()"
   ]
  },
  {
   "cell_type": "markdown",
   "id": "breathing-archive",
   "metadata": {},
   "source": [
    "![image.png](./images/76.png)"
   ]
  },
  {
   "cell_type": "markdown",
   "id": "attempted-current",
   "metadata": {},
   "source": [
    "### 3.2.1 去除重复值"
   ]
  },
  {
   "cell_type": "markdown",
   "id": "eastern-malaysia",
   "metadata": {},
   "source": [
    "![image.png](./images/77.png)"
   ]
  },
  {
   "cell_type": "code",
   "execution_count": 44,
   "id": "available-guyana",
   "metadata": {},
   "outputs": [],
   "source": [
    "#去除重复值\n",
    "data.drop_duplicates(inplace=True)"
   ]
  },
  {
   "cell_type": "code",
   "execution_count": 45,
   "id": "animated-bangkok",
   "metadata": {},
   "outputs": [
    {
     "name": "stdout",
     "output_type": "stream",
     "text": [
      "<class 'pandas.core.frame.DataFrame'>\n",
      "Int64Index: 149391 entries, 1 to 150000\n",
      "Data columns (total 11 columns):\n",
      " #   Column                                Non-Null Count   Dtype  \n",
      "---  ------                                --------------   -----  \n",
      " 0   SeriousDlqin2yrs                      149391 non-null  int64  \n",
      " 1   RevolvingUtilizationOfUnsecuredLines  149391 non-null  float64\n",
      " 2   age                                   149391 non-null  int64  \n",
      " 3   NumberOfTime30-59DaysPastDueNotWorse  149391 non-null  int64  \n",
      " 4   DebtRatio                             149391 non-null  float64\n",
      " 5   MonthlyIncome                         120170 non-null  float64\n",
      " 6   NumberOfOpenCreditLinesAndLoans       149391 non-null  int64  \n",
      " 7   NumberOfTimes90DaysLate               149391 non-null  int64  \n",
      " 8   NumberRealEstateLoansOrLines          149391 non-null  int64  \n",
      " 9   NumberOfTime60-89DaysPastDueNotWorse  149391 non-null  int64  \n",
      " 10  NumberOfDependents                    145563 non-null  float64\n",
      "dtypes: float64(4), int64(7)\n",
      "memory usage: 13.7 MB\n"
     ]
    }
   ],
   "source": [
    "data.info()"
   ]
  },
  {
   "cell_type": "code",
   "execution_count": 46,
   "id": "civic-phoenix",
   "metadata": {},
   "outputs": [
    {
     "data": {
      "text/plain": [
       "149391"
      ]
     },
     "execution_count": 46,
     "metadata": {},
     "output_type": "execute_result"
    }
   ],
   "source": [
    "data.shape[0]"
   ]
  },
  {
   "cell_type": "code",
   "execution_count": 47,
   "id": "dying-discovery",
   "metadata": {},
   "outputs": [],
   "source": [
    "#删除之后千万不要忘记，恢复索引\n",
    "data.index = range(data.shape[0])"
   ]
  },
  {
   "cell_type": "code",
   "execution_count": 48,
   "id": "ahead-facial",
   "metadata": {},
   "outputs": [
    {
     "name": "stdout",
     "output_type": "stream",
     "text": [
      "<class 'pandas.core.frame.DataFrame'>\n",
      "RangeIndex: 149391 entries, 0 to 149390\n",
      "Data columns (total 11 columns):\n",
      " #   Column                                Non-Null Count   Dtype  \n",
      "---  ------                                --------------   -----  \n",
      " 0   SeriousDlqin2yrs                      149391 non-null  int64  \n",
      " 1   RevolvingUtilizationOfUnsecuredLines  149391 non-null  float64\n",
      " 2   age                                   149391 non-null  int64  \n",
      " 3   NumberOfTime30-59DaysPastDueNotWorse  149391 non-null  int64  \n",
      " 4   DebtRatio                             149391 non-null  float64\n",
      " 5   MonthlyIncome                         120170 non-null  float64\n",
      " 6   NumberOfOpenCreditLinesAndLoans       149391 non-null  int64  \n",
      " 7   NumberOfTimes90DaysLate               149391 non-null  int64  \n",
      " 8   NumberRealEstateLoansOrLines          149391 non-null  int64  \n",
      " 9   NumberOfTime60-89DaysPastDueNotWorse  149391 non-null  int64  \n",
      " 10  NumberOfDependents                    145563 non-null  float64\n",
      "dtypes: float64(4), int64(7)\n",
      "memory usage: 12.5 MB\n"
     ]
    }
   ],
   "source": [
    "data.info()"
   ]
  },
  {
   "cell_type": "markdown",
   "id": "ranging-voltage",
   "metadata": {},
   "source": [
    "### 3.2.2 填补缺失值"
   ]
  },
  {
   "cell_type": "code",
   "execution_count": 49,
   "id": "related-snake",
   "metadata": {},
   "outputs": [
    {
     "data": {
      "text/plain": [
       "SeriousDlqin2yrs                            0\n",
       "RevolvingUtilizationOfUnsecuredLines        0\n",
       "age                                         0\n",
       "NumberOfTime30-59DaysPastDueNotWorse        0\n",
       "DebtRatio                                   0\n",
       "MonthlyIncome                           29221\n",
       "NumberOfOpenCreditLinesAndLoans             0\n",
       "NumberOfTimes90DaysLate                     0\n",
       "NumberRealEstateLoansOrLines                0\n",
       "NumberOfTime60-89DaysPastDueNotWorse        0\n",
       "NumberOfDependents                       3828\n",
       "dtype: int64"
      ]
     },
     "execution_count": 49,
     "metadata": {},
     "output_type": "execute_result"
    }
   ],
   "source": [
    "#探索缺失值\n",
    "data.isnull().sum()"
   ]
  },
  {
   "cell_type": "code",
   "execution_count": 50,
   "id": "former-division",
   "metadata": {},
   "outputs": [
    {
     "data": {
      "text/plain": [
       "SeriousDlqin2yrs                        0.000000\n",
       "RevolvingUtilizationOfUnsecuredLines    0.000000\n",
       "age                                     0.000000\n",
       "NumberOfTime30-59DaysPastDueNotWorse    0.000000\n",
       "DebtRatio                               0.000000\n",
       "MonthlyIncome                           0.195601\n",
       "NumberOfOpenCreditLinesAndLoans         0.000000\n",
       "NumberOfTimes90DaysLate                 0.000000\n",
       "NumberRealEstateLoansOrLines            0.000000\n",
       "NumberOfTime60-89DaysPastDueNotWorse    0.000000\n",
       "NumberOfDependents                      0.025624\n",
       "dtype: float64"
      ]
     },
     "execution_count": 50,
     "metadata": {},
     "output_type": "execute_result"
    }
   ],
   "source": [
    "# data.isnull().sum()/data.shape[0]  #缺失比率\n",
    "data.isnull().mean() #跟前两行代码一样的功能"
   ]
  },
  {
   "cell_type": "markdown",
   "id": "primary-conjunction",
   "metadata": {},
   "source": [
    "![image.png](./images/78.png)"
   ]
  },
  {
   "cell_type": "code",
   "execution_count": 51,
   "id": "dimensional-permission",
   "metadata": {},
   "outputs": [],
   "source": [
    "data[\"NumberOfDependents\"].fillna(data[\"NumberOfDependents\"].mean(),inplace=True)"
   ]
  },
  {
   "cell_type": "code",
   "execution_count": 52,
   "id": "incredible-bolivia",
   "metadata": {},
   "outputs": [
    {
     "name": "stdout",
     "output_type": "stream",
     "text": [
      "<class 'pandas.core.frame.DataFrame'>\n",
      "RangeIndex: 149391 entries, 0 to 149390\n",
      "Data columns (total 11 columns):\n",
      " #   Column                                Non-Null Count   Dtype  \n",
      "---  ------                                --------------   -----  \n",
      " 0   SeriousDlqin2yrs                      149391 non-null  int64  \n",
      " 1   RevolvingUtilizationOfUnsecuredLines  149391 non-null  float64\n",
      " 2   age                                   149391 non-null  int64  \n",
      " 3   NumberOfTime30-59DaysPastDueNotWorse  149391 non-null  int64  \n",
      " 4   DebtRatio                             149391 non-null  float64\n",
      " 5   MonthlyIncome                         120170 non-null  float64\n",
      " 6   NumberOfOpenCreditLinesAndLoans       149391 non-null  int64  \n",
      " 7   NumberOfTimes90DaysLate               149391 non-null  int64  \n",
      " 8   NumberRealEstateLoansOrLines          149391 non-null  int64  \n",
      " 9   NumberOfTime60-89DaysPastDueNotWorse  149391 non-null  int64  \n",
      " 10  NumberOfDependents                    149391 non-null  float64\n",
      "dtypes: float64(4), int64(7)\n",
      "memory usage: 12.5 MB\n"
     ]
    }
   ],
   "source": [
    "data.info()"
   ]
  },
  {
   "cell_type": "code",
   "execution_count": 53,
   "id": "dirty-genealogy",
   "metadata": {},
   "outputs": [
    {
     "data": {
      "text/plain": [
       "SeriousDlqin2yrs                        0.000000\n",
       "RevolvingUtilizationOfUnsecuredLines    0.000000\n",
       "age                                     0.000000\n",
       "NumberOfTime30-59DaysPastDueNotWorse    0.000000\n",
       "DebtRatio                               0.000000\n",
       "MonthlyIncome                           0.195601\n",
       "NumberOfOpenCreditLinesAndLoans         0.000000\n",
       "NumberOfTimes90DaysLate                 0.000000\n",
       "NumberRealEstateLoansOrLines            0.000000\n",
       "NumberOfTime60-89DaysPastDueNotWorse    0.000000\n",
       "NumberOfDependents                      0.000000\n",
       "dtype: float64"
      ]
     },
     "execution_count": 53,
     "metadata": {},
     "output_type": "execute_result"
    }
   ],
   "source": [
    "data.isnull().mean()"
   ]
  },
  {
   "cell_type": "markdown",
   "id": "awful-party",
   "metadata": {},
   "source": [
    "![image.png](./images/79.png)"
   ]
  },
  {
   "cell_type": "markdown",
   "id": "quality-atlas",
   "metadata": {},
   "source": [
    "![image.png](./images/80.png)"
   ]
  },
  {
   "cell_type": "markdown",
   "id": "narrative-wheat",
   "metadata": {},
   "source": [
    "![image.png](./images/81.png)"
   ]
  },
  {
   "cell_type": "code",
   "execution_count": 54,
   "id": "opposite-static",
   "metadata": {},
   "outputs": [
    {
     "data": {
      "text/html": [
       "<div>\n",
       "<style scoped>\n",
       "    .dataframe tbody tr th:only-of-type {\n",
       "        vertical-align: middle;\n",
       "    }\n",
       "\n",
       "    .dataframe tbody tr th {\n",
       "        vertical-align: top;\n",
       "    }\n",
       "\n",
       "    .dataframe thead th {\n",
       "        text-align: right;\n",
       "    }\n",
       "</style>\n",
       "<table border=\"1\" class=\"dataframe\">\n",
       "  <thead>\n",
       "    <tr style=\"text-align: right;\">\n",
       "      <th></th>\n",
       "      <th>SeriousDlqin2yrs</th>\n",
       "      <th>RevolvingUtilizationOfUnsecuredLines</th>\n",
       "      <th>age</th>\n",
       "      <th>NumberOfTime30-59DaysPastDueNotWorse</th>\n",
       "      <th>DebtRatio</th>\n",
       "      <th>NumberOfOpenCreditLinesAndLoans</th>\n",
       "      <th>NumberOfTimes90DaysLate</th>\n",
       "      <th>NumberRealEstateLoansOrLines</th>\n",
       "      <th>NumberOfTime60-89DaysPastDueNotWorse</th>\n",
       "      <th>NumberOfDependents</th>\n",
       "    </tr>\n",
       "  </thead>\n",
       "  <tbody>\n",
       "    <tr>\n",
       "      <th>0</th>\n",
       "      <td>1</td>\n",
       "      <td>0.766127</td>\n",
       "      <td>45</td>\n",
       "      <td>2</td>\n",
       "      <td>0.802982</td>\n",
       "      <td>13</td>\n",
       "      <td>0</td>\n",
       "      <td>6</td>\n",
       "      <td>0</td>\n",
       "      <td>2.0</td>\n",
       "    </tr>\n",
       "    <tr>\n",
       "      <th>1</th>\n",
       "      <td>0</td>\n",
       "      <td>0.957151</td>\n",
       "      <td>40</td>\n",
       "      <td>0</td>\n",
       "      <td>0.121876</td>\n",
       "      <td>4</td>\n",
       "      <td>0</td>\n",
       "      <td>0</td>\n",
       "      <td>0</td>\n",
       "      <td>1.0</td>\n",
       "    </tr>\n",
       "    <tr>\n",
       "      <th>2</th>\n",
       "      <td>0</td>\n",
       "      <td>0.658180</td>\n",
       "      <td>38</td>\n",
       "      <td>1</td>\n",
       "      <td>0.085113</td>\n",
       "      <td>2</td>\n",
       "      <td>1</td>\n",
       "      <td>0</td>\n",
       "      <td>0</td>\n",
       "      <td>0.0</td>\n",
       "    </tr>\n",
       "    <tr>\n",
       "      <th>3</th>\n",
       "      <td>0</td>\n",
       "      <td>0.233810</td>\n",
       "      <td>30</td>\n",
       "      <td>0</td>\n",
       "      <td>0.036050</td>\n",
       "      <td>5</td>\n",
       "      <td>0</td>\n",
       "      <td>0</td>\n",
       "      <td>0</td>\n",
       "      <td>0.0</td>\n",
       "    </tr>\n",
       "    <tr>\n",
       "      <th>4</th>\n",
       "      <td>0</td>\n",
       "      <td>0.907239</td>\n",
       "      <td>49</td>\n",
       "      <td>1</td>\n",
       "      <td>0.024926</td>\n",
       "      <td>7</td>\n",
       "      <td>0</td>\n",
       "      <td>1</td>\n",
       "      <td>0</td>\n",
       "      <td>0.0</td>\n",
       "    </tr>\n",
       "    <tr>\n",
       "      <th>...</th>\n",
       "      <td>...</td>\n",
       "      <td>...</td>\n",
       "      <td>...</td>\n",
       "      <td>...</td>\n",
       "      <td>...</td>\n",
       "      <td>...</td>\n",
       "      <td>...</td>\n",
       "      <td>...</td>\n",
       "      <td>...</td>\n",
       "      <td>...</td>\n",
       "    </tr>\n",
       "    <tr>\n",
       "      <th>149386</th>\n",
       "      <td>0</td>\n",
       "      <td>0.040674</td>\n",
       "      <td>74</td>\n",
       "      <td>0</td>\n",
       "      <td>0.225131</td>\n",
       "      <td>4</td>\n",
       "      <td>0</td>\n",
       "      <td>1</td>\n",
       "      <td>0</td>\n",
       "      <td>0.0</td>\n",
       "    </tr>\n",
       "    <tr>\n",
       "      <th>149387</th>\n",
       "      <td>0</td>\n",
       "      <td>0.299745</td>\n",
       "      <td>44</td>\n",
       "      <td>0</td>\n",
       "      <td>0.716562</td>\n",
       "      <td>4</td>\n",
       "      <td>0</td>\n",
       "      <td>1</td>\n",
       "      <td>0</td>\n",
       "      <td>2.0</td>\n",
       "    </tr>\n",
       "    <tr>\n",
       "      <th>149388</th>\n",
       "      <td>0</td>\n",
       "      <td>0.246044</td>\n",
       "      <td>58</td>\n",
       "      <td>0</td>\n",
       "      <td>3870.000000</td>\n",
       "      <td>18</td>\n",
       "      <td>0</td>\n",
       "      <td>1</td>\n",
       "      <td>0</td>\n",
       "      <td>0.0</td>\n",
       "    </tr>\n",
       "    <tr>\n",
       "      <th>149389</th>\n",
       "      <td>0</td>\n",
       "      <td>0.000000</td>\n",
       "      <td>30</td>\n",
       "      <td>0</td>\n",
       "      <td>0.000000</td>\n",
       "      <td>4</td>\n",
       "      <td>0</td>\n",
       "      <td>0</td>\n",
       "      <td>0</td>\n",
       "      <td>0.0</td>\n",
       "    </tr>\n",
       "    <tr>\n",
       "      <th>149390</th>\n",
       "      <td>0</td>\n",
       "      <td>0.850283</td>\n",
       "      <td>64</td>\n",
       "      <td>0</td>\n",
       "      <td>0.249908</td>\n",
       "      <td>8</td>\n",
       "      <td>0</td>\n",
       "      <td>2</td>\n",
       "      <td>0</td>\n",
       "      <td>0.0</td>\n",
       "    </tr>\n",
       "  </tbody>\n",
       "</table>\n",
       "<p>149391 rows × 10 columns</p>\n",
       "</div>"
      ],
      "text/plain": [
       "        SeriousDlqin2yrs  RevolvingUtilizationOfUnsecuredLines  age  \\\n",
       "0                      1                              0.766127   45   \n",
       "1                      0                              0.957151   40   \n",
       "2                      0                              0.658180   38   \n",
       "3                      0                              0.233810   30   \n",
       "4                      0                              0.907239   49   \n",
       "...                  ...                                   ...  ...   \n",
       "149386                 0                              0.040674   74   \n",
       "149387                 0                              0.299745   44   \n",
       "149388                 0                              0.246044   58   \n",
       "149389                 0                              0.000000   30   \n",
       "149390                 0                              0.850283   64   \n",
       "\n",
       "        NumberOfTime30-59DaysPastDueNotWorse    DebtRatio  \\\n",
       "0                                          2     0.802982   \n",
       "1                                          0     0.121876   \n",
       "2                                          1     0.085113   \n",
       "3                                          0     0.036050   \n",
       "4                                          1     0.024926   \n",
       "...                                      ...          ...   \n",
       "149386                                     0     0.225131   \n",
       "149387                                     0     0.716562   \n",
       "149388                                     0  3870.000000   \n",
       "149389                                     0     0.000000   \n",
       "149390                                     0     0.249908   \n",
       "\n",
       "        NumberOfOpenCreditLinesAndLoans  NumberOfTimes90DaysLate  \\\n",
       "0                                    13                        0   \n",
       "1                                     4                        0   \n",
       "2                                     2                        1   \n",
       "3                                     5                        0   \n",
       "4                                     7                        0   \n",
       "...                                 ...                      ...   \n",
       "149386                                4                        0   \n",
       "149387                                4                        0   \n",
       "149388                               18                        0   \n",
       "149389                                4                        0   \n",
       "149390                                8                        0   \n",
       "\n",
       "        NumberRealEstateLoansOrLines  NumberOfTime60-89DaysPastDueNotWorse  \\\n",
       "0                                  6                                     0   \n",
       "1                                  0                                     0   \n",
       "2                                  0                                     0   \n",
       "3                                  0                                     0   \n",
       "4                                  1                                     0   \n",
       "...                              ...                                   ...   \n",
       "149386                             1                                     0   \n",
       "149387                             1                                     0   \n",
       "149388                             1                                     0   \n",
       "149389                             0                                     0   \n",
       "149390                             2                                     0   \n",
       "\n",
       "        NumberOfDependents  \n",
       "0                      2.0  \n",
       "1                      1.0  \n",
       "2                      0.0  \n",
       "3                      0.0  \n",
       "4                      0.0  \n",
       "...                    ...  \n",
       "149386                 0.0  \n",
       "149387                 2.0  \n",
       "149388                 0.0  \n",
       "149389                 0.0  \n",
       "149390                 0.0  \n",
       "\n",
       "[149391 rows x 10 columns]"
      ]
     },
     "execution_count": 54,
     "metadata": {},
     "output_type": "execute_result"
    }
   ],
   "source": [
    "datat = data.copy()\n",
    "datat.loc[:,datat.columns != \"MonthlyIncome\"]"
   ]
  },
  {
   "cell_type": "code",
   "execution_count": 55,
   "id": "indonesian-expansion",
   "metadata": {},
   "outputs": [
    {
     "data": {
      "text/html": [
       "<div>\n",
       "<style scoped>\n",
       "    .dataframe tbody tr th:only-of-type {\n",
       "        vertical-align: middle;\n",
       "    }\n",
       "\n",
       "    .dataframe tbody tr th {\n",
       "        vertical-align: top;\n",
       "    }\n",
       "\n",
       "    .dataframe thead th {\n",
       "        text-align: right;\n",
       "    }\n",
       "</style>\n",
       "<table border=\"1\" class=\"dataframe\">\n",
       "  <thead>\n",
       "    <tr style=\"text-align: right;\">\n",
       "      <th></th>\n",
       "      <th>SeriousDlqin2yrs</th>\n",
       "    </tr>\n",
       "  </thead>\n",
       "  <tbody>\n",
       "    <tr>\n",
       "      <th>0</th>\n",
       "      <td>1</td>\n",
       "    </tr>\n",
       "    <tr>\n",
       "      <th>1</th>\n",
       "      <td>0</td>\n",
       "    </tr>\n",
       "    <tr>\n",
       "      <th>2</th>\n",
       "      <td>0</td>\n",
       "    </tr>\n",
       "    <tr>\n",
       "      <th>3</th>\n",
       "      <td>0</td>\n",
       "    </tr>\n",
       "    <tr>\n",
       "      <th>4</th>\n",
       "      <td>0</td>\n",
       "    </tr>\n",
       "    <tr>\n",
       "      <th>...</th>\n",
       "      <td>...</td>\n",
       "    </tr>\n",
       "    <tr>\n",
       "      <th>149386</th>\n",
       "      <td>0</td>\n",
       "    </tr>\n",
       "    <tr>\n",
       "      <th>149387</th>\n",
       "      <td>0</td>\n",
       "    </tr>\n",
       "    <tr>\n",
       "      <th>149388</th>\n",
       "      <td>0</td>\n",
       "    </tr>\n",
       "    <tr>\n",
       "      <th>149389</th>\n",
       "      <td>0</td>\n",
       "    </tr>\n",
       "    <tr>\n",
       "      <th>149390</th>\n",
       "      <td>0</td>\n",
       "    </tr>\n",
       "  </tbody>\n",
       "</table>\n",
       "<p>149391 rows × 1 columns</p>\n",
       "</div>"
      ],
      "text/plain": [
       "        SeriousDlqin2yrs\n",
       "0                      1\n",
       "1                      0\n",
       "2                      0\n",
       "3                      0\n",
       "4                      0\n",
       "...                  ...\n",
       "149386                 0\n",
       "149387                 0\n",
       "149388                 0\n",
       "149389                 0\n",
       "149390                 0\n",
       "\n",
       "[149391 rows x 1 columns]"
      ]
     },
     "execution_count": 55,
     "metadata": {},
     "output_type": "execute_result"
    }
   ],
   "source": [
    "yt = data.iloc[:,0]\n",
    "pd.DataFrame(yt)"
   ]
  },
  {
   "cell_type": "code",
   "execution_count": 56,
   "id": "infectious-adoption",
   "metadata": {},
   "outputs": [],
   "source": [
    "def fill_missing_rf(X,y,to_fill):\n",
    "    \"\"\"\n",
    "    使用随机森林填补一个特征的缺失值的函数\n",
    "    \n",
    "    参数：\n",
    "    X：要填不得特征矩阵\n",
    "    y：完整的，没有缺失值的标签\n",
    "    to_fill：字符串，要填补的那一列的名称\n",
    "    \"\"\"\n",
    "    \n",
    "    #构建我们的新特征矩阵和新标签\n",
    "    df = X.copy()\n",
    "    fill = df.loc[:,to_fill]\n",
    "    df = pd.concat([df.loc[:,df.columns != to_fill],pd.DataFrame(y)],axis=1)\n",
    "    \n",
    "    #找出我们的训练集和测试集\n",
    "    Ytrain = fill[fill.notnull()]\n",
    "    Ytest = fill[fill.isnull()]\n",
    "    Xtrain = df.iloc[Ytrain.index,:]\n",
    "    Xtest = df.iloc[Ytest.index,:]\n",
    "    \n",
    "    #用随机森林回归填补缺失值\n",
    "    from sklearn.ensemble import RandomForestRegressor as rfr\n",
    "    rfr = rfr(n_estimators=100)\n",
    "    rfr = rfr.fit(Xtrain,Ytrain)\n",
    "    Ypredict = rfr.predict(Xtest)\n",
    "    \n",
    "    return Ypredict"
   ]
  },
  {
   "cell_type": "markdown",
   "id": "bound-wayne",
   "metadata": {},
   "source": [
    "接下来，我们来创造函数需要的参数，将参数导入函数，产出结果："
   ]
  },
  {
   "cell_type": "code",
   "execution_count": 57,
   "id": "entertaining-complaint",
   "metadata": {},
   "outputs": [
    {
     "data": {
      "text/html": [
       "<div>\n",
       "<style scoped>\n",
       "    .dataframe tbody tr th:only-of-type {\n",
       "        vertical-align: middle;\n",
       "    }\n",
       "\n",
       "    .dataframe tbody tr th {\n",
       "        vertical-align: top;\n",
       "    }\n",
       "\n",
       "    .dataframe thead th {\n",
       "        text-align: right;\n",
       "    }\n",
       "</style>\n",
       "<table border=\"1\" class=\"dataframe\">\n",
       "  <thead>\n",
       "    <tr style=\"text-align: right;\">\n",
       "      <th></th>\n",
       "      <th>SeriousDlqin2yrs</th>\n",
       "      <th>RevolvingUtilizationOfUnsecuredLines</th>\n",
       "      <th>age</th>\n",
       "      <th>NumberOfTime30-59DaysPastDueNotWorse</th>\n",
       "      <th>DebtRatio</th>\n",
       "      <th>MonthlyIncome</th>\n",
       "      <th>NumberOfOpenCreditLinesAndLoans</th>\n",
       "      <th>NumberOfTimes90DaysLate</th>\n",
       "      <th>NumberRealEstateLoansOrLines</th>\n",
       "      <th>NumberOfTime60-89DaysPastDueNotWorse</th>\n",
       "      <th>NumberOfDependents</th>\n",
       "    </tr>\n",
       "  </thead>\n",
       "  <tbody>\n",
       "    <tr>\n",
       "      <th>0</th>\n",
       "      <td>1</td>\n",
       "      <td>0.766127</td>\n",
       "      <td>45</td>\n",
       "      <td>2</td>\n",
       "      <td>0.802982</td>\n",
       "      <td>9120.0</td>\n",
       "      <td>13</td>\n",
       "      <td>0</td>\n",
       "      <td>6</td>\n",
       "      <td>0</td>\n",
       "      <td>2.0</td>\n",
       "    </tr>\n",
       "    <tr>\n",
       "      <th>1</th>\n",
       "      <td>0</td>\n",
       "      <td>0.957151</td>\n",
       "      <td>40</td>\n",
       "      <td>0</td>\n",
       "      <td>0.121876</td>\n",
       "      <td>2600.0</td>\n",
       "      <td>4</td>\n",
       "      <td>0</td>\n",
       "      <td>0</td>\n",
       "      <td>0</td>\n",
       "      <td>1.0</td>\n",
       "    </tr>\n",
       "    <tr>\n",
       "      <th>2</th>\n",
       "      <td>0</td>\n",
       "      <td>0.658180</td>\n",
       "      <td>38</td>\n",
       "      <td>1</td>\n",
       "      <td>0.085113</td>\n",
       "      <td>3042.0</td>\n",
       "      <td>2</td>\n",
       "      <td>1</td>\n",
       "      <td>0</td>\n",
       "      <td>0</td>\n",
       "      <td>0.0</td>\n",
       "    </tr>\n",
       "    <tr>\n",
       "      <th>3</th>\n",
       "      <td>0</td>\n",
       "      <td>0.233810</td>\n",
       "      <td>30</td>\n",
       "      <td>0</td>\n",
       "      <td>0.036050</td>\n",
       "      <td>3300.0</td>\n",
       "      <td>5</td>\n",
       "      <td>0</td>\n",
       "      <td>0</td>\n",
       "      <td>0</td>\n",
       "      <td>0.0</td>\n",
       "    </tr>\n",
       "    <tr>\n",
       "      <th>4</th>\n",
       "      <td>0</td>\n",
       "      <td>0.907239</td>\n",
       "      <td>49</td>\n",
       "      <td>1</td>\n",
       "      <td>0.024926</td>\n",
       "      <td>63588.0</td>\n",
       "      <td>7</td>\n",
       "      <td>0</td>\n",
       "      <td>1</td>\n",
       "      <td>0</td>\n",
       "      <td>0.0</td>\n",
       "    </tr>\n",
       "  </tbody>\n",
       "</table>\n",
       "</div>"
      ],
      "text/plain": [
       "   SeriousDlqin2yrs  RevolvingUtilizationOfUnsecuredLines  age  \\\n",
       "0                 1                              0.766127   45   \n",
       "1                 0                              0.957151   40   \n",
       "2                 0                              0.658180   38   \n",
       "3                 0                              0.233810   30   \n",
       "4                 0                              0.907239   49   \n",
       "\n",
       "   NumberOfTime30-59DaysPastDueNotWorse  DebtRatio  MonthlyIncome  \\\n",
       "0                                     2   0.802982         9120.0   \n",
       "1                                     0   0.121876         2600.0   \n",
       "2                                     1   0.085113         3042.0   \n",
       "3                                     0   0.036050         3300.0   \n",
       "4                                     1   0.024926        63588.0   \n",
       "\n",
       "   NumberOfOpenCreditLinesAndLoans  NumberOfTimes90DaysLate  \\\n",
       "0                               13                        0   \n",
       "1                                4                        0   \n",
       "2                                2                        1   \n",
       "3                                5                        0   \n",
       "4                                7                        0   \n",
       "\n",
       "   NumberRealEstateLoansOrLines  NumberOfTime60-89DaysPastDueNotWorse  \\\n",
       "0                             6                                     0   \n",
       "1                             0                                     0   \n",
       "2                             0                                     0   \n",
       "3                             0                                     0   \n",
       "4                             1                                     0   \n",
       "\n",
       "   NumberOfDependents  \n",
       "0                 2.0  \n",
       "1                 1.0  \n",
       "2                 0.0  \n",
       "3                 0.0  \n",
       "4                 0.0  "
      ]
     },
     "execution_count": 57,
     "metadata": {},
     "output_type": "execute_result"
    }
   ],
   "source": [
    "data.head()"
   ]
  },
  {
   "cell_type": "code",
   "execution_count": 58,
   "id": "polish-confusion",
   "metadata": {},
   "outputs": [],
   "source": [
    "X = data.iloc[:,1:]"
   ]
  },
  {
   "cell_type": "code",
   "execution_count": 59,
   "id": "featured-beginning",
   "metadata": {},
   "outputs": [],
   "source": [
    "y = data[\"SeriousDlqin2yrs\"] #y = data.iloc[:,0] 标签"
   ]
  },
  {
   "cell_type": "code",
   "execution_count": 60,
   "id": "remarkable-blackjack",
   "metadata": {},
   "outputs": [
    {
     "data": {
      "text/plain": [
       "(149391, 10)"
      ]
     },
     "execution_count": 60,
     "metadata": {},
     "output_type": "execute_result"
    }
   ],
   "source": [
    "X.shape"
   ]
  },
  {
   "cell_type": "code",
   "execution_count": 61,
   "id": "french-algorithm",
   "metadata": {},
   "outputs": [],
   "source": [
    "y_pred = fill_missing_rf(X,y,\"MonthlyIncome\")"
   ]
  },
  {
   "cell_type": "code",
   "execution_count": 62,
   "id": "stuffed-advocacy",
   "metadata": {},
   "outputs": [
    {
     "data": {
      "text/plain": [
       "(29221,)"
      ]
     },
     "execution_count": 62,
     "metadata": {},
     "output_type": "execute_result"
    }
   ],
   "source": [
    "y_pred.shape"
   ]
  },
  {
   "cell_type": "code",
   "execution_count": 63,
   "id": "possible-integration",
   "metadata": {},
   "outputs": [
    {
     "data": {
      "text/plain": [
       "0         False\n",
       "1         False\n",
       "2         False\n",
       "3         False\n",
       "4         False\n",
       "          ...  \n",
       "149386    False\n",
       "149387    False\n",
       "149388     True\n",
       "149389    False\n",
       "149390    False\n",
       "Name: MonthlyIncome, Length: 149391, dtype: bool"
      ]
     },
     "execution_count": 63,
     "metadata": {},
     "output_type": "execute_result"
    }
   ],
   "source": [
    "data.loc[:,\"MonthlyIncome\"].isnull()"
   ]
  },
  {
   "cell_type": "code",
   "execution_count": 64,
   "id": "seventh-drill",
   "metadata": {},
   "outputs": [
    {
     "data": {
      "text/plain": [
       "6        NaN\n",
       "8        NaN\n",
       "16       NaN\n",
       "32       NaN\n",
       "41       NaN\n",
       "          ..\n",
       "149368   NaN\n",
       "149369   NaN\n",
       "149376   NaN\n",
       "149384   NaN\n",
       "149388   NaN\n",
       "Name: MonthlyIncome, Length: 29221, dtype: float64"
      ]
     },
     "execution_count": 64,
     "metadata": {},
     "output_type": "execute_result"
    }
   ],
   "source": [
    "data.loc[data.loc[:,\"MonthlyIncome\"].isnull(),\"MonthlyIncome\"]"
   ]
  },
  {
   "cell_type": "code",
   "execution_count": 65,
   "id": "agricultural-chance",
   "metadata": {},
   "outputs": [],
   "source": [
    "#覆盖数据\n",
    "data.loc[data.loc[:,\"MonthlyIncome\"].isnull(),\"MonthlyIncome\"] = y_pred"
   ]
  },
  {
   "cell_type": "code",
   "execution_count": 66,
   "id": "boolean-credits",
   "metadata": {},
   "outputs": [
    {
     "name": "stdout",
     "output_type": "stream",
     "text": [
      "<class 'pandas.core.frame.DataFrame'>\n",
      "RangeIndex: 149391 entries, 0 to 149390\n",
      "Data columns (total 11 columns):\n",
      " #   Column                                Non-Null Count   Dtype  \n",
      "---  ------                                --------------   -----  \n",
      " 0   SeriousDlqin2yrs                      149391 non-null  int64  \n",
      " 1   RevolvingUtilizationOfUnsecuredLines  149391 non-null  float64\n",
      " 2   age                                   149391 non-null  int64  \n",
      " 3   NumberOfTime30-59DaysPastDueNotWorse  149391 non-null  int64  \n",
      " 4   DebtRatio                             149391 non-null  float64\n",
      " 5   MonthlyIncome                         149391 non-null  float64\n",
      " 6   NumberOfOpenCreditLinesAndLoans       149391 non-null  int64  \n",
      " 7   NumberOfTimes90DaysLate               149391 non-null  int64  \n",
      " 8   NumberRealEstateLoansOrLines          149391 non-null  int64  \n",
      " 9   NumberOfTime60-89DaysPastDueNotWorse  149391 non-null  int64  \n",
      " 10  NumberOfDependents                    149391 non-null  float64\n",
      "dtypes: float64(4), int64(7)\n",
      "memory usage: 12.5 MB\n"
     ]
    }
   ],
   "source": [
    "data.info()"
   ]
  },
  {
   "cell_type": "markdown",
   "id": "mounted-gnome",
   "metadata": {},
   "source": [
    "### 3.2.3 描述性统计处理异常值"
   ]
  },
  {
   "cell_type": "markdown",
   "id": "invisible-horror",
   "metadata": {},
   "source": [
    "![image.png](./images/82.png)"
   ]
  },
  {
   "cell_type": "code",
   "execution_count": 67,
   "id": "progressive-vision",
   "metadata": {},
   "outputs": [
    {
     "data": {
      "text/html": [
       "<div>\n",
       "<style scoped>\n",
       "    .dataframe tbody tr th:only-of-type {\n",
       "        vertical-align: middle;\n",
       "    }\n",
       "\n",
       "    .dataframe tbody tr th {\n",
       "        vertical-align: top;\n",
       "    }\n",
       "\n",
       "    .dataframe thead th {\n",
       "        text-align: right;\n",
       "    }\n",
       "</style>\n",
       "<table border=\"1\" class=\"dataframe\">\n",
       "  <thead>\n",
       "    <tr style=\"text-align: right;\">\n",
       "      <th></th>\n",
       "      <th>count</th>\n",
       "      <th>mean</th>\n",
       "      <th>std</th>\n",
       "      <th>min</th>\n",
       "      <th>1%</th>\n",
       "      <th>10%</th>\n",
       "      <th>25%</th>\n",
       "      <th>50%</th>\n",
       "      <th>75%</th>\n",
       "      <th>90%</th>\n",
       "      <th>99%</th>\n",
       "      <th>max</th>\n",
       "    </tr>\n",
       "  </thead>\n",
       "  <tbody>\n",
       "    <tr>\n",
       "      <th>SeriousDlqin2yrs</th>\n",
       "      <td>149391.0</td>\n",
       "      <td>0.066999</td>\n",
       "      <td>0.250021</td>\n",
       "      <td>0.0</td>\n",
       "      <td>0.0</td>\n",
       "      <td>0.000000</td>\n",
       "      <td>0.000000</td>\n",
       "      <td>0.000000</td>\n",
       "      <td>0.000000</td>\n",
       "      <td>0.000000</td>\n",
       "      <td>1.000000</td>\n",
       "      <td>1.0</td>\n",
       "    </tr>\n",
       "    <tr>\n",
       "      <th>RevolvingUtilizationOfUnsecuredLines</th>\n",
       "      <td>149391.0</td>\n",
       "      <td>6.071087</td>\n",
       "      <td>250.263672</td>\n",
       "      <td>0.0</td>\n",
       "      <td>0.0</td>\n",
       "      <td>0.003199</td>\n",
       "      <td>0.030132</td>\n",
       "      <td>0.154235</td>\n",
       "      <td>0.556494</td>\n",
       "      <td>0.978007</td>\n",
       "      <td>1.093922</td>\n",
       "      <td>50708.0</td>\n",
       "    </tr>\n",
       "    <tr>\n",
       "      <th>age</th>\n",
       "      <td>149391.0</td>\n",
       "      <td>52.306237</td>\n",
       "      <td>14.725962</td>\n",
       "      <td>0.0</td>\n",
       "      <td>24.0</td>\n",
       "      <td>33.000000</td>\n",
       "      <td>41.000000</td>\n",
       "      <td>52.000000</td>\n",
       "      <td>63.000000</td>\n",
       "      <td>72.000000</td>\n",
       "      <td>87.000000</td>\n",
       "      <td>109.0</td>\n",
       "    </tr>\n",
       "    <tr>\n",
       "      <th>NumberOfTime30-59DaysPastDueNotWorse</th>\n",
       "      <td>149391.0</td>\n",
       "      <td>0.393886</td>\n",
       "      <td>3.852953</td>\n",
       "      <td>0.0</td>\n",
       "      <td>0.0</td>\n",
       "      <td>0.000000</td>\n",
       "      <td>0.000000</td>\n",
       "      <td>0.000000</td>\n",
       "      <td>0.000000</td>\n",
       "      <td>1.000000</td>\n",
       "      <td>4.000000</td>\n",
       "      <td>98.0</td>\n",
       "    </tr>\n",
       "    <tr>\n",
       "      <th>DebtRatio</th>\n",
       "      <td>149391.0</td>\n",
       "      <td>354.436740</td>\n",
       "      <td>2041.843455</td>\n",
       "      <td>0.0</td>\n",
       "      <td>0.0</td>\n",
       "      <td>0.034991</td>\n",
       "      <td>0.177441</td>\n",
       "      <td>0.368234</td>\n",
       "      <td>0.875279</td>\n",
       "      <td>1275.000000</td>\n",
       "      <td>4985.100000</td>\n",
       "      <td>329664.0</td>\n",
       "    </tr>\n",
       "    <tr>\n",
       "      <th>MonthlyIncome</th>\n",
       "      <td>149391.0</td>\n",
       "      <td>5427.923132</td>\n",
       "      <td>13238.312530</td>\n",
       "      <td>0.0</td>\n",
       "      <td>0.0</td>\n",
       "      <td>0.180000</td>\n",
       "      <td>1800.000000</td>\n",
       "      <td>4426.000000</td>\n",
       "      <td>7416.000000</td>\n",
       "      <td>10800.000000</td>\n",
       "      <td>23203.177000</td>\n",
       "      <td>3008750.0</td>\n",
       "    </tr>\n",
       "    <tr>\n",
       "      <th>NumberOfOpenCreditLinesAndLoans</th>\n",
       "      <td>149391.0</td>\n",
       "      <td>8.480892</td>\n",
       "      <td>5.136515</td>\n",
       "      <td>0.0</td>\n",
       "      <td>0.0</td>\n",
       "      <td>3.000000</td>\n",
       "      <td>5.000000</td>\n",
       "      <td>8.000000</td>\n",
       "      <td>11.000000</td>\n",
       "      <td>15.000000</td>\n",
       "      <td>24.000000</td>\n",
       "      <td>58.0</td>\n",
       "    </tr>\n",
       "    <tr>\n",
       "      <th>NumberOfTimes90DaysLate</th>\n",
       "      <td>149391.0</td>\n",
       "      <td>0.238120</td>\n",
       "      <td>3.826165</td>\n",
       "      <td>0.0</td>\n",
       "      <td>0.0</td>\n",
       "      <td>0.000000</td>\n",
       "      <td>0.000000</td>\n",
       "      <td>0.000000</td>\n",
       "      <td>0.000000</td>\n",
       "      <td>0.000000</td>\n",
       "      <td>3.000000</td>\n",
       "      <td>98.0</td>\n",
       "    </tr>\n",
       "    <tr>\n",
       "      <th>NumberRealEstateLoansOrLines</th>\n",
       "      <td>149391.0</td>\n",
       "      <td>1.022391</td>\n",
       "      <td>1.130196</td>\n",
       "      <td>0.0</td>\n",
       "      <td>0.0</td>\n",
       "      <td>0.000000</td>\n",
       "      <td>0.000000</td>\n",
       "      <td>1.000000</td>\n",
       "      <td>2.000000</td>\n",
       "      <td>2.000000</td>\n",
       "      <td>4.000000</td>\n",
       "      <td>54.0</td>\n",
       "    </tr>\n",
       "    <tr>\n",
       "      <th>NumberOfTime60-89DaysPastDueNotWorse</th>\n",
       "      <td>149391.0</td>\n",
       "      <td>0.212503</td>\n",
       "      <td>3.810523</td>\n",
       "      <td>0.0</td>\n",
       "      <td>0.0</td>\n",
       "      <td>0.000000</td>\n",
       "      <td>0.000000</td>\n",
       "      <td>0.000000</td>\n",
       "      <td>0.000000</td>\n",
       "      <td>0.000000</td>\n",
       "      <td>2.000000</td>\n",
       "      <td>98.0</td>\n",
       "    </tr>\n",
       "    <tr>\n",
       "      <th>NumberOfDependents</th>\n",
       "      <td>149391.0</td>\n",
       "      <td>0.759863</td>\n",
       "      <td>1.101749</td>\n",
       "      <td>0.0</td>\n",
       "      <td>0.0</td>\n",
       "      <td>0.000000</td>\n",
       "      <td>0.000000</td>\n",
       "      <td>0.000000</td>\n",
       "      <td>1.000000</td>\n",
       "      <td>2.000000</td>\n",
       "      <td>4.000000</td>\n",
       "      <td>20.0</td>\n",
       "    </tr>\n",
       "  </tbody>\n",
       "</table>\n",
       "</div>"
      ],
      "text/plain": [
       "                                         count         mean           std  \\\n",
       "SeriousDlqin2yrs                      149391.0     0.066999      0.250021   \n",
       "RevolvingUtilizationOfUnsecuredLines  149391.0     6.071087    250.263672   \n",
       "age                                   149391.0    52.306237     14.725962   \n",
       "NumberOfTime30-59DaysPastDueNotWorse  149391.0     0.393886      3.852953   \n",
       "DebtRatio                             149391.0   354.436740   2041.843455   \n",
       "MonthlyIncome                         149391.0  5427.923132  13238.312530   \n",
       "NumberOfOpenCreditLinesAndLoans       149391.0     8.480892      5.136515   \n",
       "NumberOfTimes90DaysLate               149391.0     0.238120      3.826165   \n",
       "NumberRealEstateLoansOrLines          149391.0     1.022391      1.130196   \n",
       "NumberOfTime60-89DaysPastDueNotWorse  149391.0     0.212503      3.810523   \n",
       "NumberOfDependents                    149391.0     0.759863      1.101749   \n",
       "\n",
       "                                      min    1%        10%          25%  \\\n",
       "SeriousDlqin2yrs                      0.0   0.0   0.000000     0.000000   \n",
       "RevolvingUtilizationOfUnsecuredLines  0.0   0.0   0.003199     0.030132   \n",
       "age                                   0.0  24.0  33.000000    41.000000   \n",
       "NumberOfTime30-59DaysPastDueNotWorse  0.0   0.0   0.000000     0.000000   \n",
       "DebtRatio                             0.0   0.0   0.034991     0.177441   \n",
       "MonthlyIncome                         0.0   0.0   0.180000  1800.000000   \n",
       "NumberOfOpenCreditLinesAndLoans       0.0   0.0   3.000000     5.000000   \n",
       "NumberOfTimes90DaysLate               0.0   0.0   0.000000     0.000000   \n",
       "NumberRealEstateLoansOrLines          0.0   0.0   0.000000     0.000000   \n",
       "NumberOfTime60-89DaysPastDueNotWorse  0.0   0.0   0.000000     0.000000   \n",
       "NumberOfDependents                    0.0   0.0   0.000000     0.000000   \n",
       "\n",
       "                                              50%          75%           90%  \\\n",
       "SeriousDlqin2yrs                         0.000000     0.000000      0.000000   \n",
       "RevolvingUtilizationOfUnsecuredLines     0.154235     0.556494      0.978007   \n",
       "age                                     52.000000    63.000000     72.000000   \n",
       "NumberOfTime30-59DaysPastDueNotWorse     0.000000     0.000000      1.000000   \n",
       "DebtRatio                                0.368234     0.875279   1275.000000   \n",
       "MonthlyIncome                         4426.000000  7416.000000  10800.000000   \n",
       "NumberOfOpenCreditLinesAndLoans          8.000000    11.000000     15.000000   \n",
       "NumberOfTimes90DaysLate                  0.000000     0.000000      0.000000   \n",
       "NumberRealEstateLoansOrLines             1.000000     2.000000      2.000000   \n",
       "NumberOfTime60-89DaysPastDueNotWorse     0.000000     0.000000      0.000000   \n",
       "NumberOfDependents                       0.000000     1.000000      2.000000   \n",
       "\n",
       "                                               99%        max  \n",
       "SeriousDlqin2yrs                          1.000000        1.0  \n",
       "RevolvingUtilizationOfUnsecuredLines      1.093922    50708.0  \n",
       "age                                      87.000000      109.0  \n",
       "NumberOfTime30-59DaysPastDueNotWorse      4.000000       98.0  \n",
       "DebtRatio                              4985.100000   329664.0  \n",
       "MonthlyIncome                         23203.177000  3008750.0  \n",
       "NumberOfOpenCreditLinesAndLoans          24.000000       58.0  \n",
       "NumberOfTimes90DaysLate                   3.000000       98.0  \n",
       "NumberRealEstateLoansOrLines              4.000000       54.0  \n",
       "NumberOfTime60-89DaysPastDueNotWorse      2.000000       98.0  \n",
       "NumberOfDependents                        4.000000       20.0  "
      ]
     },
     "execution_count": 67,
     "metadata": {},
     "output_type": "execute_result"
    }
   ],
   "source": [
    "#描述性统计\n",
    "data.describe([0.01,0.1,0.25,.5,.75,.9,.99]).T"
   ]
  },
  {
   "cell_type": "code",
   "execution_count": 68,
   "id": "detected-agent",
   "metadata": {},
   "outputs": [
    {
     "data": {
      "text/plain": [
       "1"
      ]
     },
     "execution_count": 68,
     "metadata": {},
     "output_type": "execute_result"
    }
   ],
   "source": [
    "#异常值也被我们观察到，年龄的最小值居然有0，这不符合银行的业务逻辑，即便是儿童账户也要至少8岁，我们可以查看一下年龄为0的人有多少\n",
    "(data[\"age\"] == 0).sum()"
   ]
  },
  {
   "cell_type": "code",
   "execution_count": 69,
   "id": "activated-stomach",
   "metadata": {},
   "outputs": [],
   "source": [
    "#发现只有一个人为0，那么可以判断这肯定是录入失误造成的，可以当成是缺失值来处理，直接删除掉这个样本\n",
    "data = data[data[\"age\"]!= 0]"
   ]
  },
  {
   "cell_type": "code",
   "execution_count": 70,
   "id": "varied-conservation",
   "metadata": {},
   "outputs": [
    {
     "data": {
      "text/plain": [
       "SeriousDlqin2yrs                        225\n",
       "RevolvingUtilizationOfUnsecuredLines    225\n",
       "age                                     225\n",
       "NumberOfTime30-59DaysPastDueNotWorse    225\n",
       "DebtRatio                               225\n",
       "MonthlyIncome                           225\n",
       "NumberOfOpenCreditLinesAndLoans         225\n",
       "NumberOfTimes90DaysLate                 225\n",
       "NumberRealEstateLoansOrLines            225\n",
       "NumberOfTime60-89DaysPastDueNotWorse    225\n",
       "NumberOfDependents                      225\n",
       "dtype: int64"
      ]
     },
     "execution_count": 70,
     "metadata": {},
     "output_type": "execute_result"
    }
   ],
   "source": [
    "\"\"\"\n",
    "另外，有三个指标看起来很奇怪：\n",
    "\n",
    "NumberOfTime30-59DaysPastDueNotWorse\n",
    "NumberOfTime60-89DaysPastDueNotWorse\n",
    "NumberOfTimes90DaysLate\n",
    "\n",
    "\"\"\"\n",
    "\n",
    "data[data.loc[:,\"NumberOfTimes90DaysLate\"] > 90].count()"
   ]
  },
  {
   "cell_type": "code",
   "execution_count": 71,
   "id": "surface-twist",
   "metadata": {},
   "outputs": [
    {
     "data": {
      "text/plain": [
       "0     141107\n",
       "1       5232\n",
       "2       1555\n",
       "3        667\n",
       "4        291\n",
       "98       220\n",
       "5        131\n",
       "6         80\n",
       "7         38\n",
       "8         21\n",
       "9         19\n",
       "10         8\n",
       "11         5\n",
       "96         5\n",
       "13         4\n",
       "12         2\n",
       "14         2\n",
       "15         2\n",
       "17         1\n",
       "Name: NumberOfTimes90DaysLate, dtype: int64"
      ]
     },
     "execution_count": 71,
     "metadata": {},
     "output_type": "execute_result"
    }
   ],
   "source": [
    "data.loc[:,\"NumberOfTimes90DaysLate\"].value_counts()"
   ]
  },
  {
   "cell_type": "code",
   "execution_count": 72,
   "id": "attempted-publication",
   "metadata": {},
   "outputs": [],
   "source": [
    "#删了吧\n",
    "data = data[data.loc[:,\"NumberOfTimes90DaysLate\"] < 90]"
   ]
  },
  {
   "cell_type": "code",
   "execution_count": 73,
   "id": "split-twenty",
   "metadata": {},
   "outputs": [
    {
     "name": "stdout",
     "output_type": "stream",
     "text": [
      "<class 'pandas.core.frame.DataFrame'>\n",
      "RangeIndex: 149165 entries, 0 to 149164\n",
      "Data columns (total 11 columns):\n",
      " #   Column                                Non-Null Count   Dtype  \n",
      "---  ------                                --------------   -----  \n",
      " 0   SeriousDlqin2yrs                      149165 non-null  int64  \n",
      " 1   RevolvingUtilizationOfUnsecuredLines  149165 non-null  float64\n",
      " 2   age                                   149165 non-null  int64  \n",
      " 3   NumberOfTime30-59DaysPastDueNotWorse  149165 non-null  int64  \n",
      " 4   DebtRatio                             149165 non-null  float64\n",
      " 5   MonthlyIncome                         149165 non-null  float64\n",
      " 6   NumberOfOpenCreditLinesAndLoans       149165 non-null  int64  \n",
      " 7   NumberOfTimes90DaysLate               149165 non-null  int64  \n",
      " 8   NumberRealEstateLoansOrLines          149165 non-null  int64  \n",
      " 9   NumberOfTime60-89DaysPastDueNotWorse  149165 non-null  int64  \n",
      " 10  NumberOfDependents                    149165 non-null  float64\n",
      "dtypes: float64(4), int64(7)\n",
      "memory usage: 12.5 MB\n"
     ]
    }
   ],
   "source": [
    "#恢复索引!!!!!!!!\n",
    "data.index = range(data.shape[0])\n",
    "data.info()"
   ]
  },
  {
   "cell_type": "markdown",
   "id": "stretch-radius",
   "metadata": {},
   "source": [
    "### 3.2.4为什么不统一量纲，也不标准化数据分布？"
   ]
  },
  {
   "cell_type": "markdown",
   "id": "eastern-plate",
   "metadata": {},
   "source": [
    "![image.png](./images/83.png)"
   ]
  },
  {
   "cell_type": "markdown",
   "id": "empirical-apparel",
   "metadata": {},
   "source": [
    "### 3.2.5 样本不均衡问题"
   ]
  },
  {
   "cell_type": "code",
   "execution_count": 74,
   "id": "celtic-bailey",
   "metadata": {},
   "outputs": [],
   "source": [
    "#探索标签的分布\n",
    "X = data.iloc[:,1:]\n",
    "y = data.iloc[:,0]"
   ]
  },
  {
   "cell_type": "code",
   "execution_count": 75,
   "id": "acquired-flower",
   "metadata": {},
   "outputs": [
    {
     "data": {
      "text/plain": [
       "0    139292\n",
       "1      9873\n",
       "Name: SeriousDlqin2yrs, dtype: int64"
      ]
     },
     "execution_count": 75,
     "metadata": {},
     "output_type": "execute_result"
    }
   ],
   "source": [
    "y.value_counts()"
   ]
  },
  {
   "cell_type": "code",
   "execution_count": 76,
   "id": "extended-popularity",
   "metadata": {},
   "outputs": [
    {
     "name": "stdout",
     "output_type": "stream",
     "text": [
      "样本个数：149165;1占6.62%;0占93.38%\n"
     ]
    }
   ],
   "source": [
    "n_sample = X.shape[0]\n",
    "\n",
    "n_1_sample = y.value_counts()[1]\n",
    "n_0_sample = y.value_counts()[0]\n",
    "\n",
    "print('样本个数：{};1占{:,.2%};0占{:,.2%}'.format(n_sample,n_1_sample/n_sample,n_0_sample/n_sample))"
   ]
  },
  {
   "cell_type": "markdown",
   "id": "guided-isaac",
   "metadata": {},
   "source": [
    "![image.png](./images/84.png)"
   ]
  },
  {
   "cell_type": "markdown",
   "id": "native-universe",
   "metadata": {},
   "source": [
    "![image.png](./images/85.png)"
   ]
  },
  {
   "cell_type": "code",
   "execution_count": 77,
   "id": "extreme-azerbaijan",
   "metadata": {},
   "outputs": [],
   "source": [
    "import imblearn\n",
    "from imblearn.over_sampling import SMOTE\n",
    "\n",
    "sm = SMOTE(random_state=42)\n",
    "X,y = sm.fit_sample(X,y)"
   ]
  },
  {
   "cell_type": "code",
   "execution_count": 78,
   "id": "olive-project",
   "metadata": {},
   "outputs": [
    {
     "data": {
      "text/plain": [
       "278584"
      ]
     },
     "execution_count": 78,
     "metadata": {},
     "output_type": "execute_result"
    }
   ],
   "source": [
    "n_sample_ = X.shape[0]\n",
    "n_sample_"
   ]
  },
  {
   "cell_type": "code",
   "execution_count": 79,
   "id": "current-merit",
   "metadata": {},
   "outputs": [
    {
     "data": {
      "text/plain": [
       "0    139292\n",
       "1    139292\n",
       "Name: SeriousDlqin2yrs, dtype: int64"
      ]
     },
     "execution_count": 79,
     "metadata": {},
     "output_type": "execute_result"
    }
   ],
   "source": [
    "y.value_counts()"
   ]
  },
  {
   "cell_type": "code",
   "execution_count": 80,
   "id": "falling-catch",
   "metadata": {},
   "outputs": [
    {
     "name": "stdout",
     "output_type": "stream",
     "text": [
      "样本个数：278584;1占50.00%;0占50.00%\n"
     ]
    }
   ],
   "source": [
    "n_1_sample = y.value_counts()[1]\n",
    "n_0_sample = y.value_counts()[0]\n",
    "\n",
    "print('样本个数：{};1占{:,.2%};0占{:,.2%}'.format(n_sample_,n_1_sample/n_sample_,n_0_sample/n_sample_))"
   ]
  },
  {
   "cell_type": "markdown",
   "id": "starting-niagara",
   "metadata": {},
   "source": [
    "此时数据预处理差不多已经做完了！！！"
   ]
  },
  {
   "cell_type": "markdown",
   "id": "seven-preliminary",
   "metadata": {},
   "source": [
    "### 3.2.6 分训练集和测试集"
   ]
  },
  {
   "cell_type": "code",
   "execution_count": 81,
   "id": "shaped-onion",
   "metadata": {},
   "outputs": [],
   "source": [
    "from sklearn.model_selection import train_test_split\n",
    "X = pd.DataFrame(X)"
   ]
  },
  {
   "cell_type": "code",
   "execution_count": 82,
   "id": "united-comedy",
   "metadata": {},
   "outputs": [],
   "source": [
    "y = pd.DataFrame(y)"
   ]
  },
  {
   "cell_type": "code",
   "execution_count": 83,
   "id": "pleasant-extension",
   "metadata": {},
   "outputs": [
    {
     "data": {
      "text/plain": [
       "(278584, 10)"
      ]
     },
     "execution_count": 83,
     "metadata": {},
     "output_type": "execute_result"
    }
   ],
   "source": [
    "X.shape"
   ]
  },
  {
   "cell_type": "code",
   "execution_count": 84,
   "id": "spread-capacity",
   "metadata": {},
   "outputs": [
    {
     "data": {
      "text/plain": [
       "(278584, 1)"
      ]
     },
     "execution_count": 84,
     "metadata": {},
     "output_type": "execute_result"
    }
   ],
   "source": [
    "y.shape"
   ]
  },
  {
   "cell_type": "code",
   "execution_count": 85,
   "id": "peaceful-writing",
   "metadata": {},
   "outputs": [],
   "source": [
    "X_train,X_vali,Y_train,Y_vali = train_test_split(X,y,test_size=0.3,random_state=420)"
   ]
  },
  {
   "cell_type": "code",
   "execution_count": 86,
   "id": "saving-welding",
   "metadata": {},
   "outputs": [],
   "source": [
    "model_data = pd.concat([Y_train,X_train],axis=1) #训练数据"
   ]
  },
  {
   "cell_type": "code",
   "execution_count": 87,
   "id": "activated-carnival",
   "metadata": {},
   "outputs": [
    {
     "data": {
      "text/html": [
       "<div>\n",
       "<style scoped>\n",
       "    .dataframe tbody tr th:only-of-type {\n",
       "        vertical-align: middle;\n",
       "    }\n",
       "\n",
       "    .dataframe tbody tr th {\n",
       "        vertical-align: top;\n",
       "    }\n",
       "\n",
       "    .dataframe thead th {\n",
       "        text-align: right;\n",
       "    }\n",
       "</style>\n",
       "<table border=\"1\" class=\"dataframe\">\n",
       "  <thead>\n",
       "    <tr style=\"text-align: right;\">\n",
       "      <th></th>\n",
       "      <th>SeriousDlqin2yrs</th>\n",
       "      <th>RevolvingUtilizationOfUnsecuredLines</th>\n",
       "      <th>age</th>\n",
       "      <th>NumberOfTime30-59DaysPastDueNotWorse</th>\n",
       "      <th>DebtRatio</th>\n",
       "      <th>MonthlyIncome</th>\n",
       "      <th>NumberOfOpenCreditLinesAndLoans</th>\n",
       "      <th>NumberOfTimes90DaysLate</th>\n",
       "      <th>NumberRealEstateLoansOrLines</th>\n",
       "      <th>NumberOfTime60-89DaysPastDueNotWorse</th>\n",
       "      <th>NumberOfDependents</th>\n",
       "    </tr>\n",
       "  </thead>\n",
       "  <tbody>\n",
       "    <tr>\n",
       "      <th>81602</th>\n",
       "      <td>0</td>\n",
       "      <td>0.015404</td>\n",
       "      <td>53</td>\n",
       "      <td>0</td>\n",
       "      <td>0.121802</td>\n",
       "      <td>4728.000000</td>\n",
       "      <td>5</td>\n",
       "      <td>0</td>\n",
       "      <td>0</td>\n",
       "      <td>0</td>\n",
       "      <td>0.000000</td>\n",
       "    </tr>\n",
       "    <tr>\n",
       "      <th>149043</th>\n",
       "      <td>0</td>\n",
       "      <td>0.168311</td>\n",
       "      <td>63</td>\n",
       "      <td>0</td>\n",
       "      <td>0.141964</td>\n",
       "      <td>1119.000000</td>\n",
       "      <td>5</td>\n",
       "      <td>0</td>\n",
       "      <td>0</td>\n",
       "      <td>0</td>\n",
       "      <td>0.000000</td>\n",
       "    </tr>\n",
       "    <tr>\n",
       "      <th>215073</th>\n",
       "      <td>1</td>\n",
       "      <td>1.063570</td>\n",
       "      <td>39</td>\n",
       "      <td>1</td>\n",
       "      <td>0.417663</td>\n",
       "      <td>3500.000000</td>\n",
       "      <td>5</td>\n",
       "      <td>1</td>\n",
       "      <td>0</td>\n",
       "      <td>2</td>\n",
       "      <td>3.716057</td>\n",
       "    </tr>\n",
       "    <tr>\n",
       "      <th>66278</th>\n",
       "      <td>0</td>\n",
       "      <td>0.088684</td>\n",
       "      <td>73</td>\n",
       "      <td>0</td>\n",
       "      <td>0.522822</td>\n",
       "      <td>5301.000000</td>\n",
       "      <td>11</td>\n",
       "      <td>0</td>\n",
       "      <td>2</td>\n",
       "      <td>0</td>\n",
       "      <td>0.000000</td>\n",
       "    </tr>\n",
       "    <tr>\n",
       "      <th>157084</th>\n",
       "      <td>1</td>\n",
       "      <td>0.622999</td>\n",
       "      <td>53</td>\n",
       "      <td>0</td>\n",
       "      <td>0.423650</td>\n",
       "      <td>13000.000000</td>\n",
       "      <td>9</td>\n",
       "      <td>0</td>\n",
       "      <td>2</td>\n",
       "      <td>0</td>\n",
       "      <td>0.181999</td>\n",
       "    </tr>\n",
       "    <tr>\n",
       "      <th>...</th>\n",
       "      <td>...</td>\n",
       "      <td>...</td>\n",
       "      <td>...</td>\n",
       "      <td>...</td>\n",
       "      <td>...</td>\n",
       "      <td>...</td>\n",
       "      <td>...</td>\n",
       "      <td>...</td>\n",
       "      <td>...</td>\n",
       "      <td>...</td>\n",
       "      <td>...</td>\n",
       "    </tr>\n",
       "    <tr>\n",
       "      <th>178094</th>\n",
       "      <td>1</td>\n",
       "      <td>0.916269</td>\n",
       "      <td>32</td>\n",
       "      <td>2</td>\n",
       "      <td>0.548132</td>\n",
       "      <td>6000.000000</td>\n",
       "      <td>10</td>\n",
       "      <td>0</td>\n",
       "      <td>1</td>\n",
       "      <td>0</td>\n",
       "      <td>3.966830</td>\n",
       "    </tr>\n",
       "    <tr>\n",
       "      <th>62239</th>\n",
       "      <td>1</td>\n",
       "      <td>0.484728</td>\n",
       "      <td>50</td>\n",
       "      <td>1</td>\n",
       "      <td>0.370603</td>\n",
       "      <td>5258.000000</td>\n",
       "      <td>12</td>\n",
       "      <td>0</td>\n",
       "      <td>1</td>\n",
       "      <td>0</td>\n",
       "      <td>2.000000</td>\n",
       "    </tr>\n",
       "    <tr>\n",
       "      <th>152127</th>\n",
       "      <td>1</td>\n",
       "      <td>0.850447</td>\n",
       "      <td>46</td>\n",
       "      <td>0</td>\n",
       "      <td>0.562610</td>\n",
       "      <td>8000.000000</td>\n",
       "      <td>9</td>\n",
       "      <td>0</td>\n",
       "      <td>1</td>\n",
       "      <td>0</td>\n",
       "      <td>2.768793</td>\n",
       "    </tr>\n",
       "    <tr>\n",
       "      <th>119174</th>\n",
       "      <td>0</td>\n",
       "      <td>1.000000</td>\n",
       "      <td>64</td>\n",
       "      <td>0</td>\n",
       "      <td>0.364694</td>\n",
       "      <td>10309.000000</td>\n",
       "      <td>7</td>\n",
       "      <td>0</td>\n",
       "      <td>3</td>\n",
       "      <td>0</td>\n",
       "      <td>0.000000</td>\n",
       "    </tr>\n",
       "    <tr>\n",
       "      <th>193608</th>\n",
       "      <td>1</td>\n",
       "      <td>0.512881</td>\n",
       "      <td>53</td>\n",
       "      <td>0</td>\n",
       "      <td>1968.401488</td>\n",
       "      <td>0.120074</td>\n",
       "      <td>12</td>\n",
       "      <td>0</td>\n",
       "      <td>1</td>\n",
       "      <td>0</td>\n",
       "      <td>0.000000</td>\n",
       "    </tr>\n",
       "  </tbody>\n",
       "</table>\n",
       "<p>195008 rows × 11 columns</p>\n",
       "</div>"
      ],
      "text/plain": [
       "        SeriousDlqin2yrs  RevolvingUtilizationOfUnsecuredLines  age  \\\n",
       "81602                  0                              0.015404   53   \n",
       "149043                 0                              0.168311   63   \n",
       "215073                 1                              1.063570   39   \n",
       "66278                  0                              0.088684   73   \n",
       "157084                 1                              0.622999   53   \n",
       "...                  ...                                   ...  ...   \n",
       "178094                 1                              0.916269   32   \n",
       "62239                  1                              0.484728   50   \n",
       "152127                 1                              0.850447   46   \n",
       "119174                 0                              1.000000   64   \n",
       "193608                 1                              0.512881   53   \n",
       "\n",
       "        NumberOfTime30-59DaysPastDueNotWorse    DebtRatio  MonthlyIncome  \\\n",
       "81602                                      0     0.121802    4728.000000   \n",
       "149043                                     0     0.141964    1119.000000   \n",
       "215073                                     1     0.417663    3500.000000   \n",
       "66278                                      0     0.522822    5301.000000   \n",
       "157084                                     0     0.423650   13000.000000   \n",
       "...                                      ...          ...            ...   \n",
       "178094                                     2     0.548132    6000.000000   \n",
       "62239                                      1     0.370603    5258.000000   \n",
       "152127                                     0     0.562610    8000.000000   \n",
       "119174                                     0     0.364694   10309.000000   \n",
       "193608                                     0  1968.401488       0.120074   \n",
       "\n",
       "        NumberOfOpenCreditLinesAndLoans  NumberOfTimes90DaysLate  \\\n",
       "81602                                 5                        0   \n",
       "149043                                5                        0   \n",
       "215073                                5                        1   \n",
       "66278                                11                        0   \n",
       "157084                                9                        0   \n",
       "...                                 ...                      ...   \n",
       "178094                               10                        0   \n",
       "62239                                12                        0   \n",
       "152127                                9                        0   \n",
       "119174                                7                        0   \n",
       "193608                               12                        0   \n",
       "\n",
       "        NumberRealEstateLoansOrLines  NumberOfTime60-89DaysPastDueNotWorse  \\\n",
       "81602                              0                                     0   \n",
       "149043                             0                                     0   \n",
       "215073                             0                                     2   \n",
       "66278                              2                                     0   \n",
       "157084                             2                                     0   \n",
       "...                              ...                                   ...   \n",
       "178094                             1                                     0   \n",
       "62239                              1                                     0   \n",
       "152127                             1                                     0   \n",
       "119174                             3                                     0   \n",
       "193608                             1                                     0   \n",
       "\n",
       "        NumberOfDependents  \n",
       "81602             0.000000  \n",
       "149043            0.000000  \n",
       "215073            3.716057  \n",
       "66278             0.000000  \n",
       "157084            0.181999  \n",
       "...                    ...  \n",
       "178094            3.966830  \n",
       "62239             2.000000  \n",
       "152127            2.768793  \n",
       "119174            0.000000  \n",
       "193608            0.000000  \n",
       "\n",
       "[195008 rows x 11 columns]"
      ]
     },
     "execution_count": 87,
     "metadata": {},
     "output_type": "execute_result"
    }
   ],
   "source": [
    "model_data"
   ]
  },
  {
   "cell_type": "code",
   "execution_count": 88,
   "id": "ranking-washington",
   "metadata": {},
   "outputs": [
    {
     "data": {
      "text/plain": [
       "Index(['SeriousDlqin2yrs', 'RevolvingUtilizationOfUnsecuredLines', 'age',\n",
       "       'NumberOfTime30-59DaysPastDueNotWorse', 'DebtRatio', 'MonthlyIncome',\n",
       "       'NumberOfOpenCreditLinesAndLoans', 'NumberOfTimes90DaysLate',\n",
       "       'NumberRealEstateLoansOrLines', 'NumberOfTime60-89DaysPastDueNotWorse',\n",
       "       'NumberOfDependents'],\n",
       "      dtype='object')"
      ]
     },
     "execution_count": 88,
     "metadata": {},
     "output_type": "execute_result"
    }
   ],
   "source": [
    "model_data.columns"
   ]
  },
  {
   "cell_type": "code",
   "execution_count": 89,
   "id": "prompt-revision",
   "metadata": {},
   "outputs": [],
   "source": [
    "model_data.index = range(model_data.shape[0]) #索引排序\n",
    "model_data.columns = data.columns"
   ]
  },
  {
   "cell_type": "code",
   "execution_count": 90,
   "id": "clinical-joyce",
   "metadata": {},
   "outputs": [
    {
     "data": {
      "text/html": [
       "<div>\n",
       "<style scoped>\n",
       "    .dataframe tbody tr th:only-of-type {\n",
       "        vertical-align: middle;\n",
       "    }\n",
       "\n",
       "    .dataframe tbody tr th {\n",
       "        vertical-align: top;\n",
       "    }\n",
       "\n",
       "    .dataframe thead th {\n",
       "        text-align: right;\n",
       "    }\n",
       "</style>\n",
       "<table border=\"1\" class=\"dataframe\">\n",
       "  <thead>\n",
       "    <tr style=\"text-align: right;\">\n",
       "      <th></th>\n",
       "      <th>SeriousDlqin2yrs</th>\n",
       "      <th>RevolvingUtilizationOfUnsecuredLines</th>\n",
       "      <th>age</th>\n",
       "      <th>NumberOfTime30-59DaysPastDueNotWorse</th>\n",
       "      <th>DebtRatio</th>\n",
       "      <th>MonthlyIncome</th>\n",
       "      <th>NumberOfOpenCreditLinesAndLoans</th>\n",
       "      <th>NumberOfTimes90DaysLate</th>\n",
       "      <th>NumberRealEstateLoansOrLines</th>\n",
       "      <th>NumberOfTime60-89DaysPastDueNotWorse</th>\n",
       "      <th>NumberOfDependents</th>\n",
       "    </tr>\n",
       "  </thead>\n",
       "  <tbody>\n",
       "    <tr>\n",
       "      <th>0</th>\n",
       "      <td>0</td>\n",
       "      <td>0.015404</td>\n",
       "      <td>53</td>\n",
       "      <td>0</td>\n",
       "      <td>0.121802</td>\n",
       "      <td>4728.000000</td>\n",
       "      <td>5</td>\n",
       "      <td>0</td>\n",
       "      <td>0</td>\n",
       "      <td>0</td>\n",
       "      <td>0.000000</td>\n",
       "    </tr>\n",
       "    <tr>\n",
       "      <th>1</th>\n",
       "      <td>0</td>\n",
       "      <td>0.168311</td>\n",
       "      <td>63</td>\n",
       "      <td>0</td>\n",
       "      <td>0.141964</td>\n",
       "      <td>1119.000000</td>\n",
       "      <td>5</td>\n",
       "      <td>0</td>\n",
       "      <td>0</td>\n",
       "      <td>0</td>\n",
       "      <td>0.000000</td>\n",
       "    </tr>\n",
       "    <tr>\n",
       "      <th>2</th>\n",
       "      <td>1</td>\n",
       "      <td>1.063570</td>\n",
       "      <td>39</td>\n",
       "      <td>1</td>\n",
       "      <td>0.417663</td>\n",
       "      <td>3500.000000</td>\n",
       "      <td>5</td>\n",
       "      <td>1</td>\n",
       "      <td>0</td>\n",
       "      <td>2</td>\n",
       "      <td>3.716057</td>\n",
       "    </tr>\n",
       "    <tr>\n",
       "      <th>3</th>\n",
       "      <td>0</td>\n",
       "      <td>0.088684</td>\n",
       "      <td>73</td>\n",
       "      <td>0</td>\n",
       "      <td>0.522822</td>\n",
       "      <td>5301.000000</td>\n",
       "      <td>11</td>\n",
       "      <td>0</td>\n",
       "      <td>2</td>\n",
       "      <td>0</td>\n",
       "      <td>0.000000</td>\n",
       "    </tr>\n",
       "    <tr>\n",
       "      <th>4</th>\n",
       "      <td>1</td>\n",
       "      <td>0.622999</td>\n",
       "      <td>53</td>\n",
       "      <td>0</td>\n",
       "      <td>0.423650</td>\n",
       "      <td>13000.000000</td>\n",
       "      <td>9</td>\n",
       "      <td>0</td>\n",
       "      <td>2</td>\n",
       "      <td>0</td>\n",
       "      <td>0.181999</td>\n",
       "    </tr>\n",
       "    <tr>\n",
       "      <th>...</th>\n",
       "      <td>...</td>\n",
       "      <td>...</td>\n",
       "      <td>...</td>\n",
       "      <td>...</td>\n",
       "      <td>...</td>\n",
       "      <td>...</td>\n",
       "      <td>...</td>\n",
       "      <td>...</td>\n",
       "      <td>...</td>\n",
       "      <td>...</td>\n",
       "      <td>...</td>\n",
       "    </tr>\n",
       "    <tr>\n",
       "      <th>195003</th>\n",
       "      <td>1</td>\n",
       "      <td>0.916269</td>\n",
       "      <td>32</td>\n",
       "      <td>2</td>\n",
       "      <td>0.548132</td>\n",
       "      <td>6000.000000</td>\n",
       "      <td>10</td>\n",
       "      <td>0</td>\n",
       "      <td>1</td>\n",
       "      <td>0</td>\n",
       "      <td>3.966830</td>\n",
       "    </tr>\n",
       "    <tr>\n",
       "      <th>195004</th>\n",
       "      <td>1</td>\n",
       "      <td>0.484728</td>\n",
       "      <td>50</td>\n",
       "      <td>1</td>\n",
       "      <td>0.370603</td>\n",
       "      <td>5258.000000</td>\n",
       "      <td>12</td>\n",
       "      <td>0</td>\n",
       "      <td>1</td>\n",
       "      <td>0</td>\n",
       "      <td>2.000000</td>\n",
       "    </tr>\n",
       "    <tr>\n",
       "      <th>195005</th>\n",
       "      <td>1</td>\n",
       "      <td>0.850447</td>\n",
       "      <td>46</td>\n",
       "      <td>0</td>\n",
       "      <td>0.562610</td>\n",
       "      <td>8000.000000</td>\n",
       "      <td>9</td>\n",
       "      <td>0</td>\n",
       "      <td>1</td>\n",
       "      <td>0</td>\n",
       "      <td>2.768793</td>\n",
       "    </tr>\n",
       "    <tr>\n",
       "      <th>195006</th>\n",
       "      <td>0</td>\n",
       "      <td>1.000000</td>\n",
       "      <td>64</td>\n",
       "      <td>0</td>\n",
       "      <td>0.364694</td>\n",
       "      <td>10309.000000</td>\n",
       "      <td>7</td>\n",
       "      <td>0</td>\n",
       "      <td>3</td>\n",
       "      <td>0</td>\n",
       "      <td>0.000000</td>\n",
       "    </tr>\n",
       "    <tr>\n",
       "      <th>195007</th>\n",
       "      <td>1</td>\n",
       "      <td>0.512881</td>\n",
       "      <td>53</td>\n",
       "      <td>0</td>\n",
       "      <td>1968.401488</td>\n",
       "      <td>0.120074</td>\n",
       "      <td>12</td>\n",
       "      <td>0</td>\n",
       "      <td>1</td>\n",
       "      <td>0</td>\n",
       "      <td>0.000000</td>\n",
       "    </tr>\n",
       "  </tbody>\n",
       "</table>\n",
       "<p>195008 rows × 11 columns</p>\n",
       "</div>"
      ],
      "text/plain": [
       "        SeriousDlqin2yrs  RevolvingUtilizationOfUnsecuredLines  age  \\\n",
       "0                      0                              0.015404   53   \n",
       "1                      0                              0.168311   63   \n",
       "2                      1                              1.063570   39   \n",
       "3                      0                              0.088684   73   \n",
       "4                      1                              0.622999   53   \n",
       "...                  ...                                   ...  ...   \n",
       "195003                 1                              0.916269   32   \n",
       "195004                 1                              0.484728   50   \n",
       "195005                 1                              0.850447   46   \n",
       "195006                 0                              1.000000   64   \n",
       "195007                 1                              0.512881   53   \n",
       "\n",
       "        NumberOfTime30-59DaysPastDueNotWorse    DebtRatio  MonthlyIncome  \\\n",
       "0                                          0     0.121802    4728.000000   \n",
       "1                                          0     0.141964    1119.000000   \n",
       "2                                          1     0.417663    3500.000000   \n",
       "3                                          0     0.522822    5301.000000   \n",
       "4                                          0     0.423650   13000.000000   \n",
       "...                                      ...          ...            ...   \n",
       "195003                                     2     0.548132    6000.000000   \n",
       "195004                                     1     0.370603    5258.000000   \n",
       "195005                                     0     0.562610    8000.000000   \n",
       "195006                                     0     0.364694   10309.000000   \n",
       "195007                                     0  1968.401488       0.120074   \n",
       "\n",
       "        NumberOfOpenCreditLinesAndLoans  NumberOfTimes90DaysLate  \\\n",
       "0                                     5                        0   \n",
       "1                                     5                        0   \n",
       "2                                     5                        1   \n",
       "3                                    11                        0   \n",
       "4                                     9                        0   \n",
       "...                                 ...                      ...   \n",
       "195003                               10                        0   \n",
       "195004                               12                        0   \n",
       "195005                                9                        0   \n",
       "195006                                7                        0   \n",
       "195007                               12                        0   \n",
       "\n",
       "        NumberRealEstateLoansOrLines  NumberOfTime60-89DaysPastDueNotWorse  \\\n",
       "0                                  0                                     0   \n",
       "1                                  0                                     0   \n",
       "2                                  0                                     2   \n",
       "3                                  2                                     0   \n",
       "4                                  2                                     0   \n",
       "...                              ...                                   ...   \n",
       "195003                             1                                     0   \n",
       "195004                             1                                     0   \n",
       "195005                             1                                     0   \n",
       "195006                             3                                     0   \n",
       "195007                             1                                     0   \n",
       "\n",
       "        NumberOfDependents  \n",
       "0                 0.000000  \n",
       "1                 0.000000  \n",
       "2                 3.716057  \n",
       "3                 0.000000  \n",
       "4                 0.181999  \n",
       "...                    ...  \n",
       "195003            3.966830  \n",
       "195004            2.000000  \n",
       "195005            2.768793  \n",
       "195006            0.000000  \n",
       "195007            0.000000  \n",
       "\n",
       "[195008 rows x 11 columns]"
      ]
     },
     "execution_count": 90,
     "metadata": {},
     "output_type": "execute_result"
    }
   ],
   "source": [
    "model_data"
   ]
  },
  {
   "cell_type": "code",
   "execution_count": 91,
   "id": "diagnostic-ordinary",
   "metadata": {},
   "outputs": [],
   "source": [
    "vali_data = pd.concat([Y_vali,X_vali],axis=1) #测试数据\n",
    "vali_data.index = range(vali_data.shape[0])\n",
    "vali_data.columns = data.columns"
   ]
  },
  {
   "cell_type": "code",
   "execution_count": 92,
   "id": "temporal-lingerie",
   "metadata": {},
   "outputs": [],
   "source": [
    "#保存数据\n",
    "model_data.to_csv(r\"F:\\machineLearningcsv\\model_data.csv\")\n",
    "vali_data.to_csv(r\"F:\\machineLearningcsv\\vali_data.csv\")"
   ]
  },
  {
   "cell_type": "markdown",
   "id": "cultural-activation",
   "metadata": {},
   "source": [
    "## 3.3分箱"
   ]
  },
  {
   "cell_type": "markdown",
   "id": "smart-chocolate",
   "metadata": {},
   "source": [
    "![image.png](./images/86.png)"
   ]
  },
  {
   "cell_type": "markdown",
   "id": "egyptian-rider",
   "metadata": {},
   "source": [
    "![image.png](./images/87.png)"
   ]
  },
  {
   "cell_type": "markdown",
   "id": "complex-costs",
   "metadata": {},
   "source": [
    "![image.png](./images/88.png)"
   ]
  },
  {
   "cell_type": "markdown",
   "id": "strange-product",
   "metadata": {},
   "source": [
    "![image.png](./images/89.png)"
   ]
  },
  {
   "cell_type": "markdown",
   "id": "impressive-shoot",
   "metadata": {},
   "source": [
    "![image.png](./images/90.png)"
   ]
  },
  {
   "cell_type": "markdown",
   "id": "black-tutorial",
   "metadata": {},
   "source": [
    "### 3.3.1等频分箱"
   ]
  },
  {
   "cell_type": "code",
   "execution_count": 93,
   "id": "julian-remains",
   "metadata": {},
   "outputs": [
    {
     "data": {
      "text/plain": [
       "0         53\n",
       "1         63\n",
       "2         39\n",
       "3         73\n",
       "4         53\n",
       "          ..\n",
       "195003    32\n",
       "195004    50\n",
       "195005    46\n",
       "195006    64\n",
       "195007    53\n",
       "Name: age, Length: 195008, dtype: int64"
      ]
     },
     "execution_count": 93,
     "metadata": {},
     "output_type": "execute_result"
    }
   ],
   "source": [
    "model_data[\"age\"]"
   ]
  },
  {
   "cell_type": "code",
   "execution_count": 94,
   "id": "distinct-plumbing",
   "metadata": {},
   "outputs": [
    {
     "data": {
      "text/plain": [
       "'\\npd.qcut ,基于分位数的分箱函数，本质是将连续型变量离散化。智能够处理一维数据。\\n返回箱子的上限和下限\\n参数q：要分箱的个数\\n参数retbins=True来要求同时返回结构为索引为样本索引，元素为分到的箱子的Series\\n现在返回两个值：每个样本属于哪个箱子，以及所有箱子的上限和下限\\n'"
      ]
     },
     "execution_count": 94,
     "metadata": {},
     "output_type": "execute_result"
    }
   ],
   "source": [
    "#按照等频对需要分箱的列进行分箱\n",
    "\n",
    "#“age”为例子\n",
    "\n",
    "model_data[\"qcut\"],updown = pd.qcut(model_data[\"age\"],retbins=True,q=20)\n",
    "\n",
    "\"\"\"\n",
    "pd.qcut ,基于分位数的分箱函数，本质是将连续型变量离散化。智能够处理一维数据。\n",
    "返回箱子的上限和下限\n",
    "参数q：要分箱的个数\n",
    "参数retbins=True来要求同时返回结构为索引为样本索引，元素为分到的箱子的Series\n",
    "现在返回两个值：每个样本属于哪个箱子，以及所有箱子的上限和下限\n",
    "\"\"\""
   ]
  },
  {
   "cell_type": "code",
   "execution_count": 95,
   "id": "united-pointer",
   "metadata": {},
   "outputs": [
    {
     "data": {
      "text/plain": [
       "(36.0, 39.0]      12640\n",
       "(20.999, 28.0]    11774\n",
       "(58.0, 61.0]      11408\n",
       "(48.0, 50.0]      11091\n",
       "(46.0, 48.0]      10979\n",
       "(31.0, 34.0]      10806\n",
       "(50.0, 52.0]      10534\n",
       "(43.0, 45.0]      10389\n",
       "(61.0, 64.0]      10185\n",
       "(39.0, 41.0]       9790\n",
       "(41.0, 43.0]       9719\n",
       "(52.0, 54.0]       9714\n",
       "(28.0, 31.0]       9517\n",
       "(74.0, 107.0]      9115\n",
       "(64.0, 68.0]       8922\n",
       "(54.0, 56.0]       8694\n",
       "(68.0, 74.0]       8666\n",
       "(56.0, 58.0]       7864\n",
       "(34.0, 36.0]       7540\n",
       "(45.0, 46.0]       5661\n",
       "Name: qcut, dtype: int64"
      ]
     },
     "execution_count": 95,
     "metadata": {},
     "output_type": "execute_result"
    }
   ],
   "source": [
    "#dataframe[\"列名\"]，当这个列存在时，相当于索引，不存在时，会自动生成一个新的列\n",
    "#在这里时让model_data新添加一列叫做“分箱”，这一列其实就是每个样本所对应的箱子\n",
    "model_data[\"qcut\"].value_counts()"
   ]
  },
  {
   "cell_type": "code",
   "execution_count": 96,
   "id": "defined-stocks",
   "metadata": {},
   "outputs": [
    {
     "data": {
      "text/plain": [
       "(21,)"
      ]
     },
     "execution_count": 96,
     "metadata": {},
     "output_type": "execute_result"
    }
   ],
   "source": [
    "updown.shape"
   ]
  },
  {
   "cell_type": "code",
   "execution_count": 97,
   "id": "victorian-removal",
   "metadata": {},
   "outputs": [
    {
     "data": {
      "text/plain": [
       "array([ 21.,  28.,  31.,  34.,  36.,  39.,  41.,  43.,  45.,  46.,  48.,\n",
       "        50.,  52.,  54.,  56.,  58.,  61.,  64.,  68.,  74., 107.])"
      ]
     },
     "execution_count": 97,
     "metadata": {},
     "output_type": "execute_result"
    }
   ],
   "source": [
    "#所有箱子的上限和下限\n",
    "updown"
   ]
  },
  {
   "cell_type": "code",
   "execution_count": 98,
   "id": "bearing-pattern",
   "metadata": {},
   "outputs": [
    {
     "data": {
      "text/plain": [
       "0          True\n",
       "1          True\n",
       "2         False\n",
       "3          True\n",
       "4         False\n",
       "          ...  \n",
       "195003    False\n",
       "195004    False\n",
       "195005    False\n",
       "195006     True\n",
       "195007    False\n",
       "Name: SeriousDlqin2yrs, Length: 195008, dtype: bool"
      ]
     },
     "execution_count": 98,
     "metadata": {},
     "output_type": "execute_result"
    }
   ],
   "source": [
    "model_data[\"SeriousDlqin2yrs\"] == 0"
   ]
  },
  {
   "cell_type": "code",
   "execution_count": 99,
   "id": "institutional-emergency",
   "metadata": {},
   "outputs": [
    {
     "data": {
      "text/html": [
       "<div>\n",
       "<style scoped>\n",
       "    .dataframe tbody tr th:only-of-type {\n",
       "        vertical-align: middle;\n",
       "    }\n",
       "\n",
       "    .dataframe tbody tr th {\n",
       "        vertical-align: top;\n",
       "    }\n",
       "\n",
       "    .dataframe thead th {\n",
       "        text-align: right;\n",
       "    }\n",
       "</style>\n",
       "<table border=\"1\" class=\"dataframe\">\n",
       "  <thead>\n",
       "    <tr style=\"text-align: right;\">\n",
       "      <th></th>\n",
       "      <th>SeriousDlqin2yrs</th>\n",
       "      <th>RevolvingUtilizationOfUnsecuredLines</th>\n",
       "      <th>age</th>\n",
       "      <th>NumberOfTime30-59DaysPastDueNotWorse</th>\n",
       "      <th>DebtRatio</th>\n",
       "      <th>MonthlyIncome</th>\n",
       "      <th>NumberOfOpenCreditLinesAndLoans</th>\n",
       "      <th>NumberOfTimes90DaysLate</th>\n",
       "      <th>NumberRealEstateLoansOrLines</th>\n",
       "      <th>NumberOfTime60-89DaysPastDueNotWorse</th>\n",
       "      <th>NumberOfDependents</th>\n",
       "      <th>qcut</th>\n",
       "    </tr>\n",
       "  </thead>\n",
       "  <tbody>\n",
       "    <tr>\n",
       "      <th>0</th>\n",
       "      <td>0</td>\n",
       "      <td>0.015404</td>\n",
       "      <td>53</td>\n",
       "      <td>0</td>\n",
       "      <td>0.121802</td>\n",
       "      <td>4728.00</td>\n",
       "      <td>5</td>\n",
       "      <td>0</td>\n",
       "      <td>0</td>\n",
       "      <td>0</td>\n",
       "      <td>0.0</td>\n",
       "      <td>(52.0, 54.0]</td>\n",
       "    </tr>\n",
       "    <tr>\n",
       "      <th>1</th>\n",
       "      <td>0</td>\n",
       "      <td>0.168311</td>\n",
       "      <td>63</td>\n",
       "      <td>0</td>\n",
       "      <td>0.141964</td>\n",
       "      <td>1119.00</td>\n",
       "      <td>5</td>\n",
       "      <td>0</td>\n",
       "      <td>0</td>\n",
       "      <td>0</td>\n",
       "      <td>0.0</td>\n",
       "      <td>(61.0, 64.0]</td>\n",
       "    </tr>\n",
       "    <tr>\n",
       "      <th>3</th>\n",
       "      <td>0</td>\n",
       "      <td>0.088684</td>\n",
       "      <td>73</td>\n",
       "      <td>0</td>\n",
       "      <td>0.522822</td>\n",
       "      <td>5301.00</td>\n",
       "      <td>11</td>\n",
       "      <td>0</td>\n",
       "      <td>2</td>\n",
       "      <td>0</td>\n",
       "      <td>0.0</td>\n",
       "      <td>(68.0, 74.0]</td>\n",
       "    </tr>\n",
       "    <tr>\n",
       "      <th>5</th>\n",
       "      <td>0</td>\n",
       "      <td>0.364157</td>\n",
       "      <td>42</td>\n",
       "      <td>0</td>\n",
       "      <td>0.228036</td>\n",
       "      <td>23333.00</td>\n",
       "      <td>10</td>\n",
       "      <td>0</td>\n",
       "      <td>1</td>\n",
       "      <td>0</td>\n",
       "      <td>2.0</td>\n",
       "      <td>(41.0, 43.0]</td>\n",
       "    </tr>\n",
       "    <tr>\n",
       "      <th>7</th>\n",
       "      <td>0</td>\n",
       "      <td>1.000000</td>\n",
       "      <td>26</td>\n",
       "      <td>0</td>\n",
       "      <td>25.000000</td>\n",
       "      <td>0.61</td>\n",
       "      <td>0</td>\n",
       "      <td>0</td>\n",
       "      <td>0</td>\n",
       "      <td>0</td>\n",
       "      <td>0.0</td>\n",
       "      <td>(20.999, 28.0]</td>\n",
       "    </tr>\n",
       "    <tr>\n",
       "      <th>...</th>\n",
       "      <td>...</td>\n",
       "      <td>...</td>\n",
       "      <td>...</td>\n",
       "      <td>...</td>\n",
       "      <td>...</td>\n",
       "      <td>...</td>\n",
       "      <td>...</td>\n",
       "      <td>...</td>\n",
       "      <td>...</td>\n",
       "      <td>...</td>\n",
       "      <td>...</td>\n",
       "      <td>...</td>\n",
       "    </tr>\n",
       "    <tr>\n",
       "      <th>194996</th>\n",
       "      <td>0</td>\n",
       "      <td>0.938866</td>\n",
       "      <td>48</td>\n",
       "      <td>0</td>\n",
       "      <td>0.611371</td>\n",
       "      <td>3200.00</td>\n",
       "      <td>9</td>\n",
       "      <td>0</td>\n",
       "      <td>1</td>\n",
       "      <td>1</td>\n",
       "      <td>1.0</td>\n",
       "      <td>(46.0, 48.0]</td>\n",
       "    </tr>\n",
       "    <tr>\n",
       "      <th>194997</th>\n",
       "      <td>0</td>\n",
       "      <td>0.000000</td>\n",
       "      <td>79</td>\n",
       "      <td>0</td>\n",
       "      <td>0.734151</td>\n",
       "      <td>4400.00</td>\n",
       "      <td>6</td>\n",
       "      <td>0</td>\n",
       "      <td>1</td>\n",
       "      <td>0</td>\n",
       "      <td>0.0</td>\n",
       "      <td>(74.0, 107.0]</td>\n",
       "    </tr>\n",
       "    <tr>\n",
       "      <th>194999</th>\n",
       "      <td>0</td>\n",
       "      <td>0.001234</td>\n",
       "      <td>78</td>\n",
       "      <td>0</td>\n",
       "      <td>0.000476</td>\n",
       "      <td>10500.00</td>\n",
       "      <td>13</td>\n",
       "      <td>0</td>\n",
       "      <td>0</td>\n",
       "      <td>0</td>\n",
       "      <td>0.0</td>\n",
       "      <td>(74.0, 107.0]</td>\n",
       "    </tr>\n",
       "    <tr>\n",
       "      <th>195002</th>\n",
       "      <td>0</td>\n",
       "      <td>0.227820</td>\n",
       "      <td>77</td>\n",
       "      <td>0</td>\n",
       "      <td>0.554916</td>\n",
       "      <td>6600.00</td>\n",
       "      <td>24</td>\n",
       "      <td>0</td>\n",
       "      <td>2</td>\n",
       "      <td>0</td>\n",
       "      <td>0.0</td>\n",
       "      <td>(74.0, 107.0]</td>\n",
       "    </tr>\n",
       "    <tr>\n",
       "      <th>195006</th>\n",
       "      <td>0</td>\n",
       "      <td>1.000000</td>\n",
       "      <td>64</td>\n",
       "      <td>0</td>\n",
       "      <td>0.364694</td>\n",
       "      <td>10309.00</td>\n",
       "      <td>7</td>\n",
       "      <td>0</td>\n",
       "      <td>3</td>\n",
       "      <td>0</td>\n",
       "      <td>0.0</td>\n",
       "      <td>(61.0, 64.0]</td>\n",
       "    </tr>\n",
       "  </tbody>\n",
       "</table>\n",
       "<p>97691 rows × 12 columns</p>\n",
       "</div>"
      ],
      "text/plain": [
       "        SeriousDlqin2yrs  RevolvingUtilizationOfUnsecuredLines  age  \\\n",
       "0                      0                              0.015404   53   \n",
       "1                      0                              0.168311   63   \n",
       "3                      0                              0.088684   73   \n",
       "5                      0                              0.364157   42   \n",
       "7                      0                              1.000000   26   \n",
       "...                  ...                                   ...  ...   \n",
       "194996                 0                              0.938866   48   \n",
       "194997                 0                              0.000000   79   \n",
       "194999                 0                              0.001234   78   \n",
       "195002                 0                              0.227820   77   \n",
       "195006                 0                              1.000000   64   \n",
       "\n",
       "        NumberOfTime30-59DaysPastDueNotWorse  DebtRatio  MonthlyIncome  \\\n",
       "0                                          0   0.121802        4728.00   \n",
       "1                                          0   0.141964        1119.00   \n",
       "3                                          0   0.522822        5301.00   \n",
       "5                                          0   0.228036       23333.00   \n",
       "7                                          0  25.000000           0.61   \n",
       "...                                      ...        ...            ...   \n",
       "194996                                     0   0.611371        3200.00   \n",
       "194997                                     0   0.734151        4400.00   \n",
       "194999                                     0   0.000476       10500.00   \n",
       "195002                                     0   0.554916        6600.00   \n",
       "195006                                     0   0.364694       10309.00   \n",
       "\n",
       "        NumberOfOpenCreditLinesAndLoans  NumberOfTimes90DaysLate  \\\n",
       "0                                     5                        0   \n",
       "1                                     5                        0   \n",
       "3                                    11                        0   \n",
       "5                                    10                        0   \n",
       "7                                     0                        0   \n",
       "...                                 ...                      ...   \n",
       "194996                                9                        0   \n",
       "194997                                6                        0   \n",
       "194999                               13                        0   \n",
       "195002                               24                        0   \n",
       "195006                                7                        0   \n",
       "\n",
       "        NumberRealEstateLoansOrLines  NumberOfTime60-89DaysPastDueNotWorse  \\\n",
       "0                                  0                                     0   \n",
       "1                                  0                                     0   \n",
       "3                                  2                                     0   \n",
       "5                                  1                                     0   \n",
       "7                                  0                                     0   \n",
       "...                              ...                                   ...   \n",
       "194996                             1                                     1   \n",
       "194997                             1                                     0   \n",
       "194999                             0                                     0   \n",
       "195002                             2                                     0   \n",
       "195006                             3                                     0   \n",
       "\n",
       "        NumberOfDependents            qcut  \n",
       "0                      0.0    (52.0, 54.0]  \n",
       "1                      0.0    (61.0, 64.0]  \n",
       "3                      0.0    (68.0, 74.0]  \n",
       "5                      2.0    (41.0, 43.0]  \n",
       "7                      0.0  (20.999, 28.0]  \n",
       "...                    ...             ...  \n",
       "194996                 1.0    (46.0, 48.0]  \n",
       "194997                 0.0   (74.0, 107.0]  \n",
       "194999                 0.0   (74.0, 107.0]  \n",
       "195002                 0.0   (74.0, 107.0]  \n",
       "195006                 0.0    (61.0, 64.0]  \n",
       "\n",
       "[97691 rows x 12 columns]"
      ]
     },
     "execution_count": 99,
     "metadata": {},
     "output_type": "execute_result"
    }
   ],
   "source": [
    "model_data[model_data[\"SeriousDlqin2yrs\"] == 0]"
   ]
  },
  {
   "cell_type": "code",
   "execution_count": 100,
   "id": "narrow-responsibility",
   "metadata": {},
   "outputs": [
    {
     "data": {
      "text/html": [
       "<div>\n",
       "<style scoped>\n",
       "    .dataframe tbody tr th:only-of-type {\n",
       "        vertical-align: middle;\n",
       "    }\n",
       "\n",
       "    .dataframe tbody tr th {\n",
       "        vertical-align: top;\n",
       "    }\n",
       "\n",
       "    .dataframe thead th {\n",
       "        text-align: right;\n",
       "    }\n",
       "</style>\n",
       "<table border=\"1\" class=\"dataframe\">\n",
       "  <thead>\n",
       "    <tr style=\"text-align: right;\">\n",
       "      <th></th>\n",
       "      <th>SeriousDlqin2yrs</th>\n",
       "      <th>RevolvingUtilizationOfUnsecuredLines</th>\n",
       "      <th>age</th>\n",
       "      <th>NumberOfTime30-59DaysPastDueNotWorse</th>\n",
       "      <th>DebtRatio</th>\n",
       "      <th>MonthlyIncome</th>\n",
       "      <th>NumberOfOpenCreditLinesAndLoans</th>\n",
       "      <th>NumberOfTimes90DaysLate</th>\n",
       "      <th>NumberRealEstateLoansOrLines</th>\n",
       "      <th>NumberOfTime60-89DaysPastDueNotWorse</th>\n",
       "      <th>NumberOfDependents</th>\n",
       "    </tr>\n",
       "    <tr>\n",
       "      <th>qcut</th>\n",
       "      <th></th>\n",
       "      <th></th>\n",
       "      <th></th>\n",
       "      <th></th>\n",
       "      <th></th>\n",
       "      <th></th>\n",
       "      <th></th>\n",
       "      <th></th>\n",
       "      <th></th>\n",
       "      <th></th>\n",
       "      <th></th>\n",
       "    </tr>\n",
       "  </thead>\n",
       "  <tbody>\n",
       "    <tr>\n",
       "      <th>(20.999, 28.0]</th>\n",
       "      <td>4243</td>\n",
       "      <td>4243</td>\n",
       "      <td>4243</td>\n",
       "      <td>4243</td>\n",
       "      <td>4243</td>\n",
       "      <td>4243</td>\n",
       "      <td>4243</td>\n",
       "      <td>4243</td>\n",
       "      <td>4243</td>\n",
       "      <td>4243</td>\n",
       "      <td>4243</td>\n",
       "    </tr>\n",
       "    <tr>\n",
       "      <th>(28.0, 31.0]</th>\n",
       "      <td>3571</td>\n",
       "      <td>3571</td>\n",
       "      <td>3571</td>\n",
       "      <td>3571</td>\n",
       "      <td>3571</td>\n",
       "      <td>3571</td>\n",
       "      <td>3571</td>\n",
       "      <td>3571</td>\n",
       "      <td>3571</td>\n",
       "      <td>3571</td>\n",
       "      <td>3571</td>\n",
       "    </tr>\n",
       "    <tr>\n",
       "      <th>(31.0, 34.0]</th>\n",
       "      <td>4075</td>\n",
       "      <td>4075</td>\n",
       "      <td>4075</td>\n",
       "      <td>4075</td>\n",
       "      <td>4075</td>\n",
       "      <td>4075</td>\n",
       "      <td>4075</td>\n",
       "      <td>4075</td>\n",
       "      <td>4075</td>\n",
       "      <td>4075</td>\n",
       "      <td>4075</td>\n",
       "    </tr>\n",
       "    <tr>\n",
       "      <th>(34.0, 36.0]</th>\n",
       "      <td>2908</td>\n",
       "      <td>2908</td>\n",
       "      <td>2908</td>\n",
       "      <td>2908</td>\n",
       "      <td>2908</td>\n",
       "      <td>2908</td>\n",
       "      <td>2908</td>\n",
       "      <td>2908</td>\n",
       "      <td>2908</td>\n",
       "      <td>2908</td>\n",
       "      <td>2908</td>\n",
       "    </tr>\n",
       "    <tr>\n",
       "      <th>(36.0, 39.0]</th>\n",
       "      <td>5182</td>\n",
       "      <td>5182</td>\n",
       "      <td>5182</td>\n",
       "      <td>5182</td>\n",
       "      <td>5182</td>\n",
       "      <td>5182</td>\n",
       "      <td>5182</td>\n",
       "      <td>5182</td>\n",
       "      <td>5182</td>\n",
       "      <td>5182</td>\n",
       "      <td>5182</td>\n",
       "    </tr>\n",
       "    <tr>\n",
       "      <th>(39.0, 41.0]</th>\n",
       "      <td>3956</td>\n",
       "      <td>3956</td>\n",
       "      <td>3956</td>\n",
       "      <td>3956</td>\n",
       "      <td>3956</td>\n",
       "      <td>3956</td>\n",
       "      <td>3956</td>\n",
       "      <td>3956</td>\n",
       "      <td>3956</td>\n",
       "      <td>3956</td>\n",
       "      <td>3956</td>\n",
       "    </tr>\n",
       "    <tr>\n",
       "      <th>(41.0, 43.0]</th>\n",
       "      <td>4002</td>\n",
       "      <td>4002</td>\n",
       "      <td>4002</td>\n",
       "      <td>4002</td>\n",
       "      <td>4002</td>\n",
       "      <td>4002</td>\n",
       "      <td>4002</td>\n",
       "      <td>4002</td>\n",
       "      <td>4002</td>\n",
       "      <td>4002</td>\n",
       "      <td>4002</td>\n",
       "    </tr>\n",
       "    <tr>\n",
       "      <th>(43.0, 45.0]</th>\n",
       "      <td>4389</td>\n",
       "      <td>4389</td>\n",
       "      <td>4389</td>\n",
       "      <td>4389</td>\n",
       "      <td>4389</td>\n",
       "      <td>4389</td>\n",
       "      <td>4389</td>\n",
       "      <td>4389</td>\n",
       "      <td>4389</td>\n",
       "      <td>4389</td>\n",
       "      <td>4389</td>\n",
       "    </tr>\n",
       "    <tr>\n",
       "      <th>(45.0, 46.0]</th>\n",
       "      <td>2419</td>\n",
       "      <td>2419</td>\n",
       "      <td>2419</td>\n",
       "      <td>2419</td>\n",
       "      <td>2419</td>\n",
       "      <td>2419</td>\n",
       "      <td>2419</td>\n",
       "      <td>2419</td>\n",
       "      <td>2419</td>\n",
       "      <td>2419</td>\n",
       "      <td>2419</td>\n",
       "    </tr>\n",
       "    <tr>\n",
       "      <th>(46.0, 48.0]</th>\n",
       "      <td>4813</td>\n",
       "      <td>4813</td>\n",
       "      <td>4813</td>\n",
       "      <td>4813</td>\n",
       "      <td>4813</td>\n",
       "      <td>4813</td>\n",
       "      <td>4813</td>\n",
       "      <td>4813</td>\n",
       "      <td>4813</td>\n",
       "      <td>4813</td>\n",
       "      <td>4813</td>\n",
       "    </tr>\n",
       "    <tr>\n",
       "      <th>(48.0, 50.0]</th>\n",
       "      <td>4900</td>\n",
       "      <td>4900</td>\n",
       "      <td>4900</td>\n",
       "      <td>4900</td>\n",
       "      <td>4900</td>\n",
       "      <td>4900</td>\n",
       "      <td>4900</td>\n",
       "      <td>4900</td>\n",
       "      <td>4900</td>\n",
       "      <td>4900</td>\n",
       "      <td>4900</td>\n",
       "    </tr>\n",
       "    <tr>\n",
       "      <th>(50.0, 52.0]</th>\n",
       "      <td>4728</td>\n",
       "      <td>4728</td>\n",
       "      <td>4728</td>\n",
       "      <td>4728</td>\n",
       "      <td>4728</td>\n",
       "      <td>4728</td>\n",
       "      <td>4728</td>\n",
       "      <td>4728</td>\n",
       "      <td>4728</td>\n",
       "      <td>4728</td>\n",
       "      <td>4728</td>\n",
       "    </tr>\n",
       "    <tr>\n",
       "      <th>(52.0, 54.0]</th>\n",
       "      <td>4681</td>\n",
       "      <td>4681</td>\n",
       "      <td>4681</td>\n",
       "      <td>4681</td>\n",
       "      <td>4681</td>\n",
       "      <td>4681</td>\n",
       "      <td>4681</td>\n",
       "      <td>4681</td>\n",
       "      <td>4681</td>\n",
       "      <td>4681</td>\n",
       "      <td>4681</td>\n",
       "    </tr>\n",
       "    <tr>\n",
       "      <th>(54.0, 56.0]</th>\n",
       "      <td>4677</td>\n",
       "      <td>4677</td>\n",
       "      <td>4677</td>\n",
       "      <td>4677</td>\n",
       "      <td>4677</td>\n",
       "      <td>4677</td>\n",
       "      <td>4677</td>\n",
       "      <td>4677</td>\n",
       "      <td>4677</td>\n",
       "      <td>4677</td>\n",
       "      <td>4677</td>\n",
       "    </tr>\n",
       "    <tr>\n",
       "      <th>(56.0, 58.0]</th>\n",
       "      <td>4483</td>\n",
       "      <td>4483</td>\n",
       "      <td>4483</td>\n",
       "      <td>4483</td>\n",
       "      <td>4483</td>\n",
       "      <td>4483</td>\n",
       "      <td>4483</td>\n",
       "      <td>4483</td>\n",
       "      <td>4483</td>\n",
       "      <td>4483</td>\n",
       "      <td>4483</td>\n",
       "    </tr>\n",
       "    <tr>\n",
       "      <th>(58.0, 61.0]</th>\n",
       "      <td>6583</td>\n",
       "      <td>6583</td>\n",
       "      <td>6583</td>\n",
       "      <td>6583</td>\n",
       "      <td>6583</td>\n",
       "      <td>6583</td>\n",
       "      <td>6583</td>\n",
       "      <td>6583</td>\n",
       "      <td>6583</td>\n",
       "      <td>6583</td>\n",
       "      <td>6583</td>\n",
       "    </tr>\n",
       "    <tr>\n",
       "      <th>(61.0, 64.0]</th>\n",
       "      <td>6968</td>\n",
       "      <td>6968</td>\n",
       "      <td>6968</td>\n",
       "      <td>6968</td>\n",
       "      <td>6968</td>\n",
       "      <td>6968</td>\n",
       "      <td>6968</td>\n",
       "      <td>6968</td>\n",
       "      <td>6968</td>\n",
       "      <td>6968</td>\n",
       "      <td>6968</td>\n",
       "    </tr>\n",
       "    <tr>\n",
       "      <th>(64.0, 68.0]</th>\n",
       "      <td>6623</td>\n",
       "      <td>6623</td>\n",
       "      <td>6623</td>\n",
       "      <td>6623</td>\n",
       "      <td>6623</td>\n",
       "      <td>6623</td>\n",
       "      <td>6623</td>\n",
       "      <td>6623</td>\n",
       "      <td>6623</td>\n",
       "      <td>6623</td>\n",
       "      <td>6623</td>\n",
       "    </tr>\n",
       "    <tr>\n",
       "      <th>(68.0, 74.0]</th>\n",
       "      <td>6753</td>\n",
       "      <td>6753</td>\n",
       "      <td>6753</td>\n",
       "      <td>6753</td>\n",
       "      <td>6753</td>\n",
       "      <td>6753</td>\n",
       "      <td>6753</td>\n",
       "      <td>6753</td>\n",
       "      <td>6753</td>\n",
       "      <td>6753</td>\n",
       "      <td>6753</td>\n",
       "    </tr>\n",
       "    <tr>\n",
       "      <th>(74.0, 107.0]</th>\n",
       "      <td>7737</td>\n",
       "      <td>7737</td>\n",
       "      <td>7737</td>\n",
       "      <td>7737</td>\n",
       "      <td>7737</td>\n",
       "      <td>7737</td>\n",
       "      <td>7737</td>\n",
       "      <td>7737</td>\n",
       "      <td>7737</td>\n",
       "      <td>7737</td>\n",
       "      <td>7737</td>\n",
       "    </tr>\n",
       "  </tbody>\n",
       "</table>\n",
       "</div>"
      ],
      "text/plain": [
       "                SeriousDlqin2yrs  RevolvingUtilizationOfUnsecuredLines   age  \\\n",
       "qcut                                                                           \n",
       "(20.999, 28.0]              4243                                  4243  4243   \n",
       "(28.0, 31.0]                3571                                  3571  3571   \n",
       "(31.0, 34.0]                4075                                  4075  4075   \n",
       "(34.0, 36.0]                2908                                  2908  2908   \n",
       "(36.0, 39.0]                5182                                  5182  5182   \n",
       "(39.0, 41.0]                3956                                  3956  3956   \n",
       "(41.0, 43.0]                4002                                  4002  4002   \n",
       "(43.0, 45.0]                4389                                  4389  4389   \n",
       "(45.0, 46.0]                2419                                  2419  2419   \n",
       "(46.0, 48.0]                4813                                  4813  4813   \n",
       "(48.0, 50.0]                4900                                  4900  4900   \n",
       "(50.0, 52.0]                4728                                  4728  4728   \n",
       "(52.0, 54.0]                4681                                  4681  4681   \n",
       "(54.0, 56.0]                4677                                  4677  4677   \n",
       "(56.0, 58.0]                4483                                  4483  4483   \n",
       "(58.0, 61.0]                6583                                  6583  6583   \n",
       "(61.0, 64.0]                6968                                  6968  6968   \n",
       "(64.0, 68.0]                6623                                  6623  6623   \n",
       "(68.0, 74.0]                6753                                  6753  6753   \n",
       "(74.0, 107.0]               7737                                  7737  7737   \n",
       "\n",
       "                NumberOfTime30-59DaysPastDueNotWorse  DebtRatio  \\\n",
       "qcut                                                              \n",
       "(20.999, 28.0]                                  4243       4243   \n",
       "(28.0, 31.0]                                    3571       3571   \n",
       "(31.0, 34.0]                                    4075       4075   \n",
       "(34.0, 36.0]                                    2908       2908   \n",
       "(36.0, 39.0]                                    5182       5182   \n",
       "(39.0, 41.0]                                    3956       3956   \n",
       "(41.0, 43.0]                                    4002       4002   \n",
       "(43.0, 45.0]                                    4389       4389   \n",
       "(45.0, 46.0]                                    2419       2419   \n",
       "(46.0, 48.0]                                    4813       4813   \n",
       "(48.0, 50.0]                                    4900       4900   \n",
       "(50.0, 52.0]                                    4728       4728   \n",
       "(52.0, 54.0]                                    4681       4681   \n",
       "(54.0, 56.0]                                    4677       4677   \n",
       "(56.0, 58.0]                                    4483       4483   \n",
       "(58.0, 61.0]                                    6583       6583   \n",
       "(61.0, 64.0]                                    6968       6968   \n",
       "(64.0, 68.0]                                    6623       6623   \n",
       "(68.0, 74.0]                                    6753       6753   \n",
       "(74.0, 107.0]                                   7737       7737   \n",
       "\n",
       "                MonthlyIncome  NumberOfOpenCreditLinesAndLoans  \\\n",
       "qcut                                                             \n",
       "(20.999, 28.0]           4243                             4243   \n",
       "(28.0, 31.0]             3571                             3571   \n",
       "(31.0, 34.0]             4075                             4075   \n",
       "(34.0, 36.0]             2908                             2908   \n",
       "(36.0, 39.0]             5182                             5182   \n",
       "(39.0, 41.0]             3956                             3956   \n",
       "(41.0, 43.0]             4002                             4002   \n",
       "(43.0, 45.0]             4389                             4389   \n",
       "(45.0, 46.0]             2419                             2419   \n",
       "(46.0, 48.0]             4813                             4813   \n",
       "(48.0, 50.0]             4900                             4900   \n",
       "(50.0, 52.0]             4728                             4728   \n",
       "(52.0, 54.0]             4681                             4681   \n",
       "(54.0, 56.0]             4677                             4677   \n",
       "(56.0, 58.0]             4483                             4483   \n",
       "(58.0, 61.0]             6583                             6583   \n",
       "(61.0, 64.0]             6968                             6968   \n",
       "(64.0, 68.0]             6623                             6623   \n",
       "(68.0, 74.0]             6753                             6753   \n",
       "(74.0, 107.0]            7737                             7737   \n",
       "\n",
       "                NumberOfTimes90DaysLate  NumberRealEstateLoansOrLines  \\\n",
       "qcut                                                                    \n",
       "(20.999, 28.0]                     4243                          4243   \n",
       "(28.0, 31.0]                       3571                          3571   \n",
       "(31.0, 34.0]                       4075                          4075   \n",
       "(34.0, 36.0]                       2908                          2908   \n",
       "(36.0, 39.0]                       5182                          5182   \n",
       "(39.0, 41.0]                       3956                          3956   \n",
       "(41.0, 43.0]                       4002                          4002   \n",
       "(43.0, 45.0]                       4389                          4389   \n",
       "(45.0, 46.0]                       2419                          2419   \n",
       "(46.0, 48.0]                       4813                          4813   \n",
       "(48.0, 50.0]                       4900                          4900   \n",
       "(50.0, 52.0]                       4728                          4728   \n",
       "(52.0, 54.0]                       4681                          4681   \n",
       "(54.0, 56.0]                       4677                          4677   \n",
       "(56.0, 58.0]                       4483                          4483   \n",
       "(58.0, 61.0]                       6583                          6583   \n",
       "(61.0, 64.0]                       6968                          6968   \n",
       "(64.0, 68.0]                       6623                          6623   \n",
       "(68.0, 74.0]                       6753                          6753   \n",
       "(74.0, 107.0]                      7737                          7737   \n",
       "\n",
       "                NumberOfTime60-89DaysPastDueNotWorse  NumberOfDependents  \n",
       "qcut                                                                      \n",
       "(20.999, 28.0]                                  4243                4243  \n",
       "(28.0, 31.0]                                    3571                3571  \n",
       "(31.0, 34.0]                                    4075                4075  \n",
       "(34.0, 36.0]                                    2908                2908  \n",
       "(36.0, 39.0]                                    5182                5182  \n",
       "(39.0, 41.0]                                    3956                3956  \n",
       "(41.0, 43.0]                                    4002                4002  \n",
       "(43.0, 45.0]                                    4389                4389  \n",
       "(45.0, 46.0]                                    2419                2419  \n",
       "(46.0, 48.0]                                    4813                4813  \n",
       "(48.0, 50.0]                                    4900                4900  \n",
       "(50.0, 52.0]                                    4728                4728  \n",
       "(52.0, 54.0]                                    4681                4681  \n",
       "(54.0, 56.0]                                    4677                4677  \n",
       "(56.0, 58.0]                                    4483                4483  \n",
       "(58.0, 61.0]                                    6583                6583  \n",
       "(61.0, 64.0]                                    6968                6968  \n",
       "(64.0, 68.0]                                    6623                6623  \n",
       "(68.0, 74.0]                                    6753                6753  \n",
       "(74.0, 107.0]                                   7737                7737  "
      ]
     },
     "execution_count": 100,
     "metadata": {},
     "output_type": "execute_result"
    }
   ],
   "source": [
    "model_data[model_data[\"SeriousDlqin2yrs\"] == 0].groupby(by=\"qcut\").count()"
   ]
  },
  {
   "cell_type": "code",
   "execution_count": 101,
   "id": "pointed-hawaii",
   "metadata": {},
   "outputs": [],
   "source": [
    "#统计每个分箱0 ，1的数量\n",
    "#在这里使用了数据透视表的功能groupby\n",
    "\n",
    "count_y0 = model_data[model_data[\"SeriousDlqin2yrs\"] == 0].groupby(by=\"qcut\").count()[\"SeriousDlqin2yrs\"]\n",
    "count_y1 = model_data[model_data[\"SeriousDlqin2yrs\"] == 1].groupby(by=\"qcut\").count()[\"SeriousDlqin2yrs\"]\n"
   ]
  },
  {
   "cell_type": "code",
   "execution_count": 102,
   "id": "handed-presence",
   "metadata": {},
   "outputs": [
    {
     "data": {
      "text/plain": [
       "qcut\n",
       "(20.999, 28.0]    4243\n",
       "(28.0, 31.0]      3571\n",
       "(31.0, 34.0]      4075\n",
       "(34.0, 36.0]      2908\n",
       "(36.0, 39.0]      5182\n",
       "(39.0, 41.0]      3956\n",
       "(41.0, 43.0]      4002\n",
       "(43.0, 45.0]      4389\n",
       "(45.0, 46.0]      2419\n",
       "(46.0, 48.0]      4813\n",
       "(48.0, 50.0]      4900\n",
       "(50.0, 52.0]      4728\n",
       "(52.0, 54.0]      4681\n",
       "(54.0, 56.0]      4677\n",
       "(56.0, 58.0]      4483\n",
       "(58.0, 61.0]      6583\n",
       "(61.0, 64.0]      6968\n",
       "(64.0, 68.0]      6623\n",
       "(68.0, 74.0]      6753\n",
       "(74.0, 107.0]     7737\n",
       "Name: SeriousDlqin2yrs, dtype: int64"
      ]
     },
     "execution_count": 102,
     "metadata": {},
     "output_type": "execute_result"
    }
   ],
   "source": [
    "count_y0"
   ]
  },
  {
   "cell_type": "code",
   "execution_count": 103,
   "id": "neural-poetry",
   "metadata": {},
   "outputs": [
    {
     "data": {
      "text/plain": [
       "[(1, 'a'), (2, 'b')]"
      ]
     },
     "execution_count": 103,
     "metadata": {},
     "output_type": "execute_result"
    }
   ],
   "source": [
    "[*zip([1,2,3],[\"a\",\"b\"])]"
   ]
  },
  {
   "cell_type": "code",
   "execution_count": 104,
   "id": "false-still",
   "metadata": {},
   "outputs": [
    {
     "data": {
      "text/plain": [
       "[(1,), (2,), (3,)]"
      ]
     },
     "execution_count": 104,
     "metadata": {},
     "output_type": "execute_result"
    }
   ],
   "source": [
    "[*zip([1,2,3])]"
   ]
  },
  {
   "cell_type": "code",
   "execution_count": 105,
   "id": "beginning-egypt",
   "metadata": {},
   "outputs": [
    {
     "data": {
      "text/plain": [
       "array([ 21.,  28.,  31.,  34.,  36.,  39.,  41.,  43.,  45.,  46.,  48.,\n",
       "        50.,  52.,  54.,  56.,  58.,  61.,  64.,  68.,  74., 107.])"
      ]
     },
     "execution_count": 105,
     "metadata": {},
     "output_type": "execute_result"
    }
   ],
   "source": [
    "updown"
   ]
  },
  {
   "cell_type": "code",
   "execution_count": 106,
   "id": "limited-mississippi",
   "metadata": {},
   "outputs": [
    {
     "data": {
      "text/plain": [
       "[(21.0, 28.0),\n",
       " (28.0, 31.0),\n",
       " (31.0, 34.0),\n",
       " (34.0, 36.0),\n",
       " (36.0, 39.0),\n",
       " (39.0, 41.0),\n",
       " (41.0, 43.0),\n",
       " (43.0, 45.0),\n",
       " (45.0, 46.0),\n",
       " (46.0, 48.0),\n",
       " (48.0, 50.0),\n",
       " (50.0, 52.0),\n",
       " (52.0, 54.0),\n",
       " (54.0, 56.0),\n",
       " (56.0, 58.0),\n",
       " (58.0, 61.0),\n",
       " (61.0, 64.0),\n",
       " (64.0, 68.0),\n",
       " (68.0, 74.0),\n",
       " (74.0, 107.0)]"
      ]
     },
     "execution_count": 106,
     "metadata": {},
     "output_type": "execute_result"
    }
   ],
   "source": [
    "[*zip(updown,updown[1:])]"
   ]
  },
  {
   "cell_type": "code",
   "execution_count": 107,
   "id": "thousand-zealand",
   "metadata": {},
   "outputs": [],
   "source": [
    "#num_bins值分别为每个区间的上界、下界，0出现的次数，1出现的次数\n",
    "num_bins = [*zip(updown,updown[1:],count_y0,count_y1)]"
   ]
  },
  {
   "cell_type": "code",
   "execution_count": 108,
   "id": "medieval-secondary",
   "metadata": {},
   "outputs": [
    {
     "data": {
      "text/plain": [
       "[(21.0, 28.0, 4243, 7531),\n",
       " (28.0, 31.0, 3571, 5946),\n",
       " (31.0, 34.0, 4075, 6731),\n",
       " (34.0, 36.0, 2908, 4632),\n",
       " (36.0, 39.0, 5182, 7458),\n",
       " (39.0, 41.0, 3956, 5834),\n",
       " (41.0, 43.0, 4002, 5717),\n",
       " (43.0, 45.0, 4389, 6000),\n",
       " (45.0, 46.0, 2419, 3242),\n",
       " (46.0, 48.0, 4813, 6166),\n",
       " (48.0, 50.0, 4900, 6191),\n",
       " (50.0, 52.0, 4728, 5806),\n",
       " (52.0, 54.0, 4681, 5033),\n",
       " (54.0, 56.0, 4677, 4017),\n",
       " (56.0, 58.0, 4483, 3381),\n",
       " (58.0, 61.0, 6583, 4825),\n",
       " (61.0, 64.0, 6968, 3217),\n",
       " (64.0, 68.0, 6623, 2299),\n",
       " (68.0, 74.0, 6753, 1913),\n",
       " (74.0, 107.0, 7737, 1378)]"
      ]
     },
     "execution_count": 108,
     "metadata": {},
     "output_type": "execute_result"
    }
   ],
   "source": [
    "num_bins"
   ]
  },
  {
   "cell_type": "markdown",
   "id": "speaking-organ",
   "metadata": {},
   "source": [
    "### 3.3.2确保每个箱中都有0和1，否则无法计算IV值"
   ]
  },
  {
   "cell_type": "markdown",
   "id": "relative-suffering",
   "metadata": {},
   "source": [
    "![image.png](./images/91.png)"
   ]
  },
  {
   "cell_type": "markdown",
   "id": "bibliographic-manchester",
   "metadata": {},
   "source": [
    "![image.png](./images/92.png)"
   ]
  },
  {
   "cell_type": "markdown",
   "id": "sweet-springer",
   "metadata": {},
   "source": [
    "![image.png](./images/93.png)"
   ]
  },
  {
   "cell_type": "markdown",
   "id": "split-proportion",
   "metadata": {},
   "source": [
    "### 3.3.3 定义WOE和IV函数"
   ]
  },
  {
   "cell_type": "markdown",
   "id": "bulgarian-confirmation",
   "metadata": {},
   "source": [
    "![image.png](./images/94.png)"
   ]
  },
  {
   "cell_type": "markdown",
   "id": "trying-appointment",
   "metadata": {},
   "source": [
    "![image.png](./images/95.png)"
   ]
  },
  {
   "cell_type": "code",
   "execution_count": 109,
   "id": "south-summer",
   "metadata": {},
   "outputs": [
    {
     "data": {
      "text/html": [
       "<div>\n",
       "<style scoped>\n",
       "    .dataframe tbody tr th:only-of-type {\n",
       "        vertical-align: middle;\n",
       "    }\n",
       "\n",
       "    .dataframe tbody tr th {\n",
       "        vertical-align: top;\n",
       "    }\n",
       "\n",
       "    .dataframe thead th {\n",
       "        text-align: right;\n",
       "    }\n",
       "</style>\n",
       "<table border=\"1\" class=\"dataframe\">\n",
       "  <thead>\n",
       "    <tr style=\"text-align: right;\">\n",
       "      <th></th>\n",
       "      <th>min</th>\n",
       "      <th>max</th>\n",
       "      <th>count_0</th>\n",
       "      <th>count_1</th>\n",
       "    </tr>\n",
       "  </thead>\n",
       "  <tbody>\n",
       "    <tr>\n",
       "      <th>0</th>\n",
       "      <td>21.0</td>\n",
       "      <td>28.0</td>\n",
       "      <td>4243</td>\n",
       "      <td>7531</td>\n",
       "    </tr>\n",
       "    <tr>\n",
       "      <th>1</th>\n",
       "      <td>28.0</td>\n",
       "      <td>31.0</td>\n",
       "      <td>3571</td>\n",
       "      <td>5946</td>\n",
       "    </tr>\n",
       "    <tr>\n",
       "      <th>2</th>\n",
       "      <td>31.0</td>\n",
       "      <td>34.0</td>\n",
       "      <td>4075</td>\n",
       "      <td>6731</td>\n",
       "    </tr>\n",
       "    <tr>\n",
       "      <th>3</th>\n",
       "      <td>34.0</td>\n",
       "      <td>36.0</td>\n",
       "      <td>2908</td>\n",
       "      <td>4632</td>\n",
       "    </tr>\n",
       "    <tr>\n",
       "      <th>4</th>\n",
       "      <td>36.0</td>\n",
       "      <td>39.0</td>\n",
       "      <td>5182</td>\n",
       "      <td>7458</td>\n",
       "    </tr>\n",
       "  </tbody>\n",
       "</table>\n",
       "</div>"
      ],
      "text/plain": [
       "    min   max  count_0  count_1\n",
       "0  21.0  28.0     4243     7531\n",
       "1  28.0  31.0     3571     5946\n",
       "2  31.0  34.0     4075     6731\n",
       "3  34.0  36.0     2908     4632\n",
       "4  36.0  39.0     5182     7458"
      ]
     },
     "execution_count": 109,
     "metadata": {},
     "output_type": "execute_result"
    }
   ],
   "source": [
    "columns = [\"min\",\"max\",\"count_0\",\"count_1\"]\n",
    "df = pd.DataFrame(num_bins,columns=columns)\n",
    "df.head()"
   ]
  },
  {
   "cell_type": "code",
   "execution_count": 110,
   "id": "owned-latest",
   "metadata": {},
   "outputs": [],
   "source": [
    "df[\"total\"]=df.count_0+df.count_1 #一个箱子当中所有的样本数\n",
    "\n",
    "df[\"percentage\"] = df.total/df.total.sum() #一个箱子里的样本数，占所有样本数的比例\n",
    "\n",
    "df[\"bad_rate\"] = df.count_1/df.total  #见上图解释\n",
    "\n",
    "df[\"good%\"] = df.count_0/df.count_0.sum()\n",
    "\n",
    "df[\"bad%\"] = df.count_1/df.count_1.sum()\n",
    "\n",
    "df[\"woe\"] = np.log(df[\"good%\"] / df[\"bad%\"])"
   ]
  },
  {
   "cell_type": "code",
   "execution_count": 111,
   "id": "lovely-journey",
   "metadata": {},
   "outputs": [
    {
     "data": {
      "text/html": [
       "<div>\n",
       "<style scoped>\n",
       "    .dataframe tbody tr th:only-of-type {\n",
       "        vertical-align: middle;\n",
       "    }\n",
       "\n",
       "    .dataframe tbody tr th {\n",
       "        vertical-align: top;\n",
       "    }\n",
       "\n",
       "    .dataframe thead th {\n",
       "        text-align: right;\n",
       "    }\n",
       "</style>\n",
       "<table border=\"1\" class=\"dataframe\">\n",
       "  <thead>\n",
       "    <tr style=\"text-align: right;\">\n",
       "      <th></th>\n",
       "      <th>min</th>\n",
       "      <th>max</th>\n",
       "      <th>count_0</th>\n",
       "      <th>count_1</th>\n",
       "      <th>total</th>\n",
       "      <th>percentage</th>\n",
       "      <th>bad_rate</th>\n",
       "      <th>good%</th>\n",
       "      <th>bad%</th>\n",
       "      <th>woe</th>\n",
       "    </tr>\n",
       "  </thead>\n",
       "  <tbody>\n",
       "    <tr>\n",
       "      <th>0</th>\n",
       "      <td>21.0</td>\n",
       "      <td>28.0</td>\n",
       "      <td>4243</td>\n",
       "      <td>7531</td>\n",
       "      <td>11774</td>\n",
       "      <td>0.060377</td>\n",
       "      <td>0.639630</td>\n",
       "      <td>0.043433</td>\n",
       "      <td>0.077386</td>\n",
       "      <td>-0.577593</td>\n",
       "    </tr>\n",
       "    <tr>\n",
       "      <th>1</th>\n",
       "      <td>28.0</td>\n",
       "      <td>31.0</td>\n",
       "      <td>3571</td>\n",
       "      <td>5946</td>\n",
       "      <td>9517</td>\n",
       "      <td>0.048803</td>\n",
       "      <td>0.624777</td>\n",
       "      <td>0.036554</td>\n",
       "      <td>0.061099</td>\n",
       "      <td>-0.513709</td>\n",
       "    </tr>\n",
       "    <tr>\n",
       "      <th>2</th>\n",
       "      <td>31.0</td>\n",
       "      <td>34.0</td>\n",
       "      <td>4075</td>\n",
       "      <td>6731</td>\n",
       "      <td>10806</td>\n",
       "      <td>0.055413</td>\n",
       "      <td>0.622895</td>\n",
       "      <td>0.041713</td>\n",
       "      <td>0.069166</td>\n",
       "      <td>-0.505689</td>\n",
       "    </tr>\n",
       "    <tr>\n",
       "      <th>3</th>\n",
       "      <td>34.0</td>\n",
       "      <td>36.0</td>\n",
       "      <td>2908</td>\n",
       "      <td>4632</td>\n",
       "      <td>7540</td>\n",
       "      <td>0.038665</td>\n",
       "      <td>0.614324</td>\n",
       "      <td>0.029767</td>\n",
       "      <td>0.047597</td>\n",
       "      <td>-0.469359</td>\n",
       "    </tr>\n",
       "    <tr>\n",
       "      <th>4</th>\n",
       "      <td>36.0</td>\n",
       "      <td>39.0</td>\n",
       "      <td>5182</td>\n",
       "      <td>7458</td>\n",
       "      <td>12640</td>\n",
       "      <td>0.064818</td>\n",
       "      <td>0.590032</td>\n",
       "      <td>0.053045</td>\n",
       "      <td>0.076636</td>\n",
       "      <td>-0.367932</td>\n",
       "    </tr>\n",
       "  </tbody>\n",
       "</table>\n",
       "</div>"
      ],
      "text/plain": [
       "    min   max  count_0  count_1  total  percentage  bad_rate     good%  \\\n",
       "0  21.0  28.0     4243     7531  11774    0.060377  0.639630  0.043433   \n",
       "1  28.0  31.0     3571     5946   9517    0.048803  0.624777  0.036554   \n",
       "2  31.0  34.0     4075     6731  10806    0.055413  0.622895  0.041713   \n",
       "3  34.0  36.0     2908     4632   7540    0.038665  0.614324  0.029767   \n",
       "4  36.0  39.0     5182     7458  12640    0.064818  0.590032  0.053045   \n",
       "\n",
       "       bad%       woe  \n",
       "0  0.077386 -0.577593  \n",
       "1  0.061099 -0.513709  \n",
       "2  0.069166 -0.505689  \n",
       "3  0.047597 -0.469359  \n",
       "4  0.076636 -0.367932  "
      ]
     },
     "execution_count": 111,
     "metadata": {},
     "output_type": "execute_result"
    }
   ],
   "source": [
    "df.head()"
   ]
  },
  {
   "cell_type": "code",
   "execution_count": 112,
   "id": "desperate-journalist",
   "metadata": {},
   "outputs": [
    {
     "data": {
      "text/plain": [
       "0.35413045623897554"
      ]
     },
     "execution_count": 112,
     "metadata": {},
     "output_type": "execute_result"
    }
   ],
   "source": [
    "rate = df[\"good%\"] - df[\"bad%\"]\n",
    "iv_age = np.sum(rate * df.woe)\n",
    "iv_age #age的IV值"
   ]
  },
  {
   "cell_type": "code",
   "execution_count": 113,
   "id": "spatial-midwest",
   "metadata": {},
   "outputs": [],
   "source": [
    "def get_woe(num_bins):\n",
    "    #通过 num_bins 数据计算woe\n",
    "    columns = [\"min\",\"max\",\"count_0\",\"count_1\"]\n",
    "    df = pd.DataFrame(num_bins,columns=columns)\n",
    "    \n",
    "    df[\"total\"]=df.count_0+df.count_1 #一个箱子当中所有的样本数\n",
    "    df[\"percentage\"] = df.total/df.total.sum() #一个箱子里的样本数，占所有样本数的比例\n",
    "    df[\"bad_rate\"] = df.count_1/df.total\n",
    "    df[\"good%\"] = df.count_0/df.count_0.sum()\n",
    "    df[\"bad%\"] = df.count_1/df.count_1.sum()\n",
    "    df[\"woe\"] = np.log(df[\"good%\"] / df[\"bad%\"])\n",
    "    return df"
   ]
  },
  {
   "cell_type": "code",
   "execution_count": 114,
   "id": "banner-appointment",
   "metadata": {},
   "outputs": [],
   "source": [
    "#计算IV值\n",
    "def get_iv(df):\n",
    "    rate = df[\"good%\"] - df[\"bad%\"]\n",
    "    iv = np.sum(rate * df.woe)\n",
    "    return iv"
   ]
  },
  {
   "cell_type": "markdown",
   "id": "serious-bandwidth",
   "metadata": {},
   "source": [
    "### 3.3.4卡方检验，合并箱体，画出IV曲线"
   ]
  },
  {
   "cell_type": "code",
   "execution_count": 123,
   "id": "relevant-husband",
   "metadata": {},
   "outputs": [
    {
     "data": {
      "text/plain": [
       "[(21.0, 28.0, 4243, 7531),\n",
       " (28.0, 31.0, 3571, 5946),\n",
       " (31.0, 34.0, 4075, 6731),\n",
       " (34.0, 36.0, 2908, 4632),\n",
       " (36.0, 39.0, 5182, 7458),\n",
       " (39.0, 41.0, 3956, 5834),\n",
       " (41.0, 43.0, 4002, 5717),\n",
       " (43.0, 45.0, 4389, 6000),\n",
       " (45.0, 46.0, 2419, 3242),\n",
       " (46.0, 48.0, 4813, 6166),\n",
       " (48.0, 50.0, 4900, 6191),\n",
       " (50.0, 52.0, 4728, 5806),\n",
       " (52.0, 54.0, 4681, 5033),\n",
       " (54.0, 56.0, 4677, 4017),\n",
       " (56.0, 58.0, 4483, 3381),\n",
       " (58.0, 61.0, 6583, 4825),\n",
       " (61.0, 64.0, 6968, 3217),\n",
       " (64.0, 68.0, 6623, 2299),\n",
       " (68.0, 74.0, 6753, 1913),\n",
       " (74.0, 107.0, 7737, 1378)]"
      ]
     },
     "execution_count": 123,
     "metadata": {},
     "output_type": "execute_result"
    }
   ],
   "source": [
    "import matplotlib.pyplot as plt\n",
    "import scipy\n",
    "\n",
    "num_bins_ = num_bins.copy()\n",
    "num_bins_ "
   ]
  },
  {
   "cell_type": "code",
   "execution_count": 117,
   "id": "governing-chambers",
   "metadata": {},
   "outputs": [
    {
     "data": {
      "text/plain": [
       "(4243, 7531)"
      ]
     },
     "execution_count": 117,
     "metadata": {},
     "output_type": "execute_result"
    }
   ],
   "source": [
    "x1 = num_bins_[0][2:]  #提取出0和1的数量，因为df后面列与count_0和count_1成线性关系，所以只看0和1的数量这两列即可\n",
    "x1"
   ]
  },
  {
   "cell_type": "code",
   "execution_count": 118,
   "id": "convertible-grove",
   "metadata": {},
   "outputs": [
    {
     "data": {
      "text/plain": [
       "(3571, 5946)"
      ]
     },
     "execution_count": 118,
     "metadata": {},
     "output_type": "execute_result"
    }
   ],
   "source": [
    "x2 = num_bins_[1][2:]\n",
    "x2"
   ]
  },
  {
   "cell_type": "code",
   "execution_count": 120,
   "id": "considerable-greece",
   "metadata": {},
   "outputs": [
    {
     "data": {
      "text/plain": [
       "(4.93408877049235,\n",
       " 0.02633194270749874,\n",
       " 1,\n",
       " array([[4321.17025973, 7452.82974027],\n",
       "        [3492.82974027, 6024.17025973]]))"
      ]
     },
     "execution_count": 120,
     "metadata": {},
     "output_type": "execute_result"
    }
   ],
   "source": [
    "scipy.stats.chi2_contingency([x1,x2]) #【0】是卡方值，【1】是p_value"
   ]
  },
  {
   "cell_type": "code",
   "execution_count": 124,
   "id": "egyptian-dimension",
   "metadata": {},
   "outputs": [],
   "source": [
    "num_bins_[1:2] = [(\n",
    "        num_bins_[1][0],\n",
    "        num_bins_[2][1],\n",
    "        num_bins_[1][2]+num_bins_[2][2],\n",
    "        num_bins_[1][3]+num_bins_[2][3]\n",
    "    )]"
   ]
  },
  {
   "cell_type": "code",
   "execution_count": 125,
   "id": "everyday-fiction",
   "metadata": {},
   "outputs": [
    {
     "data": {
      "text/plain": [
       "[(21.0, 28.0, 4243, 7531),\n",
       " (28.0, 34.0, 7646, 12677),\n",
       " (31.0, 34.0, 4075, 6731),\n",
       " (34.0, 36.0, 2908, 4632),\n",
       " (36.0, 39.0, 5182, 7458),\n",
       " (39.0, 41.0, 3956, 5834),\n",
       " (41.0, 43.0, 4002, 5717),\n",
       " (43.0, 45.0, 4389, 6000),\n",
       " (45.0, 46.0, 2419, 3242),\n",
       " (46.0, 48.0, 4813, 6166),\n",
       " (48.0, 50.0, 4900, 6191),\n",
       " (50.0, 52.0, 4728, 5806),\n",
       " (52.0, 54.0, 4681, 5033),\n",
       " (54.0, 56.0, 4677, 4017),\n",
       " (56.0, 58.0, 4483, 3381),\n",
       " (58.0, 61.0, 6583, 4825),\n",
       " (61.0, 64.0, 6968, 3217),\n",
       " (64.0, 68.0, 6623, 2299),\n",
       " (68.0, 74.0, 6753, 1913),\n",
       " (74.0, 107.0, 7737, 1378)]"
      ]
     },
     "execution_count": 125,
     "metadata": {},
     "output_type": "execute_result"
    }
   ],
   "source": [
    "num_bins_ #1、2行合并后"
   ]
  },
  {
   "cell_type": "code",
   "execution_count": 121,
   "id": "married-report",
   "metadata": {},
   "outputs": [
    {
     "data": {
      "image/png": "[encoded data removed]",
      "text/plain": [
       "<Figure size 432x288 with 1 Axes>"
      ]
     },
     "metadata": {
      "needs_background": "light"
     },
     "output_type": "display_data"
    }
   ],
   "source": [
    "plt.rcParams['font.sans-serif']=['SimHei'] # 正常显示中文\n",
    "plt.rcParams['axes.unicode_minus']=False # 正常显示负号\n",
    "\n",
    "num_bins_ = num_bins.copy()\n",
    "\n",
    "import matplotlib.pyplot as plt\n",
    "import scipy\n",
    "\n",
    "IV = []\n",
    "axisx = []\n",
    "\n",
    "while len(num_bins_) > 2:\n",
    "    pvs = []\n",
    "    #获取num_bins_两两之间的卡方检验的置信度（或卡方值）\n",
    "    for i in range(len(num_bins_)-1):\n",
    "        x1 = num_bins_[i][2:]\n",
    "        x2 = num_bins_[i+1][2:]\n",
    "        #0返回chi2值，1返回p值\n",
    "        pv = scipy.stats.chi2_contingency([x1,x2])[1]\n",
    "        #chi2 = scipy.stats.chi2_contingency([x1,x2])[0]\n",
    "        pvs.append(pv)\n",
    "        \n",
    "    #通过p值进行处理，合并p值最大的两组\n",
    "    i = pvs.index(max(pvs))\n",
    "    num_bins_[i:i+2] = [(\n",
    "        num_bins_[i][0],\n",
    "        num_bins_[i+1][1],\n",
    "        num_bins_[i][2]+num_bins_[i+1][2],\n",
    "        num_bins_[i][3]+num_bins_[i+1][3]\n",
    "    )]\n",
    "    \n",
    "    bins_df = get_woe(num_bins_)\n",
    "    axisx.append(len(num_bins_))\n",
    "    IV.append(get_iv(bins_df))\n",
    "\n",
    "plt.figure()\n",
    "plt.plot(axisx,IV)\n",
    "plt.xticks(axisx)\n",
    "plt.xlabel(\"特征中的箱子个数\")\n",
    "plt.ylabel(\"箱子个数对应的IV值\")\n",
    "plt.show()"
   ]
  },
  {
   "cell_type": "markdown",
   "id": "structural-latter",
   "metadata": {},
   "source": [
    "### 3.3.5用最佳分箱个数，并验证分箱结果\n",
    "<br>\n",
    "将合并箱体部分定义为函数，并实现分箱："
   ]
  },
  {
   "cell_type": "code",
   "execution_count": 126,
   "id": "historic-burning",
   "metadata": {},
   "outputs": [],
   "source": [
    "def get_bin(num_bins_,n):\n",
    "    num_bins_ = num_bins_.copy()\n",
    "    while len(num_bins_) > n:\n",
    "        pvs = []\n",
    "        #获取num_bins_两两之间的卡方检验的置信度（或卡方值）\n",
    "        for i in range(len(num_bins_)-1):\n",
    "            x1 = num_bins_[i][2:]\n",
    "            x2 = num_bins_[i+1][2:]\n",
    "            #0返回chi2值，1返回p值\n",
    "            pv = scipy.stats.chi2_contingency([x1,x2])[1]\n",
    "            #chi2 = scipy.stats.chi2_contingency([x1,x2])[0]\n",
    "            pvs.append(pv)\n",
    "\n",
    "        #通过p值进行处理，合并p值最大的两组\n",
    "        i = pvs.index(max(pvs))\n",
    "        num_bins_[i:i+2] = [(\n",
    "            num_bins_[i][0],\n",
    "            num_bins_[i+1][1],\n",
    "            num_bins_[i][2]+num_bins_[i+1][2],\n",
    "            num_bins_[i][3]+num_bins_[i+1][3])]\n",
    "    return num_bins_"
   ]
  },
  {
   "cell_type": "code",
   "execution_count": 127,
   "id": "infectious-mayor",
   "metadata": {},
   "outputs": [
    {
     "data": {
      "text/plain": [
       "[(21.0, 28.0, 4243, 7531),\n",
       " (28.0, 31.0, 3571, 5946),\n",
       " (31.0, 34.0, 4075, 6731),\n",
       " (34.0, 36.0, 2908, 4632),\n",
       " (36.0, 39.0, 5182, 7458),\n",
       " (39.0, 41.0, 3956, 5834),\n",
       " (41.0, 43.0, 4002, 5717),\n",
       " (43.0, 45.0, 4389, 6000),\n",
       " (45.0, 46.0, 2419, 3242),\n",
       " (46.0, 48.0, 4813, 6166),\n",
       " (48.0, 50.0, 4900, 6191),\n",
       " (50.0, 52.0, 4728, 5806),\n",
       " (52.0, 54.0, 4681, 5033),\n",
       " (54.0, 56.0, 4677, 4017),\n",
       " (56.0, 58.0, 4483, 3381),\n",
       " (58.0, 61.0, 6583, 4825),\n",
       " (61.0, 64.0, 6968, 3217),\n",
       " (64.0, 68.0, 6623, 2299),\n",
       " (68.0, 74.0, 6753, 1913),\n",
       " (74.0, 107.0, 7737, 1378)]"
      ]
     },
     "execution_count": 127,
     "metadata": {},
     "output_type": "execute_result"
    }
   ],
   "source": [
    "num_bins"
   ]
  },
  {
   "cell_type": "code",
   "execution_count": 128,
   "id": "utility-wildlife",
   "metadata": {},
   "outputs": [],
   "source": [
    "num_bins_ = num_bins.copy()\n",
    "afterbins = get_bin(num_bins_,6)"
   ]
  },
  {
   "cell_type": "code",
   "execution_count": 129,
   "id": "induced-aging",
   "metadata": {},
   "outputs": [
    {
     "data": {
      "text/plain": [
       "[(21.0, 36.0, 14797, 24840),\n",
       " (36.0, 54.0, 39070, 51447),\n",
       " (54.0, 61.0, 15743, 12223),\n",
       " (61.0, 64.0, 6968, 3217),\n",
       " (64.0, 74.0, 13376, 4212),\n",
       " (74.0, 107.0, 7737, 1378)]"
      ]
     },
     "execution_count": 129,
     "metadata": {},
     "output_type": "execute_result"
    }
   ],
   "source": [
    "afterbins"
   ]
  },
  {
   "cell_type": "code",
   "execution_count": 130,
   "id": "dense-oakland",
   "metadata": {},
   "outputs": [
    {
     "data": {
      "text/html": [
       "<div>\n",
       "<style scoped>\n",
       "    .dataframe tbody tr th:only-of-type {\n",
       "        vertical-align: middle;\n",
       "    }\n",
       "\n",
       "    .dataframe tbody tr th {\n",
       "        vertical-align: top;\n",
       "    }\n",
       "\n",
       "    .dataframe thead th {\n",
       "        text-align: right;\n",
       "    }\n",
       "</style>\n",
       "<table border=\"1\" class=\"dataframe\">\n",
       "  <thead>\n",
       "    <tr style=\"text-align: right;\">\n",
       "      <th></th>\n",
       "      <th>min</th>\n",
       "      <th>max</th>\n",
       "      <th>count_0</th>\n",
       "      <th>count_1</th>\n",
       "      <th>total</th>\n",
       "      <th>percentage</th>\n",
       "      <th>bad_rate</th>\n",
       "      <th>good%</th>\n",
       "      <th>bad%</th>\n",
       "      <th>woe</th>\n",
       "    </tr>\n",
       "  </thead>\n",
       "  <tbody>\n",
       "    <tr>\n",
       "      <th>0</th>\n",
       "      <td>21.0</td>\n",
       "      <td>36.0</td>\n",
       "      <td>14797</td>\n",
       "      <td>24840</td>\n",
       "      <td>39637</td>\n",
       "      <td>0.203258</td>\n",
       "      <td>0.626687</td>\n",
       "      <td>0.151467</td>\n",
       "      <td>0.255248</td>\n",
       "      <td>-0.521867</td>\n",
       "    </tr>\n",
       "    <tr>\n",
       "      <th>1</th>\n",
       "      <td>36.0</td>\n",
       "      <td>54.0</td>\n",
       "      <td>39070</td>\n",
       "      <td>51447</td>\n",
       "      <td>90517</td>\n",
       "      <td>0.464171</td>\n",
       "      <td>0.568368</td>\n",
       "      <td>0.399934</td>\n",
       "      <td>0.528654</td>\n",
       "      <td>-0.279033</td>\n",
       "    </tr>\n",
       "    <tr>\n",
       "      <th>2</th>\n",
       "      <td>54.0</td>\n",
       "      <td>61.0</td>\n",
       "      <td>15743</td>\n",
       "      <td>12223</td>\n",
       "      <td>27966</td>\n",
       "      <td>0.143410</td>\n",
       "      <td>0.437066</td>\n",
       "      <td>0.161151</td>\n",
       "      <td>0.125600</td>\n",
       "      <td>0.249241</td>\n",
       "    </tr>\n",
       "    <tr>\n",
       "      <th>3</th>\n",
       "      <td>61.0</td>\n",
       "      <td>64.0</td>\n",
       "      <td>6968</td>\n",
       "      <td>3217</td>\n",
       "      <td>10185</td>\n",
       "      <td>0.052229</td>\n",
       "      <td>0.315857</td>\n",
       "      <td>0.071327</td>\n",
       "      <td>0.033057</td>\n",
       "      <td>0.769043</td>\n",
       "    </tr>\n",
       "    <tr>\n",
       "      <th>4</th>\n",
       "      <td>64.0</td>\n",
       "      <td>74.0</td>\n",
       "      <td>13376</td>\n",
       "      <td>4212</td>\n",
       "      <td>17588</td>\n",
       "      <td>0.090191</td>\n",
       "      <td>0.239481</td>\n",
       "      <td>0.136922</td>\n",
       "      <td>0.043281</td>\n",
       "      <td>1.151689</td>\n",
       "    </tr>\n",
       "    <tr>\n",
       "      <th>5</th>\n",
       "      <td>74.0</td>\n",
       "      <td>107.0</td>\n",
       "      <td>7737</td>\n",
       "      <td>1378</td>\n",
       "      <td>9115</td>\n",
       "      <td>0.046742</td>\n",
       "      <td>0.151179</td>\n",
       "      <td>0.079199</td>\n",
       "      <td>0.014160</td>\n",
       "      <td>1.721545</td>\n",
       "    </tr>\n",
       "  </tbody>\n",
       "</table>\n",
       "</div>"
      ],
      "text/plain": [
       "    min    max  count_0  count_1  total  percentage  bad_rate     good%  \\\n",
       "0  21.0   36.0    14797    24840  39637    0.203258  0.626687  0.151467   \n",
       "1  36.0   54.0    39070    51447  90517    0.464171  0.568368  0.399934   \n",
       "2  54.0   61.0    15743    12223  27966    0.143410  0.437066  0.161151   \n",
       "3  61.0   64.0     6968     3217  10185    0.052229  0.315857  0.071327   \n",
       "4  64.0   74.0    13376     4212  17588    0.090191  0.239481  0.136922   \n",
       "5  74.0  107.0     7737     1378   9115    0.046742  0.151179  0.079199   \n",
       "\n",
       "       bad%       woe  \n",
       "0  0.255248 -0.521867  \n",
       "1  0.528654 -0.279033  \n",
       "2  0.125600  0.249241  \n",
       "3  0.033057  0.769043  \n",
       "4  0.043281  1.151689  \n",
       "5  0.014160  1.721545  "
      ]
     },
     "execution_count": 130,
     "metadata": {},
     "output_type": "execute_result"
    }
   ],
   "source": [
    "bind_df = get_woe(afterbins)\n",
    "bind_df #woe单调或者一个转折点"
   ]
  },
  {
   "cell_type": "markdown",
   "id": "unusual-hanging",
   "metadata": {},
   "source": [
    "### 3.3.6将选取最佳分箱个数的过程包装为函数"
   ]
  },
  {
   "cell_type": "markdown",
   "id": "inner-planner",
   "metadata": {},
   "source": [
    "![image.png](./images/96.png)"
   ]
  },
  {
   "cell_type": "code",
   "execution_count": 140,
   "id": "formed-trademark",
   "metadata": {},
   "outputs": [],
   "source": [
    "def graphforbestbin(DF,X,Y,n=5,q=20,graph=True):\n",
    "    \n",
    "    DF = DF[[X,Y]].copy()\n",
    "    \n",
    "    DF[\"qcut\"],bins = pd.qcut(DF[X],retbins=True,q=q,duplicates=\"drop\")\n",
    "    count_y0 = DF[DF[Y] == 0].groupby(by=\"qcut\").count()[Y]\n",
    "    count_y1 = DF[DF[Y] == 1].groupby(by=\"qcut\").count()[Y]\n",
    "    num_bins = [*zip(bins,bins[1:],count_y0,count_y1)]\n",
    "    \n",
    "    for i in range(q):\n",
    "        if 0 in num_bins[0][2:]:\n",
    "            num_bins[0:2] = [(\n",
    "                num_bins[0][0],\n",
    "                num_bins[1][1],\n",
    "                num_bins[0][2]+num_bins[1][2],\n",
    "                num_bins[0][3]+num_bins[1][3])]\n",
    "            continue \n",
    "        \n",
    "        for i in range(len(num_bins)):\n",
    "            if 0 in num_bins[i][2:]:\n",
    "                num_bins[i-1:i+1] = [(\n",
    "                    num_bins[i-1][0],\n",
    "                    num_bins[i][1],\n",
    "                    num_bins[i-1][2]+num_bins[i][2],\n",
    "                    num_bins[i-1][3]+num_bins[i][3]\n",
    "                )]\n",
    "                break\n",
    "        else:\n",
    "            break\n",
    "            \n",
    "    def get_woe(num_bins):\n",
    "        #通过 num_bins 数据计算woe\n",
    "        columns = [\"min\",\"max\",\"count_0\",\"count_1\"]\n",
    "        df = pd.DataFrame(num_bins,columns=columns)\n",
    "\n",
    "        df[\"total\"]=df.count_0+df.count_1 #一个箱子当中所有的样本数\n",
    "        df[\"percentage\"] = df.total/df.total.sum() #一个箱子里的样本数，占所有样本数的比例\n",
    "        df[\"bad_rate\"] = df.count_1/df.total\n",
    "        df[\"good%\"] = df.count_0/df.count_0.sum()\n",
    "        df[\"bad%\"] = df.count_1/df.count_1.sum()\n",
    "        df[\"woe\"] = np.log(df[\"good%\"] / df[\"bad%\"])\n",
    "        return df  \n",
    "    \n",
    "    #计算IV值\n",
    "    def get_iv(df):\n",
    "        rate = df[\"good%\"] - df[\"bad%\"]\n",
    "        iv = np.sum(rate * df.woe)\n",
    "        return iv\n",
    "    \n",
    "    \n",
    "    IV = []\n",
    "    axisx = []\n",
    "\n",
    "    while len(num_bins) > n:\n",
    "        pvs = []\n",
    "        #获取num_bins_两两之间的卡方检验的置信度（或卡方值）\n",
    "        for i in range(len(num_bins)-1):\n",
    "            x1 = num_bins[i][2:]\n",
    "            x2 = num_bins[i+1][2:]\n",
    "            #0返回chi2值，1返回p值\n",
    "            pv = scipy.stats.chi2_contingency([x1,x2])[1]\n",
    "            #chi2 = scipy.stats.chi2_contingency([x1,x2])[0]\n",
    "            pvs.append(pv)\n",
    "\n",
    "        #通过p值进行处理，合并p值最大的两组\n",
    "        i = pvs.index(max(pvs))\n",
    "        num_bins[i:i+2] = [(\n",
    "            num_bins[i][0],\n",
    "            num_bins[i+1][1],\n",
    "            num_bins[i][2]+num_bins[i+1][2],\n",
    "            num_bins[i][3]+num_bins[i+1][3])]\n",
    "\n",
    "        bins_df = pd.DataFrame(get_woe(num_bins))\n",
    "        axisx.append(len(num_bins))\n",
    "        IV.append(get_iv(bins_df))\n",
    "    \n",
    "    if graph:\n",
    "        plt.figure()\n",
    "        plt.plot(axisx,IV)\n",
    "        plt.xticks(axisx)\n",
    "        plt.xlabel(\"特征中的箱子个数\")\n",
    "        plt.ylabel(\"箱子个数对应的IV值\")\n",
    "        plt.show()\n",
    "    return bins_df   "
   ]
  },
  {
   "cell_type": "code",
   "execution_count": 135,
   "id": "coated-photography",
   "metadata": {},
   "outputs": [
    {
     "data": {
      "text/plain": [
       "Index(['SeriousDlqin2yrs', 'RevolvingUtilizationOfUnsecuredLines', 'age',\n",
       "       'NumberOfTime30-59DaysPastDueNotWorse', 'DebtRatio', 'MonthlyIncome',\n",
       "       'NumberOfOpenCreditLinesAndLoans', 'NumberOfTimes90DaysLate',\n",
       "       'NumberRealEstateLoansOrLines', 'NumberOfTime60-89DaysPastDueNotWorse',\n",
       "       'NumberOfDependents', 'qcut'],\n",
       "      dtype='object')"
      ]
     },
     "execution_count": 135,
     "metadata": {},
     "output_type": "execute_result"
    }
   ],
   "source": [
    "model_data.columns"
   ]
  },
  {
   "cell_type": "code",
   "execution_count": 136,
   "id": "documentary-salem",
   "metadata": {
    "scrolled": false
   },
   "outputs": [
    {
     "name": "stdout",
     "output_type": "stream",
     "text": [
      "RevolvingUtilizationOfUnsecuredLines\n"
     ]
    },
    {
     "data": {
      "image/png": "[encoded data removed]",
      "text/plain": [
       "<Figure size 432x288 with 1 Axes>"
      ]
     },
     "metadata": {
      "needs_background": "light"
     },
     "output_type": "display_data"
    },
    {
     "name": "stdout",
     "output_type": "stream",
     "text": [
      "age\n"
     ]
    },
    {
     "data": {
      "image/png": "[encoded data removed]",
      "text/plain": [
       "<Figure size 432x288 with 1 Axes>"
      ]
     },
     "metadata": {
      "needs_background": "light"
     },
     "output_type": "display_data"
    },
    {
     "name": "stdout",
     "output_type": "stream",
     "text": [
      "NumberOfTime30-59DaysPastDueNotWorse\n"
     ]
    },
    {
     "data": {
      "image/png": "[encoded data removed]",
      "text/plain": [
       "<Figure size 432x288 with 1 Axes>"
      ]
     },
     "metadata": {
      "needs_background": "light"
     },
     "output_type": "display_data"
    },
    {
     "name": "stdout",
     "output_type": "stream",
     "text": [
      "DebtRatio\n"
     ]
    },
    {
     "data": {
      "image/png": "[encoded data removed]",
      "text/plain": [
       "<Figure size 432x288 with 1 Axes>"
      ]
     },
     "metadata": {
      "needs_background": "light"
     },
     "output_type": "display_data"
    },
    {
     "name": "stdout",
     "output_type": "stream",
     "text": [
      "MonthlyIncome\n"
     ]
    },
    {
     "data": {
      "image/png": "[encoded data removed]",
      "text/plain": [
       "<Figure size 432x288 with 1 Axes>"
      ]
     },
     "metadata": {
      "needs_background": "light"
     },
     "output_type": "display_data"
    },
    {
     "name": "stdout",
     "output_type": "stream",
     "text": [
      "NumberOfOpenCreditLinesAndLoans\n"
     ]
    },
    {
     "data": {
      "image/png": "[encoded data removed]",
      "text/plain": [
       "<Figure size 432x288 with 1 Axes>"
      ]
     },
     "metadata": {
      "needs_background": "light"
     },
     "output_type": "display_data"
    },
    {
     "name": "stdout",
     "output_type": "stream",
     "text": [
      "NumberOfTimes90DaysLate\n"
     ]
    },
    {
     "data": {
      "image/png": "[encoded data removed]",
      "text/plain": [
       "<Figure size 432x288 with 1 Axes>"
      ]
     },
     "metadata": {
      "needs_background": "light"
     },
     "output_type": "display_data"
    },
    {
     "name": "stdout",
     "output_type": "stream",
     "text": [
      "NumberRealEstateLoansOrLines\n"
     ]
    },
    {
     "data": {
      "image/png": "[encoded data removed]",
      "text/plain": [
       "<Figure size 432x288 with 1 Axes>"
      ]
     },
     "metadata": {
      "needs_background": "light"
     },
     "output_type": "display_data"
    },
    {
     "name": "stdout",
     "output_type": "stream",
     "text": [
      "NumberOfTime60-89DaysPastDueNotWorse\n"
     ]
    },
    {
     "data": {
      "image/png": "[encoded data removed]",
      "text/plain": [
       "<Figure size 432x288 with 1 Axes>"
      ]
     },
     "metadata": {
      "needs_background": "light"
     },
     "output_type": "display_data"
    },
    {
     "name": "stdout",
     "output_type": "stream",
     "text": [
      "NumberOfDependents\n"
     ]
    },
    {
     "data": {
      "image/png": "[encoded data removed]",
      "text/plain": [
       "<Figure size 432x288 with 1 Axes>"
      ]
     },
     "metadata": {
      "needs_background": "light"
     },
     "output_type": "display_data"
    }
   ],
   "source": [
    "for i in model_data.columns[1:-1]:\n",
    "    print(i)\n",
    "    graphforbestbin(model_data,i,\"SeriousDlqin2yrs\",n=2,q=20,graph=True)"
   ]
  },
  {
   "cell_type": "markdown",
   "id": "major-officer",
   "metadata": {},
   "source": [
    "对于画不出图的特征，它本来就不是很连续，所以我们对其手动分箱："
   ]
  },
  {
   "cell_type": "code",
   "execution_count": 137,
   "id": "august-lounge",
   "metadata": {},
   "outputs": [
    {
     "data": {
      "text/plain": [
       "Index(['SeriousDlqin2yrs', 'RevolvingUtilizationOfUnsecuredLines', 'age',\n",
       "       'NumberOfTime30-59DaysPastDueNotWorse', 'DebtRatio', 'MonthlyIncome',\n",
       "       'NumberOfOpenCreditLinesAndLoans', 'NumberOfTimes90DaysLate',\n",
       "       'NumberRealEstateLoansOrLines', 'NumberOfTime60-89DaysPastDueNotWorse',\n",
       "       'NumberOfDependents', 'qcut'],\n",
       "      dtype='object')"
      ]
     },
     "execution_count": 137,
     "metadata": {},
     "output_type": "execute_result"
    }
   ],
   "source": [
    "model_data.columns"
   ]
  },
  {
   "cell_type": "code",
   "execution_count": 138,
   "id": "likely-bride",
   "metadata": {},
   "outputs": [],
   "source": [
    "auto_col_bins = {\n",
    "    \"RevolvingUtilizationOfUnsecuredLines\":6,\n",
    "    \"age\":6,\n",
    "    \"DebtRatio\":4,\n",
    "    \"MonthlyIncome\":3,\n",
    "    \"NumberOfOpenCreditLinesAndLoans\":5\n",
    "}\n",
    "#不能使用自动分箱的变量\n",
    "hand_bins = {\n",
    "    \"NumberOfTime30-59DaysPastDueNotWorse\":[0,1,2,13],\n",
    "    \"NumberOfTimes90DaysLate\":[0,1,2,17],\n",
    "    \"NumberRealEstateLoansOrLines\":[0,1,2,4,54],\n",
    "    \"NumberOfTime60-89DaysPastDueNotWorse\":[0,1,2,8],\n",
    "    \"NumberOfDependents\":[0,1,2,3],\n",
    "}\n",
    "#保证区间覆盖，使用np.inf替换最大值，用-np.inf替换最小值\n",
    "hand_bins = {k:[-np.inf,*v[:-1],np.inf] for k,v in hand_bins.items()}"
   ]
  },
  {
   "cell_type": "code",
   "execution_count": 139,
   "id": "median-facial",
   "metadata": {},
   "outputs": [
    {
     "data": {
      "text/plain": [
       "{'NumberOfTime30-59DaysPastDueNotWorse': [-inf, 0, 1, 2, inf],\n",
       " 'NumberOfTimes90DaysLate': [-inf, 0, 1, 2, inf],\n",
       " 'NumberRealEstateLoansOrLines': [-inf, 0, 1, 2, 4, inf],\n",
       " 'NumberOfTime60-89DaysPastDueNotWorse': [-inf, 0, 1, 2, inf],\n",
       " 'NumberOfDependents': [-inf, 0, 1, 2, inf]}"
      ]
     },
     "execution_count": 139,
     "metadata": {},
     "output_type": "execute_result"
    }
   ],
   "source": [
    "hand_bins"
   ]
  },
  {
   "cell_type": "code",
   "execution_count": 144,
   "id": "raising-debate",
   "metadata": {},
   "outputs": [
    {
     "data": {
      "text/html": [
       "<div>\n",
       "<style scoped>\n",
       "    .dataframe tbody tr th:only-of-type {\n",
       "        vertical-align: middle;\n",
       "    }\n",
       "\n",
       "    .dataframe tbody tr th {\n",
       "        vertical-align: top;\n",
       "    }\n",
       "\n",
       "    .dataframe thead th {\n",
       "        text-align: right;\n",
       "    }\n",
       "</style>\n",
       "<table border=\"1\" class=\"dataframe\">\n",
       "  <thead>\n",
       "    <tr style=\"text-align: right;\">\n",
       "      <th></th>\n",
       "      <th>min</th>\n",
       "      <th>max</th>\n",
       "      <th>count_0</th>\n",
       "      <th>count_1</th>\n",
       "      <th>total</th>\n",
       "      <th>percentage</th>\n",
       "      <th>bad_rate</th>\n",
       "      <th>good%</th>\n",
       "      <th>bad%</th>\n",
       "      <th>woe</th>\n",
       "    </tr>\n",
       "  </thead>\n",
       "  <tbody>\n",
       "    <tr>\n",
       "      <th>0</th>\n",
       "      <td>21.0</td>\n",
       "      <td>36.0</td>\n",
       "      <td>14797</td>\n",
       "      <td>24840</td>\n",
       "      <td>39637</td>\n",
       "      <td>0.203258</td>\n",
       "      <td>0.626687</td>\n",
       "      <td>0.151467</td>\n",
       "      <td>0.255248</td>\n",
       "      <td>-0.521867</td>\n",
       "    </tr>\n",
       "    <tr>\n",
       "      <th>1</th>\n",
       "      <td>36.0</td>\n",
       "      <td>54.0</td>\n",
       "      <td>39070</td>\n",
       "      <td>51447</td>\n",
       "      <td>90517</td>\n",
       "      <td>0.464171</td>\n",
       "      <td>0.568368</td>\n",
       "      <td>0.399934</td>\n",
       "      <td>0.528654</td>\n",
       "      <td>-0.279033</td>\n",
       "    </tr>\n",
       "    <tr>\n",
       "      <th>2</th>\n",
       "      <td>54.0</td>\n",
       "      <td>61.0</td>\n",
       "      <td>15743</td>\n",
       "      <td>12223</td>\n",
       "      <td>27966</td>\n",
       "      <td>0.143410</td>\n",
       "      <td>0.437066</td>\n",
       "      <td>0.161151</td>\n",
       "      <td>0.125600</td>\n",
       "      <td>0.249241</td>\n",
       "    </tr>\n",
       "    <tr>\n",
       "      <th>3</th>\n",
       "      <td>61.0</td>\n",
       "      <td>74.0</td>\n",
       "      <td>20344</td>\n",
       "      <td>7429</td>\n",
       "      <td>27773</td>\n",
       "      <td>0.142420</td>\n",
       "      <td>0.267490</td>\n",
       "      <td>0.208248</td>\n",
       "      <td>0.076338</td>\n",
       "      <td>1.003559</td>\n",
       "    </tr>\n",
       "    <tr>\n",
       "      <th>4</th>\n",
       "      <td>74.0</td>\n",
       "      <td>107.0</td>\n",
       "      <td>7737</td>\n",
       "      <td>1378</td>\n",
       "      <td>9115</td>\n",
       "      <td>0.046742</td>\n",
       "      <td>0.151179</td>\n",
       "      <td>0.079199</td>\n",
       "      <td>0.014160</td>\n",
       "      <td>1.721545</td>\n",
       "    </tr>\n",
       "  </tbody>\n",
       "</table>\n",
       "</div>"
      ],
      "text/plain": [
       "    min    max  count_0  count_1  total  percentage  bad_rate     good%  \\\n",
       "0  21.0   36.0    14797    24840  39637    0.203258  0.626687  0.151467   \n",
       "1  36.0   54.0    39070    51447  90517    0.464171  0.568368  0.399934   \n",
       "2  54.0   61.0    15743    12223  27966    0.143410  0.437066  0.161151   \n",
       "3  61.0   74.0    20344     7429  27773    0.142420  0.267490  0.208248   \n",
       "4  74.0  107.0     7737     1378   9115    0.046742  0.151179  0.079199   \n",
       "\n",
       "       bad%       woe  \n",
       "0  0.255248 -0.521867  \n",
       "1  0.528654 -0.279033  \n",
       "2  0.125600  0.249241  \n",
       "3  0.076338  1.003559  \n",
       "4  0.014160  1.721545  "
      ]
     },
     "execution_count": 144,
     "metadata": {},
     "output_type": "execute_result"
    }
   ],
   "source": [
    "bins_df = graphforbestbin(model_data,\"age\"\n",
    "                              ,\"SeriousDlqin2yrs\"\n",
    "                              ,n=5\n",
    "                             ,q=20\n",
    "                             ,graph=False)\n",
    "bins_df"
   ]
  },
  {
   "cell_type": "code",
   "execution_count": 147,
   "id": "mysterious-solid",
   "metadata": {},
   "outputs": [
    {
     "data": {
      "text/plain": [
       "[21.0, 36.0, 54.0, 61.0, 74.0, 107.0]"
      ]
     },
     "execution_count": 147,
     "metadata": {},
     "output_type": "execute_result"
    }
   ],
   "source": [
    "bins_list = sorted(set(bins_df[\"min\"]).union(bins_df[\"max\"]))\n",
    "bins_list"
   ]
  },
  {
   "cell_type": "code",
   "execution_count": 148,
   "id": "musical-findings",
   "metadata": {},
   "outputs": [
    {
     "data": {
      "text/plain": [
       "[-inf, 36.0, 54.0, 61.0, 74.0, inf]"
      ]
     },
     "execution_count": 148,
     "metadata": {},
     "output_type": "execute_result"
    }
   ],
   "source": [
    "bins_list[0],bins_list[-1] = -np.inf,np.inf\n",
    "bins_list"
   ]
  },
  {
   "cell_type": "markdown",
   "id": "british-equivalent",
   "metadata": {},
   "source": [
    "![image.png](./images/97.png)"
   ]
  },
  {
   "cell_type": "code",
   "execution_count": 149,
   "id": "extra-calcium",
   "metadata": {},
   "outputs": [],
   "source": [
    "bins_of_col = {}\n",
    "\n",
    "#生成自动分箱的分箱区间和分箱后的IV值\n",
    "\n",
    "for col in auto_col_bins:\n",
    "    bins_df = graphforbestbin(model_data,col\n",
    "                              ,\"SeriousDlqin2yrs\"\n",
    "                              ,n=auto_col_bins[col]\n",
    "                             ,q=20\n",
    "                             ,graph=False)\n",
    "    bins_list = sorted(set(bins_df[\"min\"]).union(bins_df[\"max\"]))\n",
    "    #保证区间覆盖，使用np.inf替换最大值，用-np.inf替换最小值\n",
    "    bins_list[0],bins_list[-1] = -np.inf,np.inf\n",
    "    bins_of_col[col] = bins_list"
   ]
  },
  {
   "cell_type": "code",
   "execution_count": 150,
   "id": "norwegian-trance",
   "metadata": {},
   "outputs": [
    {
     "data": {
      "text/plain": [
       "{'RevolvingUtilizationOfUnsecuredLines': [-inf,\n",
       "  0.099234571,\n",
       "  0.29822717825679373,\n",
       "  0.4656326575834644,\n",
       "  0.9823308839194524,\n",
       "  0.9999999,\n",
       "  inf],\n",
       " 'age': [-inf, 36.0, 54.0, 61.0, 64.0, 74.0, inf],\n",
       " 'DebtRatio': [-inf,\n",
       "  0.01738791555,\n",
       "  0.32069847390134326,\n",
       "  1.4680314808534982,\n",
       "  inf],\n",
       " 'MonthlyIncome': [-inf, 0.09921213417052055, 5599.0, inf],\n",
       " 'NumberOfOpenCreditLinesAndLoans': [-inf, 1.0, 3.0, 5.0, 17.0, inf]}"
      ]
     },
     "execution_count": 150,
     "metadata": {},
     "output_type": "execute_result"
    }
   ],
   "source": [
    "bins_of_col"
   ]
  },
  {
   "cell_type": "code",
   "execution_count": 151,
   "id": "broad-aquatic",
   "metadata": {},
   "outputs": [
    {
     "data": {
      "text/plain": [
       "{'RevolvingUtilizationOfUnsecuredLines': [-inf,\n",
       "  0.099234571,\n",
       "  0.29822717825679373,\n",
       "  0.4656326575834644,\n",
       "  0.9823308839194524,\n",
       "  0.9999999,\n",
       "  inf],\n",
       " 'age': [-inf, 36.0, 54.0, 61.0, 64.0, 74.0, inf],\n",
       " 'DebtRatio': [-inf,\n",
       "  0.01738791555,\n",
       "  0.32069847390134326,\n",
       "  1.4680314808534982,\n",
       "  inf],\n",
       " 'MonthlyIncome': [-inf, 0.09921213417052055, 5599.0, inf],\n",
       " 'NumberOfOpenCreditLinesAndLoans': [-inf, 1.0, 3.0, 5.0, 17.0, inf],\n",
       " 'NumberOfTime30-59DaysPastDueNotWorse': [-inf, 0, 1, 2, inf],\n",
       " 'NumberOfTimes90DaysLate': [-inf, 0, 1, 2, inf],\n",
       " 'NumberRealEstateLoansOrLines': [-inf, 0, 1, 2, 4, inf],\n",
       " 'NumberOfTime60-89DaysPastDueNotWorse': [-inf, 0, 1, 2, inf],\n",
       " 'NumberOfDependents': [-inf, 0, 1, 2, inf]}"
      ]
     },
     "execution_count": 151,
     "metadata": {},
     "output_type": "execute_result"
    }
   ],
   "source": [
    "#合并手动分箱数据\n",
    "bins_of_col.update(hand_bins)\n",
    "\n",
    "bins_of_col"
   ]
  },
  {
   "cell_type": "markdown",
   "id": "creative-hospital",
   "metadata": {},
   "source": [
    "##  3.4 计算各箱的WOE并映射到数据中"
   ]
  },
  {
   "cell_type": "markdown",
   "id": "separate-yesterday",
   "metadata": {},
   "source": [
    "![image.png](./images/98.png)"
   ]
  },
  {
   "cell_type": "code",
   "execution_count": 155,
   "id": "industrial-treasure",
   "metadata": {},
   "outputs": [
    {
     "data": {
      "text/html": [
       "<div>\n",
       "<style scoped>\n",
       "    .dataframe tbody tr th:only-of-type {\n",
       "        vertical-align: middle;\n",
       "    }\n",
       "\n",
       "    .dataframe tbody tr th {\n",
       "        vertical-align: top;\n",
       "    }\n",
       "\n",
       "    .dataframe thead th {\n",
       "        text-align: right;\n",
       "    }\n",
       "</style>\n",
       "<table border=\"1\" class=\"dataframe\">\n",
       "  <thead>\n",
       "    <tr style=\"text-align: right;\">\n",
       "      <th></th>\n",
       "      <th>age</th>\n",
       "      <th>SeriousDlqin2yrs</th>\n",
       "    </tr>\n",
       "  </thead>\n",
       "  <tbody>\n",
       "    <tr>\n",
       "      <th>0</th>\n",
       "      <td>53</td>\n",
       "      <td>0</td>\n",
       "    </tr>\n",
       "    <tr>\n",
       "      <th>1</th>\n",
       "      <td>63</td>\n",
       "      <td>0</td>\n",
       "    </tr>\n",
       "    <tr>\n",
       "      <th>2</th>\n",
       "      <td>39</td>\n",
       "      <td>1</td>\n",
       "    </tr>\n",
       "    <tr>\n",
       "      <th>3</th>\n",
       "      <td>73</td>\n",
       "      <td>0</td>\n",
       "    </tr>\n",
       "    <tr>\n",
       "      <th>4</th>\n",
       "      <td>53</td>\n",
       "      <td>1</td>\n",
       "    </tr>\n",
       "    <tr>\n",
       "      <th>...</th>\n",
       "      <td>...</td>\n",
       "      <td>...</td>\n",
       "    </tr>\n",
       "    <tr>\n",
       "      <th>195003</th>\n",
       "      <td>32</td>\n",
       "      <td>1</td>\n",
       "    </tr>\n",
       "    <tr>\n",
       "      <th>195004</th>\n",
       "      <td>50</td>\n",
       "      <td>1</td>\n",
       "    </tr>\n",
       "    <tr>\n",
       "      <th>195005</th>\n",
       "      <td>46</td>\n",
       "      <td>1</td>\n",
       "    </tr>\n",
       "    <tr>\n",
       "      <th>195006</th>\n",
       "      <td>64</td>\n",
       "      <td>0</td>\n",
       "    </tr>\n",
       "    <tr>\n",
       "      <th>195007</th>\n",
       "      <td>53</td>\n",
       "      <td>1</td>\n",
       "    </tr>\n",
       "  </tbody>\n",
       "</table>\n",
       "<p>195008 rows × 2 columns</p>\n",
       "</div>"
      ],
      "text/plain": [
       "        age  SeriousDlqin2yrs\n",
       "0        53                 0\n",
       "1        63                 0\n",
       "2        39                 1\n",
       "3        73                 0\n",
       "4        53                 1\n",
       "...     ...               ...\n",
       "195003   32                 1\n",
       "195004   50                 1\n",
       "195005   46                 1\n",
       "195006   64                 0\n",
       "195007   53                 1\n",
       "\n",
       "[195008 rows x 2 columns]"
      ]
     },
     "execution_count": 155,
     "metadata": {},
     "output_type": "execute_result"
    }
   ],
   "source": [
    "data = model_data.copy()\n",
    "\n",
    "data = data[[\"age\",\"SeriousDlqin2yrs\"]].copy()\n",
    "data"
   ]
  },
  {
   "cell_type": "code",
   "execution_count": 157,
   "id": "operational-incidence",
   "metadata": {},
   "outputs": [
    {
     "data": {
      "text/html": [
       "<div>\n",
       "<style scoped>\n",
       "    .dataframe tbody tr th:only-of-type {\n",
       "        vertical-align: middle;\n",
       "    }\n",
       "\n",
       "    .dataframe tbody tr th {\n",
       "        vertical-align: top;\n",
       "    }\n",
       "\n",
       "    .dataframe thead th {\n",
       "        text-align: right;\n",
       "    }\n",
       "</style>\n",
       "<table border=\"1\" class=\"dataframe\">\n",
       "  <thead>\n",
       "    <tr style=\"text-align: right;\">\n",
       "      <th></th>\n",
       "      <th>age</th>\n",
       "      <th>SeriousDlqin2yrs</th>\n",
       "      <th>cut</th>\n",
       "    </tr>\n",
       "  </thead>\n",
       "  <tbody>\n",
       "    <tr>\n",
       "      <th>0</th>\n",
       "      <td>53</td>\n",
       "      <td>0</td>\n",
       "      <td>(48.0, 58.0]</td>\n",
       "    </tr>\n",
       "    <tr>\n",
       "      <th>1</th>\n",
       "      <td>63</td>\n",
       "      <td>0</td>\n",
       "      <td>(58.0, 64.0]</td>\n",
       "    </tr>\n",
       "    <tr>\n",
       "      <th>2</th>\n",
       "      <td>39</td>\n",
       "      <td>1</td>\n",
       "      <td>(-inf, 48.0]</td>\n",
       "    </tr>\n",
       "    <tr>\n",
       "      <th>3</th>\n",
       "      <td>73</td>\n",
       "      <td>0</td>\n",
       "      <td>(64.0, 74.0]</td>\n",
       "    </tr>\n",
       "    <tr>\n",
       "      <th>4</th>\n",
       "      <td>53</td>\n",
       "      <td>1</td>\n",
       "      <td>(48.0, 58.0]</td>\n",
       "    </tr>\n",
       "    <tr>\n",
       "      <th>...</th>\n",
       "      <td>...</td>\n",
       "      <td>...</td>\n",
       "      <td>...</td>\n",
       "    </tr>\n",
       "    <tr>\n",
       "      <th>195003</th>\n",
       "      <td>32</td>\n",
       "      <td>1</td>\n",
       "      <td>(-inf, 48.0]</td>\n",
       "    </tr>\n",
       "    <tr>\n",
       "      <th>195004</th>\n",
       "      <td>50</td>\n",
       "      <td>1</td>\n",
       "      <td>(48.0, 58.0]</td>\n",
       "    </tr>\n",
       "    <tr>\n",
       "      <th>195005</th>\n",
       "      <td>46</td>\n",
       "      <td>1</td>\n",
       "      <td>(-inf, 48.0]</td>\n",
       "    </tr>\n",
       "    <tr>\n",
       "      <th>195006</th>\n",
       "      <td>64</td>\n",
       "      <td>0</td>\n",
       "      <td>(58.0, 64.0]</td>\n",
       "    </tr>\n",
       "    <tr>\n",
       "      <th>195007</th>\n",
       "      <td>53</td>\n",
       "      <td>1</td>\n",
       "      <td>(48.0, 58.0]</td>\n",
       "    </tr>\n",
       "  </tbody>\n",
       "</table>\n",
       "<p>195008 rows × 3 columns</p>\n",
       "</div>"
      ],
      "text/plain": [
       "        age  SeriousDlqin2yrs           cut\n",
       "0        53                 0  (48.0, 58.0]\n",
       "1        63                 0  (58.0, 64.0]\n",
       "2        39                 1  (-inf, 48.0]\n",
       "3        73                 0  (64.0, 74.0]\n",
       "4        53                 1  (48.0, 58.0]\n",
       "...     ...               ...           ...\n",
       "195003   32                 1  (-inf, 48.0]\n",
       "195004   50                 1  (48.0, 58.0]\n",
       "195005   46                 1  (-inf, 48.0]\n",
       "195006   64                 0  (58.0, 64.0]\n",
       "195007   53                 1  (48.0, 58.0]\n",
       "\n",
       "[195008 rows x 3 columns]"
      ]
     },
     "execution_count": 157,
     "metadata": {},
     "output_type": "execute_result"
    }
   ],
   "source": [
    "data[\"cut\"] = pd.cut(data[\"age\"],[-np.inf, 48.0, 58.0, 64.0, 74.0, np.inf])\n",
    "data"
   ]
  },
  {
   "cell_type": "markdown",
   "id": "threatened-titanium",
   "metadata": {},
   "source": [
    "![image.png](./images/99.png)"
   ]
  },
  {
   "cell_type": "code",
   "execution_count": 158,
   "id": "supported-combining",
   "metadata": {},
   "outputs": [
    {
     "data": {
      "text/plain": [
       "cut           SeriousDlqin2yrs\n",
       "(-inf, 48.0]  1                   59257\n",
       "              0                   39558\n",
       "(48.0, 58.0]  1                   24428\n",
       "              0                   23469\n",
       "(58.0, 64.0]  0                   13551\n",
       "              1                    8042\n",
       "(64.0, 74.0]  0                   13376\n",
       "              1                    4212\n",
       "(74.0, inf]   0                    7737\n",
       "              1                    1378\n",
       "Name: SeriousDlqin2yrs, dtype: int64"
      ]
     },
     "execution_count": 158,
     "metadata": {},
     "output_type": "execute_result"
    }
   ],
   "source": [
    "data.groupby(\"cut\")[\"SeriousDlqin2yrs\"].value_counts()"
   ]
  },
  {
   "cell_type": "code",
   "execution_count": 160,
   "id": "ultimate-sixth",
   "metadata": {},
   "outputs": [
    {
     "data": {
      "text/html": [
       "<div>\n",
       "<style scoped>\n",
       "    .dataframe tbody tr th:only-of-type {\n",
       "        vertical-align: middle;\n",
       "    }\n",
       "\n",
       "    .dataframe tbody tr th {\n",
       "        vertical-align: top;\n",
       "    }\n",
       "\n",
       "    .dataframe thead th {\n",
       "        text-align: right;\n",
       "    }\n",
       "</style>\n",
       "<table border=\"1\" class=\"dataframe\">\n",
       "  <thead>\n",
       "    <tr style=\"text-align: right;\">\n",
       "      <th>SeriousDlqin2yrs</th>\n",
       "      <th>0</th>\n",
       "      <th>1</th>\n",
       "    </tr>\n",
       "    <tr>\n",
       "      <th>cut</th>\n",
       "      <th></th>\n",
       "      <th></th>\n",
       "    </tr>\n",
       "  </thead>\n",
       "  <tbody>\n",
       "    <tr>\n",
       "      <th>(-inf, 48.0]</th>\n",
       "      <td>39558</td>\n",
       "      <td>59257</td>\n",
       "    </tr>\n",
       "    <tr>\n",
       "      <th>(48.0, 58.0]</th>\n",
       "      <td>23469</td>\n",
       "      <td>24428</td>\n",
       "    </tr>\n",
       "    <tr>\n",
       "      <th>(58.0, 64.0]</th>\n",
       "      <td>13551</td>\n",
       "      <td>8042</td>\n",
       "    </tr>\n",
       "    <tr>\n",
       "      <th>(64.0, 74.0]</th>\n",
       "      <td>13376</td>\n",
       "      <td>4212</td>\n",
       "    </tr>\n",
       "    <tr>\n",
       "      <th>(74.0, inf]</th>\n",
       "      <td>7737</td>\n",
       "      <td>1378</td>\n",
       "    </tr>\n",
       "  </tbody>\n",
       "</table>\n",
       "</div>"
      ],
      "text/plain": [
       "SeriousDlqin2yrs      0      1\n",
       "cut                           \n",
       "(-inf, 48.0]      39558  59257\n",
       "(48.0, 58.0]      23469  24428\n",
       "(58.0, 64.0]      13551   8042\n",
       "(64.0, 74.0]      13376   4212\n",
       "(74.0, inf]        7737   1378"
      ]
     },
     "execution_count": 160,
     "metadata": {},
     "output_type": "execute_result"
    }
   ],
   "source": [
    "bins_df = data.groupby(\"cut\")[\"SeriousDlqin2yrs\"].value_counts().unstack()\n",
    "bins_df"
   ]
  },
  {
   "cell_type": "code",
   "execution_count": 161,
   "id": "single-active",
   "metadata": {},
   "outputs": [
    {
     "data": {
      "text/html": [
       "<div>\n",
       "<style scoped>\n",
       "    .dataframe tbody tr th:only-of-type {\n",
       "        vertical-align: middle;\n",
       "    }\n",
       "\n",
       "    .dataframe tbody tr th {\n",
       "        vertical-align: top;\n",
       "    }\n",
       "\n",
       "    .dataframe thead th {\n",
       "        text-align: right;\n",
       "    }\n",
       "</style>\n",
       "<table border=\"1\" class=\"dataframe\">\n",
       "  <thead>\n",
       "    <tr style=\"text-align: right;\">\n",
       "      <th>SeriousDlqin2yrs</th>\n",
       "      <th>0</th>\n",
       "      <th>1</th>\n",
       "      <th>woe</th>\n",
       "    </tr>\n",
       "    <tr>\n",
       "      <th>cut</th>\n",
       "      <th></th>\n",
       "      <th></th>\n",
       "      <th></th>\n",
       "    </tr>\n",
       "  </thead>\n",
       "  <tbody>\n",
       "    <tr>\n",
       "      <th>(-inf, 48.0]</th>\n",
       "      <td>39558</td>\n",
       "      <td>59257</td>\n",
       "      <td>-0.407952</td>\n",
       "    </tr>\n",
       "    <tr>\n",
       "      <th>(48.0, 58.0]</th>\n",
       "      <td>23469</td>\n",
       "      <td>24428</td>\n",
       "      <td>-0.043885</td>\n",
       "    </tr>\n",
       "    <tr>\n",
       "      <th>(58.0, 64.0]</th>\n",
       "      <td>13551</td>\n",
       "      <td>8042</td>\n",
       "      <td>0.517947</td>\n",
       "    </tr>\n",
       "    <tr>\n",
       "      <th>(64.0, 74.0]</th>\n",
       "      <td>13376</td>\n",
       "      <td>4212</td>\n",
       "      <td>1.151689</td>\n",
       "    </tr>\n",
       "    <tr>\n",
       "      <th>(74.0, inf]</th>\n",
       "      <td>7737</td>\n",
       "      <td>1378</td>\n",
       "      <td>1.721545</td>\n",
       "    </tr>\n",
       "  </tbody>\n",
       "</table>\n",
       "</div>"
      ],
      "text/plain": [
       "SeriousDlqin2yrs      0      1       woe\n",
       "cut                                     \n",
       "(-inf, 48.0]      39558  59257 -0.407952\n",
       "(48.0, 58.0]      23469  24428 -0.043885\n",
       "(58.0, 64.0]      13551   8042  0.517947\n",
       "(64.0, 74.0]      13376   4212  1.151689\n",
       "(74.0, inf]        7737   1378  1.721545"
      ]
     },
     "execution_count": 161,
     "metadata": {},
     "output_type": "execute_result"
    }
   ],
   "source": [
    "bins_df[\"woe\"] = np.log((bins_df[0]/bins_df[0].sum()) / (bins_df[1]/bins_df[1].sum()))\n",
    "bins_df"
   ]
  },
  {
   "cell_type": "markdown",
   "id": "regulated-rabbit",
   "metadata": {},
   "source": [
    "![image.png](./images/100.png)"
   ]
  },
  {
   "cell_type": "code",
   "execution_count": 164,
   "id": "iraqi-option",
   "metadata": {},
   "outputs": [],
   "source": [
    "def get_woeall(df,col,y,bins):\n",
    "    df = df[[col,y]].copy()\n",
    "    df[\"cut\"] = pd.cut(df[col],bins)\n",
    "    bins_df = df.groupby(\"cut\")[y].value_counts().unstack()\n",
    "    woe = bins_df[\"woe\"] = np.log((bins_df[0]/bins_df[0].sum()) / (bins_df[1]/bins_df[1].sum()))\n",
    "    return woe"
   ]
  },
  {
   "cell_type": "code",
   "execution_count": 165,
   "id": "geographic-virginia",
   "metadata": {},
   "outputs": [
    {
     "data": {
      "text/plain": [
       "{'RevolvingUtilizationOfUnsecuredLines': cut\n",
       " (-inf, 0.0992]     2.211109\n",
       " (0.0992, 0.298]    0.665458\n",
       " (0.298, 0.466]    -0.126959\n",
       " (0.466, 0.982]    -1.075591\n",
       " (0.982, 1.0]      -0.477409\n",
       " (1.0, inf]        -2.034343\n",
       " dtype: float64,\n",
       " 'age': cut\n",
       " (-inf, 36.0]   -0.521867\n",
       " (36.0, 54.0]   -0.279033\n",
       " (54.0, 61.0]    0.249241\n",
       " (61.0, 64.0]    0.769043\n",
       " (64.0, 74.0]    1.151689\n",
       " (74.0, inf]     1.721545\n",
       " dtype: float64,\n",
       " 'DebtRatio': cut\n",
       " (-inf, 0.0174]     1.507780\n",
       " (0.0174, 0.321]    0.074033\n",
       " (0.321, 1.468]    -0.314215\n",
       " (1.468, inf]       0.176126\n",
       " dtype: float64,\n",
       " 'MonthlyIncome': cut\n",
       " (-inf, 0.0992]      1.202004\n",
       " (0.0992, 5599.0]   -0.225395\n",
       " (5599.0, inf]       0.232445\n",
       " dtype: float64,\n",
       " 'NumberOfOpenCreditLinesAndLoans': cut\n",
       " (-inf, 1.0]   -0.848984\n",
       " (1.0, 3.0]    -0.331623\n",
       " (3.0, 5.0]    -0.052431\n",
       " (5.0, 17.0]    0.124001\n",
       " (17.0, inf]    0.461094\n",
       " dtype: float64,\n",
       " 'NumberOfTime30-59DaysPastDueNotWorse': cut\n",
       " (-inf, 0.0]    0.353235\n",
       " (0.0, 1.0]    -0.873912\n",
       " (1.0, 2.0]    -1.374496\n",
       " (2.0, inf]    -1.547972\n",
       " dtype: float64,\n",
       " 'NumberOfTimes90DaysLate': cut\n",
       " (-inf, 0.0]    0.236090\n",
       " (0.0, 1.0]    -1.758963\n",
       " (1.0, 2.0]    -2.261476\n",
       " (2.0, inf]    -2.401458\n",
       " dtype: float64,\n",
       " 'NumberRealEstateLoansOrLines': cut\n",
       " (-inf, 0.0]   -0.393063\n",
       " (0.0, 1.0]     0.194230\n",
       " (1.0, 2.0]     0.617771\n",
       " (2.0, 4.0]     0.384213\n",
       " (4.0, inf]    -0.292362\n",
       " dtype: float64,\n",
       " 'NumberOfTime60-89DaysPastDueNotWorse': cut\n",
       " (-inf, 0.0]    0.123789\n",
       " (0.0, 1.0]    -1.380170\n",
       " (1.0, 2.0]    -1.772045\n",
       " (2.0, inf]    -1.805281\n",
       " dtype: float64,\n",
       " 'NumberOfDependents': cut\n",
       " (-inf, 0.0]    0.656122\n",
       " (0.0, 1.0]    -0.509388\n",
       " (1.0, 2.0]    -0.533612\n",
       " (2.0, inf]    -0.477951\n",
       " dtype: float64}"
      ]
     },
     "execution_count": 165,
     "metadata": {},
     "output_type": "execute_result"
    }
   ],
   "source": [
    "#将所有特征的woe存储到字典当中\n",
    "woeall = {}\n",
    "for col in bins_of_col:\n",
    "    woeall[col] = get_woeall(model_data,col,\"SeriousDlqin2yrs\",bins_of_col[col])\n",
    "    \n",
    "woeall    "
   ]
  },
  {
   "cell_type": "markdown",
   "id": "dried-syndicate",
   "metadata": {},
   "source": [
    "![image.png](./images/101.png)"
   ]
  },
  {
   "cell_type": "code",
   "execution_count": 166,
   "id": "seventh-insertion",
   "metadata": {},
   "outputs": [
    {
     "data": {
      "text/html": [
       "<div>\n",
       "<style scoped>\n",
       "    .dataframe tbody tr th:only-of-type {\n",
       "        vertical-align: middle;\n",
       "    }\n",
       "\n",
       "    .dataframe tbody tr th {\n",
       "        vertical-align: top;\n",
       "    }\n",
       "\n",
       "    .dataframe thead th {\n",
       "        text-align: right;\n",
       "    }\n",
       "</style>\n",
       "<table border=\"1\" class=\"dataframe\">\n",
       "  <thead>\n",
       "    <tr style=\"text-align: right;\">\n",
       "      <th></th>\n",
       "      <th>SeriousDlqin2yrs</th>\n",
       "      <th>RevolvingUtilizationOfUnsecuredLines</th>\n",
       "      <th>age</th>\n",
       "      <th>NumberOfTime30-59DaysPastDueNotWorse</th>\n",
       "      <th>DebtRatio</th>\n",
       "      <th>MonthlyIncome</th>\n",
       "      <th>NumberOfOpenCreditLinesAndLoans</th>\n",
       "      <th>NumberOfTimes90DaysLate</th>\n",
       "      <th>NumberRealEstateLoansOrLines</th>\n",
       "      <th>NumberOfTime60-89DaysPastDueNotWorse</th>\n",
       "      <th>NumberOfDependents</th>\n",
       "      <th>qcut</th>\n",
       "    </tr>\n",
       "  </thead>\n",
       "  <tbody>\n",
       "    <tr>\n",
       "      <th>0</th>\n",
       "      <td>0</td>\n",
       "      <td>0.015404</td>\n",
       "      <td>53</td>\n",
       "      <td>0</td>\n",
       "      <td>0.121802</td>\n",
       "      <td>4728.0</td>\n",
       "      <td>5</td>\n",
       "      <td>0</td>\n",
       "      <td>0</td>\n",
       "      <td>0</td>\n",
       "      <td>0.000000</td>\n",
       "      <td>(52.0, 54.0]</td>\n",
       "    </tr>\n",
       "    <tr>\n",
       "      <th>1</th>\n",
       "      <td>0</td>\n",
       "      <td>0.168311</td>\n",
       "      <td>63</td>\n",
       "      <td>0</td>\n",
       "      <td>0.141964</td>\n",
       "      <td>1119.0</td>\n",
       "      <td>5</td>\n",
       "      <td>0</td>\n",
       "      <td>0</td>\n",
       "      <td>0</td>\n",
       "      <td>0.000000</td>\n",
       "      <td>(61.0, 64.0]</td>\n",
       "    </tr>\n",
       "    <tr>\n",
       "      <th>2</th>\n",
       "      <td>1</td>\n",
       "      <td>1.063570</td>\n",
       "      <td>39</td>\n",
       "      <td>1</td>\n",
       "      <td>0.417663</td>\n",
       "      <td>3500.0</td>\n",
       "      <td>5</td>\n",
       "      <td>1</td>\n",
       "      <td>0</td>\n",
       "      <td>2</td>\n",
       "      <td>3.716057</td>\n",
       "      <td>(36.0, 39.0]</td>\n",
       "    </tr>\n",
       "    <tr>\n",
       "      <th>3</th>\n",
       "      <td>0</td>\n",
       "      <td>0.088684</td>\n",
       "      <td>73</td>\n",
       "      <td>0</td>\n",
       "      <td>0.522822</td>\n",
       "      <td>5301.0</td>\n",
       "      <td>11</td>\n",
       "      <td>0</td>\n",
       "      <td>2</td>\n",
       "      <td>0</td>\n",
       "      <td>0.000000</td>\n",
       "      <td>(68.0, 74.0]</td>\n",
       "    </tr>\n",
       "    <tr>\n",
       "      <th>4</th>\n",
       "      <td>1</td>\n",
       "      <td>0.622999</td>\n",
       "      <td>53</td>\n",
       "      <td>0</td>\n",
       "      <td>0.423650</td>\n",
       "      <td>13000.0</td>\n",
       "      <td>9</td>\n",
       "      <td>0</td>\n",
       "      <td>2</td>\n",
       "      <td>0</td>\n",
       "      <td>0.181999</td>\n",
       "      <td>(52.0, 54.0]</td>\n",
       "    </tr>\n",
       "  </tbody>\n",
       "</table>\n",
       "</div>"
      ],
      "text/plain": [
       "   SeriousDlqin2yrs  RevolvingUtilizationOfUnsecuredLines  age  \\\n",
       "0                 0                              0.015404   53   \n",
       "1                 0                              0.168311   63   \n",
       "2                 1                              1.063570   39   \n",
       "3                 0                              0.088684   73   \n",
       "4                 1                              0.622999   53   \n",
       "\n",
       "   NumberOfTime30-59DaysPastDueNotWorse  DebtRatio  MonthlyIncome  \\\n",
       "0                                     0   0.121802         4728.0   \n",
       "1                                     0   0.141964         1119.0   \n",
       "2                                     1   0.417663         3500.0   \n",
       "3                                     0   0.522822         5301.0   \n",
       "4                                     0   0.423650        13000.0   \n",
       "\n",
       "   NumberOfOpenCreditLinesAndLoans  NumberOfTimes90DaysLate  \\\n",
       "0                                5                        0   \n",
       "1                                5                        0   \n",
       "2                                5                        1   \n",
       "3                               11                        0   \n",
       "4                                9                        0   \n",
       "\n",
       "   NumberRealEstateLoansOrLines  NumberOfTime60-89DaysPastDueNotWorse  \\\n",
       "0                             0                                     0   \n",
       "1                             0                                     0   \n",
       "2                             0                                     2   \n",
       "3                             2                                     0   \n",
       "4                             2                                     0   \n",
       "\n",
       "   NumberOfDependents          qcut  \n",
       "0            0.000000  (52.0, 54.0]  \n",
       "1            0.000000  (61.0, 64.0]  \n",
       "2            3.716057  (36.0, 39.0]  \n",
       "3            0.000000  (68.0, 74.0]  \n",
       "4            0.181999  (52.0, 54.0]  "
      ]
     },
     "execution_count": 166,
     "metadata": {},
     "output_type": "execute_result"
    }
   ],
   "source": [
    "model_data.head()"
   ]
  },
  {
   "cell_type": "code",
   "execution_count": 167,
   "id": "shared-margin",
   "metadata": {},
   "outputs": [],
   "source": [
    "model_woe = pd.DataFrame(index=model_data.index)"
   ]
  },
  {
   "cell_type": "code",
   "execution_count": 168,
   "id": "wooden-evolution",
   "metadata": {},
   "outputs": [
    {
     "data": {
      "text/html": [
       "<div>\n",
       "<style scoped>\n",
       "    .dataframe tbody tr th:only-of-type {\n",
       "        vertical-align: middle;\n",
       "    }\n",
       "\n",
       "    .dataframe tbody tr th {\n",
       "        vertical-align: top;\n",
       "    }\n",
       "\n",
       "    .dataframe thead th {\n",
       "        text-align: right;\n",
       "    }\n",
       "</style>\n",
       "<table border=\"1\" class=\"dataframe\">\n",
       "  <thead>\n",
       "    <tr style=\"text-align: right;\">\n",
       "      <th></th>\n",
       "    </tr>\n",
       "  </thead>\n",
       "  <tbody>\n",
       "    <tr>\n",
       "      <th>0</th>\n",
       "    </tr>\n",
       "    <tr>\n",
       "      <th>1</th>\n",
       "    </tr>\n",
       "    <tr>\n",
       "      <th>2</th>\n",
       "    </tr>\n",
       "    <tr>\n",
       "      <th>3</th>\n",
       "    </tr>\n",
       "    <tr>\n",
       "      <th>4</th>\n",
       "    </tr>\n",
       "    <tr>\n",
       "      <th>...</th>\n",
       "    </tr>\n",
       "    <tr>\n",
       "      <th>195003</th>\n",
       "    </tr>\n",
       "    <tr>\n",
       "      <th>195004</th>\n",
       "    </tr>\n",
       "    <tr>\n",
       "      <th>195005</th>\n",
       "    </tr>\n",
       "    <tr>\n",
       "      <th>195006</th>\n",
       "    </tr>\n",
       "    <tr>\n",
       "      <th>195007</th>\n",
       "    </tr>\n",
       "  </tbody>\n",
       "</table>\n",
       "<p>195008 rows × 0 columns</p>\n",
       "</div>"
      ],
      "text/plain": [
       "Empty DataFrame\n",
       "Columns: []\n",
       "Index: [0, 1, 2, 3, 4, 5, 6, 7, 8, 9, 10, 11, 12, 13, 14, 15, 16, 17, 18, 19, 20, 21, 22, 23, 24, 25, 26, 27, 28, 29, 30, 31, 32, 33, 34, 35, 36, 37, 38, 39, 40, 41, 42, 43, 44, 45, 46, 47, 48, 49, 50, 51, 52, 53, 54, 55, 56, 57, 58, 59, 60, 61, 62, 63, 64, 65, 66, 67, 68, 69, 70, 71, 72, 73, 74, 75, 76, 77, 78, 79, 80, 81, 82, 83, 84, 85, 86, 87, 88, 89, 90, 91, 92, 93, 94, 95, 96, 97, 98, 99, ...]\n",
       "\n",
       "[195008 rows x 0 columns]"
      ]
     },
     "execution_count": 168,
     "metadata": {},
     "output_type": "execute_result"
    }
   ],
   "source": [
    "model_woe"
   ]
  },
  {
   "cell_type": "code",
   "execution_count": 171,
   "id": "color-disease",
   "metadata": {},
   "outputs": [],
   "source": [
    "model_woe[\"age\"] = pd.cut(model_data[\"age\"],bins_of_col[\"age\"]).map(woeall[\"age\"])"
   ]
  },
  {
   "cell_type": "code",
   "execution_count": 172,
   "id": "veterinary-journey",
   "metadata": {},
   "outputs": [
    {
     "data": {
      "text/html": [
       "<div>\n",
       "<style scoped>\n",
       "    .dataframe tbody tr th:only-of-type {\n",
       "        vertical-align: middle;\n",
       "    }\n",
       "\n",
       "    .dataframe tbody tr th {\n",
       "        vertical-align: top;\n",
       "    }\n",
       "\n",
       "    .dataframe thead th {\n",
       "        text-align: right;\n",
       "    }\n",
       "</style>\n",
       "<table border=\"1\" class=\"dataframe\">\n",
       "  <thead>\n",
       "    <tr style=\"text-align: right;\">\n",
       "      <th></th>\n",
       "      <th>age</th>\n",
       "    </tr>\n",
       "  </thead>\n",
       "  <tbody>\n",
       "    <tr>\n",
       "      <th>0</th>\n",
       "      <td>-0.279033</td>\n",
       "    </tr>\n",
       "    <tr>\n",
       "      <th>1</th>\n",
       "      <td>0.769043</td>\n",
       "    </tr>\n",
       "    <tr>\n",
       "      <th>2</th>\n",
       "      <td>-0.279033</td>\n",
       "    </tr>\n",
       "    <tr>\n",
       "      <th>3</th>\n",
       "      <td>1.151689</td>\n",
       "    </tr>\n",
       "    <tr>\n",
       "      <th>4</th>\n",
       "      <td>-0.279033</td>\n",
       "    </tr>\n",
       "  </tbody>\n",
       "</table>\n",
       "</div>"
      ],
      "text/plain": [
       "        age\n",
       "0 -0.279033\n",
       "1  0.769043\n",
       "2 -0.279033\n",
       "3  1.151689\n",
       "4 -0.279033"
      ]
     },
     "execution_count": 172,
     "metadata": {},
     "output_type": "execute_result"
    }
   ],
   "source": [
    "model_woe.head()"
   ]
  },
  {
   "cell_type": "code",
   "execution_count": 173,
   "id": "constant-invention",
   "metadata": {},
   "outputs": [],
   "source": [
    "for col in bins_of_col:\n",
    "    model_woe[col] = pd.cut(model_data[col],bins_of_col[col]).map(woeall[col])"
   ]
  },
  {
   "cell_type": "code",
   "execution_count": 175,
   "id": "adult-gathering",
   "metadata": {},
   "outputs": [
    {
     "data": {
      "text/html": [
       "<div>\n",
       "<style scoped>\n",
       "    .dataframe tbody tr th:only-of-type {\n",
       "        vertical-align: middle;\n",
       "    }\n",
       "\n",
       "    .dataframe tbody tr th {\n",
       "        vertical-align: top;\n",
       "    }\n",
       "\n",
       "    .dataframe thead th {\n",
       "        text-align: right;\n",
       "    }\n",
       "</style>\n",
       "<table border=\"1\" class=\"dataframe\">\n",
       "  <thead>\n",
       "    <tr style=\"text-align: right;\">\n",
       "      <th></th>\n",
       "      <th>age</th>\n",
       "      <th>RevolvingUtilizationOfUnsecuredLines</th>\n",
       "      <th>DebtRatio</th>\n",
       "      <th>MonthlyIncome</th>\n",
       "      <th>NumberOfOpenCreditLinesAndLoans</th>\n",
       "      <th>NumberOfTime30-59DaysPastDueNotWorse</th>\n",
       "      <th>NumberOfTimes90DaysLate</th>\n",
       "      <th>NumberRealEstateLoansOrLines</th>\n",
       "      <th>NumberOfTime60-89DaysPastDueNotWorse</th>\n",
       "      <th>NumberOfDependents</th>\n",
       "      <th>SeriousDlqin2yrs</th>\n",
       "    </tr>\n",
       "  </thead>\n",
       "  <tbody>\n",
       "    <tr>\n",
       "      <th>0</th>\n",
       "      <td>-0.279033</td>\n",
       "      <td>2.211109</td>\n",
       "      <td>0.074033</td>\n",
       "      <td>-0.225395</td>\n",
       "      <td>-0.052431</td>\n",
       "      <td>0.353235</td>\n",
       "      <td>0.236090</td>\n",
       "      <td>-0.393063</td>\n",
       "      <td>0.123789</td>\n",
       "      <td>0.656122</td>\n",
       "      <td>0</td>\n",
       "    </tr>\n",
       "    <tr>\n",
       "      <th>1</th>\n",
       "      <td>0.769043</td>\n",
       "      <td>0.665458</td>\n",
       "      <td>0.074033</td>\n",
       "      <td>-0.225395</td>\n",
       "      <td>-0.052431</td>\n",
       "      <td>0.353235</td>\n",
       "      <td>0.236090</td>\n",
       "      <td>-0.393063</td>\n",
       "      <td>0.123789</td>\n",
       "      <td>0.656122</td>\n",
       "      <td>0</td>\n",
       "    </tr>\n",
       "    <tr>\n",
       "      <th>2</th>\n",
       "      <td>-0.279033</td>\n",
       "      <td>-2.034343</td>\n",
       "      <td>-0.314215</td>\n",
       "      <td>-0.225395</td>\n",
       "      <td>-0.052431</td>\n",
       "      <td>-0.873912</td>\n",
       "      <td>-1.758963</td>\n",
       "      <td>-0.393063</td>\n",
       "      <td>-1.772045</td>\n",
       "      <td>-0.477951</td>\n",
       "      <td>1</td>\n",
       "    </tr>\n",
       "    <tr>\n",
       "      <th>3</th>\n",
       "      <td>1.151689</td>\n",
       "      <td>2.211109</td>\n",
       "      <td>-0.314215</td>\n",
       "      <td>-0.225395</td>\n",
       "      <td>0.124001</td>\n",
       "      <td>0.353235</td>\n",
       "      <td>0.236090</td>\n",
       "      <td>0.617771</td>\n",
       "      <td>0.123789</td>\n",
       "      <td>0.656122</td>\n",
       "      <td>0</td>\n",
       "    </tr>\n",
       "    <tr>\n",
       "      <th>4</th>\n",
       "      <td>-0.279033</td>\n",
       "      <td>-1.075591</td>\n",
       "      <td>-0.314215</td>\n",
       "      <td>0.232445</td>\n",
       "      <td>0.124001</td>\n",
       "      <td>0.353235</td>\n",
       "      <td>0.236090</td>\n",
       "      <td>0.617771</td>\n",
       "      <td>0.123789</td>\n",
       "      <td>-0.509388</td>\n",
       "      <td>1</td>\n",
       "    </tr>\n",
       "  </tbody>\n",
       "</table>\n",
       "</div>"
      ],
      "text/plain": [
       "        age RevolvingUtilizationOfUnsecuredLines DebtRatio MonthlyIncome  \\\n",
       "0 -0.279033                             2.211109  0.074033     -0.225395   \n",
       "1  0.769043                             0.665458  0.074033     -0.225395   \n",
       "2 -0.279033                            -2.034343 -0.314215     -0.225395   \n",
       "3  1.151689                             2.211109 -0.314215     -0.225395   \n",
       "4 -0.279033                            -1.075591 -0.314215      0.232445   \n",
       "\n",
       "  NumberOfOpenCreditLinesAndLoans NumberOfTime30-59DaysPastDueNotWorse  \\\n",
       "0                       -0.052431                             0.353235   \n",
       "1                       -0.052431                             0.353235   \n",
       "2                       -0.052431                            -0.873912   \n",
       "3                        0.124001                             0.353235   \n",
       "4                        0.124001                             0.353235   \n",
       "\n",
       "  NumberOfTimes90DaysLate NumberRealEstateLoansOrLines  \\\n",
       "0                0.236090                    -0.393063   \n",
       "1                0.236090                    -0.393063   \n",
       "2               -1.758963                    -0.393063   \n",
       "3                0.236090                     0.617771   \n",
       "4                0.236090                     0.617771   \n",
       "\n",
       "  NumberOfTime60-89DaysPastDueNotWorse NumberOfDependents  SeriousDlqin2yrs  \n",
       "0                             0.123789           0.656122                 0  \n",
       "1                             0.123789           0.656122                 0  \n",
       "2                            -1.772045          -0.477951                 1  \n",
       "3                             0.123789           0.656122                 0  \n",
       "4                             0.123789          -0.509388                 1  "
      ]
     },
     "execution_count": 175,
     "metadata": {},
     "output_type": "execute_result"
    }
   ],
   "source": [
    "model_woe[\"SeriousDlqin2yrs\"] = model_data[\"SeriousDlqin2yrs\"]\n",
    "model_woe.head()"
   ]
  },
  {
   "cell_type": "markdown",
   "id": "organic-ghost",
   "metadata": {},
   "source": [
    "## 3.5建模与模型验证"
   ]
  },
  {
   "cell_type": "markdown",
   "id": "atlantic-decline",
   "metadata": {},
   "source": [
    "![image.png](./images/102.png)"
   ]
  },
  {
   "cell_type": "code",
   "execution_count": 176,
   "id": "pregnant-mobile",
   "metadata": {},
   "outputs": [
    {
     "data": {
      "text/html": [
       "<div>\n",
       "<style scoped>\n",
       "    .dataframe tbody tr th:only-of-type {\n",
       "        vertical-align: middle;\n",
       "    }\n",
       "\n",
       "    .dataframe tbody tr th {\n",
       "        vertical-align: top;\n",
       "    }\n",
       "\n",
       "    .dataframe thead th {\n",
       "        text-align: right;\n",
       "    }\n",
       "</style>\n",
       "<table border=\"1\" class=\"dataframe\">\n",
       "  <thead>\n",
       "    <tr style=\"text-align: right;\">\n",
       "      <th></th>\n",
       "    </tr>\n",
       "  </thead>\n",
       "  <tbody>\n",
       "    <tr>\n",
       "      <th>0</th>\n",
       "    </tr>\n",
       "    <tr>\n",
       "      <th>1</th>\n",
       "    </tr>\n",
       "    <tr>\n",
       "      <th>2</th>\n",
       "    </tr>\n",
       "    <tr>\n",
       "      <th>3</th>\n",
       "    </tr>\n",
       "    <tr>\n",
       "      <th>4</th>\n",
       "    </tr>\n",
       "  </tbody>\n",
       "</table>\n",
       "</div>"
      ],
      "text/plain": [
       "Empty DataFrame\n",
       "Columns: []\n",
       "Index: [0, 1, 2, 3, 4]"
      ]
     },
     "execution_count": 176,
     "metadata": {},
     "output_type": "execute_result"
    }
   ],
   "source": [
    "vali_woe = pd.DataFrame(index=vali_data.index)\n",
    "vali_woe.head()"
   ]
  },
  {
   "cell_type": "code",
   "execution_count": 177,
   "id": "improved-mapping",
   "metadata": {},
   "outputs": [
    {
     "data": {
      "text/html": [
       "<div>\n",
       "<style scoped>\n",
       "    .dataframe tbody tr th:only-of-type {\n",
       "        vertical-align: middle;\n",
       "    }\n",
       "\n",
       "    .dataframe tbody tr th {\n",
       "        vertical-align: top;\n",
       "    }\n",
       "\n",
       "    .dataframe thead th {\n",
       "        text-align: right;\n",
       "    }\n",
       "</style>\n",
       "<table border=\"1\" class=\"dataframe\">\n",
       "  <thead>\n",
       "    <tr style=\"text-align: right;\">\n",
       "      <th></th>\n",
       "      <th>RevolvingUtilizationOfUnsecuredLines</th>\n",
       "      <th>age</th>\n",
       "      <th>DebtRatio</th>\n",
       "      <th>MonthlyIncome</th>\n",
       "      <th>NumberOfOpenCreditLinesAndLoans</th>\n",
       "      <th>NumberOfTime30-59DaysPastDueNotWorse</th>\n",
       "      <th>NumberOfTimes90DaysLate</th>\n",
       "      <th>NumberRealEstateLoansOrLines</th>\n",
       "      <th>NumberOfTime60-89DaysPastDueNotWorse</th>\n",
       "      <th>NumberOfDependents</th>\n",
       "      <th>SeriousDlqin2yrs</th>\n",
       "    </tr>\n",
       "  </thead>\n",
       "  <tbody>\n",
       "    <tr>\n",
       "      <th>0</th>\n",
       "      <td>2.211109</td>\n",
       "      <td>0.249241</td>\n",
       "      <td>1.507780</td>\n",
       "      <td>-0.225395</td>\n",
       "      <td>-0.052431</td>\n",
       "      <td>0.353235</td>\n",
       "      <td>0.23609</td>\n",
       "      <td>-0.393063</td>\n",
       "      <td>0.123789</td>\n",
       "      <td>0.656122</td>\n",
       "      <td>0</td>\n",
       "    </tr>\n",
       "    <tr>\n",
       "      <th>1</th>\n",
       "      <td>-1.075591</td>\n",
       "      <td>-0.279033</td>\n",
       "      <td>0.074033</td>\n",
       "      <td>0.232445</td>\n",
       "      <td>0.124001</td>\n",
       "      <td>0.353235</td>\n",
       "      <td>0.23609</td>\n",
       "      <td>0.617771</td>\n",
       "      <td>0.123789</td>\n",
       "      <td>-0.477951</td>\n",
       "      <td>1</td>\n",
       "    </tr>\n",
       "    <tr>\n",
       "      <th>2</th>\n",
       "      <td>2.211109</td>\n",
       "      <td>0.769043</td>\n",
       "      <td>0.074033</td>\n",
       "      <td>0.232445</td>\n",
       "      <td>-0.052431</td>\n",
       "      <td>0.353235</td>\n",
       "      <td>0.23609</td>\n",
       "      <td>-0.393063</td>\n",
       "      <td>0.123789</td>\n",
       "      <td>0.656122</td>\n",
       "      <td>0</td>\n",
       "    </tr>\n",
       "    <tr>\n",
       "      <th>3</th>\n",
       "      <td>2.211109</td>\n",
       "      <td>-0.279033</td>\n",
       "      <td>0.074033</td>\n",
       "      <td>-0.225395</td>\n",
       "      <td>0.124001</td>\n",
       "      <td>0.353235</td>\n",
       "      <td>0.23609</td>\n",
       "      <td>0.194230</td>\n",
       "      <td>0.123789</td>\n",
       "      <td>0.656122</td>\n",
       "      <td>0</td>\n",
       "    </tr>\n",
       "    <tr>\n",
       "      <th>4</th>\n",
       "      <td>-1.075591</td>\n",
       "      <td>-0.279033</td>\n",
       "      <td>-0.314215</td>\n",
       "      <td>-0.225395</td>\n",
       "      <td>0.124001</td>\n",
       "      <td>0.353235</td>\n",
       "      <td>0.23609</td>\n",
       "      <td>-0.393063</td>\n",
       "      <td>0.123789</td>\n",
       "      <td>-0.509388</td>\n",
       "      <td>1</td>\n",
       "    </tr>\n",
       "  </tbody>\n",
       "</table>\n",
       "</div>"
      ],
      "text/plain": [
       "  RevolvingUtilizationOfUnsecuredLines       age DebtRatio MonthlyIncome  \\\n",
       "0                             2.211109  0.249241  1.507780     -0.225395   \n",
       "1                            -1.075591 -0.279033  0.074033      0.232445   \n",
       "2                             2.211109  0.769043  0.074033      0.232445   \n",
       "3                             2.211109 -0.279033  0.074033     -0.225395   \n",
       "4                            -1.075591 -0.279033 -0.314215     -0.225395   \n",
       "\n",
       "  NumberOfOpenCreditLinesAndLoans NumberOfTime30-59DaysPastDueNotWorse  \\\n",
       "0                       -0.052431                             0.353235   \n",
       "1                        0.124001                             0.353235   \n",
       "2                       -0.052431                             0.353235   \n",
       "3                        0.124001                             0.353235   \n",
       "4                        0.124001                             0.353235   \n",
       "\n",
       "  NumberOfTimes90DaysLate NumberRealEstateLoansOrLines  \\\n",
       "0                 0.23609                    -0.393063   \n",
       "1                 0.23609                     0.617771   \n",
       "2                 0.23609                    -0.393063   \n",
       "3                 0.23609                     0.194230   \n",
       "4                 0.23609                    -0.393063   \n",
       "\n",
       "  NumberOfTime60-89DaysPastDueNotWorse NumberOfDependents  SeriousDlqin2yrs  \n",
       "0                             0.123789           0.656122                 0  \n",
       "1                             0.123789          -0.477951                 1  \n",
       "2                             0.123789           0.656122                 0  \n",
       "3                             0.123789           0.656122                 0  \n",
       "4                             0.123789          -0.509388                 1  "
      ]
     },
     "execution_count": 177,
     "metadata": {},
     "output_type": "execute_result"
    }
   ],
   "source": [
    "for col in bins_of_col:\n",
    "    vali_woe[col] = pd.cut(vali_data[col],bins_of_col[col]).map(woeall[col])\n",
    "vali_woe[\"SeriousDlqin2yrs\"] = vali_data[\"SeriousDlqin2yrs\"]    \n",
    "vali_woe.head()"
   ]
  },
  {
   "cell_type": "code",
   "execution_count": 179,
   "id": "flying-leather",
   "metadata": {},
   "outputs": [],
   "source": [
    "#训练集\n",
    "X = model_woe.iloc[:,:-1]\n",
    "y = model_woe.iloc[:,-1]\n",
    "#测试集\n",
    "vali_X = vali_woe.iloc[:,:-1]\n",
    "vali_y = vali_woe.iloc[:,-1]"
   ]
  },
  {
   "cell_type": "code",
   "execution_count": 180,
   "id": "departmental-luxembourg",
   "metadata": {},
   "outputs": [
    {
     "data": {
      "text/plain": [
       "0.7770053603905427"
      ]
     },
     "execution_count": 180,
     "metadata": {},
     "output_type": "execute_result"
    }
   ],
   "source": [
    "from sklearn.linear_model import LogisticRegression as LR\n",
    "\n",
    "lr = LR().fit(X,y)\n",
    "lr.score(vali_X,vali_y)"
   ]
  },
  {
   "cell_type": "markdown",
   "id": "apart-western",
   "metadata": {},
   "source": [
    "![image.png](./images/103.png)"
   ]
  },
  {
   "cell_type": "code",
   "execution_count": 181,
   "id": "faced-furniture",
   "metadata": {},
   "outputs": [
    {
     "data": {
      "image/png": "[encoded data removed]",
      "text/plain": [
       "<Figure size 432x288 with 1 Axes>"
      ]
     },
     "metadata": {
      "needs_background": "light"
     },
     "output_type": "display_data"
    }
   ],
   "source": [
    "c_1 = np.linspace(0.01,1,20)\n",
    "\n",
    "score = []\n",
    "for i in c_1:\n",
    "    lr = LR(solver=\"liblinear\",C=i).fit(X,y)\n",
    "    score.append(lr.score(vali_X,vali_y))\n",
    "plt.figure()\n",
    "plt.plot(c_1,score)\n",
    "plt.show()"
   ]
  },
  {
   "cell_type": "markdown",
   "id": "civilian-cocktail",
   "metadata": {},
   "source": [
    "![image.png](./images/104.png)"
   ]
  },
  {
   "cell_type": "code",
   "execution_count": 182,
   "id": "attached-guess",
   "metadata": {},
   "outputs": [
    {
     "data": {
      "text/plain": [
       "array([5], dtype=int32)"
      ]
     },
     "execution_count": 182,
     "metadata": {},
     "output_type": "execute_result"
    }
   ],
   "source": [
    "lr.n_iter_"
   ]
  },
  {
   "cell_type": "code",
   "execution_count": 183,
   "id": "stretch-label",
   "metadata": {},
   "outputs": [
    {
     "name": "stderr",
     "output_type": "stream",
     "text": [
      "e:\\python\\python37\\lib\\site-packages\\sklearn\\svm\\_base.py:986: ConvergenceWarning: Liblinear failed to converge, increase the number of iterations.\n",
      "  \"the number of iterations.\", ConvergenceWarning)\n",
      "e:\\python\\python37\\lib\\site-packages\\sklearn\\svm\\_base.py:986: ConvergenceWarning: Liblinear failed to converge, increase the number of iterations.\n",
      "  \"the number of iterations.\", ConvergenceWarning)\n",
      "e:\\python\\python37\\lib\\site-packages\\sklearn\\svm\\_base.py:986: ConvergenceWarning: Liblinear failed to converge, increase the number of iterations.\n",
      "  \"the number of iterations.\", ConvergenceWarning)\n",
      "e:\\python\\python37\\lib\\site-packages\\sklearn\\svm\\_base.py:986: ConvergenceWarning: Liblinear failed to converge, increase the number of iterations.\n",
      "  \"the number of iterations.\", ConvergenceWarning)\n"
     ]
    },
    {
     "data": {
      "image/png": "[encoded data removed]",
      "text/plain": [
       "<Figure size 432x288 with 1 Axes>"
      ]
     },
     "metadata": {
      "needs_background": "light"
     },
     "output_type": "display_data"
    }
   ],
   "source": [
    "score=[]\n",
    "for i in [1,2,3,4]:\n",
    "    lr = LR(solver=\"liblinear\",C=0.025,max_iter=i).fit(X,y)\n",
    "    score.append(lr.score(vali_X,vali_y))\n",
    "    \n",
    "plt.figure()\n",
    "plt.plot([1,2,3,4],score)\n",
    "plt.show()    "
   ]
  },
  {
   "cell_type": "code",
   "execution_count": 184,
   "id": "hybrid-south",
   "metadata": {},
   "outputs": [
    {
     "name": "stderr",
     "output_type": "stream",
     "text": [
      "e:\\python\\python37\\lib\\site-packages\\sklearn\\svm\\_base.py:986: ConvergenceWarning: Liblinear failed to converge, increase the number of iterations.\n",
      "  \"the number of iterations.\", ConvergenceWarning)\n"
     ]
    },
    {
     "data": {
      "text/plain": [
       "0.7772566286972337"
      ]
     },
     "execution_count": 184,
     "metadata": {},
     "output_type": "execute_result"
    }
   ],
   "source": [
    "lr = LR(solver=\"liblinear\",C=0.025,max_iter=3).fit(X,y)\n",
    "lr.score(vali_X,vali_y)"
   ]
  },
  {
   "cell_type": "markdown",
   "id": "flush-hamburg",
   "metadata": {},
   "source": [
    "![image.png](./images/105.png)"
   ]
  },
  {
   "cell_type": "code",
   "execution_count": 186,
   "id": "dietary-leave",
   "metadata": {},
   "outputs": [
    {
     "data": {
      "text/plain": [
       "<AxesSubplot:title={'center':'ROC Curves'}, xlabel='False Positive Rate', ylabel='True Positive Rate'>"
      ]
     },
     "execution_count": 186,
     "metadata": {},
     "output_type": "execute_result"
    },
    {
     "data": {
      "image/png": "[encoded data removed]",
      "text/plain": [
       "<Figure size 432x432 with 1 Axes>"
      ]
     },
     "metadata": {
      "needs_background": "light"
     },
     "output_type": "display_data"
    }
   ],
   "source": [
    "import scikitplot as skplt\n",
    "vali_proba_df = pd.DataFrame(lr.predict_proba(vali_X))\n",
    "skplt.metrics.plot_roc(vali_y,vali_proba_df,\n",
    "                      plot_micro=False,figsize=(6,6)\n",
    "                      ,plot_macro=False)"
   ]
  },
  {
   "cell_type": "markdown",
   "id": "active-netherlands",
   "metadata": {},
   "source": [
    "## 3.6制作评分卡"
   ]
  },
  {
   "cell_type": "markdown",
   "id": "cardiovascular-energy",
   "metadata": {},
   "source": [
    "![image.png](./images/106.png)"
   ]
  },
  {
   "cell_type": "markdown",
   "id": "running-addition",
   "metadata": {},
   "source": [
    "![image.png](./images/107.png)"
   ]
  },
  {
   "cell_type": "markdown",
   "id": "immediate-color",
   "metadata": {},
   "source": [
    "![image.png](./images/108.png)"
   ]
  },
  {
   "cell_type": "markdown",
   "id": "plain-dominican",
   "metadata": {},
   "source": [
    "![image.png](./images/109.png)"
   ]
  },
  {
   "cell_type": "code",
   "execution_count": null,
   "id": "narrow-breach",
   "metadata": {},
   "outputs": [],
   "source": []
  },
  {
   "cell_type": "code",
   "execution_count": null,
   "id": "metropolitan-bobby",
   "metadata": {},
   "outputs": [],
   "source": []
  },
  {
   "cell_type": "code",
   "execution_count": null,
   "id": "instant-spencer",
   "metadata": {},
   "outputs": [],
   "source": []
  }
 ],
 "metadata": {
  "kernelspec": {
   "display_name": "Python 3",
   "language": "python",
   "name": "python3"
  },
  "language_info": {
   "codemirror_mode": {
    "name": "ipython",
    "version": 3
   },
   "file_extension": ".py",
   "mimetype": "text/x-python",
   "name": "python",
   "nbconvert_exporter": "python",
   "pygments_lexer": "ipython3",
   "version": "3.7.2"
  }
 },
 "nbformat": 4,
 "nbformat_minor": 5
}
