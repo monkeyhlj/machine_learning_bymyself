{
 "cells": [
  {
   "cell_type": "markdown",
   "id": "developed-scanning",
   "metadata": {},
   "source": [
    "# 房屋价格2"
   ]
  },
  {
   "cell_type": "code",
   "execution_count": 1,
   "id": "connected-hamilton",
   "metadata": {},
   "outputs": [
    {
     "name": "stdout",
     "output_type": "stream",
     "text": [
      "The train data size before dropping Id feature is : (1460, 81) \n",
      "The test data size before dropping Id feature is : (1459, 80) \n",
      "\n",
      "The train data size after dropping Id feature is : (1460, 80) \n",
      "The test data size after dropping Id feature is : (1459, 79) \n",
      "0\n",
      "                Skew\n",
      "MiscVal       21.940\n",
      "PoolQC        19.549\n",
      "PoolArea      17.689\n",
      "LotArea       13.109\n",
      "LowQualFinSF  12.085\n",
      "3SsnPorch     11.372\n",
      "KitchenAbvGr   4.301\n",
      "BsmtFinSF2     4.145\n",
      "Alley          4.137\n",
      "EnclosedPorch  4.002\n",
      "There are 41 skewed numerical features to Box Cox transform\n",
      "(2917, 254)\n",
      "(1458, 254)\n",
      "(1459, 254)\n"
     ]
    }
   ],
   "source": [
    "#import some necessary librairies\n",
    " \n",
    "import numpy as np # linear algebra\n",
    "import pandas as pd # data processing, CSV file I/O (e.g. pd.read_csv)\n",
    " \n",
    "import matplotlib.pyplot as plt  # Matlab-style plotting\n",
    "import seaborn as sns\n",
    "color = sns.color_palette()\n",
    "sns.set_style('darkgrid')\n",
    "import warnings\n",
    "def ignore_warn(*args, **kwargs):\n",
    "    pass\n",
    "warnings.warn = ignore_warn #ignore annoying warning (from sklearn and seaborn)\n",
    " \n",
    "from scipy import stats\n",
    "from scipy.stats import norm, skew #for some statistics\n",
    " \n",
    "pd.set_option('display.float_format', lambda x: '{:.3f}'.format(x)) #Limiting floats output to 3 decimal points\n",
    " \n",
    "#from subprocess import check_output\n",
    "#print(check_output([\"ls\", \"../input\"]).decode(\"utf8\")) #check the files available in the directory\n",
    " \n",
    "train = pd.read_csv('../datasets/Pricetrain.csv')\n",
    "test = pd.read_csv('../datasets/Pricetest.csv')\n",
    "\n",
    "#查看训练集、测试集大小\n",
    "#check the numbers of samples and features\n",
    "print(\"The train data size before dropping Id feature is : {} \".format(train.shape))\n",
    "print(\"The test data size before dropping Id feature is : {} \".format(test.shape))\n",
    " \n",
    "#Save the 'Id' column\n",
    "train_ID = train['Id']\n",
    "test_ID = test['Id']\n",
    " \n",
    "#Now drop the  'Id' colum since it's unnecessary for  the prediction process.\n",
    "train.drop(\"Id\", axis = 1, inplace = True)\n",
    "test.drop(\"Id\", axis = 1, inplace = True)\n",
    " \n",
    "#check again the data size after dropping the 'Id' variable\n",
    "print(\"\\nThe train data size after dropping Id feature is : {} \".format(train.shape))\n",
    "print(\"The test data size after dropping Id feature is : {} \".format(test.shape))\n",
    "\n",
    " \n",
    "#我们可以看到图像右下角的两个点有着很大的GrLivArea，但相应的SalePrice却异常地低，我们有理由相信它们是离群值，要将其剔除。\n",
    "#Deleting outliers\n",
    "#删除离群值\n",
    "train = train.drop(train[(train['GrLivArea']>4000) & (train['SalePrice']<300000)].index)\n",
    "\n",
    "#SalePrice的分布呈正偏态，而线性回归模型要求因变量服从正态分布。我们对其做对数变换，让数据接近正态分布。\n",
    "#We use the numpy fuction log1p which  applies log(1+x) to all elements of the column\n",
    "train[\"SalePrice\"] = np.log1p(train[\"SalePrice\"])\n",
    "\n",
    "\n",
    "#让我们首先将训练数据和测试数据连接在同一个数据中\n",
    "ntrain = train.shape[0]\n",
    "ntest = test.shape[0]\n",
    "y_train = train.SalePrice.values\n",
    "all_data = pd.concat((train, test)).reset_index(drop=True)\n",
    "all_data.drop(['SalePrice'], axis=1, inplace=True)\n",
    "\n",
    "\n",
    "#处理缺失值\n",
    "#在data_description.txt中已有说明，一部分特征值的缺失是因为这些房子根本没有该项特征，对于这种情况我们统一用“None”或者“0”来填充。\n",
    "all_data[\"PoolQC\"] = all_data[\"PoolQC\"].fillna(\"None\")\n",
    "all_data[\"MiscFeature\"] = all_data[\"MiscFeature\"].fillna(\"None\")\n",
    "all_data[\"Alley\"] = all_data[\"Alley\"].fillna(\"None\")\n",
    "all_data[\"Fence\"] = all_data[\"Fence\"].fillna(\"None\")\n",
    "all_data[\"FireplaceQu\"] = all_data[\"FireplaceQu\"].fillna(\"None\")\n",
    "all_data[\"MasVnrType\"] = all_data[\"MasVnrType\"].fillna(\"None\")\n",
    "all_data[\"MasVnrArea\"] = all_data[\"MasVnrArea\"].fillna(0)\n",
    "for col in ('GarageType', 'GarageFinish', 'GarageQual', 'GarageCond'):\n",
    "    all_data[col] = all_data[col].fillna('None')\n",
    "for col in ('GarageYrBlt', 'GarageArea', 'GarageCars'):\n",
    "    all_data[col] = all_data[col].fillna(0)\n",
    "for col in ('BsmtFinSF1', 'BsmtFinSF2', 'BsmtUnfSF','TotalBsmtSF', 'BsmtFullBath', 'BsmtHalfBath'):\n",
    "    all_data[col] = all_data[col].fillna(0)\n",
    "for col in ('BsmtQual', 'BsmtCond', 'BsmtExposure', 'BsmtFinType1', 'BsmtFinType2'):\n",
    "    all_data[col] = all_data[col].fillna('None')\n",
    " \n",
    "#对于缺失较少的离散型特征，可以用众数填补缺失值。\n",
    "all_data['MSZoning'] = all_data['MSZoning'].fillna(all_data['MSZoning'].mode()[0])\n",
    "all_data['Electrical'] = all_data['Electrical'].fillna(all_data['Electrical'].mode()[0])\n",
    "all_data['KitchenQual'] = all_data['KitchenQual'].fillna(all_data['KitchenQual'].mode()[0])\n",
    "all_data['Exterior1st'] = all_data['Exterior1st'].fillna(all_data['Exterior1st'].mode()[0])\n",
    "all_data['Exterior2nd'] = all_data['Exterior2nd'].fillna(all_data['Exterior2nd'].mode()[0])\n",
    "all_data['SaleType'] = all_data['SaleType'].fillna(all_data['SaleType'].mode()[0])\n",
    " \n",
    "#对于LotFrontage项，由于每个Neighborhood的房子的LotFrontage很可能是比较相近的，所以我们可以用各个房子所在Neighborhood的LotFrontage的中位数作为填充值。\n",
    "#Group by neighborhood and fill in missing value by the median LotFrontage of all the neighborhood\n",
    "all_data[\"LotFrontage\"] = all_data.groupby(\"Neighborhood\")[\"LotFrontage\"].transform(\n",
    "    lambda x: x.fillna(x.median()))\n",
    " \n",
    "#data_description.txt中还提到过，Functional默认是“Typ”。\n",
    "all_data[\"Functional\"] = all_data[\"Functional\"].fillna(\"Typ\")\n",
    " \n",
    "#Utilities特征有两个缺失值，且只有一个样本是“NoSeWa”，除此之外全部都是“AllPub”，因此该项特征的方差非常小，我们可以直接将其删去。\n",
    "all_data = all_data.drop(['Utilities'], axis=1)\n",
    "#最后确认缺失值是否已全部处理完毕：\n",
    "print(all_data.isnull().sum().max())\n",
    "\n",
    "\n",
    "#进一步挖掘特征\n",
    "#我们注意到有些特征虽然是数值型的，但其实表征的只是不同类别，其数值的大小并没有实际意义，因此我们将其转化为类别特征\n",
    "all_data['MSSubClass'] = all_data['MSSubClass'].astype(str)\n",
    "all_data['YrSold'] = all_data['YrSold'].astype(str)\n",
    "all_data['MoSold'] = all_data['MoSold'].astype(str)\n",
    "#反过来，有些类别特征实际上有高低好坏之分，这些特征的质量越高，就可能在一定程度导致房价越高。我们将这些特征的类别映射成有大小的数字，以此来表征这种潜在的偏序关系。\n",
    "all_data['FireplaceQu'] = all_data['FireplaceQu'].map({'Ex': 5, 'Gd': 4, 'TA': 3, 'Fa': 2, 'Po': 1, 'None': 0})\n",
    "all_data['GarageQual'] = all_data['GarageQual'].map({'Ex': 5, 'Gd': 4, 'TA': 3, 'Fa': 2, 'Po': 1, 'None': 0})\n",
    "all_data['GarageCond'] = all_data['GarageCond'].map({'Ex': 5, 'Gd': 4, 'TA': 3, 'Fa': 2, 'Po': 1, 'None': 0})\n",
    "all_data['GarageFinish'] = all_data['GarageFinish'].map({'Fin': 3, 'RFn': 2, 'Unf': 1, 'None': 0})\n",
    "all_data['BsmtQual'] = all_data['BsmtQual'].map({'Ex': 5, 'Gd': 4, 'TA': 3, 'Fa': 2, 'Po': 1, 'None': 0})\n",
    "all_data['BsmtCond'] = all_data['BsmtCond'].map({'Ex': 5, 'Gd': 4, 'TA': 3, 'Fa': 2, 'Po': 1, 'None': 0})\n",
    "all_data['BsmtExposure'] = all_data['BsmtExposure'].map({'Gd': 4, 'Av': 3, 'Mn': 2, 'No': 1, 'None': 0})\n",
    "all_data['BsmtFinType1'] = all_data['BsmtFinType1'].map({'GLQ': 6, 'ALQ': 5, 'BLQ': 4, 'Rec': 3, 'LwQ': 2, 'Unf': 1, 'None': 0})\n",
    "all_data['BsmtFinType2'] = all_data['BsmtFinType2'].map({'GLQ': 6, 'ALQ': 5, 'BLQ': 4, 'Rec': 3, 'LwQ': 2, 'Unf': 1, 'None': 0})\n",
    "all_data['ExterQual'] = all_data['ExterQual'].map({'Ex': 5, 'Gd': 4, 'TA': 3, 'Fa': 2, 'Po': 1, 'None': 0})\n",
    "all_data['ExterCond'] = all_data['ExterCond'].map({'Ex': 5, 'Gd': 4, 'TA': 3, 'Fa': 2, 'Po': 1, 'None': 0})\n",
    "all_data['HeatingQC'] = all_data['HeatingQC'].map({'Ex': 5, 'Gd': 4, 'TA': 3, 'Fa': 2, 'Po': 1, 'None': 0})\n",
    "all_data['PoolQC'] = all_data['PoolQC'].map({'Ex': 5, 'Gd': 4, 'TA': 3, 'Fa': 2, 'Po': 1, 'None': 0})\n",
    "all_data['KitchenQual'] = all_data['KitchenQual'].map({'Ex': 5, 'Gd': 4, 'TA': 3, 'Fa': 2, 'Po': 1, 'None': 0})\n",
    "all_data['Functional'] = all_data['Functional'].map({'Typ': 8, 'Min1': 7, 'Min2': 6, 'Mod': 5, 'Maj1': 4, 'Maj2': 3, 'Sev': 2, 'Sal': 1, 'None': 0})\n",
    "all_data['Fence'] = all_data['Fence'].map({'GdPrv': 4, 'MnPrv': 3, 'GdWo': 2, 'MnWw': 1, 'None': 0})\n",
    "all_data['LandSlope'] = all_data['LandSlope'].map({'Gtl': 3, 'Mod': 2, 'Sev': 1, 'None': 0})\n",
    "all_data['LotShape'] = all_data['LotShape'].map({'Reg': 4, 'IR1': 3, 'IR2': 2, 'IR3': 1, 'None': 0})\n",
    "all_data['PavedDrive'] = all_data['PavedDrive'].map({'Y': 3, 'P': 2, 'N': 1, 'None': 0})\n",
    "all_data['Street'] = all_data['Street'].map({'Pave': 2, 'Grvl': 1, 'None': 0})\n",
    "all_data['Alley'] = all_data['Alley'].map({'Pave': 2, 'Grvl': 1, 'None': 0})\n",
    "all_data['CentralAir'] = all_data['CentralAir'].map({'Y': 1, 'N': 0})\n",
    "\n",
    "\n",
    "#利用一些重要的特征构造更多的特征：\n",
    "all_data['TotalSF'] = all_data['TotalBsmtSF'] + all_data['1stFlrSF'] + all_data['2ndFlrSF']\n",
    "all_data['OverallQual_TotalSF'] = all_data['OverallQual'] * all_data['TotalSF']\n",
    "all_data['OverallQual_GrLivArea'] = all_data['OverallQual'] * all_data['GrLivArea']\n",
    "all_data['OverallQual_TotRmsAbvGrd'] = all_data['OverallQual'] * all_data['TotRmsAbvGrd']\n",
    "all_data['GarageArea_YearBuilt'] = all_data['GarageArea'] + all_data['YearBuilt']\n",
    "\n",
    "\n",
    "#对于数值型特征，我们希望它们尽量服从正态分布，也就是不希望这些特征出现正负偏态。\n",
    "#那么我们先来计算一下各个特征的偏度：\n",
    "#取出数值型特征\n",
    "numeric_feats = all_data.dtypes[all_data.dtypes != \"object\"].index\n",
    " \n",
    "# Check the skew of all numerical features\n",
    "skewed_feats = all_data[numeric_feats].apply(lambda x: skew(x.dropna())).sort_values(ascending=False)#降序\n",
    "skewness = pd.DataFrame({'Skew': skewed_feats})\n",
    "print(skewness.head(10))\n",
    " \n",
    "skewness = skewness[abs(skewness['Skew']) > 0.75]\n",
    "print(\"There are {} skewed numerical features to Box Cox transform\".format(skewness.shape[0]))\n",
    " \n",
    "from scipy.special import boxcox1p\n",
    "skewed_features = skewness.index\n",
    "lam = 0.15\n",
    "for feat in skewed_features:\n",
    "    all_data[feat] = boxcox1p(all_data[feat], lam)#用来降低X的skewness值,达到接近正态分布的目的\n",
    "    \n",
    "    \n",
    "#独热编码\n",
    "#对于类别特征，我们将其转化为独热编码，这样既解决了模型不好处理属性数据的问题，在一定程度上也起到了扩充特征的作用。\n",
    "all_data = pd.get_dummies(all_data)\n",
    "print(all_data.shape)\n",
    "train = all_data[:ntrain]\n",
    "test = all_data[ntrain:]\n",
    "\n",
    "print(train.shape)\n",
    "print(test.shape)"
   ]
  },
  {
   "cell_type": "code",
   "execution_count": 2,
   "id": "pleasant-bracket",
   "metadata": {
    "scrolled": true
   },
   "outputs": [
    {
     "data": {
      "text/plain": [
       "(1458,)"
      ]
     },
     "execution_count": 2,
     "metadata": {},
     "output_type": "execute_result"
    }
   ],
   "source": [
    "y_train.shape"
   ]
  },
  {
   "cell_type": "code",
   "execution_count": 56,
   "id": "rubber-tsunami",
   "metadata": {},
   "outputs": [
    {
     "data": {
      "text/html": [
       "<div>\n",
       "<style scoped>\n",
       "    .dataframe tbody tr th:only-of-type {\n",
       "        vertical-align: middle;\n",
       "    }\n",
       "\n",
       "    .dataframe tbody tr th {\n",
       "        vertical-align: top;\n",
       "    }\n",
       "\n",
       "    .dataframe thead th {\n",
       "        text-align: right;\n",
       "    }\n",
       "</style>\n",
       "<table border=\"1\" class=\"dataframe\">\n",
       "  <thead>\n",
       "    <tr style=\"text-align: right;\">\n",
       "      <th></th>\n",
       "      <th>0</th>\n",
       "      <th>1</th>\n",
       "      <th>2</th>\n",
       "      <th>3</th>\n",
       "      <th>4</th>\n",
       "      <th>5</th>\n",
       "      <th>6</th>\n",
       "      <th>7</th>\n",
       "      <th>8</th>\n",
       "      <th>9</th>\n",
       "      <th>...</th>\n",
       "      <th>244</th>\n",
       "      <th>245</th>\n",
       "      <th>246</th>\n",
       "      <th>247</th>\n",
       "      <th>248</th>\n",
       "      <th>249</th>\n",
       "      <th>250</th>\n",
       "      <th>251</th>\n",
       "      <th>252</th>\n",
       "      <th>253</th>\n",
       "    </tr>\n",
       "  </thead>\n",
       "  <tbody>\n",
       "    <tr>\n",
       "      <th>0</th>\n",
       "      <td>-0.256</td>\n",
       "      <td>-0.264</td>\n",
       "      <td>0.000</td>\n",
       "      <td>0.000</td>\n",
       "      <td>0.000</td>\n",
       "      <td>0.000</td>\n",
       "      <td>0.500</td>\n",
       "      <td>0.000</td>\n",
       "      <td>0.663</td>\n",
       "      <td>0.243</td>\n",
       "      <td>...</td>\n",
       "      <td>0.000</td>\n",
       "      <td>0.000</td>\n",
       "      <td>0.000</td>\n",
       "      <td>0.000</td>\n",
       "      <td>0.000</td>\n",
       "      <td>0.000</td>\n",
       "      <td>0.000</td>\n",
       "      <td>0.000</td>\n",
       "      <td>0.000</td>\n",
       "      <td>0.000</td>\n",
       "    </tr>\n",
       "    <tr>\n",
       "      <th>1</th>\n",
       "      <td>0.470</td>\n",
       "      <td>0.031</td>\n",
       "      <td>0.000</td>\n",
       "      <td>0.000</td>\n",
       "      <td>0.000</td>\n",
       "      <td>0.000</td>\n",
       "      <td>0.000</td>\n",
       "      <td>3.000</td>\n",
       "      <td>0.076</td>\n",
       "      <td>-0.486</td>\n",
       "      <td>...</td>\n",
       "      <td>0.000</td>\n",
       "      <td>0.000</td>\n",
       "      <td>0.000</td>\n",
       "      <td>0.000</td>\n",
       "      <td>0.000</td>\n",
       "      <td>0.000</td>\n",
       "      <td>0.000</td>\n",
       "      <td>0.000</td>\n",
       "      <td>0.000</td>\n",
       "      <td>0.000</td>\n",
       "    </tr>\n",
       "    <tr>\n",
       "      <th>2</th>\n",
       "      <td>-0.101</td>\n",
       "      <td>0.405</td>\n",
       "      <td>0.000</td>\n",
       "      <td>0.000</td>\n",
       "      <td>-1.000</td>\n",
       "      <td>0.000</td>\n",
       "      <td>0.500</td>\n",
       "      <td>0.000</td>\n",
       "      <td>0.620</td>\n",
       "      <td>0.216</td>\n",
       "      <td>...</td>\n",
       "      <td>0.000</td>\n",
       "      <td>0.000</td>\n",
       "      <td>0.000</td>\n",
       "      <td>0.000</td>\n",
       "      <td>0.000</td>\n",
       "      <td>0.000</td>\n",
       "      <td>0.000</td>\n",
       "      <td>0.000</td>\n",
       "      <td>0.000</td>\n",
       "      <td>0.000</td>\n",
       "    </tr>\n",
       "    <tr>\n",
       "      <th>3</th>\n",
       "      <td>-0.530</td>\n",
       "      <td>0.018</td>\n",
       "      <td>0.000</td>\n",
       "      <td>0.000</td>\n",
       "      <td>-1.000</td>\n",
       "      <td>0.000</td>\n",
       "      <td>0.500</td>\n",
       "      <td>0.000</td>\n",
       "      <td>-1.250</td>\n",
       "      <td>-0.649</td>\n",
       "      <td>...</td>\n",
       "      <td>0.000</td>\n",
       "      <td>0.000</td>\n",
       "      <td>0.000</td>\n",
       "      <td>0.000</td>\n",
       "      <td>1.000</td>\n",
       "      <td>0.000</td>\n",
       "      <td>0.000</td>\n",
       "      <td>0.000</td>\n",
       "      <td>-1.000</td>\n",
       "      <td>0.000</td>\n",
       "    </tr>\n",
       "    <tr>\n",
       "      <th>4</th>\n",
       "      <td>0.644</td>\n",
       "      <td>0.982</td>\n",
       "      <td>0.000</td>\n",
       "      <td>0.000</td>\n",
       "      <td>-1.000</td>\n",
       "      <td>0.000</td>\n",
       "      <td>1.000</td>\n",
       "      <td>0.000</td>\n",
       "      <td>0.598</td>\n",
       "      <td>0.162</td>\n",
       "      <td>...</td>\n",
       "      <td>0.000</td>\n",
       "      <td>0.000</td>\n",
       "      <td>0.000</td>\n",
       "      <td>0.000</td>\n",
       "      <td>0.000</td>\n",
       "      <td>0.000</td>\n",
       "      <td>0.000</td>\n",
       "      <td>0.000</td>\n",
       "      <td>0.000</td>\n",
       "      <td>0.000</td>\n",
       "    </tr>\n",
       "    <tr>\n",
       "      <th>...</th>\n",
       "      <td>...</td>\n",
       "      <td>...</td>\n",
       "      <td>...</td>\n",
       "      <td>...</td>\n",
       "      <td>...</td>\n",
       "      <td>...</td>\n",
       "      <td>...</td>\n",
       "      <td>...</td>\n",
       "      <td>...</td>\n",
       "      <td>...</td>\n",
       "      <td>...</td>\n",
       "      <td>...</td>\n",
       "      <td>...</td>\n",
       "      <td>...</td>\n",
       "      <td>...</td>\n",
       "      <td>...</td>\n",
       "      <td>...</td>\n",
       "      <td>...</td>\n",
       "      <td>...</td>\n",
       "      <td>...</td>\n",
       "      <td>...</td>\n",
       "    </tr>\n",
       "    <tr>\n",
       "      <th>1453</th>\n",
       "      <td>-0.418</td>\n",
       "      <td>-0.413</td>\n",
       "      <td>0.000</td>\n",
       "      <td>0.000</td>\n",
       "      <td>0.000</td>\n",
       "      <td>0.000</td>\n",
       "      <td>0.000</td>\n",
       "      <td>0.000</td>\n",
       "      <td>0.576</td>\n",
       "      <td>0.162</td>\n",
       "      <td>...</td>\n",
       "      <td>0.000</td>\n",
       "      <td>0.000</td>\n",
       "      <td>0.000</td>\n",
       "      <td>0.000</td>\n",
       "      <td>0.000</td>\n",
       "      <td>0.000</td>\n",
       "      <td>0.000</td>\n",
       "      <td>0.000</td>\n",
       "      <td>0.000</td>\n",
       "      <td>0.000</td>\n",
       "    </tr>\n",
       "    <tr>\n",
       "      <th>1454</th>\n",
       "      <td>0.687</td>\n",
       "      <td>0.787</td>\n",
       "      <td>0.000</td>\n",
       "      <td>0.000</td>\n",
       "      <td>0.000</td>\n",
       "      <td>0.000</td>\n",
       "      <td>0.000</td>\n",
       "      <td>1.000</td>\n",
       "      <td>0.120</td>\n",
       "      <td>-0.162</td>\n",
       "      <td>...</td>\n",
       "      <td>0.000</td>\n",
       "      <td>0.000</td>\n",
       "      <td>0.000</td>\n",
       "      <td>0.000</td>\n",
       "      <td>0.000</td>\n",
       "      <td>0.000</td>\n",
       "      <td>0.000</td>\n",
       "      <td>0.000</td>\n",
       "      <td>0.000</td>\n",
       "      <td>0.000</td>\n",
       "    </tr>\n",
       "    <tr>\n",
       "      <th>1455</th>\n",
       "      <td>-0.204</td>\n",
       "      <td>-0.109</td>\n",
       "      <td>0.000</td>\n",
       "      <td>0.000</td>\n",
       "      <td>0.000</td>\n",
       "      <td>0.000</td>\n",
       "      <td>0.500</td>\n",
       "      <td>4.000</td>\n",
       "      <td>-0.685</td>\n",
       "      <td>0.324</td>\n",
       "      <td>...</td>\n",
       "      <td>0.000</td>\n",
       "      <td>0.000</td>\n",
       "      <td>0.000</td>\n",
       "      <td>0.000</td>\n",
       "      <td>0.000</td>\n",
       "      <td>0.000</td>\n",
       "      <td>0.000</td>\n",
       "      <td>0.000</td>\n",
       "      <td>0.000</td>\n",
       "      <td>0.000</td>\n",
       "    </tr>\n",
       "    <tr>\n",
       "      <th>1456</th>\n",
       "      <td>-0.101</td>\n",
       "      <td>0.059</td>\n",
       "      <td>0.000</td>\n",
       "      <td>0.000</td>\n",
       "      <td>0.000</td>\n",
       "      <td>0.000</td>\n",
       "      <td>-0.500</td>\n",
       "      <td>1.000</td>\n",
       "      <td>-0.489</td>\n",
       "      <td>0.054</td>\n",
       "      <td>...</td>\n",
       "      <td>0.000</td>\n",
       "      <td>0.000</td>\n",
       "      <td>0.000</td>\n",
       "      <td>0.000</td>\n",
       "      <td>0.000</td>\n",
       "      <td>0.000</td>\n",
       "      <td>0.000</td>\n",
       "      <td>0.000</td>\n",
       "      <td>0.000</td>\n",
       "      <td>0.000</td>\n",
       "    </tr>\n",
       "    <tr>\n",
       "      <th>1457</th>\n",
       "      <td>0.242</td>\n",
       "      <td>0.111</td>\n",
       "      <td>0.000</td>\n",
       "      <td>0.000</td>\n",
       "      <td>0.000</td>\n",
       "      <td>0.000</td>\n",
       "      <td>-0.500</td>\n",
       "      <td>1.000</td>\n",
       "      <td>-0.163</td>\n",
       "      <td>-0.784</td>\n",
       "      <td>...</td>\n",
       "      <td>0.000</td>\n",
       "      <td>0.000</td>\n",
       "      <td>0.000</td>\n",
       "      <td>0.000</td>\n",
       "      <td>0.000</td>\n",
       "      <td>0.000</td>\n",
       "      <td>0.000</td>\n",
       "      <td>0.000</td>\n",
       "      <td>0.000</td>\n",
       "      <td>0.000</td>\n",
       "    </tr>\n",
       "  </tbody>\n",
       "</table>\n",
       "<p>1458 rows × 254 columns</p>\n",
       "</div>"
      ],
      "text/plain": [
       "        0      1     2     3      4     5      6     7      8      9    ...  \\\n",
       "0    -0.256 -0.264 0.000 0.000  0.000 0.000  0.500 0.000  0.663  0.243  ...   \n",
       "1     0.470  0.031 0.000 0.000  0.000 0.000  0.000 3.000  0.076 -0.486  ...   \n",
       "2    -0.101  0.405 0.000 0.000 -1.000 0.000  0.500 0.000  0.620  0.216  ...   \n",
       "3    -0.530  0.018 0.000 0.000 -1.000 0.000  0.500 0.000 -1.250 -0.649  ...   \n",
       "4     0.644  0.982 0.000 0.000 -1.000 0.000  1.000 0.000  0.598  0.162  ...   \n",
       "...     ...    ...   ...   ...    ...   ...    ...   ...    ...    ...  ...   \n",
       "1453 -0.418 -0.413 0.000 0.000  0.000 0.000  0.000 0.000  0.576  0.162  ...   \n",
       "1454  0.687  0.787 0.000 0.000  0.000 0.000  0.000 1.000  0.120 -0.162  ...   \n",
       "1455 -0.204 -0.109 0.000 0.000  0.000 0.000  0.500 4.000 -0.685  0.324  ...   \n",
       "1456 -0.101  0.059 0.000 0.000  0.000 0.000 -0.500 1.000 -0.489  0.054  ...   \n",
       "1457  0.242  0.111 0.000 0.000  0.000 0.000 -0.500 1.000 -0.163 -0.784  ...   \n",
       "\n",
       "       244   245   246   247   248   249   250   251    252   253  \n",
       "0    0.000 0.000 0.000 0.000 0.000 0.000 0.000 0.000  0.000 0.000  \n",
       "1    0.000 0.000 0.000 0.000 0.000 0.000 0.000 0.000  0.000 0.000  \n",
       "2    0.000 0.000 0.000 0.000 0.000 0.000 0.000 0.000  0.000 0.000  \n",
       "3    0.000 0.000 0.000 0.000 1.000 0.000 0.000 0.000 -1.000 0.000  \n",
       "4    0.000 0.000 0.000 0.000 0.000 0.000 0.000 0.000  0.000 0.000  \n",
       "...    ...   ...   ...   ...   ...   ...   ...   ...    ...   ...  \n",
       "1453 0.000 0.000 0.000 0.000 0.000 0.000 0.000 0.000  0.000 0.000  \n",
       "1454 0.000 0.000 0.000 0.000 0.000 0.000 0.000 0.000  0.000 0.000  \n",
       "1455 0.000 0.000 0.000 0.000 0.000 0.000 0.000 0.000  0.000 0.000  \n",
       "1456 0.000 0.000 0.000 0.000 0.000 0.000 0.000 0.000  0.000 0.000  \n",
       "1457 0.000 0.000 0.000 0.000 0.000 0.000 0.000 0.000  0.000 0.000  \n",
       "\n",
       "[1458 rows x 254 columns]"
      ]
     },
     "execution_count": 56,
     "metadata": {},
     "output_type": "execute_result"
    }
   ],
   "source": [
    "pd.DataFrame(train)"
   ]
  },
  {
   "cell_type": "markdown",
   "id": "ambient-deployment",
   "metadata": {},
   "source": [
    "## 线性回归"
   ]
  },
  {
   "cell_type": "code",
   "execution_count": 3,
   "id": "tamil-mitchell",
   "metadata": {},
   "outputs": [],
   "source": [
    "from sklearn.linear_model import Ridge\n",
    "from sklearn.model_selection import cross_val_score"
   ]
  },
  {
   "cell_type": "code",
   "execution_count": 4,
   "id": "speaking-third",
   "metadata": {},
   "outputs": [],
   "source": [
    "alphas = np.logspace(-3,2,50)\n",
    "test_scores = []\n",
    "for alpha in alphas:\n",
    "    linear_ridge = Ridge(alpha)\n",
    "    test_score = np.sqrt(-cross_val_score(linear_ridge,train,y_train,cv=10,scoring=\"neg_mean_squared_error\"))\n",
    "    test_scores.append(np.mean(test_score))"
   ]
  },
  {
   "cell_type": "code",
   "execution_count": 5,
   "id": "solar-observer",
   "metadata": {},
   "outputs": [
    {
     "data": {
      "text/plain": [
       "Text(0.5, 1.0, 'Alpha vs cv Error')"
      ]
     },
     "execution_count": 5,
     "metadata": {},
     "output_type": "execute_result"
    },
    {
     "data": {
      "image/png": "[encoded data removed]",
      "text/plain": [
       "<Figure size 432x288 with 1 Axes>"
      ]
     },
     "metadata": {},
     "output_type": "display_data"
    }
   ],
   "source": [
    "plt.plot(alphas,test_scores)\n",
    "plt.title(\"Alpha vs cv Error\")"
   ]
  },
  {
   "cell_type": "code",
   "execution_count": 47,
   "id": "worthy-vietnamese",
   "metadata": {},
   "outputs": [
    {
     "data": {
      "text/plain": [
       "94.12"
      ]
     },
     "execution_count": 47,
     "metadata": {},
     "output_type": "execute_result"
    }
   ],
   "source": [
    "linear_ridge = Ridge(9)\n",
    "linear_ridge.fit(train,y_train)\n",
    "linear_ridge.score(train,y_train)\n",
    "\n",
    "acc_linear_ridge = round(linear_ridge.score(train,y_train) * 100, 2)\n",
    "acc_linear_ridge"
   ]
  },
  {
   "cell_type": "markdown",
   "id": "composite-oriental",
   "metadata": {},
   "source": [
    "## 随机森林"
   ]
  },
  {
   "cell_type": "code",
   "execution_count": 58,
   "id": "better-overview",
   "metadata": {},
   "outputs": [
    {
     "data": {
      "text/plain": [
       "Text(0.5, 1.0, 'N_estimator vs CV Error')"
      ]
     },
     "execution_count": 58,
     "metadata": {},
     "output_type": "execute_result"
    },
    {
     "data": {
      "image/png": "[encoded data removed]",
      "text/plain": [
       "<Figure size 432x288 with 1 Axes>"
      ]
     },
     "metadata": {},
     "output_type": "display_data"
    }
   ],
   "source": [
    "from sklearn.ensemble import RandomForestRegressor\n",
    "\n",
    "N_estimators = [50,100,150,200,260,350,400]\n",
    "test_scores = []\n",
    "for N in N_estimators:\n",
    "    clf =RandomForestRegressor(n_estimators=N,max_features = 0.3)\n",
    "    test_score = np.sqrt(-cross_val_score(clf , train , y_train,cv =5 ,scoring='neg_mean_squared_error'))\n",
    "    test_scores.append(np.mean(test_score))\n",
    "    \n",
    "plt.plot(N_estimators , test_scores)\n",
    "plt.title(\"N_estimator vs CV Error\")    "
   ]
  },
  {
   "cell_type": "code",
   "execution_count": 59,
   "id": "municipal-investment",
   "metadata": {},
   "outputs": [
    {
     "name": "stdout",
     "output_type": "stream",
     "text": [
      "0.9855727690842341\n"
     ]
    },
    {
     "data": {
      "text/plain": [
       "98.56"
      ]
     },
     "execution_count": 59,
     "metadata": {},
     "output_type": "execute_result"
    }
   ],
   "source": [
    "random_forest = RandomForestRegressor(n_estimators=350,max_features = 0.3\n",
    "                                       ,random_state=10)\n",
    "random_forest.fit(train, y_train)\n",
    "Y_pred = random_forest.predict(test)\n",
    "print(random_forest.score(train, y_train))\n",
    "acc_random_forest = round(random_forest.score(train, y_train) * 100, 2)\n",
    "acc_random_forest"
   ]
  },
  {
   "cell_type": "code",
   "execution_count": 48,
   "id": "important-germany",
   "metadata": {},
   "outputs": [
    {
     "name": "stdout",
     "output_type": "stream",
     "text": [
      "0.9855981343551148\n"
     ]
    },
    {
     "data": {
      "text/plain": [
       "98.56"
      ]
     },
     "execution_count": 48,
     "metadata": {},
     "output_type": "execute_result"
    }
   ],
   "source": [
    "random_forest = RandomForestRegressor(n_estimators=150,max_features = 0.3\n",
    "                                       ,random_state=10)\n",
    "random_forest.fit(train, y_train)\n",
    "Y_pred = random_forest.predict(test)\n",
    "print(random_forest.score(train, y_train))\n",
    "acc_random_forest = round(random_forest.score(train, y_train) * 100, 2)\n",
    "acc_random_forest"
   ]
  },
  {
   "cell_type": "markdown",
   "id": "applicable-hearts",
   "metadata": {},
   "source": [
    "## 将以上两种算法进行集成（集成学习）"
   ]
  },
  {
   "cell_type": "code",
   "execution_count": 49,
   "id": "sunrise-secondary",
   "metadata": {},
   "outputs": [
    {
     "data": {
      "text/plain": [
       "array([120801.7588565 , 156676.76288671, 176845.0084461 , ...,\n",
       "       162151.95212924, 112672.92998248, 219159.53457711])"
      ]
     },
     "execution_count": 49,
     "metadata": {},
     "output_type": "execute_result"
    }
   ],
   "source": [
    "ridge = Ridge(alpha = 9)\n",
    "rf = RandomForestRegressor(n_estimators=150 ,max_features = 0.3,random_state=10)\n",
    "ridge.fit(train , y_train)\n",
    "rf.fit(train , y_train)\n",
    "\n",
    "ridge_predict = ridge.predict(test)\n",
    "rf_predict =rf.predict(test)\n",
    "test_score =rf.score(train,y_train)\n",
    "# print(test_score)\n",
    "\n",
    "y_ridge = np.expm1(ridge_predict)\n",
    "y_rf =np.expm1(rf_predict)\n",
    "y_final = (y_ridge+y_rf)/2\n",
    "y_final"
   ]
  },
  {
   "cell_type": "markdown",
   "id": "piano-chester",
   "metadata": {},
   "source": [
    "## Bagging 袋装法 "
   ]
  },
  {
   "cell_type": "markdown",
   "id": "innocent-backing",
   "metadata": {},
   "source": [
    "Bagging是把很多小的分类器放在一起，综合最终结果："
   ]
  },
  {
   "cell_type": "code",
   "execution_count": 24,
   "id": "filled-travel",
   "metadata": {},
   "outputs": [],
   "source": [
    "from sklearn.ensemble import BaggingRegressor\n",
    "from sklearn.model_selection import cross_val_score"
   ]
  },
  {
   "cell_type": "code",
   "execution_count": 27,
   "id": "automatic-promotion",
   "metadata": {},
   "outputs": [
    {
     "data": {
      "text/plain": [
       "Text(0.5, 1.0, 'N_estimators_params vs CV Error')"
      ]
     },
     "execution_count": 27,
     "metadata": {},
     "output_type": "execute_result"
    },
    {
     "data": {
      "image/png": "[encoded data removed]",
      "text/plain": [
       "<Figure size 432x288 with 1 Axes>"
      ]
     },
     "metadata": {},
     "output_type": "display_data"
    }
   ],
   "source": [
    "N_estimators_params = [1 , 10 , 15, 20 ,25 ,30 ,40 ,50,60,70]\n",
    "test_scores = []\n",
    "for N in N_estimators_params:\n",
    "    clf =BaggingRegressor(n_estimators=N ,base_estimator = ridge)\n",
    "    test_score = np.sqrt(-cross_val_score(clf, train ,y_train,cv =10,scoring ='neg_mean_squared_error'))\n",
    "    test_scores.append(np.mean(test_score))\n",
    "\n",
    "    \n",
    "plt.plot(N_estimators_params ,test_scores)\n",
    "plt.title('N_estimators_params vs CV Error')"
   ]
  },
  {
   "cell_type": "code",
   "execution_count": 50,
   "id": "waiting-holmes",
   "metadata": {},
   "outputs": [
    {
     "name": "stdout",
     "output_type": "stream",
     "text": [
      "0.9403812781604651\n"
     ]
    },
    {
     "data": {
      "text/plain": [
       "94.04"
      ]
     },
     "execution_count": 50,
     "metadata": {},
     "output_type": "execute_result"
    }
   ],
   "source": [
    "bagging =BaggingRegressor(n_estimators=25 ,base_estimator =ridge)\n",
    "bagging.fit(train, y_train)\n",
    "print(bagging.score(train, y_train))\n",
    "acc_bagging = round(bagging.score(train, y_train) * 100, 2)\n",
    "acc_bagging"
   ]
  },
  {
   "cell_type": "markdown",
   "id": "prospective-turning",
   "metadata": {},
   "source": [
    "## Boosting 提升法"
   ]
  },
  {
   "cell_type": "markdown",
   "id": "literary-branch",
   "metadata": {},
   "source": [
    "Boosting 比Bagging 理论上更高级点，为啥叫“提升”，就是弄了很多分类器，按照顺序的一个分类器\n",
    "对上一个分类器做“提升”，让上一个分类器做得不好的地方给它重视（更多的权重）起来，\n",
    "下次分类器就知道那里跟该优化了。"
   ]
  },
  {
   "cell_type": "code",
   "execution_count": 29,
   "id": "willing-outreach",
   "metadata": {},
   "outputs": [
    {
     "data": {
      "text/plain": [
       "Text(0.5, 1.0, 'N_estimators_params vs CV Error')"
      ]
     },
     "execution_count": 29,
     "metadata": {},
     "output_type": "execute_result"
    },
    {
     "data": {
      "image/png": "[encoded data removed]",
      "text/plain": [
       "<Figure size 432x288 with 1 Axes>"
      ]
     },
     "metadata": {},
     "output_type": "display_data"
    }
   ],
   "source": [
    "from sklearn.ensemble import AdaBoostRegressor\n",
    "\n",
    "N_estimators_params = [1,10 ,15 ,18,25 ,30 ,40,50]\n",
    "test_scores = []\n",
    "ridge = Ridge(alpha = 15)\n",
    "for N in N_estimators_params:\n",
    "    clf =AdaBoostRegressor(n_estimators=N )# ,base_estimator =ridge)\n",
    "    test_score = np.sqrt(-cross_val_score(clf, train ,y_train,cv =10,scoring ='neg_mean_squared_error'))\n",
    "    test_scores.append(np.mean(test_score))\n",
    "plt.plot(N_estimators_params ,test_scores)\n",
    "plt.title('N_estimators_params vs CV Error')"
   ]
  },
  {
   "cell_type": "code",
   "execution_count": 51,
   "id": "moderate-processing",
   "metadata": {},
   "outputs": [
    {
     "name": "stdout",
     "output_type": "stream",
     "text": [
      "0.8679638465443994\n"
     ]
    },
    {
     "data": {
      "text/plain": [
       "86.8"
      ]
     },
     "execution_count": 51,
     "metadata": {},
     "output_type": "execute_result"
    }
   ],
   "source": [
    "adaboost =AdaBoostRegressor(n_estimators=18)\n",
    "adaboost.fit(train, y_train)\n",
    "print(adaboost.score(train, y_train))\n",
    "acc_adaboost = round(adaboost.score(train, y_train) * 100, 2)\n",
    "acc_adaboost"
   ]
  },
  {
   "cell_type": "markdown",
   "id": "proof-bacon",
   "metadata": {},
   "source": [
    "## XGBoost"
   ]
  },
  {
   "cell_type": "markdown",
   "id": "comparable-iraqi",
   "metadata": {},
   "source": [
    "看看kaggle界最神奇的XGBoost，华盛顿大学陈天奇大神研究的算法"
   ]
  },
  {
   "cell_type": "code",
   "execution_count": 32,
   "id": "collect-happening",
   "metadata": {},
   "outputs": [
    {
     "data": {
      "text/plain": [
       "Text(0.5, 1.0, 'max_dpth vs CV error')"
      ]
     },
     "execution_count": 32,
     "metadata": {},
     "output_type": "execute_result"
    },
    {
     "data": {
      "image/png": "[encoded data removed]",
      "text/plain": [
       "<Figure size 432x288 with 1 Axes>"
      ]
     },
     "metadata": {},
     "output_type": "display_data"
    }
   ],
   "source": [
    "from xgboost import XGBRegressor\n",
    "\n",
    "params =[1,2,3,4,5,6]\n",
    "test_scores =[]\n",
    "for param in params:\n",
    "    clf =XGBRegressor(max_depth=param)\n",
    "    test_score = np.sqrt(-cross_val_score(clf ,train ,y_train ,cv =10,scoring='neg_mean_squared_error'))\n",
    "    test_scores.append(np.mean(test_score))\n",
    "plt.plot(params, test_scores)\n",
    "plt.title('max_dpth vs CV error')"
   ]
  },
  {
   "cell_type": "code",
   "execution_count": 53,
   "id": "resistant-killing",
   "metadata": {},
   "outputs": [
    {
     "name": "stdout",
     "output_type": "stream",
     "text": [
      "0.9564430455734871\n"
     ]
    },
    {
     "data": {
      "text/plain": [
       "95.64"
      ]
     },
     "execution_count": 53,
     "metadata": {},
     "output_type": "execute_result"
    }
   ],
   "source": [
    "xgboost = XGBRegressor(max_depth=2)\n",
    "xgboost.fit(train ,y_train)\n",
    "xgboost_predict =xgboost.predict(test)\n",
    "test_score =xgboost.score(train,y_train)\n",
    "print(test_score)\n",
    "acc_xgboost = round(xgboost.score(train, y_train) * 100, 2)\n",
    "acc_xgboost"
   ]
  },
  {
   "cell_type": "markdown",
   "id": "distinct-database",
   "metadata": {},
   "source": [
    "## 效果比较"
   ]
  },
  {
   "cell_type": "code",
   "execution_count": 54,
   "id": "searching-exclusion",
   "metadata": {},
   "outputs": [
    {
     "data": {
      "text/html": [
       "<div>\n",
       "<style scoped>\n",
       "    .dataframe tbody tr th:only-of-type {\n",
       "        vertical-align: middle;\n",
       "    }\n",
       "\n",
       "    .dataframe tbody tr th {\n",
       "        vertical-align: top;\n",
       "    }\n",
       "\n",
       "    .dataframe thead th {\n",
       "        text-align: right;\n",
       "    }\n",
       "</style>\n",
       "<table border=\"1\" class=\"dataframe\">\n",
       "  <thead>\n",
       "    <tr style=\"text-align: right;\">\n",
       "      <th></th>\n",
       "      <th>Model</th>\n",
       "      <th>Score</th>\n",
       "    </tr>\n",
       "  </thead>\n",
       "  <tbody>\n",
       "    <tr>\n",
       "      <th>1</th>\n",
       "      <td>Random Forest</td>\n",
       "      <td>98.560</td>\n",
       "    </tr>\n",
       "    <tr>\n",
       "      <th>4</th>\n",
       "      <td>XGBoost</td>\n",
       "      <td>95.640</td>\n",
       "    </tr>\n",
       "    <tr>\n",
       "      <th>0</th>\n",
       "      <td>Linear Ridge</td>\n",
       "      <td>94.120</td>\n",
       "    </tr>\n",
       "    <tr>\n",
       "      <th>2</th>\n",
       "      <td>Bagging</td>\n",
       "      <td>94.040</td>\n",
       "    </tr>\n",
       "    <tr>\n",
       "      <th>3</th>\n",
       "      <td>Adaboost</td>\n",
       "      <td>86.800</td>\n",
       "    </tr>\n",
       "  </tbody>\n",
       "</table>\n",
       "</div>"
      ],
      "text/plain": [
       "           Model  Score\n",
       "1  Random Forest 98.560\n",
       "4        XGBoost 95.640\n",
       "0   Linear Ridge 94.120\n",
       "2        Bagging 94.040\n",
       "3       Adaboost 86.800"
      ]
     },
     "execution_count": 54,
     "metadata": {},
     "output_type": "execute_result"
    }
   ],
   "source": [
    "models = pd.DataFrame({\n",
    "    'Model': [ 'Linear Ridge','Random Forest','Bagging',\n",
    "              'Adaboost','XGBoost'],\n",
    "    'Score': [acc_linear_ridge,acc_random_forest,acc_bagging,\n",
    "              acc_adaboost,acc_xgboost]})\n",
    "\n",
    "models.sort_values(by='Score', ascending=False)"
   ]
  },
  {
   "cell_type": "code",
   "execution_count": null,
   "id": "loved-newark",
   "metadata": {},
   "outputs": [],
   "source": []
  },
  {
   "cell_type": "code",
   "execution_count": null,
   "id": "indonesian-middle",
   "metadata": {},
   "outputs": [],
   "source": []
  },
  {
   "cell_type": "code",
   "execution_count": null,
   "id": "south-banana",
   "metadata": {},
   "outputs": [],
   "source": []
  },
  {
   "cell_type": "code",
   "execution_count": null,
   "id": "changing-consensus",
   "metadata": {},
   "outputs": [],
   "source": []
  },
  {
   "cell_type": "code",
   "execution_count": null,
   "id": "available-kelly",
   "metadata": {},
   "outputs": [],
   "source": []
  },
  {
   "cell_type": "code",
   "execution_count": null,
   "id": "trying-regulation",
   "metadata": {},
   "outputs": [],
   "source": []
  },
  {
   "cell_type": "code",
   "execution_count": null,
   "id": "upper-sellers",
   "metadata": {},
   "outputs": [],
   "source": []
  },
  {
   "cell_type": "code",
   "execution_count": null,
   "id": "bored-child",
   "metadata": {},
   "outputs": [],
   "source": []
  },
  {
   "cell_type": "code",
   "execution_count": null,
   "id": "internal-bolivia",
   "metadata": {},
   "outputs": [],
   "source": []
  },
  {
   "cell_type": "markdown",
   "id": "separated-accused",
   "metadata": {},
   "source": [
    "## 建立模型"
   ]
  },
  {
   "cell_type": "code",
   "execution_count": 40,
   "id": "acoustic-living",
   "metadata": {
    "scrolled": true
   },
   "outputs": [
    {
     "name": "stdout",
     "output_type": "stream",
     "text": [
      "\n",
      "Lasso score: 0.1104 (0.0055)\n",
      "\n",
      "ElasticNet score: 0.1103 (0.0054)\n",
      "\n",
      "Kernel Ridge score: 0.1196 (0.0085)\n",
      "\n",
      "Gradient Boosting score: 0.1143 (0.0078)\n",
      "\n",
      "Xgboost score: 0.1159 (0.0057)\n",
      "\n",
      "LGBM score: 0.1206 (0.0057)\n",
      "\n"
     ]
    }
   ],
   "source": [
    "#建立模型\n",
    "from sklearn.linear_model import ElasticNet, Lasso\n",
    "from sklearn.ensemble import RandomForestRegressor, GradientBoostingRegressor\n",
    "from sklearn.kernel_ridge import KernelRidge\n",
    "from sklearn.preprocessing import RobustScaler\n",
    "from sklearn.base import BaseEstimator, TransformerMixin, RegressorMixin, clone\n",
    "from sklearn.model_selection import KFold, cross_val_score\n",
    "from sklearn.metrics import mean_squared_error\n",
    "import xgboost as xgb\n",
    "import lightgbm as lgb\n",
    "#标准化\n",
    "#有些时候，数据集中存在离群点，用Z-Score进行标准化，但是结果不理想，因为离群点在标准化后丧失了利群#特性。RobustScaler针对离群点做标准化处理，该方法对数据中心化的数据的缩放健壮性有更强的参数控制能#力。\n",
    "scaler = RobustScaler()\n",
    "train = scaler.fit_transform(train)\n",
    "test = scaler.transform(test)\n",
    "#评价函数\n",
    "#先定义一个评价函数。我们采用5折交叉验证。与比赛的评价标准一致，我们用Root-Mean-Squared-Error (RMSE)来为每个模型打分。\n",
    "#Validation function\n",
    "n_folds = 5\n",
    "#定义一个评价函数：\n",
    "def rmsle_cv(model):\n",
    "    kf = KFold(n_folds, shuffle=True, random_state=42).get_n_splits(train)\n",
    "    rmse= np.sqrt(-cross_val_score(model, train, y_train, scoring=\"neg_mean_squared_error\", cv = kf))\n",
    "    return(rmse)\n",
    "#基本模型\n",
    "lasso = Lasso(alpha=0.0005, random_state=1)\n",
    "#弹性网络\n",
    "ENet = ElasticNet(alpha=0.0005, l1_ratio=.9, random_state=3)\n",
    "#核岭回归\n",
    "KRR = KernelRidge(alpha=0.6, kernel='polynomial', degree=2, coef0=2.5)\n",
    "#梯度提升回归\n",
    "GBoost = GradientBoostingRegressor(n_estimators=1000, learning_rate=0.05,\n",
    "                                   max_depth=4, max_features='sqrt',\n",
    "                                   min_samples_leaf=15, min_samples_split=10,\n",
    "                                   loss='huber', random_state =5)\n",
    "#XGBoost\n",
    "model_xgb = xgb.XGBRegressor(colsample_bytree=0.5, gamma=0.05,\n",
    "                             learning_rate=0.05, max_depth=3,\n",
    "                             min_child_weight=1.8, n_estimators=1000,\n",
    "                             reg_alpha=0.5, reg_lambda=0.8,\n",
    "                             subsample=0.5,\n",
    "                             random_state =7, nthread = -1)\n",
    "#LightGBM\n",
    "model_lgb = lgb.LGBMRegressor(objective='regression',num_leaves=5,\n",
    "                              learning_rate=0.05, n_estimators=1000)\n",
    "#看看他们的表现\n",
    "score = rmsle_cv(lasso)\n",
    "print(\"\\nLasso score: {:.4f} ({:.4f})\\n\".format(score.mean(), score.std()))#std标准差\n",
    "score = rmsle_cv(ENet)\n",
    "print(\"ElasticNet score: {:.4f} ({:.4f})\\n\".format(score.mean(), score.std()))\n",
    "score = rmsle_cv(KRR)\n",
    "print(\"Kernel Ridge score: {:.4f} ({:.4f})\\n\".format(score.mean(), score.std()))\n",
    "score = rmsle_cv(GBoost)\n",
    "print(\"Gradient Boosting score: {:.4f} ({:.4f})\\n\".format(score.mean(), score.std()))\n",
    "score = rmsle_cv(model_xgb)\n",
    "print(\"Xgboost score: {:.4f} ({:.4f})\\n\".format(score.mean(), score.std()))\n",
    "score = rmsle_cv(model_lgb)\n",
    "print(\"LGBM score: {:.4f} ({:.4f})\\n\" .format(score.mean(), score.std()))"
   ]
  },
  {
   "cell_type": "markdown",
   "id": "celtic-vampire",
   "metadata": {},
   "source": [
    "## Stacking ------ 集成学习"
   ]
  },
  {
   "cell_type": "code",
   "execution_count": 41,
   "id": "computational-reconstruction",
   "metadata": {},
   "outputs": [
    {
     "name": "stdout",
     "output_type": "stream",
     "text": [
      "Stacking Averaged models score: 0.1073 (0.0055)\n"
     ]
    }
   ],
   "source": [
    "#集成学习往往能进一步提高模型的准确性，Stacking是其中一种效果颇好的方法，简单来说就是学习各个基本模型的预测值来预测最终的结果。详细步骤可参考：https://www.jianshu.com/p/59313f43916f\n",
    "#这里我们用ENet、KRR和GBoost作为第一层学习器，用Lasso作为第二层学习器：\n",
    "class StackingAveragedModels(BaseEstimator, RegressorMixin, TransformerMixin):\n",
    "    def __init__(self, base_models, meta_model, n_folds=5):\n",
    "        self.base_models = base_models\n",
    "        self.meta_model = meta_model\n",
    "        self.n_folds = n_folds\n",
    " \n",
    "    # We again fit the data on clones of the original models\n",
    "    def fit(self, X, y):\n",
    "        self.base_models_ = [list() for x in self.base_models]\n",
    "        self.meta_model_ = clone(self.meta_model)\n",
    "        kfold = KFold(n_splits=self.n_folds, shuffle=True, random_state=156)\n",
    " \n",
    "        # Train cloned base models then create out-of-fold predictions\n",
    "        # that are needed to train the cloned meta-model\n",
    "        out_of_fold_predictions = np.zeros((X.shape[0], len(self.base_models)))\n",
    "        for i, model in enumerate(self.base_models):\n",
    "            for train_index, holdout_index in kfold.split(X, y):\n",
    "                instance = clone(model)\n",
    "                instance.fit(X[train_index], y[train_index])\n",
    "                self.base_models_[i].append(instance)\n",
    "                y_pred = instance.predict(X[holdout_index])\n",
    "                out_of_fold_predictions[holdout_index, i] = y_pred\n",
    " \n",
    "        # Now train the cloned  meta-model using the out-of-fold predictions as new feature\n",
    "        self.meta_model_.fit(out_of_fold_predictions, y)\n",
    "        return self\n",
    " \n",
    "    # Do the predictions of all base models on the test data and use the averaged predictions as\n",
    "    # meta-features for the final prediction which is done by the meta-model\n",
    "    def predict(self, X):\n",
    "        meta_features = np.column_stack([\n",
    "            np.column_stack([model.predict(X) for model in base_models]).mean(axis=1)\n",
    "            for base_models in self.base_models_])\n",
    "        return self.meta_model_.predict(meta_features)\n",
    "#Stacking的交叉验证评分：\n",
    "stacked_averaged_models = StackingAveragedModels(base_models = (ENet, GBoost, KRR),\n",
    "                                                 meta_model = lasso)\n",
    "score = rmsle_cv(stacked_averaged_models)\n",
    "print(\"Stacking Averaged models score: {:.4f} ({:.4f})\".format(score.mean(), score.std()))"
   ]
  },
  {
   "cell_type": "markdown",
   "id": "cardiovascular-homeless",
   "metadata": {},
   "source": [
    "## 最终模型"
   ]
  },
  {
   "cell_type": "code",
   "execution_count": 42,
   "id": "incorporate-demographic",
   "metadata": {},
   "outputs": [
    {
     "name": "stdout",
     "output_type": "stream",
     "text": [
      "0.08471101580601083\n",
      "0.08343850789878758\n",
      "0.06114499058757826\n",
      "RMSLE score on train data:\n",
      "0.07894580711325029\n"
     ]
    }
   ],
   "source": [
    "#建立最终模型\n",
    "#我们将XGBoost、LightGBM和StackedRegressor以加权平均的方式融合在一起，建立最终的预测模型。\n",
    "#先定义一个评价函数：\n",
    "def rmsle(y, y_pred):\n",
    "    return np.sqrt(mean_squared_error(y, y_pred))\n",
    "#用整个训练集训练模型，预测测试集的房价，并给出模型在训练集上的评分。\n",
    "#StackedRegressor\n",
    "stacked_averaged_models.fit(train, y_train)\n",
    "stacked_train_pred = stacked_averaged_models.predict(train)\n",
    "stacked_pred = np.expm1(stacked_averaged_models.predict(test))#np.loglp计算加一后的对数，其逆运算是np.expm1；\n",
    "print(rmsle(y_train, stacked_train_pred))\n",
    "#XGBoost\n",
    "model_xgb.fit(train, y_train)\n",
    "xgb_train_pred = model_xgb.predict(train)\n",
    "xgb_pred = np.expm1(model_xgb.predict(test))\n",
    "print(rmsle(y_train, xgb_train_pred))\n",
    "#LightGBM\n",
    "model_lgb.fit(train, y_train)\n",
    "lgb_train_pred = model_lgb.predict(train)\n",
    "lgb_pred = np.expm1(model_lgb.predict(test))\n",
    "print(rmsle(y_train, lgb_train_pred))\n",
    "#融合模型的评分：\n",
    "print('RMSE score on train data:')\n",
    "print(rmsle(y_train,stacked_train_pred*0.70 + xgb_train_pred*0.15 + lgb_train_pred*0.15))\n",
    "#预测\n",
    "ensemble = stacked_pred*0.70 + xgb_pred*0.15 + lgb_pred*0.15\n",
    "#生成提交文件\n",
    "sub = pd.DataFrame()\n",
    "sub['Id'] = test_ID\n",
    "sub['SalePrice'] = ensemble\n",
    "sub.to_csv('submission3.csv',index=False)\n",
    "#kaggle:0.11652"
   ]
  },
  {
   "cell_type": "code",
   "execution_count": null,
   "id": "unusual-trademark",
   "metadata": {},
   "outputs": [],
   "source": []
  },
  {
   "cell_type": "code",
   "execution_count": null,
   "id": "liberal-lotus",
   "metadata": {},
   "outputs": [],
   "source": []
  },
  {
   "cell_type": "code",
   "execution_count": null,
   "id": "respected-johnson",
   "metadata": {},
   "outputs": [],
   "source": []
  },
  {
   "cell_type": "code",
   "execution_count": null,
   "id": "opposite-finnish",
   "metadata": {},
   "outputs": [],
   "source": []
  },
  {
   "cell_type": "code",
   "execution_count": null,
   "id": "professional-mambo",
   "metadata": {},
   "outputs": [],
   "source": []
  }
 ],
 "metadata": {
  "kernelspec": {
   "display_name": "Python 36",
   "language": "python",
   "name": "py3.6"
  },
  "language_info": {
   "codemirror_mode": {
    "name": "ipython",
    "version": 3
   },
   "file_extension": ".py",
   "mimetype": "text/x-python",
   "name": "python",
   "nbconvert_exporter": "python",
   "pygments_lexer": "ipython3",
   "version": "3.6.8"
  },
  "toc": {
   "base_numbering": 1,
   "nav_menu": {},
   "number_sections": true,
   "sideBar": true,
   "skip_h1_title": false,
   "title_cell": "Table of Contents",
   "title_sidebar": "Contents",
   "toc_cell": false,
   "toc_position": {
    "height": "calc(100% - 180px)",
    "left": "10px",
    "top": "150px",
    "width": "234px"
   },
   "toc_section_display": true,
   "toc_window_display": true
  }
 },
 "nbformat": 4,
 "nbformat_minor": 5
}
