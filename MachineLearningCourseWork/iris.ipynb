{
 "cells": [
  {
   "cell_type": "code",
   "execution_count": 23,
   "id": "defined-ending",
   "metadata": {},
   "outputs": [],
   "source": [
    "from sklearn import svm\n",
    "from sklearn.model_selection import train_test_split\n",
    "import numpy as np\n",
    "import pandas as pd\n",
    "from sklearn.datasets import load_iris\n",
    "import matplotlib as mpl\n",
    "import matplotlib.pyplot as plt\n",
    "from sklearn.model_selection import cross_val_score\n",
    "from sklearn.metrics import roc_auc_score, recall_score"
   ]
  },
  {
   "cell_type": "code",
   "execution_count": 24,
   "id": "valuable-arthur",
   "metadata": {},
   "outputs": [],
   "source": [
    "iris = load_iris()"
   ]
  },
  {
   "cell_type": "code",
   "execution_count": 25,
   "id": "julian-soccer",
   "metadata": {},
   "outputs": [],
   "source": [
    "data = iris.data"
   ]
  },
  {
   "cell_type": "code",
   "execution_count": 26,
   "id": "announced-discretion",
   "metadata": {},
   "outputs": [
    {
     "data": {
      "text/plain": [
       "[0, 1, 2]"
      ]
     },
     "execution_count": 26,
     "metadata": {},
     "output_type": "execute_result"
    }
   ],
   "source": [
    "list(set(iris.target))"
   ]
  },
  {
   "cell_type": "code",
   "execution_count": 27,
   "id": "taken-guatemala",
   "metadata": {
    "collapsed": true
   },
   "outputs": [
    {
     "data": {
      "text/plain": [
       "array([[5.1, 3.5, 1.4, 0.2, 0. ],\n",
       "       [4.9, 3. , 1.4, 0.2, 0. ],\n",
       "       [4.7, 3.2, 1.3, 0.2, 0. ],\n",
       "       [4.6, 3.1, 1.5, 0.2, 0. ],\n",
       "       [5. , 3.6, 1.4, 0.2, 0. ],\n",
       "       [5.4, 3.9, 1.7, 0.4, 0. ],\n",
       "       [4.6, 3.4, 1.4, 0.3, 0. ],\n",
       "       [5. , 3.4, 1.5, 0.2, 0. ],\n",
       "       [4.4, 2.9, 1.4, 0.2, 0. ],\n",
       "       [4.9, 3.1, 1.5, 0.1, 0. ],\n",
       "       [5.4, 3.7, 1.5, 0.2, 0. ],\n",
       "       [4.8, 3.4, 1.6, 0.2, 0. ],\n",
       "       [4.8, 3. , 1.4, 0.1, 0. ],\n",
       "       [4.3, 3. , 1.1, 0.1, 0. ],\n",
       "       [5.8, 4. , 1.2, 0.2, 0. ],\n",
       "       [5.7, 4.4, 1.5, 0.4, 0. ],\n",
       "       [5.4, 3.9, 1.3, 0.4, 0. ],\n",
       "       [5.1, 3.5, 1.4, 0.3, 0. ],\n",
       "       [5.7, 3.8, 1.7, 0.3, 0. ],\n",
       "       [5.1, 3.8, 1.5, 0.3, 0. ],\n",
       "       [5.4, 3.4, 1.7, 0.2, 0. ],\n",
       "       [5.1, 3.7, 1.5, 0.4, 0. ],\n",
       "       [4.6, 3.6, 1. , 0.2, 0. ],\n",
       "       [5.1, 3.3, 1.7, 0.5, 0. ],\n",
       "       [4.8, 3.4, 1.9, 0.2, 0. ],\n",
       "       [5. , 3. , 1.6, 0.2, 0. ],\n",
       "       [5. , 3.4, 1.6, 0.4, 0. ],\n",
       "       [5.2, 3.5, 1.5, 0.2, 0. ],\n",
       "       [5.2, 3.4, 1.4, 0.2, 0. ],\n",
       "       [4.7, 3.2, 1.6, 0.2, 0. ],\n",
       "       [4.8, 3.1, 1.6, 0.2, 0. ],\n",
       "       [5.4, 3.4, 1.5, 0.4, 0. ],\n",
       "       [5.2, 4.1, 1.5, 0.1, 0. ],\n",
       "       [5.5, 4.2, 1.4, 0.2, 0. ],\n",
       "       [4.9, 3.1, 1.5, 0.2, 0. ],\n",
       "       [5. , 3.2, 1.2, 0.2, 0. ],\n",
       "       [5.5, 3.5, 1.3, 0.2, 0. ],\n",
       "       [4.9, 3.6, 1.4, 0.1, 0. ],\n",
       "       [4.4, 3. , 1.3, 0.2, 0. ],\n",
       "       [5.1, 3.4, 1.5, 0.2, 0. ],\n",
       "       [5. , 3.5, 1.3, 0.3, 0. ],\n",
       "       [4.5, 2.3, 1.3, 0.3, 0. ],\n",
       "       [4.4, 3.2, 1.3, 0.2, 0. ],\n",
       "       [5. , 3.5, 1.6, 0.6, 0. ],\n",
       "       [5.1, 3.8, 1.9, 0.4, 0. ],\n",
       "       [4.8, 3. , 1.4, 0.3, 0. ],\n",
       "       [5.1, 3.8, 1.6, 0.2, 0. ],\n",
       "       [4.6, 3.2, 1.4, 0.2, 0. ],\n",
       "       [5.3, 3.7, 1.5, 0.2, 0. ],\n",
       "       [5. , 3.3, 1.4, 0.2, 0. ],\n",
       "       [7. , 3.2, 4.7, 1.4, 1. ],\n",
       "       [6.4, 3.2, 4.5, 1.5, 1. ],\n",
       "       [6.9, 3.1, 4.9, 1.5, 1. ],\n",
       "       [5.5, 2.3, 4. , 1.3, 1. ],\n",
       "       [6.5, 2.8, 4.6, 1.5, 1. ],\n",
       "       [5.7, 2.8, 4.5, 1.3, 1. ],\n",
       "       [6.3, 3.3, 4.7, 1.6, 1. ],\n",
       "       [4.9, 2.4, 3.3, 1. , 1. ],\n",
       "       [6.6, 2.9, 4.6, 1.3, 1. ],\n",
       "       [5.2, 2.7, 3.9, 1.4, 1. ],\n",
       "       [5. , 2. , 3.5, 1. , 1. ],\n",
       "       [5.9, 3. , 4.2, 1.5, 1. ],\n",
       "       [6. , 2.2, 4. , 1. , 1. ],\n",
       "       [6.1, 2.9, 4.7, 1.4, 1. ],\n",
       "       [5.6, 2.9, 3.6, 1.3, 1. ],\n",
       "       [6.7, 3.1, 4.4, 1.4, 1. ],\n",
       "       [5.6, 3. , 4.5, 1.5, 1. ],\n",
       "       [5.8, 2.7, 4.1, 1. , 1. ],\n",
       "       [6.2, 2.2, 4.5, 1.5, 1. ],\n",
       "       [5.6, 2.5, 3.9, 1.1, 1. ],\n",
       "       [5.9, 3.2, 4.8, 1.8, 1. ],\n",
       "       [6.1, 2.8, 4. , 1.3, 1. ],\n",
       "       [6.3, 2.5, 4.9, 1.5, 1. ],\n",
       "       [6.1, 2.8, 4.7, 1.2, 1. ],\n",
       "       [6.4, 2.9, 4.3, 1.3, 1. ],\n",
       "       [6.6, 3. , 4.4, 1.4, 1. ],\n",
       "       [6.8, 2.8, 4.8, 1.4, 1. ],\n",
       "       [6.7, 3. , 5. , 1.7, 1. ],\n",
       "       [6. , 2.9, 4.5, 1.5, 1. ],\n",
       "       [5.7, 2.6, 3.5, 1. , 1. ],\n",
       "       [5.5, 2.4, 3.8, 1.1, 1. ],\n",
       "       [5.5, 2.4, 3.7, 1. , 1. ],\n",
       "       [5.8, 2.7, 3.9, 1.2, 1. ],\n",
       "       [6. , 2.7, 5.1, 1.6, 1. ],\n",
       "       [5.4, 3. , 4.5, 1.5, 1. ],\n",
       "       [6. , 3.4, 4.5, 1.6, 1. ],\n",
       "       [6.7, 3.1, 4.7, 1.5, 1. ],\n",
       "       [6.3, 2.3, 4.4, 1.3, 1. ],\n",
       "       [5.6, 3. , 4.1, 1.3, 1. ],\n",
       "       [5.5, 2.5, 4. , 1.3, 1. ],\n",
       "       [5.5, 2.6, 4.4, 1.2, 1. ],\n",
       "       [6.1, 3. , 4.6, 1.4, 1. ],\n",
       "       [5.8, 2.6, 4. , 1.2, 1. ],\n",
       "       [5. , 2.3, 3.3, 1. , 1. ],\n",
       "       [5.6, 2.7, 4.2, 1.3, 1. ],\n",
       "       [5.7, 3. , 4.2, 1.2, 1. ],\n",
       "       [5.7, 2.9, 4.2, 1.3, 1. ],\n",
       "       [6.2, 2.9, 4.3, 1.3, 1. ],\n",
       "       [5.1, 2.5, 3. , 1.1, 1. ],\n",
       "       [5.7, 2.8, 4.1, 1.3, 1. ],\n",
       "       [6.3, 3.3, 6. , 2.5, 2. ],\n",
       "       [5.8, 2.7, 5.1, 1.9, 2. ],\n",
       "       [7.1, 3. , 5.9, 2.1, 2. ],\n",
       "       [6.3, 2.9, 5.6, 1.8, 2. ],\n",
       "       [6.5, 3. , 5.8, 2.2, 2. ],\n",
       "       [7.6, 3. , 6.6, 2.1, 2. ],\n",
       "       [4.9, 2.5, 4.5, 1.7, 2. ],\n",
       "       [7.3, 2.9, 6.3, 1.8, 2. ],\n",
       "       [6.7, 2.5, 5.8, 1.8, 2. ],\n",
       "       [7.2, 3.6, 6.1, 2.5, 2. ],\n",
       "       [6.5, 3.2, 5.1, 2. , 2. ],\n",
       "       [6.4, 2.7, 5.3, 1.9, 2. ],\n",
       "       [6.8, 3. , 5.5, 2.1, 2. ],\n",
       "       [5.7, 2.5, 5. , 2. , 2. ],\n",
       "       [5.8, 2.8, 5.1, 2.4, 2. ],\n",
       "       [6.4, 3.2, 5.3, 2.3, 2. ],\n",
       "       [6.5, 3. , 5.5, 1.8, 2. ],\n",
       "       [7.7, 3.8, 6.7, 2.2, 2. ],\n",
       "       [7.7, 2.6, 6.9, 2.3, 2. ],\n",
       "       [6. , 2.2, 5. , 1.5, 2. ],\n",
       "       [6.9, 3.2, 5.7, 2.3, 2. ],\n",
       "       [5.6, 2.8, 4.9, 2. , 2. ],\n",
       "       [7.7, 2.8, 6.7, 2. , 2. ],\n",
       "       [6.3, 2.7, 4.9, 1.8, 2. ],\n",
       "       [6.7, 3.3, 5.7, 2.1, 2. ],\n",
       "       [7.2, 3.2, 6. , 1.8, 2. ],\n",
       "       [6.2, 2.8, 4.8, 1.8, 2. ],\n",
       "       [6.1, 3. , 4.9, 1.8, 2. ],\n",
       "       [6.4, 2.8, 5.6, 2.1, 2. ],\n",
       "       [7.2, 3. , 5.8, 1.6, 2. ],\n",
       "       [7.4, 2.8, 6.1, 1.9, 2. ],\n",
       "       [7.9, 3.8, 6.4, 2. , 2. ],\n",
       "       [6.4, 2.8, 5.6, 2.2, 2. ],\n",
       "       [6.3, 2.8, 5.1, 1.5, 2. ],\n",
       "       [6.1, 2.6, 5.6, 1.4, 2. ],\n",
       "       [7.7, 3. , 6.1, 2.3, 2. ],\n",
       "       [6.3, 3.4, 5.6, 2.4, 2. ],\n",
       "       [6.4, 3.1, 5.5, 1.8, 2. ],\n",
       "       [6. , 3. , 4.8, 1.8, 2. ],\n",
       "       [6.9, 3.1, 5.4, 2.1, 2. ],\n",
       "       [6.7, 3.1, 5.6, 2.4, 2. ],\n",
       "       [6.9, 3.1, 5.1, 2.3, 2. ],\n",
       "       [5.8, 2.7, 5.1, 1.9, 2. ],\n",
       "       [6.8, 3.2, 5.9, 2.3, 2. ],\n",
       "       [6.7, 3.3, 5.7, 2.5, 2. ],\n",
       "       [6.7, 3. , 5.2, 2.3, 2. ],\n",
       "       [6.3, 2.5, 5. , 1.9, 2. ],\n",
       "       [6.5, 3. , 5.2, 2. , 2. ],\n",
       "       [6.2, 3.4, 5.4, 2.3, 2. ],\n",
       "       [5.9, 3. , 5.1, 1.8, 2. ]])"
      ]
     },
     "execution_count": 27,
     "metadata": {},
     "output_type": "execute_result"
    }
   ],
   "source": [
    "data = np.column_stack((data,iris.target))\n",
    "data"
   ]
  },
  {
   "cell_type": "code",
   "execution_count": 28,
   "id": "accessory-cheat",
   "metadata": {},
   "outputs": [],
   "source": [
    "x, y = np.split(data, (4,), axis=1)"
   ]
  },
  {
   "cell_type": "code",
   "execution_count": 29,
   "id": "affected-triple",
   "metadata": {
    "collapsed": true
   },
   "outputs": [
    {
     "data": {
      "text/plain": [
       "array([[0.],\n",
       "       [0.],\n",
       "       [0.],\n",
       "       [0.],\n",
       "       [0.],\n",
       "       [0.],\n",
       "       [0.],\n",
       "       [0.],\n",
       "       [0.],\n",
       "       [0.],\n",
       "       [0.],\n",
       "       [0.],\n",
       "       [0.],\n",
       "       [0.],\n",
       "       [0.],\n",
       "       [0.],\n",
       "       [0.],\n",
       "       [0.],\n",
       "       [0.],\n",
       "       [0.],\n",
       "       [0.],\n",
       "       [0.],\n",
       "       [0.],\n",
       "       [0.],\n",
       "       [0.],\n",
       "       [0.],\n",
       "       [0.],\n",
       "       [0.],\n",
       "       [0.],\n",
       "       [0.],\n",
       "       [0.],\n",
       "       [0.],\n",
       "       [0.],\n",
       "       [0.],\n",
       "       [0.],\n",
       "       [0.],\n",
       "       [0.],\n",
       "       [0.],\n",
       "       [0.],\n",
       "       [0.],\n",
       "       [0.],\n",
       "       [0.],\n",
       "       [0.],\n",
       "       [0.],\n",
       "       [0.],\n",
       "       [0.],\n",
       "       [0.],\n",
       "       [0.],\n",
       "       [0.],\n",
       "       [0.],\n",
       "       [1.],\n",
       "       [1.],\n",
       "       [1.],\n",
       "       [1.],\n",
       "       [1.],\n",
       "       [1.],\n",
       "       [1.],\n",
       "       [1.],\n",
       "       [1.],\n",
       "       [1.],\n",
       "       [1.],\n",
       "       [1.],\n",
       "       [1.],\n",
       "       [1.],\n",
       "       [1.],\n",
       "       [1.],\n",
       "       [1.],\n",
       "       [1.],\n",
       "       [1.],\n",
       "       [1.],\n",
       "       [1.],\n",
       "       [1.],\n",
       "       [1.],\n",
       "       [1.],\n",
       "       [1.],\n",
       "       [1.],\n",
       "       [1.],\n",
       "       [1.],\n",
       "       [1.],\n",
       "       [1.],\n",
       "       [1.],\n",
       "       [1.],\n",
       "       [1.],\n",
       "       [1.],\n",
       "       [1.],\n",
       "       [1.],\n",
       "       [1.],\n",
       "       [1.],\n",
       "       [1.],\n",
       "       [1.],\n",
       "       [1.],\n",
       "       [1.],\n",
       "       [1.],\n",
       "       [1.],\n",
       "       [1.],\n",
       "       [1.],\n",
       "       [1.],\n",
       "       [1.],\n",
       "       [1.],\n",
       "       [1.],\n",
       "       [2.],\n",
       "       [2.],\n",
       "       [2.],\n",
       "       [2.],\n",
       "       [2.],\n",
       "       [2.],\n",
       "       [2.],\n",
       "       [2.],\n",
       "       [2.],\n",
       "       [2.],\n",
       "       [2.],\n",
       "       [2.],\n",
       "       [2.],\n",
       "       [2.],\n",
       "       [2.],\n",
       "       [2.],\n",
       "       [2.],\n",
       "       [2.],\n",
       "       [2.],\n",
       "       [2.],\n",
       "       [2.],\n",
       "       [2.],\n",
       "       [2.],\n",
       "       [2.],\n",
       "       [2.],\n",
       "       [2.],\n",
       "       [2.],\n",
       "       [2.],\n",
       "       [2.],\n",
       "       [2.],\n",
       "       [2.],\n",
       "       [2.],\n",
       "       [2.],\n",
       "       [2.],\n",
       "       [2.],\n",
       "       [2.],\n",
       "       [2.],\n",
       "       [2.],\n",
       "       [2.],\n",
       "       [2.],\n",
       "       [2.],\n",
       "       [2.],\n",
       "       [2.],\n",
       "       [2.],\n",
       "       [2.],\n",
       "       [2.],\n",
       "       [2.],\n",
       "       [2.],\n",
       "       [2.],\n",
       "       [2.]])"
      ]
     },
     "execution_count": 29,
     "metadata": {},
     "output_type": "execute_result"
    }
   ],
   "source": [
    "y"
   ]
  },
  {
   "cell_type": "code",
   "execution_count": 30,
   "id": "occupied-mountain",
   "metadata": {},
   "outputs": [],
   "source": [
    "x = x[:, :2]\n",
    "x_train, x_test, y_train, y_test = train_test_split(x, y, random_state=1, train_size=0.6)"
   ]
  },
  {
   "cell_type": "code",
   "execution_count": 31,
   "id": "unique-dairy",
   "metadata": {},
   "outputs": [
    {
     "data": {
      "text/plain": [
       "(90, 2)"
      ]
     },
     "execution_count": 31,
     "metadata": {},
     "output_type": "execute_result"
    }
   ],
   "source": [
    "x_train.shape"
   ]
  },
  {
   "cell_type": "code",
   "execution_count": 70,
   "id": "present-syndication",
   "metadata": {},
   "outputs": [
    {
     "name": "stdout",
     "output_type": "stream",
     "text": [
      "linear 's testing accuracy 0.783333\n",
      "00:00:001995\n",
      "poly 's testing accuracy 0.800000\n",
      "00:00:002993\n",
      "rbf 's testing accuracy 0.800000\n",
      "00:00:004987\n",
      "sigmoid 's testing accuracy 0.316667\n",
      "00:00:005985\n"
     ]
    }
   ],
   "source": [
    "from time import time #随时监控我们的模型的运行时间\n",
    "import datetime\n",
    "times = time() #因为SVM是计算量很大的模型，所以我们需要时刻监控我们的模型运行时间\n",
    "for kernel in [\"linear\",\"poly\",\"rbf\",\"sigmoid\"]:\n",
    "    clf = svm.SVC(kernel = kernel\n",
    "             ,gamma=\"auto\"\n",
    "             ,degree = 1\n",
    "             ,cache_size = 2000 #设定越大，代表允许我们的算法使用越多的内存来进行计算\n",
    "             ,decision_function_shape='ovr'\n",
    "             ,C=0.8\n",
    "            ).fit(x_train, y_train.ravel())\n",
    "    result = clf.predict(x_test) #获取模型的预测结果\n",
    "    score = clf.score(x_test,y_test.ravel()) #接口score返回的是准确度accuracy\n",
    "    print(\"%s 's testing accuracy %f\" %(kernel,score))\n",
    "    print(datetime.datetime.fromtimestamp(time()-times).strftime(\"%M:%S:%f\"))"
   ]
  },
  {
   "cell_type": "code",
   "execution_count": null,
   "id": "exempt-producer",
   "metadata": {},
   "outputs": [],
   "source": []
  },
  {
   "cell_type": "code",
   "execution_count": 71,
   "id": "medical-country",
   "metadata": {},
   "outputs": [],
   "source": [
    "clf = svm.SVC(C=0.8, kernel='rbf', gamma=\"auto\", decision_function_shape='ovr')"
   ]
  },
  {
   "cell_type": "code",
   "execution_count": 72,
   "id": "favorite-footwear",
   "metadata": {},
   "outputs": [
    {
     "data": {
      "text/plain": [
       "SVC(C=0.8, gamma='auto')"
      ]
     },
     "execution_count": 72,
     "metadata": {},
     "output_type": "execute_result"
    }
   ],
   "source": [
    "clf.fit(x_train, y_train.ravel())"
   ]
  },
  {
   "cell_type": "code",
   "execution_count": 74,
   "id": "greater-yugoslavia",
   "metadata": {},
   "outputs": [
    {
     "name": "stdout",
     "output_type": "stream",
     "text": [
      "0.8111111111111111\n",
      "0.8111111111111111\n",
      "0.8\n",
      "0.8\n"
     ]
    }
   ],
   "source": [
    " # 精度\n",
    "print (clf.score(x_train, y_train))\n",
    "y_hat = clf.predict(x_train)\n",
    "precision = sum(y_hat == y_train.ravel())/y_train.shape[0]\n",
    "print(precision)\n",
    "print (clf.score(x_test, y_test))\n",
    "y_hat = clf.predict(x_test)\n",
    "precision = sum(y_hat == y_test.ravel())/y_test.shape[0]\n",
    "print(precision)"
   ]
  },
  {
   "cell_type": "code",
   "execution_count": 66,
   "id": "usual-telescope",
   "metadata": {
    "collapsed": true
   },
   "outputs": [
    {
     "name": "stdout",
     "output_type": "stream",
     "text": [
      "decision_function:\n",
      " [[ 1.52816854  1.42157481  0.49205798]\n",
      " [-1.38322749 -1.0002979   1.02057839]\n",
      " [-1.57507166 -1.62326822  0.02263046]\n",
      " [ 0.97634015  1.07214827  0.75178206]\n",
      " [ 1.39264628  1.33948373  0.59840268]\n",
      " [-1.3505309  -1.57806657 -0.72679485]\n",
      " [ 1.66311679  1.5037671   0.45142932]\n",
      " [-1.21427773 -1.25094913 -0.17738387]\n",
      " [-1.15322624 -1.41005748 -1.000471  ]\n",
      " [-1.22072396 -1.54007215 -1.05075893]\n",
      " [-1.01655286 -0.79371958  0.67488482]\n",
      " [-1.04158477 -1.37332303 -1.25817636]\n",
      " [-1.11908914 -1.1088538  -0.02581729]\n",
      " [ 1.50412516  1.41950368  0.10637624]\n",
      " [-1.67239725 -1.34719466  1.01746953]\n",
      " [-1.43900169 -1.59813776 -0.44602503]\n",
      " [-1.3505309  -1.57806657 -0.72679485]\n",
      " [-0.56819538  0.11389186  1.07197655]\n",
      " [-0.94983857 -1.13629004 -0.89272135]\n",
      " [-1.11889819 -0.6489503   1.13061849]\n",
      " [ 0.99963421  0.9623388  -0.06885336]\n",
      " [ 1.0005862   1.05885725  0.71983568]\n",
      " [ 1.47079895  1.42564981 -0.13330034]\n",
      " [-1.04158477 -1.37332303 -1.25817636]\n",
      " [ 1.32136658  1.30357787  0.51074623]\n",
      " [-1.4758653  -1.35126437  0.44632579]\n",
      " [-1.56151304 -1.66506554 -0.11593329]\n",
      " [-0.99960602 -0.94575428  0.12326874]\n",
      " [ 1.10281235  1.06688852  0.29123844]\n",
      " [ 0.99478724  1.00025511  0.5363584 ]\n",
      " [-1.28646602 -1.05620378  0.69750567]\n",
      " [ 1.0005862   1.05885725  0.71983568]\n",
      " [-0.7761709  -1.16943109 -0.92522944]\n",
      " [-1.39595898 -1.45281371 -0.16409426]\n",
      " [-0.60283328 -1.00029794 -0.99965714]\n",
      " [-1.29112477 -1.59775077 -0.92236045]\n",
      " [-1.63252768 -1.54502994  0.59676564]\n",
      " [-0.71943493 -0.87602867 -0.87401897]\n",
      " [-0.62734319 -1.00676297 -1.32129245]\n",
      " [-0.69020524 -0.4877185   0.6470186 ]\n",
      " [ 0.99963411  1.00014309 -0.59125977]\n",
      " [-1.28646602 -1.05620378  0.69750567]\n",
      " [ 0.14942816  0.70699197  0.63343674]\n",
      " [-1.22905386 -0.69982924  1.19189683]\n",
      " [-1.12117307 -1.49594286 -1.15561219]\n",
      " [ 1.29022988  1.23709951  0.47625054]\n",
      " [-1.31574297 -1.62052267 -0.72063035]\n",
      " [ 1.40253082  1.32315421  0.3911764 ]\n",
      " [ 1.52816854  1.42157481  0.49205798]\n",
      " [-0.80508178 -0.99980237 -1.00047108]\n",
      " [-0.85530285 -0.59812828  0.7736006 ]\n",
      " [-1.10368319 -1.46009759 -1.21579048]\n",
      " [ 1.15743574  1.14011704  0.56247878]\n",
      " [ 1.44583064  1.36344382  0.18094469]\n",
      " [-0.6757992  -0.68617841 -0.17656281]\n",
      " [ 1.34396933  1.31776482  0.60319542]\n",
      " [-1.28646602 -1.05620378  0.69750567]\n",
      " [ 1.13974932  1.17071247  0.69336724]\n",
      " [-1.3505309  -1.57806657 -0.72679485]\n",
      " [-0.08994223  0.42948766  0.99280408]\n",
      " [ 1.47056945  1.38979782  0.55620317]\n",
      " [-1.13155315 -1.34774348 -0.89140943]\n",
      " [ 1.34332007  1.30169164  0.44030577]\n",
      " [-0.5156381  -0.36393349  0.51443119]\n",
      " [ 1.18559586  1.23580879  0.53367591]\n",
      " [-1.22905386 -0.69982924  1.19189683]\n",
      " [-0.88234648 -0.03840671  1.00028398]\n",
      " [ 1.26195486  1.20616717  0.35037768]\n",
      " [ 0.82903571  0.95163392  0.78752632]\n",
      " [-0.25613259  0.34254575  1.00031544]\n",
      " [ 1.76575487  1.56884625  0.34074203]\n",
      " [-0.99960602 -0.94575428  0.12326874]\n",
      " [-1.33778976 -1.34278089 -0.01524447]\n",
      " [ 1.29022988  1.23709951  0.47625054]\n",
      " [-1.22072396 -1.54007215 -1.05075893]\n",
      " [-0.86145362 -0.68902409  0.53845863]\n",
      " [-1.64266661 -1.45661096  0.81546581]\n",
      " [-1.00024852 -1.39798133 -1.26270486]\n",
      " [-1.28646602 -1.05620378  0.69750567]\n",
      " [ 0.59207756  0.6034737   0.22571354]\n",
      " [ 0.66182701  0.80776686  0.80776795]\n",
      " [-1.60211481 -1.49591933  0.45959095]\n",
      " [-1.44487563 -1.41491078  0.1478371 ]\n",
      " [-0.9344004  -1.34468541 -1.10386087]\n",
      " [-1.28001218 -0.95046357  0.91906575]\n",
      " [-1.5115339  -1.59130038 -0.14290597]\n",
      " [-1.24812669 -1.44943799 -0.75501756]\n",
      " [-1.64300055 -1.62345661  0.33493553]\n",
      " [-1.22072396 -1.54007215 -1.05075893]\n",
      " [ 1.59853884  1.47657924  0.33858993]]\n",
      "\n",
      "predict:\n",
      " [0. 1. 1. 0. 0. 2. 0. 2. 2. 2. 1. 2. 2. 0. 1. 2. 2. 1. 2. 1. 0. 0. 0. 2.\n",
      " 0. 1. 2. 1. 0. 0. 1. 0. 2. 2. 2. 2. 1. 2. 2. 1. 0. 1. 0. 1. 2. 0. 2. 0.\n",
      " 0. 2. 1. 2. 0. 0. 2. 0. 1. 0. 2. 1. 0. 2. 0. 1. 0. 1. 1. 0. 0. 1. 0. 1.\n",
      " 2. 0. 2. 1. 1. 2. 1. 0. 0. 1. 1. 2. 1. 2. 2. 1. 2. 0.]\n"
     ]
    }
   ],
   "source": [
    "print('decision_function:\\n', clf.decision_function(x_train))\n",
    "print('\\npredict:\\n', clf.predict(x_train))"
   ]
  },
  {
   "cell_type": "code",
   "execution_count": 67,
   "id": "brave-campbell",
   "metadata": {},
   "outputs": [],
   "source": [
    "x1_min, x1_max = x[:, 0].min(), x[:, 0].max()  # 第0列的范围\n",
    "x2_min, x2_max = x[:, 1].min(), x[:, 1].max()  # 第1列的范围\n",
    "x1, x2 = np.mgrid[x1_min:x1_max:200j, x2_min:x2_max:200j]  # 生成网格采样点\n",
    "grid_test = np.stack((x1.flat, x2.flat), axis=1)  # 测试点\n",
    "grid_hat = clf.predict(grid_test)       # 预测分类值\n",
    "grid_hat = grid_hat.reshape(x1.shape)  # 使之与输入的形状相同"
   ]
  },
  {
   "cell_type": "code",
   "execution_count": 68,
   "id": "trying-typing",
   "metadata": {},
   "outputs": [],
   "source": [
    "mpl.rcParams['font.sans-serif'] = [u'SimHei']\n",
    "mpl.rcParams['axes.unicode_minus'] = False"
   ]
  },
  {
   "cell_type": "code",
   "execution_count": 71,
   "id": "charged-stationery",
   "metadata": {},
   "outputs": [],
   "source": [
    "x1 = iris.data\n",
    "y1 = iris.target"
   ]
  },
  {
   "cell_type": "code",
   "execution_count": 72,
   "id": "surprised-destiny",
   "metadata": {},
   "outputs": [
    {
     "data": {
      "text/plain": [
       "array(['setosa', 'versicolor', 'virginica'], dtype='<U10')"
      ]
     },
     "execution_count": 72,
     "metadata": {},
     "output_type": "execute_result"
    }
   ],
   "source": [
    "iris.target_names"
   ]
  },
  {
   "cell_type": "code",
   "execution_count": 73,
   "id": "enabling-climb",
   "metadata": {},
   "outputs": [
    {
     "data": {
      "image/png": "[encoded data removed]",
      "text/plain": [
       "<Figure size 432x288 with 1 Axes>"
      ]
     },
     "metadata": {
      "needs_background": "light"
     },
     "output_type": "display_data"
    }
   ],
   "source": [
    "colors = ['red', 'black', 'orange']\n",
    "\n",
    "plt.figure()\n",
    "for i in [0, 1, 2]:\n",
    "    plt.scatter(x1[y1 == i, 0]\n",
    "                ,x1[y1 == i, 1]\n",
    "                ,alpha=.7\n",
    "                ,c=colors[i]\n",
    "                ,label=iris.target_names[i]\n",
    "               )\n",
    "plt.legend()\n",
    "plt.title('IRIS dataset')\n",
    "plt.show()"
   ]
  },
  {
   "cell_type": "code",
   "execution_count": 69,
   "id": "cardiac-producer",
   "metadata": {},
   "outputs": [
    {
     "name": "stderr",
     "output_type": "stream",
     "text": [
      "D:\\Program Files (x86)\\Python36\\lib\\site-packages\\ipykernel_launcher.py:3: MatplotlibDeprecationWarning: shading='flat' when X and Y have the same dimensions as C is deprecated since 3.3.  Either specify the corners of the quadrilaterals with X and Y, or pass shading='auto', 'nearest' or 'gouraud', or set rcParams['pcolor.shading'].  This will become an error two minor releases later.\n",
      "  This is separate from the ipykernel package so we can avoid doing imports until\n"
     ]
    },
    {
     "data": {
      "image/png": "[encoded data removed]",
      "text/plain": [
       "<Figure size 432x288 with 1 Axes>"
      ]
     },
     "metadata": {
      "needs_background": "light"
     },
     "output_type": "display_data"
    }
   ],
   "source": [
    "cm_light = mpl.colors.ListedColormap(['#A0FFA0', '#FFA0A0', '#A0A0FF'])\n",
    "cm_dark = mpl.colors.ListedColormap(['g', 'r', 'b'])\n",
    "plt.pcolormesh(x1, x2, grid_hat, cmap=cm_light)\n",
    "plt.scatter(x[:, 0], x[:, 1], c=y, edgecolors='k', s=50, cmap=cm_dark)  # 样本\n",
    "plt.scatter(x_test[:, 0], x_test[:, 1], s=120, facecolors='none', zorder=10)  # 圈中测试集样本\n",
    "plt.xlabel(u'花萼长度', fontsize=13)\n",
    "plt.ylabel(u'花萼宽度', fontsize=13)\n",
    "plt.xlim(x1_min, x1_max)\n",
    "plt.ylim(x2_min, x2_max)\n",
    "plt.title(u'鸢尾花SVM二特征分类', fontsize=15)\n",
    "# plt.grid()\n",
    "plt.show()"
   ]
  },
  {
   "cell_type": "code",
   "execution_count": null,
   "id": "willing-agency",
   "metadata": {},
   "outputs": [],
   "source": []
  },
  {
   "cell_type": "code",
   "execution_count": null,
   "id": "greek-craps",
   "metadata": {},
   "outputs": [],
   "source": []
  },
  {
   "cell_type": "code",
   "execution_count": null,
   "id": "pressed-empire",
   "metadata": {},
   "outputs": [],
   "source": []
  },
  {
   "cell_type": "code",
   "execution_count": null,
   "id": "ceramic-basin",
   "metadata": {},
   "outputs": [],
   "source": []
  },
  {
   "cell_type": "code",
   "execution_count": null,
   "id": "oriental-fellow",
   "metadata": {},
   "outputs": [],
   "source": []
  },
  {
   "cell_type": "code",
   "execution_count": 1,
   "id": "invalid-vanilla",
   "metadata": {},
   "outputs": [],
   "source": [
    "from sklearn import tree\n",
    "from sklearn.model_selection import train_test_split\n",
    "import numpy as np\n",
    "import pandas as pd\n",
    "from sklearn.datasets import load_iris\n",
    "import matplotlib as mpl\n",
    "import matplotlib.pyplot as plt"
   ]
  },
  {
   "cell_type": "code",
   "execution_count": 2,
   "id": "vulnerable-venezuela",
   "metadata": {},
   "outputs": [],
   "source": [
    "iris = load_iris()"
   ]
  },
  {
   "cell_type": "code",
   "execution_count": 3,
   "id": "serious-raise",
   "metadata": {},
   "outputs": [],
   "source": [
    "Xtrain,Xtest,Ytrain,Ytest = train_test_split(iris.data,iris.target,test_size=0.3)  #分为训练集与测试集，测试集占30%"
   ]
  },
  {
   "cell_type": "code",
   "execution_count": 4,
   "id": "noticed-contribution",
   "metadata": {},
   "outputs": [
    {
     "name": "stdout",
     "output_type": "stream",
     "text": [
      "(105, 4)\n",
      "(45, 4)\n"
     ]
    }
   ],
   "source": [
    "print(Xtrain.shape)\n",
    "print(Xtest.shape)"
   ]
  },
  {
   "cell_type": "code",
   "execution_count": 10,
   "id": "becoming-repository",
   "metadata": {},
   "outputs": [
    {
     "data": {
      "text/plain": [
       "0.9111111111111111"
      ]
     },
     "execution_count": 10,
     "metadata": {},
     "output_type": "execute_result"
    }
   ],
   "source": [
    "clf = tree.DecisionTreeClassifier(criterion = \"entropy\")   #第一步：实例化   注：criterion默认是gini系数，当然可以将其修改为信息熵entropy\n",
    "clf = clf.fit(Xtrain,Ytrain) #第二步：训练\n",
    "score = clf.score(Xtest,Ytest)  #第三步：返回预测的准确度accuracy\n",
    "score"
   ]
  },
  {
   "cell_type": "code",
   "execution_count": 9,
   "id": "casual-stamp",
   "metadata": {},
   "outputs": [
    {
     "data": {
      "text/plain": [
       "0.9111111111111111"
      ]
     },
     "execution_count": 9,
     "metadata": {},
     "output_type": "execute_result"
    }
   ],
   "source": [
    "clf = tree.DecisionTreeClassifier(criterion = \"entropy\"\n",
    "                                  ,random_state=20\n",
    "                                  ,splitter=\"random\"\n",
    "                                 )   #第一步：实例化  \n",
    "clf = clf.fit(Xtrain,Ytrain) #第二步：训练\n",
    "score = clf.score(Xtest,Ytest)  #第三步：返回预测的准确度accuracy\n",
    "\n",
    "score"
   ]
  },
  {
   "cell_type": "code",
   "execution_count": 6,
   "id": "joint-bruce",
   "metadata": {},
   "outputs": [
    {
     "data": {
      "text/plain": [
       "array([0.01951378, 0.01656592, 0.8946178 , 0.06930251])"
      ]
     },
     "execution_count": 6,
     "metadata": {},
     "output_type": "execute_result"
    }
   ],
   "source": [
    "clf.feature_importances_ #查看各个属性的重要程度"
   ]
  },
  {
   "cell_type": "code",
   "execution_count": 7,
   "id": "polar-interpretation",
   "metadata": {},
   "outputs": [
    {
     "data": {
      "text/plain": [
       "[('sepal length (cm)', 0.019513777218548113),\n",
       " ('sepal width (cm)', 0.016565915978327485),\n",
       " ('petal length (cm)', 0.8946177971496144),\n",
       " ('petal width (cm)', 0.06930250965350987)]"
      ]
     },
     "execution_count": 7,
     "metadata": {},
     "output_type": "execute_result"
    }
   ],
   "source": [
    "[*zip(iris.feature_names,clf.feature_importances_)]  #连成元组"
   ]
  },
  {
   "cell_type": "code",
   "execution_count": 8,
   "id": "curious-appraisal",
   "metadata": {
    "collapsed": true
   },
   "outputs": [
    {
     "data": {
      "image/svg+xml": [
       "<?xml version=\"1.0\" encoding=\"UTF-8\" standalone=\"no\"?>\r\n",
       "<!DOCTYPE svg PUBLIC \"-//W3C//DTD SVG 1.1//EN\"\r\n",
       " \"http://www.w3.org/Graphics/SVG/1.1/DTD/svg11.dtd\">\r\n",
       "<!-- Generated by graphviz version 2.47.0 (20210316.0004)\r\n",
       " -->\r\n",
       "<!-- Title: Tree Pages: 1 -->\r\n",
       "<svg width=\"653pt\" height=\"552pt\"\r\n",
       " viewBox=\"0.00 0.00 653.00 552.00\" xmlns=\"http://www.w3.org/2000/svg\" xmlns:xlink=\"http://www.w3.org/1999/xlink\">\r\n",
       "<g id=\"graph0\" class=\"graph\" transform=\"scale(1 1) rotate(0) translate(4 548)\">\r\n",
       "<title>Tree</title>\r\n",
       "<polygon fill=\"white\" stroke=\"transparent\" points=\"-4,4 -4,-548 649,-548 649,4 -4,4\"/>\r\n",
       "<!-- 0 -->\r\n",
       "<g id=\"node1\" class=\"node\">\r\n",
       "<title>0</title>\r\n",
       "<path fill=\"#fefaf7\" stroke=\"black\" d=\"M309.5,-544C309.5,-544 167.5,-544 167.5,-544 161.5,-544 155.5,-538 155.5,-532 155.5,-532 155.5,-473 155.5,-473 155.5,-467 161.5,-461 167.5,-461 167.5,-461 309.5,-461 309.5,-461 315.5,-461 321.5,-467 321.5,-473 321.5,-473 321.5,-532 321.5,-532 321.5,-538 315.5,-544 309.5,-544\"/>\r\n",
       "<text text-anchor=\"middle\" x=\"238.5\" y=\"-528.8\" font-family=\"Helvetica,sans-Serif\" font-size=\"14.00\">petal length (cm) &lt;= 2.6</text>\r\n",
       "<text text-anchor=\"middle\" x=\"238.5\" y=\"-513.8\" font-family=\"Helvetica,sans-Serif\" font-size=\"14.00\">entropy = 1.584</text>\r\n",
       "<text text-anchor=\"middle\" x=\"238.5\" y=\"-498.8\" font-family=\"Helvetica,sans-Serif\" font-size=\"14.00\">samples = 105</text>\r\n",
       "<text text-anchor=\"middle\" x=\"238.5\" y=\"-483.8\" font-family=\"Helvetica,sans-Serif\" font-size=\"14.00\">value = [37, 34, 34]</text>\r\n",
       "<text text-anchor=\"middle\" x=\"238.5\" y=\"-468.8\" font-family=\"Helvetica,sans-Serif\" font-size=\"14.00\">class = setosa</text>\r\n",
       "</g>\r\n",
       "<!-- 1 -->\r\n",
       "<g id=\"node2\" class=\"node\">\r\n",
       "<title>1</title>\r\n",
       "<path fill=\"#e58139\" stroke=\"black\" d=\"M204,-417.5C204,-417.5 107,-417.5 107,-417.5 101,-417.5 95,-411.5 95,-405.5 95,-405.5 95,-361.5 95,-361.5 95,-355.5 101,-349.5 107,-349.5 107,-349.5 204,-349.5 204,-349.5 210,-349.5 216,-355.5 216,-361.5 216,-361.5 216,-405.5 216,-405.5 216,-411.5 210,-417.5 204,-417.5\"/>\r\n",
       "<text text-anchor=\"middle\" x=\"155.5\" y=\"-402.3\" font-family=\"Helvetica,sans-Serif\" font-size=\"14.00\">entropy = 0.0</text>\r\n",
       "<text text-anchor=\"middle\" x=\"155.5\" y=\"-387.3\" font-family=\"Helvetica,sans-Serif\" font-size=\"14.00\">samples = 37</text>\r\n",
       "<text text-anchor=\"middle\" x=\"155.5\" y=\"-372.3\" font-family=\"Helvetica,sans-Serif\" font-size=\"14.00\">value = [37, 0, 0]</text>\r\n",
       "<text text-anchor=\"middle\" x=\"155.5\" y=\"-357.3\" font-family=\"Helvetica,sans-Serif\" font-size=\"14.00\">class = setosa</text>\r\n",
       "</g>\r\n",
       "<!-- 0&#45;&gt;1 -->\r\n",
       "<g id=\"edge1\" class=\"edge\">\r\n",
       "<title>0&#45;&gt;1</title>\r\n",
       "<path fill=\"none\" stroke=\"black\" d=\"M209.7,-460.91C201.72,-449.65 193.04,-437.42 185.02,-426.11\"/>\r\n",
       "<polygon fill=\"black\" stroke=\"black\" points=\"187.67,-423.8 179.03,-417.67 181.96,-427.85 187.67,-423.8\"/>\r\n",
       "<text text-anchor=\"middle\" x=\"174.84\" y=\"-438.61\" font-family=\"Helvetica,sans-Serif\" font-size=\"14.00\">True</text>\r\n",
       "</g>\r\n",
       "<!-- 2 -->\r\n",
       "<g id=\"node3\" class=\"node\">\r\n",
       "<title>2</title>\r\n",
       "<path fill=\"#ffffff\" stroke=\"black\" d=\"M396.5,-425C396.5,-425 246.5,-425 246.5,-425 240.5,-425 234.5,-419 234.5,-413 234.5,-413 234.5,-354 234.5,-354 234.5,-348 240.5,-342 246.5,-342 246.5,-342 396.5,-342 396.5,-342 402.5,-342 408.5,-348 408.5,-354 408.5,-354 408.5,-413 408.5,-413 408.5,-419 402.5,-425 396.5,-425\"/>\r\n",
       "<text text-anchor=\"middle\" x=\"321.5\" y=\"-409.8\" font-family=\"Helvetica,sans-Serif\" font-size=\"14.00\">petal length (cm) &lt;= 4.85</text>\r\n",
       "<text text-anchor=\"middle\" x=\"321.5\" y=\"-394.8\" font-family=\"Helvetica,sans-Serif\" font-size=\"14.00\">entropy = 1.0</text>\r\n",
       "<text text-anchor=\"middle\" x=\"321.5\" y=\"-379.8\" font-family=\"Helvetica,sans-Serif\" font-size=\"14.00\">samples = 68</text>\r\n",
       "<text text-anchor=\"middle\" x=\"321.5\" y=\"-364.8\" font-family=\"Helvetica,sans-Serif\" font-size=\"14.00\">value = [0, 34, 34]</text>\r\n",
       "<text text-anchor=\"middle\" x=\"321.5\" y=\"-349.8\" font-family=\"Helvetica,sans-Serif\" font-size=\"14.00\">class = versicolor</text>\r\n",
       "</g>\r\n",
       "<!-- 0&#45;&gt;2 -->\r\n",
       "<g id=\"edge2\" class=\"edge\">\r\n",
       "<title>0&#45;&gt;2</title>\r\n",
       "<path fill=\"none\" stroke=\"black\" d=\"M267.3,-460.91C273.61,-452.01 280.35,-442.51 286.86,-433.33\"/>\r\n",
       "<polygon fill=\"black\" stroke=\"black\" points=\"289.82,-435.2 292.75,-425.02 284.11,-431.15 289.82,-435.2\"/>\r\n",
       "<text text-anchor=\"middle\" x=\"296.94\" y=\"-445.97\" font-family=\"Helvetica,sans-Serif\" font-size=\"14.00\">False</text>\r\n",
       "</g>\r\n",
       "<!-- 3 -->\r\n",
       "<g id=\"node4\" class=\"node\">\r\n",
       "<title>3</title>\r\n",
       "<path fill=\"#45e789\" stroke=\"black\" d=\"M299.5,-306C299.5,-306 155.5,-306 155.5,-306 149.5,-306 143.5,-300 143.5,-294 143.5,-294 143.5,-235 143.5,-235 143.5,-229 149.5,-223 155.5,-223 155.5,-223 299.5,-223 299.5,-223 305.5,-223 311.5,-229 311.5,-235 311.5,-235 311.5,-294 311.5,-294 311.5,-300 305.5,-306 299.5,-306\"/>\r\n",
       "<text text-anchor=\"middle\" x=\"227.5\" y=\"-290.8\" font-family=\"Helvetica,sans-Serif\" font-size=\"14.00\">petal width (cm) &lt;= 1.65</text>\r\n",
       "<text text-anchor=\"middle\" x=\"227.5\" y=\"-275.8\" font-family=\"Helvetica,sans-Serif\" font-size=\"14.00\">entropy = 0.316</text>\r\n",
       "<text text-anchor=\"middle\" x=\"227.5\" y=\"-260.8\" font-family=\"Helvetica,sans-Serif\" font-size=\"14.00\">samples = 35</text>\r\n",
       "<text text-anchor=\"middle\" x=\"227.5\" y=\"-245.8\" font-family=\"Helvetica,sans-Serif\" font-size=\"14.00\">value = [0, 33, 2]</text>\r\n",
       "<text text-anchor=\"middle\" x=\"227.5\" y=\"-230.8\" font-family=\"Helvetica,sans-Serif\" font-size=\"14.00\">class = versicolor</text>\r\n",
       "</g>\r\n",
       "<!-- 2&#45;&gt;3 -->\r\n",
       "<g id=\"edge3\" class=\"edge\">\r\n",
       "<title>2&#45;&gt;3</title>\r\n",
       "<path fill=\"none\" stroke=\"black\" d=\"M288.89,-341.91C281.67,-332.92 273.95,-323.32 266.51,-314.05\"/>\r\n",
       "<polygon fill=\"black\" stroke=\"black\" points=\"269.05,-311.62 260.06,-306.02 263.59,-316.01 269.05,-311.62\"/>\r\n",
       "</g>\r\n",
       "<!-- 8 -->\r\n",
       "<g id=\"node9\" class=\"node\">\r\n",
       "<title>8</title>\r\n",
       "<path fill=\"#853fe6\" stroke=\"black\" d=\"M484.5,-306C484.5,-306 348.5,-306 348.5,-306 342.5,-306 336.5,-300 336.5,-294 336.5,-294 336.5,-235 336.5,-235 336.5,-229 342.5,-223 348.5,-223 348.5,-223 484.5,-223 484.5,-223 490.5,-223 496.5,-229 496.5,-235 496.5,-235 496.5,-294 496.5,-294 496.5,-300 490.5,-306 484.5,-306\"/>\r\n",
       "<text text-anchor=\"middle\" x=\"416.5\" y=\"-290.8\" font-family=\"Helvetica,sans-Serif\" font-size=\"14.00\">petal width (cm) &lt;= 1.7</text>\r\n",
       "<text text-anchor=\"middle\" x=\"416.5\" y=\"-275.8\" font-family=\"Helvetica,sans-Serif\" font-size=\"14.00\">entropy = 0.196</text>\r\n",
       "<text text-anchor=\"middle\" x=\"416.5\" y=\"-260.8\" font-family=\"Helvetica,sans-Serif\" font-size=\"14.00\">samples = 33</text>\r\n",
       "<text text-anchor=\"middle\" x=\"416.5\" y=\"-245.8\" font-family=\"Helvetica,sans-Serif\" font-size=\"14.00\">value = [0, 1, 32]</text>\r\n",
       "<text text-anchor=\"middle\" x=\"416.5\" y=\"-230.8\" font-family=\"Helvetica,sans-Serif\" font-size=\"14.00\">class = virginica</text>\r\n",
       "</g>\r\n",
       "<!-- 2&#45;&gt;8 -->\r\n",
       "<g id=\"edge8\" class=\"edge\">\r\n",
       "<title>2&#45;&gt;8</title>\r\n",
       "<path fill=\"none\" stroke=\"black\" d=\"M354.46,-341.91C361.75,-332.92 369.56,-323.32 377.08,-314.05\"/>\r\n",
       "<polygon fill=\"black\" stroke=\"black\" points=\"380.01,-315.99 383.6,-306.02 374.58,-311.58 380.01,-315.99\"/>\r\n",
       "</g>\r\n",
       "<!-- 4 -->\r\n",
       "<g id=\"node5\" class=\"node\">\r\n",
       "<title>4</title>\r\n",
       "<path fill=\"#39e581\" stroke=\"black\" d=\"M115,-179.5C115,-179.5 12,-179.5 12,-179.5 6,-179.5 0,-173.5 0,-167.5 0,-167.5 0,-123.5 0,-123.5 0,-117.5 6,-111.5 12,-111.5 12,-111.5 115,-111.5 115,-111.5 121,-111.5 127,-117.5 127,-123.5 127,-123.5 127,-167.5 127,-167.5 127,-173.5 121,-179.5 115,-179.5\"/>\r\n",
       "<text text-anchor=\"middle\" x=\"63.5\" y=\"-164.3\" font-family=\"Helvetica,sans-Serif\" font-size=\"14.00\">entropy = 0.0</text>\r\n",
       "<text text-anchor=\"middle\" x=\"63.5\" y=\"-149.3\" font-family=\"Helvetica,sans-Serif\" font-size=\"14.00\">samples = 32</text>\r\n",
       "<text text-anchor=\"middle\" x=\"63.5\" y=\"-134.3\" font-family=\"Helvetica,sans-Serif\" font-size=\"14.00\">value = [0, 32, 0]</text>\r\n",
       "<text text-anchor=\"middle\" x=\"63.5\" y=\"-119.3\" font-family=\"Helvetica,sans-Serif\" font-size=\"14.00\">class = versicolor</text>\r\n",
       "</g>\r\n",
       "<!-- 3&#45;&gt;4 -->\r\n",
       "<g id=\"edge4\" class=\"edge\">\r\n",
       "<title>3&#45;&gt;4</title>\r\n",
       "<path fill=\"none\" stroke=\"black\" d=\"M170.6,-222.91C153.74,-210.88 135.32,-197.73 118.57,-185.79\"/>\r\n",
       "<polygon fill=\"black\" stroke=\"black\" points=\"120.16,-182.63 109.99,-179.67 116.1,-188.32 120.16,-182.63\"/>\r\n",
       "</g>\r\n",
       "<!-- 5 -->\r\n",
       "<g id=\"node6\" class=\"node\">\r\n",
       "<title>5</title>\r\n",
       "<path fill=\"#c09cf2\" stroke=\"black\" d=\"M297.5,-187C297.5,-187 157.5,-187 157.5,-187 151.5,-187 145.5,-181 145.5,-175 145.5,-175 145.5,-116 145.5,-116 145.5,-110 151.5,-104 157.5,-104 157.5,-104 297.5,-104 297.5,-104 303.5,-104 309.5,-110 309.5,-116 309.5,-116 309.5,-175 309.5,-175 309.5,-181 303.5,-187 297.5,-187\"/>\r\n",
       "<text text-anchor=\"middle\" x=\"227.5\" y=\"-171.8\" font-family=\"Helvetica,sans-Serif\" font-size=\"14.00\">sepal width (cm) &lt;= 3.0</text>\r\n",
       "<text text-anchor=\"middle\" x=\"227.5\" y=\"-156.8\" font-family=\"Helvetica,sans-Serif\" font-size=\"14.00\">entropy = 0.918</text>\r\n",
       "<text text-anchor=\"middle\" x=\"227.5\" y=\"-141.8\" font-family=\"Helvetica,sans-Serif\" font-size=\"14.00\">samples = 3</text>\r\n",
       "<text text-anchor=\"middle\" x=\"227.5\" y=\"-126.8\" font-family=\"Helvetica,sans-Serif\" font-size=\"14.00\">value = [0, 1, 2]</text>\r\n",
       "<text text-anchor=\"middle\" x=\"227.5\" y=\"-111.8\" font-family=\"Helvetica,sans-Serif\" font-size=\"14.00\">class = virginica</text>\r\n",
       "</g>\r\n",
       "<!-- 3&#45;&gt;5 -->\r\n",
       "<g id=\"edge5\" class=\"edge\">\r\n",
       "<title>3&#45;&gt;5</title>\r\n",
       "<path fill=\"none\" stroke=\"black\" d=\"M227.5,-222.91C227.5,-214.65 227.5,-205.86 227.5,-197.3\"/>\r\n",
       "<polygon fill=\"black\" stroke=\"black\" points=\"231,-197.02 227.5,-187.02 224,-197.02 231,-197.02\"/>\r\n",
       "</g>\r\n",
       "<!-- 6 -->\r\n",
       "<g id=\"node7\" class=\"node\">\r\n",
       "<title>6</title>\r\n",
       "<path fill=\"#8139e5\" stroke=\"black\" d=\"M144.5,-68C144.5,-68 52.5,-68 52.5,-68 46.5,-68 40.5,-62 40.5,-56 40.5,-56 40.5,-12 40.5,-12 40.5,-6 46.5,0 52.5,0 52.5,0 144.5,0 144.5,0 150.5,0 156.5,-6 156.5,-12 156.5,-12 156.5,-56 156.5,-56 156.5,-62 150.5,-68 144.5,-68\"/>\r\n",
       "<text text-anchor=\"middle\" x=\"98.5\" y=\"-52.8\" font-family=\"Helvetica,sans-Serif\" font-size=\"14.00\">entropy = 0.0</text>\r\n",
       "<text text-anchor=\"middle\" x=\"98.5\" y=\"-37.8\" font-family=\"Helvetica,sans-Serif\" font-size=\"14.00\">samples = 2</text>\r\n",
       "<text text-anchor=\"middle\" x=\"98.5\" y=\"-22.8\" font-family=\"Helvetica,sans-Serif\" font-size=\"14.00\">value = [0, 0, 2]</text>\r\n",
       "<text text-anchor=\"middle\" x=\"98.5\" y=\"-7.8\" font-family=\"Helvetica,sans-Serif\" font-size=\"14.00\">class = virginica</text>\r\n",
       "</g>\r\n",
       "<!-- 5&#45;&gt;6 -->\r\n",
       "<g id=\"edge6\" class=\"edge\">\r\n",
       "<title>5&#45;&gt;6</title>\r\n",
       "<path fill=\"none\" stroke=\"black\" d=\"M179.47,-103.73C168.4,-94.33 156.64,-84.35 145.61,-74.99\"/>\r\n",
       "<polygon fill=\"black\" stroke=\"black\" points=\"147.62,-72.1 137.73,-68.3 143.09,-77.44 147.62,-72.1\"/>\r\n",
       "</g>\r\n",
       "<!-- 7 -->\r\n",
       "<g id=\"node8\" class=\"node\">\r\n",
       "<title>7</title>\r\n",
       "<path fill=\"#39e581\" stroke=\"black\" d=\"M290,-68C290,-68 187,-68 187,-68 181,-68 175,-62 175,-56 175,-56 175,-12 175,-12 175,-6 181,0 187,0 187,0 290,0 290,0 296,0 302,-6 302,-12 302,-12 302,-56 302,-56 302,-62 296,-68 290,-68\"/>\r\n",
       "<text text-anchor=\"middle\" x=\"238.5\" y=\"-52.8\" font-family=\"Helvetica,sans-Serif\" font-size=\"14.00\">entropy = 0.0</text>\r\n",
       "<text text-anchor=\"middle\" x=\"238.5\" y=\"-37.8\" font-family=\"Helvetica,sans-Serif\" font-size=\"14.00\">samples = 1</text>\r\n",
       "<text text-anchor=\"middle\" x=\"238.5\" y=\"-22.8\" font-family=\"Helvetica,sans-Serif\" font-size=\"14.00\">value = [0, 1, 0]</text>\r\n",
       "<text text-anchor=\"middle\" x=\"238.5\" y=\"-7.8\" font-family=\"Helvetica,sans-Serif\" font-size=\"14.00\">class = versicolor</text>\r\n",
       "</g>\r\n",
       "<!-- 5&#45;&gt;7 -->\r\n",
       "<g id=\"edge7\" class=\"edge\">\r\n",
       "<title>5&#45;&gt;7</title>\r\n",
       "<path fill=\"none\" stroke=\"black\" d=\"M231.6,-103.73C232.43,-95.43 233.31,-86.67 234.15,-78.28\"/>\r\n",
       "<polygon fill=\"black\" stroke=\"black\" points=\"237.64,-78.6 235.15,-68.3 230.67,-77.9 237.64,-78.6\"/>\r\n",
       "</g>\r\n",
       "<!-- 9 -->\r\n",
       "<g id=\"node10\" class=\"node\">\r\n",
       "<title>9</title>\r\n",
       "<path fill=\"#ab7bee\" stroke=\"black\" d=\"M493.5,-187C493.5,-187 339.5,-187 339.5,-187 333.5,-187 327.5,-181 327.5,-175 327.5,-175 327.5,-116 327.5,-116 327.5,-110 333.5,-104 339.5,-104 339.5,-104 493.5,-104 493.5,-104 499.5,-104 505.5,-110 505.5,-116 505.5,-116 505.5,-175 505.5,-175 505.5,-181 499.5,-187 493.5,-187\"/>\r\n",
       "<text text-anchor=\"middle\" x=\"416.5\" y=\"-171.8\" font-family=\"Helvetica,sans-Serif\" font-size=\"14.00\">sepal length (cm) &lt;= 6.05</text>\r\n",
       "<text text-anchor=\"middle\" x=\"416.5\" y=\"-156.8\" font-family=\"Helvetica,sans-Serif\" font-size=\"14.00\">entropy = 0.811</text>\r\n",
       "<text text-anchor=\"middle\" x=\"416.5\" y=\"-141.8\" font-family=\"Helvetica,sans-Serif\" font-size=\"14.00\">samples = 4</text>\r\n",
       "<text text-anchor=\"middle\" x=\"416.5\" y=\"-126.8\" font-family=\"Helvetica,sans-Serif\" font-size=\"14.00\">value = [0, 1, 3]</text>\r\n",
       "<text text-anchor=\"middle\" x=\"416.5\" y=\"-111.8\" font-family=\"Helvetica,sans-Serif\" font-size=\"14.00\">class = virginica</text>\r\n",
       "</g>\r\n",
       "<!-- 8&#45;&gt;9 -->\r\n",
       "<g id=\"edge9\" class=\"edge\">\r\n",
       "<title>8&#45;&gt;9</title>\r\n",
       "<path fill=\"none\" stroke=\"black\" d=\"M416.5,-222.91C416.5,-214.65 416.5,-205.86 416.5,-197.3\"/>\r\n",
       "<polygon fill=\"black\" stroke=\"black\" points=\"420,-197.02 416.5,-187.02 413,-197.02 420,-197.02\"/>\r\n",
       "</g>\r\n",
       "<!-- 12 -->\r\n",
       "<g id=\"node13\" class=\"node\">\r\n",
       "<title>12</title>\r\n",
       "<path fill=\"#8139e5\" stroke=\"black\" d=\"M633,-179.5C633,-179.5 536,-179.5 536,-179.5 530,-179.5 524,-173.5 524,-167.5 524,-167.5 524,-123.5 524,-123.5 524,-117.5 530,-111.5 536,-111.5 536,-111.5 633,-111.5 633,-111.5 639,-111.5 645,-117.5 645,-123.5 645,-123.5 645,-167.5 645,-167.5 645,-173.5 639,-179.5 633,-179.5\"/>\r\n",
       "<text text-anchor=\"middle\" x=\"584.5\" y=\"-164.3\" font-family=\"Helvetica,sans-Serif\" font-size=\"14.00\">entropy = 0.0</text>\r\n",
       "<text text-anchor=\"middle\" x=\"584.5\" y=\"-149.3\" font-family=\"Helvetica,sans-Serif\" font-size=\"14.00\">samples = 29</text>\r\n",
       "<text text-anchor=\"middle\" x=\"584.5\" y=\"-134.3\" font-family=\"Helvetica,sans-Serif\" font-size=\"14.00\">value = [0, 0, 29]</text>\r\n",
       "<text text-anchor=\"middle\" x=\"584.5\" y=\"-119.3\" font-family=\"Helvetica,sans-Serif\" font-size=\"14.00\">class = virginica</text>\r\n",
       "</g>\r\n",
       "<!-- 8&#45;&gt;12 -->\r\n",
       "<g id=\"edge12\" class=\"edge\">\r\n",
       "<title>8&#45;&gt;12</title>\r\n",
       "<path fill=\"none\" stroke=\"black\" d=\"M474.79,-222.91C492.22,-210.77 511.28,-197.49 528.55,-185.46\"/>\r\n",
       "<polygon fill=\"black\" stroke=\"black\" points=\"530.67,-188.25 536.88,-179.67 526.67,-182.51 530.67,-188.25\"/>\r\n",
       "</g>\r\n",
       "<!-- 10 -->\r\n",
       "<g id=\"node11\" class=\"node\">\r\n",
       "<title>10</title>\r\n",
       "<path fill=\"#39e581\" stroke=\"black\" d=\"M457,-68C457,-68 354,-68 354,-68 348,-68 342,-62 342,-56 342,-56 342,-12 342,-12 342,-6 348,0 354,0 354,0 457,0 457,0 463,0 469,-6 469,-12 469,-12 469,-56 469,-56 469,-62 463,-68 457,-68\"/>\r\n",
       "<text text-anchor=\"middle\" x=\"405.5\" y=\"-52.8\" font-family=\"Helvetica,sans-Serif\" font-size=\"14.00\">entropy = 0.0</text>\r\n",
       "<text text-anchor=\"middle\" x=\"405.5\" y=\"-37.8\" font-family=\"Helvetica,sans-Serif\" font-size=\"14.00\">samples = 1</text>\r\n",
       "<text text-anchor=\"middle\" x=\"405.5\" y=\"-22.8\" font-family=\"Helvetica,sans-Serif\" font-size=\"14.00\">value = [0, 1, 0]</text>\r\n",
       "<text text-anchor=\"middle\" x=\"405.5\" y=\"-7.8\" font-family=\"Helvetica,sans-Serif\" font-size=\"14.00\">class = versicolor</text>\r\n",
       "</g>\r\n",
       "<!-- 9&#45;&gt;10 -->\r\n",
       "<g id=\"edge10\" class=\"edge\">\r\n",
       "<title>9&#45;&gt;10</title>\r\n",
       "<path fill=\"none\" stroke=\"black\" d=\"M412.4,-103.73C411.57,-95.43 410.69,-86.67 409.85,-78.28\"/>\r\n",
       "<polygon fill=\"black\" stroke=\"black\" points=\"413.33,-77.9 408.85,-68.3 406.36,-78.6 413.33,-77.9\"/>\r\n",
       "</g>\r\n",
       "<!-- 11 -->\r\n",
       "<g id=\"node12\" class=\"node\">\r\n",
       "<title>11</title>\r\n",
       "<path fill=\"#8139e5\" stroke=\"black\" d=\"M591.5,-68C591.5,-68 499.5,-68 499.5,-68 493.5,-68 487.5,-62 487.5,-56 487.5,-56 487.5,-12 487.5,-12 487.5,-6 493.5,0 499.5,0 499.5,0 591.5,0 591.5,0 597.5,0 603.5,-6 603.5,-12 603.5,-12 603.5,-56 603.5,-56 603.5,-62 597.5,-68 591.5,-68\"/>\r\n",
       "<text text-anchor=\"middle\" x=\"545.5\" y=\"-52.8\" font-family=\"Helvetica,sans-Serif\" font-size=\"14.00\">entropy = 0.0</text>\r\n",
       "<text text-anchor=\"middle\" x=\"545.5\" y=\"-37.8\" font-family=\"Helvetica,sans-Serif\" font-size=\"14.00\">samples = 3</text>\r\n",
       "<text text-anchor=\"middle\" x=\"545.5\" y=\"-22.8\" font-family=\"Helvetica,sans-Serif\" font-size=\"14.00\">value = [0, 0, 3]</text>\r\n",
       "<text text-anchor=\"middle\" x=\"545.5\" y=\"-7.8\" font-family=\"Helvetica,sans-Serif\" font-size=\"14.00\">class = virginica</text>\r\n",
       "</g>\r\n",
       "<!-- 9&#45;&gt;11 -->\r\n",
       "<g id=\"edge11\" class=\"edge\">\r\n",
       "<title>9&#45;&gt;11</title>\r\n",
       "<path fill=\"none\" stroke=\"black\" d=\"M464.53,-103.73C475.6,-94.33 487.36,-84.35 498.39,-74.99\"/>\r\n",
       "<polygon fill=\"black\" stroke=\"black\" points=\"500.91,-77.44 506.27,-68.3 496.38,-72.1 500.91,-77.44\"/>\r\n",
       "</g>\r\n",
       "</g>\r\n",
       "</svg>\r\n"
      ],
      "text/plain": [
       "<graphviz.files.Source at 0x27e7c11aa58>"
      ]
     },
     "execution_count": 8,
     "metadata": {},
     "output_type": "execute_result"
    }
   ],
   "source": [
    "import graphviz #可视化组件，需自己安装，配置环境变量等\n",
    "dot_data = tree.export_graphviz(clf\n",
    "                                ,feature_names = iris.feature_names\n",
    "                                ,class_names = iris.target_names\n",
    "                                ,filled=True\n",
    "                                ,rounded=True\n",
    "                                )\n",
    "graph = graphviz.Source(dot_data)\n",
    "graph"
   ]
  },
  {
   "cell_type": "code",
   "execution_count": null,
   "id": "demanding-marine",
   "metadata": {},
   "outputs": [],
   "source": []
  },
  {
   "cell_type": "code",
   "execution_count": null,
   "id": "strange-underground",
   "metadata": {},
   "outputs": [],
   "source": []
  },
  {
   "cell_type": "code",
   "execution_count": null,
   "id": "bibliographic-israeli",
   "metadata": {},
   "outputs": [],
   "source": []
  }
 ],
 "metadata": {
  "kernelspec": {
   "display_name": "Python 36",
   "language": "python",
   "name": "py3.6"
  },
  "language_info": {
   "codemirror_mode": {
    "name": "ipython",
    "version": 3
   },
   "file_extension": ".py",
   "mimetype": "text/x-python",
   "name": "python",
   "nbconvert_exporter": "python",
   "pygments_lexer": "ipython3",
   "version": "3.6.8"
  },
  "toc": {
   "base_numbering": 1,
   "nav_menu": {},
   "number_sections": true,
   "sideBar": true,
   "skip_h1_title": false,
   "title_cell": "Table of Contents",
   "title_sidebar": "Contents",
   "toc_cell": false,
   "toc_position": {},
   "toc_section_display": true,
   "toc_window_display": false
  }
 },
 "nbformat": 4,
 "nbformat_minor": 5
}
